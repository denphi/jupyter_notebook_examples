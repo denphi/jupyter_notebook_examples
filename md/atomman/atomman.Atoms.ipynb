{
 "cells": [
  {
   "cell_type": "markdown",
   "metadata": {},
   "source": [
    "# AtomMan Atoms Class"
   ]
  },
  {
   "cell_type": "markdown",
   "metadata": {},
   "source": [
    "**Lucas M. Hale**, [lucas.hale@nist.gov](mailto:lucas.hale@nist.gov?Subject=ipr-demo), *Materials Science and Engineering Division, NIST*.\n",
    "\n",
    "**Chandler A. Becker**, [chandler.becker@nist.gov](mailto:chandler.becker@nist.gov?Subject=ipr-demo), *Materials Science and Engineering Division, NIST*.\n",
    "\n",
    "**Zachary T. Trautt**, [zachary.trautt@nist.gov](mailto:zachary.trautt@nist.gov?Subject=ipr-demo), *Materials Measurement Science Division, NIST*.\n",
    "\n",
    "Version: 2016-03-31\n",
    "\n",
    "[Disclaimers](http://www.nist.gov/public_affairs/disclaimer.cfm)\n",
    "\n",
    "Return to the [main atomman page](https://github.com/usnistgov/atomman).\n",
    "\n",
    "## Introduction\n",
    "\n",
    "Class Atoms represents a dictionary of atomic properties.  All data is stored in a single numpy array to minimize memory cost, and properties can be accessed either with controlled methods that account for data types and units (Section 1), or directly through the use of numpy views (Section 2).\n",
    "\n",
    "The underlying code can be found in [atomman/core/Atoms.py](https://github.com/usnistgov/atomman/blob/master/atomman/core/Atoms.py).\n",
    "\n",
    "- - -"
   ]
  },
  {
   "cell_type": "markdown",
   "metadata": {},
   "source": [
    "__Library Imports__"
   ]
  },
  {
   "cell_type": "code",
   "execution_count": 1,
   "metadata": {
    "collapsed": false
   },
   "outputs": [],
   "source": [
    "#Standard library imports\n",
    "from collections import OrderedDict\n",
    "\n",
    "#External library imports\n",
    "import numpy as np\n",
    "\n",
    "#atomman imports\n",
    "from atomman import Atoms"
   ]
  },
  {
   "cell_type": "markdown",
   "metadata": {},
   "source": [
    "## 1. Atoms basics\n",
    "\n",
    "This section describes the basics for interacting with atomic properties stored in an Atoms instance.  The methods described in this section allow for safe controlled access and assignment of the properties.  These methods should handle most standard uses.  "
   ]
  },
  {
   "cell_type": "markdown",
   "metadata": {},
   "source": [
    "### 1.1 Initilization and simple functionality"
   ]
  },
  {
   "cell_type": "markdown",
   "metadata": {},
   "source": [
    "Initilizing an Atoms instance has the following optional arguments:\n",
    "\n",
    "- __natoms__ = number of atoms in the list.  The number of atoms is fixed after creation.  Default value is 1.\n",
    "\n",
    "- __prop__ = dictionary containing per-atom properties.\n",
    "\n",
    "- __prop_dtype__ = a dictionary for explicitly defining the data types for the different properties.  Optional when initializing with prop (Section 1.3), but mandatory when initilizing with data and view (Section 2.3). \n",
    "\n",
    "- __nvals__ = number of numeric property values given to each atom.  This automatically increases if needed.  As an argument, it can offer slight performance improvements if you know how many property values you will assign.  Default value is 30.\n",
    "\n",
    "- __data__ = a numpy data array to be assigned at the core of the Atoms instance.  For advanced use only (Section 2.3).\n",
    "\n",
    "- __view__ = a dictionary of views pointing to the data array. For advanced use only (Section 2.3)."
   ]
  },
  {
   "cell_type": "code",
   "execution_count": 2,
   "metadata": {
    "collapsed": false
   },
   "outputs": [],
   "source": [
    "#initialize an Atoms instance with 10 atoms\n",
    "#atoms = Atoms(natoms=5) is equivalent\n",
    "atoms = Atoms(5)"
   ]
  },
  {
   "cell_type": "markdown",
   "metadata": {},
   "source": [
    "The default values of all properties are set to zero. By default, each atom is pre-assigned two properties:\n",
    "\n",
    "- __atype__ = integer atom type\n",
    "\n",
    "- __pos__ = (3x1) float array coordinate position  \n",
    "\n",
    "Converting to a string displays the atype and pos for all atoms in a formatted manner."
   ]
  },
  {
   "cell_type": "code",
   "execution_count": 3,
   "metadata": {
    "collapsed": false
   },
   "outputs": [
    {
     "name": "stdout",
     "output_type": "stream",
     "text": [
      "     id |   atype |  pos[0] |  pos[1] |  pos[2]\n",
      "      0 |       0 |   0.000 |   0.000 |   0.000\n",
      "      1 |       0 |   0.000 |   0.000 |   0.000\n",
      "      2 |       0 |   0.000 |   0.000 |   0.000\n",
      "      3 |       0 |   0.000 |   0.000 |   0.000\n",
      "      4 |       0 |   0.000 |   0.000 |   0.000\n"
     ]
    }
   ],
   "source": [
    "print atoms"
   ]
  },
  {
   "cell_type": "markdown",
   "metadata": {},
   "source": [
    "The number of atoms and the number of atom types can be retrieved with natoms and natypes, respectively."
   ]
  },
  {
   "cell_type": "code",
   "execution_count": 4,
   "metadata": {
    "collapsed": false
   },
   "outputs": [
    {
     "name": "stdout",
     "output_type": "stream",
     "text": [
      "atoms.natoms -> 5\n",
      "atoms.natypes -> 0\n"
     ]
    }
   ],
   "source": [
    "print \"atoms.natoms ->\", atoms.natoms\n",
    "print \"atoms.natypes ->\", atoms.natypes"
   ]
  },
  {
   "cell_type": "markdown",
   "metadata": {},
   "source": [
    "Property values can also be assigned during initilization using a dictionary and the prop argument."
   ]
  },
  {
   "cell_type": "code",
   "execution_count": 5,
   "metadata": {
    "collapsed": false
   },
   "outputs": [
    {
     "name": "stdout",
     "output_type": "stream",
     "text": [
      "     id |   atype |  pos[0] |  pos[1] |  pos[2]\n",
      "      0 |      10 |   1.000 |   1.000 |   1.000\n",
      "      1 |       9 |   1.000 |   1.000 |   1.000\n",
      "      2 |       8 |   1.000 |   1.000 |   1.000\n",
      "      3 |       7 |   1.000 |   1.000 |   1.000\n",
      "      4 |       6 |   1.000 |   1.000 |   1.000\n",
      "      5 |       5 |   1.000 |   1.000 |   1.000\n",
      "      6 |       4 |   1.000 |   1.000 |   1.000\n",
      "      7 |       3 |   1.000 |   1.000 |   1.000\n",
      "      8 |       2 |   1.000 |   1.000 |   1.000\n",
      "      9 |       1 |   1.000 |   1.000 |   1.000\n",
      "atoms.natoms -> 10\n",
      "atoms.natypes -> 10\n"
     ]
    }
   ],
   "source": [
    "prop_dict = {'atype': range(10,0,-1), 'pos': np.ones((10,3))}\n",
    "\n",
    "#atoms = Atoms(natoms=10, prop=prop_dict) is equivalent\n",
    "atoms = Atoms(10, prop_dict)\n",
    "\n",
    "print atoms\n",
    "print \"atoms.natoms ->\", atoms.natoms\n",
    "print \"atoms.natypes ->\", atoms.natypes"
   ]
  },
  {
   "cell_type": "markdown",
   "metadata": {},
   "source": [
    "### 1.2 The prop() method\n",
    "\n",
    "Atom property values can be set and retrieved using the prop() method.  The keyword arguments are:\n",
    "\n",
    "- __a_id__ = atom index.\n",
    "\n",
    "- __key__ = atom property name.\n",
    "\n",
    "- __value__ = value(s) to assign to properties associated with a_id and/or term.\n",
    "\n",
    "- __dtype__ = data type to explicitly set or retrieve value as. \n",
    "\n",
    "If no arguments given, returns a list of the assigned property keys. Otherwise, a_id and/or key must be specified. The key specifies which property, and the a_id which atom(s) to access. With no value argument, prop() returns which value(s) are associated with the given a_id and/or key. With a value argument, the value is saved according to the given a_id and/or key."
   ]
  },
  {
   "cell_type": "markdown",
   "metadata": {},
   "source": [
    "Calling prop with no arguments returns a list of assigned property keys."
   ]
  },
  {
   "cell_type": "code",
   "execution_count": 6,
   "metadata": {
    "collapsed": false
   },
   "outputs": [
    {
     "name": "stdout",
     "output_type": "stream",
     "text": [
      "atoms.prop() -> ['atype', 'pos']\n"
     ]
    }
   ],
   "source": [
    "#Testing prop with no arguments\n",
    "print 'atoms.prop() ->', atoms.prop()"
   ]
  },
  {
   "cell_type": "markdown",
   "metadata": {},
   "source": [
    "Specific property values can be retrieved by calling prop() with key and/or a_id. All values returned with prop() are \"safe\", i.e. they are copies of the Atoms' data values."
   ]
  },
  {
   "cell_type": "code",
   "execution_count": 7,
   "metadata": {
    "collapsed": false
   },
   "outputs": [
    {
     "name": "stdout",
     "output_type": "stream",
     "text": [
      "atoms.prop(key='atype') -> [10  9  8  7  6  5  4  3  2  1]\n",
      "atoms.prop(key='pos') ->\n",
      "[[ 1.  1.  1.]\n",
      " [ 1.  1.  1.]\n",
      " [ 1.  1.  1.]\n",
      " [ 1.  1.  1.]\n",
      " [ 1.  1.  1.]\n",
      " [ 1.  1.  1.]\n",
      " [ 1.  1.  1.]\n",
      " [ 1.  1.  1.]\n",
      " [ 1.  1.  1.]\n",
      " [ 1.  1.  1.]]\n",
      "\n",
      "atom_1 = atoms.prop(a_id=1)\n",
      "atom_1.prop(key='atype') -> 9\n",
      "atom_1.prop(key='pos') -> [ 1.  1.  1.]\n",
      "\n",
      "atoms.prop(a_id=2, key='pos') -> [ 1.  1.  1.]\n"
     ]
    }
   ],
   "source": [
    "#Retrieving a property array for all atoms\n",
    "print \"atoms.prop(key='atype') ->\", atoms.prop(key='atype')\n",
    "print \"atoms.prop(key='pos') ->\" \n",
    "print atoms.prop(key='pos')\n",
    "print\n",
    "\n",
    "#Retrieving a single atom\n",
    "print 'atom_1 = atoms.prop(a_id=1)'\n",
    "atom_1 = atoms.prop(a_id=1)\n",
    "print \"atom_1.prop(key='atype') ->\", atom_1.prop(key='atype')\n",
    "print \"atom_1.prop(key='pos') ->\", atom_1.prop(key='pos')\n",
    "print\n",
    "\n",
    "#Retrieving a property of a single atom.\n",
    "print \"atoms.prop(a_id=2, key='pos') ->\", atoms.prop(a_id=2, key='pos')"
   ]
  },
  {
   "cell_type": "markdown",
   "metadata": {},
   "source": [
    "Property values can be set using the prop method either for all atoms at once, or on a per-atom basis.  This is done by supplying value after key, and/or a_id."
   ]
  },
  {
   "cell_type": "code",
   "execution_count": 8,
   "metadata": {
    "collapsed": false
   },
   "outputs": [
    {
     "name": "stdout",
     "output_type": "stream",
     "text": [
      "atoms.prop(key='atype', value=[1]) sets all atypes to be one\n",
      "\n",
      "atoms.prop(key='pos', value=5*np.random.rand(10,3)) sets all pos to be random between 0-5\n",
      "\n",
      "atoms.prop(a_id=0, key='atype', value=2) makes atype for atom at index 0 to be 2\n",
      "\n",
      "atoms.prop(a_id=7, value=atoms.prop(a_id=1)) copies atom 1 index info to atom 7\n",
      "\n",
      "     id |   atype |  pos[0] |  pos[1] |  pos[2]\n",
      "      0 |       2 |   2.929 |   4.969 |   0.971\n",
      "      1 |       1 |   3.107 |   0.782 |   2.567\n",
      "      2 |       1 |   0.565 |   0.081 |   3.325\n",
      "      3 |       1 |   0.188 |   3.089 |   3.586\n",
      "      4 |       1 |   2.184 |   0.211 |   0.701\n",
      "      5 |       1 |   0.880 |   3.073 |   4.188\n",
      "      6 |       1 |   3.171 |   0.649 |   4.878\n",
      "      7 |       1 |   3.107 |   0.782 |   2.567\n",
      "      8 |       1 |   0.749 |   0.627 |   4.536\n",
      "      9 |       1 |   0.605 |   2.625 |   2.578\n"
     ]
    }
   ],
   "source": [
    "#Setting all atypes at once (uses numpy broadcasting)\n",
    "print \"atoms.prop(key='atype', value=[1]) sets all atypes to be one\"\n",
    "atoms.prop(key='atype', value=[1])\n",
    "print\n",
    "\n",
    "#Setting all pos at once\n",
    "print \"atoms.prop(key='pos', value=5*np.random.rand(10,3)) sets all pos to be random between 0-5\"\n",
    "atoms.prop(key='pos', value=5*np.random.rand(10,3))\n",
    "print\n",
    "\n",
    "#Setting atypes individually \n",
    "print \"atoms.prop(a_id=0, key='atype', value=2) makes atype for atom at index 0 to be 2\"\n",
    "atoms.prop(a_id=0, key='atype', value=2)\n",
    "print \n",
    "\n",
    "#Setting one atom to be equal to another\n",
    "print \"atoms.prop(a_id=7, value=atoms.prop(a_id=1)) copies atom 1 index info to atom 7\"\n",
    "atoms.prop(a_id=7, value=atoms.prop(a_id=1))\n",
    "print\n",
    "\n",
    "#Display atoms after changes\n",
    "print atoms"
   ]
  },
  {
   "cell_type": "markdown",
   "metadata": {},
   "source": [
    "Additional atomic properties (beyond atype and pos) can be freely defined using the prop() method.  The value for each new property can be of any regular shape and of a data type that can be converted into a float (bool, int, and long work but complex, unicode, and str do not.)  The shape and data type are set to match the original value and are identical for all atoms.  "
   ]
  },
  {
   "cell_type": "code",
   "execution_count": 9,
   "metadata": {
    "collapsed": false
   },
   "outputs": [
    {
     "name": "stdout",
     "output_type": "stream",
     "text": [
      "atoms.prop(key='Not-assigned') -> None\n",
      "\n",
      "atoms.prop(key='scalar-int', value=np.arange(10)) assigns a scalar integer value\n",
      "atoms.prop(key='scalar-int') -> [0 1 2 3 4 5 6 7 8 9]\n",
      "\n",
      "atoms.prop(a_id=5, key='scalar-bool', value=True) assigns True to atom at index 5 (zero=False in Bool)\n",
      "atoms.prop(key='scalar-bool') -> [False False False False False  True False False False False]\n",
      "\n",
      "atoms.prop(key='vector-float', value=np.random.rand(10,2)) creates a 2D vector value\n",
      "atoms.prop(a_id=1, key='vector-float') -> [ 0.27026365  0.87103579]\n",
      "\n",
      "atoms.prop(key='matrix-int', value=[np.eye(4) for i in xrange(10)]) gives all atoms a 4x4 identity matrix\n",
      "atoms.prop(a_id=2, key='matrix-int') ->\n",
      "[[ 1.  0.  0.  0.]\n",
      " [ 0.  1.  0.  0.]\n",
      " [ 0.  0.  1.  0.]\n",
      " [ 0.  0.  0.  1.]]\n",
      "\n",
      "atoms.prop() lists all assigned property keys\n",
      "atoms.prop() -> ['atype', 'pos', 'scalar-int', 'scalar-bool', 'vector-float', 'matrix-int']\n"
     ]
    }
   ],
   "source": [
    "#Trying to retrieve any property that has not been assigned returns None\n",
    "print \"atoms.prop(key='Not-assigned') ->\", atoms.prop(key='Not-assigned')\n",
    "print\n",
    "\n",
    "#Properties are assigned by giving a key and value\n",
    "print \"atoms.prop(key='scalar-int', value=np.arange(10)) assigns a scalar integer value\"\n",
    "atoms.prop(key='scalar-int', value=np.arange(10))\n",
    "print \"atoms.prop(key='scalar-int') ->\", atoms.prop(key='scalar-int')\n",
    "print\n",
    "\n",
    "#If assigned to one atom, all atoms gain that property with default zero values\n",
    "print \"atoms.prop(a_id=5, key='scalar-bool', value=True) assigns True to atom at index 5 (zero=False in Bool)\"\n",
    "atoms.prop(a_id=5, key='scalar-bool', value=True)\n",
    "print \"atoms.prop(key='scalar-bool') ->\",atoms.prop(key='scalar-bool')\n",
    "print\n",
    "\n",
    "#Shapes of higher order data structures are retained\n",
    "print \"atoms.prop(key='vector-float', value=np.random.rand(10,2)) creates a 2D vector value\"\n",
    "atoms.prop(key='vector-float', value=np.random.rand(10,2))\n",
    "print \"atoms.prop(a_id=1, key='vector-float') ->\", atoms.prop(a_id=1, key='vector-float') \n",
    "print \n",
    "\n",
    "print \"atoms.prop(key='matrix-int', value=[np.eye(4) for i in xrange(10)]) gives all atoms a 4x4 identity matrix\"\n",
    "atoms.prop(key='matrix-int', value=[np.eye(4) for i in xrange(10)])\n",
    "print \"atoms.prop(a_id=2, key='matrix-int') ->\"\n",
    "print atoms.prop(a_id=2, key='matrix-int') \n",
    "print \n",
    "\n",
    "print \"atoms.prop() lists all assigned property keys\"\n",
    "print \"atoms.prop() ->\", atoms.prop()\n"
   ]
  },
  {
   "cell_type": "markdown",
   "metadata": {},
   "source": [
    "### 1.3 dtype conversion\n",
    "\n",
    "The data type for each property is set when the property is first defined using the prop() method.  This is either done implicitly using the property value's data type, or explicitly using the dtype argument.  The dtype argument and prop() method also allows for property values to be returned converted to a specified data type.  Note that this output conversion does not change the property's stored dtype.  "
   ]
  },
  {
   "cell_type": "code",
   "execution_count": 10,
   "metadata": {
    "collapsed": false
   },
   "outputs": [
    {
     "name": "stdout",
     "output_type": "stream",
     "text": [
      "test = [30, 50, 10, 56]\n",
      "\n",
      "atoms.prop(key='implicit', value=test)\n",
      "atoms.prop(key='implicit') -> [30 50 10 56]\n",
      "\n",
      "atoms.prop(key='explicit', value=test, dtype='float')\n",
      "atoms.prop(key='explicit') -> [ 30.  50.  10.  56.]\n",
      "\n",
      "atoms.prop(a_id=1, key='implicit', dtype=bool) -> True\n",
      "atoms.prop(key='implicit', dtype=float) -> [ 30.  50.  10.  56.]\n",
      "atoms.prop(key='implicit') -> [30 50 10 56]\n"
     ]
    }
   ],
   "source": [
    "#Create small system for demo purposes\n",
    "atoms = Atoms(natoms=4)\n",
    "\n",
    "#Create list of ints\n",
    "print 'test = [30, 50, 10, 56]'\n",
    "test = [30, 50, 10, 56]\n",
    "print\n",
    "\n",
    "#Implicit data type assignment\n",
    "print \"atoms.prop(key='implicit', value=test)\"\n",
    "atoms.prop(key='implicit', value=test)\n",
    "print \"atoms.prop(key='implicit') ->\", atoms.prop(key='implicit')\n",
    "print\n",
    "\n",
    "#Explicit data type assignment\n",
    "print \"atoms.prop(key='explicit', value=test, dtype='float')\"\n",
    "atoms.prop(key='explicit', value=test, dtype='float')\n",
    "print \"atoms.prop(key='explicit') ->\", atoms.prop(key='explicit')\n",
    "print\n",
    "\n",
    "#Showing data value retrieval in a specified data type\n",
    "print \"atoms.prop(a_id=1, key='implicit', dtype=bool) ->\", atoms.prop(a_id=1, key='implicit', dtype=bool)\n",
    "print \"atoms.prop(key='implicit', dtype=float) ->\", atoms.prop(key='implicit', dtype=float)\n",
    "print \"atoms.prop(key='implicit') ->\", atoms.prop(key='implicit')"
   ]
  },
  {
   "cell_type": "markdown",
   "metadata": {},
   "source": [
    "The assigned data type offers control when reading in values. Once set for a property, the data type cannot be changed with prop().  Also, any values being assigned are checked if they are compatible with the assigned data type."
   ]
  },
  {
   "cell_type": "code",
   "execution_count": 11,
   "metadata": {
    "collapsed": false
   },
   "outputs": [
    {
     "name": "stdout",
     "output_type": "stream",
     "text": [
      "test2 = [0,1,2,3]\n",
      "atoms.prop(key='test2', value=test2, dtype=int)\n",
      "atoms.prop(key='test2') -> [0 1 2 3]\n",
      "\n",
      "Testing assignment of dtype to test2 using prop()\n",
      "  atoms.prop(key='test2', value=test2, dtype=<type 'bool'>)\n",
      "    AssertionError raised: dtype already assigned as <type 'int'>\n",
      "  atoms.prop(key='test2', value=test2, dtype=<type 'int'>)\n",
      "    atoms.prop(key='test2') -> [0 1 2 3]\n",
      "  atoms.prop(key='test2', value=test2, dtype=<type 'float'>)\n",
      "    AssertionError raised: dtype already assigned as <type 'int'>\n",
      "  atoms.prop(key='test2', value=test2, dtype=None)\n",
      "    atoms.prop(key='test2') -> [0 1 2 3]\n",
      "\n",
      "Testing assignment of dtype to test2 using prop()\n",
      "  atoms.prop(a_id=3, key='test2', value=False)\n",
      "    atoms.prop(key='test2') -> [0 1 2 0]\n",
      "  atoms.prop(a_id=3, key='test2', value=2)\n",
      "    atoms.prop(key='test2') -> [0 1 2 2]\n",
      "  atoms.prop(a_id=3, key='test2', value=2.3)\n",
      "    AssertionError raised: value is incompatible with int data type\n",
      "  atoms.prop(a_id=3, key='test2', value=a)\n",
      "    AssertionError raised: value is incompatible with int data type\n"
     ]
    }
   ],
   "source": [
    "print 'test2 = [0,1,2,3]'\n",
    "test2 = [0,1,2,3]\n",
    "print \"atoms.prop(key='test2', value=test2, dtype=int)\"\n",
    "atoms.prop(key='test2', value=test2, dtype=int)\n",
    "print \"atoms.prop(key='test2') ->\", atoms.prop(key='test2')\n",
    "print \n",
    "\n",
    "#If property already exists, the dtype argument must be None or match the property's dtype\n",
    "print \"Testing assignment of dtype to test2 using prop()\"\n",
    "dtypes = [bool, int, float, None]\n",
    "for dtype in dtypes:\n",
    "    print \"  atoms.prop(key='test2', value=test2, dtype=%s)\" % dtype\n",
    "    try:\n",
    "        atoms.prop(key='test2', value=test2, dtype=dtype)\n",
    "        print \"    atoms.prop(key='test2') ->\", atoms.prop(key='test2')\n",
    "    except AssertionError as detail:\n",
    "        print '    AssertionError raised:', detail\n",
    "print\n",
    "\n",
    "#Values being assigned must be compatible with the property's dtype    \n",
    "print \"Testing assignment of dtype to test2 using prop()\"\n",
    "values = [False, 2, 2.3, 'a']\n",
    "for value in values:\n",
    "    print \"  atoms.prop(a_id=3, key='test2', value=%s)\" % value\n",
    "    try:\n",
    "        atoms.prop(a_id=3, key='test2', value=value)\n",
    "        print \"    atoms.prop(key='test2') ->\", atoms.prop(key='test2')\n",
    "    except AssertionError as detail:\n",
    "        print '    AssertionError raised:', detail\n",
    "    except ValueError as detail:\n",
    "         print '    ValueError raised:', detail        "
   ]
  },
  {
   "cell_type": "markdown",
   "metadata": {},
   "source": [
    "Data types can also be explicitly assigned during initilization using the prop and prop_dtype arguments.  Specifying None for a property's dtype will use the implicit dtype for that property.  Note that the dtypes of atype and pos are pre-defined to int and float respectively."
   ]
  },
  {
   "cell_type": "code",
   "execution_count": 12,
   "metadata": {
    "collapsed": false
   },
   "outputs": [
    {
     "name": "stdout",
     "output_type": "stream",
     "text": [
      "prop =      {'atype':[1,1,1,1], 'pos':[[1.,1.,1.], [2.,2.,2.], [3.,3.,3.], [4.,4.,4.]], 'u_test':[1,1,1,1]}\n",
      "prop_dtype ={'atype': None,     'pos': None,                                            'u_test': float}\n",
      "\n",
      "     id |   atype |  pos[0] |  pos[1] |  pos[2]\n",
      "      0 |       1 |   1.000 |   1.000 |   1.000\n",
      "      1 |       1 |   2.000 |   2.000 |   2.000\n",
      "      2 |       1 |   3.000 |   3.000 |   3.000\n",
      "      3 |       1 |   4.000 |   4.000 |   4.000\n",
      "u_test's dtype explicitly set to be float:\n",
      "atoms.prop(key='u_test') -> [ 1.  1.  1.  1.]\n"
     ]
    }
   ],
   "source": [
    "#initilizing with prop and prop_unit\n",
    "print \"prop =      {'atype':[1,1,1,1], 'pos':[[1.,1.,1.], [2.,2.,2.], [3.,3.,3.], [4.,4.,4.]], 'u_test':[1,1,1,1]}\"\n",
    "print \"prop_dtype ={'atype': None,     'pos': None,                                            'u_test': float}\"\n",
    "prop = {'atype': [1, 1, 1, 1], \n",
    "        'pos': [[1., 1., 1.],\n",
    "                [2., 2., 2.],\n",
    "                [3., 3., 3.],\n",
    "                [4., 4., 4.]],\n",
    "       'u_test': [1, 1, 1, 1]}\n",
    "\n",
    "prop_dtype = {'atype': None, 'pos': None, 'u_test': float}\n",
    "print\n",
    "atoms = Atoms(natoms=4, prop=prop, prop_dtype=prop_dtype)\n",
    "print atoms\n",
    "\n",
    "#checking unit control for Ecoh\n",
    "print \"u_test's dtype explicitly set to be float:\"\n",
    "print \"atoms.prop(key='u_test') ->\", atoms.prop(key='u_test')"
   ]
  },
  {
   "cell_type": "markdown",
   "metadata": {},
   "source": [
    "## 2. Atoms advanced usage\n",
    "\n",
    "For advanced users, Atoms also allows for direct access to the underlying data without going through the prop method.  This is achieved primarily through the use of numpy views.  The advantage of this is that allows for users to specify new routines and algorithms capable of fully taking advantage of numpy's vectorized functions.  The disadvantage is the loss of safety and control from the prop() method.  Thus, proper usage is in the hands of the user."
   ]
  },
  {
   "cell_type": "markdown",
   "metadata": {},
   "source": [
    "### 2.1 data, view, and dtype\n",
    "\n",
    "The core of an Atoms instance is:\n",
    "\n",
    "- __data__ = a numpy ndarray of floats of size (natoms x nvals).\n",
    "\n",
    "- __view__ = an OrderedDict consisting of numpy arrays that are views of data.\n",
    "\n",
    "- __dtype__ = an OrderedDict containing each property's assigned dtype.\n",
    "\n",
    "When properties are first assigned to an atom, the values are flattened to a one dimensional array, converted to floats, and stored in data.  A view is created of the property consisting of the correct size and shape, but values as floats. The appropriate data type is stored in the dtype dictionary."
   ]
  },
  {
   "cell_type": "code",
   "execution_count": 13,
   "metadata": {
    "collapsed": false
   },
   "outputs": [
    {
     "name": "stdout",
     "output_type": "stream",
     "text": [
      "atoms = Atoms(natoms=5, nvals=10)\n",
      "\n",
      "All data stored in atoms.data as floats\n",
      "atoms.data ->\n",
      "[[ 0.  0.  0.  0.  0.  0.  0.  0.  0.  0.]\n",
      " [ 0.  0.  0.  0.  0.  0.  0.  0.  0.  0.]\n",
      " [ 0.  0.  0.  0.  0.  0.  0.  0.  0.  0.]\n",
      " [ 0.  0.  0.  0.  0.  0.  0.  0.  0.  0.]\n",
      " [ 0.  0.  0.  0.  0.  0.  0.  0.  0.  0.]]\n",
      "\n",
      "atoms.view accesses a view of the underlying data\n",
      "atoms.view['atype'] ->\n",
      "[[ 0.]\n",
      " [ 0.]\n",
      " [ 0.]\n",
      " [ 0.]\n",
      " [ 0.]]\n",
      "\n",
      "data type information kept in atoms.dtype\n",
      "atoms.dtype['atype'] -> int32\n"
     ]
    }
   ],
   "source": [
    "#Create new Atoms instance\n",
    "print \"atoms = Atoms(natoms=5, nvals=10)\"\n",
    "atoms = Atoms(natoms=5, nvals=10)\n",
    "print\n",
    "\n",
    "#Show underlying data array\n",
    "print \"All data stored in atoms.data as floats\"\n",
    "print \"atoms.data ->\"\n",
    "print atoms.data\n",
    "print\n",
    "\n",
    "#Show the atype view\n",
    "print \"atoms.view accesses a view of the underlying data\"\n",
    "print \"atoms.view['atype'] ->\"\n",
    "print atoms.view['atype']\n",
    "print\n",
    "\n",
    "#Show the atype dtype\n",
    "print \"data type information kept in atoms.dtype\"\n",
    "print \"atoms.dtype['atype'] ->\", atoms.dtype['atype']"
   ]
  },
  {
   "cell_type": "markdown",
   "metadata": {},
   "source": [
    "Numpy views are new arrays that point back to the original data.  Because of this, changing the values in a view will change the values in data."
   ]
  },
  {
   "cell_type": "code",
   "execution_count": 14,
   "metadata": {
    "collapsed": false
   },
   "outputs": [
    {
     "name": "stdout",
     "output_type": "stream",
     "text": [
      "Changing atype values using a view:\n",
      "atype = atoms.view['atype']\n",
      "for i in xrange(len(atype)):\n",
      "    atype[i] = 1\n",
      "\n",
      "atoms.data ->\n",
      "[[ 1.  0.  0.  0.  0.  0.  0.  0.  0.  0.]\n",
      " [ 1.  0.  0.  0.  0.  0.  0.  0.  0.  0.]\n",
      " [ 1.  0.  0.  0.  0.  0.  0.  0.  0.  0.]\n",
      " [ 1.  0.  0.  0.  0.  0.  0.  0.  0.  0.]\n",
      " [ 1.  0.  0.  0.  0.  0.  0.  0.  0.  0.]]\n"
     ]
    }
   ],
   "source": [
    "#Setting atype values using it's view\n",
    "print \"Changing atype values using a view:\"\n",
    "print \"atype = atoms.view['atype']\"\n",
    "print \"for i in xrange(len(atype)):\"\n",
    "print \"    atype[i] = 1\"\n",
    "\n",
    "atype = atoms.view['atype']\n",
    "for i in xrange(len(atype)):\n",
    "    atype[i] = 1\n",
    "\n",
    "print\n",
    "print \"atoms.data ->\"\n",
    "print atoms.data"
   ]
  },
  {
   "cell_type": "markdown",
   "metadata": {},
   "source": [
    "__POINT OF CAUTION #1:__ Make certain that you assign values to the elements of a view, not the name of the view."
   ]
  },
  {
   "cell_type": "code",
   "execution_count": 15,
   "metadata": {
    "collapsed": false
   },
   "outputs": [
    {
     "name": "stdout",
     "output_type": "stream",
     "text": [
      "pos = atoms.view['pos']\n",
      "\n",
      "Correct assignment:\n",
      "Assigning values to elements of a view will change the values\n",
      "pos[:] = np.ones((5,3))\n",
      "pos ->\n",
      "[[ 1.  1.  1.]\n",
      " [ 1.  1.  1.]\n",
      " [ 1.  1.  1.]\n",
      " [ 1.  1.  1.]\n",
      " [ 1.  1.  1.]]\n",
      "atoms.data ->\n",
      "[[ 1.  1.  1.  1.  0.  0.  0.  0.  0.  0.]\n",
      " [ 1.  1.  1.  1.  0.  0.  0.  0.  0.  0.]\n",
      " [ 1.  1.  1.  1.  0.  0.  0.  0.  0.  0.]\n",
      " [ 1.  1.  1.  1.  0.  0.  0.  0.  0.  0.]\n",
      " [ 1.  1.  1.  1.  0.  0.  0.  0.  0.  0.]]\n",
      "\n",
      "Incorrect assignment:\n",
      "Assigning values to the name of a view will change what the name points to\n",
      "pos = np.zeros((5,3))\n",
      "pos ->\n",
      "[[ 0.  0.  0.]\n",
      " [ 0.  0.  0.]\n",
      " [ 0.  0.  0.]\n",
      " [ 0.  0.  0.]\n",
      " [ 0.  0.  0.]]\n",
      "atoms.data ->\n",
      "[[ 1.  1.  1.  1.  0.  0.  0.  0.  0.  0.]\n",
      " [ 1.  1.  1.  1.  0.  0.  0.  0.  0.  0.]\n",
      " [ 1.  1.  1.  1.  0.  0.  0.  0.  0.  0.]\n",
      " [ 1.  1.  1.  1.  0.  0.  0.  0.  0.  0.]\n",
      " [ 1.  1.  1.  1.  0.  0.  0.  0.  0.  0.]]\n"
     ]
    }
   ],
   "source": [
    "#POINT OF CAUTION #1 demonstration\n",
    "print \"pos = atoms.view['pos']\"\n",
    "pos = atoms.view['pos']\n",
    "print\n",
    "\n",
    "#Correct assignment\n",
    "print \"Correct assignment:\"\n",
    "print \"Assigning values to elements of a view will change the values\"\n",
    "print \"pos[:] = np.ones((5,3))\" \n",
    "pos[:] = np.ones((5,3))\n",
    "print \"pos ->\"\n",
    "print pos\n",
    "print \"atoms.data ->\"\n",
    "print atoms.data\n",
    "print\n",
    "\n",
    "#incorrect assignment\n",
    "print \"Incorrect assignment:\" \n",
    "print \"Assigning values to the name of a view will change what the name points to\"\n",
    "print \"pos = np.zeros((5,3))\" \n",
    "pos = np.zeros((5,3))\n",
    "print \"pos ->\"\n",
    "print pos\n",
    "print \"atoms.data ->\"\n",
    "print atoms.data"
   ]
  },
  {
   "cell_type": "markdown",
   "metadata": {},
   "source": [
    "The default stored data type can be changed using the dtype dictionary.  While this allows for incorrectly assigned data types to be changed, it is more appropriate to explicitly assign a troublesome data type when first created using the prop() method."
   ]
  },
  {
   "cell_type": "code",
   "execution_count": 16,
   "metadata": {
    "collapsed": false
   },
   "outputs": [
    {
     "name": "stdout",
     "output_type": "stream",
     "text": [
      "atoms.prop(key='int-test', value=[1,2,3,4,5], dtype=int)\n",
      "Trying to assign a float to int-test with atoms.prop(a_id=2, key='scalar-int', value=3.2):\n",
      "atoms.prop(a_id=2, key='int-test', value=3.2) -> AssertionError raised: value is incompatible with int data type\n",
      "\n",
      "Changing int-test's dtype to float and trying again:\n",
      "atoms.dtype['int-test'] = float\n",
      "atoms.prop(a_id=2, key='int-test', value=3.2) -> [ 1.   2.   6.2  4.   5. ]\n"
     ]
    }
   ],
   "source": [
    "#Assignment is prevented if value cannot be converted to the stored dtype\n",
    "print \"atoms.prop(key='int-test', value=[1,2,3,4,5], dtype=int)\"\n",
    "atoms.prop(key='int-test', value=[1,2,3,4,5], dtype=int)\n",
    "\n",
    "print \"Trying to assign a float to int-test with atoms.prop(a_id=2, key='scalar-int', value=3.2):\"\n",
    "print \"atoms.prop(a_id=2, key='int-test', value=3.2) ->\", \n",
    "try:\n",
    "    atoms.prop(a_id=2, key='int-test', value=3.2)\n",
    "    print atoms.prop(key='int-test')\n",
    "except AssertionError as detail:\n",
    "    print 'AssertionError raised:', detail\n",
    "print\n",
    "\n",
    "#The stored dtype can be changed using dtype\n",
    "print \"Changing int-test's dtype to float and trying again:\"\n",
    "print \"atoms.dtype['int-test'] = float\"\n",
    "atoms.dtype['int-test'] = float\n",
    "print \"atoms.prop(a_id=2, key='int-test', value=3.2) ->\", \n",
    "try:\n",
    "    atoms.prop(a_id=2, key='int-test', value=6.2)\n",
    "    print atoms.prop(key='int-test')\n",
    "except AssertionError as detail:\n",
    "    print 'AssertionError raised:', detail    "
   ]
  },
  {
   "cell_type": "markdown",
   "metadata": {},
   "source": [
    "__POINT OF CAUTION #2:__ Since all data is stored as floats and only converted with the prop() method, direct access of data, view and dtype offers no data type control."
   ]
  },
  {
   "cell_type": "code",
   "execution_count": 17,
   "metadata": {
    "collapsed": false
   },
   "outputs": [
    {
     "name": "stdout",
     "output_type": "stream",
     "text": [
      "Changing int-test's dtype back to int does not affect the underlying data:\n",
      "atoms.dtype['int-test'] = int\n",
      "atoms.prop('int-test') -> [1 2 6 4 5]\n",
      "atoms.data ->\n",
      "[[ 1.   1.   1.   1.   1.   0.   0.   0.   0.   0. ]\n",
      " [ 1.   1.   1.   1.   2.   0.   0.   0.   0.   0. ]\n",
      " [ 1.   1.   1.   1.   6.2  0.   0.   0.   0.   0. ]\n",
      " [ 1.   1.   1.   1.   4.   0.   0.   0.   0.   0. ]\n",
      " [ 1.   1.   1.   1.   5.   0.   0.   0.   0.   0. ]]\n",
      "\n",
      "Likewise, value assignment with data or view not data type controlled:\n",
      "atoms.view['atype'][0] = 14.234\n",
      "atoms.prop(key='atype') -> [14  1  1  1  1]\n",
      "atoms.data ->\n",
      "[[ 14.234   1.      1.      1.      1.      0.      0.      0.      0.      0.   ]\n",
      " [  1.      1.      1.      1.      2.      0.      0.      0.      0.      0.   ]\n",
      " [  1.      1.      1.      1.      6.2     0.      0.      0.      0.      0.   ]\n",
      " [  1.      1.      1.      1.      4.      0.      0.      0.      0.      0.   ]\n",
      " [  1.      1.      1.      1.      5.      0.      0.      0.      0.      0.   ]]\n"
     ]
    }
   ],
   "source": [
    "print \"Changing int-test's dtype back to int does not affect the underlying data:\"\n",
    "print \"atoms.dtype['int-test'] = int\"\n",
    "atoms.dtype['int-test'] = int\n",
    "print \"atoms.prop('int-test') ->\", atoms.prop(key='int-test')\n",
    "print \"atoms.data ->\"\n",
    "print atoms.data\n",
    "print \n",
    "\n",
    "print \"Likewise, value assignment with data or view not data type controlled:\"\n",
    "print \"atoms.view['atype'][0] = 14.234\"\n",
    "atoms.view['atype'][0] = 14.234\n",
    "print \"atoms.prop(key='atype') ->\", atoms.prop(key='atype')\n",
    "print \"atoms.data ->\"\n",
    "print atoms.data"
   ]
  },
  {
   "cell_type": "markdown",
   "metadata": {},
   "source": [
    "### 2.2 Index access\n",
    "\n",
    "Specific atoms within an Atoms instance can be accessed using index reference, i.e. [].  This returns a new Atoms instance where data is a view to the indexed atoms of the original Atoms instance.  This offers an alternate way of accessing and changing values on a per atom basis."
   ]
  },
  {
   "cell_type": "code",
   "execution_count": 18,
   "metadata": {
    "collapsed": false
   },
   "outputs": [
    {
     "name": "stdout",
     "output_type": "stream",
     "text": [
      "atoms ->\n",
      "     id |   atype |  pos[0] |  pos[1] |  pos[2]\n",
      "      0 |       0 |   0.309 |   0.175 |   0.880\n",
      "      1 |       1 |   0.019 |   0.428 |   0.523\n",
      "      2 |       2 |   0.778 |   0.426 |   0.214\n",
      "      3 |       3 |   0.246 |   0.666 |   0.981\n",
      "      4 |       4 |   0.631 |   0.441 |   0.494\n",
      "      5 |       5 |   0.949 |   0.838 |   0.294\n",
      "      6 |       6 |   0.533 |   0.936 |   0.631\n",
      "      7 |       7 |   0.341 |   0.805 |   0.661\n",
      "      8 |       8 |   0.029 |   0.108 |   0.843\n",
      "      9 |       9 |   0.358 |   0.103 |   0.445\n",
      "atoms[2:7] ->\n",
      "     id |   atype |  pos[0] |  pos[1] |  pos[2]\n",
      "      0 |       2 |   0.778 |   0.426 |   0.214\n",
      "      1 |       3 |   0.246 |   0.666 |   0.981\n",
      "      2 |       4 |   0.631 |   0.441 |   0.494\n",
      "      3 |       5 |   0.949 |   0.838 |   0.294\n",
      "      4 |       6 |   0.533 |   0.936 |   0.631\n",
      "atoms[5] = atoms[9]\n",
      "atoms ->\n",
      "     id |   atype |  pos[0] |  pos[1] |  pos[2]\n",
      "      0 |       0 |   0.309 |   0.175 |   0.880\n",
      "      1 |       1 |   0.019 |   0.428 |   0.523\n",
      "      2 |       2 |   0.778 |   0.426 |   0.214\n",
      "      3 |       3 |   0.246 |   0.666 |   0.981\n",
      "      4 |       4 |   0.631 |   0.441 |   0.494\n",
      "      5 |       9 |   0.358 |   0.103 |   0.445\n",
      "      6 |       6 |   0.533 |   0.936 |   0.631\n",
      "      7 |       7 |   0.341 |   0.805 |   0.661\n",
      "      8 |       8 |   0.029 |   0.108 |   0.843\n",
      "      9 |       9 |   0.358 |   0.103 |   0.445\n",
      "for atom in atoms:\n",
      "    print atom.prop(key='atype'), ->\n",
      "0 1 2 3 4 9 6 7 8 9\n",
      "\n",
      "for atom in atoms:\n",
      "    atom.prop(key='atype', value=1)\n",
      "atoms.prop(key='atype') -> [1 1 1 1 1 1 1 1 1 1]\n",
      "\n",
      "for atom in atoms:\n",
      "    atom.view['atype'][:] = 2\n",
      "atoms.prop(key='atype') -> [2 2 2 2 2 2 2 2 2 2]\n"
     ]
    }
   ],
   "source": [
    "#Index access and assignment of atoms\n",
    "atoms = Atoms(natoms = 10, prop={'atype': range(10), 'pos': np.random.rand(10,3)})\n",
    "print \"atoms ->\"\n",
    "print atoms\n",
    "\n",
    "#Access with specified indexes\n",
    "print \"atoms[2:7] ->\"\n",
    "print atoms[2:7]\n",
    "\n",
    "#Assign one atom to another\n",
    "print \"atoms[5] = atoms[9]\"\n",
    "atoms[5] = atoms[9]\n",
    "print \"atoms ->\"\n",
    "print atoms\n",
    "\n",
    "#Iterate over atoms for retrieval\n",
    "print \"for atom in atoms:\"\n",
    "print \"    print atom.prop(key='atype'), ->\"\n",
    "for atom in atoms:\n",
    "     print atom.prop(key='atype'),\n",
    "print \n",
    "print \n",
    "\n",
    "#Iterate over atoms for assignment using prop\n",
    "print \"for atom in atoms:\"\n",
    "print \"    atom.prop(key='atype', value=1)\"\n",
    "for atom in atoms:\n",
    "     atom.prop(key='atype', value=1)\n",
    "print \"atoms.prop(key='atype') ->\", atoms.prop(key='atype')\n",
    "print \n",
    "\n",
    "#Iterate over atoms for assignment using view\n",
    "print \"for atom in atoms:\"\n",
    "print \"    atom.view['atype'][:] = 2\"\n",
    "for atom in atoms:\n",
    "     atom.view['atype'][:] = 2\n",
    "print \"atoms.prop(key='atype') ->\", atoms.prop(key='atype')"
   ]
  },
  {
   "cell_type": "markdown",
   "metadata": {},
   "source": [
    "__POINT OF CAUTION #3:__ New properties should only be assigned to the original Atoms instance and any other instances created using index access regenerated.  Otherwise, multiple properties may be assigned to the same data values, or the different instances may no longer point to the same data."
   ]
  },
  {
   "cell_type": "code",
   "execution_count": 19,
   "metadata": {
    "collapsed": false
   },
   "outputs": [
    {
     "name": "stdout",
     "output_type": "stream",
     "text": [
      "atoms ->\n",
      "     id |   atype |  pos[0] |  pos[1] |  pos[2]\n",
      "      0 |       1 |   0.802 |   0.936 |   0.887\n",
      "      1 |       1 |   0.543 |   0.094 |   0.415\n",
      "      2 |       1 |   0.231 |   0.530 |   0.531\n",
      "      3 |       1 |   0.841 |   0.818 |   0.614\n",
      "      4 |       1 |   0.481 |   0.673 |   0.050\n",
      "atoms_2 = atoms[2:4]\n",
      "atoms_2 ->\n",
      "     id |   atype |  pos[0] |  pos[1] |  pos[2]\n",
      "      0 |       1 |   0.231 |   0.530 |   0.531\n",
      "      1 |       1 |   0.841 |   0.818 |   0.614\n",
      "If a new property is assigned to atoms_2, the values will be in data, but atoms instance will not know of it\n",
      "atoms_2.prop(key='new', value=[2,2])\n",
      "atoms.prop() -> ['atype', 'pos']\n",
      "atoms_2.prop() -> ['atype', 'pos', 'new']\n",
      "atoms.data->\n",
      "[[ 1.          0.80213378  0.93589137  0.88742263  0.        ]\n",
      " [ 1.          0.54289029  0.09449527  0.41543944  0.        ]\n",
      " [ 1.          0.23070724  0.53005844  0.53052004  2.        ]\n",
      " [ 1.          0.84060484  0.81843385  0.61449819  2.        ]\n",
      " [ 1.          0.4806937   0.67259866  0.04975071  0.        ]]\n"
     ]
    }
   ],
   "source": [
    "atoms = Atoms(natoms = 5, nvals = 5, prop={'atype':[1], 'pos':np.random.rand(5,3)})\n",
    "print \"atoms ->\"\n",
    "print atoms\n",
    "\n",
    "print \"atoms_2 = atoms[2:4]\"\n",
    "atoms_2 = atoms[2:4]\n",
    "print \"atoms_2 ->\"\n",
    "print atoms_2\n",
    "\n",
    "#test assignment to atoms_2\n",
    "print \"If a new property is assigned to atoms_2, the values will be in data, but atoms instance will not know of it\"\n",
    "print \"atoms_2.prop(key='new', value=[2,2])\"\n",
    "atoms_2.prop(key='new', value=[2,2])\n",
    "print \"atoms.prop() ->\", atoms.prop()\n",
    "print \"atoms_2.prop() ->\", atoms_2.prop()\n",
    "print \"atoms.data->\"\n",
    "print atoms.data"
   ]
  },
  {
   "cell_type": "markdown",
   "metadata": {},
   "source": [
    "### 2.3 Initilization using data, view, and prop_dtype"
   ]
  },
  {
   "cell_type": "markdown",
   "metadata": {},
   "source": [
    "An Atoms instance can also be initialized by directly supplying a data array, and view and dtype dictionaries.  This allows for exact control over defining the core of an Atoms instance.  Extra care has to be taken as there is no check that the views and data array point to the same data.  "
   ]
  },
  {
   "cell_type": "code",
   "execution_count": 20,
   "metadata": {
    "collapsed": false
   },
   "outputs": [
    {
     "name": "stdout",
     "output_type": "stream",
     "text": [
      "atoms ->\n",
      "     id |   atype |  pos[0] |  pos[1] |  pos[2]\n",
      "      0 |       1 |   0.258 |   0.255 |   0.723\n",
      "      1 |       1 |   0.950 |   0.538 |   0.006\n",
      "      2 |       1 |   0.419 |   0.997 |   0.411\n",
      "      3 |       1 |   0.475 |   0.657 |   0.593\n",
      "      4 |       1 |   0.707 |   0.179 |   0.568\n",
      "Create newatoms by assigning data, view, and prop_dtype associated with atom index 3:\n",
      "newatoms ->\n",
      "     id |   atype |  pos[0] |  pos[1] |  pos[2]\n",
      "      0 |       1 |   0.475 |   0.657 |   0.593\n",
      "atoms[3] ->\n",
      "     id |   atype |  pos[0] |  pos[1] |  pos[2]\n",
      "      0 |       1 |   0.475 |   0.657 |   0.593\n"
     ]
    }
   ],
   "source": [
    "atoms = Atoms(natoms = 5, nvals = 5, prop={'atype':[1], 'pos':np.random.rand(5,3)})\n",
    "print \"atoms ->\"\n",
    "print atoms\n",
    "\n",
    "#this code is equivalent to newatoms = atoms[index]\n",
    "print \"Create newatoms by assigning data, view, and prop_dtype associated with atom index 3:\"\n",
    "index = 3\n",
    "view = OrderedDict()\n",
    "for k, v in atoms.view.iteritems():\n",
    "    view[k] = v[index]\n",
    "newatoms = Atoms(data=atoms.data[index], view=view, prop_dtype=atoms.dtype)\n",
    "print \"newatoms ->\"\n",
    "print newatoms\n",
    "\n",
    "print \"atoms[3] ->\"\n",
    "print atoms[index]"
   ]
  },
  {
   "cell_type": "code",
   "execution_count": null,
   "metadata": {
    "collapsed": true
   },
   "outputs": [],
   "source": []
  },
  {
   "cell_type": "code",
   "execution_count": null,
   "metadata": {
    "collapsed": true
   },
   "outputs": [],
   "source": []
  },
  {
   "cell_type": "code",
   "execution_count": null,
   "metadata": {
    "collapsed": true
   },
   "outputs": [],
   "source": []
  }
 ],
 "metadata": {
  "kernelspec": {
   "display_name": "Python2",
   "language": "python",
   "name": "python2"
  },
  "language_info": {
   "codemirror_mode": {
    "name": "ipython",
    "version": 2
   },
   "file_extension": ".py",
   "mimetype": "text/x-python",
   "name": "python",
   "nbconvert_exporter": "python",
   "pygments_lexer": "ipython2",
   "version": "2.7.12"
  }
 },
 "nbformat": 4,
 "nbformat_minor": 0
}
