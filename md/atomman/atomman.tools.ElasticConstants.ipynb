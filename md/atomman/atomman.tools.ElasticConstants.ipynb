{
 "cells": [
  {
   "cell_type": "markdown",
   "metadata": {},
   "source": [
    "# AtomMan ElasticConstants Class"
   ]
  },
  {
   "cell_type": "markdown",
   "metadata": {},
   "source": [
    "**Lucas M. Hale**, [lucas.hale@nist.gov](mailto:lucas.hale@nist.gov?Subject=ipr-demo), *Materials Science and Engineering Division, NIST*.\n",
    "\n",
    "**Chandler A. Becker**, [chandler.becker@nist.gov](mailto:chandler.becker@nist.gov?Subject=ipr-demo), *Materials Science and Engineering Division, NIST*.\n",
    "\n",
    "**Zachary T. Trautt**, [zachary.trautt@nist.gov](mailto:zachary.trautt@nist.gov?Subject=ipr-demo), *Materials Measurement Science Division, NIST*.\n",
    "\n",
    "Version: 2016-03-31\n",
    "\n",
    "[Disclaimers](http://www.nist.gov/public_affairs/disclaimer.cfm)\n",
    "\n",
    "Return to the [main atomman page](https://github.com/usnistgov/atomman).\n",
    "\n",
    "## Introduction\n",
    "\n",
    "The atomman.tools.ElasticConstants class is designed to represent a material's elastic constant matrix and allow for easy conversions to alternate forms.\n",
    "\n",
    "The underlying code can be found in [atomman/tools/ElasticConstants.py](https://github.com/usnistgov/atomman/blob/master/atomman/tools/ElasticConstants.py)."
   ]
  },
  {
   "cell_type": "markdown",
   "metadata": {},
   "source": [
    "__Library Imports__"
   ]
  },
  {
   "cell_type": "code",
   "execution_count": 1,
   "metadata": {
    "collapsed": true
   },
   "outputs": [],
   "source": [
    "from atomman.tools import ElasticConstants"
   ]
  },
  {
   "cell_type": "markdown",
   "metadata": {},
   "source": [
    "## 1. Basics\n",
    "\n",
    "The ElasticConstants class inherently allows for the conversion of the elastic constants tensor according to the following five representations:\n",
    "\n",
    "- __Cij__: 6x6 Voigt representation of the elastic stiffness.\n",
    "\n",
    "- __Sij__: 6x6 Voigt representation of the elastic compliance (inverse of Cij).\n",
    "\n",
    "- __Cijkl__: full 3x3x3x3 representation of the elastic stiffness tensor.\n",
    "\n",
    "- __model__: data model representation of the elastic stiffness tensor.\n",
    "\n",
    "- __C11, C12, ... C66__: individual components of Cij.\n",
    "\n",
    "The first four representations give a complete description of the elastic tensor by themselves. The individual components must be paired with a crystal family in order to properly handle symmetry operations. The available pairings are: \n",
    "\n",
    "- __cubic__: C11, C12, C44\n",
    "\n",
    "- __hexagonal__: C11, C33, C12, C13, C44\n",
    "\n",
    "- __tetragonal__: C11, C33, C12, C13, C16, C44, C66\n",
    "\n",
    "- __orthorhombic__: C11, C22, C33, C12, C13, C23, C44, C55, C66\n",
    "\n",
    "- __triclinic__: all Cij where i <= j"
   ]
  },
  {
   "cell_type": "markdown",
   "metadata": {},
   "source": [
    "## 2. Initilization\n",
    "\n",
    "An instance of ElasticConstants can be initilized using any of the five representations as keywords. When using individual components, a full set must be given.  "
   ]
  },
  {
   "cell_type": "code",
   "execution_count": 2,
   "metadata": {
    "collapsed": false
   },
   "outputs": [
    {
     "name": "stdout",
     "output_type": "stream",
     "text": [
      "[[ 100.   65.   65.    0.    0.    0.]\n",
      " [  65.  100.   65.    0.    0.    0.]\n",
      " [  65.   65.  100.    0.    0.    0.]\n",
      " [   0.    0.    0.   50.    0.    0.]\n",
      " [   0.    0.    0.    0.   50.    0.]\n",
      " [   0.    0.    0.    0.    0.   50.]]\n"
     ]
    }
   ],
   "source": [
    "#Assign individual components for a cubic system\n",
    "c = ElasticConstants(C11=100, C12=65, C44=50)\n",
    "\n",
    "#str of ElasticConstants returns str of Cij representation\n",
    "print c"
   ]
  },
  {
   "cell_type": "code",
   "execution_count": 3,
   "metadata": {
    "collapsed": false
   },
   "outputs": [
    {
     "name": "stdout",
     "output_type": "stream",
     "text": [
      "[[ 100.   65.   65.    0.    0.    0.]\n",
      " [  65.  100.   65.    0.    0.    0.]\n",
      " [  65.   65.  100.    0.    0.    0.]\n",
      " [   0.    0.    0.   50.    0.    0.]\n",
      " [   0.    0.    0.    0.   50.    0.]\n",
      " [   0.    0.    0.    0.    0.   50.]]\n"
     ]
    }
   ],
   "source": [
    "#reinitilize setting Cij of the new object equal to Cij of the old\n",
    "c = ElasticConstants(Cij=c.Cij)\n",
    "print c"
   ]
  },
  {
   "cell_type": "code",
   "execution_count": 4,
   "metadata": {
    "collapsed": false
   },
   "outputs": [
    {
     "name": "stdout",
     "output_type": "stream",
     "text": [
      "[[100.  65.  65.   0.   0.   0.]\n",
      " [ 65. 100.  65.   0.   0.   0.]\n",
      " [ 65.  65. 100.   0.   0.   0.]\n",
      " [  0.   0.   0.  50.   0.   0.]\n",
      " [  0.   0.   0.   0.  50.   0.]\n",
      " [  0.   0.   0.   0.   0.  50.]]\n"
     ]
    }
   ],
   "source": [
    "#reinitilize setting Sij of the new object equal to Sij of the old\n",
    "c = ElasticConstants(Sij=c.Sij)\n",
    "print c"
   ]
  },
  {
   "cell_type": "markdown",
   "metadata": {},
   "source": [
    "## 3. Directly getting and setting values\n",
    "\n",
    "Once created, the values of Cij, Sij, Cijkl can be directly accessed or set."
   ]
  },
  {
   "cell_type": "code",
   "execution_count": 5,
   "metadata": {
    "collapsed": false
   },
   "outputs": [
    {
     "name": "stdout",
     "output_type": "stream",
     "text": [
      "[[100.  65.  65.   0.   0.   0.]\n",
      " [ 65. 100.  65.   0.   0.   0.]\n",
      " [ 65.  65. 100.   0.   0.   0.]\n",
      " [  0.   0.   0.  50.   0.   0.]\n",
      " [  0.   0.   0.   0.  50.   0.]\n",
      " [  0.   0.   0.   0.   0.  50.]]\n"
     ]
    }
   ],
   "source": [
    "Cij = c.Cij\n",
    "print Cij"
   ]
  },
  {
   "cell_type": "code",
   "execution_count": 6,
   "metadata": {
    "collapsed": false
   },
   "outputs": [
    {
     "name": "stdout",
     "output_type": "stream",
     "text": [
      "[[100.  65.  65.   0.   0.   0.]\n",
      " [ 65. 100.  65.   0.   0.   0.]\n",
      " [ 65.  65. 100.   0.   0.   0.]\n",
      " [  0.   0.   0.  50.   0.   0.]\n",
      " [  0.   0.   0.   0.  50.   0.]\n",
      " [  0.   0.   0.   0.   0.  50.]]\n"
     ]
    }
   ],
   "source": [
    "c.Cij = Cij\n",
    "print c"
   ]
  },
  {
   "cell_type": "code",
   "execution_count": 7,
   "metadata": {
    "collapsed": false
   },
   "outputs": [
    {
     "name": "stdout",
     "output_type": "stream",
     "text": [
      "[[ 0.02049689 -0.00807453 -0.00807453  0.          0.          0.        ]\n",
      " [-0.00807453  0.02049689 -0.00807453  0.          0.          0.        ]\n",
      " [-0.00807453 -0.00807453  0.02049689  0.          0.          0.        ]\n",
      " [ 0.          0.          0.          0.02        0.          0.        ]\n",
      " [ 0.          0.          0.          0.          0.02        0.        ]\n",
      " [ 0.          0.          0.          0.          0.          0.02      ]]\n"
     ]
    }
   ],
   "source": [
    "Sij = c.Sij\n",
    "print Sij"
   ]
  },
  {
   "cell_type": "code",
   "execution_count": 8,
   "metadata": {
    "collapsed": false
   },
   "outputs": [
    {
     "name": "stdout",
     "output_type": "stream",
     "text": [
      "[[ 100.   65.   65.    0.    0.    0.]\n",
      " [  65.  100.   65.    0.    0.    0.]\n",
      " [  65.   65.  100.    0.    0.    0.]\n",
      " [   0.    0.    0.   50.    0.    0.]\n",
      " [   0.    0.    0.    0.   50.    0.]\n",
      " [   0.    0.    0.    0.    0.   50.]]\n"
     ]
    }
   ],
   "source": [
    "c.Sij = Sij\n",
    "print c"
   ]
  },
  {
   "cell_type": "code",
   "execution_count": 9,
   "metadata": {
    "collapsed": false
   },
   "outputs": [
    {
     "name": "stdout",
     "output_type": "stream",
     "text": [
      "[[[[ 100.    0.    0.]\n",
      "   [   0.   65.    0.]\n",
      "   [   0.    0.   65.]]\n",
      "\n",
      "  [[   0.   50.    0.]\n",
      "   [  50.    0.    0.]\n",
      "   [   0.    0.    0.]]\n",
      "\n",
      "  [[   0.    0.   50.]\n",
      "   [   0.    0.    0.]\n",
      "   [  50.    0.    0.]]]\n",
      "\n",
      "\n",
      " [[[   0.   50.    0.]\n",
      "   [  50.    0.    0.]\n",
      "   [   0.    0.    0.]]\n",
      "\n",
      "  [[  65.    0.    0.]\n",
      "   [   0.  100.    0.]\n",
      "   [   0.    0.   65.]]\n",
      "\n",
      "  [[   0.    0.    0.]\n",
      "   [   0.    0.   50.]\n",
      "   [   0.   50.    0.]]]\n",
      "\n",
      "\n",
      " [[[   0.    0.   50.]\n",
      "   [   0.    0.    0.]\n",
      "   [  50.    0.    0.]]\n",
      "\n",
      "  [[   0.    0.    0.]\n",
      "   [   0.    0.   50.]\n",
      "   [   0.   50.    0.]]\n",
      "\n",
      "  [[  65.    0.    0.]\n",
      "   [   0.   65.    0.]\n",
      "   [   0.    0.  100.]]]]\n"
     ]
    }
   ],
   "source": [
    "Cijkl = c.Cijkl\n",
    "print Cijkl"
   ]
  },
  {
   "cell_type": "code",
   "execution_count": 10,
   "metadata": {
    "collapsed": false
   },
   "outputs": [
    {
     "name": "stdout",
     "output_type": "stream",
     "text": [
      "[[ 100.   65.   65.    0.    0.    0.]\n",
      " [  65.  100.   65.    0.    0.    0.]\n",
      " [  65.   65.  100.    0.    0.    0.]\n",
      " [   0.    0.    0.   50.    0.    0.]\n",
      " [   0.    0.    0.    0.   50.    0.]\n",
      " [   0.    0.    0.    0.    0.   50.]]\n"
     ]
    }
   ],
   "source": [
    "c.Cijkl = Cijkl\n",
    "print c"
   ]
  },
  {
   "cell_type": "markdown",
   "metadata": {},
   "source": [
    "## 4. Setting Individual Components\n",
    "\n",
    "The values of an ElasticConstants object can also be set using the individual Cij components and methods based on a crystal family. The required keyword arguments for each method are:\n",
    "\n",
    "- __cubic__: C11, C12, C44\n",
    "\n",
    "- __hexagonal__: C11, C33, C12, C13, C44\n",
    "\n",
    "- __tetragonal__: C11, C33, C12, C13, C16, C44, C66\n",
    "\n",
    "- __orthorhombic__: C11, C22, C33, C12, C13, C23, C44, C55, C66\n",
    "\n",
    "- __triclinic__: all Cij where i <= j"
   ]
  },
  {
   "cell_type": "code",
   "execution_count": 11,
   "metadata": {
    "collapsed": false
   },
   "outputs": [
    {
     "name": "stdout",
     "output_type": "stream",
     "text": [
      "[[ 140.   95.   95.    0.    0.    0.]\n",
      " [  95.  140.   95.    0.    0.    0.]\n",
      " [  95.   95.  140.    0.    0.    0.]\n",
      " [   0.    0.    0.   86.    0.    0.]\n",
      " [   0.    0.    0.    0.   86.    0.]\n",
      " [   0.    0.    0.    0.    0.   86.]]\n"
     ]
    }
   ],
   "source": [
    "c.cubic(C11=140, C12=95, C44=86)\n",
    "print c"
   ]
  },
  {
   "cell_type": "markdown",
   "metadata": {},
   "source": [
    "## 5. Data Model Representation\n",
    "\n",
    "The method model also allows for the ElasticConstants to be set using a data model instance, or to create a data model representation. The keyword arguments are:\n",
    "\n",
    "- __model__: string, file-like object, or DataModelDict of a data model containing one elastic-constants element. If given, then the values in the model are read in.  If not given, then a DataModelDict of the model is returned.\n",
    "\n",
    "- __unit__: units to display the elastic stiffnesses in.\n",
    "\n",
    "- __crystal_system__: crystal family symmetry to use. Default is triclinic (all values given)."
   ]
  },
  {
   "cell_type": "code",
   "execution_count": 12,
   "metadata": {
    "collapsed": false
   },
   "outputs": [
    {
     "name": "stdout",
     "output_type": "stream",
     "text": [
      "{\n",
      "    \"elastic-constants\": {\n",
      "        \"C\": [\n",
      "            {\n",
      "                \"stiffness\": {\n",
      "                    \"value\": 22430.471909999982, \n",
      "                    \"unit\": \"GPa\"\n",
      "                }, \n",
      "                \"ij\": \"1 1\"\n",
      "            }, \n",
      "            {\n",
      "                \"stiffness\": {\n",
      "                    \"value\": 15220.677367499991, \n",
      "                    \"unit\": \"GPa\"\n",
      "                }, \n",
      "                \"ij\": \"1 2\"\n",
      "            }, \n",
      "            {\n",
      "                \"stiffness\": {\n",
      "                    \"value\": 13778.718458999991, \n",
      "                    \"unit\": \"GPa\"\n",
      "                }, \n",
      "                \"ij\": \"4 4\"\n",
      "            }\n",
      "        ]\n",
      "    }\n",
      "}\n"
     ]
    }
   ],
   "source": [
    "#Convert to DataModelDict\n",
    "#Note: atomman's default working units are based on:\n",
    "# length = 'angstrom', mass = 'amu', energy='eV', charge='e', temperature='K'\n",
    "\n",
    "model = c.model(unit=\"GPa\", crystal_system=\"cubic\")\n",
    "print model.json(indent=4)"
   ]
  },
  {
   "cell_type": "code",
   "execution_count": 13,
   "metadata": {
    "collapsed": false
   },
   "outputs": [
    {
     "name": "stdout",
     "output_type": "stream",
     "text": [
      "[[ 140.   95.   95.    0.    0.    0.]\n",
      " [  95.  140.   95.    0.    0.    0.]\n",
      " [  95.   95.  140.    0.    0.    0.]\n",
      " [   0.    0.    0.   86.    0.    0.]\n",
      " [   0.    0.    0.    0.   86.    0.]\n",
      " [   0.    0.    0.    0.    0.   86.]]\n"
     ]
    }
   ],
   "source": [
    "#reading the data model back in \n",
    "c.model(model=model)\n",
    "print c"
   ]
  },
  {
   "cell_type": "markdown",
   "metadata": {},
   "source": [
    "## 6. Transformation\n",
    "\n",
    "The tensor can also be transformed using a 3x3 transformation matrix.  For cubic systems, crystallographic directions can be used as the normalized vectors will be the transformation matrix (assuming that the elastic constants were originally oriented for \\[1 0 0\\] \\[0 1 0\\] \\[0 0 1\\])."
   ]
  },
  {
   "cell_type": "code",
   "execution_count": 14,
   "metadata": {
    "collapsed": false
   },
   "outputs": [
    {
     "name": "stdout",
     "output_type": "stream",
     "text": [
      "[[ 203.5   31.5   95.     0.     0.     0. ]\n",
      " [  31.5  203.5   95.     0.     0.     0. ]\n",
      " [  95.    95.   140.     0.     0.     0. ]\n",
      " [   0.     0.     0.    86.     0.     0. ]\n",
      " [   0.     0.     0.     0.    86.     0. ]\n",
      " [   0.     0.     0.     0.     0.    22.5]]\n"
     ]
    }
   ],
   "source": [
    "axes = [[ 1, 1, 0], \n",
    "        [-1, 1, 0], \n",
    "        [ 0, 0, 1]]\n",
    "\n",
    "print c.transform(axes)"
   ]
  },
  {
   "cell_type": "markdown",
   "metadata": {},
   "source": [
    "## 7. Shear and Bulk Modulus Estimates\n",
    "\n",
    "Values for the shear and bulk modulus can also be directly obtained as class properties.  Three different estimates are available for both properties:\n",
    "\n",
    "- __Voigt__ averages use stiffness values, i.e. hydrostatic and non-hydrostatic stress estimates.\n",
    "\n",
    "- __Reuss__ averages use compliance values, i.e. hydrostatic and non-hydrostatic strain estimates.\n",
    "\n",
    "- __Hill__ averages compute the mean of the Voigt and Reuss averages."
   ]
  },
  {
   "cell_type": "code",
   "execution_count": 21,
   "metadata": {
    "collapsed": false
   },
   "outputs": [
    {
     "name": "stdout",
     "output_type": "stream",
     "text": [
      "Hill bulk modulus =  110.0\n",
      "Voigt bulk modulus = 110.0\n",
      "Reuss bulk modulus = 110.0\n"
     ]
    }
   ],
   "source": [
    "#bulk modulus estimates\n",
    "print \"Hill bulk modulus = \", c2.bulk \n",
    "print \"Voigt bulk modulus =\", c2.bulk_Voigt\n",
    "print \"Reuss bulk modulus =\", c2.bulk_Reuss"
   ]
  },
  {
   "cell_type": "code",
   "execution_count": 22,
   "metadata": {
    "collapsed": false
   },
   "outputs": [
    {
     "name": "stdout",
     "output_type": "stream",
     "text": [
      "Hill shear modulus =  50.4983298539\n",
      "Voigt shear modulus = 60.6\n",
      "Reuss shear modulus = 40.3966597077\n"
     ]
    }
   ],
   "source": [
    "#shear modulus estimates\n",
    "print \"Hill shear modulus = \", c2.shear \n",
    "print \"Voigt shear modulus =\", c2.shear_Voigt\n",
    "print \"Reuss shear modulus =\", c2.shear_Reuss"
   ]
  }
 ],
 "metadata": {
  "kernelspec": {
   "display_name": "Python 2",
   "language": "python",
   "name": "python2"
  },
  "language_info": {
   "codemirror_mode": {
    "name": "ipython",
    "version": 2
   },
   "file_extension": ".py",
   "mimetype": "text/x-python",
   "name": "python",
   "nbconvert_exporter": "python",
   "pygments_lexer": "ipython2",
   "version": "2.7.11"
  }
 },
 "nbformat": 4,
 "nbformat_minor": 0
}
