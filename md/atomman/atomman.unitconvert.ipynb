{
 "cells": [
  {
   "cell_type": "markdown",
   "metadata": {},
   "source": [
    "# AtomMan Unit Conversion"
   ]
  },
  {
   "cell_type": "markdown",
   "metadata": {},
   "source": [
    "**Lucas M. Hale**, [lucas.hale@nist.gov](mailto:lucas.hale@nist.gov?Subject=ipr-demo), *Materials Science and Engineering Division, NIST*.\n",
    "\n",
    "**Chandler A. Becker**, [chandler.becker@nist.gov](mailto:chandler.becker@nist.gov?Subject=ipr-demo), *Materials Science and Engineering Division, NIST*.\n",
    "\n",
    "**Zachary T. Trautt**, [zachary.trautt@nist.gov](mailto:zachary.trautt@nist.gov?Subject=ipr-demo), *Materials Measurement Science Division, NIST*.\n",
    "\n",
    "Version: 2016-03-31\n",
    "\n",
    "[Disclaimers](http://www.nist.gov/public_affairs/disclaimer.cfm)\n",
    "\n",
    "Return to the [main atomman page](https://github.com/usnistgov/atomman).\n",
    "\n",
    "## Introduction\n",
    "\n",
    "The atomman package handles unit conversion by building off of the [numericalunits](https://pypi.python.org/pypi/numericalunits) package.  In this manner, units are not 'controlled' but converted at the beginning and end of simulations.  This minimizes overhead and allows for simple code. numericalunits works by defining all units relative to five independent base units (meters, kilograms, seconds, coulombs, kelvins).  In this manner all units for dimensionally correct values will cancel out.  More information can be found in the numericalunits documentation.\n",
    "\n",
    "The underlying code can be found in [atomman/unitconvert.py](https://github.com/usnistgov/atomman/blob/master/atomman/unitconvert.py)."
   ]
  },
  {
   "cell_type": "markdown",
   "metadata": {},
   "source": [
    "__Library imports__"
   ]
  },
  {
   "cell_type": "code",
   "execution_count": 1,
   "metadata": {
    "collapsed": true
   },
   "outputs": [],
   "source": [
    "#External library imports\n",
    "import numpy as np\n",
    "\n",
    "#atomman imports\n",
    "import atomman.unitconvert as uc"
   ]
  },
  {
   "cell_type": "markdown",
   "metadata": {},
   "source": [
    "## 1. Value assignment and retrieval\n",
    "\n",
    "The units module of atomman contains the functions set_in_units() and get_in_units() that handles unit conversions when data is assigned and retrieved, respectively.  The function arguments are value and unit, where unit can be specified as a string, numerical value, or None."
   ]
  },
  {
   "cell_type": "code",
   "execution_count": 2,
   "metadata": {
    "collapsed": false
   },
   "outputs": [
    {
     "name": "stdout",
     "output_type": "stream",
     "text": [
      "Units can be specified as strings:\n",
      "five_feet = uc.set_in_units(5, 'foot')\n",
      "uc.get_in_units(five_feet, 'inch') -> 60.0\n",
      "\n",
      "Alternatively, values can be scaled:\n",
      "relative_position -> [ 0.5  0.5  0.5]\n",
      "uc.get_in_units(a_lattice, 'angstrom') -> 3.2\n",
      "position = uc.set_in_units(relative_position, a_lattice)\n",
      "uc.get_in_units(position, 'angstrom') -> [ 1.6  1.6  1.6]\n",
      "\n",
      "Units of None does no conversion:\n",
      "uc.get_in_units(42, None) -> 42\n",
      "uc.set_in_units(42, None) -> 42\n"
     ]
    }
   ],
   "source": [
    "#Using set_in_units and get_in_units with string unit names\n",
    "print \"Units can be specified as strings:\"\n",
    "print \"five_feet = uc.set_in_units(5, 'foot')\"\n",
    "five_feet = uc.set_in_units(5, 'foot')\n",
    "print \"uc.get_in_units(five_feet, 'inch') ->\", uc.get_in_units(five_feet, 'inch') \n",
    "print \n",
    "\n",
    "#If one value is relative to another, the already assigned value can be used\n",
    "print 'Alternatively, values can be scaled:'\n",
    "relative_position = np.array([0.5, 0.5, 0.5])\n",
    "print \"relative_position ->\", relative_position\n",
    "\n",
    "a_lattice = uc.set_in_units(3.2, 'angstrom')\n",
    "print \"uc.get_in_units(a_lattice, 'angstrom') ->\", uc.get_in_units(a_lattice, 'angstrom')\n",
    "\n",
    "print \"position = uc.set_in_units(relative_position, a_lattice)\"\n",
    "position = uc.set_in_units(relative_position, a_lattice)\n",
    "print \"uc.get_in_units(position, 'angstrom') ->\", uc.get_in_units(position, 'angstrom')\n",
    "print \n",
    "\n",
    "#If the unit is None, value is not scaled\n",
    "print \"Units of None does no conversion:\"\n",
    "print \"uc.get_in_units(42, None) ->\", uc.get_in_units(42, None)\n",
    "print \"uc.set_in_units(42, None) ->\", uc.set_in_units(42, None)"
   ]
  },
  {
   "cell_type": "markdown",
   "metadata": {},
   "source": [
    "## 2.  Dictionary of units\n",
    "\n",
    "Access of the units by string is accomplished by creating a dictionary \"unit\" containing all of numericalunits defined units.  Note that the default setting for atomman is that all values are converted to working units based on the following dimension settings:\n",
    "\n",
    "- length in angstroms\n",
    "\n",
    "- mass in amu\n",
    "\n",
    "- energy in eV\n",
    "\n",
    "- charge in e (proton charge)\n",
    "\n",
    "- temperature in K"
   ]
  },
  {
   "cell_type": "code",
   "execution_count": 3,
   "metadata": {
    "collapsed": false
   },
   "outputs": [
    {
     "name": "stdout",
     "output_type": "stream",
     "text": [
      "uc.unit['angstrom'] -> 1.0\n",
      "uc.unit['amu'] -> 1.0\n",
      "uc.unit['eV'] -> 1.0\n",
      "uc.unit['e'] -> 1.0\n",
      "uc.unit['K'] -> 1.0\n",
      "\n",
      "uc.unit['m'] -> 10000000000.0\n"
     ]
    }
   ],
   "source": [
    "print \"uc.unit['angstrom'] ->\", uc.unit['angstrom']\n",
    "print \"uc.unit['amu'] ->\", uc.unit['amu']\n",
    "print \"uc.unit['eV'] ->\", uc.unit['eV']\n",
    "print \"uc.unit['e'] ->\", uc.unit['e']\n",
    "print \"uc.unit['K'] ->\", uc.unit['K']\n",
    "print\n",
    "print \"uc.unit['m'] ->\", uc.unit['m']"
   ]
  },
  {
   "cell_type": "markdown",
   "metadata": {},
   "source": [
    "## 3. Unit string parsing\n",
    "\n",
    "More complex or custom unit specifications can also be converted from strings using the parse() method.  The parse method works according to the following rules:\n",
    "\n",
    "1. The argument is broken apart into terms and operators.\n",
    "\n",
    "2. Allowable operators are: * for multiplication, / for division, ^ for powers, and ().  Normal order of operations is used.  Multiplication must be explicitly specified. \n",
    "\n",
    "3. Terms can be numbers (starting with digit, minus sign or decimal point) or strings (starting with letter).  Each term ends when either whitespace or a operator is found. \n",
    "\n",
    "4. Number terms are converted into floats\n",
    "\n",
    "5. String terms are converted using the unit dictionary."
   ]
  },
  {
   "cell_type": "code",
   "execution_count": 4,
   "metadata": {
    "collapsed": false
   },
   "outputs": [
    {
     "name": "stdout",
     "output_type": "stream",
     "text": [
      "uc.parse('nm*eV') -> 10.0\n",
      "uc.parse('m^3') -> 1e+30\n",
      "uc.parse('eV/J') -> 1.602176565e-19\n",
      "uc.parse(None) -> 1\n",
      "uc.parse(1492) -> 1492\n",
      "uc.parse('1492') -> 1492.0\n"
     ]
    }
   ],
   "source": [
    "#Testing parse()\n",
    "print \"uc.parse('nm*eV') ->\", uc.parse('nm*eV')\n",
    "print \"uc.parse('m^3') ->\", uc.parse('m^3')\n",
    "print \"uc.parse('eV/J') ->\", uc.parse('eV/J')\n",
    "print \"uc.parse(None) ->\", uc.parse(None)\n",
    "print \"uc.parse(1492) ->\", uc.parse(1492)\n",
    "print \"uc.parse('1492') ->\", uc.parse('1492')"
   ]
  },
  {
   "cell_type": "markdown",
   "metadata": {},
   "source": [
    "The get_in_units() and set_in_units() call parse() as well."
   ]
  },
  {
   "cell_type": "code",
   "execution_count": 5,
   "metadata": {
    "collapsed": false
   },
   "outputs": [
    {
     "name": "stdout",
     "output_type": "stream",
     "text": [
      "1e5 dyn = N = kg*m/s^2:\n",
      "  newton = uc.set_in_units(1e5, 'dyn')\n",
      "  uc.get_in_units(newton, 'kg*m/s^2') -> 1.0\n",
      "\n",
      "pg/(um*us^2) = 1000 Pa = kPa:\n",
      "  pressure = uc.set_in_units(5, 'pg / (um * us^2)')\n",
      "  uc.get_in_units(pressure, 'kPa') -> 5.0\n"
     ]
    }
   ],
   "source": [
    "#Testing get_in_units() and set_in_units() with complex strings\n",
    "print '1e5 dyn = N = kg*m/s^2:'\n",
    "\n",
    "newton = uc.set_in_units(1e5, 'dyn')\n",
    "print \"  newton = uc.set_in_units(1e5, 'dyn')\"\n",
    "print \"  uc.get_in_units(newton, 'kg*m/s^2') ->\", uc.get_in_units(newton, 'kg*m/s^2')\n",
    "print\n",
    "\n",
    "print 'pg/(um*us^2) = 1000 Pa = kPa:'\n",
    "\n",
    "pressure = uc.set_in_units(5, 'pg / (um * us^2)')\n",
    "print \"  pressure = uc.set_in_units(5, 'pg / (um * us^2)')\"\n",
    "print \"  uc.get_in_units(pressure, 'kPa') ->\", uc.get_in_units(pressure, 'kPa')"
   ]
  },
  {
   "cell_type": "markdown",
   "metadata": {},
   "source": [
    "## 4. Changing the working units\n",
    "\n",
    "The units that atomman works in can be changed using the reset_units() function.  Function arguments allow for the specification of units for:\n",
    "\n",
    "- length \n",
    "\n",
    "- mass \n",
    "\n",
    "- time\n",
    "\n",
    "- energy\n",
    "\n",
    "- charge\n",
    "\n",
    "__Note #1__: length, mass, time and energy cannot all be specified as they are not independent.\n",
    "\n",
    "__Note #2__: Temperature is left in K as temperature conversions require both scaling and shifting.\n",
    "\n",
    "__Note #3__: If less than four dimension terms are specified in reset(), the non-dependent terms will be scaled to the SI standards (length = 'm', mass='kg', time='s', charge='C', temperature='K')."
   ]
  },
  {
   "cell_type": "code",
   "execution_count": 6,
   "metadata": {
    "collapsed": false
   },
   "outputs": [
    {
     "name": "stdout",
     "output_type": "stream",
     "text": [
      "uc.unit['nm'] -> 1.0\n",
      "uc.unit['eV'] -> 1.0\n",
      "uc.unit['ps'] -> 1.0\n",
      "uc.unit['e'] -> 1.0\n",
      "uc.unit['K'] -> 1.0\n",
      "\n",
      "uc.unit['angstrom'] -> 0.1\n"
     ]
    }
   ],
   "source": [
    "uc.reset_units(length='nm', energy='eV', time='ps', charge='e')\n",
    "print \"uc.unit['nm'] ->\", uc.unit['nm']\n",
    "print \"uc.unit['eV'] ->\", uc.unit['eV']\n",
    "print \"uc.unit['ps'] ->\", uc.unit['ps']\n",
    "print \"uc.unit['e'] ->\", uc.unit['e']\n",
    "print \"uc.unit['K'] ->\", uc.unit['K']\n",
    "print\n",
    "print \"uc.unit['angstrom'] ->\", uc.unit['angstrom']"
   ]
  },
  {
   "cell_type": "markdown",
   "metadata": {},
   "source": [
    "The reset_units() function also allows for the numericalunits' standard random working units to be applied simply by calling the function with no arguments, or just a random number seed.  This is useful during development as it offers a check into proper dimension handling. \n",
    "\n",
    "From [numericalunits' documentation](https://pypi.python.org/pypi/numericalunits):\n",
    "\n",
    "_\"In a dimensionally-correct calculation, the units all cancel out, so the final answer is deterministic, not random. In a dimensionally-incorrect calculations, there will be random factors causing a randomly-varying final answer.\"_"
   ]
  },
  {
   "cell_type": "code",
   "execution_count": 7,
   "metadata": {
    "collapsed": false
   },
   "outputs": [
    {
     "name": "stdout",
     "output_type": "stream",
     "text": [
      "uc.unit['m'] -> 1.02363081577e-10\n",
      "uc.unit['kg'] -> 2.73898580607e-20\n",
      "uc.unit['s'] -> 4.01840950663e-13\n",
      "uc.unit['C'] -> 2.58565504442e-20\n",
      "uc.unit['K'] -> 9.87420596949\n",
      "\n",
      "uc.unit['angstrom'] / uc.unit['angstrom'] -> 1.0\n"
     ]
    }
   ],
   "source": [
    "uc.reset_units()\n",
    "print \"uc.unit['m'] ->\", uc.unit['nm']\n",
    "print \"uc.unit['kg'] ->\", uc.unit['eV']\n",
    "print \"uc.unit['s'] ->\", uc.unit['ps']\n",
    "print \"uc.unit['C'] ->\", uc.unit['e']\n",
    "print \"uc.unit['K'] ->\", uc.unit['K']\n",
    "print\n",
    "print \"uc.unit['angstrom'] / uc.unit['angstrom'] ->\", uc.unit['angstrom'] / uc.unit['angstrom']"
   ]
  },
  {
   "cell_type": "code",
   "execution_count": null,
   "metadata": {
    "collapsed": true
   },
   "outputs": [],
   "source": []
  }
 ],
 "metadata": {
  "kernelspec": {
   "display_name": "Python 2",
   "language": "python",
   "name": "python2"
  },
  "language_info": {
   "codemirror_mode": {
    "name": "ipython",
    "version": 2
   },
   "file_extension": ".py",
   "mimetype": "text/x-python",
   "name": "python",
   "nbconvert_exporter": "python",
   "pygments_lexer": "ipython2",
   "version": "2.7.11"
  }
 },
 "nbformat": 4,
 "nbformat_minor": 0
}
