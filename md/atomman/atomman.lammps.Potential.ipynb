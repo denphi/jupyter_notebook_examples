{
 "cells": [
  {
   "cell_type": "markdown",
   "metadata": {},
   "source": [
    "# AtomMan LAMMPS Potential Class"
   ]
  },
  {
   "cell_type": "markdown",
   "metadata": {},
   "source": [
    "**Lucas M. Hale**, [lucas.hale@nist.gov](mailto:lucas.hale@nist.gov?Subject=ipr-demo), *Materials Science and Engineering Division, NIST*.\n",
    "\n",
    "**Chandler A. Becker**, [chandler.becker@nist.gov](mailto:chandler.becker@nist.gov?Subject=ipr-demo), *Materials Science and Engineering Division, NIST*.\n",
    "\n",
    "**Zachary T. Trautt**, [zachary.trautt@nist.gov](mailto:zachary.trautt@nist.gov?Subject=ipr-demo), *Materials Measurement Science Division, NIST*.\n",
    "\n",
    "Version: 2016-03-31\n",
    "\n",
    "[Disclaimers](http://www.nist.gov/public_affairs/disclaimer.cfm)\n",
    "\n",
    "Return to the [main atomman page](https://github.com/usnistgov/atomman).\n",
    "\n",
    "## Introduction\n",
    "\n",
    "The atomman package was designed to allow for the creation and analysis of large scale atomistic simulations.  To help facilitate this, the atomman.lammps module contains a number of useful functions and classes that allow for atomman to interact with the LAMMPS molecular dynamics software.\n",
    "\n",
    "Properly running LAMMPS with a specific interatomic potential requires a number of parameters to be properly set.  To easily allow switching between different potentials, atomman collects the necessary run parameters in json-xml equivalent data models.  These models can then be loaded with the atomman.lammps.Potential class.\n",
    "\n",
    "The underlying code can be found in [atomman/lammps/Potential.py](https://github.com/usnistgov/atomman/blob/master/atomman/lammps/Potential.py).\n",
    "\n",
    "- - -"
   ]
  },
  {
   "cell_type": "markdown",
   "metadata": {},
   "source": [
    "__Library Imports__"
   ]
  },
  {
   "cell_type": "code",
   "execution_count": 1,
   "metadata": {
    "collapsed": false
   },
   "outputs": [],
   "source": [
    "import atomman.lammps as lmp"
   ]
  },
  {
   "cell_type": "markdown",
   "metadata": {},
   "source": [
    "## 1. Potential Class Basics"
   ]
  },
  {
   "cell_type": "markdown",
   "metadata": {},
   "source": [
    "### 1.1 Potential Class Attributes\n",
    "\n",
    "The attributes of a Potential fall into two categories: fixed attributes associated with the underlying data model, and variable user-defined properties.\n",
    "\n",
    "Fixed Potential properties:\n",
    "\n",
    "- __id__: Human-readable identifier.\n",
    "\n",
    "- __uuid__: uuid hash-key.\n",
    "\n",
    "- __units__: LAMMPS units option.\n",
    "\n",
    "- __atom_style__: LAMMPS atom_style option.\n",
    "\n",
    "- __symbols__: List of all atom-model symbols.\n",
    "\n",
    "User-defined attributes:\n",
    "\n",
    "- __pot_dir__: Directory where any files associated with the potential are located (e.g. an EAM setfl potential file)."
   ]
  },
  {
   "cell_type": "markdown",
   "metadata": {},
   "source": [
    "### 1.2 Potential Class Methods"
   ]
  },
  {
   "cell_type": "markdown",
   "metadata": {},
   "source": [
    "__\\_\\_init\\_\\_(model. pot_dir='')__: Initilize a Potential instance by calling load(). Arguments:\n",
    "\n",
    "- __model__: String or file-like object containing json/xml, or a DataModelDict containing element 'LAMMPS-potential'.\n",
    "\n",
    "- __pot_dir__: Directory where any files associated with the potential are located. Default value is an empty string."
   ]
  },
  {
   "cell_type": "markdown",
   "metadata": {},
   "source": [
    "__\\_\\_str\\_\\_()__: str(Potential) returns Potential.id."
   ]
  },
  {
   "cell_type": "markdown",
   "metadata": {},
   "source": [
    "__elements(symbols=None)__: Return list of chemical elements associated with a list of atom-model symbols. Arguments: \n",
    "\n",
    "- __symbols__: List of element-model symbols.  If None (default), will use all of the Potential's symbols, i.e. Potential.symbols.  "
   ]
  },
  {
   "cell_type": "markdown",
   "metadata": {},
   "source": [
    "__load(model, pot_dir=None)__: Loads in a data model associated with the potential. Arguments:\n",
    "\n",
    "- __model__: String or file-like object containing json/xml, or a DataModelDict containing element 'LAMMPS-potential'.\n",
    "\n",
    "- __pot_dir__: Directory where any files associated with the potential are located. Value is only set if pot_dir is not None."
   ]
  },
  {
   "cell_type": "markdown",
   "metadata": {},
   "source": [
    "__masses(symbols=None)__: Return list of element masses associated with a list of atom-model symbols. The mass values are either taken from the data model (if included), or set to equal the standardized values for each atom-model's element (using Mendeleev).  Arguments: \n",
    "\n",
    "- __symbols__: List of element-model symbols.  If None (default), will use all of the Potential's symbols, i.e. Potential.symbols."
   ]
  },
  {
   "cell_type": "markdown",
   "metadata": {},
   "source": [
    "__pair_info(symbols=None)__: Return string containing all LAMMPS input commands for running potential with a list of atom-model symbols. Arguments: \n",
    "\n",
    "- __symbols__: List of element-model symbols.  If None (default), will use all of the Potential's symbols, i.e. Potential.symbols."
   ]
  },
  {
   "cell_type": "markdown",
   "metadata": {},
   "source": [
    "### 1.3 Symbols vs. Elements\n",
    "\n",
    "With classical atomistics, each uniqe atom-model within a potential is assigned a unique symbol name.  For most potentials, this symbol is taken to be the tag for the model's chemical element, e.g. 'Fe' or 'Al'.  However, occasionally multiple atom-models are contained within the same potential definition for the same chemical element. When this happens, then the symbols and elements must be different.\n",
    "\n",
    "For example, let's say there is a Potential silicon_model with 3 different representations of Si.  In this case:\n",
    "\n",
    "- silicon_model.symbols -> ['Si(a)', 'Si(b)', 'Si(c)']\n",
    "\n",
    "- silicon_model.elements() -> ['Si', 'Si', 'Si']\n"
   ]
  },
  {
   "cell_type": "markdown",
   "metadata": {},
   "source": [
    "## 2. Examples"
   ]
  },
  {
   "cell_type": "markdown",
   "metadata": {},
   "source": [
    "### 2.1 Lennard-Jones\n",
    "\n",
    "Simple pair potentials define an interaction for each unique atom-model pair. The parameters for the interactions are often simple enough to be directly inputted instead of relying on an external file.\n",
    "\n",
    "__THIS IS NOT A REAL POTENTIAL! ONLY FOR DEMONSTRATION PURPOSES!__"
   ]
  },
  {
   "cell_type": "code",
   "execution_count": 2,
   "metadata": {
    "collapsed": true
   },
   "outputs": [],
   "source": [
    "#json representation of a lj/cut potential's run parameters\n",
    "lj_cut_json = \"\"\"{\n",
    "    \"LAMMPS-potential\": {\n",
    "        \"potential\": {\n",
    "            \"key\": \"ebf17ffa-a5e7-41c5-8e6d-8e00eb7f5068\",\n",
    "            \"id\": \"lj_cut-demo\"\n",
    "        },\n",
    "        \"units\": \"lj\",\n",
    "        \"atom_style\": \"atomic\",\n",
    "        \"atom\": [\n",
    "            {\n",
    "                \"element\": \"He\"\n",
    "            },\n",
    "            {\n",
    "                \"element\": \"Ar\"\n",
    "            }\n",
    "        ],\n",
    "        \"pair_style\": {\n",
    "            \"type\": \"lj/cut\",\n",
    "            \"term\": {\n",
    "                \"parameter\": 10.0\n",
    "            }\n",
    "        },\n",
    "        \"pair_coeff\": [\n",
    "            {\n",
    "                \"interaction\": {\n",
    "                    \"symbol\": [\n",
    "                        \"He\",\n",
    "                        \"He\"\n",
    "                    ]\n",
    "                },\n",
    "                \"term\": [\n",
    "                    {\n",
    "                        \"parameter\": 1.0\n",
    "                    },\n",
    "                    {\n",
    "                        \"parameter\": 1.0\n",
    "                    }\n",
    "                ]\n",
    "            },\n",
    "            {\n",
    "                \"interaction\": {\n",
    "                    \"symbol\": [\n",
    "                        \"Ar\",\n",
    "                        \"Ar\"\n",
    "                    ]\n",
    "                },\n",
    "                \"term\": [\n",
    "                    {\n",
    "                        \"parameter\": 2.0\n",
    "                    },\n",
    "                    {\n",
    "                        \"parameter\": 2.0\n",
    "                    }\n",
    "                ]\n",
    "            },\n",
    "            {\n",
    "                \"interaction\": {\n",
    "                    \"symbol\": [\n",
    "                        \"He\",\n",
    "                        \"Ar\"\n",
    "                    ]\n",
    "                },\n",
    "                \"term\": [\n",
    "                    {\n",
    "                        \"parameter\": 1.0\n",
    "                    },\n",
    "                    {\n",
    "                        \"parameter\": 2.0\n",
    "                    }\n",
    "                ]\n",
    "            }            \n",
    "        ]\n",
    "    }\n",
    "}\"\"\""
   ]
  },
  {
   "cell_type": "markdown",
   "metadata": {},
   "source": [
    "We'll now initilize a Potential based on this data model, and check what the various attributes and methods return."
   ]
  },
  {
   "cell_type": "code",
   "execution_count": 3,
   "metadata": {
    "collapsed": false
   },
   "outputs": [
    {
     "name": "stdout",
     "output_type": "stream",
     "text": [
      "potential = lmp.Potential(lj_cut_json)\n",
      "\n",
      "potential ->            lj_cut-demo\n",
      "potential.id ->         lj_cut-demo\n",
      "potential.uuid ->       ebf17ffa-a5e7-41c5-8e6d-8e00eb7f5068\n",
      "potential.units ->      lj\n",
      "potential.atom_style -> atomic\n",
      "potential.symbols ->    ['He', 'Ar']\n",
      "potential.elements() -> ['He', 'Ar']\n",
      "potential.masses() ->   [4.002602, 39.948]\n",
      "\n",
      "potential.pair_info() ->\n",
      "mass 1 4.002602\n",
      "mass 2 39.948000\n",
      "\n",
      "pair_style lj/cut 10.0\n",
      "pair_coeff 1 1 1.0 1.0\n",
      "pair_coeff 2 2 2.0 2.0\n",
      "pair_coeff 1 2 1.0 2.0\n",
      "\n"
     ]
    }
   ],
   "source": [
    "print \"potential = lmp.Potential(lj_cut_json)\"\n",
    "potential = lmp.Potential(lj_cut_json)\n",
    "print\n",
    "print \"potential ->           \", potential\n",
    "print \"potential.id ->        \", potential.id\n",
    "print \"potential.uuid ->      \", potential.uuid\n",
    "print \"potential.units ->     \", potential.units\n",
    "print \"potential.atom_style ->\", potential.atom_style\n",
    "print \"potential.symbols ->   \", potential.symbols\n",
    "print \"potential.elements() ->\", potential.elements()\n",
    "print \"potential.masses() ->  \", potential.masses()\n",
    "print\n",
    "print \"potential.pair_info() ->\"\n",
    "print potential.pair_info()"
   ]
  },
  {
   "cell_type": "markdown",
   "metadata": {},
   "source": [
    "Specifying a symbols list to associate with a System's atom types changes the results accordingly"
   ]
  },
  {
   "cell_type": "code",
   "execution_count": 4,
   "metadata": {
    "collapsed": false
   },
   "outputs": [
    {
     "name": "stdout",
     "output_type": "stream",
     "text": [
      "symbols = 'Ar'\n",
      "potential.elements(symbols) -> ['Ar']\n",
      "potential.masses(symbols)   -> [39.948]\n",
      "potential.pair_info(symbols) ->\n",
      "mass 1 39.948000\n",
      "\n",
      "pair_style lj/cut 10.0\n",
      "pair_coeff 1 1 2.0 2.0\n",
      "\n",
      "\n",
      "symbols = ['Ar', 'He', 'Ar', 'Ar']\n",
      "potential.elements(symbols) -> ['Ar', 'He', 'Ar', 'Ar']\n",
      "potential.masses(symbols)   -> [39.948, 4.002602, 39.948, 39.948]\n",
      "potential.pair_info(symbols) ->\n",
      "mass 1 39.948000\n",
      "mass 2 4.002602\n",
      "mass 3 39.948000\n",
      "mass 4 39.948000\n",
      "\n",
      "pair_style lj/cut 10.0\n",
      "pair_coeff 2 2 1.0 1.0\n",
      "pair_coeff 1 1 2.0 2.0\n",
      "pair_coeff 1 3 2.0 2.0\n",
      "pair_coeff 1 4 2.0 2.0\n",
      "pair_coeff 3 3 2.0 2.0\n",
      "pair_coeff 3 4 2.0 2.0\n",
      "pair_coeff 4 4 2.0 2.0\n",
      "pair_coeff 1 2 1.0 2.0\n",
      "pair_coeff 2 3 1.0 2.0\n",
      "pair_coeff 2 4 1.0 2.0\n",
      "\n"
     ]
    }
   ],
   "source": [
    "#Test output when only Ar included\n",
    "print \"symbols = 'Ar'\"\n",
    "symbols = 'Ar'\n",
    "print \"potential.elements(symbols) ->\", potential.elements(symbols)\n",
    "print \"potential.masses(symbols)   ->\", potential.masses(symbols)\n",
    "print \"potential.pair_info(symbols) ->\"\n",
    "print potential.pair_info(symbols)\n",
    "print \n",
    "\n",
    "#Test output for complex symbols list\n",
    "print \"symbols = ['Ar', 'He', 'Ar', 'Ar']\"\n",
    "symbols = ['Ar', 'He', 'Ar', 'Ar']\n",
    "print \"potential.elements(symbols) ->\", potential.elements(symbols)\n",
    "print \"potential.masses(symbols)   ->\", potential.masses(symbols)\n",
    "print \"potential.pair_info(symbols) ->\"\n",
    "print potential.pair_info(symbols)"
   ]
  },
  {
   "cell_type": "markdown",
   "metadata": {},
   "source": [
    "### 2.2 EAM\n",
    "\n",
    "Many body potentials, such as EAM, define their interactions in external potential files."
   ]
  },
  {
   "cell_type": "code",
   "execution_count": 5,
   "metadata": {
    "collapsed": true
   },
   "outputs": [],
   "source": [
    "eam_alloy_json = \"\"\"{\n",
    "    \"LAMMPS-potential\": {\n",
    "        \"potential\": {\n",
    "            \"key\": \"820738a9-f556-468b-9041-9d98351ff751\",\n",
    "            \"id\": \"EAM-demo\"\n",
    "        },\n",
    "        \"units\": \"metal\",\n",
    "        \"atom_style\": \"atomic\",\n",
    "        \"atom\": [\n",
    "            {\n",
    "                \"element\": \"Ni\",\n",
    "                \"mass\": 58.6934\n",
    "            },\n",
    "            {\n",
    "                \"element\": \"Al\",\n",
    "                \"mass\": 26.981539\n",
    "            },\n",
    "            {\n",
    "                \"element\": \"Co\",\n",
    "                \"mass\": 58.9332\n",
    "            }\n",
    "        ],\n",
    "        \"pair_style\": {\n",
    "            \"type\": \"eam/alloy\"\n",
    "        },\n",
    "        \"pair_coeff\": {\n",
    "            \"term\": [\n",
    "                {\n",
    "                    \"file\": \"file.eam.alloy\"\n",
    "                },\n",
    "                {\n",
    "                    \"symbols\": \"True\"\n",
    "                }\n",
    "            ]\n",
    "        }\n",
    "    }\n",
    "}\"\"\""
   ]
  },
  {
   "cell_type": "markdown",
   "metadata": {},
   "source": [
    "We'll now call load() on the data model, and check what the various attributes and methods return."
   ]
  },
  {
   "cell_type": "code",
   "execution_count": 6,
   "metadata": {
    "collapsed": false
   },
   "outputs": [
    {
     "name": "stdout",
     "output_type": "stream",
     "text": [
      "potential.load(eam_alloy_json, pot_dir='potdir')\n",
      "\n",
      "potential ->            EAM-demo\n",
      "potential.id ->         EAM-demo\n",
      "potential.uuid ->       820738a9-f556-468b-9041-9d98351ff751\n",
      "potential.units ->      metal\n",
      "potential.atom_style -> atomic\n",
      "potential.symbols ->    ['Ni', 'Al', 'Co']\n",
      "potential.elements() -> ['Ni', 'Al', 'Co']\n",
      "potential.masses() ->   [58.6934, 26.981539, 58.9332]\n",
      "\n",
      "potential.pair_info() ->\n",
      "mass 1 58.693400\n",
      "mass 2 26.981539\n",
      "mass 3 58.933200\n",
      "\n",
      "pair_style eam/alloy\n",
      "pair_coeff * * potdir\\file.eam.alloy Ni Al Co\n",
      "\n"
     ]
    }
   ],
   "source": [
    "print \"potential.load(eam_alloy_json, pot_dir='potdir')\"\n",
    "potential.load(eam_alloy_json, pot_dir='potdir')\n",
    "print\n",
    "print \"potential ->           \", potential\n",
    "print \"potential.id ->        \", potential.id\n",
    "print \"potential.uuid ->      \", potential.uuid\n",
    "print \"potential.units ->     \", potential.units\n",
    "print \"potential.atom_style ->\", potential.atom_style\n",
    "print \"potential.symbols ->   \", potential.symbols\n",
    "print \"potential.elements() ->\", potential.elements()\n",
    "print \"potential.masses() ->  \", potential.masses()\n",
    "print\n",
    "print \"potential.pair_info() ->\"\n",
    "print potential.pair_info()"
   ]
  },
  {
   "cell_type": "markdown",
   "metadata": {},
   "source": [
    "Specifying a symbols list to associate with a System's atom types changes the results accordingly"
   ]
  },
  {
   "cell_type": "code",
   "execution_count": 7,
   "metadata": {
    "collapsed": false
   },
   "outputs": [
    {
     "name": "stdout",
     "output_type": "stream",
     "text": [
      "symbols = 'Al'\n",
      "potential.elements(symbols) -> ['Al']\n",
      "potential.masses(symbols)   -> [26.981539]\n",
      "potential.pair_info(symbols) ->\n",
      "mass 1 26.981539\n",
      "\n",
      "pair_style eam/alloy\n",
      "pair_coeff * * potdir\\file.eam.alloy Al\n",
      "\n",
      "\n",
      "symbols = ['Al', 'Co', 'Ni', 'Ni']\n",
      "potential.elements(symbols) -> ['Al', 'Co', 'Ni', 'Ni']\n",
      "potential.masses(symbols)   -> [26.981539, 58.9332, 58.6934, 58.6934]\n",
      "potential.pair_info(symbols) ->\n",
      "mass 1 26.981539\n",
      "mass 2 58.933200\n",
      "mass 3 58.693400\n",
      "mass 4 58.693400\n",
      "\n",
      "pair_style eam/alloy\n",
      "pair_coeff * * potdir\\file.eam.alloy Al Co Ni Ni\n",
      "\n"
     ]
    }
   ],
   "source": [
    "#Test output when only Ar included\n",
    "print \"symbols = 'Al'\"\n",
    "symbols = 'Al'\n",
    "print \"potential.elements(symbols) ->\", potential.elements(symbols)\n",
    "print \"potential.masses(symbols)   ->\", potential.masses(symbols)\n",
    "print \"potential.pair_info(symbols) ->\"\n",
    "print potential.pair_info(symbols)\n",
    "print \n",
    "\n",
    "#Test output for complex symbols list\n",
    "print \"symbols = ['Al', 'Co', 'Ni', 'Ni']\"\n",
    "symbols = ['Al', 'Co', 'Ni', 'Ni']\n",
    "print \"potential.elements(symbols) ->\", potential.elements(symbols)\n",
    "print \"potential.masses(symbols)   ->\", potential.masses(symbols)\n",
    "print \"potential.pair_info(symbols) ->\"\n",
    "print potential.pair_info(symbols)"
   ]
  },
  {
   "cell_type": "markdown",
   "metadata": {},
   "source": [
    "### 2.3 COMB\n",
    "\n",
    "Some potentials require additional fixes or computes in order to properly work.  "
   ]
  },
  {
   "cell_type": "code",
   "execution_count": 8,
   "metadata": {
    "collapsed": true
   },
   "outputs": [],
   "source": [
    "comb_json = \"\"\"{\n",
    "    \"LAMMPS-potential\": {\n",
    "        \"potential\": {\n",
    "            \"key\": \"5ec2aac4-3dd4-4f5c-afb4-21749577c038\",\n",
    "            \"id\": \"COMB-demo\"\n",
    "        },\n",
    "        \"units\": \"nano\",\n",
    "        \"atom_style\": \"charge\",\n",
    "        \"atom\": [\n",
    "            {\n",
    "                \"element\": \"O\"\n",
    "            },\n",
    "            {\n",
    "                \"element\": \"Cu\"\n",
    "            },\n",
    "            {\n",
    "                \"element\": \"Ni\"\n",
    "            }\n",
    "        ],\n",
    "        \"pair_style\": {\n",
    "            \"type\": \"comb\",\n",
    "            \"term\": {\n",
    "                \"option\": \"polar_off\"\n",
    "            }\n",
    "        },\n",
    "        \"pair_coeff\": {\n",
    "            \"term\": [\n",
    "                {\n",
    "                    \"file\": \"file.comb\"\n",
    "                },\n",
    "                {\n",
    "                    \"symbols\": true\n",
    "                }\n",
    "            ]\n",
    "        },\n",
    "        \"command\": {\n",
    "            \"term\": [\n",
    "                {\n",
    "                    \"option\": \"fix\"\n",
    "                },\n",
    "                {\n",
    "                    \"option\": \"qeq/comb\"\n",
    "                },\n",
    "                {\n",
    "                    \"parameter\": 10\n",
    "                },\n",
    "                {\n",
    "                    \"parameter\": 0.0001\n",
    "                }                \n",
    "            ]\n",
    "        }\n",
    "    }\n",
    "}\"\"\""
   ]
  },
  {
   "cell_type": "markdown",
   "metadata": {},
   "source": [
    "We'll now call load() on the data model, and check what the various attributes and methods return. Notice that pot_dir doesn't change with load() unless specified."
   ]
  },
  {
   "cell_type": "code",
   "execution_count": 9,
   "metadata": {
    "collapsed": false
   },
   "outputs": [
    {
     "name": "stdout",
     "output_type": "stream",
     "text": [
      "potential.load(comb_json)\n",
      "\n",
      "potential ->            COMB-demo\n",
      "potential.id ->         COMB-demo\n",
      "potential.uuid ->       5ec2aac4-3dd4-4f5c-afb4-21749577c038\n",
      "potential.units ->      nano\n",
      "potential.atom_style -> charge\n",
      "potential.symbols ->    ['O', 'Cu', 'Ni']\n",
      "potential.elements() -> ['O', 'Cu', 'Ni']\n",
      "potential.masses() ->   [15.9994, 63.546, 58.6934]\n",
      "\n",
      "potential.pair_info() ->\n",
      "mass 1 15.999400\n",
      "mass 2 63.546000\n",
      "mass 3 58.693400\n",
      "\n",
      "pair_style comb polar_off\n",
      "pair_coeff * * potdir\\file.comb O Cu Ni\n",
      "fix qeq/comb 10 0.0001\n",
      "\n"
     ]
    }
   ],
   "source": [
    "print \"potential.load(comb_json)\"\n",
    "potential.load(comb_json)\n",
    "print\n",
    "print \"potential ->           \", potential\n",
    "print \"potential.id ->        \", potential.id\n",
    "print \"potential.uuid ->      \", potential.uuid\n",
    "print \"potential.units ->     \", potential.units\n",
    "print \"potential.atom_style ->\", potential.atom_style\n",
    "print \"potential.symbols ->   \", potential.symbols\n",
    "print \"potential.elements() ->\", potential.elements()\n",
    "print \"potential.masses() ->  \", potential.masses()\n",
    "print\n",
    "print \"potential.pair_info() ->\"\n",
    "print potential.pair_info()"
   ]
  },
  {
   "cell_type": "markdown",
   "metadata": {},
   "source": [
    "Specifying a symbols list to associate with a System's atom types changes the results accordingly"
   ]
  },
  {
   "cell_type": "code",
   "execution_count": 10,
   "metadata": {
    "collapsed": false
   },
   "outputs": [
    {
     "name": "stdout",
     "output_type": "stream",
     "text": [
      "symbols = 'O'\n",
      "potential.elements(symbols) -> ['O']\n",
      "potential.masses(symbols)   -> [15.9994]\n",
      "potential.pair_info(symbols) ->\n",
      "mass 1 15.999400\n",
      "\n",
      "pair_style comb polar_off\n",
      "pair_coeff * * potdir\\file.comb O\n",
      "fix qeq/comb 10 0.0001\n",
      "\n",
      "\n",
      "symbols = ['Ni', 'O', 'Ni', 'Ni']\n",
      "potential.elements(symbols) -> ['Ni', 'O', 'Ni', 'Ni']\n",
      "potential.masses(symbols)   -> [58.6934, 15.9994, 58.6934, 58.6934]\n",
      "potential.pair_info(symbols) ->\n",
      "mass 1 58.693400\n",
      "mass 2 15.999400\n",
      "mass 3 58.693400\n",
      "mass 4 58.693400\n",
      "\n",
      "pair_style comb polar_off\n",
      "pair_coeff * * potdir\\file.comb Ni O Ni Ni\n",
      "fix qeq/comb 10 0.0001\n",
      "\n"
     ]
    }
   ],
   "source": [
    "#Test output when only Ar included\n",
    "print \"symbols = 'O'\"\n",
    "symbols = 'O'\n",
    "print \"potential.elements(symbols) ->\", potential.elements(symbols)\n",
    "print \"potential.masses(symbols)   ->\", potential.masses(symbols)\n",
    "print \"potential.pair_info(symbols) ->\"\n",
    "print potential.pair_info(symbols)\n",
    "print \n",
    "\n",
    "#Test output for complex symbols list\n",
    "print \"symbols = ['Ni', 'O', 'Ni', 'Ni']\"\n",
    "symbols = ['Ni', 'O', 'Ni', 'Ni']\n",
    "print \"potential.elements(symbols) ->\", potential.elements(symbols)\n",
    "print \"potential.masses(symbols)   ->\", potential.masses(symbols)\n",
    "print \"potential.pair_info(symbols) ->\"\n",
    "print potential.pair_info(symbols)"
   ]
  },
  {
   "cell_type": "markdown",
   "metadata": {},
   "source": [
    "### 2.4 MEAM\n",
    "\n",
    "Other potentials, such as MEAM, require a list of all unique symbols associated with an interaction."
   ]
  },
  {
   "cell_type": "code",
   "execution_count": 11,
   "metadata": {
    "collapsed": true
   },
   "outputs": [],
   "source": [
    "meam_json = \"\"\"{\n",
    "    \"LAMMPS-potential\": {\n",
    "        \"potential\": {\n",
    "            \"key\": \"9546264a-06b8-451a-9920-f8a17cc6917b\",\n",
    "            \"id\": \"MEAM-demo\"\n",
    "        },\n",
    "        \"units\": \"metal\",\n",
    "        \"atom_style\": \"atom\",\n",
    "        \"atom\": [\n",
    "            {\n",
    "                \"element\": \"Cu\",\n",
    "                \"symbol\": \"CuS\"\n",
    "            },\n",
    "            {\n",
    "                \"element\": \"Al\",\n",
    "                \"symbol\": \"AlS\"\n",
    "            },\n",
    "            {\n",
    "                \"element\": \"Fe\",\n",
    "                \"symbol\": \"FeS\"\n",
    "            }\n",
    "        ],\n",
    "        \"pair_style\": {\n",
    "            \"type\": \"meam\"\n",
    "        },\n",
    "        \"pair_coeff\": {\n",
    "            \"term\": [\n",
    "                {\n",
    "                    \"file\": \"library.meam\"\n",
    "                },\n",
    "                {\n",
    "                    \"symbolsList\": true\n",
    "                },\n",
    "                {\n",
    "                    \"file\": \"potential.meam\"\n",
    "                },\n",
    "                {\n",
    "                    \"symbols\": true\n",
    "                }\n",
    "            ]\n",
    "        }\n",
    "    }\n",
    "}\"\"\""
   ]
  },
  {
   "cell_type": "markdown",
   "metadata": {},
   "source": [
    "We'll now call load on the data model, and check what the various attributes and methods return. The value of pot_dir can be assigned directly."
   ]
  },
  {
   "cell_type": "code",
   "execution_count": 12,
   "metadata": {
    "collapsed": false
   },
   "outputs": [
    {
     "name": "stdout",
     "output_type": "stream",
     "text": [
      "potential.load(meam_json)\n",
      "potential.pot_dir = 'meam_dir'\n",
      "potential.pot_dir -> meam_dir\n",
      "\n",
      "potential ->            MEAM-demo\n",
      "potential.id ->         MEAM-demo\n",
      "potential.uuid ->       9546264a-06b8-451a-9920-f8a17cc6917b\n",
      "potential.units ->      metal\n",
      "potential.atom_style -> atom\n",
      "potential.symbols ->    ['CuS', 'AlS', 'FeS']\n",
      "potential.elements() -> ['Cu', 'Al', 'Fe']\n",
      "potential.masses() ->   [63.546, 26.9815385, 55.845]\n",
      "\n",
      "potential.pair_info() ->\n",
      "mass 1 63.546000\n",
      "mass 2 26.981538\n",
      "mass 3 55.845000\n",
      "\n",
      "pair_style meam\n",
      "pair_coeff * * meam_dir\\library.meam CuS AlS FeS meam_dir\\potential.meam CuS AlS FeS\n",
      "\n"
     ]
    }
   ],
   "source": [
    "print \"potential.load(meam_json)\"\n",
    "potential.load(meam_json)\n",
    "print \"potential.pot_dir = 'meam_dir'\"\n",
    "potential.pot_dir = 'meam_dir'\n",
    "print \"potential.pot_dir ->\", potential.pot_dir\n",
    "print\n",
    "\n",
    "print \"potential ->           \", potential\n",
    "print \"potential.id ->        \", potential.id\n",
    "print \"potential.uuid ->      \", potential.uuid\n",
    "print \"potential.units ->     \", potential.units\n",
    "print \"potential.atom_style ->\", potential.atom_style\n",
    "print \"potential.symbols ->   \", potential.symbols\n",
    "print \"potential.elements() ->\", potential.elements()\n",
    "print \"potential.masses() ->  \", potential.masses()\n",
    "print\n",
    "print \"potential.pair_info() ->\"\n",
    "print potential.pair_info()"
   ]
  },
  {
   "cell_type": "markdown",
   "metadata": {},
   "source": [
    "Specifying a symbols list to associate with a System's atom types changes the results accordingly"
   ]
  },
  {
   "cell_type": "code",
   "execution_count": 13,
   "metadata": {
    "collapsed": false
   },
   "outputs": [
    {
     "name": "stdout",
     "output_type": "stream",
     "text": [
      "symbols = 'FeS'\n",
      "potential.elements(symbols) -> ['Fe']\n",
      "potential.masses(symbols)   -> [55.845]\n",
      "potential.pair_info(symbols) ->\n",
      "mass 1 55.845000\n",
      "\n",
      "pair_style meam\n",
      "pair_coeff * * meam_dir\\library.meam FeS meam_dir\\potential.meam FeS\n",
      "\n",
      "\n",
      "symbols = ['AlS', 'FeS', 'AlS', 'FeS']\n",
      "potential.elements(symbols) -> ['Al', 'Fe', 'Al', 'Fe']\n",
      "potential.masses(symbols)   -> [26.9815385, 55.845, 26.9815385, 55.845]\n",
      "potential.pair_info(symbols) ->\n",
      "mass 1 26.981538\n",
      "mass 2 55.845000\n",
      "mass 3 26.981538\n",
      "mass 4 55.845000\n",
      "\n",
      "pair_style meam\n",
      "pair_coeff * * meam_dir\\library.meam AlS FeS meam_dir\\potential.meam AlS FeS AlS FeS\n",
      "\n"
     ]
    }
   ],
   "source": [
    "#Test output when only Ar included\n",
    "print \"symbols = 'FeS'\"\n",
    "symbols = 'FeS'\n",
    "print \"potential.elements(symbols) ->\", potential.elements(symbols)\n",
    "print \"potential.masses(symbols)   ->\", potential.masses(symbols)\n",
    "print \"potential.pair_info(symbols) ->\"\n",
    "print potential.pair_info(symbols)\n",
    "print \n",
    "\n",
    "#Test output for complex symbols list\n",
    "print \"symbols = ['AlS', 'FeS', 'AlS', 'FeS']\"\n",
    "symbols = ['AlS', 'FeS', 'AlS', 'FeS']\n",
    "print \"potential.elements(symbols) ->\", potential.elements(symbols)\n",
    "print \"potential.masses(symbols)   ->\", potential.masses(symbols)\n",
    "print \"potential.pair_info(symbols) ->\"\n",
    "print potential.pair_info(symbols)"
   ]
  },
  {
   "cell_type": "markdown",
   "metadata": {},
   "source": [
    "### 2.5 Hybrid\n",
    "\n",
    "Hybrid styles can also be used.  The pair_coeff lines generated by pair_info will always be in the order given by the data model regardless of the symbols given as arguments.\n",
    "\n",
    "__Note:__ When using hybrid styles, the symbols list should always contain symbols for all interaction styles.  In other words, if you have a hybrid eam/alloy and lj/cut for a system without any of the lj/cut atoms, the pair_style will still say hybrid. In the given case you should just use the non-hybrid version of the eam/alloy potential.  "
   ]
  },
  {
   "cell_type": "code",
   "execution_count": 14,
   "metadata": {
    "collapsed": true
   },
   "outputs": [],
   "source": [
    "hybrid_json = \"\"\"{\n",
    "    \"LAMMPS-potential\": {\n",
    "        \"potential\": {\n",
    "            \"key\": \"14226c15-561c-44d4-96ad-ad51304a3606\",\n",
    "            \"id\": \"hybrid-demo\"\n",
    "        },\n",
    "        \"units\": \"metal\",\n",
    "        \"atom_style\": \"atom\",\n",
    "        \"atom\": [\n",
    "            {\n",
    "                \"element\": \"Cu\"\n",
    "            },\n",
    "            {\n",
    "                \"element\": \"H\"\n",
    "            }\n",
    "        ],\n",
    "        \"pair_style\": {\n",
    "            \"type\": \"hybrid\",\n",
    "            \"term\": [\n",
    "                {\n",
    "                    \"option\": \"eam/alloy\"\n",
    "                },\n",
    "                {\n",
    "                    \"option\": \"lj/cut\"\n",
    "                },\n",
    "                {\n",
    "                    \"parameter\": 5.0\n",
    "                }\n",
    "            ]\n",
    "        },\n",
    "        \"pair_coeff\": [\n",
    "            {\n",
    "                \"interaction\": {\n",
    "                    \"symbol\": [\n",
    "                        \"Cu\"\n",
    "                    ]\n",
    "                },\n",
    "                \"term\": [\n",
    "                    {\n",
    "                        \"option\": \"eam/alloy\"\n",
    "                    },\n",
    "                    {\n",
    "                        \"file\": \"cu.eamalloy\"\n",
    "                    },\n",
    "                    {\n",
    "                        \"symbols\": true\n",
    "                    }\n",
    "                ]\n",
    "            },\n",
    "            {\n",
    "                \"interaction\": {\n",
    "                    \"symbol\": [\n",
    "                        \"Cu\",\n",
    "                        \"H\"\n",
    "                    ]\n",
    "                },\n",
    "                \"term\": [\n",
    "                    {\n",
    "                        \"option\": \"lj/cut\"\n",
    "                    },\n",
    "                    {\n",
    "                        \"parameter\": 3.5\n",
    "                    },\n",
    "                    {\n",
    "                        \"parameter\": 3.0\n",
    "                    }\n",
    "                ]\n",
    "            },\n",
    "            {\n",
    "                \"interaction\": {\n",
    "                    \"symbol\": [\n",
    "                        \"H\",\n",
    "                        \"H\"\n",
    "                    ]\n",
    "                },\n",
    "                \"term\": [\n",
    "                    {\n",
    "                        \"option\": \"lj/cut\"\n",
    "                    },\n",
    "                    {\n",
    "                        \"parameter\": 1.2\n",
    "                    },\n",
    "                    {\n",
    "                        \"parameter\": 2.4\n",
    "                    }\n",
    "                ]\n",
    "            }\n",
    "        ]\n",
    "    }\n",
    "}\"\"\""
   ]
  },
  {
   "cell_type": "markdown",
   "metadata": {},
   "source": [
    "We'll now initilize a Potential based on this data model, and check what the various attributes and methods return. Notice that pot_dir doesn't change with load() unless specified."
   ]
  },
  {
   "cell_type": "code",
   "execution_count": 15,
   "metadata": {
    "collapsed": false
   },
   "outputs": [
    {
     "name": "stdout",
     "output_type": "stream",
     "text": [
      "potential.load(hybrid_json, 'potdir')\n",
      "\n",
      "potential ->            hybrid-demo\n",
      "potential.id ->         hybrid-demo\n",
      "potential.uuid ->       14226c15-561c-44d4-96ad-ad51304a3606\n",
      "potential.units ->      metal\n",
      "potential.atom_style -> atom\n",
      "potential.symbols ->    ['Cu', 'H']\n",
      "potential.elements() -> ['Cu', 'H']\n",
      "potential.masses() ->   [63.546, 1.007975]\n",
      "\n",
      "potential.pair_info() ->\n",
      "mass 1 63.546000\n",
      "mass 2 1.007975\n",
      "\n",
      "pair_style hybrid eam/alloy lj/cut 5.0\n",
      "pair_coeff * * eam/alloy potdir\\cu.eamalloy Cu NULL\n",
      "pair_coeff 1 2 lj/cut 3.5 3.0\n",
      "pair_coeff 2 2 lj/cut 1.2 2.4\n",
      "\n"
     ]
    }
   ],
   "source": [
    "print \"potential.load(hybrid_json, 'potdir')\"\n",
    "potential.load(hybrid_json, 'potdir')\n",
    "print\n",
    "print \"potential ->           \", potential\n",
    "print \"potential.id ->        \", potential.id\n",
    "print \"potential.uuid ->      \", potential.uuid\n",
    "print \"potential.units ->     \", potential.units\n",
    "print \"potential.atom_style ->\", potential.atom_style\n",
    "print \"potential.symbols ->   \", potential.symbols\n",
    "print \"potential.elements() ->\", potential.elements()\n",
    "print \"potential.masses() ->  \", potential.masses()\n",
    "print\n",
    "print \"potential.pair_info() ->\"\n",
    "print potential.pair_info()"
   ]
  },
  {
   "cell_type": "markdown",
   "metadata": {},
   "source": [
    "Specifying a symbols list to associate with a System's atom types changes the results accordingly"
   ]
  },
  {
   "cell_type": "code",
   "execution_count": 16,
   "metadata": {
    "collapsed": false
   },
   "outputs": [
    {
     "name": "stdout",
     "output_type": "stream",
     "text": [
      "symbols = ['H', 'H', 'H', 'Cu']\n",
      "potential.elements(symbols) -> ['H', 'H', 'H', 'Cu']\n",
      "potential.masses(symbols)   -> [1.007975, 1.007975, 1.007975, 63.546]\n",
      "potential.pair_info(symbols) ->\n",
      "mass 1 1.007975\n",
      "mass 2 1.007975\n",
      "mass 3 1.007975\n",
      "mass 4 63.546000\n",
      "\n",
      "pair_style hybrid eam/alloy lj/cut 5.0\n",
      "pair_coeff * * eam/alloy potdir\\cu.eamalloy NULL NULL NULL Cu\n",
      "pair_coeff 1 4 lj/cut 3.5 3.0\n",
      "pair_coeff 2 4 lj/cut 3.5 3.0\n",
      "pair_coeff 3 4 lj/cut 3.5 3.0\n",
      "pair_coeff 1 1 lj/cut 1.2 2.4\n",
      "pair_coeff 1 2 lj/cut 1.2 2.4\n",
      "pair_coeff 1 3 lj/cut 1.2 2.4\n",
      "pair_coeff 2 2 lj/cut 1.2 2.4\n",
      "pair_coeff 2 3 lj/cut 1.2 2.4\n",
      "pair_coeff 3 3 lj/cut 1.2 2.4\n",
      "\n"
     ]
    }
   ],
   "source": [
    "#Test output for complex symbols list\n",
    "print \"symbols = ['H', 'H', 'H', 'Cu']\"\n",
    "symbols = ['H', 'H', 'H', 'Cu']\n",
    "print \"potential.elements(symbols) ->\", potential.elements(symbols)\n",
    "print \"potential.masses(symbols)   ->\", potential.masses(symbols)\n",
    "print \"potential.pair_info(symbols) ->\"\n",
    "print potential.pair_info(symbols)"
   ]
  },
  {
   "cell_type": "markdown",
   "metadata": {},
   "source": [
    "## 3. Data Model Specifics\n",
    "\n",
    "This section outlines the various structure and logic associated with a data model."
   ]
  },
  {
   "cell_type": "markdown",
   "metadata": {},
   "source": [
    "### potential\n",
    "\n",
    "The __potential__ branch gives metadata associated with the potential. Available terms are: \n",
    "\n",
    "- __key__: uuid hash key for the potential instance.\n",
    "\n",
    "- __id__: human readable name for the potential instance.\n",
    "\n",
    "- __artifact__: metadata associated with any files associated with the potential (e.g. a .eam.alloy setfl file)\n",
    "\n",
    "- __doi__: DOIs of any published papers relating to the potential.\n",
    "\n",
    "- __element__: list of chemical elements included in the model."
   ]
  },
  {
   "cell_type": "markdown",
   "metadata": {},
   "source": [
    "### units\n",
    "\n",
    "__units__ specifies the LAMMPS units option as a string value.\n",
    "\n",
    "### atom_style\n",
    "\n",
    "__atom_style__ specifies the LAMMPS atom_style option as a string value.\n",
    "\n",
    "- __atom__: Info associated with each unique atom-model, including element, symbol, and mass.  \n",
    "\n",
    "- __pair_style__: LAMMPS pair_style option and any associated terms.\n",
    "\n",
    "- __pair_coeff__: List of all symbols and terms for each unique interaction model."
   ]
  },
  {
   "cell_type": "markdown",
   "metadata": {},
   "source": [
    "### atom\n",
    "\n",
    "The __atom__ branch contains information associated with each unique atom-model. Available terms:\n",
    "\n",
    "- __element__: Chemical element for the atom-model. If not given, symbol and mass must be given, and element is set to equal symbol.\n",
    "\n",
    "- __symbol__: Symbol for Atom-model symbol. If not given, symbol is set to equal element.\n",
    "\n",
    "- __mass__: Elemental mass for the atom-model. If not given, mass is set to equal the standard value for the chemical element."
   ]
  },
  {
   "cell_type": "markdown",
   "metadata": {},
   "source": [
    "### pair_style\n",
    "\n",
    "The __pair_style__ branch defines the LAMMPS pair_style line. Available terms:\n",
    "\n",
    "- __type__: Specifies the LAMMPS pair_style option.\n",
    "\n",
    "- __term__: A term branch for pair\\_style parameters. See __term__ below."
   ]
  },
  {
   "cell_type": "markdown",
   "metadata": {},
   "source": [
    "### pair_coeff\n",
    "\n",
    "The __pair_coeff__ branch lists the various interactions and terms associated with LAMMPS pair_coeff lines. Available terms:\n",
    "\n",
    "- __interaction__: Contains __symbol__, a list of all atom-model symbols associated with a particular interaction model.  If not given, then the interaction is taken to be for all atom-models.\n",
    "\n",
    "- __term__: A term branch for pair\\_coeff parameters. See __term__ below."
   ]
  },
  {
   "cell_type": "markdown",
   "metadata": {},
   "source": [
    "### command\n",
    "\n",
    "The __command__ branch allows for additional LAMMPS command lines necessary to correctly run the potential to be defined. Available terms:\n",
    "\n",
    "- __term__: A term branch for command parameters. See __term__ below."
   ]
  },
  {
   "cell_type": "markdown",
   "metadata": {},
   "source": [
    "### term\n",
    "\n",
    "The __term__ branch is used within the __pair_style__, __pair_coeff__ and __command__ branches. It is a list of key-value terms where the key indicates the type of term.  The available term keys are:\n",
    "\n",
    "- __option__: Specifies the value is a string.\n",
    "\n",
    "- __parameter__: Specifies the value is numeric.\n",
    "\n",
    "- __file__: Specifies the value is a file name. pot_dir will be aded to all __file__s as a prefix.\n",
    "\n",
    "- __symbols__: List symbols or NULL for each symbol associated with a system's atoms. NULL values appear if the symbol is not included in a specific interaction.\n",
    "\n",
    "- __symbolsList__: list all unique symbols associated with a system's atom types and a specific interaction.\n",
    "\n",
    "__Note__: while the data model allows for symbols and symbolsList to be used with __pair_style__ and __command__, no known current LAMMPS potentials require such a thing. "
   ]
  },
  {
   "cell_type": "code",
   "execution_count": null,
   "metadata": {
    "collapsed": true
   },
   "outputs": [],
   "source": []
  }
 ],
 "metadata": {
  "kernelspec": {
   "display_name": "Python 2",
   "language": "python",
   "name": "python2"
  },
  "language_info": {
   "codemirror_mode": {
    "name": "ipython",
    "version": 2
   },
   "file_extension": ".py",
   "mimetype": "text/x-python",
   "name": "python",
   "nbconvert_exporter": "python",
   "pygments_lexer": "ipython2",
   "version": "2.7.11"
  }
 },
 "nbformat": 4,
 "nbformat_minor": 0
}
