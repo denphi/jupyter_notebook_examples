{
 "cells": [
  {
   "cell_type": "markdown",
   "metadata": {},
   "source": [
    "# AtomMan LAMMPS atom_dump"
   ]
  },
  {
   "cell_type": "markdown",
   "metadata": {},
   "source": [
    "**Lucas M. Hale**, [lucas.hale@nist.gov](mailto:lucas.hale@nist.gov?Subject=ipr-demo), *Materials Science and Engineering Division, NIST*.\n",
    "\n",
    "**Chandler A. Becker**, [chandler.becker@nist.gov](mailto:chandler.becker@nist.gov?Subject=ipr-demo), *Materials Science and Engineering Division, NIST*.\n",
    "\n",
    "**Zachary T. Trautt**, [zachary.trautt@nist.gov](mailto:zachary.trautt@nist.gov?Subject=ipr-demo), *Materials Measurement Science Division, NIST*.\n",
    "\n",
    "Version: 2016-03-31\n",
    "\n",
    "[Disclaimers](http://www.nist.gov/public_affairs/disclaimer.cfm)\n",
    "\n",
    "Return to the [main atomman page](https://github.com/usnistgov/atomman).\n",
    "\n",
    "## Introduction\n",
    "\n",
    "The atomman package was designed to allow for the creation and analysis of large scale atomistic simulations.  To help facilitate this, the atomman.lammps module contains a number of useful functions and classes that allow for atomman to interact with the LAMMPS molecular dynamics software.\n",
    "\n",
    "Interactions with LAMMPS atomic dump files is handled with the atomman.lammps.atom_dump module.  This module contains two functions, load and dump, that allow for dump files to be read into atomman and written to a file, respectively.  With both functions, the same json/xml data model is used to define how the LAMMPS atomic attributes correspond to the atomman atomic properties. \n",
    "\n",
    "The underlying code can be found in [atomman/lammps/atom_dump.py](https://github.com/usnistgov/atomman/blob/master/atomman/lammps/atom_dump.py).\n",
    "\n",
    "- - -"
   ]
  },
  {
   "cell_type": "markdown",
   "metadata": {},
   "source": [
    "__Library imports__"
   ]
  },
  {
   "cell_type": "code",
   "execution_count": 1,
   "metadata": {
    "collapsed": false
   },
   "outputs": [],
   "source": [
    "import atomman as am\n",
    "import atomman.lammps as lmp\n",
    "import numpy as np\n",
    "import os"
   ]
  },
  {
   "cell_type": "code",
   "execution_count": 2,
   "metadata": {
    "collapsed": false
   },
   "outputs": [
    {
     "name": "stdout",
     "output_type": "stream",
     "text": [
      "system.box ->\n",
      "avect =  [ 5.650,  0.000,  0.000]\n",
      "bvect =  [ 0.000,  5.650,  0.000]\n",
      "cvect =  [ 0.000,  0.000,  5.650]\n",
      "origin = [ 0.000,  0.000,  0.000]\n",
      "\n",
      "system.atoms ->\n",
      "     id |   atype |  pos[0] |  pos[1] |  pos[2]\n",
      "      0 |       1 |   0.000 |   0.000 |   0.000\n",
      "      1 |       1 |   2.825 |   0.000 |   2.825\n",
      "      2 |       1 |   2.825 |   2.825 |   0.000\n",
      "      3 |       1 |   0.000 |   2.825 |   2.825\n",
      "      4 |       2 |   1.413 |   1.413 |   1.413\n",
      "      5 |       2 |   4.238 |   4.238 |   1.413\n",
      "      6 |       2 |   1.413 |   4.238 |   4.238\n",
      "      7 |       2 |   4.238 |   1.413 |   4.238\n",
      "\n",
      "system.atoms_prop(key='scalar') ->\n",
      "[ 0.  1.  2.  3.  4.  5.  6.  7.]\n",
      "\n",
      "system.atoms_prop(key='vector') ->\n",
      "[[1 2 3 4]\n",
      " [1 2 3 4]\n",
      " [1 2 3 4]\n",
      " [1 2 3 4]\n",
      " [1 2 3 4]\n",
      " [1 2 3 4]\n",
      " [1 2 3 4]\n",
      " [1 2 3 4]]\n",
      "\n",
      "system.atoms_prop(key='tensor') ->\n",
      "[[[ 12.4  10.1]\n",
      "  [ 10.1   3. ]]\n",
      "\n",
      " [[ 22.    9.8]\n",
      "  [  9.8   1. ]]\n",
      "\n",
      " [[ 11.   13.1]\n",
      "  [ 13.1   3.4]]\n",
      "\n",
      " [[ 41.   18.9]\n",
      "  [ 18.9   2.1]]\n",
      "\n",
      " [[ 16.7  14.7]\n",
      "  [ 14.7   1.6]]\n",
      "\n",
      " [[ 19.2   8.9]\n",
      "  [  8.9   2.1]]\n",
      "\n",
      " [[ 12.   13.1]\n",
      "  [ 13.1   2.4]]\n",
      "\n",
      " [[ 13.2  11.2]\n",
      "  [ 11.2   1.5]]]\n",
      "\n"
     ]
    }
   ],
   "source": [
    "#create small demonstration system (GaAs unit cell)\n",
    "prop_dict = {'atype':  [1, 1, 1, 1, 2, 2, 2, 2],\n",
    "             'pos':   [[0.00, 0.00, 0.00],\n",
    "                       [0.50, 0.00, 0.50],\n",
    "                       [0.50, 0.50, 0.00],\n",
    "                       [0.00, 0.50, 0.50],\n",
    "                       [0.25, 0.25, 0.25],\n",
    "                       [0.75, 0.75, 0.25],\n",
    "                       [0.25, 0.75, 0.75],\n",
    "                       [0.75, 0.25, 0.75]],\n",
    "            'scalar':  [0.,1.,2.,3.,4.,5.,6.,7.],\n",
    "            'vector': [[1, 2, 3, 4],\n",
    "                       [1, 2, 3, 4],\n",
    "                       [1, 2, 3, 4],\n",
    "                       [1, 2, 3, 4],\n",
    "                       [1, 2, 3, 4],\n",
    "                       [1, 2, 3, 4],\n",
    "                       [1, 2, 3, 4],\n",
    "                       [1, 2, 3, 4]],\n",
    "            'tensor':[[[12.4, 10.1], [10.1, 3.0]],\n",
    "                      [[22.0,  9.8], [ 9.8, 1.0]],\n",
    "                      [[11.0, 13.1], [13.1, 3.4]],\n",
    "                      [[41.0, 18.9], [18.9, 2.1]],\n",
    "                      [[16.7, 14.7], [14.7, 1.6]],\n",
    "                      [[19.2,  8.9], [ 8.9, 2.1]],\n",
    "                      [[12.0, 13.1], [13.1, 2.4]],\n",
    "                      [[13.2, 11.2], [11.2, 1.5]]]}\n",
    "\n",
    "\n",
    "atoms = am.Atoms(natoms=8, prop=prop_dict)\n",
    "box = am.Box(a=5.65, b=5.65, c=5.65)\n",
    "system = am.System(box=box, atoms=atoms, scale=True)\n",
    "print \"system.box ->\"\n",
    "print system.box\n",
    "print\n",
    "print \"system.atoms ->\"\n",
    "print system.atoms\n",
    "print \n",
    "print \"system.atoms_prop(key='scalar') ->\"\n",
    "print system.atoms_prop(key='scalar')\n",
    "print\n",
    "print \"system.atoms_prop(key='vector') ->\"\n",
    "print system.atoms_prop(key='vector')\n",
    "print\n",
    "print \"system.atoms_prop(key='tensor') ->\"\n",
    "print system.atoms_prop(key='tensor')\n",
    "print"
   ]
  },
  {
   "cell_type": "markdown",
   "metadata": {},
   "source": [
    "## 1. atom_dump.dump()\n",
    "\n",
    "The atom_dump.dump() function writes a system's information to a LAMMPS dump style file. The function arguments are:\n",
    "\n",
    "- __fname__ = name (and location) of the file to write to. Required.\n",
    "\n",
    "- __system__ = the atomman.System to extract values from. Required.\n",
    "\n",
    "- __prop_info__ = the data model defining how to relate the LAMMPS atomic attributes to the atomman atomic properties. If not specified, will try reading [fname].json.  If that doesn't work, a defaut model will be created based on the system and saved to [fname].json.\n",
    "\n",
    "- __xf__ = c-style format string to use for floating point numbers. Default is '%.13e'. "
   ]
  },
  {
   "cell_type": "code",
   "execution_count": 3,
   "metadata": {
    "collapsed": false
   },
   "outputs": [
    {
     "name": "stdout",
     "output_type": "stream",
     "text": [
      "ITEM: TIMESTEP\n",
      "0\n",
      "ITEM: NUMBER OF ATOMS\n",
      "8\n",
      "ITEM: BOX BOUNDS pp pp pp\n",
      "0.000000 5.650000\n",
      "0.000000 5.650000\n",
      "0.000000 5.650000\n",
      "ITEM: ATOMS id type x y z scalar vector[1] vector[2] vector[3] vector[4] tensor[1][1] tensor[1][2] tensor[2][1] tensor[2][2]\n",
      "1 1.000 0.000 0.000 0.000 0.000 1 2 3 4 12.400 10.100 10.100 3.000\n",
      "2 1.000 2.825 0.000 2.825 1.000 1 2 3 4 22.000 9.800 9.800 1.000\n",
      "3 1.000 2.825 2.825 0.000 2.000 1 2 3 4 11.000 13.100 13.100 3.400\n",
      "4 1.000 0.000 2.825 2.825 3.000 1 2 3 4 41.000 18.900 18.900 2.100\n",
      "5 2.000 1.413 1.413 1.413 4.000 1 2 3 4 16.700 14.700 14.700 1.600\n",
      "6 2.000 4.238 4.238 1.413 5.000 1 2 3 4 19.200 8.900 8.900 2.100\n",
      "7 2.000 1.413 4.238 4.238 6.000 1 2 3 4 12.000 13.100 13.100 2.400\n",
      "8 2.000 4.238 1.413 4.238 7.000 1 2 3 4 13.200 11.200 11.200 1.500\n",
      "\n"
     ]
    }
   ],
   "source": [
    "#save system info to dump file\n",
    "lmp.atom_dump.dump('test.dump', system, xf='%.3f')\n",
    "\n",
    "#show contents of test.dump\n",
    "with open('test.dump') as f:\n",
    "    print f.read()"
   ]
  },
  {
   "cell_type": "markdown",
   "metadata": {},
   "source": [
    "__Note:__ integer values are printed as integers and all floats are printed using the specified xf format."
   ]
  },
  {
   "cell_type": "markdown",
   "metadata": {},
   "source": [
    "## 2. atom_dump.load()\n",
    "\n",
    "The atom_dump.load() function reads in a LAMMPS dump style file. The function arguments are:\n",
    "\n",
    "- __fname__ = name (and location) of the file to write to. Required.\n",
    "\n",
    "- __prop_info__ = the data model defining how to relate the LAMMPS atomic attributes to the atomman atomic properties. If not specified, will try reading [fname].json.  If that doesn't work, a defaut model will be created based on the system and saved to [fname].json.\n",
    "\n",
    "The function will return all atomic data contained in an atomman.System.\n",
    "\n",
    "__Note:__ for this demo the default test.dump.json model that was created when calling atom_dump.dump() above is automatically loaded as well. More information on the data models is in Section 3."
   ]
  },
  {
   "cell_type": "code",
   "execution_count": 4,
   "metadata": {
    "collapsed": false
   },
   "outputs": [
    {
     "name": "stdout",
     "output_type": "stream",
     "text": [
      "system2.box ->\n",
      "avect =  [ 5.650,  0.000,  0.000]\n",
      "bvect =  [ 0.000,  5.650,  0.000]\n",
      "cvect =  [ 0.000,  0.000,  5.650]\n",
      "origin = [ 0.000,  0.000,  0.000]\n",
      "\n",
      "system2.atoms ->\n",
      "     id |   atype |  pos[0] |  pos[1] |  pos[2]\n",
      "      0 |       1 |   0.000 |   0.000 |   0.000\n",
      "      1 |       1 |   2.825 |   0.000 |   2.825\n",
      "      2 |       1 |   2.825 |   2.825 |   0.000\n",
      "      3 |       1 |   0.000 |   2.825 |   2.825\n",
      "      4 |       2 |   1.413 |   1.413 |   1.413\n",
      "      5 |       2 |   4.238 |   4.238 |   1.413\n",
      "      6 |       2 |   1.413 |   4.238 |   4.238\n",
      "      7 |       2 |   4.238 |   1.413 |   4.238\n",
      "\n",
      "system.atoms_prop(key='scalar') ->\n",
      "[ 0.  1.  2.  3.  4.  5.  6.  7.]\n",
      "\n",
      "system.atoms_prop(key='vector') ->\n",
      "[[1 2 3 4]\n",
      " [1 2 3 4]\n",
      " [1 2 3 4]\n",
      " [1 2 3 4]\n",
      " [1 2 3 4]\n",
      " [1 2 3 4]\n",
      " [1 2 3 4]\n",
      " [1 2 3 4]]\n",
      "\n",
      "system.atoms_prop(key='tensor') ->\n",
      "[[[ 12.4  10.1]\n",
      "  [ 10.1   3. ]]\n",
      "\n",
      " [[ 22.    9.8]\n",
      "  [  9.8   1. ]]\n",
      "\n",
      " [[ 11.   13.1]\n",
      "  [ 13.1   3.4]]\n",
      "\n",
      " [[ 41.   18.9]\n",
      "  [ 18.9   2.1]]\n",
      "\n",
      " [[ 16.7  14.7]\n",
      "  [ 14.7   1.6]]\n",
      "\n",
      " [[ 19.2   8.9]\n",
      "  [  8.9   2.1]]\n",
      "\n",
      " [[ 12.   13.1]\n",
      "  [ 13.1   2.4]]\n",
      "\n",
      " [[ 13.2  11.2]\n",
      "  [ 11.2   1.5]]]\n",
      "\n"
     ]
    }
   ],
   "source": [
    "system2 = lmp.atom_dump.load('test.dump')\n",
    "\n",
    "print \"system2.box ->\"\n",
    "print system2.box\n",
    "print\n",
    "print \"system2.atoms ->\"\n",
    "print system2.atoms\n",
    "print \n",
    "print \"system.atoms_prop(key='scalar') ->\"\n",
    "print system.atoms_prop(key='scalar')\n",
    "print\n",
    "print \"system.atoms_prop(key='vector') ->\"\n",
    "print system.atoms_prop(key='vector')\n",
    "print\n",
    "print \"system.atoms_prop(key='tensor') ->\"\n",
    "print system.atoms_prop(key='tensor')\n",
    "print"
   ]
  },
  {
   "cell_type": "markdown",
   "metadata": {},
   "source": [
    "## 3. LAMMPS-dump-atoms_prop-relate Data Model\n",
    "\n",
    "A json/xml data model is used by the atom_dump functions to define the proper transformations of the atomic properties between LAMMPS dump files and atomman Systems.  Within the data model, LAMMPS values can be defined as vector and tensor components, property names can be custom-changed, values can be specified as integers or booleans, and units can be converted.\n",
    "\n",
    "Within the data model are three main branches: _box_prop_, _atoms_prop_ and _LAMMPS-attribute_. The _box_prop_ and _atoms_prop_ branches define the metadata associated with the Box and Atoms within the atomman.System. The _LAMMPS-attribute_ branch defines how the atomic attributes listed in the dump file relate to the atoms properties."
   ]
  },
  {
   "cell_type": "markdown",
   "metadata": {},
   "source": [
    "### 3.1 The _box_prop_ branch\n",
    "\n",
    "The _box_prop_ branch of the data model allows for the units of the System's Box to be defined.\n",
    "\n",
    "- __['unit']__ defines the units of the box as represented in the LAMMPS dump file. If not specified, then the unit is taken to be null (i.e. no conversion is performed.)"
   ]
  },
  {
   "cell_type": "raw",
   "metadata": {},
   "source": [
    "{\n",
    "    \"box_prop\": {\n",
    "        \"unit\": <length-unit>\n",
    "    }\n",
    "}"
   ]
  },
  {
   "cell_type": "markdown",
   "metadata": {},
   "source": [
    "### 3.2 The atoms_prop branch\n",
    "\n",
    "The atoms_prop branch of the data model allows for the names, shapes and data types of the various atomic properties as stored in the atomman System.\n",
    "\n",
    "- The __prop_name__ keys specify the names of the atomic properties within the System. During load, all properties listed here will be created with initial values of zero before value assignment.\n",
    "\n",
    "- __\\[prop-name\\]\\['dtype'\\]__ is a string specifying what data type the values of that property shoud be interpreted as, e.g. \"int\", \"float\", \"bool\".  If this term is not listed or has a null value then the data type is inferred from the values.\n",
    "\n",
    "- __\\[prop-name\\]\\['shape'\\]__ can be either null, an integer, or a list of integers.  A null value creates a scalar property. An integer creates a vector property of the specified length. A list of integers creates a tensor with the specified dimensions and shape.  If this term is not listed, then it is taken to be null (property is made scalar)."
   ]
  },
  {
   "cell_type": "raw",
   "metadata": {},
   "source": [
    "{\n",
    "    \"atoms_prop\": {\n",
    "        <prop-name1>: {\n",
    "            \"dtype\": <data-type>,\n",
    "            \"shape\": <shape-value>\n",
    "        },\n",
    "        <prop-name2>: {\n",
    "            \"dtype\": <data-type>,\n",
    "            \"shape\": <shape-value>\n",
    "        }\n",
    "    }\n",
    "}"
   ]
  },
  {
   "cell_type": "markdown",
   "metadata": {},
   "source": [
    "### 3.3 The LAMMPS-attribute branch\n",
    "\n",
    "The LAMMPS-attribute branch of the data model defines how the atomic properties in the LAMMPS dump file should be interpreted. \n",
    "\n",
    "- The __attribute__ keys are the names of the atomic properties as they appear in the LAMMPS dump file.  Only __attributes__ listed will be read from/written to the dump file.\n",
    "\n",
    "- __\\[attribute\\]\\['relation'\\]__ is a dictionary (or list of dictionaries) indicating to atomman how to interpret the associated __attribute__.   \n",
    "\n",
    "- __\\[attribute\\]\\['relation'\\]\\['prop'\\]__ is the name of the __prop_name__ (as defined in the _atoms_prop_ branch) to associate with the __attribute__. This has to be specified for each relation.\n",
    "\n",
    "- __\\[attribute\\]\\['relation'\\]\\['index'\\]__ is the index of the __prop_name__ to associate with the __attribute__. The value can either be null, an integer, or a list of integers depending on whether __prop_name__ is a scalar, vector or tensor.  This term can be excluded for scalar __prop_names__.\n",
    "\n",
    "- __\\[attribute\\]\\['relation'\\]\\['unit'\\]__ is a string which defines the units of the __attribute__ as represented in the LAMMPS dump file. If the value of __\\['unit'\\]__ is \"scaled\", then the property will be scaled relative to the box vectors. If not specified, then the unit is taken to be null (i.e. no conversion is performed.)"
   ]
  },
  {
   "cell_type": "raw",
   "metadata": {},
   "source": [
    "{\n",
    "    \"LAMMPS-attribute\": {\n",
    "        <attribute1>: {\n",
    "            \"relation\" : [\n",
    "                {\n",
    "                    \"prop\": <prop-name1>,\n",
    "                    \"index\": <index-value>,\n",
    "                    \"unit\": <unit-value>\n",
    "                },\n",
    "                {\n",
    "                    \"prop\": <prop-name2>,\n",
    "                    \"index\": <index-value>,\n",
    "                    \"unit\": <unit-value>\n",
    "                }\n",
    "            ]\n",
    "        },\n",
    "        <attribute2>: {\n",
    "            \"relation\" : {\n",
    "                \"prop\": <prop-name3>,\n",
    "                \"index\": <index-value>,\n",
    "                \"unit\": <unit-value>\n",
    "            }\n",
    "        }\n",
    "    }\n",
    "}"
   ]
  },
  {
   "cell_type": "markdown",
   "metadata": {},
   "source": [
    "### 3.4 Default data model creation\n",
    "\n",
    "The easiest way to create an instance of the data model is to first call atom_dump.load() or atom_dump.dump() without specifying a data model.  This will create and save a default data model to [fname].json.  The rules for the default conversions are as follows:\n",
    "\n",
    "1. All unit conversions are neglected.\n",
    "\n",
    "2. For both load() and dump(), the atoms_prop 'atype' is defined as a scalar integer, and the LAMMPS-attribute 'type' is related to 'atype'.\n",
    "\n",
    "3. For both load() and dump(), the atoms_prop 'pos' is defined as a vector of three floats.  \n",
    "\n",
    "4. For dump(), the LAMMPS-attributes 'x', 'y', and 'z' are related to atoms_prop 'pos'.\n",
    "\n",
    "5. For load(), the LAMMPS-attributes related to atoms_prop 'pos' depend on what attributes are in the dump file.  The logic searches for a full set of ['x','y','z'], ['xs','ys','zs'], ['xu','yu','zu'], or ['xsu','ysu','zsu'] in this listed order.  When a full set is found, it is related to 'pos' and any additional coordinates are interpreted as additional properties. unit \"scaled\" is set for the -s and -su sets.\n",
    "\n",
    "6. The data types for all additional properties are not specified (i.e. the code infers from the data).\n",
    "\n",
    "7. For load(), all additional properties are interpreted as scalars with the exact same name.\n",
    "\n",
    "8. For dump(), scalar properties are saved with the exact same name.  The components of vectors and tensors are all included and given names with bracketed indexes appended on. The index values in the attribute name start with 1 as opposed to 0 to be consistent with LAMMPS defined attributes.\n",
    "\n",
    "__Note:__ The default data models created by load() and dump() are different.  However, both default models allow for System-dump conversions of all the data forwards and backwards. "
   ]
  },
  {
   "cell_type": "code",
   "execution_count": 5,
   "metadata": {
    "collapsed": false
   },
   "outputs": [
    {
     "name": "stdout",
     "output_type": "stream",
     "text": [
      "{\n",
      "    \"LAMMPS-dump-atoms_prop-relate\": {\n",
      "        \"box_prop\": {\n",
      "            \"unit\": null\n",
      "        }, \n",
      "        \"atoms_prop\": {\n",
      "            \"atype\": {\n",
      "                \"dtype\": \"int\"\n",
      "            }, \n",
      "            \"pos\": {\n",
      "                \"dtype\": \"float\", \n",
      "                \"shape\": 3\n",
      "            }, \n",
      "            \"scalar\": {}, \n",
      "            \"vector\": {\n",
      "                \"shape\": 4\n",
      "            }, \n",
      "            \"tensor\": {\n",
      "                \"shape\": [\n",
      "                    2, \n",
      "                    2\n",
      "                ]\n",
      "            }\n",
      "        }, \n",
      "        \"LAMMPS-attribute\": {\n",
      "            \"type\": {\n",
      "                \"relation\": {\n",
      "                    \"prop\": \"atype\"\n",
      "                }\n",
      "            }, \n",
      "            \"x\": {\n",
      "                \"relation\": {\n",
      "                    \"prop\": \"pos\", \n",
      "                    \"index\": 0\n",
      "                }\n",
      "            }, \n",
      "            \"y\": {\n",
      "                \"relation\": {\n",
      "                    \"prop\": \"pos\", \n",
      "                    \"index\": 1\n",
      "                }\n",
      "            }, \n",
      "            \"z\": {\n",
      "                \"relation\": {\n",
      "                    \"prop\": \"pos\", \n",
      "                    \"index\": 2\n",
      "                }\n",
      "            }, \n",
      "            \"scalar\": {\n",
      "                \"relation\": {\n",
      "                    \"prop\": \"scalar\"\n",
      "                }\n",
      "            }, \n",
      "            \"vector[1]\": {\n",
      "                \"relation\": {\n",
      "                    \"prop\": \"vector\", \n",
      "                    \"index\": 0\n",
      "                }\n",
      "            }, \n",
      "            \"vector[2]\": {\n",
      "                \"relation\": {\n",
      "                    \"prop\": \"vector\", \n",
      "                    \"index\": 1\n",
      "                }\n",
      "            }, \n",
      "            \"vector[3]\": {\n",
      "                \"relation\": {\n",
      "                    \"prop\": \"vector\", \n",
      "                    \"index\": 2\n",
      "                }\n",
      "            }, \n",
      "            \"vector[4]\": {\n",
      "                \"relation\": {\n",
      "                    \"prop\": \"vector\", \n",
      "                    \"index\": 3\n",
      "                }\n",
      "            }, \n",
      "            \"tensor[1][1]\": {\n",
      "                \"relation\": {\n",
      "                    \"prop\": \"tensor\", \n",
      "                    \"index\": [\n",
      "                        0, \n",
      "                        0\n",
      "                    ]\n",
      "                }\n",
      "            }, \n",
      "            \"tensor[1][2]\": {\n",
      "                \"relation\": {\n",
      "                    \"prop\": \"tensor\", \n",
      "                    \"index\": [\n",
      "                        0, \n",
      "                        1\n",
      "                    ]\n",
      "                }\n",
      "            }, \n",
      "            \"tensor[2][1]\": {\n",
      "                \"relation\": {\n",
      "                    \"prop\": \"tensor\", \n",
      "                    \"index\": [\n",
      "                        1, \n",
      "                        0\n",
      "                    ]\n",
      "                }\n",
      "            }, \n",
      "            \"tensor[2][2]\": {\n",
      "                \"relation\": {\n",
      "                    \"prop\": \"tensor\", \n",
      "                    \"index\": [\n",
      "                        1, \n",
      "                        1\n",
      "                    ]\n",
      "                }\n",
      "            }\n",
      "        }\n",
      "    }\n",
      "}\n"
     ]
    }
   ],
   "source": [
    "#show contents of the default test.dump.json data file created with dump()\n",
    "with open('test.dump.json') as f:\n",
    "    print f.read()"
   ]
  },
  {
   "cell_type": "code",
   "execution_count": 6,
   "metadata": {
    "collapsed": false
   },
   "outputs": [
    {
     "name": "stdout",
     "output_type": "stream",
     "text": [
      "{\n",
      "    \"LAMMPS-dump-atoms_prop-relate\": {\n",
      "        \"box_prop\": {\n",
      "            \"unit\": null\n",
      "        }, \n",
      "        \"atoms_prop\": {\n",
      "            \"atype\": {\n",
      "                \"dtype\": \"int\"\n",
      "            }, \n",
      "            \"pos\": {\n",
      "                \"dtype\": \"float\", \n",
      "                \"shape\": 3\n",
      "            }, \n",
      "            \"scalar\": {}, \n",
      "            \"vector[1]\": {}, \n",
      "            \"vector[2]\": {}, \n",
      "            \"vector[3]\": {}, \n",
      "            \"vector[4]\": {}, \n",
      "            \"tensor[1][1]\": {}, \n",
      "            \"tensor[1][2]\": {}, \n",
      "            \"tensor[2][1]\": {}, \n",
      "            \"tensor[2][2]\": {}\n",
      "        }, \n",
      "        \"LAMMPS-attribute\": {\n",
      "            \"type\": {\n",
      "                \"relation\": {\n",
      "                    \"prop\": \"atype\"\n",
      "                }\n",
      "            }, \n",
      "            \"x\": {\n",
      "                \"relation\": {\n",
      "                    \"prop\": \"pos\", \n",
      "                    \"index\": 0\n",
      "                }\n",
      "            }, \n",
      "            \"y\": {\n",
      "                \"relation\": {\n",
      "                    \"prop\": \"pos\", \n",
      "                    \"index\": 1\n",
      "                }\n",
      "            }, \n",
      "            \"z\": {\n",
      "                \"relation\": {\n",
      "                    \"prop\": \"pos\", \n",
      "                    \"index\": 2\n",
      "                }\n",
      "            }, \n",
      "            \"scalar\": {\n",
      "                \"relation\": {\n",
      "                    \"prop\": \"scalar\"\n",
      "                }\n",
      "            }, \n",
      "            \"vector[1]\": {\n",
      "                \"relation\": {\n",
      "                    \"prop\": \"vector[1]\"\n",
      "                }\n",
      "            }, \n",
      "            \"vector[2]\": {\n",
      "                \"relation\": {\n",
      "                    \"prop\": \"vector[2]\"\n",
      "                }\n",
      "            }, \n",
      "            \"vector[3]\": {\n",
      "                \"relation\": {\n",
      "                    \"prop\": \"vector[3]\"\n",
      "                }\n",
      "            }, \n",
      "            \"vector[4]\": {\n",
      "                \"relation\": {\n",
      "                    \"prop\": \"vector[4]\"\n",
      "                }\n",
      "            }, \n",
      "            \"tensor[1][1]\": {\n",
      "                \"relation\": {\n",
      "                    \"prop\": \"tensor[1][1]\"\n",
      "                }\n",
      "            }, \n",
      "            \"tensor[1][2]\": {\n",
      "                \"relation\": {\n",
      "                    \"prop\": \"tensor[1][2]\"\n",
      "                }\n",
      "            }, \n",
      "            \"tensor[2][1]\": {\n",
      "                \"relation\": {\n",
      "                    \"prop\": \"tensor[2][1]\"\n",
      "                }\n",
      "            }, \n",
      "            \"tensor[2][2]\": {\n",
      "                \"relation\": {\n",
      "                    \"prop\": \"tensor[2][2]\"\n",
      "                }\n",
      "            }\n",
      "        }\n",
      "    }\n",
      "}\n"
     ]
    }
   ],
   "source": [
    "#Copy test.dump to test2.dump\n",
    "with open('test.dump') as f1:\n",
    "    with open('test2.dump', 'w') as f2:\n",
    "        f2.write(f1.read())\n",
    "        \n",
    "#show contents of the default test2.dump.json data file created with load()\n",
    "system2 = lmp.atom_dump.load('test2.dump')\n",
    "with open('test2.dump.json') as f:\n",
    "    print f.read()"
   ]
  },
  {
   "cell_type": "markdown",
   "metadata": {},
   "source": [
    "### 3.5 Modifying the data model\n",
    "\n",
    "After creating a default data model for your data, you can open the .json file in a text editor and add any specifications you want.  A number of examples are listed below."
   ]
  },
  {
   "cell_type": "markdown",
   "metadata": {},
   "source": [
    "#### 3.5.1 Changing property names\n",
    "\n",
    "This data model allows for property names to be freely changed when loading or dumping a dump file."
   ]
  },
  {
   "cell_type": "markdown",
   "metadata": {},
   "source": [
    "_Example: Renaming a LAMMPS variable name._ Say you defined a per-atom hydrostatic pressure as c_press in LAMMPS and want it to simply be called pressure.  Just define pressure in atoms_prop: "
   ]
  },
  {
   "cell_type": "raw",
   "metadata": {},
   "source": [
    "{\n",
    "    \"atoms_prop\": {\n",
    "        {...\n",
    "        },\n",
    "        \"pressure\": {\n",
    "        },\n",
    "        {...\n",
    "        }\n",
    "    }\n",
    "}"
   ]
  },
  {
   "cell_type": "markdown",
   "metadata": {},
   "source": [
    "and define the appropriate LAMMPS-attribute relation:"
   ]
  },
  {
   "cell_type": "raw",
   "metadata": {},
   "source": [
    "{\n",
    "    \"LAMMPS-attribute\": {\n",
    "        { ...\n",
    "        },\n",
    "        \"c_press\": {\n",
    "            \"relation\" : {\n",
    "                \"prop\": \"pressure\"               \n",
    "            }\n",
    "        },\n",
    "        { ...\n",
    "        }\n",
    "    }\n",
    "}    "
   ]
  },
  {
   "cell_type": "markdown",
   "metadata": {},
   "source": [
    "#### 3.5.2 Defining appropriate units\n",
    "\n",
    "The units of a LAMMPS-attribute can be defined in the data model such that:\n",
    "\n",
    "- appropriate unit conversions can be done in atomman on loaded properties calculated by LAMMPS, and \n",
    "\n",
    "- properties calculated in atomman can be exported to a dump file in any compatible units."
   ]
  },
  {
   "cell_type": "markdown",
   "metadata": {},
   "source": [
    "_Example: Reading value in with appropriate units._ Say LAMMPS calculated a pressure in bars.  In the data model, you can modify the LAMMPS-attribute term associated with the pressure like:"
   ]
  },
  {
   "cell_type": "raw",
   "metadata": {},
   "source": [
    "{\n",
    "    \"LAMMPS-attribute\": {\n",
    "        { ...\n",
    "        },\n",
    "        \"c_press\": {\n",
    "            \"relation\" : {\n",
    "                \"prop\": \"pressure\",\n",
    "                \"unit\": \"bar\"\n",
    "            }\n",
    "        },\n",
    "        { ...\n",
    "        }\n",
    "    }\n",
    "}    "
   ]
  },
  {
   "cell_type": "markdown",
   "metadata": {},
   "source": [
    "_Example: exporting value with specific units_. Once read in, the pressure can then be exported (to the same or a different dump file) in GPa by changing the model again. A simple and dirty way is to simply change the unit value before calling dump(): "
   ]
  },
  {
   "cell_type": "raw",
   "metadata": {},
   "source": [
    "{\n",
    "    \"LAMMPS-attribute\": {\n",
    "        { ...\n",
    "        },\n",
    "        \"c_press\": {\n",
    "            \"relation\" : {\n",
    "                \"prop\": \"pressure\",\n",
    "                \"unit\": \"GPa\"\n",
    "            }\n",
    "        },\n",
    "        { ...\n",
    "        }\n",
    "    }\n",
    "}  "
   ]
  },
  {
   "cell_type": "markdown",
   "metadata": {},
   "source": [
    "A better way is to retain the value in the original units, and simply add a new relation with a different (more descriptive) attribute name:"
   ]
  },
  {
   "cell_type": "raw",
   "metadata": {},
   "source": [
    "{\n",
    "    \"LAMMPS-attribute\": {\n",
    "        { ...\n",
    "        },\n",
    "        \"c_press\": {\n",
    "            \"relation\" : {\n",
    "                \"prop\": \"pressure\",\n",
    "                \"unit\": \"bar\"\n",
    "            }\n",
    "        },\n",
    "        \"pressure(GPa)\": {\n",
    "            \"relation\" : {\n",
    "                \"prop\": \"pressure\",\n",
    "                \"unit\": \"GPa\"\n",
    "            }\n",
    "        },\n",
    "        { ...\n",
    "        }\n",
    "    }\n",
    "}  "
   ]
  },
  {
   "cell_type": "markdown",
   "metadata": {},
   "source": [
    "#### 3.5.3 Define vector and tensor relationships\n",
    "\n",
    "The relations also allow for vectors and tensors in atomman to be composed from components of dump file attributes.  The simplest examples of these to see is with the default dump() data model shown in section 3.4."
   ]
  },
  {
   "cell_type": "markdown",
   "metadata": {},
   "source": [
    "_Example: More complex tensor definitions._ Perhaps you have a per-atom stress value and only apply a force along the [100] x-direction of a cubic system.  In this case, only the xx and xy components are unique.  You can define the relations such that the full 3x3 tensor exists in atomman, but only the two unique components are listed in the dump file: "
   ]
  },
  {
   "cell_type": "raw",
   "metadata": {},
   "source": [
    "{\n",
    "    \"atoms_prop\": {\n",
    "        {...\n",
    "        },\n",
    "        \"stress\": {\n",
    "            \"shape\": [\n",
    "                3,\n",
    "                3\n",
    "            ]\n",
    "        },\n",
    "        {...\n",
    "        }\n",
    "    }\n",
    "}"
   ]
  },
  {
   "cell_type": "markdown",
   "metadata": {},
   "source": [
    "The LAMMPS compute stress/atom calculates the virial stress where [1] is the xx component and [4] is the xy component.  We can then build the stress tensor such that stress[0,0] = c_stress_atom[1], and stress[0,1] = stress[1,0] = stress[0,2] = stress[2,0] = c_stress_atom[4].  All non-defined components are automatically set to zero.  "
   ]
  },
  {
   "cell_type": "raw",
   "metadata": {},
   "source": [
    "{\n",
    "    \"LAMMPS-attribute\": {\n",
    "        { ...\n",
    "        },\n",
    "        \"c_stress_atom[1]\": {\n",
    "            \"relation\" : {\n",
    "                \"prop\": \"stress\",\n",
    "                \"index\": [\n",
    "                    0,\n",
    "                    0\n",
    "                ]\n",
    "                \"unit\": \"bar*angtrom^3\"\n",
    "            }\n",
    "        },\n",
    "        \"c_stress_atom[4]\": {\n",
    "            \"relation\" : [\n",
    "                {\n",
    "                    \"prop\": \"stress\",\n",
    "                    \"index\": [\n",
    "                        0,\n",
    "                        1\n",
    "                    ],\n",
    "                    \"unit\": \"bar*angtrom^3\"\n",
    "                },\n",
    "                {\n",
    "                    \"prop\": \"stress\",\n",
    "                    \"index\": [\n",
    "                        1,\n",
    "                        0\n",
    "                    ],\n",
    "                    \"unit\": \"bar*angtrom^3\"\n",
    "                },\n",
    "                {\n",
    "                    \"prop\": \"stress\",\n",
    "                    \"index\": [\n",
    "                        0,\n",
    "                        2\n",
    "                    ],\n",
    "                    \"unit\": \"bar*angtrom^3\"\n",
    "                },\n",
    "                {\n",
    "                    \"prop\": \"stress\",\n",
    "                    \"index\": [\n",
    "                        2,\n",
    "                        0\n",
    "                    ],\n",
    "                    \"unit\": \"bar*angtrom^3\"\n",
    "                },\n",
    "            ]\n",
    "        },\n",
    "        { ...\n",
    "        }\n",
    "    }\n",
    "}  "
   ]
  },
  {
   "cell_type": "markdown",
   "metadata": {},
   "source": [
    "__File Cleanup__"
   ]
  },
  {
   "cell_type": "code",
   "execution_count": 7,
   "metadata": {
    "collapsed": true
   },
   "outputs": [],
   "source": [
    "os.remove('test.dump')\n",
    "os.remove('test2.dump')\n",
    "os.remove('test.dump.json')\n",
    "os.remove('test2.dump.json')"
   ]
  }
 ],
 "metadata": {
  "kernelspec": {
   "display_name": "Python 2",
   "language": "python",
   "name": "python2"
  },
  "language_info": {
   "codemirror_mode": {
    "name": "ipython",
    "version": 2
   },
   "file_extension": ".py",
   "mimetype": "text/x-python",
   "name": "python",
   "nbconvert_exporter": "python",
   "pygments_lexer": "ipython2",
   "version": "2.7.12"
  }
 },
 "nbformat": 4,
 "nbformat_minor": 0
}
