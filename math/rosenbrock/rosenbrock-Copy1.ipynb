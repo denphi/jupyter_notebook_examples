{
 "cells": [
  {
   "cell_type": "code",
   "execution_count": 7,
   "metadata": {
    "collapsed": false,
    "input_collapsed": false,
    "is_autorun": false,
    "slideshow": {
     "slide_type": "skip"
    }
   },
   "outputs": [],
   "source": [
    "from hublib.uq import UQVar, UQRun\n",
    "from ipywidgets import IntSlider\n",
    "from IPython.display import display"
   ]
  },
  {
   "cell_type": "markdown",
   "metadata": {
    "collapsed": true,
    "is_autorun": false,
    "slideshow": {
     "slide_type": "slide"
    }
   },
   "source": [
    "<html>\n",
    "<body>\n",
    "    <h2> Rosenbrock Function UQ Test</h2>\n",
    "    <p>  The Rosenbrock function is commonly used for testing optimization and uncertainty quantification software.  The form we will use is</p>\n",
    "    <p>\n",
    "    $f(x,y) = 100*(y-x^2)^2 + (1-x)^2$\n",
    "    <p>\n",
    "    This is a fourth order polynomial and its response surface looks like this:\n",
    "    <p>\n",
    "    <img src=\"rosen_level_4.jpeg\" width=400 align=\"float\"/>\n",
    "    <p>\n",
    "    UQ software should be able to build close approximations to this response surface given enough sample points.  Our \"Smolyak GPC\" method will reproduce\n",
    "    this response exactly with a level 4 run.\n",
    "</body>\n",
    "</html>\n"
   ]
  },
  {
   "cell_type": "code",
   "execution_count": 11,
   "metadata": {
    "collapsed": false,
    "input_collapsed": true,
    "is_autorun": false,
    "slideshow": {
     "slide_type": "slide"
    }
   },
   "outputs": [],
   "source": [
    "v1 = UQVar('x12345678', 'x12345678', 'Uniform', -2, 2)\n",
    "v2 = UQVar('y', 'y', 'Uniform', -2, 2)\n",
    "level = IntSlider(description='GPC Level', value=4, min=1, max=20)\n",
    "display(v1.form, v2.form, level)"
   ]
  },
  {
   "cell_type": "code",
   "execution_count": 25,
   "metadata": {
    "collapsed": false
   },
   "outputs": [],
   "source": [
    "from ipywidgets import *\n",
    "def create_form(desc, options, var, cb):\n",
    "    label_layout = Layout(flex='1 1 auto')\n",
    "    control_layout = Layout(flex='0 1 10%')\n",
    "    form_item_layout = Layout(\n",
    "        display='flex',\n",
    "        flex_flow='row',\n",
    "        border='solid 1px lightgray',\n",
    "        justify_content='space-between',\n",
    "        width='50%'\n",
    "    )\n",
    "    w = Dropdown(options=options, value=var, layout=control_layout)\n",
    "    w.observe(lambda x: cb(x['new']), names='value')\n",
    "    return Box([Label(value=desc, layout=label_layout), w], layout=form_item_layout)\n",
    "\n",
    "def my_cb(new):\n",
    "    print \"my_cb\", new\n",
    "\n",
    "x = \"Uniform\"\n",
    "f1 = create_form(\"The Value of X\", [\"Exact\", \"Gaussian\", \"Uniform\"], x, my_cb)"
   ]
  },
  {
   "cell_type": "code",
   "execution_count": 16,
   "metadata": {
    "collapsed": false
   },
   "outputs": [
    {
     "name": "stdout",
     "output_type": "stream",
     "text": [
      "my_cb Gaussian\n",
      "my_cb Uniform\n",
      "my_cb Exact\n",
      "my_cb Uniform\n"
     ]
    }
   ],
   "source": [
    "display(f1)"
   ]
  },
  {
   "cell_type": "code",
   "execution_count": 27,
   "metadata": {
    "collapsed": false
   },
   "outputs": [],
   "source": [
    "VBox([HBox([VBox([Dropdown(description='Choice', options=['foo', 'bar']), \n",
    "                  ColorPicker(description='Color of the Widget'), \n",
    "                  HBox([Button(), Button()])]), \n",
    "            Textarea(value=\"Lorem ipsum dolor sit amet, consectetur adipiscing elit,\"\n",
    "\"sed do eiusmod tempor incididunt ut labore et dolore magna aliqua. \"\n",
    "\"Ut enim ad minim veniam, quis nostrud exercitation ullamco laboris \"\n",
    "\"nisi ut aliquip ex ea commodo consequat. Duis aute irure dolor in \"\n",
    "\"reprehenderit in voluptate velit esse cillum dolore eu fugiat nulla \"\n",
    "\"pariatur. Excepteur sint occaecat cupidatat non proident, sunt in culpa \"\n",
    "\"qui officia deserunt mollit anim id est laborum.\")]),\n",
    "      HBox([Text(), Checkbox(description='Check box')]), \n",
    "      IntSlider(), \n",
    "      Controller()], background_color='#EEE')"
   ]
  },
  {
   "cell_type": "code",
   "execution_count": null,
   "metadata": {
    "collapsed": false,
    "is_autorun": false
   },
   "outputs": [],
   "source": [
    "%wait Run,Running"
   ]
  },
  {
   "cell_type": "code",
   "execution_count": null,
   "metadata": {
    "collapsed": false,
    "is_autorun": false
   },
   "outputs": [],
   "source": [
    "cmd = './rosen_prog.py --x=$x --y=$y'\n",
    "u = UQRun('GPC', level.value, cmd, [v1.value, v2.value])"
   ]
  },
  {
   "cell_type": "code",
   "execution_count": null,
   "metadata": {
    "collapsed": true,
    "is_autorun": false
   },
   "outputs": [],
   "source": [
    "plottype = Dropdown(\n",
    "            options=['Matplotlib', 'Plotly'],\n",
    "            description='Choose which plot library to use.',\n",
    "            value='Matplotlib')\n",
    "display(plottype)"
   ]
  },
  {
   "cell_type": "code",
   "execution_count": null,
   "metadata": {
    "collapsed": false,
    "is_autorun": false
   },
   "outputs": [],
   "source": [
    "%wait Plot,Plotting"
   ]
  },
  {
   "cell_type": "code",
   "execution_count": null,
   "metadata": {
    "collapsed": false,
    "input_collapsed": true,
    "is_autorun": false,
    "slideshow": {
     "slide_type": "slide"
    }
   },
   "outputs": [],
   "source": [
    "from IPython.display import clear_output\n",
    "clear_output()\n",
    "if plottype.value == 'Matplotlib':\n",
    "    u.plot_responses()\n",
    "else:\n",
    "    display(u.plotly_responses())"
   ]
  },
  {
   "cell_type": "code",
   "execution_count": null,
   "metadata": {
    "code_folding": [],
    "collapsed": false,
    "input_collapsed": true,
    "is_autorun": false,
    "slideshow": {
     "slide_type": "slide"
    }
   },
   "outputs": [],
   "source": [
    "if plottype.value == 'Matplotlib':\n",
    "    u.plot_pdfs()\n",
    "else:\n",
    "    display(u.plotly_pdfs())"
   ]
  },
  {
   "cell_type": "code",
   "execution_count": null,
   "metadata": {
    "collapsed": false,
    "is_autorun": false,
    "run_control": {
     "waitpoint": true
    }
   },
   "outputs": [],
   "source": [
    "%waitdone"
   ]
  },
  {
   "cell_type": "code",
   "execution_count": null,
   "metadata": {
    "collapsed": false,
    "is_autorun": false,
    "run_control": {
     "waitpoint": true
    }
   },
   "outputs": [],
   "source": []
  }
 ],
 "metadata": {
  "description": "UQ Test Program from nanoHUB reimplemented as a notebook.",
  "hide_input": false,
  "kernelspec": {
   "display_name": "Python2",
   "language": "python",
   "name": "python2"
  },
  "language_info": {
   "codemirror_mode": {
    "name": "ipython",
    "version": 2
   },
   "file_extension": ".py",
   "mimetype": "text/x-python",
   "name": "python",
   "nbconvert_exporter": "python",
   "pygments_lexer": "ipython2",
   "version": "2.7.12"
  },
  "tool": true,
  "widgets": {
   "state": {
    "67e504eb239f489d99ba528e39d7d65f": {
     "views": [
      {
       "cell_index": 2
      }
     ]
    },
    "6889ac3d1d894b4f98e19601a77a4368": {
     "views": [
      {
       "cell_index": 2
      }
     ]
    },
    "7243abbc6db94ba6bdb4d674e2fe665a": {
     "views": [
      {
       "cell_index": 2
      }
     ]
    },
    "893353b229d84e258349f1086409bc92": {
     "views": [
      {
       "cell_index": 5
      }
     ]
    },
    "ee88aebcddfb4756a6759f279449d198": {
     "views": [
      {
       "cell_index": 2
      }
     ]
    },
    "efac2d362c294123a41a638528ef2a34": {
     "views": [
      {
       "cell_index": 2
      }
     ]
    },
    "fb7b4afb67514bb4b44e233a2c59d666": {
     "views": [
      {
       "cell_index": 2
      }
     ]
    },
    "fc7739b4a22c4470bab22d2472a3f12a": {
     "views": [
      {
       "cell_index": 4
      }
     ]
    }
   },
   "version": "1.2.0"
  }
 },
 "nbformat": 4,
 "nbformat_minor": 0
}
