{
 "cells": [
  {
   "cell_type": "markdown",
   "metadata": {},
   "source": [
    "<div class=\"container\" style=\"background: url(images/hero-dna.jpg); max-width: 100%\">\n",
    "<a href=\"https://www.nanohub.org\" data-toggle=\"popover\" title=\"Open a New Tab on nanoHUB\"><img src=\"images/nanoHUB_logo_white.png\" style=\"float: left; width:20%;\" alt=\"nanoHUB\"> </a>\n",
    "<h1><a href=\"..\" data-toggle=\"popover\" title=\"Open Notebook Dashboard\" style=\"float:right;vertical-align:middle;text-decoration:none;color:white;margin-right:10px\">My Files</a></h1>\n",
    "</div>"
   ]
  },
  {
   "cell_type": "markdown",
   "metadata": {},
   "source": [
    "<div class=\"alert alert-info\">\n",
    "<h3>Click on \"My Files\" above to see your notebooks.</h3>\n",
    "</div>"
   ]
  },
  {
   "cell_type": "markdown",
   "metadata": {},
   "source": [
    "# New Jupyter Version\n",
    "\n",
    "Version 4.4 is NOW the default version\n",
    "\n",
    "Click [here](versions.ipynb) for more information on Jupyter release plans."
   ]
  },
  {
   "cell_type": "markdown",
   "metadata": {},
   "source": [
    "## What's New\n",
    "\n",
    "* Jupyter 4.4 is the new default version. See [Changes in 4.4](changes_44.ipynb)\n",
    "* Added [File Upload and Download Widgets](examples/GUI/intro.ipynb) See hublib.\n",
    "* Added [Installing Local Python Modules](examples/misc/installing_python_modules.ipynb)\n",
    "* Added [Dashboard Layout](examples/GUI/layout.ipynb)\n",
    "* Added qdot and rtdnegf to [Examples of Running Rappture Tools from a Notebook](examples/rappture/index.ipynb)\n",
    "* Added [Examples of Running Rappture Tools from a Notebook](examples/rappture/index.ipynb)\n",
    "* Added [Example R notebooks](examples/R)\n",
    "* Added [Octave notebooks and examples](examples/matlab)\n",
    "* Added [support for mixing Octave and Python in notebooks](examples/matlab/octave_python_test.ipynb)\n"
   ]
  },
  {
   "cell_type": "markdown",
   "metadata": {},
   "source": [
    "## Notebooks\n",
    "\n",
    "Your notebooks are stored in the \"notebooks\" subdirectory in your home directory.  The notebook server starts there.  You can create new directories (folders) there from the notebook dashboard by selecting \"New/Folder\".\n",
    "\n",
    "This directory is linked from there and contains tutorials and example notebooks. It is read-only so you cannot save any changes and some of the examples may not work because they try to write output files to the current directory. \n",
    "\n",
    "You can download copies for your own use either by using the download function from within the notebook, or by copying the notebook (and any other required files) from /apps/notebook_examples.\n",
    "\n",
    "The notebooks themselves are files that end in '.ipynb'.  However a notebook can call other programs, load images, animations, or other notebooks.  We recommend you put non-trivial notebooks in their own directory with their required files.\n",
    "\n",
    "**To get to your files in the notebook dashboard, Click on the \"My Files\" link at the top right of this page.**"
   ]
  },
  {
   "cell_type": "markdown",
   "metadata": {},
   "source": [
    "## Settings\n",
    "\n",
    "You can customize user-specific settings at [NotebookSettings](NotebookSettings/NotebookSettings.ipynb?dashboard). Or just select File/Preferences in the menubar."
   ]
  },
  {
   "cell_type": "markdown",
   "metadata": {},
   "source": [
    "<div class=\"alert alert-info\">\n",
    "If the notebooks have small fonts and are hard to read, magnify the same way you do with any web page.\n",
    "<kbd>ctrl+</kbd> and <kbd>ctrl-</kbd> or <kbd>ctrl</kbd>+mouse wheel.\n",
    "</div>"
   ]
  },
  {
   "cell_type": "markdown",
   "metadata": {},
   "source": [
    "<hr style='background-color:#B0B0B0;height:2px;width:50%;'>\n",
    "# Hub Notebook Examples and  Documentation"
   ]
  },
  {
   "cell_type": "markdown",
   "metadata": {},
   "source": [
    "## [Users Manual](manual/manual.ipynb)\n",
    "\n",
    "## [Examples](examples/examples.ipynb)\n",
    "    Example notebooks demonstrating some of the installed packages\n",
    "\n",
    "## [Learning Python](examples/python/LearningPython.ipynb) \n",
    "    Materials for learning Python, focusing on scientific programing.\n",
    "\n",
    "## [Presentations](presentations/presentations.ipynb)\n",
    "    "
   ]
  },
  {
   "cell_type": "markdown",
   "metadata": {},
   "source": [
    "## Resources\n",
    "[A Gallery of Interesting Notebooks](https://github.com/jupyter/jupyter/wiki/A-gallery-of-interesting-Jupyter-Notebooks)"
   ]
  }
 ],
 "metadata": {
  "kernelspec": {
   "display_name": "Python2",
   "language": "python",
   "name": "python2"
  },
  "language_info": {
   "codemirror_mode": {
    "name": "ipython",
    "version": 2
   },
   "file_extension": ".py",
   "mimetype": "text/x-python",
   "name": "python",
   "nbconvert_exporter": "python",
   "pygments_lexer": "ipython2",
   "version": "2.7.13"
  }
 },
 "nbformat": 4,
 "nbformat_minor": 1
}
