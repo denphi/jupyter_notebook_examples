{
 "cells": [
  {
   "cell_type": "markdown",
   "id": "4288215e",
   "metadata": {},
   "source": [
    "# Tutorial\n",
    "## First Part\n",
    "Playing with libraries \n"
   ]
  },
  {
   "cell_type": "code",
   "execution_count": null,
   "id": "f1b8eb96",
   "metadata": {
    "ExecuteTime": {
     "end_time": "2023-02-20T16:17:53.905108Z",
     "start_time": "2023-02-20T16:17:42.605361Z"
    },
    "deletable": false,
    "editable": false,
    "run_control": {
     "frozen": true
    }
   },
   "outputs": [],
   "source": [
    "pip install art"
   ]
  },
  {
   "cell_type": "code",
   "execution_count": null,
   "id": "3afc3526",
   "metadata": {
    "ExecuteTime": {
     "end_time": "2023-02-24T15:10:30.998249Z",
     "start_time": "2023-02-24T15:10:30.706617Z"
    }
   },
   "outputs": [],
   "source": [
    "import art"
   ]
  },
  {
   "cell_type": "code",
   "execution_count": null,
   "id": "14ee9471",
   "metadata": {
    "ExecuteTime": {
     "end_time": "2023-02-24T15:10:31.003543Z",
     "start_time": "2023-02-24T15:10:31.000551Z"
    }
   },
   "outputs": [],
   "source": [
    "art.tprint(\"nanoHUB\", font=\"random\")"
   ]
  },
  {
   "cell_type": "markdown",
   "id": "dcda640b",
   "metadata": {
    "ExecuteTime": {
     "end_time": "2023-02-14T16:07:06.898158Z",
     "start_time": "2023-02-14T16:07:06.895520Z"
    }
   },
   "source": [
    "## Second part\n",
    "adding numbers"
   ]
  },
  {
   "cell_type": "code",
   "execution_count": null,
   "id": "517979de",
   "metadata": {
    "ExecuteTime": {
     "end_time": "2023-02-24T15:10:31.011275Z",
     "start_time": "2023-02-24T15:10:31.005643Z"
    },
    "deletable": false,
    "editable": false
   },
   "outputs": [],
   "source": [
    "a = 2\n",
    "b = 5"
   ]
  },
  {
   "cell_type": "code",
   "execution_count": null,
   "id": "02d046a7",
   "metadata": {
    "ExecuteTime": {
     "end_time": "2023-02-24T15:10:31.018079Z",
     "start_time": "2023-02-24T15:10:31.013050Z"
    }
   },
   "outputs": [],
   "source": [
    "c = a + b"
   ]
  },
  {
   "cell_type": "code",
   "execution_count": null,
   "id": "e74caa8b",
   "metadata": {
    "ExecuteTime": {
     "end_time": "2023-02-24T15:10:31.024786Z",
     "start_time": "2023-02-24T15:10:31.019739Z"
    }
   },
   "outputs": [],
   "source": [
    "d = c + 10"
   ]
  },
  {
   "cell_type": "code",
   "execution_count": null,
   "id": "0a7f27b5",
   "metadata": {
    "ExecuteTime": {
     "end_time": "2023-02-24T15:10:31.031143Z",
     "start_time": "2023-02-24T15:10:31.027920Z"
    }
   },
   "outputs": [],
   "source": [
    "c = 2"
   ]
  },
  {
   "cell_type": "code",
   "execution_count": null,
   "id": "6a170a4b",
   "metadata": {
    "ExecuteTime": {
     "end_time": "2023-02-24T15:10:31.037752Z",
     "start_time": "2023-02-24T15:10:31.033450Z"
    },
    "code_folding": []
   },
   "outputs": [],
   "source": [
    "def functiona (pa, pb):\n",
    "    #My function to add two positive numbers\n",
    "    if (pa < 0)\n",
    "        pa = 0\n",
    "    if (pa < 0)\n",
    "        pb = 0\n",
    "    return pa + pb"
   ]
  },
  {
   "cell_type": "code",
   "execution_count": null,
   "id": "4a8d9b63",
   "metadata": {
    "ExecuteTime": {
     "end_time": "2023-02-24T15:10:31.053160Z",
     "start_time": "2023-02-24T15:10:31.039532Z"
    }
   },
   "outputs": [],
   "source": [
    "functiona(a, b)"
   ]
  },
  {
   "cell_type": "code",
   "execution_count": null,
   "id": "c3f7b354",
   "metadata": {
    "ExecuteTime": {
     "end_time": "2023-02-24T15:10:31.177278Z",
     "start_time": "2023-02-24T15:10:31.055089Z"
    }
   },
   "outputs": [],
   "source": [
    "functiona (functiona(3),2)"
   ]
  },
  {
   "cell_type": "markdown",
   "id": "464d84f9",
   "metadata": {},
   "source": [
    "## Third part\n",
    "writing bad code"
   ]
  },
  {
   "cell_type": "code",
   "execution_count": null,
   "id": "d5c10833",
   "metadata": {
    "ExecuteTime": {
     "end_time": "2023-02-24T15:10:31.179972Z",
     "start_time": "2023-02-24T15:10:30.649Z"
    },
    "code_folding": []
   },
   "outputs": [],
   "source": [
    "def badcode( a , b,        c):\n",
    "    \n",
    "    \n",
    "    \n",
    "    \n",
    "    \n",
    "    \n",
    "    \n",
    "    \n",
    "    d = a +  b;\n",
    "    e = d +c\n",
    "    \n",
    "    \n",
    "    \n",
    "    \n",
    "    return e"
   ]
  },
  {
   "cell_type": "code",
   "execution_count": null,
   "id": "1d7241cc",
   "metadata": {
    "ExecuteTime": {
     "end_time": "2023-02-24T15:10:31.181229Z",
     "start_time": "2023-02-24T15:10:30.652Z"
    }
   },
   "outputs": [],
   "source": [
    "badcode(1 ,2, 3)"
   ]
  },
  {
   "cell_type": "code",
   "execution_count": null,
   "id": "aa607161",
   "metadata": {
    "ExecuteTime": {
     "end_time": "2023-02-24T15:10:31.182388Z",
     "start_time": "2023-02-24T15:10:30.653Z"
    }
   },
   "outputs": [],
   "source": [
    "t = 12"
   ]
  },
  {
   "cell_type": "code",
   "execution_count": null,
   "id": "edb0954a",
   "metadata": {},
   "outputs": [],
   "source": []
  }
 ],
 "metadata": {
  "kernelspec": {
   "display_name": "Python 3 (ipykernel)",
   "language": "python",
   "name": "python3"
  },
  "language_info": {
   "codemirror_mode": {
    "name": "ipython",
    "version": 3
   },
   "file_extension": ".py",
   "mimetype": "text/x-python",
   "name": "python",
   "nbconvert_exporter": "python",
   "pygments_lexer": "ipython3",
   "version": "3.8.10"
  },
  "toc": {
   "base_numbering": 1,
   "nav_menu": {},
   "number_sections": true,
   "sideBar": true,
   "skip_h1_title": false,
   "title_cell": "Table of Contents 2",
   "title_sidebar": "Contents 2",
   "toc_cell": false,
   "toc_position": {
    "height": "562px",
    "left": "598px",
    "top": "497.133px",
    "width": "256px"
   },
   "toc_section_display": true,
   "toc_window_display": false
  },
  "varInspector": {
   "cols": {
    "lenName": 16,
    "lenType": 16,
    "lenVar": 40
   },
   "kernels_config": {
    "python": {
     "delete_cmd_postfix": "",
     "delete_cmd_prefix": "del ",
     "library": "var_list.py",
     "varRefreshCmd": "print(var_dic_list())"
    },
    "r": {
     "delete_cmd_postfix": ") ",
     "delete_cmd_prefix": "rm(",
     "library": "var_list.r",
     "varRefreshCmd": "cat(var_dic_list()) "
    }
   },
   "position": {
    "height": "209.85px",
    "left": "784px",
    "right": "20px",
    "top": "132px",
    "width": "455px"
   },
   "types_to_exclude": [
    "module",
    "function",
    "builtin_function_or_method",
    "instance",
    "_Feature"
   ],
   "window_display": false
  }
 },
 "nbformat": 4,
 "nbformat_minor": 5
}
