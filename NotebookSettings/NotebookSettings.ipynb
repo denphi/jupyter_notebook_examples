{
 "cells": [
  {
   "cell_type": "code",
   "execution_count": 1,
   "metadata": {
    "extensions": {
     "jupyter_dashboards": {
      "version": 1,
      "views": {
       "grid_default": {},
       "report_default": {
        "hidden": true
       }
      }
     }
    }
   },
   "outputs": [
    {
     "data": {
      "application/javascript": [
       "\n",
       "requirejs.undef('filepicker');\n",
       "\n",
       "define('filepicker', [\"jupyter-js-widgets\"], function(widgets) {\n",
       "\n",
       "    var FilePickerView = widgets.DOMWidgetView.extend({\n",
       "        render: function(){\n",
       "            this.file = document.createElement('input');\n",
       "            this.file.setAttribute('class', 'fileinput');\n",
       "            this.file.setAttribute('id', this.cid);\n",
       "            this.file.multiple = this.model.get('multiple');\n",
       "            this.file.required = true;\n",
       "            this.file.setAttribute('type', 'file');\n",
       "            this.file.setAttribute('style', 'display:none');\n",
       "\n",
       "            this.label = document.createElement('label');\n",
       "            this.label.setAttribute('for', this.cid);\n",
       "            this.label.setAttribute('style', 'border: 1px solid; border-radius: 5px; display: inline-block; padding: 6px 12px');\n",
       "\n",
       "            this.icon = document.createElement('i');\n",
       "            this.icon.setAttribute(\"class\", \"fs fa-upload\");\n",
       "\n",
       "            if (this.file.multiple) {\n",
       "                this.labelstr = \"  Upload Files\";\n",
       "            } else {\n",
       "                this.labelstr = \"  Upload File\";\n",
       "            }\n",
       "            this.label.innerHTML = this.labelstr;\n",
       "            this.label.prepend(this.icon);\n",
       "            this.el.appendChild(this.label);\n",
       "            this.el.appendChild(this.file);\n",
       "            this.update();\n",
       "        },\n",
       "\n",
       "        events: {\n",
       "            // List of events and their handlers.\n",
       "            'change': 'handle_file_change',\n",
       "        },\n",
       "\n",
       "        handle_file_change: function(evt) {\n",
       "\n",
       "            var that = this;\n",
       "            var files = evt.target.files;\n",
       "            var filenames = [];\n",
       "            var skipped = [];\n",
       "            var file_readers = [];\n",
       "\n",
       "            for (var i = 0; i < files.length; i++) {\n",
       "                var file = files[i];\n",
       "                console.log(\"Filename: \" + file.name);\n",
       "                console.log(\"Type: \" + file.type);\n",
       "                console.log(\"Size: \" + file.size + \" bytes\");\n",
       "                if (file.size > this.model.get('maxsize')) {\n",
       "                    skipped.push(file.name);\n",
       "                    continue;\n",
       "                };\n",
       "                filenames.push(file.name);\n",
       "\n",
       "                // Read the file's textual content and set value_i to those contents.\n",
       "                file_readers.push(new FileReader());\n",
       "                file_readers[i].onload = (function(file, i) {\n",
       "                    return function(e) {\n",
       "                        that.model.set('value_' + i, e.target.result);\n",
       "                        that.touch();\n",
       "                        console.log(\"file_\" + i + \" loaded: \" + file.name);\n",
       "                    };\n",
       "                })(file, i);\n",
       "                file_readers[i].readAsDataURL(file);\n",
       "            };\n",
       "\n",
       "            // update the label\n",
       "            if (filenames.length == 0) {\n",
       "                this.label.innerHTML = this.labelstr;\n",
       "            } else if (filenames.length == 1) {\n",
       "                this.label.innerHTML = \"  \" + filenames[0];\n",
       "            } else {\n",
       "                this.label.innerHTML = \"  \" + filenames.length + \" files selected\";\n",
       "            };\n",
       "            this.label.prepend(this.icon);\n",
       "\n",
       "            // Set the filenames of the files.\n",
       "            this.model.set('filenames', filenames);\n",
       "            this.model.set('skipped', skipped);\n",
       "            this.touch();\n",
       "        },\n",
       "    });\n",
       "\n",
       "    // Register the FilePickerView with the widget manager.\n",
       "    return {\n",
       "        FilePickerView: FilePickerView\n",
       "    };\n",
       "});\n"
      ],
      "text/plain": [
       "<IPython.core.display.Javascript object>"
      ]
     },
     "metadata": {},
     "output_type": "display_data"
    },
    {
     "data": {
      "text/html": [
       "\n",
       "<script>\n",
       "requirejs.config({\n",
       "    paths: {\n",
       "        'ace': ['//cdnjs.cloudflare.com/ajax/libs/ace/1.2.6/ace'],\n",
       "    },\n",
       "});\n",
       "\n",
       "require(['ace'], function(ace) {\n",
       "    console.log(\"ACE loaded :)\");\n",
       "    return {};\n",
       "});\n",
       "</script>\n",
       "\n",
       "<script>\n",
       "requirejs.undef('editor');\n",
       "\n",
       "define('editor', [\"jupyter-js-widgets\"], function(widgets) {\n",
       "\n",
       "    var EditorView = widgets.DOMWidgetView.extend({\n",
       "\n",
       "        // Render the view.\n",
       "        render: function() {\n",
       "            this.ignorex = false;\n",
       "            this.ignorev = false;\n",
       "            //console.log('RENDER '+this.model.get('name'));\n",
       "            this.div = document.createElement('div');\n",
       "            this.div.setAttribute('id', this.model.get('name'));\n",
       "            this.el.appendChild(this.div);\n",
       "            this.listenTo(this.model, 'change:state', this._state_changed, this);\n",
       "            this.listenTo(this.model, 'change:theme', this._theme_changed, this);\n",
       "            this.listenTo(this.model, 'change:mode', this._mode_changed, this);\n",
       "            this.listenTo(this.model, 'change:value2', this._value2_changed, this);\n",
       "            this.listenTo(this.model, 'change:showmargin', this._showmargin_changed, this);\n",
       "            this.listenTo(this.model, 'change:fontsize', this._fontsize_changed, this);\n",
       "            this.update();\n",
       "        },\n",
       "        update: function() {\n",
       "            return EditorView.__super__.update.apply(this);\n",
       "        },\n",
       "        // Tell Backbone to listen to the change event of input controls\n",
       "        events: {\n",
       "            \"change\": \"handle_color_change\"\n",
       "        },\n",
       "\n",
       "        _state_changed: function() {\n",
       "            var state = this.model.get('state')\n",
       "            //console.log('state: ' + state );\n",
       "            if (state == 'start') {\n",
       "                var that = this;\n",
       "                this._ed = ace.edit(this.model.get('name'));\n",
       "                this._ed.getSession().on('change', function(e) {\n",
       "                    if (that.ignorev == true) { return }\n",
       "                    that.ignorex = true;\n",
       "                    //console.log('CHANGE1');\n",
       "                    that.model.set('value2', that._ed.getValue());\n",
       "                    //console.log('CHANGE2');\n",
       "                    that.touch();\n",
       "                    //console.log('CHANGE3');\n",
       "                    that.ignorex = false;\n",
       "                });\n",
       "            };\n",
       "        },\n",
       "        _theme_changed: function() {\n",
       "            //console.log(\"theme \" + this.model.get('theme'));\n",
       "            this._ed.setTheme(\"ace/theme/\"+this.model.get('theme'));\n",
       "        },\n",
       "        _mode_changed: function() {\n",
       "            //console.log(\"mode \" + this.model.get('mode'));\n",
       "            this._ed.getSession().setMode(\"ace/mode/\"+this.model.get('mode'));\n",
       "        },\n",
       "        _value2_changed: function() {\n",
       "            //console.log('value2 ' + this.ignorex);\n",
       "            if (this.ignorex == true) { return };\n",
       "            var val = this.model.get('value2');\n",
       "            //console.log('VALUE2 ' + val);\n",
       "            this.ignorev = true;\n",
       "            this._ed.setValue(val);\n",
       "            this.ignorev = false;\n",
       "            //console.log('VALUE2 DONE');\n",
       "        },\n",
       "        _showmargin_changed: function() {\n",
       "            this._ed.setShowPrintMargin(this.model.get('showmargin'));\n",
       "        },\n",
       "        _fontsize_changed: function() {\n",
       "            document.getElementById(this.model.get('name')).style.fontSize=this.model.get('fontsize');\n",
       "        },\n",
       "\n",
       "        // Callback for when the color is changed.\n",
       "        handle_color_change: function(event) {\n",
       "            console.log('SOMETHING CHNAGED');\n",
       "            console.log(event);\n",
       "        },\n",
       "    });\n",
       "\n",
       "    return {\n",
       "        EditorView: EditorView\n",
       "    };\n",
       "});\n",
       "</script>\n"
      ],
      "text/plain": [
       "<IPython.core.display.HTML object>"
      ]
     },
     "metadata": {},
     "output_type": "display_data"
    }
   ],
   "source": [
    "from __future__ import print_function\n",
    "import jupyter_core\n",
    "import os\n",
    "import json\n",
    "import shutil\n",
    "import grp\n",
    "import ipywidgets as widgets\n",
    "from IPython.display import HTML, display\n",
    "from notebook.services.config import ConfigManager\n",
    "import hublib.ui as ui"
   ]
  },
  {
   "cell_type": "code",
   "execution_count": 2,
   "metadata": {
    "collapsed": true,
    "extensions": {
     "jupyter_dashboards": {
      "version": 1,
      "views": {
       "grid_default": {},
       "report_default": {
        "hidden": true
       }
      }
     }
    }
   },
   "outputs": [],
   "source": [
    "cdir = os.path.join(jupyter_core.paths.jupyter_config_dir(), 'custom')\n",
    "ndir = os.path.join(jupyter_core.paths.jupyter_config_dir(), 'nbconfig')\n",
    "css_filename = os.path.join(cdir, 'custom.css')\n",
    "cjs_filename = os.path.join(cdir, 'custom.js')\n",
    "edit_filename = os.path.join(ndir, 'edit.json')\n",
    "cm = ConfigManager()\n",
    "doc_tools_path = 'notebook-extensions-master/calysto/document-tools/main'\n",
    "inboxes_dir = '/data/tools/inboxes'"
   ]
  },
  {
   "cell_type": "code",
   "execution_count": 3,
   "metadata": {
    "collapsed": true,
    "extensions": {
     "jupyter_dashboards": {
      "version": 1,
      "views": {
       "grid_default": {},
       "report_default": {
        "hidden": true
       }
      }
     }
    }
   },
   "outputs": [],
   "source": [
    "edit_config = \"\"\"{\n",
    "  \"Editor\": {\n",
    "    \"codemirror_options\": {\n",
    "      \"vimMode\": %s,\n",
    "      \"keyMap\": \"%s\"\n",
    "    }\n",
    "  }\n",
    "}\n",
    "\"\"\"\n",
    "\n",
    "editor_template = \"\"\"/****** AUTOMATICALLY GENERATED BY NotebookSettings **************/\n",
    "\n",
    "/* Warning: Anything you add here will get overwritten! */\n",
    "\n",
    "/** KEYMAP %s **/\n",
    "require([\"codemirror/keymap/%s\", \"notebook/js/cell\", \"base/js/namespace\"],\n",
    "    function(emacs_keymap, cell, Jupyter) {\n",
    "        if (Jupyter.notebook !== undefined) {\n",
    "            cell.Cell.options_default.cm_config.keyMap = '%s';\n",
    "            var cells = Jupyter.notebook.get_cells();\n",
    "            for(var c=0; c< cells.length ; c++){\n",
    "                cells[c].code_mirror.setOption('keyMap', '%s');\n",
    "            }\n",
    "        }\n",
    "    }\n",
    ");\n",
    "\"\"\"\n",
    "\n",
    "dash_css = \"\"\"/****** DASHBOARD BUTTONS ******/\n",
    ".jupyter-dashboard-toolbar-buttons {\n",
    "    visibility: hidden;\n",
    "}\n",
    "\"\"\"\n",
    "\n",
    "wide_css = \"\"\"/* FULL WIDTH */\n",
    ".notebook_app .container {\n",
    "    width:99%; !important\n",
    "}\n",
    "\n",
    "/* Prevent the edit cell highlight box from getting clipped;\n",
    " * important so that it also works when cell is in edit mode*/\n",
    "div.cell.selected {\n",
    "    border-left-width: 1px !important;\n",
    "}\n",
    "\"\"\"\n",
    "\n",
    "main_css = \"\"\"/****** AUTOMATICALLY GENERATED BY NotebookSettings **************/\n",
    "\n",
    "/* Warning: Anything you add here will get overwritten! */\n",
    "\n",
    "/* remove clusters tab in tree view */\n",
    ".clusters_tab_link {\n",
    "    visibility: hidden;\n",
    "}\n",
    "/* remove CellToobar Reminder */\n",
    "[title=\"show new celltoolbar selector location\"] {\n",
    "    display: none;\n",
    "}\n",
    "\"\"\"\n",
    "\n",
    "eqn_js = \"\"\"/** EQUATION NUMBERING **/\n",
    "require([\n",
    "    'base/js/namespace',\n",
    "    'jquery'\n",
    "],   function(IPython, $) {\n",
    "    \"use strict\";\n",
    "\n",
    "    IPython.toolbar.add_buttons_group([\n",
    "        {\n",
    "            id: 'reset_numbering',\n",
    "            label: 'Reset equation numbering',\n",
    "            icon: 'fa-sort-numeric-asc text-primary',\n",
    "            callback: function () {\n",
    "                MathJax.Hub.Queue(\n",
    "                    [\"resetEquationNumbers\", MathJax.InputJax.TeX],\n",
    "                    [\"PreProcess\", MathJax.Hub],\n",
    "                    [\"Reprocess\", MathJax.Hub]\n",
    "                );\n",
    "                $('#reset_numbering').blur();\n",
    "            }\n",
    "        }\n",
    "    ]);\n",
    "    MathJax.Hub.Config({\n",
    "        TeX: { equationNumbers: { autoNumber: \"AMS\" } }\n",
    "    });\n",
    "});\n",
    "\"\"\""
   ]
  },
  {
   "cell_type": "code",
   "execution_count": 4,
   "metadata": {
    "collapsed": true,
    "extensions": {
     "jupyter_dashboards": {
      "version": 1,
      "views": {
       "grid_default": {},
       "report_default": {
        "hidden": true
       }
      }
     }
    }
   },
   "outputs": [],
   "source": [
    "def update_css():\n",
    "    global current_width, current_dash\n",
    "    with open(css_filename, 'w') as f:\n",
    "        f.write(main_css)\n",
    "    if current_width == 'Wide':\n",
    "        with open(css_filename, 'a') as f:\n",
    "            f.write(wide_css)\n",
    "    if current_dash == False:\n",
    "        with open(css_filename, 'a') as f:\n",
    "            f.write(dash_css)\n",
    "    print(\"Please reload any open notebooks for the changes to take effect.\")\n",
    "\n",
    "def set_width(name, width):\n",
    "    global current_width\n",
    "    current_width = width\n",
    "    update_css()\n",
    "\n",
    "def set_editor(name, km):\n",
    "    global current_eqn, current_editor\n",
    "    current_editor = km\n",
    "\n",
    "    # write edit.json\n",
    "    with open(edit_filename, 'w') as f:\n",
    "        f.write(edit_config % (str(km == 'vim').lower(), km))\n",
    "\n",
    "    # write custom.js\n",
    "    with open(cjs_filename, 'w') as f:\n",
    "        f.write(editor_template % (km, km, km, km))\n",
    "\n",
    "    # equation numbering\n",
    "    if current_eqn:\n",
    "        with open(cjs_filename, 'a') as f:\n",
    "            f.write(eqn_js)\n",
    "\n",
    "    print(\"Please reload any open notebooks for the changes to take effect.\")\n",
    "\n",
    "def set_eqn(name, new):\n",
    "    global current_eqn, current_editor\n",
    "    current_eqn = new\n",
    "    set_editor(current_editor)\n",
    "    print(\"Please reload any open notebooks for the changes to take effect.\")\n",
    "\n",
    "def set_doc_tools(name, new):\n",
    "    global current_doc\n",
    "    current_doc = new\n",
    "    cm.update('notebook', {\"load_extensions\": {doc_tools_path: current_doc}})\n",
    "    print(\"Please reload any open notebooks for the changes to take effect.\")\n",
    "\n",
    "def set_dash_tools(name, new):\n",
    "    global current_dash\n",
    "    current_dash = new\n",
    "    update_css()"
   ]
  },
  {
   "cell_type": "code",
   "execution_count": 7,
   "metadata": {
    "extensions": {
     "jupyter_dashboards": {
      "version": 1,
      "views": {
       "grid_default": {},
       "report_default": {
        "hidden": true
       }
      }
     }
    }
   },
   "outputs": [
    {
     "name": "stdout",
     "output_type": "stream",
     "text": [
      "Please reload any open notebooks for the changes to take effect.\n"
     ]
    }
   ],
   "source": [
    "# create user config dirs if none exists\n",
    "if not os.path.exists(cdir):\n",
    "    os.system('mkdir -p ' + cdir)\n",
    "if not os.path.exists(ndir):\n",
    "    os.system('mkdir -p ' + ndir)\n",
    "\n",
    "# read current values\n",
    "current_editor = None\n",
    "current_eqn = False\n",
    "try:\n",
    "    f = open(cjs_filename, 'r')\n",
    "    for line in f.read().split('\\n'):\n",
    "        if line.startswith('/** KEYMAP '):\n",
    "            current_editor = line.split()[2]\n",
    "        elif line.startswith('/** EQUATION NUMBERING'):\n",
    "            current_eqn = True\n",
    "    f.close()\n",
    "except:\n",
    "    pass\n",
    "\n",
    "if current_editor is None:\n",
    "    current_editor = 'emacs'\n",
    "    set_editor('', current_editor)\n",
    "\n",
    "current_width = None\n",
    "current_dash = True\n",
    "try:\n",
    "    f = open(css_filename, 'r')\n",
    "    for line in f.read().split('\\n'):\n",
    "        if line.startswith(\"/* FULL WIDTH */\"):\n",
    "            current_width = 'Wide'\n",
    "        if line.startswith(\"/****** DASH\"):\n",
    "            current_dash = False\n",
    "    f.close()\n",
    "    if current_width is None:\n",
    "        current_width = 'Wide'\n",
    "except:\n",
    "    pass\n",
    "if current_width is None:\n",
    "    current_width = 'Normal'\n",
    "    set_width('', current_width)\n",
    "\n",
    "try:\n",
    "    current_doc = cm.get('notebook')['load_extensions'][doc_tools_path]\n",
    "except:\n",
    "    cm.update('notebook', {\"load_extensions\": {doc_tools_path: False}})\n",
    "    current_doc = False\n",
    "\n",
    "use_inboxes = os.path.isdir(inboxes_dir)\n",
    "if use_inboxes:\n",
    "    indir = os.path.join(inboxes_dir, os.environ['LOGNAME'])\n",
    "    if os.path.isdir(indir):\n",
    "        inboxes = sorted(os.listdir(indir))\n",
    "    else:\n",
    "        inboxes = []\n",
    "    try:\n",
    "        send_list = cm.get('notebook')['Inbox']['sendlist']\n",
    "    except:\n",
    "        send_list = []\n"
   ]
  },
  {
   "cell_type": "markdown",
   "metadata": {
    "extensions": {
     "jupyter_dashboards": {
      "version": 1,
      "views": {
       "grid_default": {},
       "report_default": {
        "hidden": false
       }
      }
     }
    }
   },
   "source": [
    "# Notebook Settings"
   ]
  },
  {
   "cell_type": "markdown",
   "metadata": {
    "extensions": {
     "jupyter_dashboards": {
      "version": 1,
      "views": {
       "grid_default": {},
       "report_default": {
        "hidden": false
       }
      }
     }
    }
   },
   "source": [
    "## Width\n",
    "Sets the default cell width for the notebook.  Selecting 'wide' will cause the notebooks to fill the width of the browser window."
   ]
  },
  {
   "cell_type": "code",
   "execution_count": 8,
   "metadata": {
    "extensions": {
     "jupyter_dashboards": {
      "version": 1,
      "views": {
       "grid_default": {},
       "report_default": {
        "hidden": false
       }
      }
     }
    }
   },
   "outputs": [
    {
     "data": {
      "application/vnd.jupyter.widget-view+json": {
       "model_id": "9044aa3fec834754a284e1b35e4e745c",
       "version_major": 2,
       "version_minor": 0
      },
      "text/plain": [
       "A Jupyter Widget"
      ]
     },
     "metadata": {},
     "output_type": "display_data"
    }
   ],
   "source": [
    "ui.Radiobuttons(\n",
    "    name='Notebook Width',\n",
    "    description=\"\",\n",
    "    value=current_width,\n",
    "    options=['Normal', 'Wide'],\n",
    "    width='60%',\n",
    "    cb=set_width\n",
    ")"
   ]
  },
  {
   "cell_type": "markdown",
   "metadata": {
    "extensions": {
     "jupyter_dashboards": {
      "version": 1,
      "views": {
       "grid_default": {},
       "report_default": {
        "hidden": false
       }
      }
     }
    }
   },
   "source": [
    "## Editor Mode\n",
    "The notebook's built-in editor can emulate other popular editors.  "
   ]
  },
  {
   "cell_type": "code",
   "execution_count": 9,
   "metadata": {
    "extensions": {
     "jupyter_dashboards": {
      "version": 1,
      "views": {
       "grid_default": {},
       "report_default": {
        "hidden": false
       }
      }
     }
    }
   },
   "outputs": [
    {
     "data": {
      "application/vnd.jupyter.widget-view+json": {
       "model_id": "7e4ecd86b3524d648e2706142019aa7e",
       "version_major": 2,
       "version_minor": 0
      },
      "text/plain": [
       "A Jupyter Widget"
      ]
     },
     "metadata": {},
     "output_type": "display_data"
    }
   ],
   "source": [
    "ui.Dropdown(\n",
    "    name='Keymap',\n",
    "    description=\"Editor Keymap\",\n",
    "    value=current_editor,\n",
    "    options={\"Emacs\": \"emacs\", \"Vi\": \"vi\", \"Sublime\": \"sublime\"},\n",
    "    cb=set_editor,\n",
    "    width='60%'\n",
    ")"
   ]
  },
  {
   "cell_type": "markdown",
   "metadata": {
    "extensions": {
     "jupyter_dashboards": {
      "version": 1,
      "views": {
       "grid_default": {},
       "report_default": {
        "hidden": false
       }
      }
     }
    }
   },
   "source": [
    "## Dashboard Tools"
   ]
  },
  {
   "cell_type": "markdown",
   "metadata": {
    "extensions": {
     "jupyter_dashboards": {
      "version": 1,
      "views": {
       "grid_default": {},
       "report_default": {
        "hidden": false
       }
      }
     }
    }
   },
   "source": [
    "<img  src=\"dashboard.png\" style=\"margin: 0\"/>\n",
    "Enables and disables the display of the dashboard tool buttons.  You will only need\n",
    "these if you are creating dashboards (tools) instead of notebooks."
   ]
  },
  {
   "cell_type": "code",
   "execution_count": 10,
   "metadata": {
    "extensions": {
     "jupyter_dashboards": {
      "version": 1,
      "views": {
       "grid_default": {},
       "report_default": {
        "hidden": false
       }
      }
     }
    }
   },
   "outputs": [
    {
     "data": {
      "application/vnd.jupyter.widget-view+json": {
       "model_id": "33f424837b344fbc86aa084ad2bbc04c",
       "version_major": 2,
       "version_minor": 0
      },
      "text/plain": [
       "A Jupyter Widget"
      ]
     },
     "metadata": {},
     "output_type": "display_data"
    }
   ],
   "source": [
    "ui.Checkbox('Dashboard Tools', \n",
    "    'Add the Dashboard Tool Icons to the Toolbar', \n",
    "    value=current_dash, \n",
    "    cb=set_dash_tools,\n",
    "    width='60%'\n",
    ")"
   ]
  },
  {
   "cell_type": "code",
   "execution_count": 11,
   "metadata": {
    "collapsed": true
   },
   "outputs": [],
   "source": [
    "# is the user in the jupyter group?\n",
    "def in_jupyter():\n",
    "    try:\n",
    "        return grp.getgrnam('jupyter').gr_gid in os.getgroups()\n",
    "    except:\n",
    "        pass\n",
    "    return False"
   ]
  },
  {
   "cell_type": "markdown",
   "metadata": {
    "extensions": {
     "jupyter_dashboards": {
      "version": 1,
      "views": {
       "grid_default": {},
       "report_default": {
        "hidden": false
       }
      }
     }
    }
   },
   "source": [
    "## Mailboxes\n",
    "\n",
    "A simple way to send a notebook to another nanoHUB user.\n",
    "\n",
    "You will need an inbox to receive notebooks. At this time, this feature is in testing and you will need to submit a ticket asking for an inbox.  A staff member will authorize it and then you can add inbox folders. \n",
    "\n",
    "To use Mailboxes, you must a a member of the Jupyter group.  Anyone can join at https://nanohub.org/groups/jupyter.\n"
   ]
  },
  {
   "cell_type": "markdown",
   "metadata": {
    "extensions": {
     "jupyter_dashboards": {
      "version": 1,
      "views": {
       "grid_default": {},
       "report_default": {
        "hidden": false
       }
      }
     }
    }
   },
   "source": [
    "### Your Inbox Folders"
   ]
  },
  {
   "cell_type": "code",
   "execution_count": 12,
   "metadata": {
    "collapsed": true,
    "extensions": {
     "jupyter_dashboards": {
      "version": 1,
      "views": {
       "grid_default": {},
       "report_default": {
        "hidden": true
       }
      }
     }
    }
   },
   "outputs": [],
   "source": [
    "def add_my_inbox(newval):\n",
    "    global inboxes\n",
    "    newdir = [x for x in newval if x not in inboxes][0]\n",
    "    idir = os.path.join(indir, newdir)\n",
    "    if not os.path.isdir(idir):\n",
    "        try:\n",
    "            os.makedirs(idir)\n",
    "        except:\n",
    "            display(ui.Modal(body=\"Creation of folder '%s' failed\" % newdir,\n",
    "                  title='ERROR',\n",
    "                  buttons=['OK']))\n",
    "            return\n",
    "    inboxes = sorted(list(set(newval)))\n",
    "    my_inbox_lm.value = inboxes\n",
    "\n",
    "def del_my_inbox(newval):\n",
    "    global inboxes\n",
    "    def del_cb(val):\n",
    "        global inboxes\n",
    "        if val == 1:\n",
    "            # delete\n",
    "            shutil.rmtree(idir)\n",
    "            inboxes = sorted(list(set(newval)))\n",
    "        else:\n",
    "            my_inbox_lm.value = inboxes\n",
    "\n",
    "    deldir = [x for x in inboxes if x not in newval][0]\n",
    "    idir = os.path.join(indir, deldir)\n",
    "    if os.path.isdir(idir):\n",
    "        num = len(os.listdir(idir))\n",
    "        txt = \"Delete folder '%s'?\\n\" % deldir\n",
    "        if num == 0:\n",
    "            txt += \"(folder is empty)\"\n",
    "        else:\n",
    "            txt += \"(folder contains %d files or folders)\" % num\n",
    "        m = ui.Modal(body=txt,\n",
    "                  title='Confirm Deletion',\n",
    "                  primary=1,\n",
    "                  buttons=['Cancel', 'Delete'], cb=del_cb)\n",
    "        display(m)"
   ]
  },
  {
   "cell_type": "code",
   "execution_count": 13,
   "metadata": {
    "extensions": {
     "jupyter_dashboards": {
      "version": 1,
      "views": {
       "grid_default": {},
       "report_default": {
        "hidden": false
       }
      }
     }
    }
   },
   "outputs": [
    {
     "data": {
      "application/javascript": [
       "\n",
       "requirejs.undef('listmanager');\n",
       "\n",
       "define('listmanager', [\"jupyter-js-widgets\"], function(widgets) {\n",
       "\n",
       "    var ListManagerView = widgets.DOMWidgetView.extend({\n",
       "        render: function(){\n",
       "            this.div = document.createElement('div');\n",
       "            this.div.setAttribute('class', 'lmheader');\n",
       "            this.input = document.createElement('input')\n",
       "            this.input.setAttribute('type', 'text');\n",
       "            this.input.setAttribute('placeholder', this.model.get('list_text'));\n",
       "            this.input.setAttribute('style', 'border: none; float: left; width: 90%; padding: 10px');\n",
       "            this.span = document.createElement('span')\n",
       "\n",
       "            if (this.model.get('button_text') === ''){\n",
       "                this.span.setAttribute('class', 'lmaddIcon fa fa-plus fa-1g');\n",
       "            } else {\n",
       "                this.span.innerHTML = this.model.get('button_text');\n",
       "                this.span.setAttribute('class', 'lmaddBtn');\n",
       "            }\n",
       "\n",
       "            this.div.appendChild(this.input);\n",
       "            this.div.appendChild(this.span);\n",
       "            this.el.appendChild(this.div);\n",
       "            this.ul = document.createElement('ul');\n",
       "            this.ul.setAttribute('class', 'lmUL');\n",
       "            this.el.appendChild(this.ul);\n",
       "\n",
       "            // set initial values\n",
       "            this.lm_list = [];\n",
       "            var vals =  this.model.get('value');\n",
       "            for (var i = 0; i < vals.length; i++){\n",
       "                this.add_list_element(vals[i]);\n",
       "            }\n",
       "\n",
       "            this.listenTo(this.model, 'change:value', this.value_changed, this);\n",
       "        },\n",
       "\n",
       "        update: function() {\n",
       "            return ListManagerView.__super__.update.apply(this);\n",
       "        },\n",
       "\n",
       "        events: {\n",
       "            // List of events and their handlers.\n",
       "            'change': 'handle_lm_change',\n",
       "        },\n",
       "\n",
       "        value_changed: function() {\n",
       "\n",
       "            // remove the old list\n",
       "            this.ul.innerHTML = '';\n",
       "\n",
       "            var vals =  this.model.get('value');\n",
       "            //console.log('value_changed: ' + vals);\n",
       "            for (var i = 0; i < vals.length; i++){\n",
       "                this.add_list_element(vals[i]);\n",
       "            }\n",
       "        },\n",
       "\n",
       "        add_list_element: function(val) {\n",
       "            if (val === '') {\n",
       "                return\n",
       "            }\n",
       "            var li = document.createElement(\"li\");\n",
       "            var t = document.createTextNode(val);\n",
       "            li.setAttribute('class', 'lmValue');\n",
       "            li.appendChild(t);\n",
       "\n",
       "            // clear name from input box\n",
       "            this.input.value = \"\";\n",
       "\n",
       "            var span = document.createElement(\"SPAN\");\n",
       "            var txt = document.createTextNode(\"×\");\n",
       "            span.className = \"close\";\n",
       "            span.appendChild(txt);\n",
       "            li.appendChild(span);\n",
       "            this.ul.appendChild(li);\n",
       "\n",
       "            var that = this;\n",
       "            span.onclick = function() {\n",
       "                var div = this.parentElement;\n",
       "                div.style.display = \"none\";\n",
       "                that.update_lm_list();\n",
       "            }\n",
       "\n",
       "        },\n",
       "        update_lm_list: function() {\n",
       "            this.lm_list = [];\n",
       "            var children = this.ul.childNodes;\n",
       "            for (var i = 0; i < children.length; i++) {\n",
       "                var item = children[i];\n",
       "                if (item.style.display != \"none\") {\n",
       "                    this.lm_list.push(item.textContent.slice(0,-1));\n",
       "                }\n",
       "            }\n",
       "\n",
       "            this.model.set('value', this.lm_list);\n",
       "            this.touch();\n",
       "        },\n",
       "\n",
       "        handle_lm_change: function(evt) {\n",
       "            // value added from UI\n",
       "            // console.log(\"LM CHANGE\", evt.target.value);\n",
       "            if (this.lm_list.indexOf(evt.target.value) === -1) {\n",
       "                this.add_list_element(evt.target.value);\n",
       "                this.update_lm_list();\n",
       "            }\n",
       "        },\n",
       "    });\n",
       "\n",
       "    // Register the ListManagerView with the widget manager.\n",
       "    return {\n",
       "        ListManagerView: ListManagerView\n",
       "    };\n",
       "});\n"
      ],
      "text/plain": [
       "<IPython.core.display.Javascript object>"
      ]
     },
     "metadata": {},
     "output_type": "display_data"
    },
    {
     "data": {
      "text/html": [
       "\n",
       "<style type=\"text/css\">\n",
       "\n",
       ".lmheader {\n",
       "    border: solid;\n",
       "    display: table;\n",
       "    width: 60%;\n",
       "}\n",
       "\n",
       ".lmheader:after {\n",
       "    content: \"\";\n",
       "    display: table;\n",
       "    clear: both;\n",
       "}\n",
       "\n",
       ".lmaddBtn {\n",
       "    padding: 10px;\n",
       "    background: #d9d9d9;\n",
       "    color: #555;\n",
       "    float: right;\n",
       "    text-align: center;\n",
       "    cursor: pointer;\n",
       "    transition: 0.3s;\n",
       "}\n",
       "\n",
       ".lmaddIcon {\n",
       "    padding: 10px;\n",
       "    background: #d9d9d9;\n",
       "    color: #555;\n",
       "    float: right;\n",
       "    text-align: center;\n",
       "    cursor: pointer;\n",
       "    transition: 0.3s;\n",
       "}\n",
       "\n",
       ".lmaddBtn:hover {\n",
       "    background-color: #bbb;\n",
       "}\n",
       ".lmaddIcon:hover {\n",
       "    background-color: #bbb;\n",
       "}\n",
       "\n",
       "/* Remove margins and padding from the list */\n",
       ".lmUL {\n",
       "    margin: 0;\n",
       "    padding: 0;\n",
       "}\n",
       "\n",
       "/* Style the list items */\n",
       ".lmUL li {\n",
       "    cursor: pointer;\n",
       "    position: relative;\n",
       "    padding: 12px 8px 12px 40px;\n",
       "    background: #eee;\n",
       "    transition: 0.2s;\n",
       "    width: 60%;\n",
       "\n",
       "    /* make the list items unselectable */\n",
       "    -webkit-user-select: none;\n",
       "    -moz-user-select: none;\n",
       "    -ms-user-select: none;\n",
       "    user-select: none;\n",
       "}\n",
       "\n",
       "/* Set all odd list items to a different color (zebra-stripes) */\n",
       ".lmUL li:nth-child(odd) {\n",
       "    background: #f9f9f9;\n",
       "}\n",
       "\n",
       "/* Darker background-color on hover */\n",
       ".lmUL li:hover {\n",
       "    background: #ddd;\n",
       "}\n",
       "\n",
       "</style>\n",
       "\n"
      ],
      "text/plain": [
       "<IPython.core.display.HTML object>"
      ]
     },
     "metadata": {},
     "output_type": "display_data"
    },
    {
     "data": {
      "application/vnd.jupyter.widget-view+json": {
       "model_id": "7ed03a2d6ef24d40915545444627faa9",
       "version_major": 2,
       "version_minor": 0
      },
      "text/plain": [
       "A Jupyter Widget"
      ]
     },
     "metadata": {},
     "output_type": "display_data"
    },
    {
     "name": "stdout",
     "output_type": "stream",
     "text": [
      "You are not in the Jupyter group.  Join at https://nanohub.org/groups/jupyter\n"
     ]
    }
   ],
   "source": [
    "def update_my_inbox(name, val):\n",
    "    lval = len(val)\n",
    "    lin = len(inboxes)\n",
    "    if lval > lin:\n",
    "        add_my_inbox(val)\n",
    "    elif lval < lin:\n",
    "        del_my_inbox(val)\n",
    "\n",
    "if use_inboxes:\n",
    "    if os.path.isdir(indir):\n",
    "        my_inbox_lm = ui.ListManager(list_text=\"Inbox...\", value=inboxes, cb=update_my_inbox, width='60%')\n",
    "        display(my_inbox_lm)\n",
    "    else:\n",
    "        print(\"Not yet enabled. Submit a ticket if needed.\")\n",
    "    if not in_jupyter():\n",
    "        my_inbox_lm.visible=False\n",
    "        print(\"You are not in the Jupyter group.  Join at https://nanohub.org/groups/jupyter\")"
   ]
  },
  {
   "cell_type": "code",
   "execution_count": 14,
   "metadata": {
    "collapsed": true,
    "extensions": {
     "jupyter_dashboards": {
      "version": 1,
      "views": {
       "grid_default": {},
       "report_default": {
        "hidden": true
       }
      }
     }
    }
   },
   "outputs": [],
   "source": [
    "def add_inbox(name, val):\n",
    "    global send_list, inbox_lm\n",
    "    send_list = []\n",
    "    for v in val:\n",
    "        if v.find('/') < 1:\n",
    "            display(ui.Modal(body='Inbox should be in form of [username]/[folder]',\n",
    "                  title='ERROR',\n",
    "                  buttons=['OK']))\n",
    "            continue\n",
    "        d = os.path.join(inboxes_dir, v)\n",
    "        if os.path.isdir(d):\n",
    "            send_list.append(v)\n",
    "        else:\n",
    "            display(ui.Modal(body='Inbox \"%s\" not found!' % v,\n",
    "                  title='ERROR',\n",
    "                  buttons=['OK']))\n",
    "    send_list = sorted(send_list)\n",
    "    cm.update('notebook', {\"Inbox\": {'sendlist': send_list}})\n",
    "    inbox_lm.value = send_list"
   ]
  },
  {
   "cell_type": "markdown",
   "metadata": {
    "extensions": {
     "jupyter_dashboards": {
      "version": 1,
      "views": {
       "grid_default": {},
       "report_default": {
        "hidden": false
       }
      }
     }
    }
   },
   "source": [
    "### Destination Mailboxes\n",
    "\n",
    "Once a user creates a mailbox, they should tell you the name so you can enter it here.\n",
    "These will be added as destination mailboxes under the \"File/Send To\" menu."
   ]
  },
  {
   "cell_type": "code",
   "execution_count": 15,
   "metadata": {
    "extensions": {
     "jupyter_dashboards": {
      "version": 1,
      "views": {
       "grid_default": {},
       "report_default": {
        "hidden": false
       }
      }
     }
    }
   },
   "outputs": [
    {
     "data": {
      "application/javascript": [
       "\n",
       "requirejs.undef('listmanager');\n",
       "\n",
       "define('listmanager', [\"jupyter-js-widgets\"], function(widgets) {\n",
       "\n",
       "    var ListManagerView = widgets.DOMWidgetView.extend({\n",
       "        render: function(){\n",
       "            this.div = document.createElement('div');\n",
       "            this.div.setAttribute('class', 'lmheader');\n",
       "            this.input = document.createElement('input')\n",
       "            this.input.setAttribute('type', 'text');\n",
       "            this.input.setAttribute('placeholder', this.model.get('list_text'));\n",
       "            this.input.setAttribute('style', 'border: none; float: left; width: 90%; padding: 10px');\n",
       "            this.span = document.createElement('span')\n",
       "\n",
       "            if (this.model.get('button_text') === ''){\n",
       "                this.span.setAttribute('class', 'lmaddIcon fa fa-plus fa-1g');\n",
       "            } else {\n",
       "                this.span.innerHTML = this.model.get('button_text');\n",
       "                this.span.setAttribute('class', 'lmaddBtn');\n",
       "            }\n",
       "\n",
       "            this.div.appendChild(this.input);\n",
       "            this.div.appendChild(this.span);\n",
       "            this.el.appendChild(this.div);\n",
       "            this.ul = document.createElement('ul');\n",
       "            this.ul.setAttribute('class', 'lmUL');\n",
       "            this.el.appendChild(this.ul);\n",
       "\n",
       "            // set initial values\n",
       "            this.lm_list = [];\n",
       "            var vals =  this.model.get('value');\n",
       "            for (var i = 0; i < vals.length; i++){\n",
       "                this.add_list_element(vals[i]);\n",
       "            }\n",
       "\n",
       "            this.listenTo(this.model, 'change:value', this.value_changed, this);\n",
       "        },\n",
       "\n",
       "        update: function() {\n",
       "            return ListManagerView.__super__.update.apply(this);\n",
       "        },\n",
       "\n",
       "        events: {\n",
       "            // List of events and their handlers.\n",
       "            'change': 'handle_lm_change',\n",
       "        },\n",
       "\n",
       "        value_changed: function() {\n",
       "\n",
       "            // remove the old list\n",
       "            this.ul.innerHTML = '';\n",
       "\n",
       "            var vals =  this.model.get('value');\n",
       "            //console.log('value_changed: ' + vals);\n",
       "            for (var i = 0; i < vals.length; i++){\n",
       "                this.add_list_element(vals[i]);\n",
       "            }\n",
       "        },\n",
       "\n",
       "        add_list_element: function(val) {\n",
       "            if (val === '') {\n",
       "                return\n",
       "            }\n",
       "            var li = document.createElement(\"li\");\n",
       "            var t = document.createTextNode(val);\n",
       "            li.setAttribute('class', 'lmValue');\n",
       "            li.appendChild(t);\n",
       "\n",
       "            // clear name from input box\n",
       "            this.input.value = \"\";\n",
       "\n",
       "            var span = document.createElement(\"SPAN\");\n",
       "            var txt = document.createTextNode(\"×\");\n",
       "            span.className = \"close\";\n",
       "            span.appendChild(txt);\n",
       "            li.appendChild(span);\n",
       "            this.ul.appendChild(li);\n",
       "\n",
       "            var that = this;\n",
       "            span.onclick = function() {\n",
       "                var div = this.parentElement;\n",
       "                div.style.display = \"none\";\n",
       "                that.update_lm_list();\n",
       "            }\n",
       "\n",
       "        },\n",
       "        update_lm_list: function() {\n",
       "            this.lm_list = [];\n",
       "            var children = this.ul.childNodes;\n",
       "            for (var i = 0; i < children.length; i++) {\n",
       "                var item = children[i];\n",
       "                if (item.style.display != \"none\") {\n",
       "                    this.lm_list.push(item.textContent.slice(0,-1));\n",
       "                }\n",
       "            }\n",
       "\n",
       "            this.model.set('value', this.lm_list);\n",
       "            this.touch();\n",
       "        },\n",
       "\n",
       "        handle_lm_change: function(evt) {\n",
       "            // value added from UI\n",
       "            // console.log(\"LM CHANGE\", evt.target.value);\n",
       "            if (this.lm_list.indexOf(evt.target.value) === -1) {\n",
       "                this.add_list_element(evt.target.value);\n",
       "                this.update_lm_list();\n",
       "            }\n",
       "        },\n",
       "    });\n",
       "\n",
       "    // Register the ListManagerView with the widget manager.\n",
       "    return {\n",
       "        ListManagerView: ListManagerView\n",
       "    };\n",
       "});\n"
      ],
      "text/plain": [
       "<IPython.core.display.Javascript object>"
      ]
     },
     "metadata": {},
     "output_type": "display_data"
    },
    {
     "data": {
      "text/html": [
       "\n",
       "<style type=\"text/css\">\n",
       "\n",
       ".lmheader {\n",
       "    border: solid;\n",
       "    display: table;\n",
       "    width: 60%;\n",
       "}\n",
       "\n",
       ".lmheader:after {\n",
       "    content: \"\";\n",
       "    display: table;\n",
       "    clear: both;\n",
       "}\n",
       "\n",
       ".lmaddBtn {\n",
       "    padding: 10px;\n",
       "    background: #d9d9d9;\n",
       "    color: #555;\n",
       "    float: right;\n",
       "    text-align: center;\n",
       "    cursor: pointer;\n",
       "    transition: 0.3s;\n",
       "}\n",
       "\n",
       ".lmaddIcon {\n",
       "    padding: 10px;\n",
       "    background: #d9d9d9;\n",
       "    color: #555;\n",
       "    float: right;\n",
       "    text-align: center;\n",
       "    cursor: pointer;\n",
       "    transition: 0.3s;\n",
       "}\n",
       "\n",
       ".lmaddBtn:hover {\n",
       "    background-color: #bbb;\n",
       "}\n",
       ".lmaddIcon:hover {\n",
       "    background-color: #bbb;\n",
       "}\n",
       "\n",
       "/* Remove margins and padding from the list */\n",
       ".lmUL {\n",
       "    margin: 0;\n",
       "    padding: 0;\n",
       "}\n",
       "\n",
       "/* Style the list items */\n",
       ".lmUL li {\n",
       "    cursor: pointer;\n",
       "    position: relative;\n",
       "    padding: 12px 8px 12px 40px;\n",
       "    background: #eee;\n",
       "    transition: 0.2s;\n",
       "    width: 60%;\n",
       "\n",
       "    /* make the list items unselectable */\n",
       "    -webkit-user-select: none;\n",
       "    -moz-user-select: none;\n",
       "    -ms-user-select: none;\n",
       "    user-select: none;\n",
       "}\n",
       "\n",
       "/* Set all odd list items to a different color (zebra-stripes) */\n",
       ".lmUL li:nth-child(odd) {\n",
       "    background: #f9f9f9;\n",
       "}\n",
       "\n",
       "/* Darker background-color on hover */\n",
       ".lmUL li:hover {\n",
       "    background: #ddd;\n",
       "}\n",
       "\n",
       "</style>\n",
       "\n"
      ],
      "text/plain": [
       "<IPython.core.display.HTML object>"
      ]
     },
     "metadata": {},
     "output_type": "display_data"
    },
    {
     "data": {
      "application/vnd.jupyter.widget-view+json": {
       "model_id": "167ee907d93f43228dfaafa878e21287",
       "version_major": 2,
       "version_minor": 0
      },
      "text/plain": [
       "A Jupyter Widget"
      ]
     },
     "metadata": {},
     "output_type": "display_data"
    }
   ],
   "source": [
    "if use_inboxes:\n",
    "    if in_jupyter:\n",
    "        inbox_lm = ui.ListManager(list_text=\"Mailbox...\", value=send_list, cb=add_inbox, width='60%')\n",
    "        display(inbox_lm)\n",
    "    else:\n",
    "        print(\"You cannot use mailboxes until you join the Jupyter group.\")\n",
    "        print(\"(If you joined in the last 15 minutes, please wait a bit then retry.)\")\n",
    "        print(\"https://nanohub.org/groups/jupyter\")"
   ]
  },
  {
   "cell_type": "markdown",
   "metadata": {
    "extensions": {
     "jupyter_dashboards": {
      "version": 1,
      "views": {
       "grid_default": {},
       "report_default": {
        "hidden": false
       }
      }
     }
    }
   },
   "source": [
    "## Document Tools"
   ]
  },
  {
   "cell_type": "markdown",
   "metadata": {
    "extensions": {
     "jupyter_dashboards": {
      "version": 1,
      "views": {
       "grid_default": {},
       "report_default": {
        "hidden": false
       }
      }
     }
    }
   },
   "source": [
    "<img  src=\"document_tools2.png\" style=\"margin: 0\"/>\n",
    "If you want your notebook sections numbered and indexed, with references at the end, you should try this.  \n",
    "\n",
    "Adds buttons to your menubar to move sections up and down, automatically number sections, generate a table of contents and generate references."
   ]
  },
  {
   "cell_type": "code",
   "execution_count": 16,
   "metadata": {
    "extensions": {
     "jupyter_dashboards": {
      "version": 1,
      "views": {
       "grid_default": {},
       "report_default": {
        "hidden": false
       }
      }
     }
    }
   },
   "outputs": [
    {
     "data": {
      "application/vnd.jupyter.widget-view+json": {
       "model_id": "18e4ae44ab554877bc6a322b10de8860",
       "version_major": 2,
       "version_minor": 0
      },
      "text/plain": [
       "A Jupyter Widget"
      ]
     },
     "metadata": {},
     "output_type": "display_data"
    }
   ],
   "source": [
    "ui.Checkbox('Document Tools', \n",
    "    'Add the Document Tool Icons to the Toolbar', \n",
    "    value=current_doc, \n",
    "    cb=set_doc_tools,\n",
    "    width='60%'\n",
    ")"
   ]
  },
  {
   "cell_type": "markdown",
   "metadata": {
    "extensions": {
     "jupyter_dashboards": {
      "version": 1,
      "views": {
       "grid_default": {},
       "report_default": {
        "hidden": false
       }
      }
     }
    }
   },
   "source": [
    "## Equation Numbering\n",
    "\n",
    "This will add an icon <img  src=\"renumber.png\" style=\"margin: 0\"/>\n",
    "to the menubar which will renumber equations and generate references when clicked.\n",
    "See [Equation Numbering](../manual/markdown.ipynb#Equation-Numbering-and-References) in the manual for more information."
   ]
  },
  {
   "cell_type": "code",
   "execution_count": 17,
   "metadata": {
    "extensions": {
     "jupyter_dashboards": {
      "version": 1,
      "views": {
       "grid_default": {},
       "report_default": {
        "hidden": false
       }
      }
     }
    }
   },
   "outputs": [
    {
     "data": {
      "application/vnd.jupyter.widget-view+json": {
       "model_id": "43e8c7ca98f042d38cdd31f2be8db49d",
       "version_major": 2,
       "version_minor": 0
      },
      "text/plain": [
       "A Jupyter Widget"
      ]
     },
     "metadata": {},
     "output_type": "display_data"
    }
   ],
   "source": [
    "ui.Checkbox('Equation Numbering', \n",
    "    'Number Latex Equations', \n",
    "    value=current_eqn, \n",
    "    cb=set_eqn,\n",
    "    width='60%'\n",
    ")"
   ]
  },
  {
   "cell_type": "code",
   "execution_count": 18,
   "metadata": {
    "extensions": {
     "jupyter_dashboards": {
      "version": 1,
      "views": {
       "grid_default": {},
       "report_default": {
        "hidden": false
       }
      }
     }
    }
   },
   "outputs": [
    {
     "data": {
      "text/html": [
       "\n",
       "<p>Clicking 'DONE' will exit this tool.  You should confirm if prompted by your browser.</p>\n",
       "<hr>\n",
       "<center><button id=\"stop_button\" style=\"font-size: 24px;\">DONE</button></center>\n",
       "\n",
       "<script type=\"text/Javascript\">\n",
       "$(document).ready(\n",
       "function() {\n",
       "    $(\"#stop_button\").click(function() {\n",
       "        var close_window = function () {\n",
       "            /**\n",
       "             * allow closing of new tabs in Chromium, impossible in FF\n",
       "            */\n",
       "            window.open('', '_self', '');\n",
       "            window.close();\n",
       "        };\n",
       "        IPython.notebook.session.delete(close_window, close_window);\n",
       "        });\n",
       "    });\n",
       "</script>\n"
      ],
      "text/plain": [
       "<IPython.core.display.HTML object>"
      ]
     },
     "metadata": {},
     "output_type": "display_data"
    }
   ],
   "source": [
    "input_form = \"\"\"\n",
    "<p>Clicking 'DONE' will exit this tool.  You should confirm if prompted by your browser.</p>\n",
    "<hr>\n",
    "<center><button id=\"stop_button\" style=\"font-size: 24px;\">DONE</button></center>\n",
    "\"\"\"\n",
    "\n",
    "js = \"\"\"\n",
    "<script type=\"text/Javascript\">\n",
    "$(document).ready(\n",
    "function() {\n",
    "    $(\"#stop_button\").click(function() {\n",
    "        var close_window = function () {\n",
    "            /**\n",
    "             * allow closing of new tabs in Chromium, impossible in FF\n",
    "            */\n",
    "            window.open('', '_self', '');\n",
    "            window.close();\n",
    "        };\n",
    "        IPython.notebook.session.delete(close_window, close_window);\n",
    "        });\n",
    "    });\n",
    "</script>\n",
    "\"\"\"\n",
    "display(HTML(input_form + js))"
   ]
  }
 ],
 "metadata": {
  "css": [
   ""
  ],
  "extensions": {
   "jupyter_dashboards": {
    "activeView": "report_default",
    "version": 1,
    "views": {
     "grid_default": {
      "name": "grid",
      "type": "grid"
     },
     "report_default": {
      "name": "report",
      "type": "report"
     }
    }
   }
  },
  "kernelspec": {
   "display_name": "Python3",
   "language": "python",
   "name": "python3"
  },
  "language_info": {
   "codemirror_mode": {
    "name": "ipython",
    "version": 3
   },
   "file_extension": ".py",
   "mimetype": "text/x-python",
   "name": "python",
   "nbconvert_exporter": "python",
   "pygments_lexer": "ipython3",
   "version": "3.6.2"
  },
  "tool": true,
  "widgets": {
   "state": {
    "0138b320d2df44c283412a348d90478b": {
     "views": [
      {
       "cell_index": 7
      }
     ]
    },
    "0a1f4f1b83d741039c136f2c75eabfae": {
     "views": [
      {
       "cell_index": 12
      }
     ]
    },
    "427d275e070345e492afc6cc55ce3d7d": {
     "views": [
      {
       "cell_index": 9
      }
     ]
    },
    "5f48661d33be432290c78329339ada88": {
     "views": [
      {
       "cell_index": 15
      }
     ]
    },
    "c2c572664fc44bf988ce7dd1fb2a81da": {
     "views": [
      {
       "cell_index": 17
      }
     ]
    }
   },
   "version": "1.2.0"
  }
 },
 "nbformat": 4,
 "nbformat_minor": 1
}
