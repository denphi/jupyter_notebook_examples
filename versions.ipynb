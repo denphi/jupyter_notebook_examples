{
 "cells": [
  {
   "cell_type": "markdown",
   "metadata": {},
   "source": [
    "# Jupyter Versions"
   ]
  },
  {
   "cell_type": "markdown",
   "metadata": {},
   "source": [
    "Jupyter releases are built in an Anaconda environment, with additional scientific packages and extensions.  Periocally we will add new releases.  Old releases will be preserved. "
   ]
  },
  {
   "cell_type": "markdown",
   "metadata": {},
   "source": [
    "Published tools will continue to run with the anaconda version named in their invoke script.\n",
    "\n",
    "To run unpublished notebooks, you can choose to run the current release or an older release."
   ]
  },
  {
   "cell_type": "markdown",
   "metadata": {},
   "source": [
    "## Updating Environments\n",
    "\n",
    "In general, packages can be added to the current environment if requested, and if adding the package will not cause changes to previously installed packages.  Otherwise, the environment will be frozen."
   ]
  },
  {
   "cell_type": "markdown",
   "metadata": {},
   "source": [
    "## Current Jupyter Versions\n",
    "\n",
    "https://nanohub.org/tools/jupyter will always launch the current default environment.\n",
    "\n",
    "https://nanohub.org/tools/jupyter41 uses anaconda4.1 / Jupyter Notebook (201707)\n",
    "\n",
    "https://nanohub.org/tools/jupyter44 uses anaconda4.4 / Jupyter Notebook (201708)\n",
    "\n",
    "https://nanohub.org/tools/jupyter51 uses anaconda5.1 / Jupyter Notebook (201803)\n",
    "\n",
    "https://nanohub.org/tools/jupyter60 uses anaconda6 /Jupyter Notebook (201904)\n",
    "\n",
    "https://nanohub.org/tools/jupyter70 uses anaconda7 / Jupyter Notebook (202105)\n",
    "\n"
   ]
  },
  {
   "cell_type": "code",
   "execution_count": null,
   "metadata": {},
   "outputs": [],
   "source": []
  }
 ],
 "metadata": {
  "kernelspec": {
   "display_name": "Python 3 (ipykernel)",
   "language": "python",
   "name": "python3"
  },
  "language_info": {
   "codemirror_mode": {
    "name": "ipython",
    "version": 3
   },
   "file_extension": ".py",
   "mimetype": "text/x-python",
   "name": "python",
   "nbconvert_exporter": "python",
   "pygments_lexer": "ipython3",
   "version": "3.8.10"
  },
  "toc": {
   "base_numbering": 1,
   "nav_menu": {},
   "number_sections": true,
   "sideBar": true,
   "skip_h1_title": false,
   "title_cell": "Table of Contents",
   "title_sidebar": "Contents",
   "toc_cell": false,
   "toc_position": {},
   "toc_section_display": true,
   "toc_window_display": false
  },
  "varInspector": {
   "cols": {
    "lenName": 16,
    "lenType": 16,
    "lenVar": 40
   },
   "kernels_config": {
    "python": {
     "delete_cmd_postfix": "",
     "delete_cmd_prefix": "del ",
     "library": "var_list.py",
     "varRefreshCmd": "print(var_dic_list())"
    },
    "r": {
     "delete_cmd_postfix": ") ",
     "delete_cmd_prefix": "rm(",
     "library": "var_list.r",
     "varRefreshCmd": "cat(var_dic_list()) "
    }
   },
   "types_to_exclude": [
    "module",
    "function",
    "builtin_function_or_method",
    "instance",
    "_Feature"
   ],
   "window_display": false
  }
 },
 "nbformat": 4,
 "nbformat_minor": 2
}
