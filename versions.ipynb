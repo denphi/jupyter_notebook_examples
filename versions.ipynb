{
 "cells": [
  {
   "cell_type": "markdown",
   "metadata": {},
   "source": [
    "# Jupyter Versions"
   ]
  },
  {
   "cell_type": "markdown",
   "metadata": {},
   "source": [
    "Jupyter releases are built in an Anaconda environment, with additional scientific packages and extensions.  Periocally we will add new releases.  Old releases will be preserved. "
   ]
  },
  {
   "cell_type": "markdown",
   "metadata": {},
   "source": [
    "Published tools will continue to run with the anaconda version named in their invoke script.\n",
    "\n",
    "To run unpublished notebooks, you can choose to run the current release or an older release."
   ]
  },
  {
   "cell_type": "markdown",
   "metadata": {},
   "source": [
    "## Current Jupyter Versions\n",
    "\n",
    "https://nanohub.org/tools/jupyter will always launch the current default environment.\n",
    "\n",
    "https://nanohub.org/tools/jupyter41 uses anaconda4.1\n",
    "\n",
    "https://nanohub.org/tools/jupyter44 uses anaconda4.4 "
   ]
  },
  {
   "cell_type": "markdown",
   "metadata": {},
   "source": [
    "# ChangeLog\n",
    "\n",
    "See [4.4 Changes](changes_44.ipynb)"
   ]
  }
 ],
 "metadata": {
  "kernelspec": {
   "display_name": "Python2",
   "language": "python",
   "name": "python2"
  },
  "language_info": {
   "codemirror_mode": {
    "name": "ipython",
    "version": 2
   },
   "file_extension": ".py",
   "mimetype": "text/x-python",
   "name": "python",
   "nbconvert_exporter": "python",
   "pygments_lexer": "ipython2",
   "version": "2.7.13"
  }
 },
 "nbformat": 4,
 "nbformat_minor": 2
}
