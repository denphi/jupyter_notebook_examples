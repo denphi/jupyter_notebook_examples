{
 "cells": [
  {
   "cell_type": "markdown",
   "metadata": {},
   "source": [
    "<img src=\"images/publishing_notebooks-02.png\" />\n",
    "<img src=\"images/publishing_notebooks-03.png\" />\n",
    "<img src=\"images/publishing_notebooks-04.png\" />\n",
    "<img src=\"images/publishing_notebooks-05.png\" />\n",
    "<img src=\"images/publishing_notebooks-06.png\" />\n",
    "<img src=\"images/publishing_notebooks-07.png\" />\n",
    "<img src=\"images/publishing_notebooks-08.png\" />\n",
    "<img src=\"images/publishing_notebooks-09.png\" />\n",
    "<img src=\"images/publishing_notebooks-10.png\" />\n",
    "<img src=\"images/publishing_notebooks-11.png\" />\n",
    "<img src=\"images/publishing_notebooks-12.png\" />\n",
    "<img src=\"images/publishing_notebooks-13.png\" />\n",
    "<img src=\"images/publishing_notebooks-14.png\" />\n",
    "<img src=\"images/publishing_notebooks-15.png\" />\n",
    "<img src=\"images/publishing_notebooks-16.png\" />\n",
    "<img src=\"images/publishing_notebooks-17.png\" />"
   ]
  }
 ],
 "metadata": {
  "kernelspec": {
   "display_name": "Python 3 (ipykernel)",
   "language": "python",
   "name": "python3"
  },
  "language_info": {
   "codemirror_mode": {
    "name": "ipython",
    "version": 3
   },
   "file_extension": ".py",
   "mimetype": "text/x-python",
   "name": "python",
   "nbconvert_exporter": "python",
   "pygments_lexer": "ipython3",
   "version": "3.8.10"
  },
  "toc": {
   "base_numbering": 1,
   "nav_menu": {},
   "number_sections": true,
   "sideBar": true,
   "skip_h1_title": false,
   "title_cell": "Table of Contents",
   "title_sidebar": "Contents",
   "toc_cell": false,
   "toc_position": {},
   "toc_section_display": true,
   "toc_window_display": false
  },
  "varInspector": {
   "cols": {
    "lenName": 16,
    "lenType": 16,
    "lenVar": 40
   },
   "kernels_config": {
    "python": {
     "delete_cmd_postfix": "",
     "delete_cmd_prefix": "del ",
     "library": "var_list.py",
     "varRefreshCmd": "print(var_dic_list())"
    },
    "r": {
     "delete_cmd_postfix": ") ",
     "delete_cmd_prefix": "rm(",
     "library": "var_list.r",
     "varRefreshCmd": "cat(var_dic_list()) "
    }
   },
   "types_to_exclude": [
    "module",
    "function",
    "builtin_function_or_method",
    "instance",
    "_Feature"
   ],
   "window_display": false
  }
 },
 "nbformat": 4,
 "nbformat_minor": 2
}
