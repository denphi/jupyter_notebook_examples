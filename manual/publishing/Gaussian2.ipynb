{
 "cells": [
  {
   "cell_type": "code",
   "execution_count": 1,
   "metadata": {
    "ExecuteTime": {
     "end_time": "2023-01-27T16:15:51.440510Z",
     "start_time": "2023-01-27T16:15:47.460521Z"
    },
    "extensions": {
     "jupyter_dashboards": {
      "version": 1,
      "views": {
       "grid_default": {
        "col": 0,
        "height": 4,
        "hidden": true,
        "row": 0,
        "width": 4
       },
       "report_default": {
        "hidden": true
       }
      }
     }
    },
    "slideshow": {
     "slide_type": "skip"
    }
   },
   "outputs": [
    {
     "data": {
      "application/javascript": [
       "\n",
       "requirejs.undef('filepicker');\n",
       "\n",
       "define('filepicker', [\"@jupyter-widgets/base\"], function(widgets) {\n",
       "\n",
       "    var FilePickerView = widgets.DOMWidgetView.extend({\n",
       "        render: function(){\n",
       "            this.file = document.createElement('input');\n",
       "            this.file.setAttribute('class', 'fileinput');\n",
       "            this.file.setAttribute('id', this.cid);\n",
       "            this.file.multiple = this.model.get('multiple');\n",
       "            this.file.required = true;\n",
       "            this.file.setAttribute('type', 'file');\n",
       "            this.file.setAttribute('style', 'display:none');\n",
       "\n",
       "            this.label = document.createElement('label');\n",
       "            this.label.setAttribute('for', this.cid);\n",
       "            this.label.setAttribute('style', 'border: 1px solid; border-radius: 5px; display: inline-block; padding: 6px 12px');\n",
       "\n",
       "            this.icon = document.createElement('i');\n",
       "            this.icon.setAttribute(\"class\", \"fa fa-upload\");\n",
       "\n",
       "            if (this.file.multiple) {\n",
       "                this.labelstr = \"  Upload Files\";\n",
       "            } else {\n",
       "                this.labelstr = \"  Upload File\";\n",
       "            }\n",
       "            this.label.innerHTML = this.labelstr;\n",
       "            this.label.prepend(this.icon);\n",
       "            this.el.appendChild(this.label);\n",
       "            this.el.appendChild(this.file);\n",
       "            this.listenTo(this.model, 'change:send', this._send_changed, this);\n",
       "            this.listenTo(this.model, 'change:reset', this._reset, this);\n",
       "            this.update();\n",
       "        },\n",
       "\n",
       "        events: {\n",
       "            // List of events and their handlers.\n",
       "            'change': 'handle_file_change'\n",
       "        },\n",
       "\n",
       "        _reset: function() {\n",
       "            this.label.innerHTML = this.labelstr;\n",
       "            this.label.prepend(this.icon);\n",
       "            this.file.removeAttribute(\"disabled\");\n",
       "        },\n",
       "\n",
       "        _send_changed: function() {\n",
       "            var that = this;\n",
       "            var send = this.model.get('send');\n",
       "            var fnum = send[0];\n",
       "            var offset = send[1];\n",
       "            var chunk_size=64*1024;\n",
       "            var reader;\n",
       "\n",
       "            if (fnum == -1) {\n",
       "                // ignore\n",
       "                return\n",
       "            }\n",
       "\n",
       "            if (offset == 0) {\n",
       "                this.model.set('sent', -1);\n",
       "                this.touch();\n",
       "            }\n",
       "\n",
       "            // console.log('send: ' + fnum + ' ' + offset);\n",
       "            function tob64( buffer ) {\n",
       "                var binary = '';\n",
       "                var bytes = new Uint8Array( buffer );\n",
       "                var len = bytes.byteLength;\n",
       "                for (var i = 0; i < len; i++) {\n",
       "                    binary += String.fromCharCode( bytes[ i ] );\n",
       "                }\n",
       "                return window.btoa( binary );\n",
       "            }\n",
       "\n",
       "            var reader_done = function (event) {\n",
       "                // chunk is finished.  Send to python\n",
       "                if (event.target.error == null) {\n",
       "                    var b64 = tob64(event.target.result);\n",
       "                    that.model.set('data', b64);\n",
       "                    that.model.set('sent', offset);\n",
       "                    that.touch();\n",
       "                } else {\n",
       "                    console.log(\"Read error: \" + event.target.error);\n",
       "                    that.model.set('data', '');\n",
       "                    that.model.set('sent', -2);\n",
       "                    that.touch();\n",
       "                }\n",
       "                that.touch();\n",
       "            }\n",
       "        \n",
       "            var chunk_reader = function (_offset, _f) {\n",
       "                // console.log('CR' + ' ' + _f + ' ' + _offset);\n",
       "                reader = new FileReader();\n",
       "                var chunk = _f.slice(_offset, chunk_size + _offset);            \n",
       "                reader.readAsArrayBuffer(chunk);\n",
       "                reader.onload = reader_done;\n",
       "            }\n",
       "    \n",
       "            // OK. request next chunk\n",
       "            chunk_reader(offset, this.files[fnum]);\n",
       "        },\n",
       "        \n",
       "        \n",
       "        handle_file_change: function(evt) {\n",
       "\n",
       "            var _files = evt.target.files;\n",
       "            var filenames = [];\n",
       "            var file_readers = [];\n",
       "            this.files = [];\n",
       "\n",
       "            for (var i = 0; i < _files.length; i++) {\n",
       "                var file = _files[i];\n",
       "                console.log(\"Filename: \" + file.name);\n",
       "                console.log(\"Type: \" + file.type);\n",
       "                console.log(\"Size: \" + file.size + \" bytes\");\n",
       "                this.files.push(file);\n",
       "                filenames.push([file.name, file.size]);\n",
       "            };\n",
       "            \n",
       "            // Set the filenames of the files.\n",
       "            this.model.set('filenames', filenames);\n",
       "            this.touch();\n",
       "\n",
       "            // update the label\n",
       "            if (filenames.length == 0) {\n",
       "                this.label.innerHTML = this.labelstr;\n",
       "                this.file.removeAttribute(\"disabled\");\n",
       "            } else if (filenames.length == 1) {\n",
       "                this.label.innerHTML = \"  \" + filenames[0][0];\n",
       "                this.file.setAttribute('disabled', 'true');\n",
       "            } else {\n",
       "                this.label.innerHTML = \"  \" + filenames.length + \" files selected\";\n",
       "                this.file.setAttribute('disabled', 'true');           \n",
       "            };\n",
       "            this.label.prepend(this.icon);\n",
       "        },\n",
       "    });\n",
       "\n",
       "    // Register the FilePickerView with the widget manager.\n",
       "    return {\n",
       "        FilePickerView: FilePickerView\n",
       "    };\n",
       "});\n"
      ],
      "text/plain": [
       "<IPython.core.display.Javascript object>"
      ]
     },
     "metadata": {},
     "output_type": "display_data"
    }
   ],
   "source": [
    "%matplotlib notebook\n",
    "import pandas as pd\n",
    "from gpr import GPR\n",
    "from ipywidgets import interact, interactive, Button, Output, FloatSlider\n",
    "import hublib.ui as ui\n",
    "from IPython.display import display\n",
    "from IPython.display import clear_output\n",
    "import matplotlib.pyplot as plt"
   ]
  },
  {
   "cell_type": "markdown",
   "metadata": {
    "extensions": {
     "jupyter_dashboards": {
      "version": 1,
      "views": {
       "grid_default": {
        "col": 0,
        "height": 9,
        "hidden": false,
        "row": 0,
        "width": 5
       },
       "report_default": {
        "hidden": false
       }
      }
     }
    },
    "slideshow": {
     "slide_type": "slide"
    }
   },
   "source": [
    "## 1D Gaussian Process Regression Notebook Demo\n",
    "\n",
    "Notebook version by Martin Hunt (mmh@purdue.edu), modified by Daniel Mejia (denphi@denphi.com)\n",
    "\n",
    "Original Author\n",
    "\n",
    "    Jan Hendrik Metzen <jhm@informatik.uni-bremen.de>\n",
    "    Guillaume Lemaitre <guillaume.lemaitre@inria.fr>\n",
    "\n",
    "Powered by [Scypy/Numpy](https://scikit-learn.org/stable/auto_examples/gaussian_process/plot_gpr_noisy.html).\n",
    "\n"
   ]
  },
  {
   "cell_type": "markdown",
   "metadata": {
    "extensions": {
     "jupyter_dashboards": {
      "version": 1,
      "views": {
       "grid_default": {
        "col": 0,
        "height": 4,
        "hidden": false,
        "row": 9,
        "width": 5
       },
       "report_default": {
        "hidden": false
       }
      }
     }
    }
   },
   "source": [
    "## Upload a two-column data file. Otherwise, test data will be displayed"
   ]
  },
  {
   "cell_type": "code",
   "execution_count": 2,
   "metadata": {
    "ExecuteTime": {
     "end_time": "2023-01-27T16:15:51.450057Z",
     "start_time": "2023-01-27T16:15:51.442940Z"
    },
    "extensions": {
     "jupyter_dashboards": {
      "version": 1,
      "views": {
       "grid_default": {
        "col": 0,
        "height": 3,
        "hidden": false,
        "row": 13,
        "width": 5
       },
       "report_default": {}
      }
     }
    }
   },
   "outputs": [],
   "source": [
    "desc = \"Data file with 2 columns of numbers.  No header. Seperator will be automatically detected.\"\n",
    "data = pd.read_csv(\"./test.dat\", sep=None, names = ['x', 'y'], engine='python')"
   ]
  },
  {
   "cell_type": "code",
   "execution_count": 3,
   "metadata": {
    "ExecuteTime": {
     "end_time": "2023-01-27T16:15:51.702021Z",
     "start_time": "2023-01-27T16:15:51.452313Z"
    },
    "extensions": {
     "jupyter_dashboards": {
      "version": 1,
      "views": {
       "grid_default": {
        "col": 5,
        "height": 27,
        "hidden": false,
        "row": 0,
        "width": 6
       },
       "report_default": {
        "hidden": false
       }
      }
     }
    }
   },
   "outputs": [
    {
     "data": {
      "application/vnd.jupyter.widget-view+json": {
       "model_id": "621ff7ccb7394ae380a47a407c7ea7df",
       "version_major": 2,
       "version_minor": 0
      },
      "text/plain": [
       "interactive(children=(FloatSlider(value=1.0, continuous_update=False, description='variance', max=10.0, min=0.…"
      ]
     },
     "metadata": {},
     "output_type": "display_data"
    },
    {
     "data": {
      "application/vnd.jupyter.widget-view+json": {
       "model_id": "cb642675e7cd44d58d9162a4e186210a",
       "version_major": 2,
       "version_minor": 0
      },
      "text/plain": [
       "Output()"
      ]
     },
     "metadata": {},
     "output_type": "display_data"
    }
   ],
   "source": [
    "g = GPR(data['x'], data['y'])\n",
    "out = Output()\n",
    "\n",
    "\n",
    "def go_gpr(variance, length_scale, noise_variance):\n",
    "    x, y, m, d, gpr, kernel = g.run(variance, length_scale, noise_variance)\n",
    "    out.clear_output()\n",
    "    with out:\n",
    "        fig = plt.figure()\n",
    "        plt.draw()\n",
    "        plt.scatter(x=x.flatten(),\n",
    "                    y=y.flatten(),\n",
    "                    color=\"black\",\n",
    "                    alpha=0.4,\n",
    "                    label=\"Observations\")\n",
    "        plt.errorbar(x.flatten(), m, d)\n",
    "        plt.legend()\n",
    "        plt.xlabel(\"X\")\n",
    "        plt.ylabel(\"y\")\n",
    "        _ = plt.title(\n",
    "            f\"Initial: {kernel}\\nOptimum: {gpr.kernel_}\\nLog-Marginal-Likelihood: \"\n",
    "            f\"{gpr.log_marginal_likelihood(gpr.kernel_.theta)}\",\n",
    "            fontsize=8,\n",
    "        )\n",
    "\n",
    "\n",
    "w = interactive(go_gpr,\n",
    "                variance=FloatSlider(min=0.001, max=10.0, step=.001, value=1.0, continuous_update=False),\n",
    "                length_scale=FloatSlider(min=0.001, max=10.0, step=.001, value=1.0, continuous_update=False),\n",
    "                noise_variance=FloatSlider(min=0.001, max=10.0, step=.001, value=1.0, continuous_update=False))\n",
    "display(w)\n",
    "display(out)\n",
    "go_gpr(1,1,1)"
   ]
  },
  {
   "cell_type": "code",
   "execution_count": null,
   "metadata": {
    "ExecuteTime": {
     "end_time": "2023-01-27T16:14:47.249728Z",
     "start_time": "2023-01-27T16:14:47.243568Z"
    }
   },
   "outputs": [],
   "source": []
  },
  {
   "cell_type": "code",
   "execution_count": null,
   "metadata": {},
   "outputs": [],
   "source": []
  }
 ],
 "metadata": {
  "description": "Notebook version of the 'gptool' tool. 1D Gaussian Process Regression. Good Example of interactivity.",
  "extensions": {
   "jupyter_dashboards": {
    "activeView": "grid_default",
    "version": 1,
    "views": {
     "grid_default": {
      "cellMargin": 10,
      "defaultCellHeight": 20,
      "maxColumns": 12,
      "name": "grid",
      "type": "grid"
     },
     "report_default": {
      "name": "report",
      "type": "report"
     }
    }
   }
  },
  "kernelspec": {
   "display_name": "Python 3 (ipykernel)",
   "language": "python",
   "name": "python3"
  },
  "language_info": {
   "codemirror_mode": {
    "name": "ipython",
    "version": 3
   },
   "file_extension": ".py",
   "mimetype": "text/x-python",
   "name": "python",
   "nbconvert_exporter": "python",
   "pygments_lexer": "ipython3",
   "version": "3.8.10"
  },
  "toc": {
   "base_numbering": 1,
   "nav_menu": {},
   "number_sections": true,
   "sideBar": true,
   "skip_h1_title": false,
   "title_cell": "Table of Contents",
   "title_sidebar": "Contents",
   "toc_cell": false,
   "toc_position": {},
   "toc_section_display": true,
   "toc_window_display": false
  },
  "tool": false,
  "varInspector": {
   "cols": {
    "lenName": 16,
    "lenType": 16,
    "lenVar": 40
   },
   "kernels_config": {
    "python": {
     "delete_cmd_postfix": "",
     "delete_cmd_prefix": "del ",
     "library": "var_list.py",
     "varRefreshCmd": "print(var_dic_list())"
    },
    "r": {
     "delete_cmd_postfix": ") ",
     "delete_cmd_prefix": "rm(",
     "library": "var_list.r",
     "varRefreshCmd": "cat(var_dic_list()) "
    }
   },
   "types_to_exclude": [
    "module",
    "function",
    "builtin_function_or_method",
    "instance",
    "_Feature"
   ],
   "window_display": false
  },
  "widgets": {
   "state": {
    "0b1cb95b42db4c62b7e32cb972a708ae": {
     "views": [
      {
       "cell_index": 3
      }
     ]
    },
    "1ca919fad80940309af37ac79af6db00": {
     "views": [
      {
       "cell_index": 4
      }
     ]
    },
    "2f94f8a0f8fe4afd8f5bed107aa10f38": {
     "views": [
      {
       "cell_index": 3
      }
     ]
    },
    "38d52f46a90b423c9013e8c1811c3ebd": {
     "views": [
      {
       "cell_index": 4
      }
     ]
    },
    "6fd2b3e583ed4162916a1f53fff3b1e4": {
     "views": [
      {
       "cell_index": 3
      }
     ]
    },
    "d2450b59585b4859abff857888f0d390": {
     "views": [
      {
       "cell_index": 4
      }
     ]
    }
   },
   "version": "1.2.0"
  }
 },
 "nbformat": 4,
 "nbformat_minor": 1
}
