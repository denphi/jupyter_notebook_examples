{
 "cells": [
  {
   "cell_type": "markdown",
   "metadata": {},
   "source": [
    "<div class=\"well well-lg\"><h1>Notebook Users Guide</h1></div>"
   ]
  },
  {
   "cell_type": "markdown",
   "metadata": {},
   "source": [
    "* [What is the Notebook?](intro.ipynb#What-is-the-Notebook?)\n",
    "  * [Components](intro.ipynb#Components)\n",
    "  * [Notebook Web Application](intro.ipynb#Notebook-Web-Application)\n",
    "  * [Kernels](intro.ipynb#Kernels)\n",
    "  * [Notebook Documents](intro.ipynb#Notebook-Documents)\n",
    "\n",
    "\n",
    "* [Notebook Basics](basics.ipynb)\n",
    "  * [The Notebook Dashboard](basics.ipynb#The-Notebook-Dashboard)\n",
    "  * [Overview of the Notebook UI](basics.ipynb#Overview-of-the-Notebook-UI)\n",
    "\n",
    "\n",
    "* [Markdown Cells](markdown.ipynb)\n",
    "    * [Images in Markdown Cells](images.ipynb)\n",
    "\n",
    "\n",
    "* [Code Cells](Running%20Code.ipynb)\n",
    "\n",
    "\n",
    "* [Plotting](../examples/plot/index.ipynb)\n",
    "    - [matplotlib inline plots](../examples/plot/matplotlib_inline.ipynb)\n",
    "    - [matplotlib notebook plots](../examples/plot/matplotlib_notebook.ipynb)\n",
    "    - [Seaborn](../examples/plot/seaborn.ipynb)\n",
    "    - [Bokeh](../examples/plot/bokeh.ipynb)\n",
    "    - [Plotly](../examples/plot/plotly.ipynb)\n",
    "\n",
    "\n",
    "* [Animation using Matplotlib](animation.ipynb)\n",
    "* [Creating and Playing Videos](video.ipynb)\n",
    "\n",
    "\n",
    "* [Installing Local Python Modules](../examples/misc/installing_python_modules.ipynb)\n",
    "* [Building GUIs in Notebooks](../examples/GUI/intro.ipynb)\n",
    "* [Creating Tools (Dashboards) from Notebooks](../examples/GUI/layout.ipynb)\n",
    "* [Publishing Notebooks](publishing.ipynb)\n",
    "* [Language Support](languages.ipynb)\n",
    "* [License](license.ipynb)"
   ]
  },
  {
   "cell_type": "code",
   "execution_count": null,
   "metadata": {},
   "outputs": [],
   "source": []
  }
 ],
 "metadata": {
  "kernelspec": {
   "display_name": "Python 3 (ipykernel)",
   "language": "python",
   "name": "python3"
  },
  "language_info": {
   "codemirror_mode": {
    "name": "ipython",
    "version": 3
   },
   "file_extension": ".py",
   "mimetype": "text/x-python",
   "name": "python",
   "nbconvert_exporter": "python",
   "pygments_lexer": "ipython3",
   "version": "3.8.10"
  },
  "toc": {
   "base_numbering": 1,
   "nav_menu": {},
   "number_sections": true,
   "sideBar": true,
   "skip_h1_title": false,
   "title_cell": "Table of Contents",
   "title_sidebar": "Contents",
   "toc_cell": false,
   "toc_position": {},
   "toc_section_display": true,
   "toc_window_display": false
  },
  "varInspector": {
   "cols": {
    "lenName": 16,
    "lenType": 16,
    "lenVar": 40
   },
   "kernels_config": {
    "python": {
     "delete_cmd_postfix": "",
     "delete_cmd_prefix": "del ",
     "library": "var_list.py",
     "varRefreshCmd": "print(var_dic_list())"
    },
    "r": {
     "delete_cmd_postfix": ") ",
     "delete_cmd_prefix": "rm(",
     "library": "var_list.r",
     "varRefreshCmd": "cat(var_dic_list()) "
    }
   },
   "types_to_exclude": [
    "module",
    "function",
    "builtin_function_or_method",
    "instance",
    "_Feature"
   ],
   "window_display": false
  }
 },
 "nbformat": 4,
 "nbformat_minor": 2
}
