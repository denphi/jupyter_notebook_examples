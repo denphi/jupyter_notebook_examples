{
 "cells": [
  {
   "cell_type": "markdown",
   "metadata": {},
   "source": [
    "<div class=\"well well-lg\"><h1>Notebook Users Guide</h1></div>"
   ]
  },
  {
   "cell_type": "markdown",
   "metadata": {},
   "source": [
    "* [What is the Notebook?](intro.ipynb#What-is-the-Notebook?)\n",
    "  * [Components](intro.ipynb#Components)\n",
    "  * [Notebook Web Application](intro.ipynb#Notebook-Web-Application)\n",
    "  * [Kernels](intro.ipynb#Kernels)\n",
    "  * [Notebook Documents](intro.ipynb#Notebook-Documents)\n",
    "* [Notebook Basics](basics.ipynb)\n",
    "  * [The Notebook Dashboard](basics.ipynb#The-Notebook-Dashboard)\n",
    "  * [Overview of the Notebook UI](basics.ipynb#Overview-of-the-Notebook-UI)\n",
    "* [Markdown Cells](markdown.ipynb)\n",
    "* [Images in Markdown Cells](images.ipynb)\n",
    "* Code Cells\n",
    "  * [Running Code](Running%20Code.ipynb)\n",
    "  * Plotting\n",
    "      * [Basic Plots](../examples/plot/basic_plots.ipynb)\n",
    "      * [ezvis3d](../examples/plot/demo_ezvisd3.ipynb)\n",
    "  * [Animation using Matplotlib](animation.ipynb)\n",
    "  * [Creating and Playing Videos](video.ipynb)\n",
    "* [Building GUIs in Notebooks](../examples/GUI/intro.ipynb)\n",
    "* [Creating Tools (Dashboards) from Notebooks](../examples/GUI/layout.ipynb)\n",
    "* [Publishing Notebooks](publishing.ipynb)\n",
    "* [Language Support](languages.ipynb)\n",
    "* [License](license.ipynb)"
   ]
  }
 ],
 "metadata": {
  "kernelspec": {
   "display_name": "Python3",
   "language": "python",
   "name": "python3"
  },
  "language_info": {
   "codemirror_mode": {
    "name": "ipython",
    "version": 3
   },
   "file_extension": ".py",
   "mimetype": "text/x-python",
   "name": "python",
   "nbconvert_exporter": "python",
   "pygments_lexer": "ipython3",
   "version": "3.5.3"
  }
 },
 "nbformat": 4,
 "nbformat_minor": 0
}
