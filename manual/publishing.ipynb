{
 "cells": [
  {
   "cell_type": "markdown",
   "metadata": {},
   "source": [
    "# Publishing Notebooks and Notebook-based Tools"
   ]
  },
  {
   "cell_type": "markdown",
   "metadata": {},
   "source": [
    "## What is Publishing?\n",
    "\n",
    "\n",
    "Publishing a notebook is similar to publishing anything on the hub platform. By publishing your work you will:\n",
    "\n",
    "* Make your work available to others.\n",
    "* Allow others to cite your work. \n",
    "\n",
    "To do this, you will have to go to https://nanohub.org/tools/create and follow the process described there.  Detailed notes follow."
   ]
  },
  {
   "cell_type": "markdown",
   "metadata": {},
   "source": [
    "## Notebooks vs Notebook-based Tools"
   ]
  },
  {
   "cell_type": "markdown",
   "metadata": {},
   "source": [
    "Publishing a notebook is just making your notebook available for others to run.  They will have to step through the cells (or select \"Cell/Run All\") manually.  This is great for tutorials and workflows, but my be distracting for tools where you don't want the users\n",
    "to see (or optionally modify) the code cells.  \n",
    "\n",
    "A \"Notebook-based Tool\" is a notebook that runs automatically.  Code cells are hidden. You may insert waitpoints which require the user to click a button to proceed.  You can include interactive widgets to get inputs or visualize the outputs.  Using this mode, it is possible to make tools similar to the Rappture-based tools."
   ]
  },
  {
   "cell_type": "markdown",
   "metadata": {},
   "source": [
    "## Publishing Notebooks\n",
    "\n",
    "A PDF containing the process for [Publishing Notebooks](PublishingNotebooks.pdf). "
   ]
  },
  {
   "cell_type": "markdown",
   "metadata": {},
   "source": [
    "## Publishing Notebook-based Tools\n",
    "\n",
    "To describe the steps to publish a notebook as a tool, we will create and publish a new notebook tool, based on https://nanohub.org/resources/gptool.\n"
   ]
  },
  {
   "cell_type": "markdown",
   "metadata": {},
   "source": [
    "### 1. First we go to https://nanohub.org/tools/create and create a new tool, https://nanohub.org/tools/gptool2.  \n",
    "\n",
    "### 2. Then open a terminal from the notebook home or dashboard view.  You will be in your notebooks directory.\n",
    "\n",
    "```bash\n",
    "~/notebooks> svn checkout https://nanohub.org/tools/gptool2/svn/trunk gptool2                                                      \n",
    "A    gptool2/middleware                                                                                                            \n",
    "A    gptool2/middleware/invoke                                                                                                     \n",
    "A    gptool2/examples                                                                                                              \n",
    "A    gptool2/rappture                                                                                                              \n",
    "A    gptool2/doc                                                                                                                   \n",
    "A    gptool2/src                                                                                                                   \n",
    "A    gptool2/src/Makefile                                                                                                          \n",
    "A    gptool2/bin                                                                                                                   \n",
    "A    gptool2/data                                                                                                                  \n",
    "Checked out revision 1.\n",
    "```              "
   ]
  },
  {
   "cell_type": "markdown",
   "metadata": {},
   "source": [
    "### 3.  Go back to the home(dashboard) page and go into the gptool2/bin folder.  Create a new notebook there.\n",
    "\n",
    "Optionally use the upload button to upload a notebook you have already started.  We also uploaded some python code\n",
    "(\"gpr.py) and some test data."
   ]
  },
  {
   "cell_type": "markdown",
   "metadata": {},
   "source": [
    "### 4. Get the notebook working.\n",
    "\n",
    "You may want to use notebook UI elements from http://hublib.readthedocs.io/en/latest/intro.html\n",
    "You can use ***%use*** from hublib to load any required environment modules.\n",
    "\n"
   ]
  },
  {
   "cell_type": "markdown",
   "metadata": {
    "collapsed": true
   },
   "source": [
    "[This](publishing/Gaussian1.ipynb) is the initial version."
   ]
  },
  {
   "cell_type": "markdown",
   "metadata": {},
   "source": [
    "### 5. Insert Waitpoints\n",
    "\n",
    "Tool-mode notebooks automatically start running when the notebook is loaded. If there are places where you would like execution to pause, you\n",
    "will need to insert waitpoints.  Execution pauses at waitpoints and will only resume when the user clicks the continue button. You can read more about them at http://hublib.readthedocs.io/en/latest/tools.html\n",
    "\n",
    "In our example, we will insert a single waitpoint after displaying the file upload dialog, allowing the user to upload the file before continuing.  Waitpoint cells have a green background when execution is paused on them and a red background when the next cells are running.  We put a \"%waitdone\" at the end of the notebook, which simply displays \"DONE\" and turns off the red background.\n",
    "\n",
    "\n",
    "[This](publishing/Gaussian2.ipynb) is the new version."
   ]
  },
  {
   "cell_type": "markdown",
   "metadata": {},
   "source": [
    "### 6. Activate Tool Mode and Test\n",
    "\n",
    "Notebooks will only run in tool-mode if tool-mode is enabled and the notebook is signed as \"trusted\".  Tool-mode only needs to be enabled once, but every time the notebook sources change, it must be signed as trusted.\n",
    "\n",
    "\n",
    "To set tool-mode, you will need to go back to the terminal. First we set tool mode then mark it trusted.\n",
    "```    \n",
    "~/notebooks/gptool2/bin> jupyter_tool.py -t Gaussian.ipynb                                                                         \n",
    "Tool Mode is True                                                                                                                  \n",
    "~/notebooks/gptool2/bin> jupyter trust Gaussian.ipynb                                                                              \n",
    "Signing notebook: Gaussian.ipynb                                                                                                   \n",
    "~/notebooks/gptool2/bin>\n",
    "```\n",
    "\n",
    "Next time you run the notebook, it should be running in tool mode.\n",
    "\n",
    "You cannot make any changes while in tool mode, so if you need to modify the notebook, you will have to run it as a normal notebook.  The easiest way to do this is to \"unsign\" it so it will no longer be trusted.\n",
    "\n",
    "```\n",
    "~/notebooks/gptool2/bin> jupyter_unsign.py Gaussian.ipynb                                                                          \n",
    "```\n",
    "\n",
    "When you are finished with your modifications, just mark it as trusted again:\n",
    "```\n",
    "~/notebooks/gptool2/bin> jupyter trust Gaussian.ipynb                                                                              \n",
    "Signing notebook: Gaussian.ipynb \n",
    "```\n",
    "\n",
    "\n",
    "              "
   ]
  },
  {
   "cell_type": "markdown",
   "metadata": {},
   "source": [
    "### 7. Write your Invoke script\n",
    "\n",
    "When you created your tool, the tool creation process automatically put something like the following in middleware/invoke.\n",
    "\n",
    "``` bash\n",
    "~/notebooks/gptool2/middleware> cat invoke                                                                                         \n",
    "#!/bin/sh                                                                                                                          \n",
    "                                                                                                                                   \n",
    "/usr/bin/invoke_app \"$@\" -C rappture -t gptool2      \n",
    "```\n",
    "\n",
    "You should change it to something like:\n",
    "\n",
    "```\n",
    "#!/bin/sh\n",
    "/usr/bin/invoke_app -C \"start_jupyter -t -T @tool bin/Gaussian.ipynb\" -u anaconda2-4.1                                          \n",
    "```\n",
    "\n",
    "You should try using the editor built into Jupyter.  From the dashboard, just click on the 'middleware' folder, then click on the 'invoke' file.\n",
    "\n",
    "All notebooks are started by 'start_jupyter\" which is in the anaconda2-4.1 module.  You should always have \"-u anaconda2-4.1\" in your invoke script regardless of what version of python you are using.\n",
    "\n",
    "\"-t\" enables tool mode.  \n",
    "\n",
    "\"-T @tool\" is always required.\n",
    "\n",
    "\"bin/Gaussian.ipynb\" is the notebook to start.  Path is relative to the tool directory.\n",
    "\n"
   ]
  },
  {
   "cell_type": "markdown",
   "metadata": {},
   "source": [
    "### 8. Check in Your Changes\n",
    "\n",
    "``` bash\n",
    "~/notebooks/gptool2> svn status                                                                                                    \n",
    "?       bin/test.dat                                                                                                               \n",
    "?       bin/.ipynb_checkpoints                                                                                                     \n",
    "?       bin/Gaussian.ipynb                                                                                                         \n",
    "?       bin/gpr.py                                                                                                                 \n",
    "?       bin/TESTDAT.DAT                                                                                                            \n",
    "M       middleware/invoke                                                                                                          \n",
    "~/notebooks/gptool2> svn add bin/Gaussian.ipynb  bin/gpr.py bin/test.dat                                                           \n",
    "A         bin/Gaussian.ipynb                                                                                                       \n",
    "A         bin/gpr.py                                                                                                               \n",
    "A         bin/test.dat                                                                                                             \n",
    "~/notebooks/gptool2> svn commit -m 'initial version'                                                                               \n",
    "Authentication realm: <https://nanohub.org:443> Notebook: Gaussian process regression in 1D Subversion Repository                  \n",
    "Password for 'mmh':                                                                                                                \n",
    "Adding         bin/Gaussian.ipynb                                                                                                  \n",
    "Adding         bin/gpr.py                                                                                                          \n",
    "Adding         bin/test.dat                                                                                                        \n",
    "Sending        middleware/invoke                                                                                                   \n",
    "Transmitting file data ....                                                                                                        \n",
    "Committed revision 2.                                                                                                              \n",
    "\n",
    "```\n"
   ]
  },
  {
   "cell_type": "markdown",
   "metadata": {},
   "source": [
    "### 9. Update Tool Status\n",
    "\n",
    "Go to your tool status page (for example\n",
    "https://nanohub.org/tools/gptool/status)\n",
    "\n",
    "and click on \"I've made changes Please install the latest code for testing and approval\"\n"
   ]
  },
  {
   "cell_type": "code",
   "execution_count": null,
   "metadata": {
    "collapsed": true
   },
   "outputs": [],
   "source": []
  }
 ],
 "metadata": {
  "kernelspec": {
   "display_name": "Python3",
   "language": "python",
   "name": "python3"
  },
  "language_info": {
   "codemirror_mode": {
    "name": "ipython",
    "version": 3
   },
   "file_extension": ".py",
   "mimetype": "text/x-python",
   "name": "python",
   "nbconvert_exporter": "python",
   "pygments_lexer": "ipython3",
   "version": "3.5.2"
  }
 },
 "nbformat": 4,
 "nbformat_minor": 1
}
