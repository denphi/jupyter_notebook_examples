{
 "cells": [
  {
   "cell_type": "markdown",
   "metadata": {},
   "source": [
    "# Publishing Notebooks and Notebook-based Tools"
   ]
  },
  {
   "cell_type": "markdown",
   "metadata": {},
   "source": [
    "## What is Publishing?\n",
    "\n",
    "\n",
    "Publishing a notebook is similar to publishing anything on the hub platform. By publishing your work you will:\n",
    "\n",
    "* Make your work available to others.\n",
    "* Allow others to cite your work. \n",
    "\n",
    "To do this, you will have to go to https://nanohub.org/tools/create and follow the process described there.  Detailed notes follow."
   ]
  },
  {
   "cell_type": "markdown",
   "metadata": {},
   "source": [
    "## Notebooks vs Notebook-based Tools"
   ]
  },
  {
   "cell_type": "markdown",
   "metadata": {},
   "source": [
    "Publishing a notebook is just making your notebook available for others to run.  They will have to step through the cells (or select \"Cell/Run All\") manually.  This is great for tutorials and workflows, but my be distracting for tools where you don't want the users\n",
    "to see (or optionally modify) the code cells.  \n",
    "\n",
    "A \"Notebook-based Tool\" is a notebook that runs automatically.  Code cells are hidden. You may insert waitpoints which require the user to click a button to proceed.  You can include interactive widgets to get inputs or visualize the outputs.  Using this mode, it is possible to make tools similar to the Rappture-based tools."
   ]
  },
  {
   "cell_type": "markdown",
   "metadata": {},
   "source": [
    "## Publishing Notebooks\n",
    "\n",
    "A PDF containing the process for [Publishing Notebooks](PublishingNotebooks.pdf). "
   ]
  },
  {
   "cell_type": "markdown",
   "metadata": {},
   "source": [
    "## Publishing Notebook-based Tools\n",
    "\n",
    "coming soon"
   ]
  }
 ],
 "metadata": {
  "kernelspec": {
   "display_name": "Python3",
   "language": "python",
   "name": "python3"
  },
  "language_info": {
   "codemirror_mode": {
    "name": "ipython",
    "version": 3
   },
   "file_extension": ".py",
   "mimetype": "text/x-python",
   "name": "python",
   "nbconvert_exporter": "python",
   "pygments_lexer": "ipython3",
   "version": "3.5.2"
  }
 },
 "nbformat": 4,
 "nbformat_minor": 1
}
