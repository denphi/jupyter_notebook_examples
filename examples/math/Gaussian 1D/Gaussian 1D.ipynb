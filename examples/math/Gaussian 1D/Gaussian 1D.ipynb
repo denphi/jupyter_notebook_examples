{
 "cells": [
  {
   "cell_type": "code",
   "execution_count": 1,
   "metadata": {
    "collapsed": false,
    "slideshow": {
     "slide_type": "skip"
    }
   },
   "outputs": [],
   "source": [
    "%matplotlib inline\n",
    "import pandas as pd\n",
    "from gpr import GPR\n",
    "from ipywidgets import interact"
   ]
  },
  {
   "cell_type": "markdown",
   "metadata": {
    "slideshow": {
     "slide_type": "slide"
    }
   },
   "source": [
    "## 1D Gaussian Process Regression Demo\n",
    "\n",
    "Author\n",
    "\n",
    "    Ilias Bilionis (ibilion@purdue.edu)\n",
    "    PredictiveScience Lab\n",
    "    School of Mechanical Engineering\n",
    "    Purdue University, West Lafayette, IN, USA\n",
    "\n",
    "Powered by [The excellent GPy package from the University of Sheffield](http://sheffieldml.github.io/GPy/).\n",
    "\n"
   ]
  },
  {
   "cell_type": "code",
   "execution_count": 2,
   "metadata": {
    "collapsed": false
   },
   "outputs": [
    {
     "data": {
      "text/html": [
       "<div>\n",
       "<table border=\"1\" class=\"dataframe\">\n",
       "  <thead>\n",
       "    <tr style=\"text-align: right;\">\n",
       "      <th></th>\n",
       "      <th>x</th>\n",
       "      <th>y</th>\n",
       "    </tr>\n",
       "  </thead>\n",
       "  <tbody>\n",
       "    <tr>\n",
       "      <th>0</th>\n",
       "      <td>2.000000</td>\n",
       "      <td>0.238738</td>\n",
       "    </tr>\n",
       "    <tr>\n",
       "      <th>1</th>\n",
       "      <td>-1.789474</td>\n",
       "      <td>0.597727</td>\n",
       "    </tr>\n",
       "    <tr>\n",
       "      <th>2</th>\n",
       "      <td>-1.578947</td>\n",
       "      <td>0.529198</td>\n",
       "    </tr>\n",
       "    <tr>\n",
       "      <th>3</th>\n",
       "      <td>-1.368421</td>\n",
       "      <td>-1.209292</td>\n",
       "    </tr>\n",
       "    <tr>\n",
       "      <th>4</th>\n",
       "      <td>-1.157895</td>\n",
       "      <td>-1.814509</td>\n",
       "    </tr>\n",
       "    <tr>\n",
       "      <th>5</th>\n",
       "      <td>-0.947368</td>\n",
       "      <td>-0.551606</td>\n",
       "    </tr>\n",
       "    <tr>\n",
       "      <th>6</th>\n",
       "      <td>-0.736842</td>\n",
       "      <td>-0.054824</td>\n",
       "    </tr>\n",
       "    <tr>\n",
       "      <th>7</th>\n",
       "      <td>-0.526316</td>\n",
       "      <td>-0.035288</td>\n",
       "    </tr>\n",
       "    <tr>\n",
       "      <th>8</th>\n",
       "      <td>-0.315789</td>\n",
       "      <td>0.527409</td>\n",
       "    </tr>\n",
       "    <tr>\n",
       "      <th>9</th>\n",
       "      <td>-0.105263</td>\n",
       "      <td>2.550400</td>\n",
       "    </tr>\n",
       "    <tr>\n",
       "      <th>10</th>\n",
       "      <td>0.105263</td>\n",
       "      <td>1.743669</td>\n",
       "    </tr>\n",
       "    <tr>\n",
       "      <th>11</th>\n",
       "      <td>0.315789</td>\n",
       "      <td>2.107657</td>\n",
       "    </tr>\n",
       "    <tr>\n",
       "      <th>12</th>\n",
       "      <td>0.526316</td>\n",
       "      <td>2.373316</td>\n",
       "    </tr>\n",
       "    <tr>\n",
       "      <th>13</th>\n",
       "      <td>0.736842</td>\n",
       "      <td>1.730585</td>\n",
       "    </tr>\n",
       "    <tr>\n",
       "      <th>14</th>\n",
       "      <td>0.947368</td>\n",
       "      <td>1.124127</td>\n",
       "    </tr>\n",
       "    <tr>\n",
       "      <th>15</th>\n",
       "      <td>1.157895</td>\n",
       "      <td>1.834860</td>\n",
       "    </tr>\n",
       "    <tr>\n",
       "      <th>16</th>\n",
       "      <td>1.368421</td>\n",
       "      <td>1.403380</td>\n",
       "    </tr>\n",
       "    <tr>\n",
       "      <th>17</th>\n",
       "      <td>1.578947</td>\n",
       "      <td>1.606968</td>\n",
       "    </tr>\n",
       "    <tr>\n",
       "      <th>18</th>\n",
       "      <td>1.789474</td>\n",
       "      <td>0.415002</td>\n",
       "    </tr>\n",
       "    <tr>\n",
       "      <th>19</th>\n",
       "      <td>2.000000</td>\n",
       "      <td>-0.056289</td>\n",
       "    </tr>\n",
       "  </tbody>\n",
       "</table>\n",
       "</div>"
      ],
      "text/plain": [
       "           x         y\n",
       "0   2.000000  0.238738\n",
       "1  -1.789474  0.597727\n",
       "2  -1.578947  0.529198\n",
       "3  -1.368421 -1.209292\n",
       "4  -1.157895 -1.814509\n",
       "5  -0.947368 -0.551606\n",
       "6  -0.736842 -0.054824\n",
       "7  -0.526316 -0.035288\n",
       "8  -0.315789  0.527409\n",
       "9  -0.105263  2.550400\n",
       "10  0.105263  1.743669\n",
       "11  0.315789  2.107657\n",
       "12  0.526316  2.373316\n",
       "13  0.736842  1.730585\n",
       "14  0.947368  1.124127\n",
       "15  1.157895  1.834860\n",
       "16  1.368421  1.403380\n",
       "17  1.578947  1.606968\n",
       "18  1.789474  0.415002\n",
       "19  2.000000 -0.056289"
      ]
     },
     "execution_count": 2,
     "metadata": {},
     "output_type": "execute_result"
    }
   ],
   "source": [
    "data = pd.read_csv('test.dat', sep=' ', names = ['x', 'y'])\n",
    "data"
   ]
  },
  {
   "cell_type": "code",
   "execution_count": 3,
   "metadata": {
    "collapsed": false,
    "slideshow": {
     "slide_type": "slide"
    }
   },
   "outputs": [
    {
     "data": {
      "image/png": "[encoded data removed]",
      "text/plain": [
       "<matplotlib.figure.Figure at 0x7f986d214b10>"
      ]
     },
     "metadata": {},
     "output_type": "display_data"
    }
   ],
   "source": [
    "g = GPR(data['x'], data['y'])\n",
    "interact(g.run, \n",
    "    variance=(0.001,10.0,.001), \n",
    "    length_scale=(0.001,10.0,.001), \n",
    "    noise_variance=(0.001,10.0,.001));"
   ]
  },
  {
   "cell_type": "code",
   "execution_count": null,
   "metadata": {
    "collapsed": true
   },
   "outputs": [],
   "source": []
  }
 ],
 "metadata": {
  "description": "Notebook version of the 'gptool' tool. 1D Gaussian Process Regression. Good Example of interactivity.",
  "kernelspec": {
   "display_name": "Python2",
   "language": "python",
   "name": "python2"
  },
  "language_info": {
   "codemirror_mode": {
    "name": "ipython",
    "version": 2
   },
   "file_extension": ".py",
   "mimetype": "text/x-python",
   "name": "python",
   "nbconvert_exporter": "python",
   "pygments_lexer": "ipython2",
   "version": "2.7.12"
  },
  "tool": false
 },
 "nbformat": 4,
 "nbformat_minor": 0
}
