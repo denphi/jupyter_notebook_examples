{
 "cells": [
  {
   "cell_type": "markdown",
   "metadata": {},
   "source": [
    "<h1>SymPy: Open Source Symbolic Mathematics</h1>"
   ]
  },
  {
   "cell_type": "code",
   "execution_count": 1,
   "metadata": {
    "ExecuteTime": {
     "end_time": "2023-01-26T19:10:39.955614Z",
     "start_time": "2023-01-26T19:10:39.047533Z"
    }
   },
   "outputs": [],
   "source": [
    "from sympy import init_printing; init_printing()\n",
    "from IPython.display import display\n",
    "import warnings\n",
    "warnings.filterwarnings('ignore')"
   ]
  },
  {
   "cell_type": "code",
   "execution_count": 2,
   "metadata": {
    "ExecuteTime": {
     "end_time": "2023-01-26T19:10:39.967677Z",
     "start_time": "2023-01-26T19:10:39.959483Z"
    }
   },
   "outputs": [],
   "source": [
    "from __future__ import division\n",
    "from sympy import *\n",
    "x, y, z = symbols(\"x y z\")\n",
    "k, m, n = symbols(\"k m n\", integer=True)\n",
    "f, g, h = map(Function, 'fgh')"
   ]
  },
  {
   "cell_type": "markdown",
   "metadata": {},
   "source": [
    "<h2>Elementary operations</h2>"
   ]
  },
  {
   "cell_type": "code",
   "execution_count": 3,
   "metadata": {
    "ExecuteTime": {
     "end_time": "2023-01-26T19:10:40.938576Z",
     "start_time": "2023-01-26T19:10:39.971759Z"
    }
   },
   "outputs": [
    {
     "data": {
      "image/png": "[encoded data removed]",
      "text/latex": [
       "$\\displaystyle \\frac{3 \\pi}{2} + \\frac{e^{i x}}{x^{2} + y}$"
      ],
      "text/plain": [
       "        ⅈ⋅x \n",
       "3⋅π    ℯ    \n",
       "─── + ──────\n",
       " 2     2    \n",
       "      x  + y"
      ]
     },
     "execution_count": 3,
     "metadata": {},
     "output_type": "execute_result"
    }
   ],
   "source": [
    "Rational(3,2)*pi + exp(I*x) / (x**2 + y)"
   ]
  },
  {
   "cell_type": "code",
   "execution_count": 4,
   "metadata": {
    "ExecuteTime": {
     "end_time": "2023-01-26T19:10:40.995917Z",
     "start_time": "2023-01-26T19:10:40.940124Z"
    }
   },
   "outputs": [
    {
     "data": {
      "image/png": "[encoded data removed]",
      "text/latex": [
       "$\\displaystyle -1.0$"
      ],
      "text/plain": [
       "-1.00000000000000"
      ]
     },
     "execution_count": 4,
     "metadata": {},
     "output_type": "execute_result"
    }
   ],
   "source": [
    "exp(I*x).subs(x,pi).evalf()"
   ]
  },
  {
   "cell_type": "code",
   "execution_count": 5,
   "metadata": {
    "ExecuteTime": {
     "end_time": "2023-01-26T19:10:40.999883Z",
     "start_time": "2023-01-26T19:10:40.997504Z"
    }
   },
   "outputs": [],
   "source": [
    "e = x + 2*y"
   ]
  },
  {
   "cell_type": "code",
   "execution_count": 6,
   "metadata": {
    "ExecuteTime": {
     "end_time": "2023-01-26T19:10:41.004888Z",
     "start_time": "2023-01-26T19:10:41.001743Z"
    }
   },
   "outputs": [
    {
     "data": {
      "text/plain": [
       "\"Add(Symbol('x'), Mul(Integer(2), Symbol('y')))\""
      ]
     },
     "execution_count": 6,
     "metadata": {},
     "output_type": "execute_result"
    }
   ],
   "source": [
    "srepr(e)"
   ]
  },
  {
   "cell_type": "code",
   "execution_count": 7,
   "metadata": {
    "ExecuteTime": {
     "end_time": "2023-01-26T19:10:41.088908Z",
     "start_time": "2023-01-26T19:10:41.006413Z"
    }
   },
   "outputs": [
    {
     "data": {
      "image/png": "[encoded data removed]",
      "text/latex": [
       "$\\displaystyle 262537412640768743.99999999999925007259719818568888$"
      ],
      "text/plain": [
       "262537412640768743.99999999999925007259719818568888"
      ]
     },
     "execution_count": 7,
     "metadata": {},
     "output_type": "execute_result"
    }
   ],
   "source": [
    "exp(pi * sqrt(163)).evalf(50)"
   ]
  },
  {
   "cell_type": "markdown",
   "metadata": {},
   "source": [
    "<h2>Algebra<h2>"
   ]
  },
  {
   "cell_type": "code",
   "execution_count": 8,
   "metadata": {
    "ExecuteTime": {
     "end_time": "2023-01-26T19:10:41.178902Z",
     "start_time": "2023-01-26T19:10:41.090444Z"
    }
   },
   "outputs": [
    {
     "data": {
      "image/png": "[encoded data removed]",
      "text/latex": [
       "$\\displaystyle x^{3} + 2 x^{2} y + x^{2} + x y^{2} + 2 x y + y^{2}$"
      ],
      "text/plain": [
       " 3      2      2      2            2\n",
       "x  + 2⋅x ⋅y + x  + x⋅y  + 2⋅x⋅y + y "
      ]
     },
     "execution_count": 8,
     "metadata": {},
     "output_type": "execute_result"
    }
   ],
   "source": [
    "((x+y)**2 * (x+1)).expand()"
   ]
  },
  {
   "cell_type": "code",
   "execution_count": 9,
   "metadata": {
    "ExecuteTime": {
     "end_time": "2023-01-26T19:10:41.322903Z",
     "start_time": "2023-01-26T19:10:41.180415Z"
    }
   },
   "outputs": [
    {
     "data": {
      "image/png": "[encoded data removed]",
      "text/latex": [
       "$\\displaystyle \\frac{x \\sin{\\left(x \\right)} - 1}{x} + \\frac{1}{x}$"
      ],
      "text/plain": [
       "x⋅sin(x) - 1   1\n",
       "──────────── + ─\n",
       "     x         x"
      ]
     },
     "metadata": {},
     "output_type": "display_data"
    },
    {
     "data": {
      "image/png": "[encoded data removed]",
      "text/latex": [
       "$\\displaystyle \\sin{\\left(x \\right)}$"
      ],
      "text/plain": [
       "sin(x)"
      ]
     },
     "metadata": {},
     "output_type": "display_data"
    }
   ],
   "source": [
    "a = 1/x + (x*sin(x) - 1)/x\n",
    "display(a)\n",
    "display(simplify(a))"
   ]
  },
  {
   "cell_type": "code",
   "execution_count": 10,
   "metadata": {
    "ExecuteTime": {
     "end_time": "2023-01-26T19:10:41.413905Z",
     "start_time": "2023-01-26T19:10:41.324470Z"
    }
   },
   "outputs": [
    {
     "data": {
      "image/png": "[encoded data removed]",
      "text/latex": [
       "$\\displaystyle \\left[ -2, \\  - 2 i, \\  2 i\\right]$"
      ],
      "text/plain": [
       "[-2, -2⋅ⅈ, 2⋅ⅈ]"
      ]
     },
     "execution_count": 10,
     "metadata": {},
     "output_type": "execute_result"
    }
   ],
   "source": [
    "solve(Eq(x**3 + 2*x**2 + 4*x + 8, 0), x)"
   ]
  },
  {
   "cell_type": "code",
   "execution_count": 11,
   "metadata": {
    "ExecuteTime": {
     "end_time": "2023-01-26T19:10:41.484913Z",
     "start_time": "2023-01-26T19:10:41.415478Z"
    }
   },
   "outputs": [
    {
     "data": {
      "image/png": "[encoded data removed]",
      "text/latex": [
       "$\\displaystyle \\sum_{n=a}^{b} \\left(2^{n} + 6 n^{2}\\right)$"
      ],
      "text/plain": [
       "  b              \n",
       " ___             \n",
       " ╲               \n",
       "  ╲   ⎛ n      2⎞\n",
       "  ╱   ⎝2  + 6⋅n ⎠\n",
       " ╱               \n",
       " ‾‾‾             \n",
       "n = a            "
      ]
     },
     "execution_count": 11,
     "metadata": {},
     "output_type": "execute_result"
    }
   ],
   "source": [
    "a, b = symbols('a b')\n",
    "Sum(6*n**2 + 2**n, (n, a, b))"
   ]
  },
  {
   "cell_type": "code",
   "execution_count": 12,
   "metadata": {
    "ExecuteTime": {
     "end_time": "2023-01-26T19:10:41.565900Z",
     "start_time": "2023-01-26T19:10:41.486450Z"
    }
   },
   "outputs": [
    {
     "data": {
      "image/png": "[encoded data removed]",
      "text/latex": [
       "$\\displaystyle \\sum_{n=a}^{b} 2^{n} + \\sum_{n=a}^{b} 6 n^{2}$"
      ],
      "text/plain": [
       "  b          b       \n",
       " ___        ___      \n",
       " ╲          ╲        \n",
       "  ╲    n     ╲      2\n",
       "  ╱   2  +   ╱   6⋅n \n",
       " ╱          ╱        \n",
       " ‾‾‾        ‾‾‾      \n",
       "n = a      n = a     "
      ]
     },
     "execution_count": 12,
     "metadata": {},
     "output_type": "execute_result"
    }
   ],
   "source": [
    "sum = Sum(6*n**2 + 2**n, (n, a, b))\n",
    "sum.expand()"
   ]
  },
  {
   "cell_type": "code",
   "execution_count": 13,
   "metadata": {
    "ExecuteTime": {
     "end_time": "2023-01-26T19:10:41.633342Z",
     "start_time": "2023-01-26T19:10:41.567440Z"
    }
   },
   "outputs": [
    {
     "data": {
      "image/png": "[encoded data removed]",
      "text/latex": [
       "$\\displaystyle \\sum_{n=0}^{b} \\left(2^{n} + 6 n^{2}\\right)$"
      ],
      "text/plain": [
       "  b              \n",
       " ___             \n",
       " ╲               \n",
       "  ╲   ⎛ n      2⎞\n",
       "  ╱   ⎝2  + 6⋅n ⎠\n",
       " ╱               \n",
       " ‾‾‾             \n",
       "n = 0            "
      ]
     },
     "execution_count": 13,
     "metadata": {},
     "output_type": "execute_result"
    }
   ],
   "source": [
    "new_sum = sum.subs(a, 0)\n",
    "new_sum"
   ]
  },
  {
   "cell_type": "code",
   "execution_count": 14,
   "metadata": {
    "ExecuteTime": {
     "end_time": "2023-01-26T19:10:41.698912Z",
     "start_time": "2023-01-26T19:10:41.634798Z"
    }
   },
   "outputs": [
    {
     "data": {
      "image/png": "[encoded data removed]",
      "text/latex": [
       "$\\displaystyle \\sum_{n=0}^{10} \\left(2^{n} + 6 n^{2}\\right)$"
      ],
      "text/plain": [
       "  10             \n",
       " ___             \n",
       " ╲               \n",
       "  ╲   ⎛ n      2⎞\n",
       "  ╱   ⎝2  + 6⋅n ⎠\n",
       " ╱               \n",
       " ‾‾‾             \n",
       "n = 0            "
      ]
     },
     "execution_count": 14,
     "metadata": {},
     "output_type": "execute_result"
    }
   ],
   "source": [
    "new_sum = new_sum.subs(b, 10)\n",
    "new_sum"
   ]
  },
  {
   "cell_type": "code",
   "execution_count": 15,
   "metadata": {
    "ExecuteTime": {
     "end_time": "2023-01-26T19:10:41.765292Z",
     "start_time": "2023-01-26T19:10:41.700365Z"
    }
   },
   "outputs": [
    {
     "data": {
      "image/png": "[encoded data removed]",
      "text/latex": [
       "$\\displaystyle 4357.0$"
      ],
      "text/plain": [
       "4357.00000000000"
      ]
     },
     "execution_count": 15,
     "metadata": {},
     "output_type": "execute_result"
    }
   ],
   "source": [
    "new_sum.evalf()"
   ]
  },
  {
   "cell_type": "markdown",
   "metadata": {},
   "source": [
    "<h2>Calculus</h2>"
   ]
  },
  {
   "cell_type": "code",
   "execution_count": 16,
   "metadata": {
    "ExecuteTime": {
     "end_time": "2023-01-26T19:10:41.850522Z",
     "start_time": "2023-01-26T19:10:41.766755Z"
    }
   },
   "outputs": [
    {
     "data": {
      "image/png": "[encoded data removed]",
      "text/latex": [
       "$\\displaystyle - \\frac{1}{6}$"
      ],
      "text/plain": [
       "-1/6"
      ]
     },
     "execution_count": 16,
     "metadata": {},
     "output_type": "execute_result"
    }
   ],
   "source": [
    "limit((sin(x)-x)/x**3, x, 0)"
   ]
  },
  {
   "cell_type": "code",
   "execution_count": 17,
   "metadata": {
    "ExecuteTime": {
     "end_time": "2023-01-26T19:10:41.960978Z",
     "start_time": "2023-01-26T19:10:41.852017Z"
    }
   },
   "outputs": [
    {
     "data": {
      "image/png": "[encoded data removed]",
      "text/latex": [
       "$\\displaystyle 1 + \\frac{x^{2}}{2} + \\frac{5 x^{4}}{24} + O\\left(x^{6}\\right)$"
      ],
      "text/plain": [
       "     2      4        \n",
       "    x    5⋅x     ⎛ 6⎞\n",
       "1 + ── + ──── + O⎝x ⎠\n",
       "    2     24         "
      ]
     },
     "execution_count": 17,
     "metadata": {},
     "output_type": "execute_result"
    }
   ],
   "source": [
    "(1/cos(x)).series(x, 0, 6)"
   ]
  },
  {
   "cell_type": "code",
   "execution_count": 18,
   "metadata": {
    "ExecuteTime": {
     "end_time": "2023-01-26T19:10:42.063962Z",
     "start_time": "2023-01-26T19:10:41.963922Z"
    }
   },
   "outputs": [
    {
     "data": {
      "image/png": "[encoded data removed]",
      "text/latex": [
       "$\\displaystyle - \\frac{4 x \\sin{\\left(x^{2} \\right)} \\cos{\\left(x^{2} \\right)}}{x + 1} - \\frac{\\cos^{2}{\\left(x^{2} \\right)}}{\\left(x + 1\\right)^{2}}$"
      ],
      "text/plain": [
       "         ⎛ 2⎞    ⎛ 2⎞      2⎛ 2⎞\n",
       "  4⋅x⋅sin⎝x ⎠⋅cos⎝x ⎠   cos ⎝x ⎠\n",
       "- ─────────────────── - ────────\n",
       "         x + 1                 2\n",
       "                        (x + 1) "
      ]
     },
     "execution_count": 18,
     "metadata": {},
     "output_type": "execute_result"
    }
   ],
   "source": [
    "diff(cos(x**2)**2 / (1+x), x)"
   ]
  },
  {
   "cell_type": "code",
   "execution_count": 19,
   "metadata": {
    "ExecuteTime": {
     "end_time": "2023-01-26T19:10:42.497866Z",
     "start_time": "2023-01-26T19:10:42.065961Z"
    }
   },
   "outputs": [
    {
     "data": {
      "image/png": "[encoded data removed]",
      "text/latex": [
       "$\\displaystyle -2 + \\frac{\\pi^{2}}{4}$"
      ],
      "text/plain": [
       "      2\n",
       "     π \n",
       "-2 + ──\n",
       "     4 "
      ]
     },
     "execution_count": 19,
     "metadata": {},
     "output_type": "execute_result"
    }
   ],
   "source": [
    "integrate(x**2 * cos(x), (x, 0, pi/2))"
   ]
  },
  {
   "cell_type": "code",
   "execution_count": 20,
   "metadata": {
    "ExecuteTime": {
     "end_time": "2023-01-26T19:10:42.897939Z",
     "start_time": "2023-01-26T19:10:42.505378Z"
    }
   },
   "outputs": [
    {
     "data": {
      "image/png": "[encoded data removed]",
      "text/latex": [
       "$\\displaystyle \\int\\limits_{0}^{\\frac{\\pi}{2}} x^{2} \\cos{\\left(x \\right)}\\, dx$"
      ],
      "text/plain": [
       "π             \n",
       "─             \n",
       "2             \n",
       "⌠             \n",
       "⎮  2          \n",
       "⎮ x ⋅cos(x) dx\n",
       "⌡             \n",
       "0             "
      ]
     },
     "metadata": {},
     "output_type": "display_data"
    },
    {
     "data": {
      "image/png": "[encoded data removed]",
      "text/latex": [
       "$\\displaystyle -2 + \\frac{\\pi^{2}}{4}$"
      ],
      "text/plain": [
       "      2\n",
       "     π \n",
       "-2 + ──\n",
       "     4 "
      ]
     },
     "execution_count": 20,
     "metadata": {},
     "output_type": "execute_result"
    }
   ],
   "source": [
    "eqn = Integral(x**2 * cos(x), (x, 0, pi/2))\n",
    "display(eqn)\n",
    "eqn.doit()"
   ]
  },
  {
   "cell_type": "code",
   "execution_count": 21,
   "metadata": {
    "ExecuteTime": {
     "end_time": "2023-01-26T19:10:43.070997Z",
     "start_time": "2023-01-26T19:10:42.901122Z"
    }
   },
   "outputs": [
    {
     "data": {
      "image/png": "[encoded data removed]",
      "text/latex": [
       "$\\displaystyle 0.46740110027234$"
      ],
      "text/plain": [
       "0.467401100272340"
      ]
     },
     "execution_count": 21,
     "metadata": {},
     "output_type": "execute_result"
    }
   ],
   "source": [
    "eqn.evalf()"
   ]
  },
  {
   "cell_type": "code",
   "execution_count": 22,
   "metadata": {
    "ExecuteTime": {
     "end_time": "2023-01-26T19:10:43.695785Z",
     "start_time": "2023-01-26T19:10:43.074306Z"
    }
   },
   "outputs": [
    {
     "data": {
      "image/png": "[encoded data removed]",
      "text/latex": [
       "$\\displaystyle 9 f{\\left(x \\right)} + \\frac{d^{2}}{d x^{2}} f{\\left(x \\right)} = 1$"
      ],
      "text/plain": [
       "           2          \n",
       "          d           \n",
       "9⋅f(x) + ───(f(x)) = 1\n",
       "           2          \n",
       "         dx           "
      ]
     },
     "metadata": {},
     "output_type": "display_data"
    },
    {
     "data": {
      "image/png": "[encoded data removed]",
      "text/latex": [
       "$\\displaystyle f{\\left(x \\right)} = C_{1} \\sin{\\left(3 x \\right)} + C_{2} \\cos{\\left(3 x \\right)} + \\frac{1}{9}$"
      ],
      "text/plain": [
       "f(x) = C₁⋅sin(3⋅x) + C₂⋅cos(3⋅x) + 1/9"
      ]
     },
     "execution_count": 22,
     "metadata": {},
     "output_type": "execute_result"
    }
   ],
   "source": [
    "eqn = Eq(Derivative(f(x),x,x) + 9*f(x), 1)\n",
    "display(eqn)\n",
    "dsolve(eqn, f(x))"
   ]
  }
 ],
 "metadata": {
  "kernelspec": {
   "display_name": "Python 3 (ipykernel)",
   "language": "python",
   "name": "python3"
  },
  "language_info": {
   "codemirror_mode": {
    "name": "ipython",
    "version": 3
   },
   "file_extension": ".py",
   "mimetype": "text/x-python",
   "name": "python",
   "nbconvert_exporter": "python",
   "pygments_lexer": "ipython3",
   "version": "3.8.10"
  },
  "toc": {
   "base_numbering": 1,
   "nav_menu": {},
   "number_sections": true,
   "sideBar": true,
   "skip_h1_title": false,
   "title_cell": "Table of Contents",
   "title_sidebar": "Contents",
   "toc_cell": false,
   "toc_position": {},
   "toc_section_display": true,
   "toc_window_display": false
  },
  "varInspector": {
   "cols": {
    "lenName": 16,
    "lenType": 16,
    "lenVar": 40
   },
   "kernels_config": {
    "python": {
     "delete_cmd_postfix": "",
     "delete_cmd_prefix": "del ",
     "library": "var_list.py",
     "varRefreshCmd": "print(var_dic_list())"
    },
    "r": {
     "delete_cmd_postfix": ") ",
     "delete_cmd_prefix": "rm(",
     "library": "var_list.r",
     "varRefreshCmd": "cat(var_dic_list()) "
    }
   },
   "types_to_exclude": [
    "module",
    "function",
    "builtin_function_or_method",
    "instance",
    "_Feature"
   ],
   "window_display": false
  }
 },
 "nbformat": 4,
 "nbformat_minor": 1
}
