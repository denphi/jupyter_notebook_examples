{
 "cells": [
  {
   "cell_type": "code",
   "execution_count": 1,
   "metadata": {
    "collapsed": false
   },
   "outputs": [],
   "source": [
    "import numpy as np\n",
    "from scipy.integrate import dblquad, quad\n",
    "from sympy import integrate, Symbol, latex\n",
    "from sympy.interactive import init_printing\n",
    "init_printing()\n",
    "x, y = Symbol('x'), Symbol('y')"
   ]
  },
  {
   "cell_type": "markdown",
   "metadata": {},
   "source": [
    "Compute $$\\int_1^2\\int_0^1 \\frac{x^2}{y} \\mathrm{d}x\\mathrm{d}y$$\n",
    "The answer should be $$\\frac{1}{3}\\log(2).$$"
   ]
  },
  {
   "cell_type": "markdown",
   "metadata": {},
   "source": [
    "First do it symbolically"
   ]
  },
  {
   "cell_type": "code",
   "execution_count": 2,
   "metadata": {
    "collapsed": false
   },
   "outputs": [
    {
     "data": {
      "image/png": "[encoded data removed]",
      "text/latex": [
       "$$\\frac{1}{3} \\log{\\left (2 \\right )}$$"
      ],
      "text/plain": [
       "log(2)\n",
       "──────\n",
       "  3   "
      ]
     },
     "execution_count": 2,
     "metadata": {},
     "output_type": "execute_result"
    }
   ],
   "source": [
    "res = integrate(x**2/y, (y, 1, 2))\n",
    "integrate(res, (x, 0, 1))"
   ]
  },
  {
   "cell_type": "markdown",
   "metadata": {},
   "source": [
    "Now numerically."
   ]
  },
  {
   "cell_type": "code",
   "execution_count": 3,
   "metadata": {
    "collapsed": false
   },
   "outputs": [
    {
     "name": "stdout",
     "output_type": "stream",
     "text": [
      "0.231049060187 0.231049060187\n"
     ]
    }
   ],
   "source": [
    "f = lambda x,y: x**2/y\n",
    "result, error = dblquad(lambda y, x: f(x,y),  0, 1, lambda y: 1, lambda y: 2)\n",
    "print result, np.log(2)/3"
   ]
  },
  {
   "cell_type": "markdown",
   "metadata": {},
   "source": [
    "-----\n",
    "Compute $$\\int_0^1\\int_{1-x}^{1-x^2} xy\\; \\mathrm{d}x\\mathrm{d}y$$"
   ]
  },
  {
   "cell_type": "code",
   "execution_count": 4,
   "metadata": {
    "collapsed": false
   },
   "outputs": [
    {
     "name": "stdout",
     "output_type": "stream",
     "text": [
      "1/24 0.0416666666666667\n"
     ]
    }
   ],
   "source": [
    "res = integrate(x*y, (y, 1-x, 1-x**2))\n",
    "r = integrate(res, (x, 0, 1))\n",
    "print r, r.evalf()"
   ]
  },
  {
   "cell_type": "code",
   "execution_count": 5,
   "metadata": {
    "collapsed": false
   },
   "outputs": [
    {
     "name": "stdout",
     "output_type": "stream",
     "text": [
      "0.0416666666667\n"
     ]
    }
   ],
   "source": [
    "result, error = dblquad(lambda y , x: x*y,  0, 1, lambda x: 1-x, lambda x: 1-x**2)\n",
    "print result"
   ]
  },
  {
   "cell_type": "markdown",
   "metadata": {},
   "source": [
    "<hr>\n",
    "$$\\int_{-2}^{2}\\int_{-2}^{2}100(y-x^2)^2 + (1-x)^2 dx dy$$"
   ]
  },
  {
   "cell_type": "code",
   "execution_count": 6,
   "metadata": {
    "collapsed": false
   },
   "outputs": [
    {
     "name": "stdout",
     "output_type": "stream",
     "text": [
      "1367/3 455.666666666667\n"
     ]
    }
   ],
   "source": [
    "res = integrate(100*(y-x**2)**2+(1-x)**2, (y, -2, 2))\n",
    "r = integrate(res, (x, -2, 2))\n",
    "mean = r/16\n",
    "print mean, mean.evalf()"
   ]
  },
  {
   "cell_type": "code",
   "execution_count": 7,
   "metadata": {
    "collapsed": false
   },
   "outputs": [
    {
     "name": "stdout",
     "output_type": "stream",
     "text": [
      "455.666666667\n"
     ]
    }
   ],
   "source": [
    "def f(a, b):\n",
    "    return 100*(b-a**2)**2+(1-a)**2\n",
    "\n",
    "result, error = dblquad(lambda b, a: f(a,b),  -2, 2, lambda b: -2, lambda b: 2)\n",
    "\n",
    "print result/16"
   ]
  },
  {
   "cell_type": "code",
   "execution_count": 8,
   "metadata": {
    "collapsed": false
   },
   "outputs": [
    {
     "name": "stdout",
     "output_type": "stream",
     "text": [
      "3.33929164247\n"
     ]
    }
   ],
   "source": [
    "def f(a):\n",
    "    return np.exp(-a)\n",
    "\n",
    "result, error = quad(f,  -3, 3)\n",
    "\n",
    "print result/6.0"
   ]
  },
  {
   "cell_type": "code",
   "execution_count": 9,
   "metadata": {
    "collapsed": false
   },
   "outputs": [
    {
     "data": {
      "image/png": "[encoded data removed]",
      "text/latex": [
       "$$3.33929164246997$$"
      ],
      "text/plain": [
       "3.33929164246997"
      ]
     },
     "execution_count": 9,
     "metadata": {},
     "output_type": "execute_result"
    }
   ],
   "source": [
    "from sympy import exp\n",
    "integrate(exp(-x), (x, -3, 3)).evalf()/6.0"
   ]
  },
  {
   "cell_type": "code",
   "execution_count": 10,
   "metadata": {
    "collapsed": false
   },
   "outputs": [
    {
     "data": {
      "image/png": "[encoded data removed]",
      "text/plain": [
       "<matplotlib.figure.Figure at 0x7f1904a1c290>"
      ]
     },
     "metadata": {},
     "output_type": "display_data"
    }
   ],
   "source": [
    "%matplotlib inline\n",
    "import sympy\n",
    "sympy.plot(exp(-x), (x, -3, 3));"
   ]
  }
 ],
 "metadata": {
  "description": "An Example of Symbolic and Numerical Integration in the Notebook.",
  "kernelspec": {
   "display_name": "Python2",
   "language": "python",
   "name": "python2"
  },
  "language_info": {
   "codemirror_mode": {
    "name": "ipython",
    "version": 2
   },
   "file_extension": ".py",
   "mimetype": "text/x-python",
   "name": "python",
   "nbconvert_exporter": "python",
   "pygments_lexer": "ipython2",
   "version": "2.7.12"
  }
 },
 "nbformat": 4,
 "nbformat_minor": 0
}
