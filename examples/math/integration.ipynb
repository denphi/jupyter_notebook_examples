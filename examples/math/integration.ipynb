{
 "cells": [
  {
   "cell_type": "code",
   "execution_count": 1,
   "metadata": {
    "ExecuteTime": {
     "end_time": "2023-01-26T19:09:31.961146Z",
     "start_time": "2023-01-26T19:09:29.810925Z"
    }
   },
   "outputs": [],
   "source": [
    "import numpy as np\n",
    "from scipy.integrate import dblquad, quad\n",
    "from sympy import integrate, Symbol, latex\n",
    "from sympy.interactive import init_printing\n",
    "import warnings\n",
    "warnings.filterwarnings('ignore')\n",
    "init_printing()\n",
    "x, y = Symbol('x'), Symbol('y')"
   ]
  },
  {
   "cell_type": "markdown",
   "metadata": {},
   "source": [
    "Compute $$\\int_1^2\\int_0^1 \\frac{x^2}{y} \\mathrm{d}x\\mathrm{d}y$$\n",
    "The answer should be $$\\frac{1}{3}\\log(2).$$"
   ]
  },
  {
   "cell_type": "markdown",
   "metadata": {},
   "source": [
    "First do it symbolically"
   ]
  },
  {
   "cell_type": "code",
   "execution_count": 2,
   "metadata": {
    "ExecuteTime": {
     "end_time": "2023-01-26T19:09:32.589989Z",
     "start_time": "2023-01-26T19:09:31.962660Z"
    }
   },
   "outputs": [
    {
     "data": {
      "image/png": "[encoded data removed]",
      "text/latex": [
       "$\\displaystyle \\frac{\\log{\\left(2 \\right)}}{3}$"
      ],
      "text/plain": [
       "log(2)\n",
       "──────\n",
       "  3   "
      ]
     },
     "execution_count": 2,
     "metadata": {},
     "output_type": "execute_result"
    }
   ],
   "source": [
    "res = integrate(x**2/y, (y, 1, 2))\n",
    "integrate(res, (x, 0, 1))"
   ]
  },
  {
   "cell_type": "markdown",
   "metadata": {},
   "source": [
    "Now numerically."
   ]
  },
  {
   "cell_type": "code",
   "execution_count": 3,
   "metadata": {
    "ExecuteTime": {
     "end_time": "2023-01-26T19:09:32.655140Z",
     "start_time": "2023-01-26T19:09:32.591689Z"
    }
   },
   "outputs": [
    {
     "data": {
      "image/png": "[encoded data removed]",
      "text/latex": [
       "$\\displaystyle \\left( 0.231049060186648, \\  0.231049060186648\\right)$"
      ],
      "text/plain": [
       "(0.23104906018664845, 0.23104906018664842)"
      ]
     },
     "execution_count": 3,
     "metadata": {},
     "output_type": "execute_result"
    }
   ],
   "source": [
    "f = lambda x,y: x**2/y\n",
    "result, error = dblquad(lambda y, x: f(x,y),  0, 1, lambda y: 1, lambda y: 2)\n",
    "result, np.log(2)/3"
   ]
  },
  {
   "cell_type": "markdown",
   "metadata": {},
   "source": [
    "-----\n",
    "Compute $$\\int_0^1\\int_{1-x}^{1-x^2} xy\\; \\mathrm{d}x\\mathrm{d}y$$"
   ]
  },
  {
   "cell_type": "code",
   "execution_count": 4,
   "metadata": {
    "ExecuteTime": {
     "end_time": "2023-01-26T19:09:32.765095Z",
     "start_time": "2023-01-26T19:09:32.656669Z"
    }
   },
   "outputs": [
    {
     "data": {
      "image/png": "[encoded data removed]",
      "text/latex": [
       "$\\displaystyle \\left( \\frac{1}{24}, \\  0.0416666666666667\\right)$"
      ],
      "text/plain": [
       "(1/24, 0.0416666666666667)"
      ]
     },
     "execution_count": 4,
     "metadata": {},
     "output_type": "execute_result"
    }
   ],
   "source": [
    "res = integrate(x*y, (y, 1-x, 1-x**2))\n",
    "r = integrate(res, (x, 0, 1))\n",
    "r, r.evalf()"
   ]
  },
  {
   "cell_type": "code",
   "execution_count": 5,
   "metadata": {
    "ExecuteTime": {
     "end_time": "2023-01-26T19:09:32.822329Z",
     "start_time": "2023-01-26T19:09:32.766539Z"
    }
   },
   "outputs": [
    {
     "data": {
      "image/png": "[encoded data removed]",
      "text/latex": [
       "$\\displaystyle 0.0416666666666667$"
      ],
      "text/plain": [
       "0.04166666666666666"
      ]
     },
     "execution_count": 5,
     "metadata": {},
     "output_type": "execute_result"
    }
   ],
   "source": [
    "result, error = dblquad(lambda y , x: x*y,  0, 1, lambda x: 1-x, lambda x: 1-x**2)\n",
    "result"
   ]
  },
  {
   "cell_type": "markdown",
   "metadata": {},
   "source": [
    "<hr>\n",
    "$$\\int_{-2}^{2}\\int_{-2}^{2}100(y-x^2)^2 + (1-x)^2 dx dy$$"
   ]
  },
  {
   "cell_type": "code",
   "execution_count": 6,
   "metadata": {
    "ExecuteTime": {
     "end_time": "2023-01-26T19:09:32.939409Z",
     "start_time": "2023-01-26T19:09:32.823707Z"
    }
   },
   "outputs": [
    {
     "data": {
      "image/png": "[encoded data removed]",
      "text/latex": [
       "$\\displaystyle \\left( \\frac{1367}{3}, \\  455.666666666667\\right)$"
      ],
      "text/plain": [
       "(1367/3, 455.666666666667)"
      ]
     },
     "execution_count": 6,
     "metadata": {},
     "output_type": "execute_result"
    }
   ],
   "source": [
    "res = integrate(100*(y-x**2)**2+(1-x)**2, (y, -2, 2))\n",
    "r = integrate(res, (x, -2, 2))\n",
    "mean = r/16\n",
    "mean, mean.evalf()"
   ]
  },
  {
   "cell_type": "code",
   "execution_count": 7,
   "metadata": {
    "ExecuteTime": {
     "end_time": "2023-01-26T19:09:32.994493Z",
     "start_time": "2023-01-26T19:09:32.940792Z"
    }
   },
   "outputs": [
    {
     "data": {
      "image/png": "[encoded data removed]",
      "text/latex": [
       "$\\displaystyle 455.666666666667$"
      ],
      "text/plain": [
       "455.66666666666663"
      ]
     },
     "execution_count": 7,
     "metadata": {},
     "output_type": "execute_result"
    }
   ],
   "source": [
    "def f(a, b):\n",
    "    return 100*(b-a**2)**2+(1-a)**2\n",
    "\n",
    "result, error = dblquad(lambda b, a: f(a,b),  -2, 2, lambda b: -2, lambda b: 2)\n",
    "\n",
    "result/16"
   ]
  },
  {
   "cell_type": "code",
   "execution_count": 8,
   "metadata": {
    "ExecuteTime": {
     "end_time": "2023-01-26T19:09:33.062318Z",
     "start_time": "2023-01-26T19:09:32.995878Z"
    }
   },
   "outputs": [
    {
     "data": {
      "image/png": "[encoded data removed]",
      "text/latex": [
       "$\\displaystyle 3.33929164246997$"
      ],
      "text/plain": [
       "3.3392916424699677"
      ]
     },
     "execution_count": 8,
     "metadata": {},
     "output_type": "execute_result"
    }
   ],
   "source": [
    "def f(a):\n",
    "    return np.exp(-a)\n",
    "\n",
    "result, error = quad(f,  -3, 3)\n",
    "\n",
    "result/6.0"
   ]
  },
  {
   "cell_type": "code",
   "execution_count": 9,
   "metadata": {
    "ExecuteTime": {
     "end_time": "2023-01-26T19:09:33.168733Z",
     "start_time": "2023-01-26T19:09:33.064438Z"
    }
   },
   "outputs": [
    {
     "data": {
      "image/png": "[encoded data removed]",
      "text/latex": [
       "$\\displaystyle 3.33929164246997$"
      ],
      "text/plain": [
       "3.33929164246997"
      ]
     },
     "execution_count": 9,
     "metadata": {},
     "output_type": "execute_result"
    }
   ],
   "source": [
    "from sympy import exp\n",
    "integrate(exp(-x), (x, -3, 3)).evalf()/6.0"
   ]
  },
  {
   "cell_type": "code",
   "execution_count": 10,
   "metadata": {
    "ExecuteTime": {
     "end_time": "2023-01-26T19:09:34.051310Z",
     "start_time": "2023-01-26T19:09:33.170455Z"
    }
   },
   "outputs": [
    {
     "data": {
      "image/png": "[encoded data removed]",
      "text/plain": [
       "<Figure size 432x288 with 1 Axes>"
      ]
     },
     "metadata": {
      "needs_background": "light"
     },
     "output_type": "display_data"
    }
   ],
   "source": [
    "%matplotlib inline\n",
    "import sympy\n",
    "sympy.plot(exp(-x), (x, -3, 3));"
   ]
  },
  {
   "cell_type": "code",
   "execution_count": null,
   "metadata": {},
   "outputs": [],
   "source": []
  }
 ],
 "metadata": {
  "description": "An Example of Symbolic and Numerical Integration in the Notebook.",
  "kernelspec": {
   "display_name": "Python 3 (ipykernel)",
   "language": "python",
   "name": "python3"
  },
  "language_info": {
   "codemirror_mode": {
    "name": "ipython",
    "version": 3
   },
   "file_extension": ".py",
   "mimetype": "text/x-python",
   "name": "python",
   "nbconvert_exporter": "python",
   "pygments_lexer": "ipython3",
   "version": "3.8.10"
  },
  "toc": {
   "base_numbering": 1,
   "nav_menu": {},
   "number_sections": true,
   "sideBar": true,
   "skip_h1_title": false,
   "title_cell": "Table of Contents",
   "title_sidebar": "Contents",
   "toc_cell": false,
   "toc_position": {},
   "toc_section_display": true,
   "toc_window_display": false
  },
  "varInspector": {
   "cols": {
    "lenName": 16,
    "lenType": 16,
    "lenVar": 40
   },
   "kernels_config": {
    "python": {
     "delete_cmd_postfix": "",
     "delete_cmd_prefix": "del ",
     "library": "var_list.py",
     "varRefreshCmd": "print(var_dic_list())"
    },
    "r": {
     "delete_cmd_postfix": ") ",
     "delete_cmd_prefix": "rm(",
     "library": "var_list.r",
     "varRefreshCmd": "cat(var_dic_list()) "
    }
   },
   "types_to_exclude": [
    "module",
    "function",
    "builtin_function_or_method",
    "instance",
    "_Feature"
   ],
   "window_display": false
  }
 },
 "nbformat": 4,
 "nbformat_minor": 1
}
