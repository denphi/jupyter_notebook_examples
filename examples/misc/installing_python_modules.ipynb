{
 "cells": [
  {
   "cell_type": "markdown",
   "metadata": {},
   "source": [
    "# Installing Local Python Modules\n",
    "\n",
    "When a module is not available globally, you can request it be installed for everyone, or you can install it locally.\n",
    "\n",
    "* Install locally \n",
    "    * When you are only testing a module OR\n",
    "    * When a module is not likely to be of use to others OR\n",
    "    * When you need a newer version of a module than the globally-installed version\n",
    "\n",
    "* Otherwise, request it to be installed globally.\n",
    " \n",
    "\n",
    "## Publishing\n",
    "\n",
    "Tools with locally-installed modules can still be published.  You will have to publish your notebook plus all the installed modules and/or binaries.\n"
   ]
  },
  {
   "cell_type": "markdown",
   "metadata": {},
   "source": [
    "## Installation\n",
    "\n",
    "The first step is to be sure you are in a new folder (directory).  Your installation will be in \n",
    "**bin** and **lib** subdirectories."
   ]
  },
  {
   "cell_type": "code",
   "execution_count": null,
   "metadata": {},
   "outputs": [],
   "source": [
    "!pwd"
   ]
  },
  {
   "cell_type": "code",
   "execution_count": 2,
   "metadata": {},
   "outputs": [
    {
     "name": "stdout",
     "output_type": "stream",
     "text": [
      "installing_python_modules.ipynb\r\n"
     ]
    }
   ],
   "source": [
    "!ls"
   ]
  },
  {
   "cell_type": "markdown",
   "metadata": {},
   "source": [
    "## Installing Using Pip\n",
    "\n",
    "The preferred method is to use pip.  I recommend adding \"--upgrade-strategy only-if-needed\" to the command line to prevent a lot of unnecessary stuff from being installed.\n",
    "Set the prefix to \".\" to install in the local directory."
   ]
  },
  {
   "cell_type": "code",
   "execution_count": 3,
   "metadata": {},
   "outputs": [
    {
     "name": "stdout",
     "output_type": "stream",
     "text": [
      "Collecting wfdb\n",
      "Requirement not upgraded as not directly required: numpy>=1.11.0 in /apps/share64/debian7/anaconda/anaconda2-4.1/lib/python2.7/site-packages (from wfdb)\n",
      "Requirement not upgraded as not directly required: requests>=2.10.0 in /apps/share64/debian7/anaconda/anaconda2-4.1/lib/python2.7/site-packages (from wfdb)\n",
      "Requirement not upgraded as not directly required: pandas>=0.19.1 in /apps/share64/debian7/anaconda/anaconda2-4.1/lib/python2.7/site-packages (from wfdb)\n",
      "Requirement not upgraded as not directly required: matplotlib>=1.5.1 in /apps/share64/debian7/anaconda/anaconda2-4.1/lib/python2.7/site-packages (from wfdb)\n",
      "Requirement not upgraded as not directly required: nose>=1.3.7 in /apps/share64/debian7/anaconda/anaconda2-4.1/lib/python2.7/site-packages (from wfdb)\n",
      "Requirement not upgraded as not directly required: python-dateutil in /apps/share64/debian7/anaconda/anaconda2-4.1/lib/python2.7/site-packages (from pandas>=0.19.1->wfdb)\n",
      "Requirement not upgraded as not directly required: pytz>=2011k in /apps/share64/debian7/anaconda/anaconda2-4.1/lib/python2.7/site-packages (from pandas>=0.19.1->wfdb)\n",
      "Requirement not upgraded as not directly required: six>=1.10 in /apps/share64/debian7/anaconda/anaconda2-4.1/lib/python2.7/site-packages (from matplotlib>=1.5.1->wfdb)\n",
      "Requirement not upgraded as not directly required: functools32 in /apps/share64/debian7/anaconda/anaconda2-4.1/lib/python2.7/site-packages (from matplotlib>=1.5.1->wfdb)\n",
      "Requirement not upgraded as not directly required: subprocess32 in /apps/share64/debian7/anaconda/anaconda2-4.1/lib/python2.7/site-packages (from matplotlib>=1.5.1->wfdb)\n",
      "Requirement not upgraded as not directly required: cycler>=0.10 in /apps/share64/debian7/anaconda/anaconda2-4.1/lib/python2.7/site-packages (from matplotlib>=1.5.1->wfdb)\n",
      "Requirement not upgraded as not directly required: pyparsing!=2.0.4,!=2.1.2,!=2.1.6,>=1.5.6 in /apps/share64/debian7/anaconda/anaconda2-4.1/lib/python2.7/site-packages (from matplotlib>=1.5.1->wfdb)\n",
      "Installing collected packages: wfdb\n",
      "Successfully installed wfdb-1.1.1\n"
     ]
    }
   ],
   "source": [
    "!pip install wfdb --prefix=. --upgrade-strategy only-if-needed"
   ]
  },
  {
   "cell_type": "code",
   "execution_count": 5,
   "metadata": {
    "scrolled": true
   },
   "outputs": [
    {
     "name": "stdout",
     "output_type": "stream",
     "text": [
      ".:\n",
      "total 12\n",
      "-rw-r----- 1 mmh public 7517 Jun  6 14:42 installing_python_modules.ipynb\n",
      "drwxr-x--- 3 mmh public 4096 Jun  6 14:41 lib\n",
      "\n",
      "./lib:\n",
      "total 4\n",
      "drwxr-x--- 3 mmh public 4096 Jun  6 14:41 python2.7\n",
      "\n",
      "./lib/python2.7:\n",
      "total 4\n",
      "drwxr-x--- 4 mmh public 4096 Jun  6 14:41 site-packages\n",
      "\n",
      "./lib/python2.7/site-packages:\n",
      "total 8\n",
      "drwxr-x--- 4 mmh public 4096 Jun  6 14:41 wfdb\n",
      "drwxr-x--- 2 mmh public 4096 Jun  6 14:41 wfdb-1.1.1.dist-info\n",
      "\n",
      "./lib/python2.7/site-packages/wfdb:\n",
      "total 16\n",
      "-rw-r----- 1 mmh public  322 Jun  6 14:41 __init__.py\n",
      "-rw-r----- 1 mmh public  739 Jun  6 14:41 __init__.pyc\n",
      "drwxr-x--- 2 mmh public 4096 Jun  6 14:41 plot\n",
      "drwxr-x--- 2 mmh public 4096 Jun  6 14:41 readwrite\n",
      "\n",
      "./lib/python2.7/site-packages/wfdb/plot:\n",
      "total 32\n",
      "-rw-r----- 1 mmh public     0 Jun  6 14:41 __init__.py\n",
      "-rw-r----- 1 mmh public   135 Jun  6 14:41 __init__.pyc\n",
      "-rw-r----- 1 mmh public 12342 Jun  6 14:41 plots.py\n",
      "-rw-r----- 1 mmh public  9759 Jun  6 14:41 plots.pyc\n",
      "\n",
      "./lib/python2.7/site-packages/wfdb/readwrite:\n",
      "total 320\n",
      "-rw-r----- 1 mmh public     0 Jun  6 14:41 __init__.py\n",
      "-rw-r----- 1 mmh public   140 Jun  6 14:41 __init__.pyc\n",
      "-rw-r----- 1 mmh public 26358 Jun  6 14:41 _headers.py\n",
      "-rw-r----- 1 mmh public 15231 Jun  6 14:41 _headers.pyc\n",
      "-rw-r----- 1 mmh public 51512 Jun  6 14:41 _signals.py\n",
      "-rw-r----- 1 mmh public 30993 Jun  6 14:41 _signals.pyc\n",
      "-rw-r----- 1 mmh public 41394 Jun  6 14:41 annotations.py\n",
      "-rw-r----- 1 mmh public 26551 Jun  6 14:41 annotations.pyc\n",
      "-rw-r----- 1 mmh public  6974 Jun  6 14:41 downloads.py\n",
      "-rw-r----- 1 mmh public  5592 Jun  6 14:41 downloads.pyc\n",
      "-rw-r----- 1 mmh public 61212 Jun  6 14:41 records.py\n",
      "-rw-r----- 1 mmh public 40778 Jun  6 14:41 records.pyc\n",
      "\n",
      "./lib/python2.7/site-packages/wfdb-1.1.1.dist-info:\n",
      "total 68\n",
      "-rw-r----- 1 mmh public 22823 Jun  6 14:41 DESCRIPTION.rst\n",
      "-rw-r----- 1 mmh public     4 Jun  6 14:41 INSTALLER\n",
      "-rw-r----- 1 mmh public 23273 Jun  6 14:41 METADATA\n",
      "-rw-r----- 1 mmh public  1554 Jun  6 14:41 RECORD\n",
      "-rw-r----- 1 mmh public    93 Jun  6 14:41 WHEEL\n",
      "-rw-r----- 1 mmh public   637 Jun  6 14:41 metadata.json\n",
      "-rw-r----- 1 mmh public     5 Jun  6 14:41 top_level.txt\n"
     ]
    }
   ],
   "source": [
    "!ls -lR "
   ]
  },
  {
   "cell_type": "markdown",
   "metadata": {},
   "source": [
    "## Installing from Sources"
   ]
  },
  {
   "cell_type": "markdown",
   "metadata": {},
   "source": [
    "Lets copy soume sources from https://github.com/vossjo/ase-espresso\n",
    "\n",
    "Instead of using \"!\", we can use cell magic \"%%bash\" to indicate all the commands in a cell are for bash."
   ]
  },
  {
   "cell_type": "code",
   "execution_count": 6,
   "metadata": {
    "collapsed": true
   },
   "outputs": [
    {
     "name": "stdout",
     "output_type": "stream",
     "text": [
      "Cloning into 'ase-espresso'...\n",
      "-e \n",
      "\n",
      "Installing ase - espresso interface to directory\n",
      "..\n",
      "\n",
      "\n",
      "mkdir -p ../lib/python2.7/site-packages/espresso\n",
      "mkdir -p ../bin\n",
      "cp `ls *.py|sed 's/setup.py\\|__init__.py//'` espsite.py.example.* ../lib/python2.7/site-packages/espresso\n",
      "sed s/GITVERSION/5c31baa-git/g <__init__.py >../lib/python2.7/site-packages/espresso/__init__.py\n",
      "/apps/share64/debian7/anaconda/anaconda2-4.1/bin/python -m compileall ../lib/python2.7/site-packages/espresso\n",
      "Listing ../lib/python2.7/site-packages/espresso ...\n",
      "Compiling ../lib/python2.7/site-packages/espresso/__init__.py ...\n",
      "Compiling ../lib/python2.7/site-packages/espresso/atomic_configs.py ...\n",
      "Compiling ../lib/python2.7/site-packages/espresso/constants.py ...\n",
      "Compiling ../lib/python2.7/site-packages/espresso/espsite.py ...\n",
      "Compiling ../lib/python2.7/site-packages/espresso/multiespresso.py ...\n",
      "Compiling ../lib/python2.7/site-packages/espresso/subdirs.py ...\n",
      "Compiling ../lib/python2.7/site-packages/espresso/utils.py ...\n",
      "Compiling ../lib/python2.7/site-packages/espresso/vibespresso.py ...\n",
      "Compiling ../lib/python2.7/site-packages/espresso/worldstub.py ...\n",
      "cc -s -O2 -o ../lib/python2.7/site-packages/espresso/espfilter c-src/espfilter.c\n",
      "cc -s -O2 -o ../bin/cubecutperiodic c-src/cubecutperiodic.c\n",
      "echo \"#!/apps/share64/debian7/anaconda/anaconda2-4.1/bin/python\" >../bin/pwlog2trajectory\n",
      "tail -n +2 pwlog2trajectory >>../bin/pwlog2trajectory\n",
      "chmod 755 ../bin/pwlog2trajectory\n"
     ]
    }
   ],
   "source": [
    "%%bash\n",
    "git clone https://github.com/vossjo/ase-espresso\n",
    "cd ase-espresso\n",
    "# install in \"..\" because we are in the sources subdirectory\n",
    "python setup.py install --prefix=.."
   ]
  },
  {
   "cell_type": "code",
   "execution_count": 7,
   "metadata": {
    "scrolled": true
   },
   "outputs": [
    {
     "name": "stdout",
     "output_type": "stream",
     "text": [
      ".:\n",
      "total 20\n",
      "drwxr-x--- 4 mmh public 4096 Jun  6 14:43 ase-espresso\n",
      "drwxr-x--- 2 mmh public 4096 Jun  6 14:43 bin\n",
      "-rw-r----- 1 mmh public 7517 Jun  6 14:42 installing_python_modules.ipynb\n",
      "drwxr-x--- 3 mmh public 4096 Jun  6 14:41 lib\n",
      "\n",
      "./ase-espresso:\n",
      "total 256\n",
      "-rw-r----- 1 mmh public  35147 Jun  6 14:43 COPYING\n",
      "-rw-r----- 1 mmh public    880 Jun  6 14:43 Makefile\n",
      "-rw-r----- 1 mmh public    315 Jun  6 14:43 README.md\n",
      "-rw-r----- 1 mmh public 132459 Jun  6 14:43 __init__.py\n",
      "-rw-r----- 1 mmh public  18978 Jun  6 14:43 atomic_configs.py\n",
      "drwxr-x--- 2 mmh public   4096 Jun  6 14:43 c-src\n",
      "-rw-r----- 1 mmh public    485 Jun  6 14:43 constants.py\n",
      "-rw-r----- 1 mmh public    693 Jun  6 14:43 espsite.py\n",
      "-rw-r----- 1 mmh public   2641 Jun  6 14:43 espsite.py.example.PBSfifompich2\n",
      "-rw-r----- 1 mmh public   1776 Jun  6 14:43 espsite.py.example.PBSstdinopenmpi\n",
      "-rw-r----- 1 mmh public   2288 Jun  6 14:43 espsite.py.example.SLURMsherlock\n",
      "-rw-r----- 1 mmh public   2896 Jun  6 14:43 espsite.py.example.suncatfifo\n",
      "-rw-r----- 1 mmh public   2386 Jun  6 14:43 espsite.py.example.suncatstdin\n",
      "-rw-r----- 1 mmh public   3978 Jun  6 14:43 multiespresso.py\n",
      "-rwxr-x--- 1 mmh public   4086 Jun  6 14:43 pwlog2trajectory\n",
      "-rw-r----- 1 mmh public   1098 Jun  6 14:43 setup.py\n",
      "-rw-r----- 1 mmh public   2161 Jun  6 14:43 subdirs.py\n",
      "-rw-r----- 1 mmh public   3681 Jun  6 14:43 utils.py\n",
      "-rw-r----- 1 mmh public   2899 Jun  6 14:43 vibespresso.py\n",
      "-rw-r----- 1 mmh public    517 Jun  6 14:43 worldstub.py\n",
      "\n",
      "./ase-espresso/c-src:\n",
      "total 8\n",
      "-rw-r----- 1 mmh public 2516 Jun  6 14:43 cubecutperiodic.c\n",
      "-rw-r----- 1 mmh public 2260 Jun  6 14:43 espfilter.c\n",
      "\n",
      "./bin:\n",
      "total 16\n",
      "-rwxr-x--- 1 mmh public 6888 Jun  6 14:43 cubecutperiodic\n",
      "-rwxr-xr-x 1 mmh public 4122 Jun  6 14:43 pwlog2trajectory\n",
      "\n",
      "./lib:\n",
      "total 4\n",
      "drwxr-x--- 3 mmh public 4096 Jun  6 14:41 python2.7\n",
      "\n",
      "./lib/python2.7:\n",
      "total 4\n",
      "drwxr-x--- 5 mmh public 4096 Jun  6 14:43 site-packages\n",
      "\n",
      "./lib/python2.7/site-packages:\n",
      "total 12\n",
      "drwxr-x--- 2 mmh public 4096 Jun  6 14:43 espresso\n",
      "drwxr-x--- 4 mmh public 4096 Jun  6 14:41 wfdb\n",
      "drwxr-x--- 2 mmh public 4096 Jun  6 14:41 wfdb-1.1.1.dist-info\n",
      "\n",
      "./lib/python2.7/site-packages/espresso:\n",
      "total 364\n",
      "-rw-r----- 1 mmh public 132460 Jun  6 14:43 __init__.py\n",
      "-rw-r----- 1 mmh public 106514 Jun  6 14:43 __init__.pyc\n",
      "-rw-r----- 1 mmh public  18978 Jun  6 14:43 atomic_configs.py\n",
      "-rw-r----- 1 mmh public  17533 Jun  6 14:43 atomic_configs.pyc\n",
      "-rw-r----- 1 mmh public    485 Jun  6 14:43 constants.py\n",
      "-rw-r----- 1 mmh public    259 Jun  6 14:43 constants.pyc\n",
      "-rwxr-x--- 1 mmh public   6912 Jun  6 14:43 espfilter\n",
      "-rw-r----- 1 mmh public    693 Jun  6 14:43 espsite.py\n",
      "-rw-r----- 1 mmh public   2641 Jun  6 14:43 espsite.py.example.PBSfifompich2\n",
      "-rw-r----- 1 mmh public   1776 Jun  6 14:43 espsite.py.example.PBSstdinopenmpi\n",
      "-rw-r----- 1 mmh public   2288 Jun  6 14:43 espsite.py.example.SLURMsherlock\n",
      "-rw-r----- 1 mmh public   2896 Jun  6 14:43 espsite.py.example.suncatfifo\n",
      "-rw-r----- 1 mmh public   2386 Jun  6 14:43 espsite.py.example.suncatstdin\n",
      "-rw-r----- 1 mmh public   1479 Jun  6 14:43 espsite.pyc\n",
      "-rw-r----- 1 mmh public   3978 Jun  6 14:43 multiespresso.py\n",
      "-rw-r----- 1 mmh public   3975 Jun  6 14:43 multiespresso.pyc\n",
      "-rw-r----- 1 mmh public   2161 Jun  6 14:43 subdirs.py\n",
      "-rw-r----- 1 mmh public   2281 Jun  6 14:43 subdirs.pyc\n",
      "-rw-r----- 1 mmh public   3681 Jun  6 14:43 utils.py\n",
      "-rw-r----- 1 mmh public   2924 Jun  6 14:43 utils.pyc\n",
      "-rw-r----- 1 mmh public   2899 Jun  6 14:43 vibespresso.py\n",
      "-rw-r----- 1 mmh public   3274 Jun  6 14:43 vibespresso.pyc\n",
      "-rw-r----- 1 mmh public    517 Jun  6 14:43 worldstub.py\n",
      "-rw-r----- 1 mmh public    513 Jun  6 14:43 worldstub.pyc\n",
      "\n",
      "./lib/python2.7/site-packages/wfdb:\n",
      "total 16\n",
      "-rw-r----- 1 mmh public  322 Jun  6 14:41 __init__.py\n",
      "-rw-r----- 1 mmh public  739 Jun  6 14:41 __init__.pyc\n",
      "drwxr-x--- 2 mmh public 4096 Jun  6 14:41 plot\n",
      "drwxr-x--- 2 mmh public 4096 Jun  6 14:41 readwrite\n",
      "\n",
      "./lib/python2.7/site-packages/wfdb/plot:\n",
      "total 32\n",
      "-rw-r----- 1 mmh public     0 Jun  6 14:41 __init__.py\n",
      "-rw-r----- 1 mmh public   135 Jun  6 14:41 __init__.pyc\n",
      "-rw-r----- 1 mmh public 12342 Jun  6 14:41 plots.py\n",
      "-rw-r----- 1 mmh public  9759 Jun  6 14:41 plots.pyc\n",
      "\n",
      "./lib/python2.7/site-packages/wfdb/readwrite:\n",
      "total 320\n",
      "-rw-r----- 1 mmh public     0 Jun  6 14:41 __init__.py\n",
      "-rw-r----- 1 mmh public   140 Jun  6 14:41 __init__.pyc\n",
      "-rw-r----- 1 mmh public 26358 Jun  6 14:41 _headers.py\n",
      "-rw-r----- 1 mmh public 15231 Jun  6 14:41 _headers.pyc\n",
      "-rw-r----- 1 mmh public 51512 Jun  6 14:41 _signals.py\n",
      "-rw-r----- 1 mmh public 30993 Jun  6 14:41 _signals.pyc\n",
      "-rw-r----- 1 mmh public 41394 Jun  6 14:41 annotations.py\n",
      "-rw-r----- 1 mmh public 26551 Jun  6 14:41 annotations.pyc\n",
      "-rw-r----- 1 mmh public  6974 Jun  6 14:41 downloads.py\n",
      "-rw-r----- 1 mmh public  5592 Jun  6 14:41 downloads.pyc\n",
      "-rw-r----- 1 mmh public 61212 Jun  6 14:41 records.py\n",
      "-rw-r----- 1 mmh public 40778 Jun  6 14:41 records.pyc\n",
      "\n",
      "./lib/python2.7/site-packages/wfdb-1.1.1.dist-info:\n",
      "total 68\n",
      "-rw-r----- 1 mmh public 22823 Jun  6 14:41 DESCRIPTION.rst\n",
      "-rw-r----- 1 mmh public     4 Jun  6 14:41 INSTALLER\n",
      "-rw-r----- 1 mmh public 23273 Jun  6 14:41 METADATA\n",
      "-rw-r----- 1 mmh public  1554 Jun  6 14:41 RECORD\n",
      "-rw-r----- 1 mmh public    93 Jun  6 14:41 WHEEL\n",
      "-rw-r----- 1 mmh public   637 Jun  6 14:41 metadata.json\n",
      "-rw-r----- 1 mmh public     5 Jun  6 14:41 top_level.txt\n"
     ]
    }
   ],
   "source": [
    "!ls -lR"
   ]
  },
  {
   "cell_type": "markdown",
   "metadata": {},
   "source": [
    "## Setting Paths\n",
    "\n",
    "You have your modules in the local directory.  Now you must tell your code to look there.  To do this, put the next two lines in every notebook."
   ]
  },
  {
   "cell_type": "code",
   "execution_count": 8,
   "metadata": {
    "collapsed": true
   },
   "outputs": [],
   "source": [
    "import os,sys\n",
    "sys.path.insert(0, os.path.abspath('lib/python2.7/site-packages'))"
   ]
  },
  {
   "cell_type": "markdown",
   "metadata": {},
   "source": [
    "## Testing\n",
    "\n",
    "Finally we test the module loading.  We will be extra careful and check that the full path the modules are loaded from."
   ]
  },
  {
   "cell_type": "code",
   "execution_count": 9,
   "metadata": {},
   "outputs": [],
   "source": [
    "import wfdb"
   ]
  },
  {
   "cell_type": "code",
   "execution_count": 10,
   "metadata": {},
   "outputs": [
    {
     "data": {
      "text/plain": [
       "['/home/nanohub/mmh/notebooks/qe/lib/python2.7/site-packages/wfdb']"
      ]
     },
     "execution_count": 10,
     "metadata": {},
     "output_type": "execute_result"
    }
   ],
   "source": [
    "wfdb.__path__"
   ]
  },
  {
   "cell_type": "code",
   "execution_count": 14,
   "metadata": {
    "collapsed": true
   },
   "outputs": [],
   "source": [
    "import espresso"
   ]
  },
  {
   "cell_type": "code",
   "execution_count": 16,
   "metadata": {},
   "outputs": [
    {
     "data": {
      "text/plain": [
       "['/home/nanohub/mmh/notebooks/qe/lib/python2.7/site-packages/espresso']"
      ]
     },
     "execution_count": 16,
     "metadata": {},
     "output_type": "execute_result"
    }
   ],
   "source": [
    "espresso.__path__"
   ]
  },
  {
   "cell_type": "code",
   "execution_count": null,
   "metadata": {
    "collapsed": true
   },
   "outputs": [],
   "source": []
  }
 ],
 "metadata": {
  "kernelspec": {
   "display_name": "Python2",
   "language": "python",
   "name": "python2"
  },
  "language_info": {
   "codemirror_mode": {
    "name": "ipython",
    "version": 2
   },
   "file_extension": ".py",
   "mimetype": "text/x-python",
   "name": "python",
   "nbconvert_exporter": "python",
   "pygments_lexer": "ipython2",
   "version": "2.7.13"
  }
 },
 "nbformat": 4,
 "nbformat_minor": 2
}
