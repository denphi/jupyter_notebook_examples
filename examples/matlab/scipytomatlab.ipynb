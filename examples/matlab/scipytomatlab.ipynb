{
 "cells": [
  {
   "cell_type": "code",
   "execution_count": 2,
   "id": "378715aa",
   "metadata": {
    "ExecuteTime": {
     "end_time": "2023-02-14T16:58:23.529499Z",
     "start_time": "2023-02-14T16:58:23.496471Z"
    }
   },
   "outputs": [],
   "source": [
    "import numpy as np\n",
    "from scipy.stats import multivariate_normal\n",
    "import scipy.io as  sio\n",
    "x, y = np.mgrid[-1.0:1.0:30j, -1.0:1.0:30j]\n",
    "xy = np.column_stack([x.flat, y.flat])\n",
    "\n",
    "mu = np.array([0.0, 0.0])\n",
    "\n",
    "sigma = np.array([.025, .025])\n",
    "covariance = np.diag(sigma**2)\n",
    "\n",
    "z = multivariate_normal.pdf(xy, mean=mu, cov=covariance)\n",
    "\n",
    "# Reshape back to a (30, 30) grid.\n",
    "z = z.reshape(x.shape)\n",
    "\n",
    "sio.savemat('mymesh.mat', {'mymesh':z})"
   ]
  },
  {
   "cell_type": "code",
   "execution_count": null,
   "id": "be2ffa8f",
   "metadata": {},
   "outputs": [],
   "source": []
  }
 ],
 "metadata": {
  "kernelspec": {
   "display_name": "Python 3 (ipykernel)",
   "language": "python",
   "name": "python3"
  },
  "language_info": {
   "codemirror_mode": {
    "name": "ipython",
    "version": 3
   },
   "file_extension": ".py",
   "mimetype": "text/x-python",
   "name": "python",
   "nbconvert_exporter": "python",
   "pygments_lexer": "ipython3",
   "version": "3.8.10"
  },
  "toc": {
   "base_numbering": 1,
   "nav_menu": {},
   "number_sections": true,
   "sideBar": true,
   "skip_h1_title": false,
   "title_cell": "Table of Contents",
   "title_sidebar": "Contents",
   "toc_cell": false,
   "toc_position": {},
   "toc_section_display": true,
   "toc_window_display": false
  },
  "varInspector": {
   "cols": {
    "lenName": 16,
    "lenType": 16,
    "lenVar": 40
   },
   "kernels_config": {
    "python": {
     "delete_cmd_postfix": "",
     "delete_cmd_prefix": "del ",
     "library": "var_list.py",
     "varRefreshCmd": "print(var_dic_list())"
    },
    "r": {
     "delete_cmd_postfix": ") ",
     "delete_cmd_prefix": "rm(",
     "library": "var_list.r",
     "varRefreshCmd": "cat(var_dic_list()) "
    }
   },
   "types_to_exclude": [
    "module",
    "function",
    "builtin_function_or_method",
    "instance",
    "_Feature"
   ],
   "window_display": false
  }
 },
 "nbformat": 4,
 "nbformat_minor": 5
}
