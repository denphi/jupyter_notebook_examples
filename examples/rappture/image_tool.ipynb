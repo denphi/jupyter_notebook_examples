{
 "cells": [
  {
   "cell_type": "markdown",
   "metadata": {},
   "source": [
    "# Putting a New GUI on a Rappture Tool\n",
    "\n",
    "A trivial example of using the hublib UI to set the inputs for the image demo from the Rappture zoo of examples.\n",
    "\n",
    "Choose an image file and a rotation and click 'Run'.\n",
    "\n",
    "If this is not running as a tool (you see code cells), open a terminal, cd to DOCS_AND_EXAMPLES/examples/rappture and do the following::\n",
    "    \n",
    "    jupyter_tool.py -t image_tool.ipynb      \n",
    "    jupyter-trust image_tool.ipynb\n",
    "\n",
    "Now shutdown any running instances of this notebook and rerun it.\n",
    "\n",
    "<hr>"
   ]
  },
  {
   "cell_type": "code",
   "execution_count": 1,
   "metadata": {
    "collapsed": false
   },
   "outputs": [],
   "source": [
    "import hublib.rappture as rappture\n",
    "import hublib.ui as ui\n",
    "import hublib.tool\n",
    "from IPython.core.display import HTML"
   ]
  },
  {
   "cell_type": "code",
   "execution_count": 2,
   "metadata": {
    "collapsed": false
   },
   "outputs": [],
   "source": [
    "io = rappture.Tool(\"image/tool.xml\")"
   ]
  },
  {
   "cell_type": "code",
   "execution_count": 3,
   "metadata": {
    "collapsed": false
   },
   "outputs": [],
   "source": [
    "image = ui.FileUpload('Image', 'Upload an image file.')\n",
    "angle = ui.Number('Angle', 90, desc='Angle to Rotate', units='degrees')\n",
    "ui.Form([image, angle], width='50%')"
   ]
  },
  {
   "cell_type": "code",
   "execution_count": 4,
   "metadata": {
    "collapsed": false
   },
   "outputs": [
    {
     "data": {
      "text/html": [
       "<button name=\"Run,Running\" class=\"continue_button\" onclick=\"IPython.wait_button_clicked()\">Run</button>"
      ],
      "text/plain": [
       "<IPython.core.display.HTML object>"
      ]
     },
     "metadata": {},
     "output_type": "display_data"
    }
   ],
   "source": [
    "%wait"
   ]
  },
  {
   "cell_type": "code",
   "execution_count": null,
   "metadata": {
    "collapsed": true
   },
   "outputs": [],
   "source": [
    "io['input.number(angle).current'] = angle.value"
   ]
  },
  {
   "cell_type": "code",
   "execution_count": null,
   "metadata": {
    "collapsed": false
   },
   "outputs": [],
   "source": [
    "io['input.image.current'] = image.data\n",
    "io['input.image.current'].value"
   ]
  },
  {
   "cell_type": "code",
   "execution_count": null,
   "metadata": {
    "collapsed": false
   },
   "outputs": [],
   "source": [
    "# run the tool\n",
    "io.run()"
   ]
  },
  {
   "cell_type": "code",
   "execution_count": null,
   "metadata": {
    "collapsed": false
   },
   "outputs": [],
   "source": [
    "HTML(\"<h1>Your image rotated counterclockwise %f degrees:</h1>\" % angle.value)"
   ]
  },
  {
   "cell_type": "code",
   "execution_count": null,
   "metadata": {
    "collapsed": false,
    "scrolled": true
   },
   "outputs": [],
   "source": [
    "io['output.image(outi)'].value"
   ]
  },
  {
   "cell_type": "code",
   "execution_count": null,
   "metadata": {
    "collapsed": false
   },
   "outputs": [],
   "source": [
    "%waitdone"
   ]
  }
 ],
 "metadata": {
  "kernelspec": {
   "display_name": "Python2",
   "language": "python",
   "name": "python2"
  },
  "language_info": {
   "codemirror_mode": {
    "name": "ipython",
    "version": 2
   },
   "file_extension": ".py",
   "mimetype": "text/x-python",
   "name": "python",
   "nbconvert_exporter": "python",
   "pygments_lexer": "ipython2",
   "version": "2.7.13"
  },
  "tool": false
 },
 "nbformat": 4,
 "nbformat_minor": 1
}
