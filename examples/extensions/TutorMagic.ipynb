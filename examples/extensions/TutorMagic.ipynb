{
 "cells": [
  {
   "cell_type": "markdown",
   "metadata": {},
   "source": [
    "This is a demonstration of [tutormagic](https://github.com/kikocorreoso/tutormagic) which is a notebook extension that utilites [pythontutor](http://www.pythontutor.com/).  Despite the name, many different langiuages are supported.\n",
    "\n",
    "Note that this extension doesn't interact with the notebook environment.  You cannot send the tutor cells variables or get any type of return value from them.\n",
    "\n",
    "You must first load the extension."
   ]
  },
  {
   "cell_type": "code",
   "execution_count": 1,
   "metadata": {
    "collapsed": true
   },
   "outputs": [],
   "source": [
    "%load_ext tutormagic"
   ]
  },
  {
   "cell_type": "markdown",
   "metadata": {},
   "source": [
    "## Options\n",
    "\n",
    "The available options are --lang (or -l), --height (or -h) and --tab (or -t):\n",
    "\n",
    "The --lang or -l option allows you to choose one of the available languages supported by pythontutor. It this option is set then it will consider the code in the cell as Python3 code.\n",
    "\n",
    " * **%%tutor --lang python3** or **%%tutor -l python3** or **%%tutor** to show a pythontutor IFrame with python3 code.\n",
    " * **%%tutor --lang python2** or **%%tutor -l python2** to show a pythontutor IFrame with python2 code.\n",
    " * **%%tutor --lang java** or **%%tutor -l java** to show a pythontutor IFrame with java code.\n",
    " * **%%tutor --lang javascript** or **%%tutor -l javascript** to show a pythontutor IFrame with javascript code.\n",
    " * **%%tutor --lang typescript** or **%%tutor -l typescript** to show a pythontutor IFrame with typescript code.\n",
    " * **%%tutor --lang ruby** or **%%tutor -l ruby** to show a pythontutor IFrame with ruby code.\n",
    " * **%%tutor --lang c** or **%%tutor -l c** to show a pythontutor IFrame with c code.\n",
    " * **%%tutor --lang c++** or **%%tutor -l c++** to show a pythontutor IFrame with c++ code.\n",
    "\n",
    "The --height or -h is used to define the height of the IFrame used to embed http://pythontutor.com within the notebook. If the --tab option is used this option will be ignored.\n",
    "\n",
    "The --tab or -t option will open http://pythontutor.com in a new tab instead of within an IFrame within the notebook."
   ]
  },
  {
   "cell_type": "code",
   "execution_count": 2,
   "metadata": {
    "collapsed": false
   },
   "outputs": [
    {
     "data": {
      "text/html": [
       "\n",
       "        <iframe\n",
       "            width=\"100%\"\n",
       "            height=\"350\"\n",
       "            src=\"http://pythontutor.com/iframe-embed.html#code=a%20%3D%201%0Ab%20%3D%202%0A%0Adef%20add%28x%2C%20y%29%3A%0A%20%20%20%20return%20x%20%2B%20y%0A%0Ac%20%3D%20add%28a%2C%20b%29%0Aprint%28c%29&origin=opt-frontend.js&cumulative=false&heapPrimitives=false&textReferences=false&py=3&rawInputLstJSON=%5B%5D&curInstr=0&codeDivWidth=50%25&codeDivHeight=100%25\"\n",
       "            frameborder=\"0\"\n",
       "            allowfullscreen\n",
       "        ></iframe>\n",
       "        "
      ],
      "text/plain": [
       "<IPython.lib.display.IFrame at 0x7ff82c71b490>"
      ]
     },
     "metadata": {},
     "output_type": "display_data"
    }
   ],
   "source": [
    "%%tutor\n",
    "a = 1\n",
    "b = 2\n",
    "\n",
    "def add(x, y):\n",
    "    return x + y\n",
    "\n",
    "c = add(a, b)\n",
    "print(c)"
   ]
  },
  {
   "cell_type": "markdown",
   "metadata": {},
   "source": [
    "This will open a new browser tab."
   ]
  },
  {
   "cell_type": "code",
   "execution_count": 3,
   "metadata": {
    "collapsed": false
   },
   "outputs": [],
   "source": [
    "%%tutor -t\n",
    "# Calculating square roots by Newton's method, inspired by SICP\n",
    "#   http://mitpress.mit.edu/sicp/full-text/book/book-Z-H-10.html#%_sec_1.1.7\n",
    "\n",
    "def sqrt(x):\n",
    "    def average(a, b):\n",
    "        return (a + b) / 2.0\n",
    "\n",
    "    def is_good_enough(guess):\n",
    "        return (abs((guess * guess) - x) < 0.001)\n",
    "\n",
    "    def improve(guess):\n",
    "        return average(guess, x / guess)\n",
    "\n",
    "    def sqrt_iter(guess):\n",
    "        if is_good_enough(guess):\n",
    "            return guess\n",
    "        else:\n",
    "            return sqrt_iter(improve(guess))\n",
    "\n",
    "    return sqrt_iter(1.0)\n",
    "\n",
    "\n",
    "ans = sqrt(9)"
   ]
  },
  {
   "cell_type": "markdown",
   "metadata": {},
   "source": [
    "This function is long and requires us to set the height of the output cell."
   ]
  },
  {
   "cell_type": "code",
   "execution_count": 4,
   "metadata": {
    "collapsed": false
   },
   "outputs": [
    {
     "data": {
      "text/html": [
       "\n",
       "        <iframe\n",
       "            width=\"100%\"\n",
       "            height=\"600\"\n",
       "            src=\"http://pythontutor.com/iframe-embed.html#code=%23%20Calculating%20square%20roots%20by%20Newton%27s%20method%2C%20inspired%20by%20SICP%0A%23%20%20%20http%3A//mitpress.mit.edu/sicp/full-text/book/book-Z-H-10.html%23%25_sec_1.1.7%0A%0Adef%20sqrt%28x%29%3A%0A%20%20%20%20def%20average%28a%2C%20b%29%3A%0A%20%20%20%20%20%20%20%20return%20%28a%20%2B%20b%29%20/%202.0%0A%0A%20%20%20%20def%20is_good_enough%28guess%29%3A%0A%20%20%20%20%20%20%20%20return%20%28abs%28%28guess%20%2A%20guess%29%20-%20x%29%20%3C%200.001%29%0A%0A%20%20%20%20def%20improve%28guess%29%3A%0A%20%20%20%20%20%20%20%20return%20average%28guess%2C%20x%20/%20guess%29%0A%0A%20%20%20%20def%20sqrt_iter%28guess%29%3A%0A%20%20%20%20%20%20%20%20if%20is_good_enough%28guess%29%3A%0A%20%20%20%20%20%20%20%20%20%20%20%20return%20guess%0A%20%20%20%20%20%20%20%20else%3A%0A%20%20%20%20%20%20%20%20%20%20%20%20return%20sqrt_iter%28improve%28guess%29%29%0A%0A%20%20%20%20return%20sqrt_iter%281.0%29%0A%0A%0Aans%20%3D%20sqrt%289%29&origin=opt-frontend.js&cumulative=false&heapPrimitives=false&textReferences=false&py=3&rawInputLstJSON=%5B%5D&curInstr=0&codeDivWidth=50%25&codeDivHeight=100%25\"\n",
       "            frameborder=\"0\"\n",
       "            allowfullscreen\n",
       "        ></iframe>\n",
       "        "
      ],
      "text/plain": [
       "<IPython.lib.display.IFrame at 0x7ff82c6bf290>"
      ]
     },
     "metadata": {},
     "output_type": "display_data"
    }
   ],
   "source": [
    "%%tutor -h 600\n",
    "# Calculating square roots by Newton's method, inspired by SICP\n",
    "#   http://mitpress.mit.edu/sicp/full-text/book/book-Z-H-10.html#%_sec_1.1.7\n",
    "\n",
    "def sqrt(x):\n",
    "    def average(a, b):\n",
    "        return (a + b) / 2.0\n",
    "\n",
    "    def is_good_enough(guess):\n",
    "        return (abs((guess * guess) - x) < 0.001)\n",
    "\n",
    "    def improve(guess):\n",
    "        return average(guess, x / guess)\n",
    "\n",
    "    def sqrt_iter(guess):\n",
    "        if is_good_enough(guess):\n",
    "            return guess\n",
    "        else:\n",
    "            return sqrt_iter(improve(guess))\n",
    "\n",
    "    return sqrt_iter(1.0)\n",
    "\n",
    "\n",
    "ans = sqrt(9)"
   ]
  },
  {
   "cell_type": "markdown",
   "metadata": {},
   "source": [
    "A C++ example, just to prove it works."
   ]
  },
  {
   "cell_type": "code",
   "execution_count": 5,
   "metadata": {
    "collapsed": false
   },
   "outputs": [
    {
     "data": {
      "text/html": [
       "\n",
       "        <iframe\n",
       "            width=\"100%\"\n",
       "            height=\"600\"\n",
       "            src=\"http://pythontutor.com/iframe-embed.html#code=//%20Example%20C%2B%2B%20code%20for%20OPT%0A//%20From%3A%20http%3A//www.inference.phy.cam.ac.uk/teaching/comput/C%2B%2B/examples/SortReference2.shtml%0A%0A//%20SortReference2.cc%0A//%20Program%20to%20sort%20two%20numbers%20using%20call%20by%20reference.%20%0A//%20Smallest%20number%20is%20output%20first.%0A%0A%23include%20%3Ciostream%3E%0Ausing%20namespace%20std%3B%0A%0A//%20Function%20prototype%20for%20call%20by%20reference%20using%20pointers%0A//%20see%20http%3A//www-h.eng.cam.ac.uk/help/tpl/languages/C%2B%2B/argsC%2B%2B.html%0A//%20for%20further%20advice.%0Avoid%20swap%28float%20%26x%2C%20float%20%26y%29%3B%0Avoid%20swap2%28float%20%2Apx%2C%20float%20%2Apy%29%3B%0Avoid%20swap2b%28float%20%2Apx%2C%20float%20%2Apy%29%3B%0A%0Aint%20main%28%29%0A%7B%0A%20%20%20float%20a%2C%20b%3B%0A%0A%20%20%20a%20%3D%202.71%3B%0A%20%20%20b%20%3D%203.14%3B%0A%20%20%20%0A%20%20%20swap%28a%2C%20b%29%3B%0A%20%20%20swap2%28%26a%2C%20%26b%29%3B%0A%20%20%20swap2b%28%26a%2C%20%26b%29%3B%0A%0A%20%20%20return%200%3B%0A%7D%0A%0A//%20A%20function%20definition%20for%20call%20by%20reference%0A//%20The%20variables%20x%20and%20y%20will%20have%20their%20values%20changed.%0A%0Avoid%20swap%28float%20%26x%2C%20float%20%26y%29%0A//%20Swaps%20x%20and%20y%20data%20of%20calling%20function%0A%7B%0A%20%20%20float%20temp%3B%0A%0A%20%20%20temp%20%3D%20x%3B%0A%20%20%20x%20%3D%20y%3B%0A%20%20%20y%20%3D%20temp%3B%0A%7D%0A%0Avoid%20swap2%28float%20%2Apx%2C%20float%20%2Apy%29%20//%20Here%20the%20arguments%20are%20pointers%0A//%20Swaps%20x%20and%20y%20data%20of%20calling%20function%0A%7B%0A%20%20%20float%20temp%3B%0A%0A%20%20%20temp%20%3D%20%2Apx%3B%20%20//%20to%20find%20the%20value%20associated%20with%20the%20pointer%20px%2C%20use%20%2Apx%0A%20%20%20%2Apx%20%3D%20%2Apy%3B%0A%20%20%20%2Apy%20%3D%20temp%3B%0A%7D%0A%0Avoid%20swap2b%28float%20%2Apx%2C%20float%20%2Apy%29%0A//%20Swaps%20x%20and%20y%20data%20of%20calling%20function%0A%7B%0A%20%20%20float%20temp%3B%0A%0A%20%20%20temp%20%3D%20px%5B0%5D%3B%20%20//%20A%20synonym%20for%20%2Apx%20is%20px%5B0%5D%0A%20%20%20px%5B0%5D%20%3D%20py%5B0%5D%3B%0A%20%20%20py%5B0%5D%20%3D%20temp%3B%0A%7D&origin=opt-frontend.js&cumulative=false&heapPrimitives=false&textReferences=false&py=cpp&rawInputLstJSON=%5B%5D&curInstr=0&codeDivWidth=50%25&codeDivHeight=100%25\"\n",
       "            frameborder=\"0\"\n",
       "            allowfullscreen\n",
       "        ></iframe>\n",
       "        "
      ],
      "text/plain": [
       "<IPython.lib.display.IFrame at 0x7ff82c6bf250>"
      ]
     },
     "metadata": {},
     "output_type": "display_data"
    }
   ],
   "source": [
    "%%tutor -h 600 --lang c++\n",
    "// Example C++ code for OPT\n",
    "// From: http://www.inference.phy.cam.ac.uk/teaching/comput/C++/examples/SortReference2.shtml\n",
    "\n",
    "// SortReference2.cc\n",
    "// Program to sort two numbers using call by reference. \n",
    "// Smallest number is output first.\n",
    "\n",
    "#include <iostream>\n",
    "using namespace std;\n",
    "\n",
    "// Function prototype for call by reference using pointers\n",
    "// see http://www-h.eng.cam.ac.uk/help/tpl/languages/C++/argsC++.html\n",
    "// for further advice.\n",
    "void swap(float &x, float &y);\n",
    "void swap2(float *px, float *py);\n",
    "void swap2b(float *px, float *py);\n",
    "\n",
    "int main()\n",
    "{\n",
    "   float a, b;\n",
    "\n",
    "   a = 2.71;\n",
    "   b = 3.14;\n",
    "   \n",
    "   swap(a, b);\n",
    "   swap2(&a, &b);\n",
    "   swap2b(&a, &b);\n",
    "\n",
    "   return 0;\n",
    "}\n",
    "\n",
    "// A function definition for call by reference\n",
    "// The variables x and y will have their values changed.\n",
    "\n",
    "void swap(float &x, float &y)\n",
    "// Swaps x and y data of calling function\n",
    "{\n",
    "   float temp;\n",
    "\n",
    "   temp = x;\n",
    "   x = y;\n",
    "   y = temp;\n",
    "}\n",
    "\n",
    "void swap2(float *px, float *py) // Here the arguments are pointers\n",
    "// Swaps x and y data of calling function\n",
    "{\n",
    "   float temp;\n",
    "\n",
    "   temp = *px;  // to find the value associated with the pointer px, use *px\n",
    "   *px = *py;\n",
    "   *py = temp;\n",
    "}\n",
    "\n",
    "void swap2b(float *px, float *py)\n",
    "// Swaps x and y data of calling function\n",
    "{\n",
    "   float temp;\n",
    "\n",
    "   temp = px[0];  // A synonym for *px is px[0]\n",
    "   px[0] = py[0];\n",
    "   py[0] = temp;\n",
    "}"
   ]
  }
 ],
 "metadata": {
  "kernelspec": {
   "display_name": "Python2",
   "language": "python",
   "name": "python2"
  },
  "language_info": {
   "codemirror_mode": {
    "name": "ipython",
    "version": 2
   },
   "file_extension": ".py",
   "mimetype": "text/x-python",
   "name": "python",
   "nbconvert_exporter": "python",
   "pygments_lexer": "ipython2",
   "version": "2.7.13"
  }
 },
 "nbformat": 4,
 "nbformat_minor": 2
}
