{
 "cells": [
  {
   "cell_type": "markdown",
   "metadata": {},
   "source": [
    "# Plotly\n",
    "\n",
    "Plotly provides online graphing, analytics, and statistics tools for individuals and collaboration, as well as scientific graphing libraries for Python, R, MATLAB, Perl, Julia, Arduino, and REST.\n",
    "\n",
    "We will use the Python API for this notebook. \n",
    "https://plot.ly/python/ipython-notebook-tutorial/\n",
    "\n",
    "Plots below mostly come from the above link."
   ]
  },
  {
   "cell_type": "code",
   "execution_count": null,
   "metadata": {
    "ExecuteTime": {
     "end_time": "2023-02-24T14:54:02.619781Z",
     "start_time": "2023-02-24T14:54:02.140418Z"
    }
   },
   "outputs": [],
   "source": [
    "import plotly\n",
    "import plotly.graph_objs as go\n",
    "import numpy as np\n",
    "\n",
    "# The old way to use plotly in Jupyter is to use iplot\n",
    "# either online (if you have an account) or offline\n",
    "from plotly.offline import iplot\n",
    "plotly.offline.init_notebook_mode(connected=True)\n",
    "\n",
    "N = 500\n",
    "random_x = np.linspace(0, 1, N)\n",
    "random_y = np.random.randn(N)\n",
    "\n",
    "# Create a trace\n",
    "trace = go.Scatter(\n",
    "    x = random_x,\n",
    "    y = random_y\n",
    ")\n",
    "\n",
    "data = [trace]\n",
    "\n",
    "iplot(data)"
   ]
  },
  {
   "cell_type": "code",
   "execution_count": null,
   "metadata": {
    "ExecuteTime": {
     "end_time": "2023-02-24T14:54:02.887597Z",
     "start_time": "2023-02-24T14:54:02.792533Z"
    }
   },
   "outputs": [],
   "source": [
    "# The new way to use plotly is to use FigureWidget()\n",
    "# FigureWidgets work like other Jupyter widgets.\n",
    "\n",
    "data = [go.Bar(x=['A', 'B', 'C'],\n",
    "            y=[2,4,6])]\n",
    "\n",
    "go.FigureWidget(data)"
   ]
  },
  {
   "cell_type": "code",
   "execution_count": null,
   "metadata": {
    "ExecuteTime": {
     "end_time": "2023-02-24T14:54:03.414033Z",
     "start_time": "2023-02-24T14:54:03.370396Z"
    }
   },
   "outputs": [],
   "source": [
    "fig1 = go.FigureWidget()\n",
    "fig1.add_contour(\n",
    "    z=[[10, 10.625, 12.5, 15.625, 20],\n",
    "        [5.625, 6.25, 8.125, 11.25, 15.625],\n",
    "        [2.5, 3.125, 5., 8.125, 12.5],\n",
    "        [0.625, 1.25, 3.125, 6.25, 10.625],\n",
    "        [0, 0.625, 2.5, 5.625, 10]]\n",
    "    )\n",
    "fig1"
   ]
  },
  {
   "cell_type": "code",
   "execution_count": null,
   "metadata": {
    "ExecuteTime": {
     "end_time": "2023-02-24T14:54:04.773529Z",
     "start_time": "2023-02-24T14:54:04.072325Z"
    }
   },
   "outputs": [],
   "source": [
    "s = np.linspace(0, 2 * np.pi, 240)\n",
    "t = np.linspace(0, np.pi, 240)\n",
    "tGrid, sGrid = np.meshgrid(s, t)\n",
    "\n",
    "r = 2 + np.sin(7 * sGrid + 5 * tGrid)  # r = 2 + sin(7s+5t)\n",
    "x = r * np.cos(sGrid) * np.sin(tGrid)  # x = r*cos(s)*sin(t)\n",
    "y = r * np.sin(sGrid) * np.sin(tGrid)  # y = r*sin(s)*sin(t)\n",
    "z = r * np.cos(tGrid)                  # z = r*cos(t)\n",
    "\n",
    "fig2 = go.FigureWidget()\n",
    "fig2.add_surface(x=x, y=y, z=z)\n",
    "fig2"
   ]
  },
  {
   "cell_type": "code",
   "execution_count": null,
   "metadata": {
    "ExecuteTime": {
     "end_time": "2023-02-24T14:54:05.203932Z",
     "start_time": "2023-02-24T14:54:05.163817Z"
    }
   },
   "outputs": [],
   "source": [
    "layout = go.Layout(\n",
    "    title='Parametric Plot',\n",
    "    scene=dict(\n",
    "        xaxis=dict(\n",
    "            gridcolor='rgb(0, 0, 255)',\n",
    "            zerolinecolor='rgb(255, 255, 255)',\n",
    "            showbackground=True,\n",
    "            backgroundcolor='rgb(230, 230,230)'\n",
    "        ),\n",
    "        yaxis=dict(\n",
    "            gridcolor='rgb(255, 0, 0)',\n",
    "            zerolinecolor='rgb(255, 255, 255)',\n",
    "            showbackground=True,\n",
    "            backgroundcolor='rgb(230, 230,230)'\n",
    "        ),\n",
    "        zaxis=dict(\n",
    "            gridcolor='rgb(0, 255, 0)',\n",
    "            zerolinecolor='rgb(255, 255, 255)',\n",
    "            showbackground=True,\n",
    "            backgroundcolor='rgb(230, 230,230)'\n",
    "        )\n",
    "    )\n",
    ")\n",
    "fig2.layout = layout"
   ]
  },
  {
   "cell_type": "code",
   "execution_count": null,
   "metadata": {
    "ExecuteTime": {
     "end_time": "2023-02-24T14:54:09.380999Z",
     "start_time": "2023-02-24T14:54:09.296711Z"
    }
   },
   "outputs": [],
   "source": [
    "A=1\n",
    "B=0\n",
    "x = np.linspace(0,10,200)\n",
    "y = np.sin(A*x+B)\n",
    "\n",
    "fig3 = go.FigureWidget()\n",
    "sline = fig3.add_scatter(line={'color': 'red', 'width': 3},\n",
    "            name=\"A=%s, B=%s\" % (A, B),\n",
    "            x=x,\n",
    "            y=y\n",
    "        )\n",
    "fig3"
   ]
  },
  {
   "cell_type": "code",
   "execution_count": null,
   "metadata": {
    "ExecuteTime": {
     "end_time": "2023-02-24T14:54:10.514853Z",
     "start_time": "2023-02-24T14:54:10.511544Z"
    }
   },
   "outputs": [],
   "source": [
    "def update_plot(A, B, color):\n",
    "    y = np.sin(A*x+B)\n",
    "    fig3.data[0].line.color = color\n",
    "    fig3.data[0].y = y"
   ]
  },
  {
   "cell_type": "code",
   "execution_count": null,
   "metadata": {
    "ExecuteTime": {
     "end_time": "2023-02-24T14:54:11.169221Z",
     "start_time": "2023-02-24T14:54:11.124839Z"
    }
   },
   "outputs": [],
   "source": [
    "from ipywidgets import interact\n",
    "interact(update_plot, A=(0,10), B=(0,10), color=['red', 'green', 'blue']);"
   ]
  },
  {
   "cell_type": "code",
   "execution_count": null,
   "metadata": {
    "ExecuteTime": {
     "end_time": "2023-02-24T14:54:11.797854Z",
     "start_time": "2023-02-24T14:54:11.752084Z"
    }
   },
   "outputs": [],
   "source": [
    "data = [{\n",
    "    'x': [1, 2, 3, 4, 6],\n",
    "    'y': [10, 15, 13, 17, 20],\n",
    "    'mode': 'markers',\n",
    "    'type': 'scatter',\n",
    "    'marker': {\n",
    "        'size': [20 for i in range(5)],\n",
    "        'color': ['#a3a7e4' for i in range(5)]\n",
    "    }\n",
    "}, {\n",
    "    'x': [2, 3, 4, 5],\n",
    "    'y': [16, 5, 11, 9],\n",
    "    'mode': 'lines',\n",
    "    'type': 'scatter'\n",
    "}]\n",
    "fig4 = go.FigureWidget(data)\n",
    "fig4"
   ]
  },
  {
   "cell_type": "code",
   "execution_count": null,
   "metadata": {
    "ExecuteTime": {
     "end_time": "2023-02-24T14:54:12.948410Z",
     "start_time": "2023-02-24T14:54:12.939644Z"
    }
   },
   "outputs": [],
   "source": [
    "fig4.layout.xaxis.title = \"xtitle\"\n",
    "fig4.layout.yaxis.title = \"ytitle\""
   ]
  },
  {
   "cell_type": "code",
   "execution_count": null,
   "metadata": {
    "ExecuteTime": {
     "end_time": "2023-02-24T14:54:14.226266Z",
     "start_time": "2023-02-24T14:54:14.221636Z"
    }
   },
   "outputs": [],
   "source": [
    "def update_point(trace, points, selector):\n",
    "    c = list(fig4.data[0].marker.color)\n",
    "    s = list(fig4.data[0].marker.size)\n",
    "    for i in points.point_inds:\n",
    "        c[i] = '#bae2be'\n",
    "        s[i] = 50\n",
    "        with fig4.batch_update():\n",
    "            fig4.data[0].marker.color = c\n",
    "            fig4.data[0].marker.size = s\n",
    "\n",
    "\n",
    "fig4.data[0].on_click(update_point)"
   ]
  },
  {
   "cell_type": "code",
   "execution_count": null,
   "metadata": {
    "ExecuteTime": {
     "end_time": "2023-02-24T14:54:14.844255Z",
     "start_time": "2023-02-24T14:54:14.787558Z"
    }
   },
   "outputs": [],
   "source": [
    "import ipywidgets as w\n",
    "w.VBox([\n",
    "    w.HBox([fig1, fig2]),\n",
    "    w.HBox([fig3, fig4]),\n",
    "])"
   ]
  },
  {
   "cell_type": "code",
   "execution_count": null,
   "metadata": {},
   "outputs": [],
   "source": []
  },
  {
   "cell_type": "code",
   "execution_count": null,
   "metadata": {},
   "outputs": [],
   "source": []
  }
 ],
 "metadata": {
  "kernelspec": {
   "display_name": "Python 3 (ipykernel)",
   "language": "python",
   "name": "python3"
  },
  "language_info": {
   "codemirror_mode": {
    "name": "ipython",
    "version": 3
   },
   "file_extension": ".py",
   "mimetype": "text/x-python",
   "name": "python",
   "nbconvert_exporter": "python",
   "pygments_lexer": "ipython3",
   "version": "3.8.10"
  },
  "toc": {
   "base_numbering": 1,
   "nav_menu": {},
   "number_sections": true,
   "sideBar": true,
   "skip_h1_title": false,
   "title_cell": "Table of Contents",
   "title_sidebar": "Contents",
   "toc_cell": false,
   "toc_position": {},
   "toc_section_display": true,
   "toc_window_display": false
  },
  "varInspector": {
   "cols": {
    "lenName": 16,
    "lenType": 16,
    "lenVar": 40
   },
   "kernels_config": {
    "python": {
     "delete_cmd_postfix": "",
     "delete_cmd_prefix": "del ",
     "library": "var_list.py",
     "varRefreshCmd": "print(var_dic_list())"
    },
    "r": {
     "delete_cmd_postfix": ") ",
     "delete_cmd_prefix": "rm(",
     "library": "var_list.r",
     "varRefreshCmd": "cat(var_dic_list()) "
    }
   },
   "types_to_exclude": [
    "module",
    "function",
    "builtin_function_or_method",
    "instance",
    "_Feature"
   ],
   "window_display": false
  }
 },
 "nbformat": 4,
 "nbformat_minor": 2
}
