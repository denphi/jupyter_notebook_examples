{
 "cells": [
  {
   "cell_type": "code",
   "execution_count": 1,
   "metadata": {
    "extensions": {
     "jupyter_dashboards": {
      "version": 1,
      "views": {
       "grid_default": {
        "col": 0,
        "height": 4,
        "hidden": true,
        "row": 0,
        "width": 4
       },
       "report_default": {}
      }
     }
    }
   },
   "outputs": [
    {
     "data": {
      "text/html": [
       "\n",
       "    <div class=\"bk-root\">\n",
       "        <a href=\"http://bokeh.pydata.org\" target=\"_blank\" class=\"bk-logo bk-logo-small bk-logo-notebook\"></a>\n",
       "        <span id=\"873fcaff-b324-4436-8190-18c42c151509\">Loading BokehJS ...</span>\n",
       "    </div>"
      ]
     },
     "metadata": {},
     "output_type": "display_data"
    },
    {
     "data": {
      "application/javascript": [
       "\n",
       "(function(global) {\n",
       "  function now() {\n",
       "    return new Date();\n",
       "  }\n",
       "\n",
       "  var force = true;\n",
       "\n",
       "  if (typeof (window._bokeh_onload_callbacks) === \"undefined\" || force === true) {\n",
       "    window._bokeh_onload_callbacks = [];\n",
       "    window._bokeh_is_loading = undefined;\n",
       "  }\n",
       "\n",
       "\n",
       "  \n",
       "  if (typeof (window._bokeh_timeout) === \"undefined\" || force === true) {\n",
       "    window._bokeh_timeout = Date.now() + 5000;\n",
       "    window._bokeh_failed_load = false;\n",
       "  }\n",
       "\n",
       "  var NB_LOAD_WARNING = {'data': {'text/html':\n",
       "     \"<div style='background-color: #fdd'>\\n\"+\n",
       "     \"<p>\\n\"+\n",
       "     \"BokehJS does not appear to have successfully loaded. If loading BokehJS from CDN, this \\n\"+\n",
       "     \"may be due to a slow or bad network connection. Possible fixes:\\n\"+\n",
       "     \"</p>\\n\"+\n",
       "     \"<ul>\\n\"+\n",
       "     \"<li>re-rerun `output_notebook()` to attempt to load from CDN again, or</li>\\n\"+\n",
       "     \"<li>use INLINE resources instead, as so:</li>\\n\"+\n",
       "     \"</ul>\\n\"+\n",
       "     \"<code>\\n\"+\n",
       "     \"from bokeh.resources import INLINE\\n\"+\n",
       "     \"output_notebook(resources=INLINE)\\n\"+\n",
       "     \"</code>\\n\"+\n",
       "     \"</div>\"}};\n",
       "\n",
       "  function display_loaded() {\n",
       "    if (window.Bokeh !== undefined) {\n",
       "      var el = document.getElementById(\"873fcaff-b324-4436-8190-18c42c151509\");\n",
       "      el.textContent = \"BokehJS \" + Bokeh.version + \" successfully loaded.\";\n",
       "    } else if (Date.now() < window._bokeh_timeout) {\n",
       "      setTimeout(display_loaded, 100)\n",
       "    }\n",
       "  }\n",
       "\n",
       "  function run_callbacks() {\n",
       "    try {\n",
       "      window._bokeh_onload_callbacks.forEach(function(callback) { callback() });\n",
       "    }\n",
       "    finally {\n",
       "      delete window._bokeh_onload_callbacks\n",
       "    }\n",
       "    console.info(\"Bokeh: all callbacks have finished\");\n",
       "  }\n",
       "\n",
       "  function load_libs(js_urls, callback) {\n",
       "    window._bokeh_onload_callbacks.push(callback);\n",
       "    if (window._bokeh_is_loading > 0) {\n",
       "      console.log(\"Bokeh: BokehJS is being loaded, scheduling callback at\", now());\n",
       "      return null;\n",
       "    }\n",
       "    if (js_urls == null || js_urls.length === 0) {\n",
       "      run_callbacks();\n",
       "      return null;\n",
       "    }\n",
       "    console.log(\"Bokeh: BokehJS not loaded, scheduling load and callback at\", now());\n",
       "    window._bokeh_is_loading = js_urls.length;\n",
       "    for (var i = 0; i < js_urls.length; i++) {\n",
       "      var url = js_urls[i];\n",
       "      var s = document.createElement('script');\n",
       "      s.src = url;\n",
       "      s.async = false;\n",
       "      s.onreadystatechange = s.onload = function() {\n",
       "        window._bokeh_is_loading--;\n",
       "        if (window._bokeh_is_loading === 0) {\n",
       "          console.log(\"Bokeh: all BokehJS libraries loaded\");\n",
       "          run_callbacks()\n",
       "        }\n",
       "      };\n",
       "      s.onerror = function() {\n",
       "        console.warn(\"failed to load library \" + url);\n",
       "      };\n",
       "      console.log(\"Bokeh: injecting script tag for BokehJS library: \", url);\n",
       "      document.getElementsByTagName(\"head\")[0].appendChild(s);\n",
       "    }\n",
       "  };var element = document.getElementById(\"873fcaff-b324-4436-8190-18c42c151509\");\n",
       "  if (element == null) {\n",
       "    console.log(\"Bokeh: ERROR: autoload.js configured with elementid '873fcaff-b324-4436-8190-18c42c151509' but no matching script tag was found. \")\n",
       "    return false;\n",
       "  }\n",
       "\n",
       "  var js_urls = [\"https://cdn.pydata.org/bokeh/release/bokeh-0.12.6.min.js\", \"https://cdn.pydata.org/bokeh/release/bokeh-widgets-0.12.6.min.js\"];\n",
       "\n",
       "  var inline_js = [\n",
       "    function(Bokeh) {\n",
       "      Bokeh.set_log_level(\"info\");\n",
       "    },\n",
       "    \n",
       "    function(Bokeh) {\n",
       "      \n",
       "    },\n",
       "    \n",
       "    function(Bokeh) {\n",
       "      \n",
       "      document.getElementById(\"873fcaff-b324-4436-8190-18c42c151509\").textContent = \"BokehJS is loading...\";\n",
       "    },\n",
       "    function(Bokeh) {\n",
       "      console.log(\"Bokeh: injecting CSS: https://cdn.pydata.org/bokeh/release/bokeh-0.12.6.min.css\");\n",
       "      Bokeh.embed.inject_css(\"https://cdn.pydata.org/bokeh/release/bokeh-0.12.6.min.css\");\n",
       "      console.log(\"Bokeh: injecting CSS: https://cdn.pydata.org/bokeh/release/bokeh-widgets-0.12.6.min.css\");\n",
       "      Bokeh.embed.inject_css(\"https://cdn.pydata.org/bokeh/release/bokeh-widgets-0.12.6.min.css\");\n",
       "    }\n",
       "  ];\n",
       "\n",
       "  function run_inline_js() {\n",
       "    \n",
       "    if ((window.Bokeh !== undefined) || (force === true)) {\n",
       "      for (var i = 0; i < inline_js.length; i++) {\n",
       "        inline_js[i](window.Bokeh);\n",
       "      }if (force === true) {\n",
       "        display_loaded();\n",
       "      }} else if (Date.now() < window._bokeh_timeout) {\n",
       "      setTimeout(run_inline_js, 100);\n",
       "    } else if (!window._bokeh_failed_load) {\n",
       "      console.log(\"Bokeh: BokehJS failed to load within specified timeout.\");\n",
       "      window._bokeh_failed_load = true;\n",
       "    } else if (force !== true) {\n",
       "      var cell = $(document.getElementById(\"873fcaff-b324-4436-8190-18c42c151509\")).parents('.cell').data().cell;\n",
       "      cell.output_area.append_execute_result(NB_LOAD_WARNING)\n",
       "    }\n",
       "\n",
       "  }\n",
       "\n",
       "  if (window._bokeh_is_loading === 0) {\n",
       "    console.log(\"Bokeh: BokehJS loaded, going straight to plotting\");\n",
       "    run_inline_js();\n",
       "  } else {\n",
       "    load_libs(js_urls, function() {\n",
       "      console.log(\"Bokeh: BokehJS plotting callback run at\", now());\n",
       "      run_inline_js();\n",
       "    });\n",
       "  }\n",
       "}(this));"
      ]
     },
     "metadata": {},
     "output_type": "display_data"
    }
   ],
   "source": [
    "from ipywidgets import interact\n",
    "import numpy as np\n",
    "from bokeh.io import push_notebook, show, output_notebook\n",
    "from bokeh.plotting import figure\n",
    "output_notebook()\n"
   ]
  },
  {
   "cell_type": "code",
   "execution_count": 4,
   "metadata": {
    "extensions": {
     "jupyter_dashboards": {
      "version": 1,
      "views": {
       "grid_default": {
        "col": 0,
        "height": 20,
        "hidden": false,
        "row": 0,
        "width": 11
       },
       "report_default": {}
      }
     }
    }
   },
   "outputs": [
    {
     "data": {
      "text/html": [
       "\n",
       "\n",
       "    <div class=\"bk-root\">\n",
       "        <div class=\"bk-plotdiv\" id=\"5802f08f-eeb4-41af-8892-0cadaf385664\"></div>\n",
       "    </div>\n",
       "<script type=\"text/javascript\">\n",
       "  \n",
       "  (function(global) {\n",
       "    function now() {\n",
       "      return new Date();\n",
       "    }\n",
       "  \n",
       "    var force = false;\n",
       "  \n",
       "    if (typeof (window._bokeh_onload_callbacks) === \"undefined\" || force === true) {\n",
       "      window._bokeh_onload_callbacks = [];\n",
       "      window._bokeh_is_loading = undefined;\n",
       "    }\n",
       "  \n",
       "  \n",
       "    \n",
       "    if (typeof (window._bokeh_timeout) === \"undefined\" || force === true) {\n",
       "      window._bokeh_timeout = Date.now() + 0;\n",
       "      window._bokeh_failed_load = false;\n",
       "    }\n",
       "  \n",
       "    var NB_LOAD_WARNING = {'data': {'text/html':\n",
       "       \"<div style='background-color: #fdd'>\\n\"+\n",
       "       \"<p>\\n\"+\n",
       "       \"BokehJS does not appear to have successfully loaded. If loading BokehJS from CDN, this \\n\"+\n",
       "       \"may be due to a slow or bad network connection. Possible fixes:\\n\"+\n",
       "       \"</p>\\n\"+\n",
       "       \"<ul>\\n\"+\n",
       "       \"<li>re-rerun `output_notebook()` to attempt to load from CDN again, or</li>\\n\"+\n",
       "       \"<li>use INLINE resources instead, as so:</li>\\n\"+\n",
       "       \"</ul>\\n\"+\n",
       "       \"<code>\\n\"+\n",
       "       \"from bokeh.resources import INLINE\\n\"+\n",
       "       \"output_notebook(resources=INLINE)\\n\"+\n",
       "       \"</code>\\n\"+\n",
       "       \"</div>\"}};\n",
       "  \n",
       "    function display_loaded() {\n",
       "      if (window.Bokeh !== undefined) {\n",
       "        var el = document.getElementById(\"5802f08f-eeb4-41af-8892-0cadaf385664\");\n",
       "        el.textContent = \"BokehJS \" + Bokeh.version + \" successfully loaded.\";\n",
       "      } else if (Date.now() < window._bokeh_timeout) {\n",
       "        setTimeout(display_loaded, 100)\n",
       "      }\n",
       "    }if ((window.Jupyter !== undefined) && Jupyter.notebook.kernel) {\n",
       "      comm_manager = Jupyter.notebook.kernel.comm_manager\n",
       "      comm_manager.register_target(\"1ee90fdd-b186-4142-b8e5-8603323a8009\", function () {});\n",
       "    }\n",
       "  \n",
       "    function run_callbacks() {\n",
       "      try {\n",
       "        window._bokeh_onload_callbacks.forEach(function(callback) { callback() });\n",
       "      }\n",
       "      finally {\n",
       "        delete window._bokeh_onload_callbacks\n",
       "      }\n",
       "      console.info(\"Bokeh: all callbacks have finished\");\n",
       "    }\n",
       "  \n",
       "    function load_libs(js_urls, callback) {\n",
       "      window._bokeh_onload_callbacks.push(callback);\n",
       "      if (window._bokeh_is_loading > 0) {\n",
       "        console.log(\"Bokeh: BokehJS is being loaded, scheduling callback at\", now());\n",
       "        return null;\n",
       "      }\n",
       "      if (js_urls == null || js_urls.length === 0) {\n",
       "        run_callbacks();\n",
       "        return null;\n",
       "      }\n",
       "      console.log(\"Bokeh: BokehJS not loaded, scheduling load and callback at\", now());\n",
       "      window._bokeh_is_loading = js_urls.length;\n",
       "      for (var i = 0; i < js_urls.length; i++) {\n",
       "        var url = js_urls[i];\n",
       "        var s = document.createElement('script');\n",
       "        s.src = url;\n",
       "        s.async = false;\n",
       "        s.onreadystatechange = s.onload = function() {\n",
       "          window._bokeh_is_loading--;\n",
       "          if (window._bokeh_is_loading === 0) {\n",
       "            console.log(\"Bokeh: all BokehJS libraries loaded\");\n",
       "            run_callbacks()\n",
       "          }\n",
       "        };\n",
       "        s.onerror = function() {\n",
       "          console.warn(\"failed to load library \" + url);\n",
       "        };\n",
       "        console.log(\"Bokeh: injecting script tag for BokehJS library: \", url);\n",
       "        document.getElementsByTagName(\"head\")[0].appendChild(s);\n",
       "      }\n",
       "    };var element = document.getElementById(\"5802f08f-eeb4-41af-8892-0cadaf385664\");\n",
       "    if (element == null) {\n",
       "      console.log(\"Bokeh: ERROR: autoload.js configured with elementid '5802f08f-eeb4-41af-8892-0cadaf385664' but no matching script tag was found. \")\n",
       "      return false;\n",
       "    }\n",
       "  \n",
       "    var js_urls = [];\n",
       "  \n",
       "    var inline_js = [\n",
       "      function(Bokeh) {\n",
       "        (function() {\n",
       "          var fn = function() {\n",
       "            var docs_json = {\"d25dbe2d-ca54-453d-b546-19606c133633\":{\"roots\":{\"references\":[{\"attributes\":{\"data_source\":{\"id\":\"8a274313-b2a5-4a8c-a1a5-9c37b0c278ed\",\"type\":\"ColumnDataSource\"},\"glyph\":{\"id\":\"7c4c3dce-4b5a-467f-9419-3898ec01bef6\",\"type\":\"Line\"},\"hover_glyph\":null,\"muted_glyph\":null,\"nonselection_glyph\":{\"id\":\"00e754a0-8148-4775-8e8f-009d8b84336a\",\"type\":\"Line\"},\"selection_glyph\":null},\"id\":\"951e70e5-b296-4220-a4a9-03a5b3266137\",\"type\":\"GlyphRenderer\"},{\"attributes\":{},\"id\":\"4b4f09f8-e373-45dd-8540-225024afab94\",\"type\":\"BasicTicker\"},{\"attributes\":{\"dimension\":1,\"plot\":{\"id\":\"a7fc7e0f-3314-40bd-9e72-1e1b304d64a3\",\"subtype\":\"Figure\",\"type\":\"Plot\"},\"ticker\":{\"id\":\"9c0974ee-0187-4732-a5fb-af8775700991\",\"type\":\"BasicTicker\"}},\"id\":\"2441bee5-ed1a-4270-b810-a4fa2bd6cfd6\",\"type\":\"Grid\"},{\"attributes\":{\"callback\":null},\"id\":\"1371762a-1c10-4d0a-9095-52a7d74e37e6\",\"type\":\"DataRange1d\"},{\"attributes\":{\"active_drag\":\"auto\",\"active_inspect\":\"auto\",\"active_scroll\":\"auto\",\"active_tap\":\"auto\",\"tools\":[{\"id\":\"f28121bb-9f4a-43e7-be85-9b1db80501bf\",\"type\":\"PanTool\"},{\"id\":\"0abb2995-e344-4aa7-8c07-4c0f65609617\",\"type\":\"WheelZoomTool\"},{\"id\":\"51f4af13-c762-47d1-a653-d3a17b9716da\",\"type\":\"BoxZoomTool\"},{\"id\":\"5d40e4ce-61b0-42c7-8ac5-a2fd990f0720\",\"type\":\"SaveTool\"},{\"id\":\"02e0507f-34e2-48e3-80b5-5b26ed5714f1\",\"type\":\"ResetTool\"},{\"id\":\"24b477b4-5796-4da4-a020-355488531ef9\",\"type\":\"HelpTool\"}]},\"id\":\"7889be7b-abef-40eb-8ec3-116033605823\",\"type\":\"Toolbar\"},{\"attributes\":{},\"id\":\"c26fcb54-e89a-44cb-91ff-072ef48f634d\",\"type\":\"BasicTickFormatter\"},{\"attributes\":{},\"id\":\"ec0369c4-3a35-4570-abff-c6017cd0622a\",\"type\":\"ToolEvents\"},{\"attributes\":{},\"id\":\"0e72c8d2-42e0-4203-afdc-0fd6a5384ef2\",\"type\":\"LinearScale\"},{\"attributes\":{\"bottom_units\":\"screen\",\"fill_alpha\":{\"value\":0.5},\"fill_color\":{\"value\":\"lightgrey\"},\"left_units\":\"screen\",\"level\":\"overlay\",\"line_alpha\":{\"value\":1.0},\"line_color\":{\"value\":\"black\"},\"line_dash\":[4,4],\"line_width\":{\"value\":2},\"plot\":null,\"render_mode\":\"css\",\"right_units\":\"screen\",\"top_units\":\"screen\"},\"id\":\"2b53927c-60f3-41e0-a5d6-428ce71d9b61\",\"type\":\"BoxAnnotation\"},{\"attributes\":{\"plot\":{\"id\":\"a7fc7e0f-3314-40bd-9e72-1e1b304d64a3\",\"subtype\":\"Figure\",\"type\":\"Plot\"}},\"id\":\"02e0507f-34e2-48e3-80b5-5b26ed5714f1\",\"type\":\"ResetTool\"},{\"attributes\":{\"formatter\":{\"id\":\"661f8d2a-4dec-4f38-8c0b-ce3788f88bc8\",\"type\":\"BasicTickFormatter\"},\"plot\":{\"id\":\"a7fc7e0f-3314-40bd-9e72-1e1b304d64a3\",\"subtype\":\"Figure\",\"type\":\"Plot\"},\"ticker\":{\"id\":\"4b4f09f8-e373-45dd-8540-225024afab94\",\"type\":\"BasicTicker\"}},\"id\":\"9e7dd4cf-222b-4a18-921c-065ca9ff7374\",\"type\":\"LinearAxis\"},{\"attributes\":{\"callback\":null,\"column_names\":[\"y\",\"x\"],\"data\":{\"x\":{\"__ndarray__\":\"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\",\"dtype\":\"float64\",\"shape\":[300]},\"y\":{\"__ndarray__\":\"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\",\"dtype\":\"float64\",\"shape\":[300]}}},\"id\":\"8a274313-b2a5-4a8c-a1a5-9c37b0c278ed\",\"type\":\"ColumnDataSource\"},{\"attributes\":{\"below\":[{\"id\":\"9e7dd4cf-222b-4a18-921c-065ca9ff7374\",\"type\":\"LinearAxis\"}],\"left\":[{\"id\":\"8aa1eab9-7a4c-4be8-a22c-17b5a7aa78dd\",\"type\":\"LinearAxis\"}],\"plot_width\":1200,\"renderers\":[{\"id\":\"9e7dd4cf-222b-4a18-921c-065ca9ff7374\",\"type\":\"LinearAxis\"},{\"id\":\"3e2a4989-fa48-412c-80b1-bc0ee68b0cb9\",\"type\":\"Grid\"},{\"id\":\"8aa1eab9-7a4c-4be8-a22c-17b5a7aa78dd\",\"type\":\"LinearAxis\"},{\"id\":\"2441bee5-ed1a-4270-b810-a4fa2bd6cfd6\",\"type\":\"Grid\"},{\"id\":\"2b53927c-60f3-41e0-a5d6-428ce71d9b61\",\"type\":\"BoxAnnotation\"},{\"id\":\"951e70e5-b296-4220-a4a9-03a5b3266137\",\"type\":\"GlyphRenderer\"}],\"title\":{\"id\":\"352f2da8-1bef-46cb-afb7-db0ff697bd51\",\"type\":\"Title\"},\"tool_events\":{\"id\":\"ec0369c4-3a35-4570-abff-c6017cd0622a\",\"type\":\"ToolEvents\"},\"toolbar\":{\"id\":\"7889be7b-abef-40eb-8ec3-116033605823\",\"type\":\"Toolbar\"},\"x_range\":{\"id\":\"1371762a-1c10-4d0a-9095-52a7d74e37e6\",\"type\":\"DataRange1d\"},\"x_scale\":{\"id\":\"0e72c8d2-42e0-4203-afdc-0fd6a5384ef2\",\"type\":\"LinearScale\"},\"y_range\":{\"id\":\"cd6bbe5e-ccad-4e4e-ae93-445b6ae06d7a\",\"type\":\"Range1d\"},\"y_scale\":{\"id\":\"c17560d5-66c8-45ff-ab5a-faf2cc7c46ab\",\"type\":\"LinearScale\"}},\"id\":\"a7fc7e0f-3314-40bd-9e72-1e1b304d64a3\",\"subtype\":\"Figure\",\"type\":\"Plot\"},{\"attributes\":{\"line_alpha\":{\"value\":0.5},\"line_color\":{\"value\":\"red\"},\"line_width\":{\"value\":2},\"x\":{\"field\":\"x\"},\"y\":{\"field\":\"y\"}},\"id\":\"7c4c3dce-4b5a-467f-9419-3898ec01bef6\",\"type\":\"Line\"},{\"attributes\":{\"plot\":{\"id\":\"a7fc7e0f-3314-40bd-9e72-1e1b304d64a3\",\"subtype\":\"Figure\",\"type\":\"Plot\"}},\"id\":\"5d40e4ce-61b0-42c7-8ac5-a2fd990f0720\",\"type\":\"SaveTool\"},{\"attributes\":{},\"id\":\"c17560d5-66c8-45ff-ab5a-faf2cc7c46ab\",\"type\":\"LinearScale\"},{\"attributes\":{\"plot\":{\"id\":\"a7fc7e0f-3314-40bd-9e72-1e1b304d64a3\",\"subtype\":\"Figure\",\"type\":\"Plot\"},\"ticker\":{\"id\":\"4b4f09f8-e373-45dd-8540-225024afab94\",\"type\":\"BasicTicker\"}},\"id\":\"3e2a4989-fa48-412c-80b1-bc0ee68b0cb9\",\"type\":\"Grid\"},{\"attributes\":{\"line_alpha\":{\"value\":0.1},\"line_color\":{\"value\":\"#1f77b4\"},\"line_width\":{\"value\":2},\"x\":{\"field\":\"x\"},\"y\":{\"field\":\"y\"}},\"id\":\"00e754a0-8148-4775-8e8f-009d8b84336a\",\"type\":\"Line\"},{\"attributes\":{\"plot\":{\"id\":\"a7fc7e0f-3314-40bd-9e72-1e1b304d64a3\",\"subtype\":\"Figure\",\"type\":\"Plot\"}},\"id\":\"f28121bb-9f4a-43e7-be85-9b1db80501bf\",\"type\":\"PanTool\"},{\"attributes\":{\"plot\":{\"id\":\"a7fc7e0f-3314-40bd-9e72-1e1b304d64a3\",\"subtype\":\"Figure\",\"type\":\"Plot\"}},\"id\":\"0abb2995-e344-4aa7-8c07-4c0f65609617\",\"type\":\"WheelZoomTool\"},{\"attributes\":{\"plot\":{\"id\":\"a7fc7e0f-3314-40bd-9e72-1e1b304d64a3\",\"subtype\":\"Figure\",\"type\":\"Plot\"}},\"id\":\"24b477b4-5796-4da4-a020-355488531ef9\",\"type\":\"HelpTool\"},{\"attributes\":{\"callback\":null,\"end\":5,\"start\":-5},\"id\":\"cd6bbe5e-ccad-4e4e-ae93-445b6ae06d7a\",\"type\":\"Range1d\"},{\"attributes\":{},\"id\":\"661f8d2a-4dec-4f38-8c0b-ce3788f88bc8\",\"type\":\"BasicTickFormatter\"},{\"attributes\":{\"overlay\":{\"id\":\"2b53927c-60f3-41e0-a5d6-428ce71d9b61\",\"type\":\"BoxAnnotation\"},\"plot\":{\"id\":\"a7fc7e0f-3314-40bd-9e72-1e1b304d64a3\",\"subtype\":\"Figure\",\"type\":\"Plot\"}},\"id\":\"51f4af13-c762-47d1-a653-d3a17b9716da\",\"type\":\"BoxZoomTool\"},{\"attributes\":{\"plot\":null,\"text\":\"simple line example\"},\"id\":\"352f2da8-1bef-46cb-afb7-db0ff697bd51\",\"type\":\"Title\"},{\"attributes\":{},\"id\":\"9c0974ee-0187-4732-a5fb-af8775700991\",\"type\":\"BasicTicker\"},{\"attributes\":{\"formatter\":{\"id\":\"c26fcb54-e89a-44cb-91ff-072ef48f634d\",\"type\":\"BasicTickFormatter\"},\"plot\":{\"id\":\"a7fc7e0f-3314-40bd-9e72-1e1b304d64a3\",\"subtype\":\"Figure\",\"type\":\"Plot\"},\"ticker\":{\"id\":\"9c0974ee-0187-4732-a5fb-af8775700991\",\"type\":\"BasicTicker\"}},\"id\":\"8aa1eab9-7a4c-4be8-a22c-17b5a7aa78dd\",\"type\":\"LinearAxis\"}],\"root_ids\":[\"a7fc7e0f-3314-40bd-9e72-1e1b304d64a3\"]},\"title\":\"Bokeh Application\",\"version\":\"0.12.6\"}};\n",
       "            var render_items = [{\"docid\":\"d25dbe2d-ca54-453d-b546-19606c133633\",\"elementid\":\"5802f08f-eeb4-41af-8892-0cadaf385664\",\"modelid\":\"a7fc7e0f-3314-40bd-9e72-1e1b304d64a3\",\"notebook_comms_target\":\"1ee90fdd-b186-4142-b8e5-8603323a8009\"}];\n",
       "            \n",
       "            Bokeh.embed.embed_items(docs_json, render_items);\n",
       "          };\n",
       "          if (document.readyState != \"loading\") fn();\n",
       "          else document.addEventListener(\"DOMContentLoaded\", fn);\n",
       "        })();\n",
       "      },\n",
       "      function(Bokeh) {\n",
       "      }\n",
       "    ];\n",
       "  \n",
       "    function run_inline_js() {\n",
       "      \n",
       "      if ((window.Bokeh !== undefined) || (force === true)) {\n",
       "        for (var i = 0; i < inline_js.length; i++) {\n",
       "          inline_js[i](window.Bokeh);\n",
       "        }if (force === true) {\n",
       "          display_loaded();\n",
       "        }} else if (Date.now() < window._bokeh_timeout) {\n",
       "        setTimeout(run_inline_js, 100);\n",
       "      } else if (!window._bokeh_failed_load) {\n",
       "        console.log(\"Bokeh: BokehJS failed to load within specified timeout.\");\n",
       "        window._bokeh_failed_load = true;\n",
       "      } else if (force !== true) {\n",
       "        var cell = $(document.getElementById(\"5802f08f-eeb4-41af-8892-0cadaf385664\")).parents('.cell').data().cell;\n",
       "        cell.output_area.append_execute_result(NB_LOAD_WARNING)\n",
       "      }\n",
       "  \n",
       "    }\n",
       "  \n",
       "    if (window._bokeh_is_loading === 0) {\n",
       "      console.log(\"Bokeh: BokehJS loaded, going straight to plotting\");\n",
       "      run_inline_js();\n",
       "    } else {\n",
       "      load_libs(js_urls, function() {\n",
       "        console.log(\"Bokeh: BokehJS plotting callback run at\", now());\n",
       "        run_inline_js();\n",
       "      });\n",
       "    }\n",
       "  }(this));\n",
       "</script>"
      ]
     },
     "metadata": {},
     "output_type": "display_data"
    }
   ],
   "source": [
    "import numpy as np\n",
    "from bokeh.io import push_notebook\n",
    "\n",
    "# set up some data\n",
    "x = np.linspace(0,10,300)\n",
    "y = np.sin(x)\n",
    "p = figure(title=\"simple line example\", plot_height=600, plot_width=1200, y_range=(-5,5))\n",
    "r = p.line(x, y, color=\"red\", alpha=0.5, line_width=2)\n",
    "\n",
    "def update(f, w=1, A=1, phi=0, color='black'):\n",
    "    if   f == \"sin\": func = np.sin\n",
    "    elif f == \"cos\": func = np.cos\n",
    "    elif f == \"tan\": func = np.tan\n",
    "    r.data_source.data['y'] = A*func(w*x+phi)\n",
    "    r.glyph.line_color = color\n",
    "    push_notebook()\n",
    "\n",
    "show(p, notebook_handle=True);"
   ]
  },
  {
   "cell_type": "code",
   "execution_count": 5,
   "metadata": {
    "extensions": {
     "jupyter_dashboards": {
      "version": 1,
      "views": {
       "grid_default": {
        "col": 0,
        "height": 7,
        "hidden": false,
        "row": 20,
        "width": 4
       },
       "report_default": {}
      }
     }
    }
   },
   "outputs": [
    {
     "data": {
      "application/vnd.jupyter.widget-view+json": {
       "model_id": "87a57f23552c4af38bf235faab0cfd15"
      }
     },
     "metadata": {},
     "output_type": "display_data"
    }
   ],
   "source": [
    "from ipywidgets import interact\n",
    "interact(update, f=[\"sin\", \"cos\", \"tan\"], w=(0,10, 0.1), A=(0,5, 0.1), phi=(0, 10, 0.1), color=['green','red','blue']);"
   ]
  }
 ],
 "metadata": {
  "extensions": {
   "jupyter_dashboards": {
    "activeView": "grid_default",
    "version": 1,
    "views": {
     "grid_default": {
      "cellMargin": 10,
      "defaultCellHeight": 20,
      "maxColumns": 12,
      "name": "grid",
      "type": "grid"
     },
     "report_default": {
      "name": "report",
      "type": "report"
     }
    }
   }
  },
  "kernelspec": {
   "display_name": "Python2",
   "language": "python",
   "name": "python2"
  },
  "language_info": {
   "codemirror_mode": {
    "name": "ipython",
    "version": 2
   },
   "file_extension": ".py",
   "mimetype": "text/x-python",
   "name": "python",
   "nbconvert_exporter": "python",
   "pygments_lexer": "ipython2",
   "version": "2.7.13"
  }
 },
 "nbformat": 4,
 "nbformat_minor": 1
}
