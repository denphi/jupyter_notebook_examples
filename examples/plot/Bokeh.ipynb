{
 "cells": [
  {
   "cell_type": "markdown",
   "metadata": {
    "extensions": {
     "jupyter_dashboards": {
      "version": 1,
      "views": {
       "grid_default": {
        "col": 0,
        "height": 7,
        "hidden": false,
        "row": 0,
        "width": 12
       },
       "report_default": {}
      }
     }
    }
   },
   "source": [
    "# Bokeh\n",
    "\n",
    "Bokeh is a Python interactive visualization library that targets modern web browsers for presentation. Its goal is to provide elegant, concise construction of novel graphics in the style of D3.js, and to extend this capability with high-performance interactivity over very large or streaming datasets. Bokeh can help anyone who would like to quickly and easily create interactive plots, dashboards, and data applications.\n",
    "\n",
    "Get Started here: http://bokeh.pydata.org/en/latest/\n",
    "\n",
    "Notebook Gallery is here:\n",
    "http://nbviewer.jupyter.org/github/bokeh/bokeh-notebooks/blob/master/index.ipynb\n",
    "\n",
    "Another example of interacting with Python widgets is [here](bokeh_interact.ipynb)\n",
    "\n",
    "The official examples are [here](bokeh-notebooks/index.ipynb)"
   ]
  },
  {
   "cell_type": "markdown",
   "metadata": {},
   "source": [
    "# Simple Line Plot"
   ]
  },
  {
   "cell_type": "code",
   "execution_count": 2,
   "metadata": {
    "extensions": {
     "jupyter_dashboards": {
      "version": 1,
      "views": {
       "grid_default": {
        "col": 0,
        "height": 4,
        "hidden": true,
        "row": 7,
        "width": 4
       },
       "report_default": {}
      }
     }
    }
   },
   "outputs": [
    {
     "data": {
      "text/html": [
       "\n",
       "    <div class=\"bk-root\">\n",
       "        <a href=\"http://bokeh.pydata.org\" target=\"_blank\" class=\"bk-logo bk-logo-small bk-logo-notebook\"></a>\n",
       "        <span id=\"3264a085-949f-4799-9c4e-15a998aa197e\">Loading BokehJS ...</span>\n",
       "    </div>"
      ]
     },
     "metadata": {},
     "output_type": "display_data"
    },
    {
     "data": {
      "application/javascript": [
       "\n",
       "(function(global) {\n",
       "  function now() {\n",
       "    return new Date();\n",
       "  }\n",
       "\n",
       "  var force = true;\n",
       "\n",
       "  if (typeof (window._bokeh_onload_callbacks) === \"undefined\" || force === true) {\n",
       "    window._bokeh_onload_callbacks = [];\n",
       "    window._bokeh_is_loading = undefined;\n",
       "  }\n",
       "\n",
       "\n",
       "  \n",
       "  if (typeof (window._bokeh_timeout) === \"undefined\" || force === true) {\n",
       "    window._bokeh_timeout = Date.now() + 5000;\n",
       "    window._bokeh_failed_load = false;\n",
       "  }\n",
       "\n",
       "  var NB_LOAD_WARNING = {'data': {'text/html':\n",
       "     \"<div style='background-color: #fdd'>\\n\"+\n",
       "     \"<p>\\n\"+\n",
       "     \"BokehJS does not appear to have successfully loaded. If loading BokehJS from CDN, this \\n\"+\n",
       "     \"may be due to a slow or bad network connection. Possible fixes:\\n\"+\n",
       "     \"</p>\\n\"+\n",
       "     \"<ul>\\n\"+\n",
       "     \"<li>re-rerun `output_notebook()` to attempt to load from CDN again, or</li>\\n\"+\n",
       "     \"<li>use INLINE resources instead, as so:</li>\\n\"+\n",
       "     \"</ul>\\n\"+\n",
       "     \"<code>\\n\"+\n",
       "     \"from bokeh.resources import INLINE\\n\"+\n",
       "     \"output_notebook(resources=INLINE)\\n\"+\n",
       "     \"</code>\\n\"+\n",
       "     \"</div>\"}};\n",
       "\n",
       "  function display_loaded() {\n",
       "    if (window.Bokeh !== undefined) {\n",
       "      var el = document.getElementById(\"3264a085-949f-4799-9c4e-15a998aa197e\");\n",
       "      el.textContent = \"BokehJS \" + Bokeh.version + \" successfully loaded.\";\n",
       "    } else if (Date.now() < window._bokeh_timeout) {\n",
       "      setTimeout(display_loaded, 100)\n",
       "    }\n",
       "  }\n",
       "\n",
       "  function run_callbacks() {\n",
       "    try {\n",
       "      window._bokeh_onload_callbacks.forEach(function(callback) { callback() });\n",
       "    }\n",
       "    finally {\n",
       "      delete window._bokeh_onload_callbacks\n",
       "    }\n",
       "    console.info(\"Bokeh: all callbacks have finished\");\n",
       "  }\n",
       "\n",
       "  function load_libs(js_urls, callback) {\n",
       "    window._bokeh_onload_callbacks.push(callback);\n",
       "    if (window._bokeh_is_loading > 0) {\n",
       "      console.log(\"Bokeh: BokehJS is being loaded, scheduling callback at\", now());\n",
       "      return null;\n",
       "    }\n",
       "    if (js_urls == null || js_urls.length === 0) {\n",
       "      run_callbacks();\n",
       "      return null;\n",
       "    }\n",
       "    console.log(\"Bokeh: BokehJS not loaded, scheduling load and callback at\", now());\n",
       "    window._bokeh_is_loading = js_urls.length;\n",
       "    for (var i = 0; i < js_urls.length; i++) {\n",
       "      var url = js_urls[i];\n",
       "      var s = document.createElement('script');\n",
       "      s.src = url;\n",
       "      s.async = false;\n",
       "      s.onreadystatechange = s.onload = function() {\n",
       "        window._bokeh_is_loading--;\n",
       "        if (window._bokeh_is_loading === 0) {\n",
       "          console.log(\"Bokeh: all BokehJS libraries loaded\");\n",
       "          run_callbacks()\n",
       "        }\n",
       "      };\n",
       "      s.onerror = function() {\n",
       "        console.warn(\"failed to load library \" + url);\n",
       "      };\n",
       "      console.log(\"Bokeh: injecting script tag for BokehJS library: \", url);\n",
       "      document.getElementsByTagName(\"head\")[0].appendChild(s);\n",
       "    }\n",
       "  };var element = document.getElementById(\"3264a085-949f-4799-9c4e-15a998aa197e\");\n",
       "  if (element == null) {\n",
       "    console.log(\"Bokeh: ERROR: autoload.js configured with elementid '3264a085-949f-4799-9c4e-15a998aa197e' but no matching script tag was found. \")\n",
       "    return false;\n",
       "  }\n",
       "\n",
       "  var js_urls = [\"https://cdn.pydata.org/bokeh/release/bokeh-0.12.6.min.js\", \"https://cdn.pydata.org/bokeh/release/bokeh-widgets-0.12.6.min.js\"];\n",
       "\n",
       "  var inline_js = [\n",
       "    function(Bokeh) {\n",
       "      Bokeh.set_log_level(\"info\");\n",
       "    },\n",
       "    \n",
       "    function(Bokeh) {\n",
       "      \n",
       "    },\n",
       "    \n",
       "    function(Bokeh) {\n",
       "      \n",
       "      document.getElementById(\"3264a085-949f-4799-9c4e-15a998aa197e\").textContent = \"BokehJS is loading...\";\n",
       "    },\n",
       "    function(Bokeh) {\n",
       "      console.log(\"Bokeh: injecting CSS: https://cdn.pydata.org/bokeh/release/bokeh-0.12.6.min.css\");\n",
       "      Bokeh.embed.inject_css(\"https://cdn.pydata.org/bokeh/release/bokeh-0.12.6.min.css\");\n",
       "      console.log(\"Bokeh: injecting CSS: https://cdn.pydata.org/bokeh/release/bokeh-widgets-0.12.6.min.css\");\n",
       "      Bokeh.embed.inject_css(\"https://cdn.pydata.org/bokeh/release/bokeh-widgets-0.12.6.min.css\");\n",
       "    }\n",
       "  ];\n",
       "\n",
       "  function run_inline_js() {\n",
       "    \n",
       "    if ((window.Bokeh !== undefined) || (force === true)) {\n",
       "      for (var i = 0; i < inline_js.length; i++) {\n",
       "        inline_js[i](window.Bokeh);\n",
       "      }if (force === true) {\n",
       "        display_loaded();\n",
       "      }} else if (Date.now() < window._bokeh_timeout) {\n",
       "      setTimeout(run_inline_js, 100);\n",
       "    } else if (!window._bokeh_failed_load) {\n",
       "      console.log(\"Bokeh: BokehJS failed to load within specified timeout.\");\n",
       "      window._bokeh_failed_load = true;\n",
       "    } else if (force !== true) {\n",
       "      var cell = $(document.getElementById(\"3264a085-949f-4799-9c4e-15a998aa197e\")).parents('.cell').data().cell;\n",
       "      cell.output_area.append_execute_result(NB_LOAD_WARNING)\n",
       "    }\n",
       "\n",
       "  }\n",
       "\n",
       "  if (window._bokeh_is_loading === 0) {\n",
       "    console.log(\"Bokeh: BokehJS loaded, going straight to plotting\");\n",
       "    run_inline_js();\n",
       "  } else {\n",
       "    load_libs(js_urls, function() {\n",
       "      console.log(\"Bokeh: BokehJS plotting callback run at\", now());\n",
       "      run_inline_js();\n",
       "    });\n",
       "  }\n",
       "}(this));"
      ]
     },
     "metadata": {},
     "output_type": "display_data"
    }
   ],
   "source": [
    "from bokeh.plotting import figure\n",
    "from bokeh.io import output_notebook, push_notebook, show\n",
    "import numpy as np\n",
    "output_notebook()"
   ]
  },
  {
   "cell_type": "code",
   "execution_count": 3,
   "metadata": {
    "extensions": {
     "jupyter_dashboards": {
      "version": 1,
      "views": {
       "grid_default": {
        "col": 4,
        "height": 21,
        "hidden": false,
        "row": 11,
        "width": 8
       },
       "report_default": {}
      }
     }
    }
   },
   "outputs": [
    {
     "data": {
      "text/html": [
       "\n",
       "\n",
       "    <div class=\"bk-root\">\n",
       "        <div class=\"bk-plotdiv\" id=\"af584a2a-1f51-4850-9a7a-4ddfa709b67f\"></div>\n",
       "    </div>\n",
       "<script type=\"text/javascript\">\n",
       "  \n",
       "  (function(global) {\n",
       "    function now() {\n",
       "      return new Date();\n",
       "    }\n",
       "  \n",
       "    var force = false;\n",
       "  \n",
       "    if (typeof (window._bokeh_onload_callbacks) === \"undefined\" || force === true) {\n",
       "      window._bokeh_onload_callbacks = [];\n",
       "      window._bokeh_is_loading = undefined;\n",
       "    }\n",
       "  \n",
       "  \n",
       "    \n",
       "    if (typeof (window._bokeh_timeout) === \"undefined\" || force === true) {\n",
       "      window._bokeh_timeout = Date.now() + 0;\n",
       "      window._bokeh_failed_load = false;\n",
       "    }\n",
       "  \n",
       "    var NB_LOAD_WARNING = {'data': {'text/html':\n",
       "       \"<div style='background-color: #fdd'>\\n\"+\n",
       "       \"<p>\\n\"+\n",
       "       \"BokehJS does not appear to have successfully loaded. If loading BokehJS from CDN, this \\n\"+\n",
       "       \"may be due to a slow or bad network connection. Possible fixes:\\n\"+\n",
       "       \"</p>\\n\"+\n",
       "       \"<ul>\\n\"+\n",
       "       \"<li>re-rerun `output_notebook()` to attempt to load from CDN again, or</li>\\n\"+\n",
       "       \"<li>use INLINE resources instead, as so:</li>\\n\"+\n",
       "       \"</ul>\\n\"+\n",
       "       \"<code>\\n\"+\n",
       "       \"from bokeh.resources import INLINE\\n\"+\n",
       "       \"output_notebook(resources=INLINE)\\n\"+\n",
       "       \"</code>\\n\"+\n",
       "       \"</div>\"}};\n",
       "  \n",
       "    function display_loaded() {\n",
       "      if (window.Bokeh !== undefined) {\n",
       "        var el = document.getElementById(\"af584a2a-1f51-4850-9a7a-4ddfa709b67f\");\n",
       "        el.textContent = \"BokehJS \" + Bokeh.version + \" successfully loaded.\";\n",
       "      } else if (Date.now() < window._bokeh_timeout) {\n",
       "        setTimeout(display_loaded, 100)\n",
       "      }\n",
       "    }\n",
       "  \n",
       "    function run_callbacks() {\n",
       "      try {\n",
       "        window._bokeh_onload_callbacks.forEach(function(callback) { callback() });\n",
       "      }\n",
       "      finally {\n",
       "        delete window._bokeh_onload_callbacks\n",
       "      }\n",
       "      console.info(\"Bokeh: all callbacks have finished\");\n",
       "    }\n",
       "  \n",
       "    function load_libs(js_urls, callback) {\n",
       "      window._bokeh_onload_callbacks.push(callback);\n",
       "      if (window._bokeh_is_loading > 0) {\n",
       "        console.log(\"Bokeh: BokehJS is being loaded, scheduling callback at\", now());\n",
       "        return null;\n",
       "      }\n",
       "      if (js_urls == null || js_urls.length === 0) {\n",
       "        run_callbacks();\n",
       "        return null;\n",
       "      }\n",
       "      console.log(\"Bokeh: BokehJS not loaded, scheduling load and callback at\", now());\n",
       "      window._bokeh_is_loading = js_urls.length;\n",
       "      for (var i = 0; i < js_urls.length; i++) {\n",
       "        var url = js_urls[i];\n",
       "        var s = document.createElement('script');\n",
       "        s.src = url;\n",
       "        s.async = false;\n",
       "        s.onreadystatechange = s.onload = function() {\n",
       "          window._bokeh_is_loading--;\n",
       "          if (window._bokeh_is_loading === 0) {\n",
       "            console.log(\"Bokeh: all BokehJS libraries loaded\");\n",
       "            run_callbacks()\n",
       "          }\n",
       "        };\n",
       "        s.onerror = function() {\n",
       "          console.warn(\"failed to load library \" + url);\n",
       "        };\n",
       "        console.log(\"Bokeh: injecting script tag for BokehJS library: \", url);\n",
       "        document.getElementsByTagName(\"head\")[0].appendChild(s);\n",
       "      }\n",
       "    };var element = document.getElementById(\"af584a2a-1f51-4850-9a7a-4ddfa709b67f\");\n",
       "    if (element == null) {\n",
       "      console.log(\"Bokeh: ERROR: autoload.js configured with elementid 'af584a2a-1f51-4850-9a7a-4ddfa709b67f' but no matching script tag was found. \")\n",
       "      return false;\n",
       "    }\n",
       "  \n",
       "    var js_urls = [];\n",
       "  \n",
       "    var inline_js = [\n",
       "      function(Bokeh) {\n",
       "        (function() {\n",
       "          var fn = function() {\n",
       "            var docs_json = {\"fc34ec65-b398-44aa-9401-7fc4b13fd8df\":{\"roots\":{\"references\":[{\"attributes\":{\"plot\":{\"id\":\"110e5fd5-620e-4a42-b272-0cbc4db62756\",\"subtype\":\"Figure\",\"type\":\"Plot\"}},\"id\":\"d750025e-cfe2-4758-81ea-39b620d027cf\",\"type\":\"PanTool\"},{\"attributes\":{\"plot\":{\"id\":\"110e5fd5-620e-4a42-b272-0cbc4db62756\",\"subtype\":\"Figure\",\"type\":\"Plot\"}},\"id\":\"97dbba73-d15a-4294-89d2-2c1e0cc200af\",\"type\":\"WheelZoomTool\"},{\"attributes\":{\"overlay\":{\"id\":\"fffaa49c-e123-4e81-bc0d-17628fc0bf9f\",\"type\":\"BoxAnnotation\"},\"plot\":{\"id\":\"110e5fd5-620e-4a42-b272-0cbc4db62756\",\"subtype\":\"Figure\",\"type\":\"Plot\"}},\"id\":\"3c67e155-06a0-4fa6-a693-ad18143a1118\",\"type\":\"BoxZoomTool\"},{\"attributes\":{\"plot\":{\"id\":\"110e5fd5-620e-4a42-b272-0cbc4db62756\",\"subtype\":\"Figure\",\"type\":\"Plot\"}},\"id\":\"9e5facc3-70e8-42eb-93d5-2124f1f641cf\",\"type\":\"ResetTool\"},{\"attributes\":{\"plot\":{\"id\":\"110e5fd5-620e-4a42-b272-0cbc4db62756\",\"subtype\":\"Figure\",\"type\":\"Plot\"}},\"id\":\"207c6b8e-0323-49dc-b4ee-46bcbf0216f2\",\"type\":\"SaveTool\"},{\"attributes\":{\"callback\":null,\"overlay\":{\"id\":\"0527d8d7-cf6f-4794-96e8-65c8ffa60c73\",\"type\":\"BoxAnnotation\"},\"plot\":{\"id\":\"110e5fd5-620e-4a42-b272-0cbc4db62756\",\"subtype\":\"Figure\",\"type\":\"Plot\"},\"renderers\":[{\"id\":\"2bcff3b9-6b5a-45ae-97b4-69bf63c86d04\",\"type\":\"GlyphRenderer\"}]},\"id\":\"c6297d67-534a-49b0-8b9f-82f8519c133e\",\"type\":\"BoxSelectTool\"},{\"attributes\":{},\"id\":\"e98ae790-568e-4e2a-b561-cce92aac2b46\",\"type\":\"BasicTickFormatter\"},{\"attributes\":{\"bottom_units\":\"screen\",\"fill_alpha\":{\"value\":0.5},\"fill_color\":{\"value\":\"lightgrey\"},\"left_units\":\"screen\",\"level\":\"overlay\",\"line_alpha\":{\"value\":1.0},\"line_color\":{\"value\":\"black\"},\"line_dash\":[4,4],\"line_width\":{\"value\":2},\"plot\":null,\"render_mode\":\"css\",\"right_units\":\"screen\",\"top_units\":\"screen\"},\"id\":\"0527d8d7-cf6f-4794-96e8-65c8ffa60c73\",\"type\":\"BoxAnnotation\"},{\"attributes\":{},\"id\":\"45c791c7-0d33-4427-8490-3fa01d0faf8c\",\"type\":\"BasicTickFormatter\"},{\"attributes\":{\"below\":[{\"id\":\"434c5b5f-ac49-4f04-bdaf-3e6c6f41f499\",\"type\":\"LinearAxis\"}],\"left\":[{\"id\":\"fd45d449-a144-4f0c-9577-82e462e1d978\",\"type\":\"LinearAxis\"}],\"renderers\":[{\"id\":\"434c5b5f-ac49-4f04-bdaf-3e6c6f41f499\",\"type\":\"LinearAxis\"},{\"id\":\"c95a0d79-fc24-452a-9cb7-4b10b451bd3d\",\"type\":\"Grid\"},{\"id\":\"fd45d449-a144-4f0c-9577-82e462e1d978\",\"type\":\"LinearAxis\"},{\"id\":\"7bd7f926-d3b2-442c-861d-af5a61685c72\",\"type\":\"Grid\"},{\"id\":\"fffaa49c-e123-4e81-bc0d-17628fc0bf9f\",\"type\":\"BoxAnnotation\"},{\"id\":\"0527d8d7-cf6f-4794-96e8-65c8ffa60c73\",\"type\":\"BoxAnnotation\"},{\"id\":\"ee86d9f2-4075-4a4f-8971-32fdcbea494d\",\"type\":\"Legend\"},{\"id\":\"2bcff3b9-6b5a-45ae-97b4-69bf63c86d04\",\"type\":\"GlyphRenderer\"}],\"title\":{\"id\":\"b6c27a53-9bd6-490a-b833-da0c17176183\",\"type\":\"Title\"},\"tool_events\":{\"id\":\"5bca23cb-1c9b-4a35-a203-be837d5bbfd4\",\"type\":\"ToolEvents\"},\"toolbar\":{\"id\":\"6275e35a-804b-4613-908e-e8f6c24ba965\",\"type\":\"Toolbar\"},\"x_range\":{\"id\":\"1b6157e5-04a2-40c4-b301-1f1cf83973e1\",\"type\":\"DataRange1d\"},\"x_scale\":{\"id\":\"90454bd6-b5a6-4ffe-b2dd-f38b1323ad41\",\"type\":\"LinearScale\"},\"y_range\":{\"id\":\"cf9c3711-2f3c-40ef-969d-337140584793\",\"type\":\"DataRange1d\"},\"y_scale\":{\"id\":\"afda7d9f-36ae-426a-916d-09c083b9935c\",\"type\":\"LinearScale\"}},\"id\":\"110e5fd5-620e-4a42-b272-0cbc4db62756\",\"subtype\":\"Figure\",\"type\":\"Plot\"},{\"attributes\":{\"line_alpha\":{\"value\":0.1},\"line_color\":{\"value\":\"#1f77b4\"},\"x\":{\"field\":\"x\"},\"y\":{\"field\":\"y\"}},\"id\":\"1b1f07c1-3238-4b28-83d8-79374063c194\",\"type\":\"Line\"},{\"attributes\":{\"callback\":null,\"column_names\":[\"x\",\"y\"],\"data\":{\"x\":{\"__ndarray__\":\"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\",\"dtype\":\"float64\",\"shape\":[200]},\"y\":{\"__ndarray__\":\"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\",\"dtype\":\"float64\",\"shape\":[200]}}},\"id\":\"1ae4a721-ffaa-46d4-b4dc-ee9ec152e4d3\",\"type\":\"ColumnDataSource\"},{\"attributes\":{\"items\":[{\"id\":\"da2b30dc-d844-4018-a958-fe993053fc1b\",\"type\":\"LegendItem\"}],\"plot\":{\"id\":\"110e5fd5-620e-4a42-b272-0cbc4db62756\",\"subtype\":\"Figure\",\"type\":\"Plot\"}},\"id\":\"ee86d9f2-4075-4a4f-8971-32fdcbea494d\",\"type\":\"Legend\"},{\"attributes\":{\"label\":{\"value\":\"sin(x)\"},\"renderers\":[{\"id\":\"2bcff3b9-6b5a-45ae-97b4-69bf63c86d04\",\"type\":\"GlyphRenderer\"}]},\"id\":\"da2b30dc-d844-4018-a958-fe993053fc1b\",\"type\":\"LegendItem\"},{\"attributes\":{\"plot\":null,\"text\":\"Basic Line Example\"},\"id\":\"b6c27a53-9bd6-490a-b833-da0c17176183\",\"type\":\"Title\"},{\"attributes\":{\"line_color\":{\"value\":\"#1f77b4\"},\"x\":{\"field\":\"x\"},\"y\":{\"field\":\"y\"}},\"id\":\"7d0242e3-306a-4679-84b5-455bf2cc9d36\",\"type\":\"Line\"},{\"attributes\":{\"callback\":null},\"id\":\"1b6157e5-04a2-40c4-b301-1f1cf83973e1\",\"type\":\"DataRange1d\"},{\"attributes\":{},\"id\":\"5bca23cb-1c9b-4a35-a203-be837d5bbfd4\",\"type\":\"ToolEvents\"},{\"attributes\":{\"active_drag\":\"auto\",\"active_inspect\":\"auto\",\"active_scroll\":\"auto\",\"active_tap\":\"auto\",\"tools\":[{\"id\":\"d750025e-cfe2-4758-81ea-39b620d027cf\",\"type\":\"PanTool\"},{\"id\":\"97dbba73-d15a-4294-89d2-2c1e0cc200af\",\"type\":\"WheelZoomTool\"},{\"id\":\"3c67e155-06a0-4fa6-a693-ad18143a1118\",\"type\":\"BoxZoomTool\"},{\"id\":\"9e5facc3-70e8-42eb-93d5-2124f1f641cf\",\"type\":\"ResetTool\"},{\"id\":\"207c6b8e-0323-49dc-b4ee-46bcbf0216f2\",\"type\":\"SaveTool\"},{\"id\":\"c6297d67-534a-49b0-8b9f-82f8519c133e\",\"type\":\"BoxSelectTool\"}]},\"id\":\"6275e35a-804b-4613-908e-e8f6c24ba965\",\"type\":\"Toolbar\"},{\"attributes\":{\"bottom_units\":\"screen\",\"fill_alpha\":{\"value\":0.5},\"fill_color\":{\"value\":\"lightgrey\"},\"left_units\":\"screen\",\"level\":\"overlay\",\"line_alpha\":{\"value\":1.0},\"line_color\":{\"value\":\"black\"},\"line_dash\":[4,4],\"line_width\":{\"value\":2},\"plot\":null,\"render_mode\":\"css\",\"right_units\":\"screen\",\"top_units\":\"screen\"},\"id\":\"fffaa49c-e123-4e81-bc0d-17628fc0bf9f\",\"type\":\"BoxAnnotation\"},{\"attributes\":{},\"id\":\"90454bd6-b5a6-4ffe-b2dd-f38b1323ad41\",\"type\":\"LinearScale\"},{\"attributes\":{\"callback\":null},\"id\":\"cf9c3711-2f3c-40ef-969d-337140584793\",\"type\":\"DataRange1d\"},{\"attributes\":{},\"id\":\"afda7d9f-36ae-426a-916d-09c083b9935c\",\"type\":\"LinearScale\"},{\"attributes\":{\"formatter\":{\"id\":\"45c791c7-0d33-4427-8490-3fa01d0faf8c\",\"type\":\"BasicTickFormatter\"},\"plot\":{\"id\":\"110e5fd5-620e-4a42-b272-0cbc4db62756\",\"subtype\":\"Figure\",\"type\":\"Plot\"},\"ticker\":{\"id\":\"c3dbbaed-73df-42cb-8b5e-daf70c9fc38e\",\"type\":\"BasicTicker\"}},\"id\":\"434c5b5f-ac49-4f04-bdaf-3e6c6f41f499\",\"type\":\"LinearAxis\"},{\"attributes\":{\"data_source\":{\"id\":\"1ae4a721-ffaa-46d4-b4dc-ee9ec152e4d3\",\"type\":\"ColumnDataSource\"},\"glyph\":{\"id\":\"7d0242e3-306a-4679-84b5-455bf2cc9d36\",\"type\":\"Line\"},\"hover_glyph\":null,\"muted_glyph\":null,\"nonselection_glyph\":{\"id\":\"1b1f07c1-3238-4b28-83d8-79374063c194\",\"type\":\"Line\"},\"selection_glyph\":null},\"id\":\"2bcff3b9-6b5a-45ae-97b4-69bf63c86d04\",\"type\":\"GlyphRenderer\"},{\"attributes\":{},\"id\":\"c3dbbaed-73df-42cb-8b5e-daf70c9fc38e\",\"type\":\"BasicTicker\"},{\"attributes\":{\"plot\":{\"id\":\"110e5fd5-620e-4a42-b272-0cbc4db62756\",\"subtype\":\"Figure\",\"type\":\"Plot\"},\"ticker\":{\"id\":\"c3dbbaed-73df-42cb-8b5e-daf70c9fc38e\",\"type\":\"BasicTicker\"}},\"id\":\"c95a0d79-fc24-452a-9cb7-4b10b451bd3d\",\"type\":\"Grid\"},{\"attributes\":{\"formatter\":{\"id\":\"e98ae790-568e-4e2a-b561-cce92aac2b46\",\"type\":\"BasicTickFormatter\"},\"plot\":{\"id\":\"110e5fd5-620e-4a42-b272-0cbc4db62756\",\"subtype\":\"Figure\",\"type\":\"Plot\"},\"ticker\":{\"id\":\"d8e1dc07-4fb5-4931-83bb-0bfdd927802b\",\"type\":\"BasicTicker\"}},\"id\":\"fd45d449-a144-4f0c-9577-82e462e1d978\",\"type\":\"LinearAxis\"},{\"attributes\":{},\"id\":\"d8e1dc07-4fb5-4931-83bb-0bfdd927802b\",\"type\":\"BasicTicker\"},{\"attributes\":{\"dimension\":1,\"plot\":{\"id\":\"110e5fd5-620e-4a42-b272-0cbc4db62756\",\"subtype\":\"Figure\",\"type\":\"Plot\"},\"ticker\":{\"id\":\"d8e1dc07-4fb5-4931-83bb-0bfdd927802b\",\"type\":\"BasicTicker\"}},\"id\":\"7bd7f926-d3b2-442c-861d-af5a61685c72\",\"type\":\"Grid\"}],\"root_ids\":[\"110e5fd5-620e-4a42-b272-0cbc4db62756\"]},\"title\":\"Bokeh Application\",\"version\":\"0.12.6\"}};\n",
       "            var render_items = [{\"docid\":\"fc34ec65-b398-44aa-9401-7fc4b13fd8df\",\"elementid\":\"af584a2a-1f51-4850-9a7a-4ddfa709b67f\",\"modelid\":\"110e5fd5-620e-4a42-b272-0cbc4db62756\"}];\n",
       "            \n",
       "            Bokeh.embed.embed_items(docs_json, render_items);\n",
       "          };\n",
       "          if (document.readyState != \"loading\") fn();\n",
       "          else document.addEventListener(\"DOMContentLoaded\", fn);\n",
       "        })();\n",
       "      },\n",
       "      function(Bokeh) {\n",
       "      }\n",
       "    ];\n",
       "  \n",
       "    function run_inline_js() {\n",
       "      \n",
       "      if ((window.Bokeh !== undefined) || (force === true)) {\n",
       "        for (var i = 0; i < inline_js.length; i++) {\n",
       "          inline_js[i](window.Bokeh);\n",
       "        }if (force === true) {\n",
       "          display_loaded();\n",
       "        }} else if (Date.now() < window._bokeh_timeout) {\n",
       "        setTimeout(run_inline_js, 100);\n",
       "      } else if (!window._bokeh_failed_load) {\n",
       "        console.log(\"Bokeh: BokehJS failed to load within specified timeout.\");\n",
       "        window._bokeh_failed_load = true;\n",
       "      } else if (force !== true) {\n",
       "        var cell = $(document.getElementById(\"af584a2a-1f51-4850-9a7a-4ddfa709b67f\")).parents('.cell').data().cell;\n",
       "        cell.output_area.append_execute_result(NB_LOAD_WARNING)\n",
       "      }\n",
       "  \n",
       "    }\n",
       "  \n",
       "    if (window._bokeh_is_loading === 0) {\n",
       "      console.log(\"Bokeh: BokehJS loaded, going straight to plotting\");\n",
       "      run_inline_js();\n",
       "    } else {\n",
       "      load_libs(js_urls, function() {\n",
       "        console.log(\"Bokeh: BokehJS plotting callback run at\", now());\n",
       "        run_inline_js();\n",
       "      });\n",
       "    }\n",
       "  }(this));\n",
       "</script>"
      ]
     },
     "metadata": {},
     "output_type": "display_data"
    }
   ],
   "source": [
    "TOOLS = \"pan,wheel_zoom,box_zoom,reset,save,box_select\"\n",
    "x = np.linspace(0,10,200)\n",
    "y = np.sin(x)\n",
    "\n",
    "p = figure(title=\"Basic Line Example\", tools=TOOLS)\n",
    "p.line(x, y, legend=\"sin(x)\")\n",
    "show(p)"
   ]
  },
  {
   "cell_type": "markdown",
   "metadata": {},
   "source": [
    "# Double Line Plot"
   ]
  },
  {
   "cell_type": "code",
   "execution_count": 4,
   "metadata": {
    "extensions": {
     "jupyter_dashboards": {
      "version": 1,
      "views": {
       "grid_default": {
        "col": 0,
        "height": 24,
        "hidden": false,
        "row": 32,
        "width": 11
       },
       "report_default": {}
      }
     }
    }
   },
   "outputs": [
    {
     "data": {
      "text/html": [
       "\n",
       "\n",
       "    <div class=\"bk-root\">\n",
       "        <div class=\"bk-plotdiv\" id=\"8f5268b1-e1b0-4aeb-9d6a-a816447c6d55\"></div>\n",
       "    </div>\n",
       "<script type=\"text/javascript\">\n",
       "  \n",
       "  (function(global) {\n",
       "    function now() {\n",
       "      return new Date();\n",
       "    }\n",
       "  \n",
       "    var force = false;\n",
       "  \n",
       "    if (typeof (window._bokeh_onload_callbacks) === \"undefined\" || force === true) {\n",
       "      window._bokeh_onload_callbacks = [];\n",
       "      window._bokeh_is_loading = undefined;\n",
       "    }\n",
       "  \n",
       "  \n",
       "    \n",
       "    if (typeof (window._bokeh_timeout) === \"undefined\" || force === true) {\n",
       "      window._bokeh_timeout = Date.now() + 0;\n",
       "      window._bokeh_failed_load = false;\n",
       "    }\n",
       "  \n",
       "    var NB_LOAD_WARNING = {'data': {'text/html':\n",
       "       \"<div style='background-color: #fdd'>\\n\"+\n",
       "       \"<p>\\n\"+\n",
       "       \"BokehJS does not appear to have successfully loaded. If loading BokehJS from CDN, this \\n\"+\n",
       "       \"may be due to a slow or bad network connection. Possible fixes:\\n\"+\n",
       "       \"</p>\\n\"+\n",
       "       \"<ul>\\n\"+\n",
       "       \"<li>re-rerun `output_notebook()` to attempt to load from CDN again, or</li>\\n\"+\n",
       "       \"<li>use INLINE resources instead, as so:</li>\\n\"+\n",
       "       \"</ul>\\n\"+\n",
       "       \"<code>\\n\"+\n",
       "       \"from bokeh.resources import INLINE\\n\"+\n",
       "       \"output_notebook(resources=INLINE)\\n\"+\n",
       "       \"</code>\\n\"+\n",
       "       \"</div>\"}};\n",
       "  \n",
       "    function display_loaded() {\n",
       "      if (window.Bokeh !== undefined) {\n",
       "        var el = document.getElementById(\"8f5268b1-e1b0-4aeb-9d6a-a816447c6d55\");\n",
       "        el.textContent = \"BokehJS \" + Bokeh.version + \" successfully loaded.\";\n",
       "      } else if (Date.now() < window._bokeh_timeout) {\n",
       "        setTimeout(display_loaded, 100)\n",
       "      }\n",
       "    }if ((window.Jupyter !== undefined) && Jupyter.notebook.kernel) {\n",
       "      comm_manager = Jupyter.notebook.kernel.comm_manager\n",
       "      comm_manager.register_target(\"cbd39dca-152a-4ad3-a5ef-b4791b0deb38\", function () {});\n",
       "    }\n",
       "  \n",
       "    function run_callbacks() {\n",
       "      try {\n",
       "        window._bokeh_onload_callbacks.forEach(function(callback) { callback() });\n",
       "      }\n",
       "      finally {\n",
       "        delete window._bokeh_onload_callbacks\n",
       "      }\n",
       "      console.info(\"Bokeh: all callbacks have finished\");\n",
       "    }\n",
       "  \n",
       "    function load_libs(js_urls, callback) {\n",
       "      window._bokeh_onload_callbacks.push(callback);\n",
       "      if (window._bokeh_is_loading > 0) {\n",
       "        console.log(\"Bokeh: BokehJS is being loaded, scheduling callback at\", now());\n",
       "        return null;\n",
       "      }\n",
       "      if (js_urls == null || js_urls.length === 0) {\n",
       "        run_callbacks();\n",
       "        return null;\n",
       "      }\n",
       "      console.log(\"Bokeh: BokehJS not loaded, scheduling load and callback at\", now());\n",
       "      window._bokeh_is_loading = js_urls.length;\n",
       "      for (var i = 0; i < js_urls.length; i++) {\n",
       "        var url = js_urls[i];\n",
       "        var s = document.createElement('script');\n",
       "        s.src = url;\n",
       "        s.async = false;\n",
       "        s.onreadystatechange = s.onload = function() {\n",
       "          window._bokeh_is_loading--;\n",
       "          if (window._bokeh_is_loading === 0) {\n",
       "            console.log(\"Bokeh: all BokehJS libraries loaded\");\n",
       "            run_callbacks()\n",
       "          }\n",
       "        };\n",
       "        s.onerror = function() {\n",
       "          console.warn(\"failed to load library \" + url);\n",
       "        };\n",
       "        console.log(\"Bokeh: injecting script tag for BokehJS library: \", url);\n",
       "        document.getElementsByTagName(\"head\")[0].appendChild(s);\n",
       "      }\n",
       "    };var element = document.getElementById(\"8f5268b1-e1b0-4aeb-9d6a-a816447c6d55\");\n",
       "    if (element == null) {\n",
       "      console.log(\"Bokeh: ERROR: autoload.js configured with elementid '8f5268b1-e1b0-4aeb-9d6a-a816447c6d55' but no matching script tag was found. \")\n",
       "      return false;\n",
       "    }\n",
       "  \n",
       "    var js_urls = [];\n",
       "  \n",
       "    var inline_js = [\n",
       "      function(Bokeh) {\n",
       "        (function() {\n",
       "          var fn = function() {\n",
       "            var docs_json = {\"51fe3a59-317f-4e50-8ee1-b197d83afec2\":{\"roots\":{\"references\":[{\"attributes\":{\"callback\":null,\"column_names\":[\"x\",\"y\"],\"data\":{\"x\":{\"__ndarray__\":\"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\",\"dtype\":\"float64\",\"shape\":[200]},\"y\":{\"__ndarray__\":\"AAAAAAAAAAC3OCrPwrepP+iw9Dlzr7k/eDl/oDU5wz8k66EARY7JP+yqWgfQ0s8/UqC71WQB0z/aYG0XGQ3WP/XvEtqMCtk/ZBAOZdH32z8HfpB1AtPeP5Dky7sjzeA/TRquW+ol4j/FlzZF9nLjP4+x3Tdws+Q/mhXrEonm5T+EUlRbegvnP5WkBLyGIeg/hx87gPon6T+xHrAHLB7qP3LqNjR8A+s/tLeU0FbX6z8VikrwMpnsP+QPFEiTSO0/1EXifgbl7T/2ix13J27uP/TS/4+d4+4/paTc3hxF7z9nAjJgZpLvPxRjYiBIy+8/BX79W53v7z+TBYOXTv/vP7z1j65R+u8/xqds2qng7z9QbvevZ7LvP5oS7RSpb+8/HyCWLJkY7z+oe+U7cK3uP9NKGoVzLu4/Sa38GvWb7T/tNdKrU/bsP5tsLET6Pew/RuW4CWBz6z/moz/uB5fqP1KSAVuAqek/zbqt1GKr6D8WxCiYU53nP7fPZjABgOY/jlWcBSRU5T9v5Q7mfRrkP8TW0ojZ0+I/7NrGCgqB4T8HICJm6iLgP2tn2sm5dN0/7DyCHZWQ2j86fFYkRZvXP3VtLlSzltQ/NsZF/9KE0T/I/QkjQM/MP4xfdZA7gsY/TEI0yqomwD+xIFl1U4GzP37bLlvYopo/z82EOdTQmL+huTe5HQ2zvyPWLkC22b+/qOyAd9xIxr8XlbGvdpbMv4FtRXLLaNG/jYB/ERt71L+y5rABLoDXv3NkKZ0Qdtq/sjpMD9la3b8Rw5JIVBbgv1tjbU/WdOG/O0iXEhDI4r8nQypTJg/kv2IurKpFSeW/9FywE6N15r/vqg5tfJPnv69fW/cYoui/gMpOzMmg6b+vbc9P6o7qv6ioVZrga+u/iB5k3B037L8yj9S6HvDsvzN7vaNrlu2/zbO5G5kp7r/R5F8DSKnuv3syvdQlFe+/Vi+r2Oxs779gsd5TZLDvv2Jnkqtg3++/wXu1gcP577/qDYzIe//vv/nStM2F8O+/7b2MPOvM778eJO8Xw5Tvv+5nVqsxSO+/eMZmc2jn7r96cfL9pXLuv1ahi8E16u2/lcC+7G9O7b+LNhQtuZ/svwWn/m2C3uu/F7Xfj0gL6782dFIXlCbqv4ix79T4MOm//xvFhRUr6L8jCr1skxXnv1ssOeUl8eW/498m74m+5L88Dti0hX7jv/GL7wroMeK/xb2z6ofZ4L//0zvOh+zev3wEADoDEty/O747PVol2b8drzO2cCjWv/CgLgQ1HdO/O6jwx54F0L/4yXU8W8fJv5ZqRKrPcsO/eD9KdGQjur90P7yyiaCqv33juwScIl2/muwql/bOqD8+yeqsfDu5P2Be2ZqX/8I/ug36eClVyT8A/HjmW5rPP9wv+baQ5dI/h2bB5rzx1T/bV2JGuu/YP/bZTMSZ3ds/VW6NuXa53j9ja4QRvMDgP6RgmenoGeI/aXq8zWJn4z+SYlE2UqjkP3A2tbbn2+U/5h5Og1wB5z+JLgfy8hfoP0t75fT2Huk/rTlnjr4V6j8uo2E/qvvqP8WlFm4l0Os/d7w/xqaS7D9E3s+RsELtP+glMwrR3+0/a6/XoaJp7j+2JNBFzN/uP4GNZZcBQu8/Zy1zHQOQ7z9TiWxtnsnvP8oQ80uu7u8/q1vmxBr/7z8Hb9862frvP3oHDW7s4e8/+3lsemS07z9DUWDNXnLvP3NiqxIGHO8/yaPcGJKx7j+kmD2tRzPuPzyiWm94oe0/BvNBnIL87D+WPJvR0ETsPzh2v8jZeus/lET9CSCf6j8YmzuYMbLpP+gcMZWntOg/bpBr3iWn5z/bW2ejWormP9Z++/T9XuU/58piTtEl5D8yPy8Yn9/iP09YeCU6jeE/eOKYK30v4D+zuqhplI7dP9mdfhwUq9o/Mt+RYle21z9g4I5SR7LUPwRW1erWoNE//qHtnQMIzT82tz3/lbvGP7V2cRt3YMA/F9CnJoX1sz8Ai7P31nScP21KSfPK/pa/L/pYCuSYsr+3FSxSEGa/v0ckRMB4D8a/VCqpT6ddzL/VXaNJwEzRvz0bOpB+X9S/ml0+ABJl17/17/Kghlvav0wfWz/yQN2/7IyG1boJ4L9ST/P1nmjhvw==\",\"dtype\":\"float64\",\"shape\":[200]}}},\"id\":\"b04ce9ea-0d9a-4e4f-8b01-df184a10ee6c\",\"type\":\"ColumnDataSource\"},{\"attributes\":{\"below\":[{\"id\":\"155813bc-1790-4b89-9dfb-838972d9edc3\",\"type\":\"LinearAxis\"}],\"left\":[{\"id\":\"bc846af7-35f6-405d-aeef-ef685613bab3\",\"type\":\"LinearAxis\"}],\"plot_height\":500,\"plot_width\":800,\"renderers\":[{\"id\":\"155813bc-1790-4b89-9dfb-838972d9edc3\",\"type\":\"LinearAxis\"},{\"id\":\"84488808-19f4-4a2f-9719-0c86eaa5781a\",\"type\":\"Grid\"},{\"id\":\"bc846af7-35f6-405d-aeef-ef685613bab3\",\"type\":\"LinearAxis\"},{\"id\":\"e66526fe-88e3-4a49-bf26-6ee69c8522f3\",\"type\":\"Grid\"},{\"id\":\"2c38de76-1f95-444f-8823-3aff1aeadd2e\",\"type\":\"BoxAnnotation\"},{\"id\":\"e8b6fc17-209e-405c-8c05-66c564c8de96\",\"type\":\"GlyphRenderer\"},{\"id\":\"64e64588-797d-408a-9891-93297521adb3\",\"type\":\"GlyphRenderer\"}],\"title\":{\"id\":\"5afd4bbc-2bcb-4c40-876a-3678248b5fdc\",\"type\":\"Title\"},\"tool_events\":{\"id\":\"979bbbd5-fbe6-4075-b5f1-924c70e602be\",\"type\":\"ToolEvents\"},\"toolbar\":{\"id\":\"5e32c63d-215f-4a2c-8339-192e1181181b\",\"type\":\"Toolbar\"},\"x_range\":{\"id\":\"e8439d8d-4572-4253-9dcd-68f07b8898eb\",\"type\":\"DataRange1d\"},\"x_scale\":{\"id\":\"466c90d3-5b11-44d2-91c3-a32bd05e4eba\",\"type\":\"LinearScale\"},\"y_range\":{\"id\":\"93469c9d-69c7-416a-8167-1d3ce4060b0d\",\"type\":\"Range1d\"},\"y_scale\":{\"id\":\"1fe4de81-ec57-4a12-baf8-302de89c09c2\",\"type\":\"LinearScale\"}},\"id\":\"b98f4636-93c9-4a00-a2e3-43abfc94dbfa\",\"subtype\":\"Figure\",\"type\":\"Plot\"},{\"attributes\":{\"line_width\":{\"value\":2},\"x\":{\"field\":\"x\"},\"y\":{\"field\":\"y\"}},\"id\":\"d7ddb24e-89ba-4986-b1c9-1fb886fe643c\",\"type\":\"Line\"},{\"attributes\":{\"formatter\":{\"id\":\"794448c6-ac5f-4031-a2bb-4fe5b3a00be9\",\"type\":\"BasicTickFormatter\"},\"plot\":{\"id\":\"b98f4636-93c9-4a00-a2e3-43abfc94dbfa\",\"subtype\":\"Figure\",\"type\":\"Plot\"},\"ticker\":{\"id\":\"8608939e-ea83-4116-bd3d-873ecfd80a28\",\"type\":\"BasicTicker\"}},\"id\":\"bc846af7-35f6-405d-aeef-ef685613bab3\",\"type\":\"LinearAxis\"},{\"attributes\":{},\"id\":\"8608939e-ea83-4116-bd3d-873ecfd80a28\",\"type\":\"BasicTicker\"},{\"attributes\":{\"callback\":null,\"column_names\":[\"x\",\"y\"],\"data\":{\"x\":{\"__ndarray__\":\"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\",\"dtype\":\"float64\",\"shape\":[200]},\"y\":{\"__ndarray__\":\"AAAAAAAA8D87Fm+0qPXvPz8Vt4Cp1u8/Q152bRaj7z/yRvzPEFvvP4TqvTTH/u4/92hAQXWO7j8oBoyNYwruPxsTQXXncu0/dPRs4GLI7D/n7UIERAvsP2SY4RsFPOs/PgxTGSxb6j8mzvpOSmnpP6VyqRH8Zug/PKySU+hU5z+kEWc4wDPmP8NY16I+BOU/+QTLuyfH4z+PmZhzSH3iP+lAkf11J+E/swdrjBqN3z/OP9jI5LbcP6iKLgwgztk/zgfPsK3U1j9Q3JzYeczTPz746i56t9A/3dt/SFkvyz9H04JJLN7EP1UycSgF/7w/c2QFJ/QusD8snBcKbKOKP9M/eyeAEKO/m2/QfsRetr9UWxDRaZPBv1FEBFwV7Me/6jfv1Eo1zr80ZFEXfTXSv/vEJP2PRNW/kvu4/+NF2L+qKyLlhzfbvwpqHpeUF96/pZXyLhdy4L+dz84Jw83hv8ag2iftHeO/RpSqRLxh5L/fKx0YX5jlv4LJnd0Mwea/R+3m1QXb57+G6u/Ck+Xov0b7tV0K4Om/upGUxcfJ6r8j8eToNKLrv3tvoebFaOy/L0XNaPoc7b/HfGb3Xb7tv7xmrEOITO6/wuqJax3H7r84JPg0zi3vvzDoMkFYgO+/xhyeN4a+7792KEDoL+jvv8Iwu2U6/e+/ul60Fpj977/a6Z2+SOnvvwM73n1ZwO+/VA5UyeSC77+EDz1ZEjHvv+z9iQ8Xy+6/x++w1TRR7r+iyxNyusPtv22AFlUDI+2/DeQFXndv7L+OavWXiqnrv7cZv+680eq/JDJW3Jno6b9z/aEOuO7ov24EGwa55Oe/bp5prUjL5r85UEnqHKPlv5HK+Cf1bOS/3IOC25kp479p4i0C3Nnhv5mzbJqUfuC/u3g4L0gx3r8vD+mh41Hbv2ZoB9jWYNi/hMsrhghg1b8mOdqPaVHSvwxyuoznbc6/8ai2Q1ElyL/rD/XqH83Bv6mgoH3a0ra/VvXyrGn5o78+S7D3Kf+GP2lDOGxHda8/PeXMtTeLvD+FAG97rKTEP7CpQY9l9so/pq89xFib0D/9nz4Ow7DTP94iM3BzudY/grVK7nOz2T+9A8UK2JzcP/CBPwS+c98/t1yJBigb4T8dBXu9YnHiP4zREvexu+M/+valN0D55D9i07pBQCnmP10hr5rtSuc/W5i0CY1d6D+k5tEQbWDpP27QmV/mUuo/rU9OP1w06z+i0Cn4PATsP8oUjS8Cwuw/ud3UPjFt7T93QJ+CWwXuP6BlTaIeiu4/Bn+TzyT77j8M3u39JFjvPwFT1xHjoO8/5lGiBzDV7z/owNsR6vTvPyLNI6/8/+8/yaZut2D27z8flKRgHNjvP9NdnjpDpe8/9KyAIvZd7z9ahn4tYwLvP9udEIvFku4/McG0XmUP7j+oE06Rl3jtP9g8RJq9zuw/PAKFQEUS7D97ApFTqEPrP2ltwVxsY+o/yZr5SCJy6T+qR/wKZnDoPycEoTbeXuc/EfYqlTs+5j+phQazOA/lP0TNN2eZ0uM/qbjHVCqJ4j+AooFmwDPhP/HVrYpwpt8/PvCCk+vQ3D8NmQLRxujZP0LCKDbj79Y/VWSViCzo0z8y5bUimNPQP59wel9HaMs/qUl4xKcXxT93X7qYzHK9PyxiVz1Bo7A/RvQ6l6hHjj9mopKukieivwGyLd2p6rW/ldu0ErBZwb+BOSh/1LLHv9TCe9qn/M2/GhC72IwZ0r+qPMcLEynVv6pMpB/sKti/lJNlhCYd278pdITC2v3dv+xV91qWZeC/9lXhYKbB4b8mjPl9PBLjvxvjByh/VuS/wiM8zJyN5b/vI6FWzLbmv21RErRN0ee/a5xfTmrc6L8thE+CddfpvzMCMw/Nweq/TTXDf9ma6786BwWMDmLsvzyH83PrFu2/mmG2Uvu47b8Jqy5q1Ufuv6gsqWYdw+6/Am+KmoMq77+q880xxX3vv2VUN12svO+/+l0ZdRDn778krJwT1vzvv2HLdCbv/e+/rG7491rq779x2JYvJsLvv9Mqqslqhe+/b+irBlA07799gNZRCs/uv5pLRB/bVe6//N6hwRDJ7b/8DI83BintvxlLz/Aiduy/X39vi9qw678fawyJrNnqvw==\",\"dtype\":\"float64\",\"shape\":[200]}}},\"id\":\"406e3af0-ea76-4735-95c5-b80196b0db8d\",\"type\":\"ColumnDataSource\"},{\"attributes\":{},\"id\":\"653c4684-0b32-425d-b097-b0845d9e4e8d\",\"type\":\"BasicTicker\"},{\"attributes\":{\"dimension\":1,\"plot\":{\"id\":\"b98f4636-93c9-4a00-a2e3-43abfc94dbfa\",\"subtype\":\"Figure\",\"type\":\"Plot\"},\"ticker\":{\"id\":\"8608939e-ea83-4116-bd3d-873ecfd80a28\",\"type\":\"BasicTicker\"}},\"id\":\"e66526fe-88e3-4a49-bf26-6ee69c8522f3\",\"type\":\"Grid\"},{\"attributes\":{\"data_source\":{\"id\":\"b04ce9ea-0d9a-4e4f-8b01-df184a10ee6c\",\"type\":\"ColumnDataSource\"},\"glyph\":{\"id\":\"d7ddb24e-89ba-4986-b1c9-1fb886fe643c\",\"type\":\"Line\"},\"hover_glyph\":null,\"muted_glyph\":null,\"nonselection_glyph\":{\"id\":\"a66bfb19-f4e7-448f-9033-a3d8be844f56\",\"type\":\"Line\"},\"selection_glyph\":null},\"id\":\"e8b6fc17-209e-405c-8c05-66c564c8de96\",\"type\":\"GlyphRenderer\"},{\"attributes\":{\"plot\":{\"id\":\"b98f4636-93c9-4a00-a2e3-43abfc94dbfa\",\"subtype\":\"Figure\",\"type\":\"Plot\"}},\"id\":\"9ea1fd28-ce9a-4862-9582-629fecd8ae8d\",\"type\":\"PanTool\"},{\"attributes\":{},\"id\":\"1fe4de81-ec57-4a12-baf8-302de89c09c2\",\"type\":\"LinearScale\"},{\"attributes\":{\"formatter\":{\"id\":\"6e815664-049c-4b8c-acf1-3ef42b3d8d02\",\"type\":\"BasicTickFormatter\"},\"plot\":{\"id\":\"b98f4636-93c9-4a00-a2e3-43abfc94dbfa\",\"subtype\":\"Figure\",\"type\":\"Plot\"},\"ticker\":{\"id\":\"653c4684-0b32-425d-b097-b0845d9e4e8d\",\"type\":\"BasicTicker\"}},\"id\":\"155813bc-1790-4b89-9dfb-838972d9edc3\",\"type\":\"LinearAxis\"},{\"attributes\":{\"plot\":{\"id\":\"b98f4636-93c9-4a00-a2e3-43abfc94dbfa\",\"subtype\":\"Figure\",\"type\":\"Plot\"},\"ticker\":{\"id\":\"653c4684-0b32-425d-b097-b0845d9e4e8d\",\"type\":\"BasicTicker\"}},\"id\":\"84488808-19f4-4a2f-9719-0c86eaa5781a\",\"type\":\"Grid\"},{\"attributes\":{\"line_color\":{\"value\":\"red\"},\"line_width\":{\"value\":2},\"x\":{\"field\":\"x\"},\"y\":{\"field\":\"y\"}},\"id\":\"368225a9-09b5-48f1-ae5a-a9337af92b9f\",\"type\":\"Line\"},{\"attributes\":{\"bottom_units\":\"screen\",\"fill_alpha\":{\"value\":0.5},\"fill_color\":{\"value\":\"lightgrey\"},\"left_units\":\"screen\",\"level\":\"overlay\",\"line_alpha\":{\"value\":1.0},\"line_color\":{\"value\":\"black\"},\"line_dash\":[4,4],\"line_width\":{\"value\":2},\"plot\":null,\"render_mode\":\"css\",\"right_units\":\"screen\",\"top_units\":\"screen\"},\"id\":\"2c38de76-1f95-444f-8823-3aff1aeadd2e\",\"type\":\"BoxAnnotation\"},{\"attributes\":{\"callback\":null,\"start\":-1},\"id\":\"93469c9d-69c7-416a-8167-1d3ce4060b0d\",\"type\":\"Range1d\"},{\"attributes\":{},\"id\":\"466c90d3-5b11-44d2-91c3-a32bd05e4eba\",\"type\":\"LinearScale\"},{\"attributes\":{\"line_alpha\":{\"value\":0.1},\"line_color\":{\"value\":\"#1f77b4\"},\"line_width\":{\"value\":2},\"x\":{\"field\":\"x\"},\"y\":{\"field\":\"y\"}},\"id\":\"a66bfb19-f4e7-448f-9033-a3d8be844f56\",\"type\":\"Line\"},{\"attributes\":{\"active_drag\":\"auto\",\"active_inspect\":\"auto\",\"active_scroll\":\"auto\",\"active_tap\":\"auto\",\"tools\":[{\"id\":\"9ea1fd28-ce9a-4862-9582-629fecd8ae8d\",\"type\":\"PanTool\"},{\"id\":\"17cc3f47-3494-43c7-9c13-5e401c2253bb\",\"type\":\"WheelZoomTool\"},{\"id\":\"e02ecf0c-6e83-4817-9fd9-6e5411a74d5a\",\"type\":\"BoxZoomTool\"},{\"id\":\"1ccf2a81-e788-4884-9939-54c4f14132b5\",\"type\":\"SaveTool\"},{\"id\":\"40485d72-10cc-433b-b19b-28a70cf17dd2\",\"type\":\"ResetTool\"},{\"id\":\"9ac855a2-2b84-42b5-9fad-27075558db75\",\"type\":\"HelpTool\"}]},\"id\":\"5e32c63d-215f-4a2c-8339-192e1181181b\",\"type\":\"Toolbar\"},{\"attributes\":{\"data_source\":{\"id\":\"406e3af0-ea76-4735-95c5-b80196b0db8d\",\"type\":\"ColumnDataSource\"},\"glyph\":{\"id\":\"368225a9-09b5-48f1-ae5a-a9337af92b9f\",\"type\":\"Line\"},\"hover_glyph\":null,\"muted_glyph\":null,\"nonselection_glyph\":{\"id\":\"2bfcff5c-1f26-4890-ad85-5bd8097a7faa\",\"type\":\"Line\"},\"selection_glyph\":null},\"id\":\"64e64588-797d-408a-9891-93297521adb3\",\"type\":\"GlyphRenderer\"},{\"attributes\":{\"plot\":{\"id\":\"b98f4636-93c9-4a00-a2e3-43abfc94dbfa\",\"subtype\":\"Figure\",\"type\":\"Plot\"}},\"id\":\"9ac855a2-2b84-42b5-9fad-27075558db75\",\"type\":\"HelpTool\"},{\"attributes\":{\"plot\":{\"id\":\"b98f4636-93c9-4a00-a2e3-43abfc94dbfa\",\"subtype\":\"Figure\",\"type\":\"Plot\"}},\"id\":\"1ccf2a81-e788-4884-9939-54c4f14132b5\",\"type\":\"SaveTool\"},{\"attributes\":{\"plot\":{\"id\":\"b98f4636-93c9-4a00-a2e3-43abfc94dbfa\",\"subtype\":\"Figure\",\"type\":\"Plot\"}},\"id\":\"40485d72-10cc-433b-b19b-28a70cf17dd2\",\"type\":\"ResetTool\"},{\"attributes\":{\"plot\":{\"id\":\"b98f4636-93c9-4a00-a2e3-43abfc94dbfa\",\"subtype\":\"Figure\",\"type\":\"Plot\"}},\"id\":\"17cc3f47-3494-43c7-9c13-5e401c2253bb\",\"type\":\"WheelZoomTool\"},{\"attributes\":{\"overlay\":{\"id\":\"2c38de76-1f95-444f-8823-3aff1aeadd2e\",\"type\":\"BoxAnnotation\"},\"plot\":{\"id\":\"b98f4636-93c9-4a00-a2e3-43abfc94dbfa\",\"subtype\":\"Figure\",\"type\":\"Plot\"}},\"id\":\"e02ecf0c-6e83-4817-9fd9-6e5411a74d5a\",\"type\":\"BoxZoomTool\"},{\"attributes\":{\"plot\":null,\"text\":\"Sine and Cosine\"},\"id\":\"5afd4bbc-2bcb-4c40-876a-3678248b5fdc\",\"type\":\"Title\"},{\"attributes\":{},\"id\":\"6e815664-049c-4b8c-acf1-3ef42b3d8d02\",\"type\":\"BasicTickFormatter\"},{\"attributes\":{},\"id\":\"794448c6-ac5f-4031-a2bb-4fe5b3a00be9\",\"type\":\"BasicTickFormatter\"},{\"attributes\":{},\"id\":\"979bbbd5-fbe6-4075-b5f1-924c70e602be\",\"type\":\"ToolEvents\"},{\"attributes\":{\"line_alpha\":{\"value\":0.1},\"line_color\":{\"value\":\"#1f77b4\"},\"line_width\":{\"value\":2},\"x\":{\"field\":\"x\"},\"y\":{\"field\":\"y\"}},\"id\":\"2bfcff5c-1f26-4890-ad85-5bd8097a7faa\",\"type\":\"Line\"},{\"attributes\":{\"callback\":null},\"id\":\"e8439d8d-4572-4253-9dcd-68f07b8898eb\",\"type\":\"DataRange1d\"}],\"root_ids\":[\"b98f4636-93c9-4a00-a2e3-43abfc94dbfa\"]},\"title\":\"Bokeh Application\",\"version\":\"0.12.6\"}};\n",
       "            var render_items = [{\"docid\":\"51fe3a59-317f-4e50-8ee1-b197d83afec2\",\"elementid\":\"8f5268b1-e1b0-4aeb-9d6a-a816447c6d55\",\"modelid\":\"b98f4636-93c9-4a00-a2e3-43abfc94dbfa\",\"notebook_comms_target\":\"cbd39dca-152a-4ad3-a5ef-b4791b0deb38\"}];\n",
       "            \n",
       "            Bokeh.embed.embed_items(docs_json, render_items);\n",
       "          };\n",
       "          if (document.readyState != \"loading\") fn();\n",
       "          else document.addEventListener(\"DOMContentLoaded\", fn);\n",
       "        })();\n",
       "      },\n",
       "      function(Bokeh) {\n",
       "      }\n",
       "    ];\n",
       "  \n",
       "    function run_inline_js() {\n",
       "      \n",
       "      if ((window.Bokeh !== undefined) || (force === true)) {\n",
       "        for (var i = 0; i < inline_js.length; i++) {\n",
       "          inline_js[i](window.Bokeh);\n",
       "        }if (force === true) {\n",
       "          display_loaded();\n",
       "        }} else if (Date.now() < window._bokeh_timeout) {\n",
       "        setTimeout(run_inline_js, 100);\n",
       "      } else if (!window._bokeh_failed_load) {\n",
       "        console.log(\"Bokeh: BokehJS failed to load within specified timeout.\");\n",
       "        window._bokeh_failed_load = true;\n",
       "      } else if (force !== true) {\n",
       "        var cell = $(document.getElementById(\"8f5268b1-e1b0-4aeb-9d6a-a816447c6d55\")).parents('.cell').data().cell;\n",
       "        cell.output_area.append_execute_result(NB_LOAD_WARNING)\n",
       "      }\n",
       "  \n",
       "    }\n",
       "  \n",
       "    if (window._bokeh_is_loading === 0) {\n",
       "      console.log(\"Bokeh: BokehJS loaded, going straight to plotting\");\n",
       "      run_inline_js();\n",
       "    } else {\n",
       "      load_libs(js_urls, function() {\n",
       "        console.log(\"Bokeh: BokehJS plotting callback run at\", now());\n",
       "        run_inline_js();\n",
       "      });\n",
       "    }\n",
       "  }(this));\n",
       "</script>"
      ]
     },
     "metadata": {},
     "output_type": "display_data"
    }
   ],
   "source": [
    "fig = figure(title=\"Sine and Cosine\", plot_height=500, plot_width=800, y_range=(-1, 1))\n",
    "lines = []    \n",
    "lines.append(fig.line(x, np.sin(x), color='black', line_width=2))\n",
    "lines.append(fig.line(x, np.cos(x), color='red', line_width=2))\n",
    "show(fig, notebook_handle=True);"
   ]
  },
  {
   "cell_type": "markdown",
   "metadata": {},
   "source": [
    "# Interactive"
   ]
  },
  {
   "cell_type": "code",
   "execution_count": 5,
   "metadata": {
    "extensions": {
     "jupyter_dashboards": {
      "version": 1,
      "views": {
       "grid_default": {
        "col": 1,
        "height": 4,
        "hidden": false,
        "row": 7,
        "width": 4
       },
       "report_default": {}
      }
     }
    }
   },
   "outputs": [
    {
     "data": {
      "application/vnd.jupyter.widget-view+json": {
       "model_id": "a75b352421d6411e8a21859d2f3e5880"
      }
     },
     "metadata": {},
     "output_type": "display_data"
    }
   ],
   "source": [
    "from ipywidgets import interact\n",
    "\n",
    "def update_plot(A, B):\n",
    "    lines[0].data_source.data['y'] = np.sin(A*x+B)\n",
    "    lines[1].data_source.data['y'] = np.cos(A*x+B)\n",
    "    push_notebook()\n",
    "\n",
    "interact(update_plot, A=(0,10), B=(0,10));"
   ]
  },
  {
   "cell_type": "code",
   "execution_count": null,
   "metadata": {
    "collapsed": true
   },
   "outputs": [],
   "source": []
  }
 ],
 "metadata": {
  "extensions": {
   "jupyter_dashboards": {
    "activeView": "grid_default",
    "version": 1,
    "views": {
     "grid_default": {
      "cellMargin": 10,
      "defaultCellHeight": 20,
      "maxColumns": 12,
      "name": "grid",
      "type": "grid"
     },
     "report_default": {
      "name": "report",
      "type": "report"
     }
    }
   }
  },
  "kernelspec": {
   "display_name": "Python3",
   "language": "python",
   "name": "python3"
  },
  "language_info": {
   "codemirror_mode": {
    "name": "ipython",
    "version": 3
   },
   "file_extension": ".py",
   "mimetype": "text/x-python",
   "name": "python",
   "nbconvert_exporter": "python",
   "pygments_lexer": "ipython3",
   "version": "3.6.1"
  }
 },
 "nbformat": 4,
 "nbformat_minor": 2
}
