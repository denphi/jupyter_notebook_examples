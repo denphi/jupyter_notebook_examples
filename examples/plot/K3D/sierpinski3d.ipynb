{
 "cells": [
  {
   "cell_type": "markdown",
   "metadata": {},
   "source": [
    "## Iterated function system  with k3d visualization"
   ]
  },
  {
   "cell_type": "code",
   "execution_count": null,
   "metadata": {},
   "outputs": [],
   "source": [
    "import  numpy as np\n",
    "\n",
    "N = 30000\n",
    "x = 0.123*np.random.rand(N)*0\n",
    "y = 0.123*np.random.rand(N)*0\n",
    "z = 0.123*np.random.rand(N)*0\n",
    "\n",
    "x1 = np.empty_like(x)\n",
    "y1 = np.empty_like(x)\n",
    "z1 = np.empty_like(x)\n",
    "\n",
    "class sierpinski:\n",
    "    \n",
    "    def f1(x,y,z,x1,y1,z1,c):\n",
    "        x1[c] = 1.0/2.0*x[c]\n",
    "        y1[c] = 1.0/2.0*y[c]\n",
    "        z1[c] = 1.0/2.0*z[c]\n",
    "    \n",
    "    def f2(x,y,z,x1,y1,z1,c):\n",
    "        x1[c] = 1.0/2.0*x[c] + 1/2.0\n",
    "        y1[c] = 1.0/2.0*y[c]\n",
    "        z1[c] = 1.0/2.0*z[c]\n",
    "\n",
    "    \n",
    "    def f3(x,y,z,x1,y1,z1,c):\n",
    "        x1[c] = 1.0/2.0*x[c] + 1/4.\n",
    "        y1[c] = 1.0/2.0*y[c] + np.sqrt(3)/4\n",
    "        z1[c] = 1.0/2.0*z[c]\n",
    "\n",
    "    def f4(x,y,z,x1,y1,z1,c):\n",
    "        x1[c] = 1.0/2.0*x[c] + 1/4.\n",
    "        y1[c] = 1.0/2.0*y[c] + 1./4\n",
    "        z1[c] = 1.0/2.0*z[c] + np.sqrt(3)/4\n",
    "\n",
    "    functions = [f1,f2,f3,f4] \n",
    "    probabilities = [1/4.]*4\n",
    "\n",
    "\n",
    "typ = sierpinski\n",
    "\n",
    "functions,probabilities = typ.functions,typ.probabilities\n",
    "\n",
    "assert(len(functions)==len(probabilities))\n",
    "\n",
    "\n",
    "X,Y,Z = x,y,z\n",
    "for i in range(20):\n",
    "    r = np.random.choice(len(probabilities),size=N,p=probabilities)\n",
    "    for i,f in enumerate(functions):\n",
    "        f(x,y,z,x1,y1,z1,r==i)\n",
    "    x,x1 = x1,x\n",
    "    y,y1 = y1,y\n",
    "    z,z1 = z1,z\n",
    "    if i > 0:\n",
    "        X,Y,Z = np.hstack([X,x]),np.hstack([Y,y]),np.hstack([Z,z])\n",
    "print(3*X.nbytes//1024**2,\"MB\",X.shape[0])"
   ]
  },
  {
   "cell_type": "code",
   "execution_count": null,
   "metadata": {},
   "outputs": [],
   "source": [
    "from k3d import K3D\n",
    "\n",
    "plot = K3D()\n",
    "point_plot = K3D.points([0,0,0], [0], point_size=0.003,shader='3d')\n",
    "plot += point_plot\n",
    "plot.display()"
   ]
  },
  {
   "cell_type": "code",
   "execution_count": null,
   "metadata": {
    "collapsed": true
   },
   "outputs": [],
   "source": [
    "positions = np.vstack([X,Y,Z]).T.copy()\n",
    "colors = np.ones(X.shape[0])*0xff0000\n",
    "point_plot.points_colors = colors\n",
    "point_plot.points_positions = positions"
   ]
  },
  {
   "cell_type": "code",
   "execution_count": null,
   "metadata": {
    "collapsed": true
   },
   "outputs": [],
   "source": [
    "plot.camera_auto_fit=False"
   ]
  },
  {
   "cell_type": "code",
   "execution_count": null,
   "metadata": {},
   "outputs": [],
   "source": [
    "point_plot.shader='3d'"
   ]
  },
  {
   "cell_type": "code",
   "execution_count": null,
   "metadata": {
    "collapsed": true
   },
   "outputs": [],
   "source": [
    "point_plot.point_size = 0.01"
   ]
  },
  {
   "cell_type": "code",
   "execution_count": null,
   "metadata": {
    "collapsed": true
   },
   "outputs": [],
   "source": []
  }
 ],
 "metadata": {
  "kernelspec": {
   "display_name": "Python 3",
   "language": "python",
   "name": "python3"
  },
  "language_info": {
   "codemirror_mode": {
    "name": "ipython",
    "version": 3
   },
   "file_extension": ".py",
   "mimetype": "text/x-python",
   "name": "python",
   "nbconvert_exporter": "python",
   "pygments_lexer": "ipython3",
   "version": "3.5.2"
  }
 },
 "nbformat": 4,
 "nbformat_minor": 1
}
