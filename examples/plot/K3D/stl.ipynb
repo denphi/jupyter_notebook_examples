{
 "cells": [
  {
   "cell_type": "code",
   "execution_count": null,
   "metadata": {
    "collapsed": true
   },
   "outputs": [],
   "source": [
    "from k3d import K3D\n",
    "\n",
    "view_matrix = (\n",
    "     3.5, -2.5, 2.5, 0.0,\n",
    "     0.0,  3.5, 3.5, 0.0,\n",
    "    -3.5, -2.5, 2.5, 0.0,\n",
    "     0.0,  0.0, 0.0, 1.0\n",
    ")\n",
    "stl = \"\"\"\n",
    "solid\n",
    "    facet normal 0 0 0\n",
    "        outer loop\n",
    "            vertex -1.000000 1.000000 -1.000000\n",
    "            vertex -1.000000 -1.000000 -1.000000\n",
    "            vertex -1.000000 -1.000000 1.000000\n",
    "        endloop\n",
    "    endfacet\n",
    "    facet normal 0 0 0\n",
    "        outer loop\n",
    "            vertex -1.000000 -1.000000 1.000000\n",
    "            vertex -1.000000 1.000000 1.000000\n",
    "            vertex -1.000000 1.000000 -1.000000\n",
    "        endloop\n",
    "    endfacet\n",
    "    facet normal 0 0 0\n",
    "        outer loop\n",
    "            vertex 1.000000 -1.000000 1.000000\n",
    "            vertex 1.000000 1.000000 1.000000\n",
    "            vertex -1.000000 1.000000 1.000000\n",
    "        endloop\n",
    "    endfacet\n",
    "    facet normal 0 0 0\n",
    "        outer loop\n",
    "            vertex -1.000000 1.000000 1.000000\n",
    "            vertex -1.000000 -1.000000 1.000000\n",
    "            vertex 1.000000 -1.000000 1.000000\n",
    "        endloop\n",
    "    endfacet\n",
    "endsolid\n",
    "\"\"\"\n",
    "\n",
    "plot = K3D(background_color=0x000000)\n",
    "plot += K3D.stl(stl, view_matrix, color=0xFF0000)\n",
    "plot.display()"
   ]
  },
  {
   "cell_type": "code",
   "execution_count": null,
   "metadata": {
    "collapsed": true
   },
   "outputs": [],
   "source": [
    "view_matrix = [\n",
    "    7.0, -5.0,  5.0, -15.0,\n",
    "    0.0, -7.0, -7.0,   0.0,\n",
    "    7.0,  5.0, -5.0,   0.0,\n",
    "    0.0,  0.0,  0.0,   1.0\n",
    "]\n",
    "\n",
    "plot += K3D.stl_load('assets/stl.stl', view_matrix)"
   ]
  }
 ],
 "metadata": {
  "kernelspec": {
   "display_name": "Python 2",
   "language": "python",
   "name": "python2"
  },
  "language_info": {
   "codemirror_mode": {
    "name": "ipython",
    "version": 2
   },
   "file_extension": ".py",
   "mimetype": "text/x-python",
   "name": "python",
   "nbconvert_exporter": "python",
   "pygments_lexer": "ipython2",
   "version": "2.7.6"
  }
 },
 "nbformat": 4,
 "nbformat_minor": 0
}
