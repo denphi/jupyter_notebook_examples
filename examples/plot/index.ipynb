{
 "cells": [
  {
   "cell_type": "markdown",
   "metadata": {},
   "source": [
    "# Plotting\n",
    "\n",
    "There are numerous plotting libraries for Python.  Some are very specialized.  \n",
    "\n",
    "In general, matplotlib and seaborn produce the best static plots.  \n",
    "Bokeh and plotly are best for interactive 2D use.\n",
    "Plotly and K3D make the best 3D interactive plots.\n",
    "\n",
    "\n",
    "We will try to introduce some of them here, starting with the most common.\n",
    "\n",
    "## Matplotlib\n",
    "\n",
    "The original Python plotting package.  It has a complex object-oriented interface and one that is similar to Matlab's.  There are two different backends for Jupyter; one that writes a static plot to the output cell, and one that is dynamic and resizable.\n",
    "\n",
    "https://matplotlib.org/gallery.html\n",
    "\n",
    "[Matplotlib Inline (Static) Examples](matplotlib_inline.ipynb)\n",
    "\n",
    "[Matplotlib Notebook (Dynamic) Examples](matplotlib_notebook.ipynb)"
   ]
  },
  {
   "cell_type": "markdown",
   "metadata": {},
   "source": [
    "## Seaborn\n",
    "\n",
    "Seaborn is a library built on top of matplotlib.  It has excellent statistical plots. \n",
    "\n",
    "https://seaborn.pydata.org/examples/index.html\n",
    "\n",
    "[Local Examples](seaborn.ipynb)"
   ]
  },
  {
   "cell_type": "markdown",
   "metadata": {
    "collapsed": true
   },
   "source": [
    "##  Bokeh\n",
    "\n",
    "Bokeh is a Python interactive visualization library that targets modern web browsers for presentation. Its goal is to provide elegant, concise construction of novel graphics in the style of D3.js, and to extend this capability with high-performance interactivity over very large or streaming datasets. Bokeh can help anyone who would like to quickly and easily create interactive plots, dashboards, and data applications.\n",
    "\n",
    "http://bokeh.pydata.org/en/latest/docs/gallery.html#gallery\n",
    "\n",
    "[Local Examples](bokeh.ipynb)"
   ]
  },
  {
   "cell_type": "markdown",
   "metadata": {
    "collapsed": true
   },
   "source": [
    "## Plotly\n",
    "\n",
    "Plotly is a commercial plotting framework that is also open-source.  You can sign up for an account to access additional features.\n",
    "It has Python, R, and Matlab APIs.\n",
    "\n",
    "https://plot.ly/python/\n",
    "\n",
    " \n",
    "[Local Examples](plotly.ipynb)"
   ]
  },
  {
   "cell_type": "code",
   "execution_count": null,
   "metadata": {},
   "outputs": [],
   "source": []
  }
 ],
 "metadata": {
  "kernelspec": {
   "display_name": "Python 3 (ipykernel)",
   "language": "python",
   "name": "python3"
  },
  "language_info": {
   "codemirror_mode": {
    "name": "ipython",
    "version": 3
   },
   "file_extension": ".py",
   "mimetype": "text/x-python",
   "name": "python",
   "nbconvert_exporter": "python",
   "pygments_lexer": "ipython3",
   "version": "3.8.10"
  },
  "toc": {
   "base_numbering": 1,
   "nav_menu": {},
   "number_sections": true,
   "sideBar": true,
   "skip_h1_title": false,
   "title_cell": "Table of Contents",
   "title_sidebar": "Contents",
   "toc_cell": false,
   "toc_position": {},
   "toc_section_display": true,
   "toc_window_display": false
  },
  "varInspector": {
   "cols": {
    "lenName": 16,
    "lenType": 16,
    "lenVar": 40
   },
   "kernels_config": {
    "python": {
     "delete_cmd_postfix": "",
     "delete_cmd_prefix": "del ",
     "library": "var_list.py",
     "varRefreshCmd": "print(var_dic_list())"
    },
    "r": {
     "delete_cmd_postfix": ") ",
     "delete_cmd_prefix": "rm(",
     "library": "var_list.r",
     "varRefreshCmd": "cat(var_dic_list()) "
    }
   },
   "types_to_exclude": [
    "module",
    "function",
    "builtin_function_or_method",
    "instance",
    "_Feature"
   ],
   "window_display": false
  },
  "widgets": {
   "state": {
    "953768be876540c78d6c1907337bd2e2": {
     "views": [
      {
       "cell_index": 17
      }
     ]
    }
   },
   "version": "1.2.0"
  }
 },
 "nbformat": 4,
 "nbformat_minor": 1
}
