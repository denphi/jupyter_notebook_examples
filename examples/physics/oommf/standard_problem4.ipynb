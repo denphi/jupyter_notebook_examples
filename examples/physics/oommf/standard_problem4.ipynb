{
 "cells": [
  {
   "cell_type": "markdown",
   "metadata": {},
   "source": [
    "# Micromagnetic standard problem 4\n",
    "\n",
    "**Author**: Marijan Beg\n",
    "\n",
    "**Date**: 13 October 2016"
   ]
  },
  {
   "cell_type": "markdown",
   "metadata": {},
   "source": [
    "## Problem specification\n",
    "\n",
    "The sample is a thin film cuboid with dimensions:\n",
    "\n",
    "- length $l_{x} = 500 \\,\\text{nm}$,\n",
    "- width $l_{y} = 125 \\,\\text{nm}$, and\n",
    "- thickness $l_{z} = 3 \\,\\text{nm}$.\n",
    "\n",
    "The material parameters (similar to permalloy) are:\n",
    "\n",
    "- exchange energy constant $A = 1.3 \\times 10^{-11} \\,\\text{J/m}$,\n",
    "- magnetisation saturation $M_\\text{s} = 8 \\times 10^{5} \\,\\text{A/m}$.\n",
    "\n",
    "Magnetisation dynamics are governed by the Landau-Lifshitz-Gilbert equation\n",
    "\n",
    "$$\\frac{d\\mathbf{m}}{dt} = \\underbrace{-\\gamma_{0}(\\mathbf{m} \\times \\mathbf{H}_\\text{eff})}_\\text{precession} + \\underbrace{\\alpha\\left(\\mathbf{m} \\times \\frac{d\\mathbf{m}}{dt}\\right)}_\\text{damping}$$\n",
    "\n",
    "where $\\gamma_{0} = 2.211 \\times 10^{5} \\,\\text{m}\\,\\text{A}^{-1}\\,\\text{s}^{-1}$ and Gilbert damping $\\alpha=0.02$.\n",
    "\n",
    "In the standard problem 4, the system is first relaxed at zero external magnetic field and then, starting from the obtained equlibrium configuration, the magnetisation dynamics are simulated for two external magnetic fields $\\mathbf{B}_{1} = (-24.6, 4.3, 0.0) \\,\\text{mT}$ and $\\mathbf{B}_{2} = (-35.5, -6.3, 0.0) \\,\\text{mT}$.\n",
    "\n",
    "More detailed specification of Standard problem 4 can be found in Ref. 1."
   ]
  },
  {
   "cell_type": "markdown",
   "metadata": {},
   "source": [
    "## Simulation\n",
    "\n",
    "In the first step, we import the required `discretisedfield` and `oommfc` modules."
   ]
  },
  {
   "cell_type": "code",
   "execution_count": 1,
   "metadata": {
    "collapsed": true
   },
   "outputs": [],
   "source": [
    "import hublib.use\n",
    "%use oommf-1.2b0"
   ]
  },
  {
   "cell_type": "code",
   "execution_count": 2,
   "metadata": {
    "collapsed": true
   },
   "outputs": [],
   "source": [
    "import discretisedfield as df\n",
    "import oommfc as oc"
   ]
  },
  {
   "cell_type": "markdown",
   "metadata": {},
   "source": [
    "Now, we can set all required geometry and material parameters."
   ]
  },
  {
   "cell_type": "code",
   "execution_count": 3,
   "metadata": {
    "collapsed": false
   },
   "outputs": [],
   "source": [
    "# Geometry\n",
    "lx = 500e-9  # x dimension of the sample(m)\n",
    "ly = 125e-9  # y dimension of the sample (m)\n",
    "lz = 3e-9  # sample thickness (m)\n",
    "\n",
    "# Material (permalloy) parameters\n",
    "Ms = 8e5  # saturation magnetisation (A/m)\n",
    "A = 1.3e-11  # exchange energy constant (J/m)\n",
    "\n",
    "# Dynamics (LLG equation) parameters\n",
    "gamma = 2.211e5  # gyromagnetic ratio (m/As)\n",
    "alpha = 0.02  # Gilbert damping"
   ]
  },
  {
   "cell_type": "markdown",
   "metadata": {},
   "source": [
    "## First stage\n",
    "\n",
    "In the first stage, we need to relax the system at zero external magnetic field.\n",
    "\n",
    "We choose `stdprob4` to be the name of the system. This name will be used to name all output files created by OOMMF."
   ]
  },
  {
   "cell_type": "code",
   "execution_count": 4,
   "metadata": {
    "collapsed": true
   },
   "outputs": [],
   "source": [
    "system = oc.System(name='stdprob4')"
   ]
  },
  {
   "cell_type": "markdown",
   "metadata": {},
   "source": [
    "In order to completely define the micromagnetic system, we need to provide:\n",
    "\n",
    "1. mesh\n",
    "2. hamiltonian $\\mathcal{H}$\n",
    "3. dynamics $\\text{d}\\mathbf{m}/\\text{d}t$\n",
    "4. magnetisation $\\mathbf{m}$\n",
    "\n",
    "**Mesh:** The mesh is created by providing two points `p1` and `p2` between which the mesh domain spans and the size of a discretisation cell. We choose the discretisation to be $(5, 5, 3) \\,\\text{nm}$."
   ]
  },
  {
   "cell_type": "code",
   "execution_count": 5,
   "metadata": {
    "collapsed": false
   },
   "outputs": [],
   "source": [
    "cell = (5e-9, 5e-9, 3e-9)  # mesh discretisation (m)\n",
    "\n",
    "mesh = oc.Mesh(p1=(0, 0, 0), p2=(lx, ly, lz), cell=cell)  # Create a mesh object.\n",
    "\n",
    "system.mesh = mesh  # provide the mesh to the system"
   ]
  },
  {
   "cell_type": "markdown",
   "metadata": {},
   "source": [
    "We can visualise the mesh domain and a discretisation cell:"
   ]
  },
  {
   "cell_type": "code",
   "execution_count": 6,
   "metadata": {
    "collapsed": false
   },
   "outputs": [],
   "source": [
    "system.mesh"
   ]
  },
  {
   "cell_type": "markdown",
   "metadata": {},
   "source": [
    "**Hamiltonian:** In the second step, we define the system's Hamiltonian. In this standard problem, the Hamiltonian contains only exchange and demagnetisation energy terms. Please note that in the first simulation stage, there is no applied external magnetic field. Therefore, we do not add Zeeman energy term to the Hamiltonian."
   ]
  },
  {
   "cell_type": "code",
   "execution_count": 7,
   "metadata": {
    "collapsed": true
   },
   "outputs": [],
   "source": [
    "system.hamiltonian = oc.Exchange(A) + oc.Demag()"
   ]
  },
  {
   "cell_type": "markdown",
   "metadata": {},
   "source": [
    "We can check what is the continuous model of system's Hamiltonian."
   ]
  },
  {
   "cell_type": "code",
   "execution_count": 8,
   "metadata": {
    "collapsed": false
   },
   "outputs": [
    {
     "data": {
      "text/latex": [
       "$\\mathcal{H}=A [(\\nabla m_{x})^{2} + (\\nabla m_{y})^{2} + (\\nabla m_{z})^{2}]-\\frac{1}{2}\\mu_{0}M_\\text{s}\\mathbf{m} \\cdot \\mathbf{H}_\\text{d}$"
      ],
      "text/plain": [
       "Exchange(A=1.3e-11) + Demag()"
      ]
     },
     "execution_count": 8,
     "metadata": {},
     "output_type": "execute_result"
    }
   ],
   "source": [
    "system.hamiltonian"
   ]
  },
  {
   "cell_type": "markdown",
   "metadata": {},
   "source": [
    "**Dynamics:** Similarly, the system's dynamics is defined by providing precession and damping terms (LLG equation)."
   ]
  },
  {
   "cell_type": "code",
   "execution_count": 9,
   "metadata": {
    "collapsed": false
   },
   "outputs": [
    {
     "data": {
      "text/latex": [
       "$\\frac{\\partial \\mathbf{m}}{\\partial t}=-\\gamma \\mathbf{m} \\times \\mathbf{H}_\\text{eff}+\\alpha \\mathbf{m} \\times\\frac{\\partial \\mathbf{m}}{\\partial t}$"
      ],
      "text/plain": [
       "Precession(gamma=221100.0) + Damping(alpha=0.02)"
      ]
     },
     "execution_count": 9,
     "metadata": {},
     "output_type": "execute_result"
    }
   ],
   "source": [
    "system.dynamics = oc.Precession(gamma) + oc.Damping(alpha)\n",
    "\n",
    "system.dynamics  # check the dyanamics equation"
   ]
  },
  {
   "cell_type": "markdown",
   "metadata": {},
   "source": [
    "**Magnetisation:** Finally, we have to provide the magnetisation configuration that is going to be relaxed subsequently. We choose the uniform configuration in $(1, 0.25, 0.1)$ direction, and as norm (magnitude) we set the magnetisation saturation $M_\\text{s}$. In order to create the magnetisation configuration, we create a `Field` object from the `discretisedfield` module."
   ]
  },
  {
   "cell_type": "code",
   "execution_count": 10,
   "metadata": {
    "collapsed": false
   },
   "outputs": [],
   "source": [
    "system.m = df.Field(system.mesh, value=(1, 0.25, 0.1), normalisedto=Ms)"
   ]
  },
  {
   "cell_type": "markdown",
   "metadata": {},
   "source": [
    "Now, the system is fully defined.\n",
    "\n",
    "**Energy minimisation:** The system (its magnetisation) is evolved using a particular driver. In the first stage, we need to relax the system - minimise its energy. Therefore, we create `MinDriver` object and drive the system using its `drive` method."
   ]
  },
  {
   "cell_type": "code",
   "execution_count": 11,
   "metadata": {
    "collapsed": false
   },
   "outputs": [],
   "source": [
    "md = oc.MinDriver()  # create energy minimisation driver\n",
    "md.drive(system)  # minimise the system's energy"
   ]
  },
  {
   "cell_type": "markdown",
   "metadata": {},
   "source": [
    "The system is now relaxed. We can now obtain some data characteristic to the magnetisation field."
   ]
  },
  {
   "cell_type": "code",
   "execution_count": 12,
   "metadata": {
    "collapsed": false
   },
   "outputs": [
    {
     "name": "stdout",
     "output_type": "stream",
     "text": [
      "The average magnetisation is (773766.18071846233, 99856.830067692717, -0.00013581163831183308).\n",
      "The magnetisation at the mesh centre (2.5e-07, 6.25e-08, 1.5e-09) is [  7.99979274e+05  -5.75858662e+03   8.35823938e-04].\n"
     ]
    }
   ],
   "source": [
    "print('The average magnetisation is {}.'.format(system.m.average()))\n",
    "\n",
    "c = (250e-9, 75e-9, 1e-9)\n",
    "print('The magnetisation at the mesh centre {} is {}.'.format(system.mesh.centre(), system.m(system.mesh.centre())))"
   ]
  },
  {
   "cell_type": "markdown",
   "metadata": {},
   "source": [
    "We can also plot the magnetisation along the diagonal:\n",
    "\n",
    "$$\\mathbf{r} = \\mathbf{l}_{0} + d\\mathbf{l},$$\n",
    "\n",
    "with $\\mathbf{l} = (500, 125, 3)$ and $\\mathbf{l}_{0} = (0, 0, 0)$."
   ]
  },
  {
   "cell_type": "code",
   "execution_count": 13,
   "metadata": {
    "collapsed": false
   },
   "outputs": [],
   "source": [
    "fig = system.m.plot_line_intersection(l=(500, 125, 3), l0=(0, 0, 0))"
   ]
  },
  {
   "cell_type": "markdown",
   "metadata": {},
   "source": [
    "## Second stage: field $\\mathbf{B}_{1}$"
   ]
  },
  {
   "cell_type": "markdown",
   "metadata": {},
   "source": [
    "In the second stage, we need to apply an external magnetic field $\\mathbf{B}_{1} = (-24.6, 4.3, 0.0) \\,\\text{mT}$ to the system. In other words, we have to add Zeeman energy term to the Hamiltonian."
   ]
  },
  {
   "cell_type": "code",
   "execution_count": 14,
   "metadata": {
    "collapsed": false
   },
   "outputs": [],
   "source": [
    "# Add Zeeman energy term to the Hamiltonian\n",
    "H1 = (-24.6e-3/oc.mu0, 4.3e-3/oc.mu0, 0.0)\n",
    "system.hamiltonian += oc.Zeeman(H1)"
   ]
  },
  {
   "cell_type": "markdown",
   "metadata": {},
   "source": [
    "If we now inspect the Hamiltonian, we see that an additional Zeeman term is added."
   ]
  },
  {
   "cell_type": "code",
   "execution_count": 15,
   "metadata": {
    "collapsed": false
   },
   "outputs": [
    {
     "data": {
      "text/latex": [
       "$\\mathcal{H}=A [(\\nabla m_{x})^{2} + (\\nabla m_{y})^{2} + (\\nabla m_{z})^{2}]-\\frac{1}{2}\\mu_{0}M_\\text{s}\\mathbf{m} \\cdot \\mathbf{H}_\\text{d}-\\mu_{0}M_\\text{s} \\mathbf{m} \\cdot \\mathbf{H}$"
      ],
      "text/plain": [
       "Exchange(A=1.3e-11) + Demag() + Zeeman(H=(-19576.05800030313, 3421.8312764757497, 0.0))"
      ]
     },
     "execution_count": 15,
     "metadata": {},
     "output_type": "execute_result"
    }
   ],
   "source": [
    "system.hamiltonian"
   ]
  },
  {
   "cell_type": "markdown",
   "metadata": {},
   "source": [
    "Finally, we can run the simulation using `TimeDriver` this time. We run the magnetisation evolution for $t=1 \\,\\text{ns}$, during which we save the system's state $n=200$ times."
   ]
  },
  {
   "cell_type": "code",
   "execution_count": 16,
   "metadata": {
    "collapsed": false
   },
   "outputs": [],
   "source": [
    "t = 1e-9  # simulation time (s)\n",
    "n = 200  # number of data saving steps\n",
    "\n",
    "td = oc.TimeDriver()  # create time driver\n",
    "td.drive(system, t=t, n=n)  # drive the system"
   ]
  },
  {
   "cell_type": "markdown",
   "metadata": {},
   "source": [
    "### Postprocessing"
   ]
  },
  {
   "cell_type": "markdown",
   "metadata": {},
   "source": [
    "When we drove the system using the `TimeDriver`, we specified that we want to save the magnetisation configuration $n=200$ times. A detailed table of all computed parameters from the last simulation can be shown from the datatable (`system.dt`), which is a `pandas` dataframe [2].\n",
    "\n",
    "For instance, if we want to show the last 10 rows in the table, we run:"
   ]
  },
  {
   "cell_type": "code",
   "execution_count": 17,
   "metadata": {
    "collapsed": false
   },
   "outputs": [
    {
     "data": {
      "text/html": [
       "<div>\n",
       "<table border=\"1\" class=\"dataframe\">\n",
       "  <thead>\n",
       "    <tr style=\"text-align: right;\">\n",
       "      <th></th>\n",
       "      <th>E</th>\n",
       "      <th>Ecount</th>\n",
       "      <th>max_dm/dt</th>\n",
       "      <th>dE/dt</th>\n",
       "      <th>deltaE</th>\n",
       "      <th>Eex</th>\n",
       "      <th>max_spin_angle</th>\n",
       "      <th>stage_max_spin_angle</th>\n",
       "      <th>run_max_spin_angle</th>\n",
       "      <th>Ed</th>\n",
       "      <th>FixedZeeman:zeeman:Energy</th>\n",
       "      <th>iteration</th>\n",
       "      <th>stage_iteration</th>\n",
       "      <th>stage</th>\n",
       "      <th>mx</th>\n",
       "      <th>my</th>\n",
       "      <th>mz</th>\n",
       "      <th>last_time_step</th>\n",
       "      <th>t</th>\n",
       "    </tr>\n",
       "  </thead>\n",
       "  <tbody>\n",
       "    <tr>\n",
       "      <th>190</th>\n",
       "      <td>-2.649236e-18</td>\n",
       "      <td>3707.0</td>\n",
       "      <td>1230.028858</td>\n",
       "      <td>-9.364338e-10</td>\n",
       "      <td>-1.323294e-21</td>\n",
       "      <td>1.315455e-19</td>\n",
       "      <td>5.440627</td>\n",
       "      <td>5.471273</td>\n",
       "      <td>29.984064</td>\n",
       "      <td>7.467137e-19</td>\n",
       "      <td>-3.527496e-18</td>\n",
       "      <td>776.0</td>\n",
       "      <td>3.0</td>\n",
       "      <td>190.0</td>\n",
       "      <td>-0.968589</td>\n",
       "      <td>-0.072246</td>\n",
       "      <td>-0.010996</td>\n",
       "      <td>1.377106e-12</td>\n",
       "      <td>9.550000e-10</td>\n",
       "    </tr>\n",
       "    <tr>\n",
       "      <th>191</th>\n",
       "      <td>-2.653601e-18</td>\n",
       "      <td>3726.0</td>\n",
       "      <td>1120.066951</td>\n",
       "      <td>-8.334651e-10</td>\n",
       "      <td>-1.155980e-21</td>\n",
       "      <td>1.323461e-19</td>\n",
       "      <td>4.933354</td>\n",
       "      <td>5.440627</td>\n",
       "      <td>29.984064</td>\n",
       "      <td>7.433517e-19</td>\n",
       "      <td>-3.529299e-18</td>\n",
       "      <td>780.0</td>\n",
       "      <td>3.0</td>\n",
       "      <td>191.0</td>\n",
       "      <td>-0.969755</td>\n",
       "      <td>-0.076122</td>\n",
       "      <td>-0.000762</td>\n",
       "      <td>1.377541e-12</td>\n",
       "      <td>9.600000e-10</td>\n",
       "    </tr>\n",
       "    <tr>\n",
       "      <th>192</th>\n",
       "      <td>-2.657846e-18</td>\n",
       "      <td>3745.0</td>\n",
       "      <td>941.966877</td>\n",
       "      <td>-8.933556e-10</td>\n",
       "      <td>-1.206529e-21</td>\n",
       "      <td>1.285724e-19</td>\n",
       "      <td>4.866560</td>\n",
       "      <td>4.933354</td>\n",
       "      <td>29.984064</td>\n",
       "      <td>7.555537e-19</td>\n",
       "      <td>-3.541972e-18</td>\n",
       "      <td>784.0</td>\n",
       "      <td>3.0</td>\n",
       "      <td>192.0</td>\n",
       "      <td>-0.972346</td>\n",
       "      <td>-0.071296</td>\n",
       "      <td>0.009269</td>\n",
       "      <td>1.378161e-12</td>\n",
       "      <td>9.650000e-10</td>\n",
       "    </tr>\n",
       "    <tr>\n",
       "      <th>193</th>\n",
       "      <td>-2.662791e-18</td>\n",
       "      <td>3764.0</td>\n",
       "      <td>1032.164040</td>\n",
       "      <td>-1.105283e-09</td>\n",
       "      <td>-1.474473e-21</td>\n",
       "      <td>1.191103e-19</td>\n",
       "      <td>4.824742</td>\n",
       "      <td>4.921290</td>\n",
       "      <td>29.984064</td>\n",
       "      <td>7.824363e-19</td>\n",
       "      <td>-3.564337e-18</td>\n",
       "      <td>788.0</td>\n",
       "      <td>3.0</td>\n",
       "      <td>193.0</td>\n",
       "      <td>-0.976113</td>\n",
       "      <td>-0.058172</td>\n",
       "      <td>0.018675</td>\n",
       "      <td>1.378604e-12</td>\n",
       "      <td>9.700000e-10</td>\n",
       "    </tr>\n",
       "    <tr>\n",
       "      <th>194</th>\n",
       "      <td>-2.669037e-18</td>\n",
       "      <td>3783.0</td>\n",
       "      <td>1142.737222</td>\n",
       "      <td>-1.400547e-09</td>\n",
       "      <td>-1.872255e-21</td>\n",
       "      <td>1.068849e-19</td>\n",
       "      <td>4.335480</td>\n",
       "      <td>4.824742</td>\n",
       "      <td>29.984064</td>\n",
       "      <td>8.176352e-19</td>\n",
       "      <td>-3.593557e-18</td>\n",
       "      <td>792.0</td>\n",
       "      <td>3.0</td>\n",
       "      <td>194.0</td>\n",
       "      <td>-0.980410</td>\n",
       "      <td>-0.037448</td>\n",
       "      <td>0.027052</td>\n",
       "      <td>1.378890e-12</td>\n",
       "      <td>9.750000e-10</td>\n",
       "    </tr>\n",
       "    <tr>\n",
       "      <th>195</th>\n",
       "      <td>-2.676805e-18</td>\n",
       "      <td>3802.0</td>\n",
       "      <td>1168.558022</td>\n",
       "      <td>-1.701626e-09</td>\n",
       "      <td>-2.292410e-21</td>\n",
       "      <td>9.509917e-20</td>\n",
       "      <td>3.988227</td>\n",
       "      <td>4.335480</td>\n",
       "      <td>29.984064</td>\n",
       "      <td>8.539110e-19</td>\n",
       "      <td>-3.625815e-18</td>\n",
       "      <td>796.0</td>\n",
       "      <td>3.0</td>\n",
       "      <td>195.0</td>\n",
       "      <td>-0.984377</td>\n",
       "      <td>-0.010132</td>\n",
       "      <td>0.034024</td>\n",
       "      <td>1.379090e-12</td>\n",
       "      <td>9.800000e-10</td>\n",
       "    </tr>\n",
       "    <tr>\n",
       "      <th>196</th>\n",
       "      <td>-2.685941e-18</td>\n",
       "      <td>3821.0</td>\n",
       "      <td>1264.690717</td>\n",
       "      <td>-1.936455e-09</td>\n",
       "      <td>-2.633442e-21</td>\n",
       "      <td>8.603004e-20</td>\n",
       "      <td>4.234452</td>\n",
       "      <td>4.234452</td>\n",
       "      <td>29.984064</td>\n",
       "      <td>8.851395e-19</td>\n",
       "      <td>-3.657110e-18</td>\n",
       "      <td>800.0</td>\n",
       "      <td>3.0</td>\n",
       "      <td>196.0</td>\n",
       "      <td>-0.987164</td>\n",
       "      <td>0.022440</td>\n",
       "      <td>0.039264</td>\n",
       "      <td>1.378873e-12</td>\n",
       "      <td>9.850000e-10</td>\n",
       "    </tr>\n",
       "    <tr>\n",
       "      <th>197</th>\n",
       "      <td>-2.695973e-18</td>\n",
       "      <td>3840.0</td>\n",
       "      <td>1385.550403</td>\n",
       "      <td>-2.055475e-09</td>\n",
       "      <td>-2.820053e-21</td>\n",
       "      <td>8.010709e-20</td>\n",
       "      <td>4.782664</td>\n",
       "      <td>4.782664</td>\n",
       "      <td>29.984064</td>\n",
       "      <td>9.079193e-19</td>\n",
       "      <td>-3.683999e-18</td>\n",
       "      <td>804.0</td>\n",
       "      <td>3.0</td>\n",
       "      <td>197.0</td>\n",
       "      <td>-0.988126</td>\n",
       "      <td>0.058630</td>\n",
       "      <td>0.042523</td>\n",
       "      <td>1.378189e-12</td>\n",
       "      <td>9.900000e-10</td>\n",
       "    </tr>\n",
       "    <tr>\n",
       "      <th>198</th>\n",
       "      <td>-2.706283e-18</td>\n",
       "      <td>3859.0</td>\n",
       "      <td>1350.603288</td>\n",
       "      <td>-2.048108e-09</td>\n",
       "      <td>-2.831441e-21</td>\n",
       "      <td>7.558538e-20</td>\n",
       "      <td>4.688752</td>\n",
       "      <td>4.815510</td>\n",
       "      <td>29.984064</td>\n",
       "      <td>9.222945e-19</td>\n",
       "      <td>-3.704163e-18</td>\n",
       "      <td>808.0</td>\n",
       "      <td>3.0</td>\n",
       "      <td>198.0</td>\n",
       "      <td>-0.986956</td>\n",
       "      <td>0.096580</td>\n",
       "      <td>0.043657</td>\n",
       "      <td>1.377205e-12</td>\n",
       "      <td>9.950000e-10</td>\n",
       "    </tr>\n",
       "    <tr>\n",
       "      <th>199</th>\n",
       "      <td>-2.716260e-18</td>\n",
       "      <td>3878.0</td>\n",
       "      <td>1189.283685</td>\n",
       "      <td>-1.925038e-09</td>\n",
       "      <td>-2.680093e-21</td>\n",
       "      <td>7.113525e-20</td>\n",
       "      <td>4.377352</td>\n",
       "      <td>4.688752</td>\n",
       "      <td>29.984064</td>\n",
       "      <td>9.292274e-19</td>\n",
       "      <td>-3.716622e-18</td>\n",
       "      <td>812.0</td>\n",
       "      <td>3.0</td>\n",
       "      <td>199.0</td>\n",
       "      <td>-0.983729</td>\n",
       "      <td>0.134363</td>\n",
       "      <td>0.042647</td>\n",
       "      <td>1.376023e-12</td>\n",
       "      <td>1.000000e-09</td>\n",
       "    </tr>\n",
       "  </tbody>\n",
       "</table>\n",
       "</div>"
      ],
      "text/plain": [
       "                E  Ecount    max_dm/dt         dE/dt        deltaE  \\\n",
       "190 -2.649236e-18  3707.0  1230.028858 -9.364338e-10 -1.323294e-21   \n",
       "191 -2.653601e-18  3726.0  1120.066951 -8.334651e-10 -1.155980e-21   \n",
       "192 -2.657846e-18  3745.0   941.966877 -8.933556e-10 -1.206529e-21   \n",
       "193 -2.662791e-18  3764.0  1032.164040 -1.105283e-09 -1.474473e-21   \n",
       "194 -2.669037e-18  3783.0  1142.737222 -1.400547e-09 -1.872255e-21   \n",
       "195 -2.676805e-18  3802.0  1168.558022 -1.701626e-09 -2.292410e-21   \n",
       "196 -2.685941e-18  3821.0  1264.690717 -1.936455e-09 -2.633442e-21   \n",
       "197 -2.695973e-18  3840.0  1385.550403 -2.055475e-09 -2.820053e-21   \n",
       "198 -2.706283e-18  3859.0  1350.603288 -2.048108e-09 -2.831441e-21   \n",
       "199 -2.716260e-18  3878.0  1189.283685 -1.925038e-09 -2.680093e-21   \n",
       "\n",
       "              Eex  max_spin_angle  stage_max_spin_angle  run_max_spin_angle  \\\n",
       "190  1.315455e-19        5.440627              5.471273           29.984064   \n",
       "191  1.323461e-19        4.933354              5.440627           29.984064   \n",
       "192  1.285724e-19        4.866560              4.933354           29.984064   \n",
       "193  1.191103e-19        4.824742              4.921290           29.984064   \n",
       "194  1.068849e-19        4.335480              4.824742           29.984064   \n",
       "195  9.509917e-20        3.988227              4.335480           29.984064   \n",
       "196  8.603004e-20        4.234452              4.234452           29.984064   \n",
       "197  8.010709e-20        4.782664              4.782664           29.984064   \n",
       "198  7.558538e-20        4.688752              4.815510           29.984064   \n",
       "199  7.113525e-20        4.377352              4.688752           29.984064   \n",
       "\n",
       "               Ed  FixedZeeman:zeeman:Energy  iteration  stage_iteration  \\\n",
       "190  7.467137e-19              -3.527496e-18      776.0              3.0   \n",
       "191  7.433517e-19              -3.529299e-18      780.0              3.0   \n",
       "192  7.555537e-19              -3.541972e-18      784.0              3.0   \n",
       "193  7.824363e-19              -3.564337e-18      788.0              3.0   \n",
       "194  8.176352e-19              -3.593557e-18      792.0              3.0   \n",
       "195  8.539110e-19              -3.625815e-18      796.0              3.0   \n",
       "196  8.851395e-19              -3.657110e-18      800.0              3.0   \n",
       "197  9.079193e-19              -3.683999e-18      804.0              3.0   \n",
       "198  9.222945e-19              -3.704163e-18      808.0              3.0   \n",
       "199  9.292274e-19              -3.716622e-18      812.0              3.0   \n",
       "\n",
       "     stage        mx        my        mz  last_time_step             t  \n",
       "190  190.0 -0.968589 -0.072246 -0.010996    1.377106e-12  9.550000e-10  \n",
       "191  191.0 -0.969755 -0.076122 -0.000762    1.377541e-12  9.600000e-10  \n",
       "192  192.0 -0.972346 -0.071296  0.009269    1.378161e-12  9.650000e-10  \n",
       "193  193.0 -0.976113 -0.058172  0.018675    1.378604e-12  9.700000e-10  \n",
       "194  194.0 -0.980410 -0.037448  0.027052    1.378890e-12  9.750000e-10  \n",
       "195  195.0 -0.984377 -0.010132  0.034024    1.379090e-12  9.800000e-10  \n",
       "196  196.0 -0.987164  0.022440  0.039264    1.378873e-12  9.850000e-10  \n",
       "197  197.0 -0.988126  0.058630  0.042523    1.378189e-12  9.900000e-10  \n",
       "198  198.0 -0.986956  0.096580  0.043657    1.377205e-12  9.950000e-10  \n",
       "199  199.0 -0.983729  0.134363  0.042647    1.376023e-12  1.000000e-09  "
      ]
     },
     "execution_count": 17,
     "metadata": {},
     "output_type": "execute_result"
    }
   ],
   "source": [
    "system.dt.tail(10)"
   ]
  },
  {
   "cell_type": "markdown",
   "metadata": {},
   "source": [
    "Finally, we want to plot the average magnetisation configuration `my` as a function of time `t`:"
   ]
  },
  {
   "cell_type": "code",
   "execution_count": 18,
   "metadata": {
    "collapsed": false
   },
   "outputs": [
    {
     "data": {
      "image/png": "[encoded data removed]",
      "text/plain": [
       "<matplotlib.figure.Figure at 0x7f072dbb5828>"
      ]
     },
     "metadata": {},
     "output_type": "display_data"
    }
   ],
   "source": [
    "% matplotlib inline\n",
    "myplot = system.dt.plot(\"t\", \"my\")"
   ]
  },
  {
   "cell_type": "markdown",
   "metadata": {},
   "source": [
    "## References\n",
    "\n",
    "[1] µMAG Site Directory: http://www.ctcms.nist.gov/~rdm/mumag.org.html\n",
    "    \n",
    "[2] Pandas: http://pandas.pydata.org/"
   ]
  },
  {
   "cell_type": "markdown",
   "metadata": {},
   "source": [
    "<hr>\n",
    "Cleaning up.  Temporary files were written.  You may want to remove them."
   ]
  },
  {
   "cell_type": "code",
   "execution_count": 20,
   "metadata": {
    "collapsed": true
   },
   "outputs": [],
   "source": [
    "!rm -rf stdprob4"
   ]
  }
 ],
 "metadata": {
  "kernelspec": {
   "display_name": "Python3",
   "language": "python",
   "name": "python3"
  },
  "language_info": {
   "codemirror_mode": {
    "name": "ipython",
    "version": 3
   },
   "file_extension": ".py",
   "mimetype": "text/x-python",
   "name": "python",
   "nbconvert_exporter": "python",
   "pygments_lexer": "ipython3",
   "version": "3.5.2"
  }
 },
 "nbformat": 4,
 "nbformat_minor": 0
}
