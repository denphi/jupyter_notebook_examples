{
 "cells": [
  {
   "cell_type": "markdown",
   "metadata": {},
   "source": [
    "# The Object Oriented MicroMagnetic Framework (OOMMF) project at ITL/NIST\n",
    "\n",
    "http://math.nist.gov/oommf/\n",
    "\n",
    "These notebooks are from https://github.com/joommf/oommfc/tree/master/docs/ipynb\n",
    "\n",
    "They have been modified only by adding a cell to load the oommf module, and a cell at the end to clean up the temporary files generated.\n",
    "\n",
    "Click on a link below to launch the example notebook."
   ]
  },
  {
   "cell_type": "markdown",
   "metadata": {},
   "source": [
    "* [First OOMMFC notebook](first_oommfc_notebook.ipynb)\n",
    "* [Micromagnetic standard problem 1](standard_problem1.ipynb)\n",
    "* [Micromagnetic standard problem 3](standard_problem3.ipynb)\n",
    "* [Micromagnetic standard problem 4](standard_problem4.ipynb)\n",
    "* [Micromagnetic standard problem 5](standard_problem5.ipynb)\n",
    "* [FMR standard problem](standard_problem_fmr.ipynb)\n",
    "* [Micromagnetic model](micromagneticmodel.ipynb)\n",
    "* [Derived fields and values](derived_fields.ipynb)\n",
    "* [Domain wall - skyrmion conversion](dw_skyrmion_conversion.ipynb)\n",
    "* [Exporting data](exporting-data.ipynb)\n",
    "* [Spatially varying parameters](spatially_varying_parameters.ipynb)"
   ]
  },
  {
   "cell_type": "markdown",
   "metadata": {},
   "source": [
    "# Acknowledgements\n",
    "\n",
    "This work was financially supported by the OpenDreamKit – Horizon 2020 European Research Infrastructure project (676541), the EPSRC’s Centre for Doctoral Training in Next Generation Computational Modelling grant EP/L015382/1, and the EPSRC’s Programme grant on Skyrmionics (EP/N032128/1)."
   ]
  },
  {
   "cell_type": "markdown",
   "metadata": {},
   "source": [
    "# How to cite us\n",
    "\n",
    "If you use JOOMMF in your research, apart from acknowledging OOMMF (http://math.nist.gov/oommf/oommf_cites.html) please acknowledge our interface JOOMMF by citing the following paper:\n",
    "\n",
    "Beg, M., Pepper, R. A., & Fangohr, H. (2017). User interfaces for computational science: A domain specific language for OOMMF embedded in Python. *AIP Advances* **7**, 56025. https://doi.org/10.1063/1.4977225"
   ]
  },
  {
   "cell_type": "markdown",
   "metadata": {},
   "source": [
    "# Support\n",
    "\n",
    "We have a number of communication channels available:\n",
    "\n",
    "- Join or read the\n",
    "  [joommf-news](https://groups.google.com/forum/#!forum/joommf-news)\n",
    "  mailing list. Used for announcements and news.\n",
    "\n",
    "- Join or read the\n",
    "  [joommf-users](https://groups.google.com/forum/#!forum/joommf-news)\n",
    "  mailing list. Used for discussion, queries etc from users.\n",
    "\n",
    "- Ask questions on our Gitter [channel](https://gitter.im/joommf/support)\n",
    "\n",
    "- If you have a feature request, support query and you are familiar\n",
    "  with Github (or don't mind using it), please consider submitting an\n",
    "  \"issue\" on the [joommf/help](https://github.com/joommf/help)\n",
    "  repository. \n",
    "\n",
    "- Follow us on Twitter: [@joommf](https://twitter.com/joommf)\n",
    "\n",
    "- Email the project team:\n",
    "  [jupyteroommf@gmail.com](mailto:jupyteroommf@gmail.com)\n",
    "\n",
    "- Checkout the webpage of the project:\n",
    "  [http://joommf.github.io](http://joommf.github.io)\n",
    "\n",
    "- If you are a developer, feel free to look at the source code (all\n",
    "  repositories are in the\n",
    "  [https://github.com/joommf](http://github.com/joommf) organisation.\n",
    "\n",
    "  Pull requests or design suggestions welcome"
   ]
  }
 ],
 "metadata": {
  "kernelspec": {
   "display_name": "Python3",
   "language": "python",
   "name": "python3"
  },
  "language_info": {
   "codemirror_mode": {
    "name": "ipython",
    "version": 3
   },
   "file_extension": ".py",
   "mimetype": "text/x-python",
   "name": "python",
   "nbconvert_exporter": "python",
   "pygments_lexer": "ipython3",
   "version": "3.6.2"
  }
 },
 "nbformat": 4,
 "nbformat_minor": 2
}
