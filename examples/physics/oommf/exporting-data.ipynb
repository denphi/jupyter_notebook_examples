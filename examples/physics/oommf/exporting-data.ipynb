{
 "cells": [
  {
   "cell_type": "markdown",
   "metadata": {},
   "source": [
    "# Exporting data\n",
    "\n",
    "There are fundamentally two different data types:\n",
    "\n",
    "- spatially averaged data (as in the `odt` [OOMMF Data Table] file)\n",
    "- spatially resolved data (as in the `omf`, `omv` files)"
   ]
  },
  {
   "cell_type": "markdown",
   "metadata": {},
   "source": [
    "## Access the raw OOMMF output files\n",
    "\n",
    "When Jupyter OOMMF needs a micromagnetic calculation to be carried out, it is writing a `mif` file, and then asks OOMMF to execute that miffile, and export data to the file system.\n",
    "\n",
    "It it thus possible to read the output files from the disk as one would normally with OOMMF. This allows re-use of all existing tools to analyse OOMMF data (including muview, ovf2vtk, ...)\n",
    "\n",
    "Example"
   ]
  },
  {
   "cell_type": "code",
   "execution_count": 1,
   "metadata": {},
   "outputs": [
    {
     "name": "stdout",
     "output_type": "stream",
     "text": [
      "2017/11/20 18:28: Calling OOMMF (example-macrospin/example-macrospin.mif) ... [1.5s]\n"
     ]
    }
   ],
   "source": [
    "import hublib.use\n",
    "%use oommf-1.2b0\n",
    "\n",
    "import oommfc as oc\n",
    "system = oc.examples.macrospin()\n",
    "td = oc.TimeDriver()\n",
    "td.drive(system, t=0.1e-9, n=5)"
   ]
  },
  {
   "cell_type": "markdown",
   "metadata": {},
   "source": [
    "From the last output line, we can see that the OOMMF data is stored in the directory `example-macrospin`. We can display the content:"
   ]
  },
  {
   "cell_type": "code",
   "execution_count": 2,
   "metadata": {},
   "outputs": [
    {
     "name": "stdout",
     "output_type": "stream",
     "text": [
      "example-macrospin.mif\r\n",
      "example-macrospin.odt\r\n",
      "example-macrospin-Oxs_TimeDriver-Magnetization-00-0000036.omf\r\n",
      "example-macrospin-Oxs_TimeDriver-Magnetization-01-0000066.omf\r\n",
      "example-macrospin-Oxs_TimeDriver-Magnetization-02-0000092.omf\r\n",
      "example-macrospin-Oxs_TimeDriver-Magnetization-03-0000113.omf\r\n",
      "example-macrospin-Oxs_TimeDriver-Magnetization-04-0000130.omf\r\n",
      "m0.omf\r\n"
     ]
    }
   ],
   "source": [
    "!ls example-macrospin/"
   ]
  },
  {
   "cell_type": "markdown",
   "metadata": {},
   "source": [
    "## Exporting the OOMMF Data Table\n",
    "The file `example-macrospin.odt` is automatically read and available as a pandas data table in the `system.dt` object. We can thus use all the export functionality that pandas supports. For example"
   ]
  },
  {
   "cell_type": "code",
   "execution_count": 3,
   "metadata": {},
   "outputs": [
    {
     "data": {
      "text/html": [
       "<div>\n",
       "<style>\n",
       "    .dataframe thead tr:only-child th {\n",
       "        text-align: right;\n",
       "    }\n",
       "\n",
       "    .dataframe thead th {\n",
       "        text-align: left;\n",
       "    }\n",
       "\n",
       "    .dataframe tbody tr th {\n",
       "        vertical-align: top;\n",
       "    }\n",
       "</style>\n",
       "<table border=\"1\" class=\"dataframe\">\n",
       "  <thead>\n",
       "    <tr style=\"text-align: right;\">\n",
       "      <th></th>\n",
       "      <th>E</th>\n",
       "      <th>Ecount</th>\n",
       "      <th>max_dm/dt</th>\n",
       "      <th>dE/dt</th>\n",
       "      <th>deltaE</th>\n",
       "      <th>E_Zeeman</th>\n",
       "      <th>iteration</th>\n",
       "      <th>stage_iteration</th>\n",
       "      <th>stage</th>\n",
       "      <th>mx</th>\n",
       "      <th>my</th>\n",
       "      <th>mz</th>\n",
       "      <th>last_time_step</th>\n",
       "      <th>t</th>\n",
       "    </tr>\n",
       "  </thead>\n",
       "  <tbody>\n",
       "    <tr>\n",
       "      <th>0</th>\n",
       "      <td>-5.033171e-18</td>\n",
       "      <td>217.0</td>\n",
       "      <td>37867.797392</td>\n",
       "      <td>-1.241326e-07</td>\n",
       "      <td>-4.522273e-20</td>\n",
       "      <td>-5.033171e-18</td>\n",
       "      <td>36.0</td>\n",
       "      <td>36.0</td>\n",
       "      <td>0.0</td>\n",
       "      <td>-0.597360</td>\n",
       "      <td>-0.038383</td>\n",
       "      <td>0.801054</td>\n",
       "      <td>3.586075e-13</td>\n",
       "      <td>2.000000e-11</td>\n",
       "    </tr>\n",
       "    <tr>\n",
       "      <th>1</th>\n",
       "      <td>-6.131373e-18</td>\n",
       "      <td>392.0</td>\n",
       "      <td>13822.238704</td>\n",
       "      <td>-1.653875e-08</td>\n",
       "      <td>-6.256125e-21</td>\n",
       "      <td>-6.131373e-18</td>\n",
       "      <td>66.0</td>\n",
       "      <td>29.0</td>\n",
       "      <td>1.0</td>\n",
       "      <td>0.216713</td>\n",
       "      <td>0.027838</td>\n",
       "      <td>0.975838</td>\n",
       "      <td>3.708125e-13</td>\n",
       "      <td>4.000000e-11</td>\n",
       "    </tr>\n",
       "    <tr>\n",
       "      <th>2</th>\n",
       "      <td>-6.266081e-18</td>\n",
       "      <td>543.0</td>\n",
       "      <td>4664.609034</td>\n",
       "      <td>-1.883547e-09</td>\n",
       "      <td>-1.210170e-21</td>\n",
       "      <td>-6.266081e-18</td>\n",
       "      <td>92.0</td>\n",
       "      <td>25.0</td>\n",
       "      <td>2.0</td>\n",
       "      <td>-0.072403</td>\n",
       "      <td>-0.013953</td>\n",
       "      <td>0.997278</td>\n",
       "      <td>6.216520e-13</td>\n",
       "      <td>6.000000e-11</td>\n",
       "    </tr>\n",
       "    <tr>\n",
       "      <th>3</th>\n",
       "      <td>-6.281233e-18</td>\n",
       "      <td>664.0</td>\n",
       "      <td>1577.051840</td>\n",
       "      <td>-2.152969e-10</td>\n",
       "      <td>-2.059347e-22</td>\n",
       "      <td>-6.281233e-18</td>\n",
       "      <td>113.0</td>\n",
       "      <td>20.0</td>\n",
       "      <td>3.0</td>\n",
       "      <td>0.024163</td>\n",
       "      <td>0.006131</td>\n",
       "      <td>0.999689</td>\n",
       "      <td>9.181643e-13</td>\n",
       "      <td>8.000000e-11</td>\n",
       "    </tr>\n",
       "    <tr>\n",
       "      <th>4</th>\n",
       "      <td>-6.282947e-18</td>\n",
       "      <td>761.0</td>\n",
       "      <td>550.439309</td>\n",
       "      <td>-2.622797e-11</td>\n",
       "      <td>-3.440007e-23</td>\n",
       "      <td>-6.282947e-18</td>\n",
       "      <td>130.0</td>\n",
       "      <td>16.0</td>\n",
       "      <td>4.0</td>\n",
       "      <td>-0.008347</td>\n",
       "      <td>-0.002458</td>\n",
       "      <td>0.999962</td>\n",
       "      <td>1.290222e-12</td>\n",
       "      <td>1.000000e-10</td>\n",
       "    </tr>\n",
       "  </tbody>\n",
       "</table>\n",
       "</div>"
      ],
      "text/plain": [
       "              E  Ecount     max_dm/dt         dE/dt        deltaE  \\\n",
       "0 -5.033171e-18   217.0  37867.797392 -1.241326e-07 -4.522273e-20   \n",
       "1 -6.131373e-18   392.0  13822.238704 -1.653875e-08 -6.256125e-21   \n",
       "2 -6.266081e-18   543.0   4664.609034 -1.883547e-09 -1.210170e-21   \n",
       "3 -6.281233e-18   664.0   1577.051840 -2.152969e-10 -2.059347e-22   \n",
       "4 -6.282947e-18   761.0    550.439309 -2.622797e-11 -3.440007e-23   \n",
       "\n",
       "       E_Zeeman  iteration  stage_iteration  stage        mx        my  \\\n",
       "0 -5.033171e-18       36.0             36.0    0.0 -0.597360 -0.038383   \n",
       "1 -6.131373e-18       66.0             29.0    1.0  0.216713  0.027838   \n",
       "2 -6.266081e-18       92.0             25.0    2.0 -0.072403 -0.013953   \n",
       "3 -6.281233e-18      113.0             20.0    3.0  0.024163  0.006131   \n",
       "4 -6.282947e-18      130.0             16.0    4.0 -0.008347 -0.002458   \n",
       "\n",
       "         mz  last_time_step             t  \n",
       "0  0.801054    3.586075e-13  2.000000e-11  \n",
       "1  0.975838    3.708125e-13  4.000000e-11  \n",
       "2  0.997278    6.216520e-13  6.000000e-11  \n",
       "3  0.999689    9.181643e-13  8.000000e-11  \n",
       "4  0.999962    1.290222e-12  1.000000e-10  "
      ]
     },
     "execution_count": 3,
     "metadata": {},
     "output_type": "execute_result"
    }
   ],
   "source": [
    "# display beginning of data table in notebook\n",
    "system.dt.head()"
   ]
  },
  {
   "cell_type": "markdown",
   "metadata": {},
   "source": [
    "### MS Excel, html, latex, json"
   ]
  },
  {
   "cell_type": "code",
   "execution_count": 4,
   "metadata": {},
   "outputs": [],
   "source": [
    "system.dt.to_excel(\"data-odt.xlsx\")"
   ]
  },
  {
   "cell_type": "code",
   "execution_count": 5,
   "metadata": {},
   "outputs": [],
   "source": [
    "system.dt.to_html(\"data-odt.html\")"
   ]
  },
  {
   "cell_type": "code",
   "execution_count": 6,
   "metadata": {},
   "outputs": [],
   "source": [
    "system.dt.to_latex(\"data-odt.tex\")"
   ]
  },
  {
   "cell_type": "code",
   "execution_count": 7,
   "metadata": {},
   "outputs": [],
   "source": [
    "system.dt.to_json(\"data-odt.json\")"
   ]
  },
  {
   "cell_type": "code",
   "execution_count": 8,
   "metadata": {},
   "outputs": [
    {
     "name": "stdout",
     "output_type": "stream",
     "text": [
      "-rw-r----- 1 mmh public 2402 Nov 20 18:28 data-odt.html\r\n",
      "-rw-r----- 1 mmh public 1202 Nov 20 18:28 data-odt.json\r\n",
      "-rw-r----- 1 mmh public 1319 Nov 20 18:28 data-odt.tex\r\n",
      "-rw-r----- 1 mmh public 6336 Nov 20 18:28 data-odt.xlsx\r\n"
     ]
    }
   ],
   "source": [
    "!ls -l data-odt.*"
   ]
  },
  {
   "cell_type": "code",
   "execution_count": 9,
   "metadata": {},
   "outputs": [
    {
     "name": "stdout",
     "output_type": "stream",
     "text": [
      "PK\u0003\u0004\u0014\u0000\u0000\u0000\b\u0000��tK͔u-�\u0004\u0000\u0000�\u000e\u0000\u0000\u0018\u0000\u0000\u0000xl/worksheets/sheet1.xml���r�8\u0010���)(�Ǩ�n\u001d",
      "R���\u0010B����{���\u001a���Iv�~��8�x���`������=���z5x�E��7\u0017\t�*\u0019��<^n^.������dPV��9[�x��\u0017������{^�(_c�\u0006<���H^�j{>\u001c",
      "��׸��4��\r",
      "�Y��:���x\u0019��\"fϻ�֫�V�\u000e��r�43�\u0017��#_,��8��?�qS5�\u0014q�U\u001c",
      "~��ܖ�x���{�~\u0006E\\\\$_���M���n���<�=���?�*Ϋ���O\u0006�ƞ��G}�T������.�ߋ�s\\d?W�\u001f��,._^+����&Y��GE�>(v��۬�\r\n",
      "�Y3\u001e",
      "����zxw�\u001f��\u001b����ל��o�\r\n"
     ]
    }
   ],
   "source": [
    "!head -n 2 data-odt.xlsx"
   ]
  },
  {
   "cell_type": "code",
   "execution_count": 10,
   "metadata": {},
   "outputs": [
    {
     "name": "stdout",
     "output_type": "stream",
     "text": [
      "<table border=\"1\" class=\"dataframe\">\r\n",
      "  <thead>\r\n",
      "    <tr style=\"text-align: right;\">\r\n",
      "      <th></th>\r\n",
      "      <th>E</th>\r\n",
      "      <th>Ecount</th>\r\n",
      "      <th>max_dm/dt</th>\r\n",
      "      <th>dE/dt</th>\r\n",
      "      <th>deltaE</th>\r\n",
      "      <th>E_Zeeman</th>\r\n"
     ]
    }
   ],
   "source": [
    "!head data-odt.html"
   ]
  },
  {
   "cell_type": "code",
   "execution_count": 11,
   "metadata": {},
   "outputs": [
    {
     "name": "stdout",
     "output_type": "stream",
     "text": [
      "{\"E\":{\"0\":-5.033171479e-18,\"1\":-6.131373041e-18,\"2\":-6.266081472e-18,\"3\":-6.281232628e-18,\"4\":-6.28294746e-18},\"Ecount\":{\"0\":217.0,\"1\":392.0,\"2\":543.0,\"3\":664.0,\"4\":761.0},\"max_dm\\/dt\":{\"0\":37867.7973924228,\"1\":13822.2387039212,\"2\":4664.6090341554,\"3\":1577.0518398457,\"4\":550.4393093324},\"dE\\/dt\":{\"0\":-0.0000001241,\"1\":-0.0000000165,\"2\":-0.0000000019,\"3\":-0.0000000002,\"4\":-0.0},\"deltaE\":{\"0\":-4.522272608e-20,\"1\":-6.25612476e-21,\"2\":-1.210169685e-21,\"3\":-2.059346614e-22,\"4\":-3.440006546e-23},\"E_Zeeman\":{\"0\":-5.033171479e-18,\"1\":-6.131373041e-18,\"2\":-6.266081472e-18,\"3\":-6.281232628e-18,\"4\":-6.28294746e-18},\"iteration\":{\"0\":36.0,\"1\":66.0,\"2\":92.0,\"3\":113.0,\"4\":130.0},\"stage_iteration\":{\"0\":36.0,\"1\":29.0,\"2\":25.0,\"3\":20.0,\"4\":16.0},\"stage\":{\"0\":0.0,\"1\":1.0,\"2\":2.0,\"3\":3.0,\"4\":4.0},\"mx\":{\"0\":-0.5973600676,\"1\":0.2167132278,\"2\":-0.0724031353,\"3\":0.0241634253,\"4\":-0.0083465781},\"my\":{\"0\":-0.0383828866,\"1\":0.0278376651,\"2\":-0.0139533404,\"3\":0.0061310212,\"4\":-0.0024581319},\"mz\":{\"0\":0.8010541203,\"1\":0.9758383274,\"2\":0.9972778401,\"3\":0.9996892214,\"4\":0.9999621454},\"last_time_step\":{\"0\":0.0,\"1\":0.0,\"2\":0.0,\"3\":0.0,\"4\":0.0},\"t\":{\"0\":0.0,\"1\":0.0,\"2\":0.0000000001,\"3\":0.0000000001,\"4\":0.0000000001}}"
     ]
    }
   ],
   "source": [
    "!head data-odt.json"
   ]
  },
  {
   "cell_type": "code",
   "execution_count": 12,
   "metadata": {},
   "outputs": [
    {
     "name": "stdout",
     "output_type": "stream",
     "text": [
      "\\begin{tabular}{lrrrrrrrrrrrrrr}\r\n",
      "\\toprule\r\n",
      "{} &             E &  Ecount &     max\\_dm/dt &         dE/dt &        deltaE &      E\\_Zeeman &  iteration &  stage\\_iteration &  stage &        mx &        my &        mz &  last\\_time\\_step &             t \\\\\r\n",
      "\\midrule\r\n",
      "0 & -5.033171e-18 &   217.0 &  37867.797392 & -1.241326e-07 & -4.522273e-20 & -5.033171e-18 &       36.0 &             36.0 &    0.0 & -0.597360 & -0.038383 &  0.801054 &    3.586075e-13 &  2.000000e-11 \\\\\r\n",
      "1 & -6.131373e-18 &   392.0 &  13822.238704 & -1.653875e-08 & -6.256125e-21 & -6.131373e-18 &       66.0 &             29.0 &    1.0 &  0.216713 &  0.027838 &  0.975838 &    3.708125e-13 &  4.000000e-11 \\\\\r\n",
      "2 & -6.266081e-18 &   543.0 &   4664.609034 & -1.883547e-09 & -1.210170e-21 & -6.266081e-18 &       92.0 &             25.0 &    2.0 & -0.072403 & -0.013953 &  0.997278 &    6.216520e-13 &  6.000000e-11 \\\\\r\n",
      "3 & -6.281233e-18 &   664.0 &   1577.051840 & -2.152969e-10 & -2.059347e-22 & -6.281233e-18 &      113.0 &             20.0 &    3.0 &  0.024163 &  0.006131 &  0.999689 &    9.181643e-13 &  8.000000e-11 \\\\\r\n",
      "4 & -6.282947e-18 &   761.0 &    550.439309 & -2.622797e-11 & -3.440007e-23 & -6.282947e-18 &      130.0 &             16.0 &    4.0 & -0.008347 & -0.002458 &  0.999962 &    1.290222e-12 &  1.000000e-10 \\\\\r\n",
      "\\bottomrule\r\n"
     ]
    }
   ],
   "source": [
    "!head data-odt.tex"
   ]
  },
  {
   "cell_type": "markdown",
   "metadata": {},
   "source": [
    "### Numpy arrays"
   ]
  },
  {
   "cell_type": "markdown",
   "metadata": {},
   "source": [
    "Given a pandas table, we can extract each column as a (Pandas) Series:"
   ]
  },
  {
   "cell_type": "code",
   "execution_count": 13,
   "metadata": {},
   "outputs": [
    {
     "data": {
      "text/plain": [
       "0    2.000000e-11\n",
       "1    4.000000e-11\n",
       "2    6.000000e-11\n",
       "3    8.000000e-11\n",
       "4    1.000000e-10\n",
       "Name: t, dtype: float64"
      ]
     },
     "execution_count": 13,
     "metadata": {},
     "output_type": "execute_result"
    }
   ],
   "source": [
    "t_series = system.dt['t']\n",
    "t_series"
   ]
  },
  {
   "cell_type": "markdown",
   "metadata": {},
   "source": [
    "Or convert this into a numpy array:"
   ]
  },
  {
   "cell_type": "code",
   "execution_count": 14,
   "metadata": {},
   "outputs": [],
   "source": [
    "import numpy as np\n",
    "t_array = np.array(system.dt['t'])\n",
    "mx_array = np.array(system.dt['mx'])"
   ]
  },
  {
   "cell_type": "markdown",
   "metadata": {},
   "source": [
    "for example to plot the data in some custom way:"
   ]
  },
  {
   "cell_type": "code",
   "execution_count": 15,
   "metadata": {},
   "outputs": [
    {
     "data": {
      "text/plain": [
       "[<matplotlib.lines.Line2D at 0x7fa7aa637e10>]"
      ]
     },
     "execution_count": 15,
     "metadata": {},
     "output_type": "execute_result"
    },
    {
     "data": {
      "image/png": "[encoded data removed]",
      "text/plain": [
       "<matplotlib.figure.Figure at 0x7fa7b2617b00>"
      ]
     },
     "metadata": {},
     "output_type": "display_data"
    }
   ],
   "source": [
    "%matplotlib inline\n",
    "import matplotlib.pyplot as plt\n",
    "fig, axes = plt.subplots()\n",
    "axes.plot(t_array, mx_array)"
   ]
  },
  {
   "cell_type": "markdown",
   "metadata": {},
   "source": [
    "To see which data columns are available in the table, we can use:"
   ]
  },
  {
   "cell_type": "code",
   "execution_count": 16,
   "metadata": {},
   "outputs": [
    {
     "data": {
      "text/plain": [
       "Index(['E', 'Ecount', 'max_dm/dt', 'dE/dt', 'deltaE', 'E_Zeeman', 'iteration',\n",
       "       'stage_iteration', 'stage', 'mx', 'my', 'mz', 'last_time_step', 't'],\n",
       "      dtype='object')"
      ]
     },
     "execution_count": 16,
     "metadata": {},
     "output_type": "execute_result"
    }
   ],
   "source": [
    "system.dt.columns"
   ]
  },
  {
   "cell_type": "markdown",
   "metadata": {},
   "source": [
    "or"
   ]
  },
  {
   "cell_type": "code",
   "execution_count": 17,
   "metadata": {},
   "outputs": [
    {
     "data": {
      "text/plain": [
       "['E',\n",
       " 'Ecount',\n",
       " 'max_dm/dt',\n",
       " 'dE/dt',\n",
       " 'deltaE',\n",
       " 'E_Zeeman',\n",
       " 'iteration',\n",
       " 'stage_iteration',\n",
       " 'stage',\n",
       " 'mx',\n",
       " 'my',\n",
       " 'mz',\n",
       " 'last_time_step',\n",
       " 't']"
      ]
     },
     "execution_count": 17,
     "metadata": {},
     "output_type": "execute_result"
    }
   ],
   "source": [
    "list(system.dt.columns)"
   ]
  },
  {
   "cell_type": "markdown",
   "metadata": {},
   "source": [
    "## TODO: Add section on OMF files"
   ]
  },
  {
   "cell_type": "markdown",
   "metadata": {},
   "source": [
    "<hr>\n",
    "Cleaning up.  Temporary files were written.  You may want to remove them."
   ]
  },
  {
   "cell_type": "code",
   "execution_count": 18,
   "metadata": {},
   "outputs": [],
   "source": [
    "!rm -rf example-macrospin"
   ]
  }
 ],
 "metadata": {
  "kernelspec": {
   "display_name": "Python3",
   "language": "python",
   "name": "python3"
  },
  "language_info": {
   "codemirror_mode": {
    "name": "ipython",
    "version": 3
   },
   "file_extension": ".py",
   "mimetype": "text/x-python",
   "name": "python",
   "nbconvert_exporter": "python",
   "pygments_lexer": "ipython3",
   "version": "3.6.2"
  }
 },
 "nbformat": 4,
 "nbformat_minor": 2
}
