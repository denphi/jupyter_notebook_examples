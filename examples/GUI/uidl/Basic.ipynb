{
 "cells": [
  {
   "cell_type": "code",
   "execution_count": 1,
   "id": "efcc6a94",
   "metadata": {
    "ExecuteTime": {
     "end_time": "2023-02-13T16:56:24.626697Z",
     "start_time": "2023-02-13T16:56:20.950998Z"
    }
   },
   "outputs": [],
   "source": [
    "import sys\n",
    "import nanohubuidl.teleport as t\n",
    "from nanohubuidl.plotly import PlotlyBuilder\n",
    "from nanohubuidl.rappture import RapptureBuilder\n",
    "from nanohubuidl.material import MaterialBuilder\n",
    "from nanohubuidl.material import MaterialContent\n",
    "from nanohubuidl.app import AppBuilder\n",
    "from nanohubuidl.nanohub import Auth\n",
    "from nanohubuidl.ipywidgets import buildWidget\n"
   ]
  },
  {
   "cell_type": "code",
   "execution_count": 6,
   "id": "89262ec6",
   "metadata": {
    "ExecuteTime": {
     "end_time": "2023-02-13T16:58:13.681849Z",
     "start_time": "2023-02-13T16:58:13.669795Z"
    }
   },
   "outputs": [],
   "source": [
    "Project = t.TeleportProject(\"Example\")\n",
    "Component = Project.root\n",
    "Component.addStateVariable(\"text1\", {\"type\":\"string\", \"defaultValue\": \"Word of the Day\"})\n",
    "Component.addStateVariable(\"text2\", {\"type\":\"string\", \"defaultValue\": \"be-nev-o-lent\"})\n",
    "Card = t.TeleportElement(MaterialContent(elementType=\"Card\"))\n",
    "CardContent = t.TeleportElement(MaterialContent(elementType=\"CardContent\"))\n",
    "Typography1 = t.TeleportElement(MaterialContent(elementType=\"Typography\"))\n",
    "Typography1.content.attrs[\"color\"] = \"textSecondary\"\n",
    "Typography1.content.attrs[\"gutterBottom\"] = True\n",
    "Text1 = t.TeleportDynamic(content={\"referenceType\": \"state\",\"id\": \"text1\"})\n",
    "Typography2 = t.TeleportElement(MaterialContent(elementType=\"Typography\"))\n",
    "Typography2.content.attrs[\"variant\"] = \"h5\"\n",
    "Typography2.content.attrs[\"component\"] = \"h2\"\n",
    "Text2 = t.TeleportDynamic(content={\"referenceType\": \"state\",\"id\": \"text2\"})\n",
    "Typography3 = t.TeleportElement(MaterialContent(elementType=\"Typography\"))\n",
    "Typography3.content.attrs[\"color\"] = \"textSecondary\"\n",
    "Text3 = t.TeleportStatic(content=\"adjective\")\n",
    "Typography4 = t.TeleportElement(MaterialContent(elementType=\"Typography\"))\n",
    "Typography4.content.attrs[\"variant\"] = \"body2\"\n",
    "Typography4.content.attrs[\"component\"] = \"p\"\n",
    "Text4 = t.TeleportStatic(content=\"well meaning and kindly\")\n",
    "\n",
    "CardActions = t.TeleportElement(MaterialContent(elementType=\"CardActions\"))\n",
    "Button = t.TeleportElement(MaterialContent(elementType=\"Button\"))\n",
    "Button.content.attrs[\"size\"] = \"small\"\n",
    "Text5 = t.TeleportStatic(content=\"LEARN MORE\")\n",
    "\n",
    "Card.addContent(CardContent)\n",
    "Typography1.addContent(Text1)\n",
    "CardContent.addContent(Typography1)\n",
    "Typography2.addContent(Text2)\n",
    "CardContent.addContent(Typography2)\n",
    "Typography3.addContent(Text3)\n",
    "CardContent.addContent(Typography3)\n",
    "Typography4.addContent(Text4)\n",
    "CardContent.addContent(Typography4)\n",
    "Button.addContent(Text5)\n",
    "CardActions.addContent(Button)\n",
    "CardContent.addContent(CardActions)\n",
    "Component.addNode(Card)"
   ]
  },
  {
   "cell_type": "code",
   "execution_count": 7,
   "id": "a69bd5a5",
   "metadata": {
    "ExecuteTime": {
     "end_time": "2023-02-13T16:58:13.755195Z",
     "start_time": "2023-02-13T16:58:13.732780Z"
    }
   },
   "outputs": [
    {
     "data": {
      "application/vnd.jupyter.widget-view+json": {
       "model_id": "0a1f5486b7b94bbeb7d32caa75cb0944",
       "version_major": 2,
       "version_minor": 0
      },
      "text/plain": [
       "HTML(value=\"<link rel='stylesheet' href='https://fonts.googleapis.com/icon?family=Material+Icons'/><style>.p-W…"
      ]
     },
     "metadata": {},
     "output_type": "display_data"
    },
    {
     "data": {
      "application/javascript": [
       "require.config({\n",
       "  paths: {\n",
       "    'react': 'https://unpkg.com/react@16.8.6/umd/react.production.min',\n",
       "    'react-dom': 'https://unpkg.com/react-dom@16.8.6/umd/react-dom.production.min',\n",
       "    'material-ui': 'https://unpkg.com/@material-ui/core@latest/umd/material-ui.production.min',\n",
       "    'materiallab-ui': 'https://cdn.jsdelivr.net/npm/material-ui-lab-umd@latest/material-ui-lab.production.min',\n",
       "    'plotlycomponent': 'https://unpkg.com/react-plotly.js@2.3/dist/create-plotly-component',\n",
       "    'plotly': 'https://cdn.plot.ly/plotly-latest.min',\n",
       "    'math': 'https://cdnjs.cloudflare.com/ajax/libs/mathjs/6.6.1/math.min',\n",
       "    'axios': 'https://unpkg.com/axios/dist/axios.min',\n",
       "    'localforage': 'https://www.unpkg.com/localforage@1.7.3/dist/localforage.min',\n",
       "    'number-format': 'https://unpkg.com/react-number-format@4.3.1/dist/react-number-format',\n",
       "    'prop-types': 'https://unpkg.com/prop-types@15.6/prop-types.min',\n",
       "  }\n",
       "});\n",
       "require.undef('Example');\n",
       "define('patchreact', [\n",
       "    'react'\n",
       "  ], function(\n",
       "    React\n",
       "  ){\n",
       "      window.React = React;\n",
       "      return React;\n",
       "  }\n",
       ");\n",
       "define('Example', [\n",
       "    '@jupyter-widgets/base',\n",
       "    'underscore', \n",
       "    'patchreact', \n",
       "    'react-dom',\n",
       "    'materiallab-ui',\n",
       "    'material-ui',\n",
       "    'number-format',\n",
       "    'axios',\n",
       "    'localforage',\n",
       "    'prop-types',\n",
       "    'plotlycomponent',\n",
       "    'plotly',\n",
       "    'math'\n",
       "  ], function(\n",
       "    widgets, \n",
       "    _, \n",
       "    React, \n",
       "    ReactDOM,\n",
       "    MaterialLab,\n",
       "    Material,\n",
       "    Format,\n",
       "    Axios,\n",
       "    LocalForage,\n",
       "    PropTypes,\n",
       "    PlotlyComponent,\n",
       "    Plotly,\n",
       "    math\n",
       "  ) {\n",
       "    const Plot = PlotlyComponent.default(Plotly);\n",
       "    const ExampleModel = widgets.WidgetModel.extend({}, {\n",
       "        serializers: _.extend({\n",
       "        }, widgets.DOMWidgetModel.serializers)\n",
       "    });\n",
       "    const ExampleView = widgets.DOMWidgetView.extend({\n",
       "      initialize() {\n",
       "        const backbone = this;\n",
       "        backbone.options = {};\n",
       "var tstyle = document.createElement('style')\n",
       "document.head.appendChild(tstyle);\n",
       "tstyle.sheet.insertRule('div[role=tooltip] { z-index:100 }');\n",
       "var tstyle = document.createElement('style')\n",
       "document.head.appendChild(tstyle);\n",
       "tstyle.sheet.insertRule('li[role=option] { font-size:initial; width:100% }');\n",
       "var tstyle = document.createElement('style')\n",
       "document.head.appendChild(tstyle);\n",
       "tstyle.sheet.insertRule('div.output_subarea {max-width:100%}');\n",
       "var tstyle = document.createElement('style')\n",
       "document.head.appendChild(tstyle);\n",
       "tstyle.sheet.insertRule('div.cell {padding:0px}');\n",
       "var tstyle = document.createElement('style')\n",
       "document.head.appendChild(tstyle);\n",
       "tstyle.sheet.insertRule('#ipython_notebook {display:none}');\n",
       "var tstyle = document.createElement('style')\n",
       "document.head.appendChild(tstyle);\n",
       "tstyle.sheet.insertRule('span#login_widget {position: absolute;left: 14px}');\n",
       "var tstyle = document.createElement('style')\n",
       "document.head.appendChild(tstyle);\n",
       "tstyle.sheet.insertRule('body > #header {background-color: #eeee;}');\n",
       "var tstyle = document.createElement('style')\n",
       "document.head.appendChild(tstyle);\n",
       "tstyle.sheet.insertRule('.end_space {display: none}');\n",
       "var tstyle = document.createElement('style')\n",
       "document.head.appendChild(tstyle);\n",
       "tstyle.sheet.insertRule('.MuiIconButton-colorPrimary {  color: rgba(255, 255, 255, 0.87) !important;  background-color: rgba(0, 0, 0, 0.65) !important;}');\n",
       "var tstyle = document.createElement('style')\n",
       "document.head.appendChild(tstyle);\n",
       "tstyle.sheet.insertRule('.MuiIconButton-colorSecondary {  color: rgba(0, 0, 0, 0.87) !important;  background-color: rgba(0, 0, 0, 0.12) !important;}');\n",
       "var tstyle = document.createElement('style')\n",
       "document.head.appendChild(tstyle);\n",
       "tstyle.sheet.insertRule('.MuiFab-primary {  color: rgba(255, 255, 255, 0.87) !important;  background-color: rgba(0, 0, 0, 0.65) !important;}');\n",
       "var tstyle = document.createElement('style')\n",
       "document.head.appendChild(tstyle);\n",
       "tstyle.sheet.insertRule('.MuiFab-secondary {  color: rgba(0, 0, 0, 0.87) !important;  background-color: rgba(0, 0, 0, 0.12) !important;}');\n",
       "var tstyle = document.createElement('style')\n",
       "document.head.appendChild(tstyle);\n",
       "tstyle.sheet.insertRule('.MuiButton-root {padding: 6px 16px !important;text-transform:none !important}');\n",
       "var tstyle = document.createElement('style')\n",
       "document.head.appendChild(tstyle);\n",
       "tstyle.sheet.insertRule('.MuiSwitch-switchBase {position: absolute !important;top: 9px !important;left: 9px !important;}');\n",
       "class Example extends React.Component {\n",
       "constructor(props) {\n",
       "super(props);\n",
       "let self=this;\n",
       "this.state = {\n",
       "'text1' : backbone.model.get('text1'), \n",
       "'text2' : backbone.model.get('text2'), \n",
       "};\n",
       "} \n",
       "componentDidMount(){\n",
       "  let self=this;\n",
       "  if (this.props.onLoad){\n",
       "    this.props.onLoad(self);\n",
       "  }\n",
       "}\n",
       "componentDidUpdate(){\n",
       "  let self=this;\n",
       "  if (this.props.onUpdate){\n",
       "    this.props.onUpdate(self);\n",
       "  }\n",
       "}\n",
       "render(){\n",
       "  let self=this;\n",
       "  return React.createElement('div', {key:'6143a840-64dd-42f7-ba27-6deac5f7a3f0','style': {'width':'100%','height':'100%'}},\n",
       "React.createElement(Material.Card, {key:'8184db13-379d-4863-b762-52221c3a2acd'},\n",
       "React.createElement(Material.CardContent, {key:'340c88ab-7b8e-4790-8e6a-1cefaf207912'},[\n",
       "React.createElement(Material.Typography, {key:'e52f08e1-f47a-45ee-92f7-9990a2d20a41','color': \"textSecondary\",'gutterBottom': true},\n",
       " self.state.text1 )\n",
       " ,React.createElement(Material.Typography, {key:'a7a93028-691b-46e5-be39-557217f7956c','variant': \"h5\",'component': \"h2\"},\n",
       " self.state.text2 )\n",
       " ,React.createElement(Material.Typography, {key:'03971382-e06c-4791-8a0e-7e5dfc96b5f1','color': \"textSecondary\"},\n",
       " \"adjective\" )\n",
       " ,React.createElement(Material.Typography, {key:'d4e567b7-e0d5-4f78-bee8-510d0f5fb932','variant': \"body2\",'component': \"p\"},\n",
       " \"well meaning and kindly\" )\n",
       " ,React.createElement(Material.CardActions, {key:'e9353e25-41da-45a8-91fd-f9d0db092d8a'},\n",
       "React.createElement(Material.Button, {key:'473a1f49-cbd2-4df3-921f-3f14e319e141','size': \"small\"},\n",
       " \"LEARN MORE\" )\n",
       ")\n",
       "]))\n",
       ")\n",
       ";\n",
       "}\n",
       "}\n",
       "Example.defaultProps = {\n",
       "}\n",
       "        const orig = Example.prototype.setState;\n",
       "        Example.prototype.onChange = function (model){\n",
       "          orig.apply(this, [Object.assign({},model.changed)]);\n",
       "        }\n",
       "        Example.prototype.componentDidUpdate = function(){\n",
       "        }\n",
       "        Example.getDerivedStateFromProps = function(props, state){\n",
       "          return state;\n",
       "        }\n",
       "        Example.prototype.componentDidMount = function(){\n",
       "          backbone.listenTo(backbone.model, 'change', this.onChange.bind(this));\n",
       "        }\n",
       "        Example.prototype.setState = function(state, callback){\n",
       "        if('text1' in state){\n",
       "          state['text1'] = String(state['text1']);\n",
       "        }\n",
       "        if('text2' in state){\n",
       "          state['text2'] = String(state['text2']);\n",
       "        }\n",
       "          for (let [key, value] of Object.entries(state)) {\n",
       "            backbone.model.set(key, value);\n",
       "          }\n",
       "          try {;\n",
       "            backbone.model.save_changes();\n",
       "          } catch (error) {\n",
       "          }\n",
       "          orig.apply(this, [state, callback]);\n",
       "        }\n",
       "        backbone.app = document.createElement('div');\n",
       "        backbone.app.style.padding = '10px';\n",
       "        const App = React.createElement(Example);\n",
       "        ReactDOM.render(App, backbone.app);\n",
       "        backbone.el.append(backbone.app);\n",
       "      },\n",
       "      add_child_model: function(model) {\n",
       "        return this.create_child_view(model).then((view) => {\n",
       "          view.setLayout(view.model.get('layout'));\n",
       "          let lview=view;\n",
       "          lview.listenTo(lview.model,'change:layout',(m, v) => {\n",
       "            this.update_children()\n",
       "          });\n",
       "          return view;\n",
       "        });\n",
       "      }, \n",
       "      update_children: function () {\n",
       "          this.children_views.update(this.model.get('children')).then(function (views) {\n",
       "              views.forEach(function (view) {\n",
       "                  messaging_1.MessageLoop.postMessage(view.pWidget, widgets_1.Widget.ResizeMessage.UnknownSize);\n",
       "              });\n",
       "          });\n",
       "      }, \n",
       "    });\n",
       "    return {\n",
       "      ExampleView,\n",
       "      ExampleModel\n",
       "    };\n",
       "});\n"
      ],
      "text/plain": [
       "<IPython.core.display.Javascript object>"
      ]
     },
     "metadata": {},
     "output_type": "display_data"
    },
    {
     "data": {
      "application/vnd.jupyter.widget-view+json": {
       "model_id": "d05a0ab7d5b744e69255c29d10e85d17",
       "version_major": 2,
       "version_minor": 0
      },
      "text/plain": [
       "ExampleWidget()"
      ]
     },
     "metadata": {},
     "output_type": "display_data"
    }
   ],
   "source": [
    "MyComponentWidget = buildWidget(Project)\n",
    "widget = MyComponentWidget()\n",
    "widget"
   ]
  },
  {
   "cell_type": "code",
   "execution_count": 9,
   "id": "741b083a",
   "metadata": {
    "ExecuteTime": {
     "end_time": "2023-02-13T16:58:48.945923Z",
     "start_time": "2023-02-13T16:58:48.942399Z"
    }
   },
   "outputs": [],
   "source": [
    "widget.text1 = \"First text\"\n",
    "widget.text2 = \"Second text\""
   ]
  },
  {
   "cell_type": "code",
   "execution_count": null,
   "id": "db6c426e",
   "metadata": {},
   "outputs": [],
   "source": []
  }
 ],
 "metadata": {
  "kernelspec": {
   "display_name": "Python 3 (ipykernel)",
   "language": "python",
   "name": "python3"
  },
  "language_info": {
   "codemirror_mode": {
    "name": "ipython",
    "version": 3
   },
   "file_extension": ".py",
   "mimetype": "text/x-python",
   "name": "python",
   "nbconvert_exporter": "python",
   "pygments_lexer": "ipython3",
   "version": "3.8.10"
  },
  "toc": {
   "base_numbering": 1,
   "nav_menu": {},
   "number_sections": true,
   "sideBar": true,
   "skip_h1_title": false,
   "title_cell": "Table of Contents",
   "title_sidebar": "Contents",
   "toc_cell": false,
   "toc_position": {},
   "toc_section_display": true,
   "toc_window_display": false
  },
  "varInspector": {
   "cols": {
    "lenName": 16,
    "lenType": 16,
    "lenVar": 40
   },
   "kernels_config": {
    "python": {
     "delete_cmd_postfix": "",
     "delete_cmd_prefix": "del ",
     "library": "var_list.py",
     "varRefreshCmd": "print(var_dic_list())"
    },
    "r": {
     "delete_cmd_postfix": ") ",
     "delete_cmd_prefix": "rm(",
     "library": "var_list.r",
     "varRefreshCmd": "cat(var_dic_list()) "
    }
   },
   "types_to_exclude": [
    "module",
    "function",
    "builtin_function_or_method",
    "instance",
    "_Feature"
   ],
   "window_display": false
  }
 },
 "nbformat": 4,
 "nbformat_minor": 5
}
