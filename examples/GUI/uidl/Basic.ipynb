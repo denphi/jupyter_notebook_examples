{
 "cells": [
  {
   "cell_type": "code",
   "execution_count": null,
   "id": "efcc6a94",
   "metadata": {
    "ExecuteTime": {
     "end_time": "2023-02-24T14:58:35.595221Z",
     "start_time": "2023-02-24T14:58:30.525154Z"
    }
   },
   "outputs": [],
   "source": [
    "import sys\n",
    "import nanohubuidl.teleport as t\n",
    "from nanohubuidl.plotly import PlotlyBuilder\n",
    "from nanohubuidl.rappture import RapptureBuilder\n",
    "from nanohubuidl.material import MaterialBuilder\n",
    "from nanohubuidl.material import MaterialContent\n",
    "from nanohubuidl.app import AppBuilder\n",
    "from nanohubuidl.nanohub import Auth\n",
    "from nanohubuidl.ipywidgets import buildWidget\n"
   ]
  },
  {
   "cell_type": "code",
   "execution_count": null,
   "id": "89262ec6",
   "metadata": {
    "ExecuteTime": {
     "end_time": "2023-02-24T14:58:35.617636Z",
     "start_time": "2023-02-24T14:58:35.604811Z"
    }
   },
   "outputs": [],
   "source": [
    "Project = t.TeleportProject(\"Example\")\n",
    "Component = Project.root\n",
    "Component.addStateVariable(\"text1\", {\"type\":\"string\", \"defaultValue\": \"Word of the Day\"})\n",
    "Component.addStateVariable(\"text2\", {\"type\":\"string\", \"defaultValue\": \"be-nev-o-lent\"})\n",
    "Card = t.TeleportElement(MaterialContent(elementType=\"Card\"))\n",
    "CardContent = t.TeleportElement(MaterialContent(elementType=\"CardContent\"))\n",
    "Typography1 = t.TeleportElement(MaterialContent(elementType=\"Typography\"))\n",
    "Typography1.content.attrs[\"color\"] = \"textSecondary\"\n",
    "Typography1.content.attrs[\"gutterBottom\"] = True\n",
    "Text1 = t.TeleportDynamic(content={\"referenceType\": \"state\",\"id\": \"text1\"})\n",
    "Typography2 = t.TeleportElement(MaterialContent(elementType=\"Typography\"))\n",
    "Typography2.content.attrs[\"variant\"] = \"h5\"\n",
    "Typography2.content.attrs[\"component\"] = \"h2\"\n",
    "Text2 = t.TeleportDynamic(content={\"referenceType\": \"state\",\"id\": \"text2\"})\n",
    "Typography3 = t.TeleportElement(MaterialContent(elementType=\"Typography\"))\n",
    "Typography3.content.attrs[\"color\"] = \"textSecondary\"\n",
    "Text3 = t.TeleportStatic(content=\"adjective\")\n",
    "Typography4 = t.TeleportElement(MaterialContent(elementType=\"Typography\"))\n",
    "Typography4.content.attrs[\"variant\"] = \"body2\"\n",
    "Typography4.content.attrs[\"component\"] = \"p\"\n",
    "Text4 = t.TeleportStatic(content=\"well meaning and kindly\")\n",
    "\n",
    "CardActions = t.TeleportElement(MaterialContent(elementType=\"CardActions\"))\n",
    "Button = t.TeleportElement(MaterialContent(elementType=\"Button\"))\n",
    "Button.content.attrs[\"size\"] = \"small\"\n",
    "Text5 = t.TeleportStatic(content=\"LEARN MORE\")\n",
    "\n",
    "Card.addContent(CardContent)\n",
    "Typography1.addContent(Text1)\n",
    "CardContent.addContent(Typography1)\n",
    "Typography2.addContent(Text2)\n",
    "CardContent.addContent(Typography2)\n",
    "Typography3.addContent(Text3)\n",
    "CardContent.addContent(Typography3)\n",
    "Typography4.addContent(Text4)\n",
    "CardContent.addContent(Typography4)\n",
    "Button.addContent(Text5)\n",
    "CardActions.addContent(Button)\n",
    "CardContent.addContent(CardActions)\n",
    "Component.addNode(Card)"
   ]
  },
  {
   "cell_type": "code",
   "execution_count": null,
   "id": "77b7929f",
   "metadata": {
    "ExecuteTime": {
     "end_time": "2023-02-24T14:58:35.650471Z",
     "start_time": "2023-02-24T14:58:35.626541Z"
    }
   },
   "outputs": [],
   "source": [
    "Project.__json__()"
   ]
  },
  {
   "cell_type": "code",
   "execution_count": null,
   "id": "a69bd5a5",
   "metadata": {
    "ExecuteTime": {
     "end_time": "2023-02-24T14:58:45.344078Z",
     "start_time": "2023-02-24T14:58:45.323697Z"
    }
   },
   "outputs": [],
   "source": [
    "MyComponentWidget = buildWidget(Project)\n",
    "widget = MyComponentWidget()\n",
    "widget"
   ]
  },
  {
   "cell_type": "code",
   "execution_count": null,
   "id": "741b083a",
   "metadata": {
    "ExecuteTime": {
     "end_time": "2023-02-24T14:58:58.847321Z",
     "start_time": "2023-02-24T14:58:58.844401Z"
    }
   },
   "outputs": [],
   "source": [
    "widget.text1 = \"First text\"\n",
    "widget.text2 = \"Second text\""
   ]
  },
  {
   "cell_type": "code",
   "execution_count": null,
   "id": "db6c426e",
   "metadata": {},
   "outputs": [],
   "source": []
  }
 ],
 "metadata": {
  "kernelspec": {
   "display_name": "Python 3 (ipykernel)",
   "language": "python",
   "name": "python3"
  },
  "language_info": {
   "codemirror_mode": {
    "name": "ipython",
    "version": 3
   },
   "file_extension": ".py",
   "mimetype": "text/x-python",
   "name": "python",
   "nbconvert_exporter": "python",
   "pygments_lexer": "ipython3",
   "version": "3.8.10"
  },
  "toc": {
   "base_numbering": 1,
   "nav_menu": {},
   "number_sections": true,
   "sideBar": true,
   "skip_h1_title": false,
   "title_cell": "Table of Contents",
   "title_sidebar": "Contents",
   "toc_cell": false,
   "toc_position": {},
   "toc_section_display": true,
   "toc_window_display": false
  },
  "varInspector": {
   "cols": {
    "lenName": 16,
    "lenType": 16,
    "lenVar": 40
   },
   "kernels_config": {
    "python": {
     "delete_cmd_postfix": "",
     "delete_cmd_prefix": "del ",
     "library": "var_list.py",
     "varRefreshCmd": "print(var_dic_list())"
    },
    "r": {
     "delete_cmd_postfix": ") ",
     "delete_cmd_prefix": "rm(",
     "library": "var_list.r",
     "varRefreshCmd": "cat(var_dic_list()) "
    }
   },
   "types_to_exclude": [
    "module",
    "function",
    "builtin_function_or_method",
    "instance",
    "_Feature"
   ],
   "window_display": false
  }
 },
 "nbformat": 4,
 "nbformat_minor": 5
}
