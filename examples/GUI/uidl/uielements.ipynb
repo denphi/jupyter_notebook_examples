{
 "cells": [
  {
   "cell_type": "code",
   "execution_count": null,
   "id": "e5bc81a4",
   "metadata": {
    "ExecuteTime": {
     "end_time": "2023-02-24T15:02:14.889339Z",
     "start_time": "2023-02-24T15:02:14.846554Z"
    },
    "scrolled": false
   },
   "outputs": [],
   "source": [
    "import ipywidgets as widgets\n",
    "import nanohubuidl.teleport as t\n",
    "from nanohubuidl.material import MaterialComponents\n",
    "from nanohubuidl.app import FormHelper\n",
    "from nanohubuidl.ipywidgets import buildWidget\n",
    "\n",
    "Project = t.TeleportProject(\"Example\")\n",
    "MaterialComponents.FormatCustomNumber(Project)\n",
    "MaterialComponents.IconList(Project)\n",
    "MaterialComponents.IntSwitch(Project)    \n",
    "MaterialComponents.ButtonList(Project)  \n",
    "component = Project.root\n",
    "var = []\n",
    "var.append(FormHelper.String(component,\"Input: var0\", \"description\", \"var0\", \"value\",))\n",
    "var.append(FormHelper.Number(component,\"Input:  var1\", \"description\", \"var1\", 0))\n",
    "var.append(FormHelper.NumberAsString(component,\"Input:  var2\", \"description\", \"var2\", value=\"0\"))\n",
    "var.append(FormHelper.StringListAsString(component,\"Input:  var3\", \"description\", \"var3\", [\"asd\"]))\n",
    "var.append(FormHelper.NumberListAsString(component,\"Input:  var4\", \"description\", \"var4\", [0.0]))\n",
    "var.append(FormHelper.IntListAsString(component,\"Input:  var5\", \"description\", \"var5\", [0]))\n",
    "var.append(FormHelper.DictionaryAsString(component,\"Input:  var6\", \"description\", \"var6\", {\"val1\":\"1\"}))\n",
    "var.append(FormHelper.IntSlider(component,\"Input:  var7\", \"description\", \"var7\", 0, step=10))\n",
    "var.append(FormHelper.NumberSlider(component,\"Input:  var8\", \"description\", \"var8\", 0, step=0.1, max=2))\n",
    "var.append(FormHelper.Switch(component,\"Input:  var9\", \"description\", \"var9\", False))\n",
    "var.append( FormHelper.IntSwitch(component,\"Input:  var10\", \"description\", \"var10\", 1, {1:\"ON\", 0:\"OFF\"}))\n",
    "var.append( FormHelper.Select(component,\"Input:  var11\", \"description\", \"var11\", \"value\", {\"other value\":\"other value\", \"value\":\"value\"}))\n",
    "var.append( FormHelper.ButtonList(component,\"Input:  var12\", \"description\", \"var12\", \"Opt1\", {\n",
    "    'Opt1': { 'name':'Option1'},\n",
    "    'Opt2': { 'name': 'Option2' }\n",
    "}))\n",
    "\n",
    "var.append( FormHelper.IconList(component, \"Input:  var13\", \"description\", \"var13\", \"Option1\",  {\n",
    "    'Option1': { 'name':'Option1', \"icon\": \"M 1 6 l 11 17 l 11 -17\"},\n",
    "    'Option2': { 'name':'Option2', \"icon\": \"M 12 3 l 0 19\"}\n",
    "}))\n",
    "\n",
    "for v in var:\n",
    "    v.content.style[\"width\"] = \"100%\"\n",
    "    component.addNode(v)\n",
    "component.stateDefinitions[\"var12_options\"][\"type\"]=\"list\"\n",
    "component.stateDefinitions[\"var13_options\"][\"type\"]=\"list\"\n",
    "MyComponentWidget = buildWidget(Project)\n",
    "widget = MyComponentWidget()\n",
    "import ipywidgets as w\n",
    "w.VBox([widget])"
   ]
  },
  {
   "cell_type": "code",
   "execution_count": null,
   "id": "7b3b7b2c",
   "metadata": {},
   "outputs": [],
   "source": []
  },
  {
   "cell_type": "code",
   "execution_count": null,
   "id": "aa549a33",
   "metadata": {
    "ExecuteTime": {
     "end_time": "2023-02-24T15:01:56.955621Z",
     "start_time": "2023-02-24T15:01:56.952596Z"
    }
   },
   "outputs": [],
   "source": [
    "widget.var4 = [0,1,2]"
   ]
  },
  {
   "cell_type": "code",
   "execution_count": null,
   "id": "81d67b2a",
   "metadata": {
    "ExecuteTime": {
     "end_time": "2023-02-24T15:01:57.879914Z",
     "start_time": "2023-02-24T15:01:57.875569Z"
    },
    "scrolled": true
   },
   "outputs": [],
   "source": [
    "for k,v in widget.traits().items():\n",
    "    if k.startswith(\"var\"):\n",
    "        print (k, getattr(widget,k))"
   ]
  },
  {
   "cell_type": "code",
   "execution_count": null,
   "id": "4d7f8d4f",
   "metadata": {},
   "outputs": [],
   "source": []
  }
 ],
 "metadata": {
  "kernelspec": {
   "display_name": "Python 3 (ipykernel)",
   "language": "python",
   "name": "python3"
  },
  "language_info": {
   "codemirror_mode": {
    "name": "ipython",
    "version": 3
   },
   "file_extension": ".py",
   "mimetype": "text/x-python",
   "name": "python",
   "nbconvert_exporter": "python",
   "pygments_lexer": "ipython3",
   "version": "3.8.10"
  },
  "toc": {
   "base_numbering": 1,
   "nav_menu": {},
   "number_sections": true,
   "sideBar": true,
   "skip_h1_title": false,
   "title_cell": "Table of Contents",
   "title_sidebar": "Contents",
   "toc_cell": false,
   "toc_position": {},
   "toc_section_display": true,
   "toc_window_display": false
  },
  "varInspector": {
   "cols": {
    "lenName": 16,
    "lenType": 16,
    "lenVar": 40
   },
   "kernels_config": {
    "python": {
     "delete_cmd_postfix": "",
     "delete_cmd_prefix": "del ",
     "library": "var_list.py",
     "varRefreshCmd": "print(var_dic_list())"
    },
    "r": {
     "delete_cmd_postfix": ") ",
     "delete_cmd_prefix": "rm(",
     "library": "var_list.r",
     "varRefreshCmd": "cat(var_dic_list()) "
    }
   },
   "types_to_exclude": [
    "module",
    "function",
    "builtin_function_or_method",
    "instance",
    "_Feature"
   ],
   "window_display": false
  }
 },
 "nbformat": 4,
 "nbformat_minor": 5
}
