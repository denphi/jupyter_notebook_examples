{
 "cells": [
  {
   "cell_type": "markdown",
   "id": "17ba3d34",
   "metadata": {},
   "source": [
    "# The Iris dataset\n",
    "This notebook uses the iris dataset included with sktlearn package \n",
    "https://scikit-learn.org/stable/auto_examples/datasets/plot_iris_dataset.html\n",
    "\n",
    "The data set consists of 50 samples from each of three species of Iris (Iris setosa, Iris virginica and Iris versicolor).\n",
    "Four features were measured from each sample: the length and the width of the sepals and petals, in centimeters. "
   ]
  },
  {
   "cell_type": "code",
   "execution_count": 1,
   "id": "090c28d3",
   "metadata": {
    "ExecuteTime": {
     "end_time": "2023-01-27T17:36:10.102358Z",
     "start_time": "2023-01-27T17:36:05.832622Z"
    }
   },
   "outputs": [
    {
     "data": {
      "text/html": [
       "<div>\n",
       "<style scoped>\n",
       "    .dataframe tbody tr th:only-of-type {\n",
       "        vertical-align: middle;\n",
       "    }\n",
       "\n",
       "    .dataframe tbody tr th {\n",
       "        vertical-align: top;\n",
       "    }\n",
       "\n",
       "    .dataframe thead th {\n",
       "        text-align: right;\n",
       "    }\n",
       "</style>\n",
       "<table border=\"1\" class=\"dataframe\">\n",
       "  <thead>\n",
       "    <tr style=\"text-align: right;\">\n",
       "      <th></th>\n",
       "      <th>sepal length (cm)</th>\n",
       "      <th>sepal width (cm)</th>\n",
       "      <th>petal length (cm)</th>\n",
       "      <th>petal width (cm)</th>\n",
       "      <th>target</th>\n",
       "    </tr>\n",
       "  </thead>\n",
       "  <tbody>\n",
       "    <tr>\n",
       "      <th>0</th>\n",
       "      <td>5.1</td>\n",
       "      <td>3.5</td>\n",
       "      <td>1.4</td>\n",
       "      <td>0.2</td>\n",
       "      <td>0.0</td>\n",
       "    </tr>\n",
       "    <tr>\n",
       "      <th>1</th>\n",
       "      <td>4.9</td>\n",
       "      <td>3.0</td>\n",
       "      <td>1.4</td>\n",
       "      <td>0.2</td>\n",
       "      <td>0.0</td>\n",
       "    </tr>\n",
       "    <tr>\n",
       "      <th>2</th>\n",
       "      <td>4.7</td>\n",
       "      <td>3.2</td>\n",
       "      <td>1.3</td>\n",
       "      <td>0.2</td>\n",
       "      <td>0.0</td>\n",
       "    </tr>\n",
       "    <tr>\n",
       "      <th>3</th>\n",
       "      <td>4.6</td>\n",
       "      <td>3.1</td>\n",
       "      <td>1.5</td>\n",
       "      <td>0.2</td>\n",
       "      <td>0.0</td>\n",
       "    </tr>\n",
       "    <tr>\n",
       "      <th>4</th>\n",
       "      <td>5.0</td>\n",
       "      <td>3.6</td>\n",
       "      <td>1.4</td>\n",
       "      <td>0.2</td>\n",
       "      <td>0.0</td>\n",
       "    </tr>\n",
       "    <tr>\n",
       "      <th>...</th>\n",
       "      <td>...</td>\n",
       "      <td>...</td>\n",
       "      <td>...</td>\n",
       "      <td>...</td>\n",
       "      <td>...</td>\n",
       "    </tr>\n",
       "    <tr>\n",
       "      <th>145</th>\n",
       "      <td>6.7</td>\n",
       "      <td>3.0</td>\n",
       "      <td>5.2</td>\n",
       "      <td>2.3</td>\n",
       "      <td>2.0</td>\n",
       "    </tr>\n",
       "    <tr>\n",
       "      <th>146</th>\n",
       "      <td>6.3</td>\n",
       "      <td>2.5</td>\n",
       "      <td>5.0</td>\n",
       "      <td>1.9</td>\n",
       "      <td>2.0</td>\n",
       "    </tr>\n",
       "    <tr>\n",
       "      <th>147</th>\n",
       "      <td>6.5</td>\n",
       "      <td>3.0</td>\n",
       "      <td>5.2</td>\n",
       "      <td>2.0</td>\n",
       "      <td>2.0</td>\n",
       "    </tr>\n",
       "    <tr>\n",
       "      <th>148</th>\n",
       "      <td>6.2</td>\n",
       "      <td>3.4</td>\n",
       "      <td>5.4</td>\n",
       "      <td>2.3</td>\n",
       "      <td>2.0</td>\n",
       "    </tr>\n",
       "    <tr>\n",
       "      <th>149</th>\n",
       "      <td>5.9</td>\n",
       "      <td>3.0</td>\n",
       "      <td>5.1</td>\n",
       "      <td>1.8</td>\n",
       "      <td>2.0</td>\n",
       "    </tr>\n",
       "  </tbody>\n",
       "</table>\n",
       "<p>150 rows × 5 columns</p>\n",
       "</div>"
      ],
      "text/plain": [
       "     sepal length (cm)  sepal width (cm)  petal length (cm)  petal width (cm)  \\\n",
       "0                  5.1               3.5                1.4               0.2   \n",
       "1                  4.9               3.0                1.4               0.2   \n",
       "2                  4.7               3.2                1.3               0.2   \n",
       "3                  4.6               3.1                1.5               0.2   \n",
       "4                  5.0               3.6                1.4               0.2   \n",
       "..                 ...               ...                ...               ...   \n",
       "145                6.7               3.0                5.2               2.3   \n",
       "146                6.3               2.5                5.0               1.9   \n",
       "147                6.5               3.0                5.2               2.0   \n",
       "148                6.2               3.4                5.4               2.3   \n",
       "149                5.9               3.0                5.1               1.8   \n",
       "\n",
       "     target  \n",
       "0       0.0  \n",
       "1       0.0  \n",
       "2       0.0  \n",
       "3       0.0  \n",
       "4       0.0  \n",
       "..      ...  \n",
       "145     2.0  \n",
       "146     2.0  \n",
       "147     2.0  \n",
       "148     2.0  \n",
       "149     2.0  \n",
       "\n",
       "[150 rows x 5 columns]"
      ]
     },
     "execution_count": 1,
     "metadata": {},
     "output_type": "execute_result"
    }
   ],
   "source": [
    "from sklearn.datasets import load_iris\n",
    "import numpy as np\n",
    "from floatview import GlueManagerWidget\n",
    "import pandas as pd\n",
    "iris = load_iris()\n",
    "data = pd.DataFrame(data= np.c_[iris['data'], iris['target']],\n",
    "                     columns= iris['feature_names'] + ['target'])\n",
    "data"
   ]
  },
  {
   "cell_type": "markdown",
   "id": "d1a00988",
   "metadata": {},
   "source": [
    "GlueManagerWidget has a modal mode, this mode disable plots from being included into the main cell, display_console will disable the main GUI to create new plots"
   ]
  },
  {
   "cell_type": "code",
   "execution_count": 9,
   "id": "46143b1b",
   "metadata": {
    "ExecuteTime": {
     "end_time": "2023-01-27T17:42:36.947098Z",
     "start_time": "2023-01-27T17:42:36.633335Z"
    }
   },
   "outputs": [],
   "source": [
    "gmw = GlueManagerWidget(data, modal=True, label=\"IrisDataSet\", display_console=False)"
   ]
  },
  {
   "cell_type": "markdown",
   "id": "71fa8cb5",
   "metadata": {},
   "source": [
    "# Views\n",
    "\n",
    "## Scatter plots\n",
    "\n",
    "First two scatter plots are created to compare petal and sepal properties"
   ]
  },
  {
   "cell_type": "code",
   "execution_count": 3,
   "id": "c5ff18c3",
   "metadata": {
    "ExecuteTime": {
     "end_time": "2023-01-27T17:36:11.783586Z",
     "start_time": "2023-01-27T17:36:10.430043Z"
    }
   },
   "outputs": [
    {
     "data": {
      "application/vnd.jupyter.widget-view+json": {
       "model_id": "a8103c24e5c24f66aec1d9cc927e8114",
       "version_major": 2,
       "version_minor": 0
      },
      "text/plain": [
       "HBox(children=(ToggleButton(value=False, description='Options', icon='cog'), Button(description='Close', icon=…"
      ]
     },
     "metadata": {},
     "output_type": "display_data"
    },
    {
     "data": {
      "application/vnd.jupyter.widget-view+json": {
       "model_id": "85cbb6ac2f564e349b4f0e5cf129e819",
       "version_major": 2,
       "version_minor": 0
      },
      "text/plain": [
       "HBox(children=(Tab(children=(Output(), Output()), layout=Layout(display='none'), _titles={'0': 'Plot', '1': 'L…"
      ]
     },
     "metadata": {},
     "output_type": "display_data"
    }
   ],
   "source": [
    "view = gmw.gluemanager.newView(\n",
    "    \"scatter\",\n",
    "    [\"petal length (cm)\", \"petal width (cm)\"],\n",
    "    \"Scatter\"\n",
    ")"
   ]
  },
  {
   "cell_type": "code",
   "execution_count": 4,
   "id": "457fa712",
   "metadata": {
    "ExecuteTime": {
     "end_time": "2023-01-27T17:36:12.043978Z",
     "start_time": "2023-01-27T17:36:11.786396Z"
    }
   },
   "outputs": [
    {
     "data": {
      "application/vnd.jupyter.widget-view+json": {
       "model_id": "f85c3a95e8fd454eb0c987767ee50731",
       "version_major": 2,
       "version_minor": 0
      },
      "text/plain": [
       "HBox(children=(ToggleButton(value=False, description='Options', icon='cog'), Button(description='Close', icon=…"
      ]
     },
     "metadata": {},
     "output_type": "display_data"
    },
    {
     "data": {
      "application/vnd.jupyter.widget-view+json": {
       "model_id": "f2aa55a4b0ba4c42b25c50e594a62be3",
       "version_major": 2,
       "version_minor": 0
      },
      "text/plain": [
       "HBox(children=(Tab(children=(Output(), Output()), layout=Layout(display='none'), _titles={'0': 'Plot', '1': 'L…"
      ]
     },
     "metadata": {},
     "output_type": "display_data"
    }
   ],
   "source": [
    "view = gmw.gluemanager.newView(\n",
    "    \"scatter\",\n",
    "    [\"sepal length (cm)\", \"sepal width (cm)\"],\n",
    "    \"Scatter\"\n",
    ")"
   ]
  },
  {
   "cell_type": "markdown",
   "id": "7cc8c685",
   "metadata": {},
   "source": [
    "## Table\n",
    "\n",
    "A table is added to display all information on the dataset"
   ]
  },
  {
   "cell_type": "code",
   "execution_count": 5,
   "id": "3312c517",
   "metadata": {
    "ExecuteTime": {
     "end_time": "2023-01-27T17:36:12.221331Z",
     "start_time": "2023-01-27T17:36:12.045964Z"
    }
   },
   "outputs": [
    {
     "data": {
      "application/vnd.jupyter.widget-view+json": {
       "model_id": "7c90f23bff6b4ee792a3f900f88b709c",
       "version_major": 2,
       "version_minor": 0
      },
      "text/plain": [
       "HBox(children=(ToggleButton(value=False, description='Options', icon='cog'), Button(description='Close', icon=…"
      ]
     },
     "metadata": {},
     "output_type": "display_data"
    },
    {
     "data": {
      "application/vnd.jupyter.widget-view+json": {
       "model_id": "42b4bc048c554dde8e404e5076dbba0e",
       "version_major": 2,
       "version_minor": 0
      },
      "text/plain": [
       "HBox(children=(Tab(children=(Output(), Output()), layout=Layout(display='none'), _titles={'0': 'Plot', '1': 'L…"
      ]
     },
     "metadata": {},
     "output_type": "display_data"
    }
   ],
   "source": [
    "view = gmw.gluemanager.newView(\n",
    "    \"table\",\n",
    "    [\"petal length (cm)\", \"petal width (cm)\", \"sepal length (cm)\", \"sepal width (cm)\", \"target\"],\n",
    "    \"Table\"\n",
    ")"
   ]
  },
  {
   "cell_type": "markdown",
   "id": "a2faad66",
   "metadata": {
    "ExecuteTime": {
     "end_time": "2023-01-27T17:46:49.361543Z",
     "start_time": "2023-01-27T17:46:49.358074Z"
    }
   },
   "source": [
    "## Sunburst \n",
    "Sunburst visualization allows interactive exploration on n components on the dataset"
   ]
  },
  {
   "cell_type": "code",
   "execution_count": 6,
   "id": "54fcc337",
   "metadata": {
    "ExecuteTime": {
     "end_time": "2023-01-27T17:36:12.789274Z",
     "start_time": "2023-01-27T17:36:12.227920Z"
    }
   },
   "outputs": [
    {
     "data": {
      "application/vnd.jupyter.widget-view+json": {
       "model_id": "f5285ce857754163926a247024daf13b",
       "version_major": 2,
       "version_minor": 0
      },
      "text/plain": [
       "HBox(children=(ToggleButton(value=False, description='Options', icon='cog'), Button(description='Close', icon=…"
      ]
     },
     "metadata": {},
     "output_type": "display_data"
    },
    {
     "data": {
      "application/vnd.jupyter.widget-view+json": {
       "model_id": "e0a75d49b4e44c5ba60081cf39f36511",
       "version_major": 2,
       "version_minor": 0
      },
      "text/plain": [
       "HBox(children=(Tab(children=(Output(), Output()), layout=Layout(display='none'), _titles={'0': 'Plot', '1': 'L…"
      ]
     },
     "metadata": {},
     "output_type": "display_data"
    }
   ],
   "source": [
    "view = gmw.gluemanager.newView(\n",
    "    \"sunburst\",\n",
    "    [\"petal length (cm)\", \"petal width (cm)\", \"sepal length (cm)\", \"sepal width (cm)\", \"target\"],\n",
    "    \"Sunburst\"\n",
    ");"
   ]
  },
  {
   "cell_type": "markdown",
   "id": "bd60b7b6",
   "metadata": {},
   "source": [
    "## Parallel\n",
    "\n",
    "Parallel views also allow visualization of multiple components on the dataset"
   ]
  },
  {
   "cell_type": "code",
   "execution_count": 7,
   "id": "0751eaa0",
   "metadata": {
    "ExecuteTime": {
     "end_time": "2023-01-27T17:36:13.029602Z",
     "start_time": "2023-01-27T17:36:12.792801Z"
    }
   },
   "outputs": [
    {
     "data": {
      "application/vnd.jupyter.widget-view+json": {
       "model_id": "b7fba692c6a94a2fa135a2c29afc5e29",
       "version_major": 2,
       "version_minor": 0
      },
      "text/plain": [
       "HBox(children=(ToggleButton(value=False, description='Options', icon='cog'), Button(description='Close', icon=…"
      ]
     },
     "metadata": {},
     "output_type": "display_data"
    },
    {
     "data": {
      "application/vnd.jupyter.widget-view+json": {
       "model_id": "0e8fb9ea210e49cb9e2e859ef6f8702b",
       "version_major": 2,
       "version_minor": 0
      },
      "text/plain": [
       "HBox(children=(Tab(children=(Output(), Output()), layout=Layout(display='none'), _titles={'0': 'Plot', '1': 'L…"
      ]
     },
     "metadata": {},
     "output_type": "display_data"
    }
   ],
   "source": [
    "view = gmw.gluemanager.newView(\n",
    "    \"parallels\",\n",
    "    [\"petal length (cm)\", \"petal width (cm)\", \"sepal length (cm)\", \"sepal width (cm)\", \"target\"],\n",
    "    \"Parallel\"\n",
    ");"
   ]
  },
  {
   "cell_type": "markdown",
   "id": "9d385f9e",
   "metadata": {},
   "source": [
    "# Creating subsets\n",
    "\n",
    "Lets create 3 clusters using the Agglomerative Clustering algorithm"
   ]
  },
  {
   "cell_type": "code",
   "execution_count": 8,
   "id": "645bced3",
   "metadata": {
    "ExecuteTime": {
     "end_time": "2023-01-27T17:36:15.575667Z",
     "start_time": "2023-01-27T17:36:13.032683Z"
    }
   },
   "outputs": [],
   "source": [
    "from sklearn.cluster import AgglomerativeClustering\n",
    "n_clusters = 3\n",
    "cluster = AgglomerativeClustering(n_clusters=n_clusters, affinity='euclidean', linkage='ward') \n",
    "df = gmw.gluemanager.data.to_dataframe()\n",
    "diff = (df.columns.difference([\"petal length (cm)\", \"petal width (cm)\", \"sepal length (cm)\", \"sepal width (cm)\"]))\n",
    "cluster.fit_predict(df.drop(diff, axis=1)) \n",
    "for i in range(n_clusters):\n",
    "  state = np.nonzero(cluster.labels_== i)\n",
    "  gmw.gluemanager.updateSelection(state)\n",
    "  gmw.gluemanager.createSubsetFromSelection(label='cluster'+str(i))\n",
    "\n"
   ]
  },
  {
   "cell_type": "code",
   "execution_count": null,
   "id": "bdf77e72",
   "metadata": {},
   "outputs": [],
   "source": []
  },
  {
   "cell_type": "code",
   "execution_count": null,
   "id": "ed5fe777",
   "metadata": {},
   "outputs": [],
   "source": []
  }
 ],
 "metadata": {
  "kernelspec": {
   "display_name": "Python 3 (ipykernel)",
   "language": "python",
   "name": "python3"
  },
  "language_info": {
   "codemirror_mode": {
    "name": "ipython",
    "version": 3
   },
   "file_extension": ".py",
   "mimetype": "text/x-python",
   "name": "python",
   "nbconvert_exporter": "python",
   "pygments_lexer": "ipython3",
   "version": "3.8.10"
  },
  "toc": {
   "base_numbering": 1,
   "nav_menu": {},
   "number_sections": true,
   "sideBar": true,
   "skip_h1_title": false,
   "title_cell": "Table of Contents",
   "title_sidebar": "Contents",
   "toc_cell": false,
   "toc_position": {},
   "toc_section_display": true,
   "toc_window_display": false
  },
  "varInspector": {
   "cols": {
    "lenName": 16,
    "lenType": 16,
    "lenVar": 40
   },
   "kernels_config": {
    "python": {
     "delete_cmd_postfix": "",
     "delete_cmd_prefix": "del ",
     "library": "var_list.py",
     "varRefreshCmd": "print(var_dic_list())"
    },
    "r": {
     "delete_cmd_postfix": ") ",
     "delete_cmd_prefix": "rm(",
     "library": "var_list.r",
     "varRefreshCmd": "cat(var_dic_list()) "
    }
   },
   "types_to_exclude": [
    "module",
    "function",
    "builtin_function_or_method",
    "instance",
    "_Feature"
   ],
   "window_display": false
  }
 },
 "nbformat": 4,
 "nbformat_minor": 5
}
