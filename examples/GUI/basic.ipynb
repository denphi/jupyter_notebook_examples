{
 "cells": [
  {
   "cell_type": "code",
   "execution_count": 1,
   "metadata": {
    "collapsed": false,
    "extensions": {
     "jupyter_dashboards": {
      "version": 1,
      "views": {
       "grid_default": {
        "col": 4,
        "height": 22,
        "hidden": true,
        "row": 0,
        "width": 4
       },
       "report_default": {}
      }
     }
    }
   },
   "outputs": [],
   "source": [
    "from __future__ import print_function\n",
    "import ipywidgets as widgets\n",
    "from IPython.display import display\n",
    "from collections import OrderedDict"
   ]
  },
  {
   "cell_type": "markdown",
   "metadata": {
    "extensions": {
     "jupyter_dashboards": {
      "version": 1,
      "views": {
       "grid_default": {
        "col": 8,
        "height": 4,
        "hidden": false,
        "row": 0,
        "width": 4
       },
       "report_default": {}
      }
     }
    },
    "slideshow": {
     "slide_type": "slide"
    }
   },
   "source": [
    "## Widget Demonstration\n",
    "\n",
    "This is a demonstration of the ipywidgets, showing examples of how they can interact.\n",
    "\n",
    "Developers should try the dashboard preview.  Be sure to run all the cells first!"
   ]
  },
  {
   "cell_type": "markdown",
   "metadata": {
    "extensions": {
     "jupyter_dashboards": {
      "version": 1,
      "views": {
       "grid_default": {
        "col": 8,
        "height": 4,
        "hidden": false,
        "row": 4,
        "width": 4
       },
       "report_default": {}
      }
     }
    },
    "slideshow": {
     "slide_type": "slide"
    }
   },
   "source": [
    "### FloatSlider"
   ]
  },
  {
   "cell_type": "code",
   "execution_count": 2,
   "metadata": {
    "collapsed": false,
    "extensions": {
     "jupyter_dashboards": {
      "version": 1,
      "views": {
       "grid_default": {
        "col": 1,
        "height": 2,
        "hidden": false,
        "row": 4,
        "width": 3
       },
       "report_default": {}
      }
     }
    }
   },
   "outputs": [],
   "source": [
    "fh = widgets.FloatSlider(\n",
    "    value=7.5,\n",
    "    min=5.0,\n",
    "    max=10.0,\n",
    "    step=0.1,\n",
    "    description='Slider1:',\n",
    ")\n",
    "fh"
   ]
  },
  {
   "cell_type": "code",
   "execution_count": 3,
   "metadata": {
    "collapsed": false,
    "extensions": {
     "jupyter_dashboards": {
      "version": 1,
      "views": {
       "grid_default": {
        "col": 0,
        "height": 10,
        "hidden": false,
        "row": 4,
        "width": 1
       },
       "report_default": {}
      }
     }
    }
   },
   "outputs": [],
   "source": [
    "fv = widgets.FloatSlider(\n",
    "    value=7.5,\n",
    "    min=5.0,\n",
    "    max=10.0,\n",
    "    step=0.1,\n",
    "    description='Slider2',\n",
    "    orientation='vertical',\n",
    "    readout_format='.3f'\n",
    ")\n",
    "fv"
   ]
  },
  {
   "cell_type": "markdown",
   "metadata": {
    "extensions": {
     "jupyter_dashboards": {
      "version": 1,
      "views": {
       "grid_default": {
        "col": 1,
        "height": 2,
        "hidden": false,
        "row": 9,
        "width": 2
       },
       "report_default": {}
      }
     }
    },
    "slideshow": {
     "slide_type": "slide"
    }
   },
   "source": [
    "### FloatText"
   ]
  },
  {
   "cell_type": "code",
   "execution_count": 4,
   "metadata": {
    "collapsed": false,
    "extensions": {
     "jupyter_dashboards": {
      "version": 1,
      "views": {
       "grid_default": {
        "col": 1,
        "height": 3,
        "hidden": false,
        "row": 6,
        "width": 3
       },
       "report_default": {}
      }
     }
    }
   },
   "outputs": [],
   "source": [
    "slider1_text = widgets.FloatText(\n",
    "    value=fh.value,\n",
    "    description='Slider1:'\n",
    ")\n",
    "slider2_text = widgets.FloatText(\n",
    "    value=fv.value,\n",
    "    description='Slider2:'\n",
    ")\n",
    "display(slider1_text)\n",
    "display(slider2_text)"
   ]
  },
  {
   "cell_type": "code",
   "execution_count": 5,
   "metadata": {
    "collapsed": false,
    "extensions": {
     "jupyter_dashboards": {
      "version": 1,
      "views": {
       "grid_default": {
        "col": 1,
        "height": 2,
        "hidden": false,
        "row": 11,
        "width": 3
       },
       "report_default": {}
      }
     }
    }
   },
   "outputs": [],
   "source": [
    "st = widgets.Text(\n",
    "    description='Slider1:',\n",
    "    value=str(fh.value),\n",
    "    disabled=True\n",
    ")\n",
    "st"
   ]
  },
  {
   "cell_type": "code",
   "execution_count": 6,
   "metadata": {
    "collapsed": true,
    "extensions": {
     "jupyter_dashboards": {
      "version": 1,
      "views": {
       "grid_default": {
        "hidden": true
       },
       "report_default": {}
      }
     }
    }
   },
   "outputs": [],
   "source": [
    "def slider1_cb(change):\n",
    "    slider1_text.value = change['new']\n",
    "    st.value = str(change['new'])\n",
    "\n",
    "def slider2_cb(change):\n",
    "    slider2_text.value = change['new']\n",
    "\n",
    "fh.observe(slider1_cb, names='value')\n",
    "fv.observe(slider2_cb, names='value')\n"
   ]
  },
  {
   "cell_type": "markdown",
   "metadata": {
    "extensions": {
     "jupyter_dashboards": {
      "version": 1,
      "views": {
       "grid_default": {
        "col": 8,
        "height": 4,
        "hidden": false,
        "row": 16,
        "width": 4
       },
       "report_default": {}
      }
     }
    },
    "slideshow": {
     "slide_type": "slide"
    }
   },
   "source": [
    "### BoundedFloatText"
   ]
  },
  {
   "cell_type": "code",
   "execution_count": 7,
   "metadata": {
    "collapsed": false,
    "extensions": {
     "jupyter_dashboards": {
      "version": 1,
      "views": {
       "grid_default": {
        "col": 0,
        "height": 4,
        "hidden": false,
        "row": 14,
        "width": 4
       },
       "report_default": {}
      }
     }
    }
   },
   "outputs": [],
   "source": [
    "widgets.BoundedFloatText(\n",
    "    value=7.5,\n",
    "    min=5.0,\n",
    "    max=10.0,\n",
    "    description='$\\\\theta$',\n",
    ")"
   ]
  },
  {
   "cell_type": "markdown",
   "metadata": {
    "extensions": {
     "jupyter_dashboards": {
      "version": 1,
      "views": {
       "grid_default": {
        "col": 8,
        "height": 4,
        "hidden": false,
        "row": 8,
        "width": 4
       },
       "report_default": {}
      }
     }
    },
    "slideshow": {
     "slide_type": "slide"
    }
   },
   "source": [
    "### FloatProgress"
   ]
  },
  {
   "cell_type": "code",
   "execution_count": 8,
   "metadata": {
    "collapsed": false,
    "extensions": {
     "jupyter_dashboards": {
      "version": 1,
      "views": {
       "grid_default": {
        "col": 8,
        "height": 4,
        "hidden": false,
        "row": 12,
        "width": 4
       },
       "report_default": {}
      }
     }
    }
   },
   "outputs": [],
   "source": [
    "widgets.FloatProgress(\n",
    "    value=7.5,\n",
    "    min=5.0,\n",
    "    max=10.0,\n",
    "    step=0.1,\n",
    "    description='Progress:',\n",
    ")"
   ]
  },
  {
   "cell_type": "markdown",
   "metadata": {
    "extensions": {
     "jupyter_dashboards": {
      "version": 1,
      "views": {
       "grid_default": {
        "col": 0,
        "height": 4,
        "hidden": false,
        "row": 18,
        "width": 4
       },
       "report_default": {}
      }
     }
    },
    "slideshow": {
     "slide_type": "slide"
    }
   },
   "source": [
    "## Boolean Widgets"
   ]
  },
  {
   "cell_type": "markdown",
   "metadata": {
    "extensions": {
     "jupyter_dashboards": {
      "version": 1,
      "views": {
       "grid_default": {
        "col": 4,
        "height": 4,
        "hidden": true,
        "row": 0,
        "width": 4
       },
       "report_default": {}
      }
     }
    }
   },
   "source": [
    "There are three widgets that are designed to display a boolean value."
   ]
  },
  {
   "cell_type": "code",
   "execution_count": 9,
   "metadata": {
    "collapsed": false,
    "extensions": {
     "jupyter_dashboards": {
      "version": 1,
      "views": {
       "grid_default": {
        "col": 4,
        "height": 6,
        "hidden": false,
        "row": 0,
        "width": 4
       },
       "report_default": {}
      }
     }
    }
   },
   "outputs": [
    {
     "name": "stdout",
     "output_type": "stream",
     "text": [
      "Select both to validate.\n"
     ]
    }
   ],
   "source": [
    "tb = widgets.ToggleButton(\n",
    "    description='Click me',\n",
    "    value=False,\n",
    ")\n",
    "\n",
    "cb = widgets.Checkbox(\n",
    "    description='Check me',\n",
    "    value=True,\n",
    ")\n",
    "\n",
    "valid = widgets.Valid(\n",
    "    value=False,\n",
    ")\n",
    "\n",
    "def tb_cb(change):\n",
    "    if change['owner'] == tb:\n",
    "        if tb.value:\n",
    "            tb.description='ON'\n",
    "        else:\n",
    "            tb.description = 'OFF'\n",
    "    valid.value = tb.value and cb.value\n",
    "\n",
    "tb.observe(tb_cb, names='value')\n",
    "cb.observe(tb_cb, names='value')\n",
    "\n",
    "print(\"Select both to validate.\")\n",
    "display(tb)\n",
    "display(cb)\n",
    "display(valid)"
   ]
  },
  {
   "cell_type": "markdown",
   "metadata": {
    "extensions": {
     "jupyter_dashboards": {
      "version": 1,
      "views": {
       "grid_default": {
        "col": 8,
        "height": 4,
        "hidden": false,
        "row": 20,
        "width": 4
       },
       "report_default": {}
      }
     }
    },
    "slideshow": {
     "slide_type": "slide"
    }
   },
   "source": [
    "## Selection widgets"
   ]
  },
  {
   "cell_type": "markdown",
   "metadata": {
    "extensions": {
     "jupyter_dashboards": {
      "version": 1,
      "views": {
       "grid_default": {
        "col": 0,
        "height": 4,
        "hidden": false,
        "row": 22,
        "width": 4
       },
       "report_default": {}
      }
     }
    }
   },
   "source": [
    "There are four widgets that can be used to display single selection lists, and one that can be used to display multiple selection lists.  All inherit from the same base class.  You can specify the **enumeration of selectable options by passing a list**.  You can **also specify the enumeration as a dictionary**, in which case the **keys will be used as the item displayed** in the list and the corresponding **value will be returned** when an item is selected."
   ]
  },
  {
   "cell_type": "markdown",
   "metadata": {
    "extensions": {
     "jupyter_dashboards": {
      "version": 1,
      "views": {
       "grid_default": {
        "col": 4,
        "height": 4,
        "hidden": false,
        "row": 6,
        "width": 4
       },
       "report_default": {}
      }
     }
    },
    "slideshow": {
     "slide_type": "slide"
    }
   },
   "source": [
    "### Dropdown"
   ]
  },
  {
   "cell_type": "code",
   "execution_count": 10,
   "metadata": {
    "collapsed": false,
    "extensions": {
     "jupyter_dashboards": {
      "version": 1,
      "views": {
       "grid_default": {
        "col": 8,
        "height": 4,
        "hidden": false,
        "row": 24,
        "width": 4
       },
       "report_default": {}
      }
     }
    }
   },
   "outputs": [],
   "source": [
    "from IPython.display import display\n",
    "w = widgets.Dropdown(\n",
    "    options=['1', '2', '3'],\n",
    "    value='2',\n",
    "    description='Number:',\n",
    ")\n",
    "display(w)"
   ]
  },
  {
   "cell_type": "code",
   "execution_count": 11,
   "metadata": {
    "collapsed": false,
    "extensions": {
     "jupyter_dashboards": {
      "version": 1,
      "views": {
       "grid_default": {
        "col": 0,
        "height": 4,
        "hidden": false,
        "row": 26,
        "width": 4
       },
       "report_default": {}
      }
     }
    }
   },
   "outputs": [
    {
     "data": {
      "text/plain": [
       "'2'"
      ]
     },
     "execution_count": 11,
     "metadata": {},
     "output_type": "execute_result"
    }
   ],
   "source": [
    "w.value"
   ]
  },
  {
   "cell_type": "markdown",
   "metadata": {
    "extensions": {
     "jupyter_dashboards": {
      "version": 1,
      "views": {
       "grid_default": {
        "col": 4,
        "height": 4,
        "hidden": false,
        "row": 10,
        "width": 4
       },
       "report_default": {}
      }
     }
    }
   },
   "source": [
    "The following is also valid:"
   ]
  },
  {
   "cell_type": "code",
   "execution_count": 12,
   "metadata": {
    "collapsed": false,
    "extensions": {
     "jupyter_dashboards": {
      "version": 1,
      "views": {
       "grid_default": {
        "col": 0,
        "height": 4,
        "hidden": false,
        "row": 30,
        "width": 4
       },
       "report_default": {}
      }
     }
    }
   },
   "outputs": [
    {
     "data": {
      "text/plain": [
       "'2'"
      ]
     },
     "execution_count": 12,
     "metadata": {},
     "output_type": "execute_result"
    }
   ],
   "source": [
    "w.value"
   ]
  },
  {
   "cell_type": "markdown",
   "metadata": {
    "extensions": {
     "jupyter_dashboards": {
      "version": 1,
      "views": {
       "grid_default": {
        "col": 4,
        "height": 4,
        "hidden": false,
        "row": 14,
        "width": 4
       },
       "report_default": {}
      }
     }
    }
   },
   "source": [
    "Furthermore, if a dropdown contains too man items, a scrollbar is automatically added."
   ]
  },
  {
   "cell_type": "code",
   "execution_count": 13,
   "metadata": {
    "collapsed": false,
    "extensions": {
     "jupyter_dashboards": {
      "version": 1,
      "views": {
       "grid_default": {
        "col": 8,
        "height": 4,
        "hidden": false,
        "row": 32,
        "width": 4
       },
       "report_default": {}
      }
     }
    }
   },
   "outputs": [],
   "source": [
    "from IPython.display import display\n",
    "w = widgets.Dropdown(\n",
    "    options=['1', '2', '3', '4', '5', '6', '7', '8', '9'],\n",
    "    value='2',\n",
    "    description='Number:',\n",
    ")\n",
    "display(w)"
   ]
  },
  {
   "cell_type": "code",
   "execution_count": 14,
   "metadata": {
    "collapsed": false,
    "extensions": {
     "jupyter_dashboards": {
      "version": 1,
      "views": {
       "grid_default": {
        "col": 0,
        "height": 4,
        "hidden": false,
        "row": 34,
        "width": 4
       },
       "report_default": {}
      }
     }
    },
    "scrolled": true
   },
   "outputs": [
    {
     "data": {
      "text/plain": [
       "'2'"
      ]
     },
     "execution_count": 14,
     "metadata": {},
     "output_type": "execute_result"
    }
   ],
   "source": [
    "w.value"
   ]
  },
  {
   "cell_type": "markdown",
   "metadata": {
    "extensions": {
     "jupyter_dashboards": {
      "version": 1,
      "views": {
       "grid_default": {
        "col": 4,
        "height": 4,
        "hidden": false,
        "row": 18,
        "width": 4
       },
       "report_default": {}
      }
     }
    }
   },
   "source": [
    "The following is also valid:"
   ]
  },
  {
   "cell_type": "code",
   "execution_count": 15,
   "metadata": {
    "collapsed": false,
    "extensions": {
     "jupyter_dashboards": {
      "version": 1,
      "views": {
       "grid_default": {
        "col": 8,
        "height": 4,
        "hidden": false,
        "row": 36,
        "width": 4
       },
       "report_default": {}
      }
     }
    }
   },
   "outputs": [],
   "source": [
    "w = widgets.Dropdown(\n",
    "    options={'One': 1, 'Two': 2, 'Three': 3,\n",
    "            'Four': 4, 'Five': '5', 'Six': 6,\n",
    "            'Seven': 7, 'Eight': 8, 'Nine': 9},\n",
    "    value=2,\n",
    "    description='Number:',\n",
    ")\n",
    "display(w)"
   ]
  },
  {
   "cell_type": "code",
   "execution_count": 16,
   "metadata": {
    "collapsed": false,
    "extensions": {
     "jupyter_dashboards": {
      "version": 1,
      "views": {
       "grid_default": {
        "col": 0,
        "height": 4,
        "hidden": false,
        "row": 38,
        "width": 4
       },
       "report_default": {}
      }
     }
    }
   },
   "outputs": [
    {
     "data": {
      "text/plain": [
       "2"
      ]
     },
     "execution_count": 16,
     "metadata": {},
     "output_type": "execute_result"
    }
   ],
   "source": [
    "w.value"
   ]
  },
  {
   "cell_type": "code",
   "execution_count": 17,
   "metadata": {
    "collapsed": false,
    "extensions": {
     "jupyter_dashboards": {
      "version": 1,
      "views": {
       "grid_default": {
        "col": 8,
        "height": 4,
        "hidden": false,
        "row": 28,
        "width": 4
       },
       "report_default": {}
      }
     }
    }
   },
   "outputs": [],
   "source": [
    "w = widgets.Dropdown(\n",
    "    options={'One': 1, 'Two': 2, 'Three': 3},\n",
    "    value=2,\n",
    "    description='Number:',\n",
    ")\n",
    "display(w)"
   ]
  },
  {
   "cell_type": "markdown",
   "metadata": {
    "extensions": {
     "jupyter_dashboards": {
      "version": 1,
      "views": {
       "grid_default": {
        "col": 0,
        "height": 4,
        "hidden": false,
        "row": 42,
        "width": 4
       },
       "report_default": {}
      }
     }
    },
    "slideshow": {
     "slide_type": "slide"
    }
   },
   "source": [
    "### Select"
   ]
  },
  {
   "cell_type": "code",
   "execution_count": 18,
   "metadata": {
    "collapsed": false,
    "extensions": {
     "jupyter_dashboards": {
      "version": 1,
      "views": {
       "grid_default": {
        "col": 4,
        "height": 5,
        "hidden": false,
        "row": 22,
        "width": 4
       },
       "report_default": {}
      }
     }
    }
   },
   "outputs": [],
   "source": [
    "widgets.Select(\n",
    "    description='OS:',\n",
    "    options=['Linux', 'Windows', 'OSX'],\n",
    ")"
   ]
  },
  {
   "cell_type": "markdown",
   "metadata": {
    "extensions": {
     "jupyter_dashboards": {
      "version": 1,
      "views": {
       "grid_default": {
        "col": 8,
        "height": 4,
        "hidden": false,
        "row": 44,
        "width": 4
       },
       "report_default": {}
      }
     }
    }
   },
   "source": [
    "### SelectionSlider"
   ]
  },
  {
   "cell_type": "code",
   "execution_count": 19,
   "metadata": {
    "collapsed": false,
    "extensions": {
     "jupyter_dashboards": {
      "version": 1,
      "views": {
       "grid_default": {
        "col": 0,
        "height": 4,
        "hidden": false,
        "row": 46,
        "width": 4
       },
       "report_default": {}
      }
     }
    }
   },
   "outputs": [],
   "source": [
    "widgets.SelectionSlider(\n",
    "    description='I like my eggs ...',\n",
    "    options=['scrambled', 'sunny side up', 'poached', 'over easy'],\n",
    ")"
   ]
  },
  {
   "cell_type": "markdown",
   "metadata": {
    "extensions": {
     "jupyter_dashboards": {
      "version": 1,
      "views": {
       "grid_default": {
        "col": 4,
        "height": 4,
        "hidden": false,
        "row": 27,
        "width": 4
       },
       "report_default": {}
      }
     }
    },
    "slideshow": {
     "slide_type": "slide"
    }
   },
   "source": [
    "### ToggleButtons"
   ]
  },
  {
   "cell_type": "code",
   "execution_count": 20,
   "metadata": {
    "collapsed": false,
    "extensions": {
     "jupyter_dashboards": {
      "version": 1,
      "views": {
       "grid_default": {
        "col": 8,
        "height": 4,
        "hidden": false,
        "row": 48,
        "width": 4
       },
       "report_default": {}
      }
     }
    }
   },
   "outputs": [],
   "source": [
    "widgets.ToggleButtons(\n",
    "    description='Speed:',\n",
    "    options=['Slow', 'Regular', 'Fast'],\n",
    ")"
   ]
  },
  {
   "cell_type": "markdown",
   "metadata": {
    "extensions": {
     "jupyter_dashboards": {
      "version": 1,
      "views": {
       "grid_default": {
        "col": 4,
        "height": 4,
        "hidden": false,
        "row": 31,
        "width": 4
       },
       "report_default": {}
      }
     }
    }
   },
   "source": [
    "### Radiobuttons and Textarea Demo"
   ]
  },
  {
   "cell_type": "code",
   "execution_count": 23,
   "metadata": {
    "collapsed": false,
    "extensions": {
     "jupyter_dashboards": {
      "version": 1,
      "views": {
       "grid_default": {
        "col": 8,
        "height": 4,
        "hidden": false,
        "row": 40,
        "width": 4
       },
       "report_default": {}
      }
     }
    }
   },
   "outputs": [],
   "source": [
    "author = widgets.RadioButtons(\n",
    "    description='Author:',\n",
    "    options=['Carrol', 'Pushkin', 'Demosthenes'],\n",
    ")"
   ]
  },
  {
   "cell_type": "code",
   "execution_count": 24,
   "metadata": {
    "collapsed": false,
    "extensions": {
     "jupyter_dashboards": {
      "version": 1,
      "views": {
       "grid_default": {
        "hidden": true
       },
       "report_default": {}
      }
     }
    }
   },
   "outputs": [],
   "source": [
    "alice = \"\"\"Alice was beginning to get very tired of sitting by her sister on the\n",
    "bank, and of having nothing to do: once or twice she had peeped into the\n",
    "book her sister was reading, but it had no pictures or conversations in\n",
    "it, 'and what is the use of a book,' thought Alice 'without pictures or\n",
    "conversations?'\n",
    "\n",
    "So she was considering in her own mind (as well as she could, for the\n",
    "hot day made her feel very sleepy and stupid), whether the pleasure\n",
    "of making a daisy-chain would be worth the trouble of getting up and\n",
    "picking the daisies, when suddenly a White Rabbit with pink eyes ran\n",
    "close by her.\n",
    "\n",
    "There was nothing so VERY remarkable in that; nor did Alice think it so\n",
    "VERY much out of the way to hear the Rabbit say to itself, 'Oh dear!\n",
    "Oh dear! I shall be late!' (when she thought it over afterwards, it\n",
    "occurred to her that she ought to have wondered at this, but at the time\n",
    "it all seemed quite natural); but when the Rabbit actually TOOK A WATCH\n",
    "OUT OF ITS WAISTCOAT-POCKET, and looked at it, and then hurried on,\n",
    "Alice started to her feet, for it flashed across her mind that she had\n",
    "never before seen a rabbit with either a waistcoat-pocket, or a watch\n",
    "to take out of it, and burning with curiosity, she ran across the field\n",
    "after it, and fortunately was just in time to see it pop down a large\n",
    "rabbit-hole under the hedge.\n",
    "\n",
    "In another moment down went Alice after it, never once considering how\n",
    "in the world she was to get out again.\n",
    "\n",
    "The rabbit-hole went straight on like a tunnel for some way, and then\n",
    "dipped suddenly down, so suddenly that Alice had not a moment to think\n",
    "about stopping herself before she found herself falling down a very deep\n",
    "well.\n",
    "\"\"\""
   ]
  },
  {
   "cell_type": "code",
   "execution_count": 25,
   "metadata": {
    "collapsed": false,
    "extensions": {
     "jupyter_dashboards": {
      "version": 1,
      "views": {
       "grid_default": {
        "hidden": true
       },
       "report_default": {}
      }
     }
    }
   },
   "outputs": [],
   "source": [
    "pushkin = \"\"\"На берегу пустынных волн\n",
    "Стоял он, дум великих полн,\n",
    "И вдаль глядел. Пред ним широко\n",
    "Река неслася; бедный чёлн\n",
    "По ней стремился одиноко.\n",
    "По мшистым, топким берегам\n",
    "Чернели избы здесь и там,\n",
    "Приют убогого чухонца;\n",
    "И лес, неведомый лучам\n",
    "В тумане спрятанного солнца,\n",
    "Кругом шумел.\"\"\""
   ]
  },
  {
   "cell_type": "code",
   "execution_count": 26,
   "metadata": {
    "collapsed": true,
    "extensions": {
     "jupyter_dashboards": {
      "version": 1,
      "views": {
       "grid_default": {
        "hidden": true
       },
       "report_default": {}
      }
     }
    }
   },
   "outputs": [],
   "source": [
    "demosthenes = \"\"\"\n",
    "  Οὐχὶ ταὐτὰ παρίσταταί μοι γιγνώσκειν, ὦ ἄνδρες ᾿Αθηναῖοι,\n",
    "  ὅταν τ᾿ εἰς τὰ πράγματα ἀποβλέψω καὶ ὅταν πρὸς τοὺς\n",
    "  λόγους οὓς ἀκούω· τοὺς μὲν γὰρ λόγους περὶ τοῦ\n",
    "  τιμωρήσασθαι Φίλιππον ὁρῶ γιγνομένους, τὰ δὲ πράγματ᾿\n",
    "  εἰς τοῦτο προήκοντα,  ὥσθ᾿ ὅπως μὴ πεισόμεθ᾿ αὐτοὶ\n",
    "  πρότερον κακῶς σκέψασθαι δέον. οὐδέν οὖν ἄλλο μοι δοκοῦσιν\n",
    "  οἱ τὰ τοιαῦτα λέγοντες ἢ τὴν ὑπόθεσιν, περὶ ἧς βουλεύεσθαι,\n",
    "  οὐχὶ τὴν οὖσαν παριστάντες ὑμῖν ἁμαρτάνειν. ἐγὼ δέ, ὅτι μέν\n",
    "  ποτ᾿ ἐξῆν τῇ πόλει καὶ τὰ αὑτῆς ἔχειν ἀσφαλῶς καὶ Φίλιππον\n",
    "  τιμωρήσασθαι, καὶ μάλ᾿ ἀκριβῶς οἶδα· ἐπ᾿ ἐμοῦ γάρ, οὐ πάλαι\n",
    "  γέγονεν ταῦτ᾿ ἀμφότερα· νῦν μέντοι πέπεισμαι τοῦθ᾿ ἱκανὸν\n",
    "  προλαβεῖν ἡμῖν εἶναι τὴν πρώτην, ὅπως τοὺς συμμάχους\n",
    "  σώσομεν. ἐὰν γὰρ τοῦτο βεβαίως ὑπάρξῃ, τότε καὶ περὶ τοῦ\n",
    "  τίνα τιμωρήσεταί τις καὶ ὃν τρόπον ἐξέσται σκοπεῖν· πρὶν δὲ\n",
    "  τὴν ἀρχὴν ὀρθῶς ὑποθέσθαι, μάταιον ἡγοῦμαι περὶ τῆς\n",
    "  τελευτῆς ὁντινοῦν ποιεῖσθαι λόγον.\n",
    "\n",
    "  Δημοσθένους, Γ´ ᾿Ολυνθιακὸς\n",
    "\"\"\""
   ]
  },
  {
   "cell_type": "code",
   "execution_count": 27,
   "metadata": {
    "collapsed": false,
    "extensions": {
     "jupyter_dashboards": {
      "version": 1,
      "views": {
       "grid_default": {
        "col": 0,
        "height": 18,
        "hidden": false,
        "row": 66,
        "width": 8
       },
       "report_default": {}
      }
     }
    }
   },
   "outputs": [],
   "source": [
    "wt = widgets.Textarea(\n",
    "    value=alice,\n",
    "    width='95%'\n",
    ")\n",
    "def author_cb(change):\n",
    "    if author.value == 'Carrol':\n",
    "        wt.value = alice\n",
    "    elif author.value == 'Demosthenes':\n",
    "        wt.value = demosthenes\n",
    "    else:\n",
    "        wt.value = pushkin\n",
    "\n",
    "author.observe(author_cb, names='value')\n",
    "\n",
    "display(author)\n",
    "display(wt)"
   ]
  },
  {
   "cell_type": "markdown",
   "metadata": {
    "extensions": {
     "jupyter_dashboards": {
      "version": 1,
      "views": {
       "grid_default": {
        "col": 0,
        "height": 4,
        "hidden": false,
        "row": 50,
        "width": 4
       },
       "report_default": {}
      }
     }
    },
    "slideshow": {
     "slide_type": "slide"
    }
   },
   "source": [
    "### Label and Text"
   ]
  },
  {
   "cell_type": "code",
   "execution_count": 28,
   "metadata": {
    "collapsed": false,
    "extensions": {
     "jupyter_dashboards": {
      "version": 1,
      "views": {
       "grid_default": {
        "col": 8,
        "height": 4,
        "hidden": false,
        "row": 68,
        "width": null
       },
       "report_default": {}
      }
     }
    }
   },
   "outputs": [],
   "source": [
    "wtext = widgets.Text(\n",
    "    description='String:',\n",
    "    value='$sin^2\\\\theta + cos^2\\\\theta = 1$',\n",
    ")\n",
    "\n",
    "wlab = widgets.Label(\n",
    "    value=wtext.value,\n",
    ")\n",
    "def wtext_cb(change):\n",
    "    wlab.value = wtext.value\n",
    "\n",
    "wtext.observe(wtext_cb, names='value')\n",
    "display(wtext)\n",
    "display(wlab)"
   ]
  },
  {
   "cell_type": "markdown",
   "metadata": {
    "extensions": {
     "jupyter_dashboards": {
      "version": 1,
      "views": {
       "grid_default": {
        "col": 4,
        "height": 4,
        "hidden": false,
        "row": 47,
        "width": 4
       },
       "report_default": {}
      }
     }
    }
   },
   "source": [
    "### SelectMultiple and HTML\n",
    "Multiple values can be selected with <kbd>shift</kbd> and/or <kbd>ctrl</kbd> (or <kbd>command</kbd>) pressed and mouse clicks or arrow keys."
   ]
  },
  {
   "cell_type": "code",
   "execution_count": 80,
   "metadata": {
    "collapsed": false
   },
   "outputs": [],
   "source": [
    "options = OrderedDict([('Normal', 'base-300px.png'),\n",
    "             ('Cyborg', 'cyborg-300px.png'),\n",
    "             ('Hero', 'superhero-300px.png'),\n",
    "             ('Napoleon', 'napoleon-300px.png'),\n",
    "             ('Ninja', '1369289103-300px.png'),\n",
    "             ('Santa', '1369289297-300px.png')])\n",
    "\n",
    "wmult = widgets.SelectMultiple(\n",
    "    description=\"Penguins\",\n",
    "    options=options\n",
    ")\n",
    "image_html = widgets.HTML()\n",
    "\n",
    "def wmult_cb(change):\n",
    "    images = ''.join(['<img src=\"%s\" style=\"width: 30%%\"/>' % x for x in wmult.value])\n",
    "    image_html.value = images\n",
    "\n",
    "wmult.observe(wmult_cb, names='value')\n",
    "display(wmult)\n",
    "display(image_html)"
   ]
  },
  {
   "cell_type": "code",
   "execution_count": 82,
   "metadata": {
    "collapsed": false,
    "extensions": {
     "jupyter_dashboards": {
      "version": 1,
      "views": {
       "grid_default": {
        "col": 8,
        "height": 8,
        "hidden": false,
        "row": 52,
        "width": 4
       },
       "report_default": {}
      }
     }
    }
   },
   "outputs": [
    {
     "data": {
      "text/html": [
       "<div>\n",
       "<style>\n",
       "    .dataframe thead tr:only-child th {\n",
       "        text-align: right;\n",
       "    }\n",
       "\n",
       "    .dataframe thead th {\n",
       "        text-align: left;\n",
       "    }\n",
       "\n",
       "    .dataframe tbody tr th {\n",
       "        vertical-align: top;\n",
       "    }\n",
       "</style>\n",
       "<table border=\"1\" class=\"dataframe\">\n",
       "  <thead>\n",
       "    <tr style=\"text-align: right;\">\n",
       "      <th></th>\n",
       "      <th>A</th>\n",
       "      <th>B</th>\n",
       "      <th>C</th>\n",
       "      <th>D</th>\n",
       "    </tr>\n",
       "  </thead>\n",
       "  <tbody>\n",
       "    <tr>\n",
       "      <th>0</th>\n",
       "      <td>-0.467886</td>\n",
       "      <td>-0.040508</td>\n",
       "      <td>-1.148409</td>\n",
       "      <td>-2.322473</td>\n",
       "    </tr>\n",
       "    <tr>\n",
       "      <th>1</th>\n",
       "      <td>-1.664642</td>\n",
       "      <td>0.653660</td>\n",
       "      <td>-0.245501</td>\n",
       "      <td>-0.191420</td>\n",
       "    </tr>\n",
       "    <tr>\n",
       "      <th>2</th>\n",
       "      <td>0.547393</td>\n",
       "      <td>0.253282</td>\n",
       "      <td>-1.244228</td>\n",
       "      <td>0.054589</td>\n",
       "    </tr>\n",
       "    <tr>\n",
       "      <th>3</th>\n",
       "      <td>0.110272</td>\n",
       "      <td>-1.419191</td>\n",
       "      <td>0.390264</td>\n",
       "      <td>0.098894</td>\n",
       "    </tr>\n",
       "    <tr>\n",
       "      <th>4</th>\n",
       "      <td>0.276430</td>\n",
       "      <td>-1.027711</td>\n",
       "      <td>-0.342180</td>\n",
       "      <td>-0.692666</td>\n",
       "    </tr>\n",
       "    <tr>\n",
       "      <th>5</th>\n",
       "      <td>1.502256</td>\n",
       "      <td>-1.672649</td>\n",
       "      <td>-0.415970</td>\n",
       "      <td>-0.002757</td>\n",
       "    </tr>\n",
       "  </tbody>\n",
       "</table>\n",
       "</div>"
      ],
      "text/plain": [
       "          A         B         C         D\n",
       "0 -0.467886 -0.040508 -1.148409 -2.322473\n",
       "1 -1.664642  0.653660 -0.245501 -0.191420\n",
       "2  0.547393  0.253282 -1.244228  0.054589\n",
       "3  0.110272 -1.419191  0.390264  0.098894\n",
       "4  0.276430 -1.027711 -0.342180 -0.692666\n",
       "5  1.502256 -1.672649 -0.415970 -0.002757"
      ]
     },
     "execution_count": 82,
     "metadata": {},
     "output_type": "execute_result"
    }
   ],
   "source": [
    "import pandas as pd\n",
    "import numpy as np\n",
    "df = pd.DataFrame(np.random.randn(6,4), index=range(6), columns=list('ABCD'))\n",
    "df"
   ]
  },
  {
   "cell_type": "code",
   "execution_count": 30,
   "metadata": {
    "collapsed": false,
    "extensions": {
     "jupyter_dashboards": {
      "version": 1,
      "views": {
       "grid_default": {
        "col": 4,
        "height": 8,
        "hidden": false,
        "row": 35,
        "width": 4
       },
       "report_default": {}
      }
     }
    }
   },
   "outputs": [],
   "source": [
    "wh = widgets.HTML(\n",
    "    value=\"Hello <b>World</b>\")\n",
    "wh\n"
   ]
  },
  {
   "cell_type": "code",
   "execution_count": 83,
   "metadata": {
    "collapsed": false,
    "extensions": {
     "jupyter_dashboards": {
      "version": 1,
      "views": {
       "grid_default": {
        "hidden": true
       },
       "report_default": {}
      }
     }
    }
   },
   "outputs": [],
   "source": [
    "wh.value = df.to_html(classes='rendered_html')\n"
   ]
  },
  {
   "cell_type": "markdown",
   "metadata": {
    "extensions": {
     "jupyter_dashboards": {
      "version": 1,
      "views": {
       "grid_default": {
        "col": 0,
        "height": 4,
        "hidden": false,
        "row": 58,
        "width": 4
       },
       "report_default": {}
      }
     }
    },
    "slideshow": {
     "slide_type": "slide"
    }
   },
   "source": [
    "## Button"
   ]
  },
  {
   "cell_type": "code",
   "execution_count": 34,
   "metadata": {
    "collapsed": false,
    "extensions": {
     "jupyter_dashboards": {
      "version": 1,
      "views": {
       "grid_default": {
        "col": 0,
        "height": 4,
        "hidden": false,
        "row": 62,
        "width": 4
       },
       "report_default": {}
      }
     }
    }
   },
   "outputs": [],
   "source": [
    "widgets.Button(description='Click me')"
   ]
  },
  {
   "cell_type": "markdown",
   "metadata": {
    "extensions": {
     "jupyter_dashboards": {
      "version": 1,
      "views": {
       "grid_default": {
        "col": 4,
        "height": 4,
        "hidden": false,
        "row": 43,
        "width": 4
       },
       "report_default": {}
      }
     }
    }
   },
   "source": [
    "## Animation widget"
   ]
  },
  {
   "cell_type": "markdown",
   "metadata": {
    "extensions": {
     "jupyter_dashboards": {
      "version": 1,
      "views": {
       "grid_default": {
        "col": 8,
        "height": 4,
        "hidden": false,
        "row": 60,
        "width": 4
       },
       "report_default": {}
      }
     }
    }
   },
   "source": [
    "The `Play` widget is useful to perform animations by iterating on a sequence of integers with a certain speed."
   ]
  },
  {
   "cell_type": "code",
   "execution_count": 35,
   "metadata": {
    "collapsed": false,
    "extensions": {
     "jupyter_dashboards": {
      "version": 1,
      "views": {
       "grid_default": {
        "col": 8,
        "height": 4,
        "hidden": false,
        "row": 64,
        "width": 4
       },
       "report_default": {}
      }
     }
    }
   },
   "outputs": [],
   "source": [
    "play = widgets.Play()\n",
    "slider = widgets.IntSlider()\n",
    "widgets.jslink((play, 'value'), (slider, 'value'))\n",
    "widgets.VBox([play, slider])"
   ]
  }
 ],
 "metadata": {
  "extensions": {
   "jupyter_dashboards": {
    "activeView": "grid_default",
    "version": 1,
    "views": {
     "grid_default": {
      "cellMargin": 10,
      "defaultCellHeight": 20,
      "maxColumns": 12,
      "name": "grid",
      "type": "grid"
     },
     "report_default": {
      "name": "report",
      "type": "report"
     }
    }
   }
  },
  "kernelspec": {
   "display_name": "Python3",
   "language": "python",
   "name": "python3"
  },
  "language_info": {
   "codemirror_mode": {
    "name": "ipython",
    "version": 3
   },
   "file_extension": ".py",
   "mimetype": "text/x-python",
   "name": "python",
   "nbconvert_exporter": "python",
   "pygments_lexer": "ipython3",
   "version": "3.5.3"
  },
  "widgets": {
   "state": {
    "020856b9e38c4c809dd8b77242ac9108": {
     "views": [
      {
       "cell_index": 20
      }
     ]
    },
    "038ea4a4be2942bab5735a03d690585b": {
     "views": [
      {
       "cell_index": 54
      }
     ]
    },
    "06eb8405865e46bfa3fd67ed83d30395": {
     "views": [
      {
       "cell_index": 51
      }
     ]
    },
    "06ef0996ca08495987cafe9b668a5c62": {
     "views": [
      {
       "cell_index": 51
      }
     ]
    },
    "097955a20d3d4174938fcaa03223ded1": {
     "views": [
      {
       "cell_index": 16
      }
     ]
    },
    "1246bb78ba4d48619404d5063e800074": {
     "views": [
      {
       "cell_index": 51
      }
     ]
    },
    "17765a24602f44a49c9e7a02a9e6f3d6": {
     "views": [
      {
       "cell_index": 54
      }
     ]
    },
    "18641fdf9887430e9d133255d5737c08": {
     "views": [
      {
       "cell_index": 51
      }
     ]
    },
    "1aedabac9aec4be2906f236bb57139cf": {
     "views": [
      {
       "cell_index": 55
      }
     ]
    },
    "1b61d34674c24584850fea6cde7adc7c": {
     "views": [
      {
       "cell_index": 16
      }
     ]
    },
    "1e238ba60185433bbd798660a81d581a": {
     "views": [
      {
       "cell_index": 13
      }
     ]
    },
    "223dc07435d447908d622d6e4a6be4c5": {
     "views": [
      {
       "cell_index": 51
      }
     ]
    },
    "2f04b654bbf44fa68b092f0871fbf226": {
     "views": [
      {
       "cell_index": 9
      }
     ]
    },
    "3e3ff4f32d2d4e14838610693fb97f42": {
     "views": [
      {
       "cell_index": 7
      }
     ]
    },
    "3f939ac33f5443e0a892225221739e81": {
     "views": [
      {
       "cell_index": 9
      }
     ]
    },
    "4a0a06e4ff4d48e9948dea78d6810e40": {
     "views": [
      {
       "cell_index": 49
      }
     ]
    },
    "4f3facb31c5144d281a74c3010233171": {
     "views": [
      {
       "cell_index": 25
      }
     ]
    },
    "55b244e780ed4bc89e52ceffe13ece2d": {
     "views": [
      {
       "cell_index": 16
      }
     ]
    },
    "564e3f4b57a94f7e96d2e437c2045373": {
     "views": [
      {
       "cell_index": 7
      }
     ]
    },
    "59c3e3a49fb74812924da5288786b4ed": {
     "views": [
      {
       "cell_index": 35
      }
     ]
    },
    "5a9f489c76c14444bc28132c1e86bad5": {
     "views": [
      {
       "cell_index": 9
      }
     ]
    },
    "5b4f4dbb442c4b8cbd03edd5b2e1ac7d": {
     "views": [
      {
       "cell_index": 51
      }
     ]
    },
    "5bc8ab8c3f32465283d67b44b3db1a91": {
     "views": [
      {
       "cell_index": 16
      }
     ]
    },
    "6187bab91f4d45ed9b3c950ea2a4c5f2": {
     "views": [
      {
       "cell_index": 62
      }
     ]
    },
    "628b17ddd5454ffe91f4f7ef763d3fbc": {
     "views": [
      {
       "cell_index": 7
      }
     ]
    },
    "6ac6b4aa68304c3ba83cd5145f8b4567": {
     "views": [
      {
       "cell_index": 16
      }
     ]
    },
    "6cd235af22a748cf80d4e2955d1123fe": {
     "views": [
      {
       "cell_index": 13
      }
     ]
    },
    "6fcad3741e95451caa37954d937c0668": {
     "views": [
      {
       "cell_index": 16
      }
     ]
    },
    "7244f85ea1454d748badc200f144be07": {
     "views": [
      {
       "cell_index": 7
      }
     ]
    },
    "7c5c8f0371984b22b66e9ae3b793c203": {
     "views": [
      {
       "cell_index": 54
      }
     ]
    },
    "7f0eedbf23224f198b06d0f56e9d1668": {
     "views": [
      {
       "cell_index": 16
      }
     ]
    },
    "8007abfc9a994a72914331531961e010": {
     "views": [
      {
       "cell_index": 16
      }
     ]
    },
    "80808f0db7824a12956a98a7f43e7b6c": {
     "views": [
      {
       "cell_index": 49
      }
     ]
    },
    "80d58183b3c440b199225a67fbafb711": {
     "views": [
      {
       "cell_index": 51
      }
     ]
    },
    "8739eaea5c2b4228bbd883cb0205b3cf": {
     "views": [
      {
       "cell_index": 51
      }
     ]
    },
    "89feb9f5a0fb4216a218c7c06595b3d2": {
     "views": [
      {
       "cell_index": 50
      }
     ]
    },
    "93b421e474c2449ba6965c5b853c9906": {
     "views": [
      {
       "cell_index": 8
      }
     ]
    },
    "940a0488f07348418c9b772bed592560": {
     "views": [
      {
       "cell_index": 9
      }
     ]
    },
    "9468d89a26984da0b906a28fbb70944a": {
     "views": [
      {
       "cell_index": 16
      }
     ]
    },
    "94cf090df8974228962eb2f370e71eda": {
     "views": [
      {
       "cell_index": 33
      }
     ]
    },
    "99071db83cfe439cbb6a76680885f9b8": {
     "views": [
      {
       "cell_index": 50
      }
     ]
    },
    "9c945983a2eb42789e75275a4eb89675": {
     "views": [
      {
       "cell_index": 31
      }
     ]
    },
    "9d98c06a7d584d28a77374a47b401481": {
     "views": [
      {
       "cell_index": 4
      }
     ]
    },
    "9dd78bfedfdf47ec8bb2c0785b0ab2c7": {
     "views": [
      {
       "cell_index": 50
      }
     ]
    },
    "9e71db641b054825b35f241e215084fe": {
     "views": [
      {
       "cell_index": 7
      }
     ]
    },
    "a88d077445914db29cdc2b1b641c29d2": {
     "views": [
      {
       "cell_index": 51
      }
     ]
    },
    "a9efd77f041a4a0cbfe1fe0943c6c461": {
     "views": [
      {
       "cell_index": 5
      }
     ]
    },
    "ac56ce7649224cd8afef92483b120bb7": {
     "views": [
      {
       "cell_index": 54
      }
     ]
    },
    "af2fbed7445044d5b9794039d9191f05": {
     "views": [
      {
       "cell_index": 7
      }
     ]
    },
    "b39475cb8bd84b3ea3a8c515b0735cbe": {
     "views": [
      {
       "cell_index": 7
      }
     ]
    },
    "b7863022393446da91d62841a155c088": {
     "views": [
      {
       "cell_index": 59
      }
     ]
    },
    "bcb658d9fd1e42a1bd0ecc493aefc58e": {
     "views": [
      {
       "cell_index": 16
      }
     ]
    },
    "bccdcba1ed534584b1f5381b3c5e927f": {
     "views": [
      {
       "cell_index": 51
      }
     ]
    },
    "bec6f770438948b5a488b7dbaa8bb61e": {
     "views": [
      {
       "cell_index": 50
      }
     ]
    },
    "c8bee3e19b25452a8ec67c15b451da36": {
     "views": [
      {
       "cell_index": 16
      }
     ]
    },
    "c8d5988c6ec74432a59956122a18ecf5": {
     "views": [
      {
       "cell_index": 16
      }
     ]
    },
    "cef4fe36bec448a1b587fc8f7f8143d7": {
     "views": [
      {
       "cell_index": 7
      }
     ]
    },
    "d3eaf2061b5c4168ba26a1d87168715e": {
     "views": [
      {
       "cell_index": 37
      }
     ]
    },
    "d4e9b647cdd14f5d94634cec903030b1": {
     "views": [
      {
       "cell_index": 49
      }
     ]
    },
    "d905c304b7c64aecb66ad1a9756607c1": {
     "views": [
      {
       "cell_index": 49
      }
     ]
    },
    "da14f4f93c174ec395ba356a50f15dd5": {
     "views": [
      {
       "cell_index": 16
      }
     ]
    },
    "e2641673dfcd4386a43ff2560fb44f3f": {
     "views": [
      {
       "cell_index": 16
      }
     ]
    },
    "eb7bcf2a175748f0beed08162ade9376": {
     "views": [
      {
       "cell_index": 16
      }
     ]
    },
    "f28e82a254384eac96716584b58bc42a": {
     "views": [
      {
       "cell_index": 54
      }
     ]
    },
    "f4b3190ca19b47479aad4f8409e100fc": {
     "views": [
      {
       "cell_index": 49
      }
     ]
    },
    "f9e82501ac7a4bb4aed959f2d1d4f792": {
     "views": [
      {
       "cell_index": 11
      }
     ]
    },
    "fbe584ddc22a47e9a0898a24c9a84bb4": {
     "views": [
      {
       "cell_index": 28
      }
     ]
    },
    "fe84585ce9b3437b9fd9df548e04cb36": {
     "views": [
      {
       "cell_index": 16
      }
     ]
    },
    "fef1be514a604b5996ccf120ee29f782": {
     "views": [
      {
       "cell_index": 49
      }
     ]
    },
    "ffb6ee61284d4a739c525a0743189a35": {
     "views": [
      {
       "cell_index": 16
      }
     ]
    }
   },
   "version": "1.2.0"
  }
 },
 "nbformat": 4,
 "nbformat_minor": 1
}
