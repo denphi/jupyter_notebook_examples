{
 "cells": [
  {
   "cell_type": "code",
   "execution_count": 1,
   "metadata": {
    "collapsed": false,
    "extensions": {
     "jupyter_dashboards": {
      "version": 1,
      "views": {
       "grid_default": {
        "col": 4,
        "height": 22,
        "hidden": true,
        "row": 0,
        "width": 4
       },
       "report_default": {}
      }
     }
    }
   },
   "outputs": [],
   "source": [
    "from __future__ import print_function\n",
    "import ipywidgets as widgets\n",
    "from IPython.display import display\n",
    "from collections import OrderedDict"
   ]
  },
  {
   "cell_type": "markdown",
   "metadata": {
    "extensions": {
     "jupyter_dashboards": {
      "version": 1,
      "views": {
       "grid_default": {
        "col": 0,
        "height": 4,
        "hidden": false,
        "row": 0,
        "width": 6
       },
       "report_default": {}
      }
     }
    },
    "slideshow": {
     "slide_type": "slide"
    }
   },
   "source": [
    "## Basic Widget Demonstration\n",
    "\n",
    "This is a demonstration of the ipywidgets, showing examples of how they can interact.\n",
    "\n",
    "Developers should try the dashboard preview.  Be sure to run all the cells first!"
   ]
  },
  {
   "cell_type": "markdown",
   "metadata": {
    "extensions": {
     "jupyter_dashboards": {
      "version": 1,
      "views": {
       "grid_default": {
        "col": 8,
        "height": 4,
        "hidden": true,
        "row": 0,
        "width": 4
       },
       "report_default": {}
      }
     }
    },
    "slideshow": {
     "slide_type": "slide"
    }
   },
   "source": [
    "### FloatSlider"
   ]
  },
  {
   "cell_type": "code",
   "execution_count": 2,
   "metadata": {
    "collapsed": false,
    "extensions": {
     "jupyter_dashboards": {
      "version": 1,
      "views": {
       "grid_default": {
        "col": 1,
        "height": 2,
        "hidden": false,
        "row": 4,
        "width": 3
       },
       "report_default": {}
      }
     }
    }
   },
   "outputs": [],
   "source": [
    "fh = widgets.FloatSlider(\n",
    "    value=7.5,\n",
    "    min=5.0,\n",
    "    max=10.0,\n",
    "    step=0.1,\n",
    "    description='Slider1:',\n",
    ")\n",
    "fh"
   ]
  },
  {
   "cell_type": "code",
   "execution_count": 3,
   "metadata": {
    "collapsed": false,
    "extensions": {
     "jupyter_dashboards": {
      "version": 1,
      "views": {
       "grid_default": {
        "col": 0,
        "height": 10,
        "hidden": false,
        "row": 4,
        "width": 1
       },
       "report_default": {}
      }
     }
    }
   },
   "outputs": [],
   "source": [
    "fv = widgets.FloatSlider(\n",
    "    value=7.5,\n",
    "    min=5.0,\n",
    "    max=10.0,\n",
    "    step=0.1,\n",
    "    description='Slider2',\n",
    "    orientation='vertical',\n",
    "    readout_format='.3f'\n",
    ")\n",
    "fv"
   ]
  },
  {
   "cell_type": "markdown",
   "metadata": {
    "extensions": {
     "jupyter_dashboards": {
      "version": 1,
      "views": {
       "grid_default": {
        "col": 1,
        "height": 2,
        "hidden": false,
        "row": 9,
        "width": 2
       },
       "report_default": {}
      }
     }
    },
    "slideshow": {
     "slide_type": "slide"
    }
   },
   "source": [
    "### FloatText"
   ]
  },
  {
   "cell_type": "code",
   "execution_count": 4,
   "metadata": {
    "collapsed": false,
    "extensions": {
     "jupyter_dashboards": {
      "version": 1,
      "views": {
       "grid_default": {
        "col": 1,
        "height": 3,
        "hidden": false,
        "row": 6,
        "width": 3
       },
       "report_default": {}
      }
     }
    }
   },
   "outputs": [],
   "source": [
    "slider1_text = widgets.FloatText(\n",
    "    value=fh.value,\n",
    "    description='Slider1:'\n",
    ")\n",
    "slider2_text = widgets.FloatText(\n",
    "    value=fv.value,\n",
    "    description='Slider2:'\n",
    ")\n",
    "display(slider1_text)\n",
    "display(slider2_text)"
   ]
  },
  {
   "cell_type": "code",
   "execution_count": 5,
   "metadata": {
    "collapsed": false,
    "extensions": {
     "jupyter_dashboards": {
      "version": 1,
      "views": {
       "grid_default": {
        "col": 1,
        "height": 2,
        "hidden": false,
        "row": 11,
        "width": 3
       },
       "report_default": {}
      }
     }
    }
   },
   "outputs": [],
   "source": [
    "st = widgets.Text(\n",
    "    description='Slider1:',\n",
    "    value=str(fh.value),\n",
    "    disabled=True\n",
    ")\n",
    "st"
   ]
  },
  {
   "cell_type": "code",
   "execution_count": 6,
   "metadata": {
    "collapsed": true,
    "extensions": {
     "jupyter_dashboards": {
      "version": 1,
      "views": {
       "grid_default": {
        "hidden": true
       },
       "report_default": {}
      }
     }
    }
   },
   "outputs": [],
   "source": [
    "def slider1_cb(change):\n",
    "    slider1_text.value = change['new']\n",
    "    st.value = str(change['new'])\n",
    "\n",
    "def slider2_cb(change):\n",
    "    slider2_text.value = change['new']\n",
    "\n",
    "fh.observe(slider1_cb, names='value')\n",
    "fv.observe(slider2_cb, names='value')\n"
   ]
  },
  {
   "cell_type": "markdown",
   "metadata": {
    "extensions": {
     "jupyter_dashboards": {
      "version": 1,
      "views": {
       "grid_default": {
        "col": 8,
        "height": 2,
        "hidden": false,
        "row": 16,
        "width": 4
       },
       "report_default": {}
      }
     }
    },
    "slideshow": {
     "slide_type": "slide"
    }
   },
   "source": [
    "### BoundedFloatText"
   ]
  },
  {
   "cell_type": "code",
   "execution_count": 7,
   "metadata": {
    "collapsed": false,
    "extensions": {
     "jupyter_dashboards": {
      "version": 1,
      "views": {
       "grid_default": {
        "col": 8,
        "height": 2,
        "hidden": false,
        "row": 18,
        "width": 4
       },
       "report_default": {}
      }
     }
    }
   },
   "outputs": [],
   "source": [
    "widgets.BoundedFloatText(\n",
    "    value=7.5,\n",
    "    min=5.0,\n",
    "    max=10.0,\n",
    "    description='$\\\\theta$',\n",
    ")"
   ]
  },
  {
   "cell_type": "markdown",
   "metadata": {
    "extensions": {
     "jupyter_dashboards": {
      "version": 1,
      "views": {
       "grid_default": {
        "col": 8,
        "height": 2,
        "hidden": false,
        "row": 12,
        "width": 4
       },
       "report_default": {}
      }
     }
    },
    "slideshow": {
     "slide_type": "slide"
    }
   },
   "source": [
    "### FloatProgress"
   ]
  },
  {
   "cell_type": "code",
   "execution_count": 8,
   "metadata": {
    "collapsed": false,
    "extensions": {
     "jupyter_dashboards": {
      "version": 1,
      "views": {
       "grid_default": {
        "col": 8,
        "height": 2,
        "hidden": false,
        "row": 14,
        "width": 4
       },
       "report_default": {}
      }
     }
    }
   },
   "outputs": [],
   "source": [
    "widgets.FloatProgress(\n",
    "    value=7.5,\n",
    "    min=5.0,\n",
    "    max=10.0,\n",
    "    step=0.1,\n",
    "    description='Progress:',\n",
    ")"
   ]
  },
  {
   "cell_type": "markdown",
   "metadata": {
    "extensions": {
     "jupyter_dashboards": {
      "version": 1,
      "views": {
       "grid_default": {
        "col": 8,
        "height": 2,
        "hidden": false,
        "row": 0,
        "width": 4
       },
       "report_default": {}
      }
     }
    },
    "slideshow": {
     "slide_type": "slide"
    }
   },
   "source": [
    "## Boolean Widgets"
   ]
  },
  {
   "cell_type": "markdown",
   "metadata": {
    "extensions": {
     "jupyter_dashboards": {
      "version": 1,
      "views": {
       "grid_default": {
        "col": 4,
        "height": 4,
        "hidden": true,
        "row": 0,
        "width": 4
       },
       "report_default": {}
      }
     }
    }
   },
   "source": [
    "There are three widgets that are designed to display a boolean value."
   ]
  },
  {
   "cell_type": "code",
   "execution_count": 9,
   "metadata": {
    "collapsed": false,
    "extensions": {
     "jupyter_dashboards": {
      "version": 1,
      "views": {
       "grid_default": {
        "col": 8,
        "height": 6,
        "hidden": false,
        "row": 2,
        "width": 4
       },
       "report_default": {}
      }
     }
    }
   },
   "outputs": [
    {
     "name": "stdout",
     "output_type": "stream",
     "text": [
      "Select both to validate.\n"
     ]
    }
   ],
   "source": [
    "tb = widgets.ToggleButton(\n",
    "    description='Click me',\n",
    "    value=False,\n",
    ")\n",
    "\n",
    "cb = widgets.Checkbox(\n",
    "    description='Check me',\n",
    "    value=True,\n",
    ")\n",
    "\n",
    "valid = widgets.Valid(\n",
    "    value=False,\n",
    ")\n",
    "\n",
    "def tb_cb(change):\n",
    "    if change['owner'] == tb:\n",
    "        if tb.value:\n",
    "            tb.description='ON'\n",
    "        else:\n",
    "            tb.description = 'OFF'\n",
    "    valid.value = tb.value and cb.value\n",
    "\n",
    "tb.observe(tb_cb, names='value')\n",
    "cb.observe(tb_cb, names='value')\n",
    "\n",
    "print(\"Select both to validate.\")\n",
    "display(tb)\n",
    "display(cb)\n",
    "display(valid)"
   ]
  },
  {
   "cell_type": "markdown",
   "metadata": {
    "extensions": {
     "jupyter_dashboards": {
      "version": 1,
      "views": {
       "grid_default": {
        "col": 0,
        "height": 2,
        "hidden": false,
        "row": 40,
        "width": 4
       },
       "report_default": {}
      }
     }
    }
   },
   "source": [
    "### Radiobuttons and Textarea Demo"
   ]
  },
  {
   "cell_type": "code",
   "execution_count": 10,
   "metadata": {
    "collapsed": false,
    "extensions": {
     "jupyter_dashboards": {
      "version": 1,
      "views": {
       "grid_default": {
        "col": 8,
        "height": 4,
        "hidden": true,
        "row": 0,
        "width": 4
       },
       "report_default": {}
      }
     }
    }
   },
   "outputs": [],
   "source": [
    "author = widgets.RadioButtons(\n",
    "    description='Author:',\n",
    "    options=['Carrol', 'Pushkin', 'Demosthenes'],\n",
    ")"
   ]
  },
  {
   "cell_type": "code",
   "execution_count": 11,
   "metadata": {
    "collapsed": false,
    "extensions": {
     "jupyter_dashboards": {
      "version": 1,
      "views": {
       "grid_default": {
        "hidden": true
       },
       "report_default": {}
      }
     }
    }
   },
   "outputs": [],
   "source": [
    "alice = \"\"\"Alice was beginning to get very tired of sitting by her sister on the\n",
    "bank, and of having nothing to do: once or twice she had peeped into the\n",
    "book her sister was reading, but it had no pictures or conversations in\n",
    "it, 'and what is the use of a book,' thought Alice 'without pictures or\n",
    "conversations?'\n",
    "\n",
    "So she was considering in her own mind (as well as she could, for the\n",
    "hot day made her feel very sleepy and stupid), whether the pleasure\n",
    "of making a daisy-chain would be worth the trouble of getting up and\n",
    "picking the daisies, when suddenly a White Rabbit with pink eyes ran\n",
    "close by her.\n",
    "\n",
    "There was nothing so VERY remarkable in that; nor did Alice think it so\n",
    "VERY much out of the way to hear the Rabbit say to itself, 'Oh dear!\n",
    "Oh dear! I shall be late!' (when she thought it over afterwards, it\n",
    "occurred to her that she ought to have wondered at this, but at the time\n",
    "it all seemed quite natural); but when the Rabbit actually TOOK A WATCH\n",
    "OUT OF ITS WAISTCOAT-POCKET, and looked at it, and then hurried on,\n",
    "Alice started to her feet, for it flashed across her mind that she had\n",
    "never before seen a rabbit with either a waistcoat-pocket, or a watch\n",
    "to take out of it, and burning with curiosity, she ran across the field\n",
    "after it, and fortunately was just in time to see it pop down a large\n",
    "rabbit-hole under the hedge.\n",
    "\n",
    "In another moment down went Alice after it, never once considering how\n",
    "in the world she was to get out again.\n",
    "\n",
    "The rabbit-hole went straight on like a tunnel for some way, and then\n",
    "dipped suddenly down, so suddenly that Alice had not a moment to think\n",
    "about stopping herself before she found herself falling down a very deep\n",
    "well.\n",
    "\"\"\""
   ]
  },
  {
   "cell_type": "code",
   "execution_count": 12,
   "metadata": {
    "collapsed": false,
    "extensions": {
     "jupyter_dashboards": {
      "version": 1,
      "views": {
       "grid_default": {
        "hidden": true
       },
       "report_default": {}
      }
     }
    }
   },
   "outputs": [],
   "source": [
    "pushkin = \"\"\"На берегу пустынных волн\n",
    "Стоял он, дум великих полн,\n",
    "И вдаль глядел. Пред ним широко\n",
    "Река неслася; бедный чёлн\n",
    "По ней стремился одиноко.\n",
    "По мшистым, топким берегам\n",
    "Чернели избы здесь и там,\n",
    "Приют убогого чухонца;\n",
    "И лес, неведомый лучам\n",
    "В тумане спрятанного солнца,\n",
    "Кругом шумел.\"\"\""
   ]
  },
  {
   "cell_type": "code",
   "execution_count": 13,
   "metadata": {
    "collapsed": true,
    "extensions": {
     "jupyter_dashboards": {
      "version": 1,
      "views": {
       "grid_default": {
        "hidden": true
       },
       "report_default": {}
      }
     }
    }
   },
   "outputs": [],
   "source": [
    "demosthenes = \"\"\"\n",
    "  Οὐχὶ ταὐτὰ παρίσταταί μοι γιγνώσκειν, ὦ ἄνδρες ᾿Αθηναῖοι,\n",
    "  ὅταν τ᾿ εἰς τὰ πράγματα ἀποβλέψω καὶ ὅταν πρὸς τοὺς\n",
    "  λόγους οὓς ἀκούω· τοὺς μὲν γὰρ λόγους περὶ τοῦ\n",
    "  τιμωρήσασθαι Φίλιππον ὁρῶ γιγνομένους, τὰ δὲ πράγματ᾿\n",
    "  εἰς τοῦτο προήκοντα,  ὥσθ᾿ ὅπως μὴ πεισόμεθ᾿ αὐτοὶ\n",
    "  πρότερον κακῶς σκέψασθαι δέον. οὐδέν οὖν ἄλλο μοι δοκοῦσιν\n",
    "  οἱ τὰ τοιαῦτα λέγοντες ἢ τὴν ὑπόθεσιν, περὶ ἧς βουλεύεσθαι,\n",
    "  οὐχὶ τὴν οὖσαν παριστάντες ὑμῖν ἁμαρτάνειν. ἐγὼ δέ, ὅτι μέν\n",
    "  ποτ᾿ ἐξῆν τῇ πόλει καὶ τὰ αὑτῆς ἔχειν ἀσφαλῶς καὶ Φίλιππον\n",
    "  τιμωρήσασθαι, καὶ μάλ᾿ ἀκριβῶς οἶδα· ἐπ᾿ ἐμοῦ γάρ, οὐ πάλαι\n",
    "  γέγονεν ταῦτ᾿ ἀμφότερα· νῦν μέντοι πέπεισμαι τοῦθ᾿ ἱκανὸν\n",
    "  προλαβεῖν ἡμῖν εἶναι τὴν πρώτην, ὅπως τοὺς συμμάχους\n",
    "  σώσομεν. ἐὰν γὰρ τοῦτο βεβαίως ὑπάρξῃ, τότε καὶ περὶ τοῦ\n",
    "  τίνα τιμωρήσεταί τις καὶ ὃν τρόπον ἐξέσται σκοπεῖν· πρὶν δὲ\n",
    "  τὴν ἀρχὴν ὀρθῶς ὑποθέσθαι, μάταιον ἡγοῦμαι περὶ τῆς\n",
    "  τελευτῆς ὁντινοῦν ποιεῖσθαι λόγον.\n",
    "\n",
    "  Δημοσθένους, Γ´ ᾿Ολυνθιακὸς\n",
    "\"\"\""
   ]
  },
  {
   "cell_type": "code",
   "execution_count": 14,
   "metadata": {
    "collapsed": false,
    "extensions": {
     "jupyter_dashboards": {
      "version": 1,
      "views": {
       "grid_default": {
        "col": 0,
        "height": 15,
        "hidden": false,
        "row": 42,
        "width": 10
       },
       "report_default": {}
      }
     }
    }
   },
   "outputs": [],
   "source": [
    "wt = widgets.Textarea(\n",
    "    value=alice,\n",
    "    width='95%'\n",
    ")\n",
    "def author_cb(change):\n",
    "    if author.value == 'Carrol':\n",
    "        wt.value = alice\n",
    "    elif author.value == 'Demosthenes':\n",
    "        wt.value = demosthenes\n",
    "    else:\n",
    "        wt.value = pushkin\n",
    "\n",
    "author.observe(author_cb, names='value')\n",
    "\n",
    "display(author)\n",
    "display(wt)"
   ]
  },
  {
   "cell_type": "markdown",
   "metadata": {
    "extensions": {
     "jupyter_dashboards": {
      "version": 1,
      "views": {
       "grid_default": {
        "col": 0,
        "height": 2,
        "hidden": false,
        "row": 71,
        "width": 4
       },
       "report_default": {}
      }
     }
    },
    "slideshow": {
     "slide_type": "slide"
    }
   },
   "source": [
    "### Label and Text"
   ]
  },
  {
   "cell_type": "code",
   "execution_count": 15,
   "metadata": {
    "collapsed": false,
    "extensions": {
     "jupyter_dashboards": {
      "version": 1,
      "views": {
       "grid_default": {
        "col": 0,
        "height": 4,
        "hidden": false,
        "row": 73,
        "width": null
       },
       "report_default": {}
      }
     }
    }
   },
   "outputs": [],
   "source": [
    "wtext = widgets.Text(\n",
    "    description='String:',\n",
    "    value='$sin^2\\\\theta + cos^2\\\\theta = 1$',\n",
    ")\n",
    "\n",
    "wlab = widgets.Label(\n",
    "    value=wtext.value,\n",
    "    width=\"95%\"\n",
    ")\n",
    "def wtext_cb(change):\n",
    "    wlab.value = wtext.value\n",
    "\n",
    "wtext.observe(wtext_cb, names='value')\n",
    "display(wtext)\n",
    "display(wlab)"
   ]
  },
  {
   "cell_type": "markdown",
   "metadata": {
    "extensions": {
     "jupyter_dashboards": {
      "version": 1,
      "views": {
       "grid_default": {
        "col": 0,
        "height": 4,
        "hidden": false,
        "row": 14,
        "width": 4
       },
       "report_default": {}
      }
     }
    }
   },
   "source": [
    "### SelectMultiple and HTML\n",
    "Multiple values can be selected with <kbd>shift</kbd> and/or <kbd>ctrl</kbd> (or <kbd>command</kbd>) pressed and mouse clicks or arrow keys."
   ]
  },
  {
   "cell_type": "code",
   "execution_count": 16,
   "metadata": {
    "collapsed": false,
    "extensions": {
     "jupyter_dashboards": {
      "version": 1,
      "views": {
       "grid_default": {
        "col": 0,
        "height": 22,
        "hidden": false,
        "row": 18,
        "width": 7
       },
       "report_default": {}
      }
     }
    }
   },
   "outputs": [],
   "source": [
    "options = OrderedDict([('Normal', 'base-300px.png'),\n",
    "             ('Cyborg', 'cyborg-300px.png'),\n",
    "             ('Hero', 'superhero-300px.png'),\n",
    "             ('Napoleon', 'napoleon-300px.png'),\n",
    "             ('Ninja', '1369289103-300px.png'),\n",
    "             ('Santa', '1369289297-300px.png')])\n",
    "\n",
    "wmult = widgets.SelectMultiple(\n",
    "    description=\"Penguins\",\n",
    "    options=options\n",
    ")\n",
    "image_html = widgets.HTML()\n",
    "\n",
    "def wmult_cb(change):\n",
    "    images = ''.join(['<img src=\"%s\" style=\"width: 30%%\"/>' % x for x in wmult.value])\n",
    "    image_html.value = images\n",
    "\n",
    "wmult.observe(wmult_cb, names='value')\n",
    "display(wmult)\n",
    "display(image_html)"
   ]
  },
  {
   "cell_type": "markdown",
   "metadata": {
    "extensions": {
     "jupyter_dashboards": {
      "version": 1,
      "views": {
       "grid_default": {
        "col": 8,
        "height": 2,
        "hidden": false,
        "row": 8,
        "width": 4
       },
       "report_default": {}
      }
     }
    },
    "slideshow": {
     "slide_type": "slide"
    }
   },
   "source": [
    "## Button"
   ]
  },
  {
   "cell_type": "code",
   "execution_count": 17,
   "metadata": {
    "collapsed": false,
    "extensions": {
     "jupyter_dashboards": {
      "version": 1,
      "views": {
       "grid_default": {
        "col": 8,
        "height": 2,
        "hidden": false,
        "row": 10,
        "width": 4
       },
       "report_default": {}
      }
     }
    }
   },
   "outputs": [],
   "source": [
    "but = widgets.Button(description='Button 0')\n",
    "\n",
    "button_presses = 0\n",
    "def but_cb(change):\n",
    "    global button_presses\n",
    "    button_presses += 1\n",
    "    but.description = \"Button %d\" % button_presses\n",
    "\n",
    "but.on_click(but_cb)\n",
    "but"
   ]
  },
  {
   "cell_type": "code",
   "execution_count": 18,
   "metadata": {
    "collapsed": false,
    "extensions": {
     "jupyter_dashboards": {
      "version": 1,
      "views": {
       "grid_default": {
        "col": 8,
        "height": 4,
        "hidden": true,
        "row": 8,
        "width": 4
       },
       "report_default": {}
      }
     }
    }
   },
   "outputs": [],
   "source": [
    "# set up fonts\n",
    "from IPython.display import HTML"
   ]
  },
  {
   "cell_type": "code",
   "execution_count": 19,
   "metadata": {
    "collapsed": false,
    "extensions": {
     "jupyter_dashboards": {
      "version": 1,
      "views": {
       "grid_default": {
        "hidden": true
       },
       "report_default": {}
      }
     }
    }
   },
   "outputs": [],
   "source": [
    "fonts = sorted(['Cantarell', 'Comfortaa',\n",
    "         'Droid Sans Mono', 'Helvetica','Shadows Into Light', \n",
    "         'Ubuntu', 'Cabin', 'Source Code Pro', 'Montserrat Alternates', 'Roboto'])"
   ]
  },
  {
   "cell_type": "code",
   "execution_count": 20,
   "metadata": {
    "collapsed": false,
    "extensions": {
     "jupyter_dashboards": {
      "version": 1,
      "views": {
       "grid_default": {
        "col": 0,
        "height": 5,
        "hidden": false,
        "row": 57,
        "width": 4
       },
       "report_default": {
        "hidden": true
       }
      }
     }
    }
   },
   "outputs": [],
   "source": [
    "family = widgets.Select(\n",
    "    description='Family:',\n",
    "    options=fonts,\n",
    "    value=fonts[0]\n",
    ")\n",
    "family"
   ]
  },
  {
   "cell_type": "code",
   "execution_count": 21,
   "metadata": {
    "collapsed": true,
    "extensions": {
     "jupyter_dashboards": {
      "version": 1,
      "views": {
       "grid_default": {
        "hidden": true
       },
       "report_default": {}
      }
     }
    }
   },
   "outputs": [],
   "source": [
    "color = widgets.Dropdown(\n",
    "    options=['Black', 'Green', 'Red', 'Orange', 'Violet', 'Blue'],\n",
    "    value='Black',\n",
    "    description='Color:',\n",
    ")"
   ]
  },
  {
   "cell_type": "code",
   "execution_count": 22,
   "metadata": {
    "collapsed": false,
    "extensions": {
     "jupyter_dashboards": {
      "version": 1,
      "views": {
       "grid_default": {
        "col": 4,
        "height": 5,
        "hidden": false,
        "row": 61,
        "width": 4
       },
       "report_default": {}
      }
     }
    }
   },
   "outputs": [],
   "source": [
    "size = widgets.SelectionSlider(\n",
    "    description='Size',\n",
    "    options=['100%', '150%', '200%', '300%', '400%', '500%', '800%'],\n",
    "    value='200%'\n",
    ")\n",
    "display(color)\n",
    "display(size)"
   ]
  },
  {
   "cell_type": "code",
   "execution_count": 23,
   "metadata": {
    "collapsed": false,
    "extensions": {
     "jupyter_dashboards": {
      "version": 1,
      "views": {
       "grid_default": {
        "col": 4,
        "height": 4,
        "hidden": false,
        "row": 57,
        "width": 4
       },
       "report_default": {}
      }
     }
    }
   },
   "outputs": [],
   "source": [
    "style = widgets.ToggleButtons(\n",
    "    description='Style:',\n",
    "    options=['Normal', 'Italic'],\n",
    ")\n",
    "weight = widgets.ToggleButtons(\n",
    "    description='Weight:',\n",
    "    options=['Normal', 'Bold'],\n",
    ")\n",
    "display(style)\n",
    "display(weight)"
   ]
  },
  {
   "cell_type": "code",
   "execution_count": 24,
   "metadata": {
    "collapsed": false,
    "extensions": {
     "jupyter_dashboards": {
      "version": 1,
      "views": {
       "grid_default": {
        "col": 0,
        "height": 4,
        "hidden": false,
        "row": 62,
        "width": 4
       },
       "report_default": {}
      }
     }
    }
   },
   "outputs": [],
   "source": [
    "fonttext = widgets.Text(\n",
    "    description='String:',\n",
    "    value='The quick brown fox jumps over the lazy dog',\n",
    "    width=\"95%\"\n",
    ")\n",
    "fonttext"
   ]
  },
  {
   "cell_type": "code",
   "execution_count": 25,
   "metadata": {
    "collapsed": false,
    "extensions": {
     "jupyter_dashboards": {
      "version": 1,
      "views": {
       "grid_default": {
        "col": 0,
        "height": 5,
        "hidden": false,
        "row": 66,
        "width": 12
       },
       "report_default": {}
      }
     }
    }
   },
   "outputs": [],
   "source": [
    "font_html = widgets.HTML(height='100px', margin='30px')\n",
    "font_html"
   ]
  },
  {
   "cell_type": "code",
   "execution_count": 26,
   "metadata": {
    "collapsed": false,
    "extensions": {
     "jupyter_dashboards": {
      "version": 1,
      "views": {
       "grid_default": {
        "hidden": true
       },
       "report_default": {}
      }
     }
    }
   },
   "outputs": [],
   "source": [
    "fontcache = []\n",
    "\n",
    "def update_html(change):\n",
    "    hstr = '<p style=\"color:%s; font-family:%s; font-size:%s; font-style:%s; font-weight:%s;\">%s</p>'\n",
    "    html = hstr % (color.value, family.value, size.value, style.value, weight.value, fonttext.value)\n",
    "    font_html.value = html\n",
    "\n",
    "def update_fonts(change):\n",
    "    global fontcache\n",
    "    if family.value not in fontcache:\n",
    "        fontcache.append(family.value)\n",
    "        ff = family.value.replace(' ', '+')\n",
    "        gstr = \"\"\"<style>@import url('https://fonts.googleapis.com/css?family=%s');</style>\"\"\" % ff    \n",
    "        HTML(gstr)\n",
    "    update_html('')\n",
    "\n",
    "family.observe(update_fonts, names='value')\n",
    "fonttext.observe(update_html, names='value')\n",
    "style.observe(update_html, names='value')\n",
    "weight.observe(update_html, names='value')\n",
    "color.observe(update_html, names='value')\n",
    "size.observe(update_html, names='value')\n",
    "\n",
    "update_fonts('')"
   ]
  }
 ],
 "metadata": {
  "extensions": {
   "jupyter_dashboards": {
    "activeView": "grid_default",
    "version": 1,
    "views": {
     "grid_default": {
      "cellMargin": 10,
      "defaultCellHeight": 20,
      "maxColumns": 12,
      "name": "grid",
      "type": "grid"
     },
     "report_default": {
      "name": "report",
      "type": "report"
     }
    }
   }
  },
  "kernelspec": {
   "display_name": "Python3",
   "language": "python",
   "name": "python3"
  },
  "language_info": {
   "codemirror_mode": {
    "name": "ipython",
    "version": 3
   },
   "file_extension": ".py",
   "mimetype": "text/x-python",
   "name": "python",
   "nbconvert_exporter": "python",
   "pygments_lexer": "ipython3",
   "version": "3.5.3"
  },
  "widgets": {
   "state": {
    "0cd0c2fd1df443219ddb2ef8106a524d": {
     "views": [
      {
       "cell_index": 33
      }
     ]
    },
    "0df3a7feeda449bc9445f9312f6b556a": {
     "views": [
      {
       "cell_index": 15
      }
     ]
    },
    "2944a0f093f848298dbcdcb26c7efc53": {
     "views": [
      {
       "cell_index": 25
      }
     ]
    },
    "358a5e7664c4408ebcd684d0c32055eb": {
     "views": [
      {
       "cell_index": 10
      }
     ]
    },
    "36263fc4badb4854ba0041209449c479": {
     "views": [
      {
       "cell_index": 25
      }
     ]
    },
    "3b70e566b500446dbbb35320e576fad0": {
     "views": [
      {
       "cell_index": 6
      }
     ]
    },
    "3de0f541ffba4b448ddcda3c4686a1e4": {
     "views": [
      {
       "cell_index": 34
      }
     ]
    },
    "56dfaa87c53d4e22894e15f89e93be98": {
     "views": [
      {
       "cell_index": 33
      }
     ]
    },
    "5c5f30a0a1924e978e5cf66593bb83f1": {
     "views": [
      {
       "cell_index": 4
      }
     ]
    },
    "76f4b5a2f98a41bb86a4af0ced432f95": {
     "views": [
      {
       "cell_index": 15
      }
     ]
    },
    "8daf19ee12514ebab970c4a19a0ef598": {
     "views": [
      {
       "cell_index": 32
      }
     ]
    },
    "9756baa52b7b43e7bb8c31bf53d2a3c9": {
     "views": [
      {
       "cell_index": 15
      }
     ]
    },
    "988b6e79bc2045a3ac7e4835f59db1b2": {
     "views": [
      {
       "cell_index": 35
      }
     ]
    },
    "a5303a873580422abb47eab5107dc0ac": {
     "views": [
      {
       "cell_index": 6
      }
     ]
    },
    "bbeef62326d44c2d9cf00ab40918d338": {
     "views": [
      {
       "cell_index": 7
      }
     ]
    },
    "bdf10c3ea9ae493c893204c80e67c426": {
     "views": [
      {
       "cell_index": 12
      }
     ]
    },
    "c43789f7e1a54b5c99ecba63bb8f0299": {
     "views": [
      {
       "cell_index": 21
      }
     ]
    },
    "cf4c90e3c0fe41e28018bd731c019c34": {
     "views": [
      {
       "cell_index": 3
      }
     ]
    },
    "d1fae546cd9d415fab19d4a5ac392343": {
     "views": [
      {
       "cell_index": 23
      }
     ]
    },
    "d4404812351140c595079bf3320081a5": {
     "views": [
      {
       "cell_index": 21
      }
     ]
    },
    "d4dec46d7fe34961ac2dbf58e52b20f0": {
     "views": [
      {
       "cell_index": 27
      }
     ]
    },
    "de27d67a41b54544a6e6c1ac6e7dcd79": {
     "views": [
      {
       "cell_index": 32
      }
     ]
    },
    "efff9453b1744bc4853a5483eff03c3d": {
     "views": [
      {
       "cell_index": 30
      }
     ]
    },
    "f6264794aae64dd39f9f3915ae63fe04": {
     "views": [
      {
       "cell_index": 23
      }
     ]
    }
   },
   "version": "1.2.0"
  }
 },
 "nbformat": 4,
 "nbformat_minor": 1
}
