{
 "cells": [
  {
   "cell_type": "code",
   "execution_count": null,
   "id": "828d8cc6",
   "metadata": {
    "ExecuteTime": {
     "end_time": "2023-02-24T14:28:59.118370Z",
     "start_time": "2023-02-24T14:28:56.788658Z"
    }
   },
   "outputs": [],
   "source": [
    "import nanohubremote as nr\n",
    "import pandas as pd\n",
    "import pandas as pd\n",
    "import plotly.graph_objs as go\n",
    "import os\n",
    "import numpy as np"
   ]
  },
  {
   "cell_type": "code",
   "execution_count": null,
   "id": "30fe2618",
   "metadata": {
    "ExecuteTime": {
     "end_time": "2023-02-24T14:28:59.125504Z",
     "start_time": "2023-02-24T14:28:59.120925Z"
    }
   },
   "outputs": [],
   "source": [
    "auth_data = {\n",
    "    'grant_type' : 'tool',\n",
    "}\n",
    "with open(os.environ[\"SESSIONDIR\"]+\"/resources\") as file:\n",
    "    lines = [line.split(\" \", 1) for line in file.readlines()]\n",
    "    properties = {line[0].strip(): line[1].strip() for line in lines if len(line)==2}\n",
    "    auth_data[\"sessiontoken\"] = properties[\"session_token\"]\n",
    "    auth_data[\"sessionnum\"] = properties[\"sessionid\"] "
   ]
  },
  {
   "cell_type": "code",
   "execution_count": null,
   "id": "b2c50075",
   "metadata": {
    "ExecuteTime": {
     "end_time": "2023-02-24T14:28:59.936824Z",
     "start_time": "2023-02-24T14:28:59.127893Z"
    }
   },
   "outputs": [],
   "source": [
    "import json\n",
    "session = nr.Session(auth_data)\n",
    "search = {\n",
    "    'tool':'cellrelaxdft', \n",
    "    'filters':json.dumps([\n",
    "        {'field':'input.mp_id','operation':'=','value':'mp-1009127'},\n",
    "        {'field':'output.energy','operation':'>','value':-2492.0},\n",
    "        {'field':'output.pressure','operation':'>','value':500},\n",
    "        {'field':'output.pressure','operation':'<','value':700},\n",
    "    ]),\n",
    "    'results':json.dumps([\n",
    "        'input.k_x',\n",
    "        'input.k_y',\n",
    "        'input.k_z',\n",
    "        'output.pressure',\n",
    "        'output.energy',\n",
    "        'output.lattice_vectors',\n",
    "        'output.lattice_parameters',\n",
    "    ]),\n",
    "    'simtool' : True,\n",
    "    'revision' : 49,\n",
    "}\n",
    "req_json = session.requestPost('results/dbexplorer/search', data=search)\n",
    "req_json = req_json.json()\n",
    "data = pd.DataFrame([p for p in req_json[\"results\"]])\n"
   ]
  },
  {
   "cell_type": "code",
   "execution_count": null,
   "id": "c7ab6cee",
   "metadata": {
    "ExecuteTime": {
     "end_time": "2023-02-24T14:29:00.009976Z",
     "start_time": "2023-02-24T14:28:59.938801Z"
    }
   },
   "outputs": [],
   "source": [
    "data"
   ]
  },
  {
   "cell_type": "code",
   "execution_count": null,
   "id": "e82943ec",
   "metadata": {
    "ExecuteTime": {
     "end_time": "2023-02-24T14:29:01.403928Z",
     "start_time": "2023-02-24T14:29:00.011888Z"
    }
   },
   "outputs": [],
   "source": [
    "pd.options.plotting.backend = \"plotly\"\n",
    "data.plot.scatter(x=\"output.pressure\", y=\"output.energy\")"
   ]
  },
  {
   "cell_type": "code",
   "execution_count": null,
   "id": "9eef0049",
   "metadata": {
    "ExecuteTime": {
     "end_time": "2023-02-24T14:29:02.003713Z",
     "start_time": "2023-02-24T14:29:01.406085Z"
    }
   },
   "outputs": [],
   "source": [
    "search = {\n",
    "    'tool':'pntoy', \n",
    "    'filters':json.dumps([        \n",
    "        {'field':'input.p_len','value':4,'operation':'=='},\n",
    "        {'field':'input.n_len','value':4,'operation':'=='},\n",
    "        {'field':'input.temperature','value':300,'operation':'=='},\n",
    "        {'field':'input.i_len','value':0,'operation':'=='},\n",
    "        {'field':'input.materialp','value':\"Si\",'operation':'=='},\n",
    "        {'field':'input.impurity','value':'false','operation':'=='},\n",
    "    ]),\n",
    "    'results':json.dumps([\n",
    "        'input.Na', \n",
    "        'input.Nd',\n",
    "        'output.p',\n",
    "    ]),    \n",
    "    'limit':10,    \n",
    "}\n",
    "req_json = session.requestPost('results/dbexplorer/search', data=search)\n",
    "req_json = req_json.json()\n",
    "df = pd.DataFrame(req_json['results'])\n"
   ]
  },
  {
   "cell_type": "code",
   "execution_count": null,
   "id": "c9768338",
   "metadata": {
    "ExecuteTime": {
     "end_time": "2023-02-24T14:29:02.011972Z",
     "start_time": "2023-02-24T14:29:02.005913Z"
    }
   },
   "outputs": [],
   "source": [
    "data = df.apply(lambda a : {\"x\":a['output.p']['xaxis'],\"y\":a['output.p']['yaxis'], 'name':a['squid'],'type':'scatter'}, axis=1).tolist()"
   ]
  },
  {
   "cell_type": "code",
   "execution_count": null,
   "id": "618ebf94",
   "metadata": {
    "ExecuteTime": {
     "end_time": "2023-02-24T14:29:02.171035Z",
     "start_time": "2023-02-24T14:29:02.015616Z"
    }
   },
   "outputs": [],
   "source": [
    "go.FigureWidget(data = data, layout={'yaxis':{'type':'log', 'exponentformat':\"e\"}})"
   ]
  },
  {
   "cell_type": "code",
   "execution_count": null,
   "id": "42701e99",
   "metadata": {
    "ExecuteTime": {
     "end_time": "2023-02-16T14:38:12.492821Z",
     "start_time": "2023-02-16T14:38:12.487469Z"
    }
   },
   "outputs": [],
   "source": []
  },
  {
   "cell_type": "code",
   "execution_count": null,
   "id": "56cd6356",
   "metadata": {},
   "outputs": [],
   "source": []
  }
 ],
 "metadata": {
  "kernelspec": {
   "display_name": "Python 3 (ipykernel)",
   "language": "python",
   "name": "python3"
  },
  "language_info": {
   "codemirror_mode": {
    "name": "ipython",
    "version": 3
   },
   "file_extension": ".py",
   "mimetype": "text/x-python",
   "name": "python",
   "nbconvert_exporter": "python",
   "pygments_lexer": "ipython3",
   "version": "3.8.10"
  },
  "toc": {
   "base_numbering": 1,
   "nav_menu": {},
   "number_sections": true,
   "sideBar": true,
   "skip_h1_title": false,
   "title_cell": "Table of Contents",
   "title_sidebar": "Contents",
   "toc_cell": false,
   "toc_position": {},
   "toc_section_display": true,
   "toc_window_display": false
  },
  "varInspector": {
   "cols": {
    "lenName": 16,
    "lenType": 16,
    "lenVar": 40
   },
   "kernels_config": {
    "python": {
     "delete_cmd_postfix": "",
     "delete_cmd_prefix": "del ",
     "library": "var_list.py",
     "varRefreshCmd": "print(var_dic_list())"
    },
    "r": {
     "delete_cmd_postfix": ") ",
     "delete_cmd_prefix": "rm(",
     "library": "var_list.r",
     "varRefreshCmd": "cat(var_dic_list()) "
    }
   },
   "types_to_exclude": [
    "module",
    "function",
    "builtin_function_or_method",
    "instance",
    "_Feature"
   ],
   "window_display": false
  }
 },
 "nbformat": 4,
 "nbformat_minor": 5
}
