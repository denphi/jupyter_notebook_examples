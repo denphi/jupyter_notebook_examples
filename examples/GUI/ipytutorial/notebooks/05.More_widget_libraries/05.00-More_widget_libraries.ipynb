{
 "cells": [
  {
   "cell_type": "markdown",
   "id": "63d81663",
   "metadata": {
    "ExecuteTime": {
     "end_time": "2023-01-26T17:45:27.736787Z",
     "start_time": "2023-01-26T17:45:27.733618Z"
    }
   },
   "source": [
    "# FigureWidget\n",
    "\n",
    "Documentation: https://plotly.com/python/figurewidget/\n",
    "\n",
    "Plotly's Python graphing library makes interactive, publication-quality graphs\n"
   ]
  },
  {
   "cell_type": "code",
   "execution_count": 1,
   "id": "2622c60a",
   "metadata": {
    "ExecuteTime": {
     "end_time": "2023-01-26T18:55:57.290726Z",
     "start_time": "2023-01-26T18:55:56.500422Z"
    }
   },
   "outputs": [
    {
     "data": {
      "application/vnd.jupyter.widget-view+json": {
       "model_id": "bdb48e87ead041e4983022b2d9f88153",
       "version_major": 2,
       "version_minor": 0
      },
      "text/plain": [
       "FigureWidget({\n",
       "    'data': [], 'layout': {'template': '...'}\n",
       "})"
      ]
     },
     "metadata": {},
     "output_type": "display_data"
    }
   ],
   "source": [
    "import plotly.graph_objects as go\n",
    "\n",
    "f = go.FigureWidget()\n",
    "f"
   ]
  },
  {
   "cell_type": "code",
   "execution_count": 2,
   "id": "863e48d0",
   "metadata": {
    "ExecuteTime": {
     "end_time": "2023-01-26T18:55:57.307446Z",
     "start_time": "2023-01-26T18:55:57.293656Z"
    }
   },
   "outputs": [],
   "source": [
    "f.add_scatter(y=[2, 1, 4, 3]);"
   ]
  },
  {
   "cell_type": "code",
   "execution_count": 3,
   "id": "3bbb1a41",
   "metadata": {
    "ExecuteTime": {
     "end_time": "2023-01-26T18:55:57.322275Z",
     "start_time": "2023-01-26T18:55:57.310732Z"
    }
   },
   "outputs": [],
   "source": [
    "f.add_bar(y=[1, 4, 3, 2]);"
   ]
  },
  {
   "cell_type": "code",
   "execution_count": 4,
   "id": "d07042eb",
   "metadata": {
    "ExecuteTime": {
     "end_time": "2023-01-26T18:55:57.334559Z",
     "start_time": "2023-01-26T18:55:57.325411Z"
    }
   },
   "outputs": [],
   "source": [
    "f.layout.title = 'Hello FigureWidget'"
   ]
  },
  {
   "cell_type": "markdown",
   "id": "bd612b1b",
   "metadata": {
    "ExecuteTime": {
     "end_time": "2023-01-26T17:49:31.691772Z",
     "start_time": "2023-01-26T17:49:31.320935Z"
    }
   },
   "source": [
    "# NGLView\n",
    "\n",
    "Documentation: https://github.com/nglviewer/nglview\n",
    "\n",
    "An IPython/Jupyter widget to interactively view molecular structures and trajectories. Utilizes the embeddable NGL Viewer for rendering"
   ]
  },
  {
   "cell_type": "code",
   "execution_count": 5,
   "id": "117de896",
   "metadata": {
    "ExecuteTime": {
     "end_time": "2023-01-26T18:55:57.567947Z",
     "start_time": "2023-01-26T18:55:57.337681Z"
    }
   },
   "outputs": [
    {
     "data": {
      "application/vnd.jupyter.widget-view+json": {
       "model_id": "ff70ca18507f4a2f82eff5936e973d59",
       "version_major": 2,
       "version_minor": 0
      },
      "text/plain": []
     },
     "metadata": {},
     "output_type": "display_data"
    },
    {
     "data": {
      "application/vnd.jupyter.widget-view+json": {
       "model_id": "62f58aa288a243bbaec8421afb037a9f",
       "version_major": 2,
       "version_minor": 0
      },
      "text/plain": [
       "NGLWidget()"
      ]
     },
     "metadata": {},
     "output_type": "display_data"
    }
   ],
   "source": [
    "import nglview\n",
    "view = nglview.show_pdbid(\"3pqr\")\n",
    "view"
   ]
  },
  {
   "cell_type": "code",
   "execution_count": 6,
   "id": "fc7a5799",
   "metadata": {
    "ExecuteTime": {
     "end_time": "2023-01-26T18:55:57.600053Z",
     "start_time": "2023-01-26T18:55:57.589495Z"
    }
   },
   "outputs": [],
   "source": [
    "view.add_representation('cartoon', selection='protein')"
   ]
  },
  {
   "cell_type": "code",
   "execution_count": 7,
   "id": "4ade9ecf",
   "metadata": {
    "ExecuteTime": {
     "end_time": "2023-01-26T18:55:57.625918Z",
     "start_time": "2023-01-26T18:55:57.603886Z"
    }
   },
   "outputs": [],
   "source": [
    "view.add_cartoon(selection=\"protein\")\n",
    "view.add_surface(selection=\"protein\", opacity=0.3)"
   ]
  },
  {
   "cell_type": "markdown",
   "id": "ca171a86",
   "metadata": {},
   "source": [
    "# ipyspeck\n",
    "\n",
    "Documentation: https://github.com/denphi/speck/tree/master/widget/ipyspeck\n",
    "\n",
    "Speck is a molecule renderer with the goal of producing figures that are as attractive as they are practical. Express your molecule clearly and with style"
   ]
  },
  {
   "cell_type": "code",
   "execution_count": 8,
   "id": "00bfb3e4",
   "metadata": {
    "ExecuteTime": {
     "end_time": "2023-01-26T18:55:59.210551Z",
     "start_time": "2023-01-26T18:55:57.629615Z"
    }
   },
   "outputs": [
    {
     "data": {
      "application/vnd.jupyter.widget-view+json": {
       "model_id": "1b577bbb4c924f83b88e0de1aa791d92",
       "version_major": 2,
       "version_minor": 0
      },
      "text/plain": [
       "Speck(data='2904\\n\\nN        -68.36900      -25.33700       40.42800\\nC        -67.92700      -23.98400       …"
      ]
     },
     "metadata": {},
     "output_type": "display_data"
    }
   ],
   "source": [
    "from openbabel import openbabel\n",
    "import requests\n",
    "import ipyspeck\n",
    "url = \"https://files.rcsb.org/download/3PQR.pdb\"\n",
    "r = requests.get(url)\n",
    "obConversion = openbabel.OBConversion()\n",
    "obConversion.SetInAndOutFormats(\"pdb\", \"xyz\")\n",
    "mol = openbabel.OBMol()\n",
    "obConversion.ReadString(mol, r.text)\n",
    "co2 = obConversion.WriteString(mol)\n",
    "co = ipyspeck.speck.Speck(data=co2)\n",
    "co\n"
   ]
  },
  {
   "cell_type": "markdown",
   "id": "b5eff331",
   "metadata": {
    "ExecuteTime": {
     "end_time": "2023-01-26T17:57:29.278213Z",
     "start_time": "2023-01-26T17:57:13.772962Z"
    }
   },
   "source": [
    "# bqplot\n",
    "\n",
    "bqplot is a 2-D visualization system for Jupyter, based on the constructs of the Grammar of Graphics.\n",
    "\n",
    "Documentation: https://bqplot.readthedocs.io/en/latest/"
   ]
  },
  {
   "cell_type": "code",
   "execution_count": 10,
   "id": "8e31d2f9",
   "metadata": {
    "ExecuteTime": {
     "end_time": "2023-01-26T18:56:22.598196Z",
     "start_time": "2023-01-26T18:56:22.520044Z"
    }
   },
   "outputs": [
    {
     "data": {
      "application/vnd.jupyter.widget-view+json": {
       "model_id": "d0b75f172df1488385e9f2d9bf17c583",
       "version_major": 2,
       "version_minor": 0
      },
      "text/plain": [
       "VBox(children=(Figure(axes=[Axis(scale=LinearScale()), Axis(orientation='vertical', scale=LinearScale())], fig…"
      ]
     },
     "metadata": {},
     "output_type": "display_data"
    }
   ],
   "source": [
    "from bqplot import pyplot as plt\n",
    "import numpy as np\n",
    "\n",
    "# And creating some random data\n",
    "size = 100\n",
    "np.random.seed(0)\n",
    "x_data = np.arange(size)\n",
    "y_data = np.cumsum(np.random.randn(size) * 100.0)\n",
    "\n",
    "\n",
    "plt.figure(title=\"My First Plot\")\n",
    "plt.plot(x_data, y_data)\n",
    "plt.show()\n",
    "\n"
   ]
  },
  {
   "cell_type": "markdown",
   "id": "45a81b3b",
   "metadata": {
    "ExecuteTime": {
     "end_time": "2023-01-26T18:10:09.316644Z",
     "start_time": "2023-01-26T18:10:09.070083Z"
    }
   },
   "source": [
    "# ipycanvas\n",
    "\n",
    "Interactive Canvas in Jupyter\n",
    "\n",
    "Documentation : https://ipycanvas.readthedocs.io/en/latest/"
   ]
  },
  {
   "cell_type": "code",
   "execution_count": 11,
   "id": "0a907855",
   "metadata": {
    "ExecuteTime": {
     "end_time": "2023-01-26T18:56:23.869688Z",
     "start_time": "2023-01-26T18:56:23.826171Z"
    }
   },
   "outputs": [
    {
     "data": {
      "application/vnd.jupyter.widget-view+json": {
       "model_id": "b5ed4d03ae6940b6b93099333254491a",
       "version_major": 2,
       "version_minor": 0
      },
      "text/plain": [
       "Canvas(height=200, width=200)"
      ]
     },
     "metadata": {},
     "output_type": "display_data"
    }
   ],
   "source": [
    "from ipycanvas import Canvas\n",
    "\n",
    "canvas = Canvas(width=200, height=200)\n",
    "\n",
    "canvas.fill_rect(25, 25, 100, 100)\n",
    "canvas.clear_rect(45, 45, 60, 60)\n",
    "canvas.stroke_rect(50, 50, 50, 50)\n",
    "\n",
    "canvas"
   ]
  },
  {
   "cell_type": "markdown",
   "id": "0a2280b7",
   "metadata": {
    "ExecuteTime": {
     "end_time": "2023-01-26T18:19:09.537971Z",
     "start_time": "2023-01-26T18:19:09.534933Z"
    }
   },
   "source": [
    "# pythreejs\n",
    "\n",
    "A Python / ThreeJS bridge for Jupyter Widgets.\n",
    "\n",
    "Documentation: https://pythreejs.readthedocs.io/en/stable/"
   ]
  },
  {
   "cell_type": "code",
   "execution_count": 12,
   "id": "72d2b12b",
   "metadata": {
    "ExecuteTime": {
     "end_time": "2023-01-26T18:56:25.834900Z",
     "start_time": "2023-01-26T18:56:25.022407Z"
    }
   },
   "outputs": [
    {
     "data": {
      "application/vnd.jupyter.widget-view+json": {
       "model_id": "pythree_example_model_009",
       "version_major": 2,
       "version_minor": 0
      },
      "text/plain": [
       "Renderer(camera=PerspectiveCamera(children=(DirectionalLight(color='white', intensity=0.5, position=(3.0, 5.0,…"
      ]
     },
     "metadata": {},
     "output_type": "display_data"
    }
   ],
   "source": [
    "from pythreejs import *\n",
    "from IPython.display import display\n",
    "from math import pi\n",
    "\n",
    "\n",
    "# Reduce repo churn for examples with embedded state:\n",
    "from pythreejs._example_helper import use_example_model_ids\n",
    "use_example_model_ids()\n",
    "\n",
    "\n",
    "ball = Mesh(geometry=SphereGeometry(),\n",
    "            material=MeshLambertMaterial(color='red'))\n",
    "key_light = DirectionalLight(color='white', position=[3, 5, 1], intensity=0.5)\n",
    "\n",
    "c = PerspectiveCamera(position=[0, 5, 5], up=[0, 1, 0], children=[key_light])\n",
    "\n",
    "scene = Scene(children=[ball, c, AmbientLight(color='#777777')], background=None)\n",
    "\n",
    "renderer = Renderer(camera=c,\n",
    "                    scene=scene,\n",
    "                    alpha=True,\n",
    "                    clearOpacity=0,\n",
    "                    controls=[OrbitControls(controlling=c)])\n",
    "renderer\n",
    "\n"
   ]
  },
  {
   "cell_type": "markdown",
   "id": "fcb15197",
   "metadata": {
    "ExecuteTime": {
     "end_time": "2023-01-26T18:19:11.172276Z",
     "start_time": "2023-01-26T18:19:11.159248Z"
    }
   },
   "source": [
    "# itkwidgets\n",
    "\n",
    "Interactive widgets to visualize images, point sets, and 3D geometry on the web.\n",
    "\n",
    "Documentation:https://itkwidgets.readthedocs.io/en/latest"
   ]
  },
  {
   "cell_type": "code",
   "execution_count": 13,
   "id": "bcfc2157",
   "metadata": {
    "ExecuteTime": {
     "end_time": "2023-01-26T18:56:58.967618Z",
     "start_time": "2023-01-26T18:56:45.060249Z"
    }
   },
   "outputs": [
    {
     "data": {
      "application/vnd.jupyter.widget-view+json": {
       "model_id": "pythree_example_model_012",
       "version_major": 2,
       "version_minor": 0
      },
      "text/plain": [
       "Viewer(geometries=[], gradient_opacity=0.22, point_set_colors=array([[0.8392157, 0.       , 0.       ]], dtype…"
      ]
     },
     "metadata": {},
     "output_type": "display_data"
    }
   ],
   "source": [
    "from itkwidgets import view\n",
    "number_of_points = 3000\n",
    "gaussian_mean = [0.0, 0.0, 0.0]\n",
    "gaussian_cov = [[1.0, 0.0, 0.0], [0.0, 2.0, 0.0], [0.0, 0.0, 0.5]]\n",
    "point_set = np.random.multivariate_normal(gaussian_mean, gaussian_cov, number_of_points)\n",
    "view(point_sets=point_set)"
   ]
  },
  {
   "cell_type": "markdown",
   "id": "db60e5bb",
   "metadata": {
    "ExecuteTime": {
     "end_time": "2023-01-26T18:38:52.795228Z",
     "start_time": "2023-01-26T18:36:55.412946Z"
    },
    "scrolled": false
   },
   "source": [
    "# imolecule\n",
    "\n",
    "An embeddable webGL molecule viewer and file format converter.\n",
    "\n",
    "Documentation: http://patrickfuller.github.io/imolecule/"
   ]
  },
  {
   "cell_type": "code",
   "execution_count": 14,
   "id": "9a650c0f",
   "metadata": {
    "ExecuteTime": {
     "end_time": "2023-01-26T18:57:40.753429Z",
     "start_time": "2023-01-26T18:57:40.046909Z"
    }
   },
   "outputs": [
    {
     "data": {
      "text/html": [
       "<div id=\"molecule_af1862bc-9edc-4530-86a5-f2e97875218a\"></div>\n",
       "           <script type=\"text/javascript\">\n",
       "           require.config({baseUrl: '/',\n",
       "                           paths: {\n",
       "                           jquery: 'https://cdnjs.cloudflare.com/ajax/libs/jquery/3.6.0/jquery.min',\n",
       "                           imolecule: ['nbextensions/imolecule.min', 'https://rawgit.com/patrickfuller/imolecule/master/imolecule/js/build/imolecule.min']}});\n",
       "           require(['imolecule'], function () {\n",
       "               var $d = $('#molecule_af1862bc-9edc-4530-86a5-f2e97875218a');\n",
       "               $d.width(400); $d.height(300);\n",
       "               $d.imolecule = jQuery.extend({}, imolecule);\n",
       "               $d.imolecule.create($d, {drawingType: 'ball and stick',\n",
       "                                        cameraType: 'perspective',\n",
       "                                        shader: 'lambert',\n",
       "                                        showSave: false});\n",
       "               $d.imolecule.addElements({});\n",
       "               $d.imolecule.draw({\"atoms\":[{\"charge\":-0.04838,\"element\":\"C\",\"location\":[-4.72507,-1.41793,0.1191]},{\"charge\":0.04172,\"element\":\"C\",\"location\":[-3.22297,-1.44063,0.04643]},{\"charge\":0.13794,\"element\":\"C\",\"location\":[-2.52639,-2.60848,-0.67737]},{\"charge\":-0.27081,\"element\":\"N\",\"location\":[-1.1359,-2.0451,-0.71395]},{\"charge\":0.10052,\"element\":\"C\",\"location\":[-1.01907,-0.5377,-0.65897]},{\"charge\":-0.12729,\"element\":\"S\",\"location\":[-2.69015,-0.00923,-1.03065]},{\"charge\":0.1277,\"element\":\"C\",\"location\":[0.15789,-0.68079,-1.59404]},{\"charge\":0.24021,\"element\":\"C\",\"location\":[-0.30277,-2.12068,-1.80363]},{\"charge\":-0.27341,\"element\":\"O\",\"location\":[0.03388,-2.98445,-2.55429]},{\"charge\":-0.30149,\"element\":\"N\",\"location\":[1.47656,-0.64256,-0.86874]},{\"charge\":0.218,\"element\":\"C\",\"location\":[1.83129,0.53933,-0.28512]},{\"charge\":-0.27544,\"element\":\"O\",\"location\":[1.05867,1.49286,-0.37226]},{\"charge\":0.0491,\"element\":\"C\",\"location\":[3.18797,0.56052,0.41326]},{\"charge\":-0.03863,\"element\":\"C\",\"location\":[3.61745,1.97065,0.75171]},{\"charge\":-0.05811,\"element\":\"C\",\"location\":[4.28679,2.26658,1.94115]},{\"charge\":-0.06149,\"element\":\"C\",\"location\":[4.43849,3.60033,2.33103]},{\"charge\":-0.06174,\"element\":\"C\",\"location\":[4.00606,4.63814,1.50218]},{\"charge\":-0.06149,\"element\":\"C\",\"location\":[3.41428,4.35062,0.28236]},{\"charge\":-0.05811,\"element\":\"C\",\"location\":[3.26797,3.02878,-0.10513]},{\"charge\":0.32685,\"element\":\"C\",\"location\":[-3.09532,-3.00866,-2.09442]},{\"charge\":-0.24885,\"element\":\"O\",\"location\":[-2.40692,-3.31392,-3.05685]},{\"charge\":-0.47929,\"element\":\"O\",\"location\":[-4.42579,-3.13073,-2.25689]},{\"charge\":-0.04838,\"element\":\"C\",\"location\":[-2.64076,-1.30937,1.50222]},{\"charge\":0.02436,\"element\":\"H\",\"location\":[-5.17799,-1.34422,-0.86952]},{\"charge\":0.02436,\"element\":\"H\",\"location\":[-5.06581,-0.52956,0.65696]},{\"charge\":0.02436,\"element\":\"H\",\"location\":[-5.09257,-2.3103,0.6342]},{\"charge\":0.06306,\"element\":\"H\",\"location\":[-2.53971,-3.51253,-0.04922]},{\"charge\":0.06403,\"element\":\"H\",\"location\":[-0.73292,-0.04995,0.27785]},{\"charge\":0.06222,\"element\":\"H\",\"location\":[0.13113,-0.03739,-2.47141]},{\"charge\":0.14954,\"element\":\"H\",\"location\":[1.8737,-1.50845,-0.51218]},{\"charge\":0.04069,\"element\":\"H\",\"location\":[3.93809,0.08955,-0.2311]},{\"charge\":0.04069,\"element\":\"H\",\"location\":[3.0914,-0.03921,1.32871]},{\"charge\":0.06204,\"element\":\"H\",\"location\":[4.66362,1.4758,2.58542]},{\"charge\":0.06177,\"element\":\"H\",\"location\":[4.86513,3.83727,3.30132]},{\"charge\":0.06176,\"element\":\"H\",\"location\":[4.13433,5.6733,1.80043]},{\"charge\":0.06177,\"element\":\"H\",\"location\":[3.02513,5.13514,-0.35949]},{\"charge\":0.06204,\"element\":\"H\",\"location\":[2.78364,2.83632,-1.06107]},{\"charge\":0.29511,\"element\":\"H\",\"location\":[-5.04403,-3.05453,-1.51862]},{\"charge\":0.02436,\"element\":\"H\",\"location\":[-2.95834,-2.14705,2.13009]},{\"charge\":0.02436,\"element\":\"H\",\"location\":[-2.93716,-0.36447,1.96546]},{\"charge\":0.02436,\"element\":\"H\",\"location\":[-1.54379,-1.34729,1.57503]}],\"bonds\":[{\"atoms\":[0,1],\"order\":1},{\"atoms\":[1,2],\"order\":1},{\"atoms\":[2,3],\"order\":1},{\"atoms\":[3,4],\"order\":1},{\"atoms\":[4,5],\"order\":1},{\"atoms\":[1,5],\"order\":1},{\"atoms\":[4,6],\"order\":1},{\"atoms\":[6,7],\"order\":1},{\"atoms\":[3,7],\"order\":1},{\"atoms\":[7,8],\"order\":2},{\"atoms\":[6,9],\"order\":1},{\"atoms\":[9,10],\"order\":1},{\"atoms\":[10,11],\"order\":2},{\"atoms\":[10,12],\"order\":1},{\"atoms\":[12,13],\"order\":1},{\"atoms\":[13,14],\"order\":2},{\"atoms\":[14,15],\"order\":1},{\"atoms\":[15,16],\"order\":2},{\"atoms\":[16,17],\"order\":1},{\"atoms\":[17,18],\"order\":2},{\"atoms\":[13,18],\"order\":1},{\"atoms\":[2,19],\"order\":1},{\"atoms\":[19,20],\"order\":2},{\"atoms\":[19,21],\"order\":1},{\"atoms\":[1,22],\"order\":1},{\"atoms\":[0,23],\"order\":1},{\"atoms\":[0,24],\"order\":1},{\"atoms\":[0,25],\"order\":1},{\"atoms\":[2,26],\"order\":1},{\"atoms\":[4,27],\"order\":1},{\"atoms\":[6,28],\"order\":1},{\"atoms\":[9,29],\"order\":1},{\"atoms\":[12,30],\"order\":1},{\"atoms\":[12,31],\"order\":1},{\"atoms\":[14,32],\"order\":1},{\"atoms\":[15,33],\"order\":1},{\"atoms\":[16,34],\"order\":1},{\"atoms\":[17,35],\"order\":1},{\"atoms\":[18,36],\"order\":1},{\"atoms\":[21,37],\"order\":1},{\"atoms\":[22,38],\"order\":1},{\"atoms\":[22,39],\"order\":1},{\"atoms\":[22,40],\"order\":1}],\"formula\":\"C16H18N2O4S\",\"molecular_weight\":334.39012,\"units\":{\"molecular_weight\":\"g / mol\"}});\n",
       "\n",
       "               $d.resizable({\n",
       "                   aspectRatio: 400 / 300,\n",
       "                   resize: function (evt, ui) {\n",
       "                       $d.imolecule.renderer.setSize(ui.size.width,\n",
       "                                                     ui.size.height);\n",
       "                   }\n",
       "               });\n",
       "           });\n",
       "           </script>"
      ],
      "text/plain": [
       "<IPython.core.display.HTML object>"
      ]
     },
     "metadata": {},
     "output_type": "display_data"
    }
   ],
   "source": [
    "import imolecule\n",
    "imolecule.draw(\"CC1(C(N2C(S1)C(C2=O)NC(=O)CC3=CC=CC=C3)C(=O)O)C\")\n"
   ]
  },
  {
   "cell_type": "code",
   "execution_count": null,
   "id": "5a9fa976",
   "metadata": {},
   "outputs": [],
   "source": []
  }
 ],
 "metadata": {
  "kernelspec": {
   "display_name": "Python 3 (ipykernel)",
   "language": "python",
   "name": "python3"
  },
  "language_info": {
   "codemirror_mode": {
    "name": "ipython",
    "version": 3
   },
   "file_extension": ".py",
   "mimetype": "text/x-python",
   "name": "python",
   "nbconvert_exporter": "python",
   "pygments_lexer": "ipython3",
   "version": "3.8.10"
  },
  "toc": {
   "base_numbering": 1,
   "nav_menu": {},
   "number_sections": true,
   "sideBar": true,
   "skip_h1_title": false,
   "title_cell": "Table of Contents",
   "title_sidebar": "Contents",
   "toc_cell": false,
   "toc_position": {},
   "toc_section_display": true,
   "toc_window_display": false
  },
  "varInspector": {
   "cols": {
    "lenName": 16,
    "lenType": 16,
    "lenVar": 40
   },
   "kernels_config": {
    "python": {
     "delete_cmd_postfix": "",
     "delete_cmd_prefix": "del ",
     "library": "var_list.py",
     "varRefreshCmd": "print(var_dic_list())"
    },
    "r": {
     "delete_cmd_postfix": ") ",
     "delete_cmd_prefix": "rm(",
     "library": "var_list.r",
     "varRefreshCmd": "cat(var_dic_list()) "
    }
   },
   "types_to_exclude": [
    "module",
    "function",
    "builtin_function_or_method",
    "instance",
    "_Feature"
   ],
   "window_display": false
  }
 },
 "nbformat": 4,
 "nbformat_minor": 5
}
