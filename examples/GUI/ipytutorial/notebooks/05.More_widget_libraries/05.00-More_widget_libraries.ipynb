{
 "cells": [
  {
   "cell_type": "markdown",
   "id": "63d81663",
   "metadata": {
    "ExecuteTime": {
     "end_time": "2023-01-26T17:45:27.736787Z",
     "start_time": "2023-01-26T17:45:27.733618Z"
    }
   },
   "source": [
    "# FigureWidget\n",
    "\n",
    "Documentation: https://plotly.com/python/figurewidget/\n",
    "\n",
    "Plotly's Python graphing library makes interactive, publication-quality graphs\n"
   ]
  },
  {
   "cell_type": "code",
   "execution_count": null,
   "id": "2622c60a",
   "metadata": {
    "ExecuteTime": {
     "end_time": "2023-02-24T15:22:59.674280Z",
     "start_time": "2023-02-24T15:22:58.909432Z"
    }
   },
   "outputs": [],
   "source": [
    "import plotly.graph_objects as go\n",
    "\n",
    "f = go.FigureWidget()\n",
    "f"
   ]
  },
  {
   "cell_type": "code",
   "execution_count": null,
   "id": "863e48d0",
   "metadata": {
    "ExecuteTime": {
     "end_time": "2023-02-24T15:22:59.683965Z",
     "start_time": "2023-02-24T15:22:59.676556Z"
    }
   },
   "outputs": [],
   "source": [
    "f.add_scatter(y=[2, 1, 4, 3]);"
   ]
  },
  {
   "cell_type": "code",
   "execution_count": null,
   "id": "3bbb1a41",
   "metadata": {
    "ExecuteTime": {
     "end_time": "2023-02-24T15:22:59.724654Z",
     "start_time": "2023-02-24T15:22:59.685962Z"
    }
   },
   "outputs": [],
   "source": [
    "f.add_bar(y=[1, 4, 3, 2]);"
   ]
  },
  {
   "cell_type": "code",
   "execution_count": null,
   "id": "d07042eb",
   "metadata": {
    "ExecuteTime": {
     "end_time": "2023-02-24T15:22:59.731378Z",
     "start_time": "2023-02-24T15:22:59.726390Z"
    }
   },
   "outputs": [],
   "source": [
    "f.layout.title = 'Hello FigureWidget'"
   ]
  },
  {
   "cell_type": "markdown",
   "id": "bd612b1b",
   "metadata": {
    "ExecuteTime": {
     "end_time": "2023-01-26T17:49:31.691772Z",
     "start_time": "2023-01-26T17:49:31.320935Z"
    }
   },
   "source": [
    "# NGLView\n",
    "\n",
    "Documentation: https://github.com/nglviewer/nglview\n",
    "\n",
    "An IPython/Jupyter widget to interactively view molecular structures and trajectories. Utilizes the embeddable NGL Viewer for rendering"
   ]
  },
  {
   "cell_type": "code",
   "execution_count": null,
   "id": "117de896",
   "metadata": {
    "ExecuteTime": {
     "end_time": "2023-02-24T15:23:00.003786Z",
     "start_time": "2023-02-24T15:22:59.733140Z"
    }
   },
   "outputs": [],
   "source": [
    "import nglview\n",
    "view = nglview.show_pdbid(\"3pqr\")\n",
    "view"
   ]
  },
  {
   "cell_type": "code",
   "execution_count": null,
   "id": "fc7a5799",
   "metadata": {
    "ExecuteTime": {
     "end_time": "2023-02-24T15:23:00.014997Z",
     "start_time": "2023-02-24T15:23:00.007763Z"
    }
   },
   "outputs": [],
   "source": [
    "view.add_representation('cartoon', selection='protein')"
   ]
  },
  {
   "cell_type": "code",
   "execution_count": null,
   "id": "4ade9ecf",
   "metadata": {
    "ExecuteTime": {
     "end_time": "2023-02-24T15:23:00.031730Z",
     "start_time": "2023-02-24T15:23:00.017376Z"
    }
   },
   "outputs": [],
   "source": [
    "view.add_cartoon(selection=\"protein\")\n",
    "view.add_surface(selection=\"protein\", opacity=0.3)"
   ]
  },
  {
   "cell_type": "markdown",
   "id": "ca171a86",
   "metadata": {},
   "source": [
    "# ipyspeck\n",
    "\n",
    "Documentation: https://github.com/denphi/speck/tree/master/widget/ipyspeck\n",
    "\n",
    "Speck is a molecule renderer with the goal of producing figures that are as attractive as they are practical. Express your molecule clearly and with style"
   ]
  },
  {
   "cell_type": "code",
   "execution_count": null,
   "id": "00bfb3e4",
   "metadata": {
    "ExecuteTime": {
     "end_time": "2023-02-24T15:23:02.385077Z",
     "start_time": "2023-02-24T15:23:00.033579Z"
    }
   },
   "outputs": [],
   "source": [
    "from openbabel import openbabel\n",
    "import ipywidgets as w\n",
    "import requests\n",
    "import ipyspeck\n",
    "url = \"https://files.rcsb.org/download/3PQR.pdb\"\n",
    "r = requests.get(url)\n",
    "obConversion = openbabel.OBConversion()\n",
    "obConversion.SetInAndOutFormats(\"pdb\", \"xyz\")\n",
    "mol = openbabel.OBMol()\n",
    "obConversion.ReadString(mol, r.text)\n",
    "co2 = obConversion.WriteString(mol)\n",
    "co = ipyspeck.speck.Speck(data=co2)\n",
    "w.VBox([co], layout=w.Layout(width=\"600px\", height=\"600px\"))\n"
   ]
  },
  {
   "cell_type": "code",
   "execution_count": null,
   "id": "6d41a439",
   "metadata": {
    "ExecuteTime": {
     "end_time": "2023-02-24T15:23:02.389592Z",
     "start_time": "2023-02-24T15:23:02.386936Z"
    }
   },
   "outputs": [],
   "source": [
    "co.atomScale = 1.5"
   ]
  },
  {
   "cell_type": "markdown",
   "id": "b5eff331",
   "metadata": {
    "ExecuteTime": {
     "end_time": "2023-01-26T17:57:29.278213Z",
     "start_time": "2023-01-26T17:57:13.772962Z"
    }
   },
   "source": [
    "# bqplot\n",
    "\n",
    "bqplot is a 2-D visualization system for Jupyter, based on the constructs of the Grammar of Graphics.\n",
    "\n",
    "Documentation: https://bqplot.readthedocs.io/en/latest/"
   ]
  },
  {
   "cell_type": "code",
   "execution_count": null,
   "id": "8e31d2f9",
   "metadata": {
    "ExecuteTime": {
     "end_time": "2023-02-24T15:23:02.881088Z",
     "start_time": "2023-02-24T15:23:02.391408Z"
    }
   },
   "outputs": [],
   "source": [
    "import bqplot as bq\n",
    "import numpy as np\n",
    "\n",
    "x = np.linspace(-10, 10, 100)\n",
    "y = np.sin(x)\n",
    "\n",
    "# 1. Create the scales\n",
    "xs = bq.LinearScale()\n",
    "ys = bq.LinearScale()\n",
    "\n",
    "# 2. Create the axes for x and y\n",
    "xax = bq.Axis(scale=xs, label=\"X\")\n",
    "yax = bq.Axis(scale=ys, orientation=\"vertical\", label=\"Y\")\n",
    "\n",
    "# 3. Create a Lines mark by passing in the scales\n",
    "line = bq.Lines(x=x, y=y, scales={\"x\": xs, \"y\": ys})\n",
    "\n",
    "# 4. Create a Figure object by assembling marks and axes\n",
    "fig = bq.Figure(marks=[line], axes=[xax, yax], title=\"Line Chart\")\n",
    "\n",
    "# 5. Render the figure using display or just as is\n",
    "fig\n"
   ]
  },
  {
   "cell_type": "code",
   "execution_count": null,
   "id": "b31e6b70",
   "metadata": {
    "ExecuteTime": {
     "end_time": "2023-02-24T15:23:02.885732Z",
     "start_time": "2023-02-24T15:23:02.883078Z"
    }
   },
   "outputs": [],
   "source": [
    "fig.title = \"Sin\""
   ]
  },
  {
   "cell_type": "markdown",
   "id": "45a81b3b",
   "metadata": {
    "ExecuteTime": {
     "end_time": "2023-01-26T18:10:09.316644Z",
     "start_time": "2023-01-26T18:10:09.070083Z"
    }
   },
   "source": [
    "# ipycanvas\n",
    "\n",
    "Interactive Canvas in Jupyter\n",
    "\n",
    "Documentation : https://ipycanvas.readthedocs.io/en/latest/"
   ]
  },
  {
   "cell_type": "code",
   "execution_count": null,
   "id": "0a907855",
   "metadata": {
    "ExecuteTime": {
     "end_time": "2023-02-24T15:23:02.937602Z",
     "start_time": "2023-02-24T15:23:02.887484Z"
    }
   },
   "outputs": [],
   "source": [
    "from ipycanvas import Canvas\n",
    "\n",
    "canvas = Canvas(width=200, height=200)\n",
    "\n",
    "canvas.fill_rect(25, 25, 100, 100)\n",
    "canvas.clear_rect(45, 45, 60, 60)\n",
    "canvas.stroke_rect(50, 50, 50, 50)\n",
    "\n",
    "canvas"
   ]
  },
  {
   "cell_type": "markdown",
   "id": "0a2280b7",
   "metadata": {
    "ExecuteTime": {
     "end_time": "2023-01-26T18:19:09.537971Z",
     "start_time": "2023-01-26T18:19:09.534933Z"
    }
   },
   "source": [
    "# pythreejs\n",
    "\n",
    "A Python / ThreeJS bridge for Jupyter Widgets.\n",
    "\n",
    "Documentation: https://pythreejs.readthedocs.io/en/stable/"
   ]
  },
  {
   "cell_type": "code",
   "execution_count": null,
   "id": "72d2b12b",
   "metadata": {
    "ExecuteTime": {
     "end_time": "2023-02-24T15:23:03.698892Z",
     "start_time": "2023-02-24T15:23:02.939488Z"
    }
   },
   "outputs": [],
   "source": [
    "from pythreejs import *\n",
    "from IPython.display import display\n",
    "from math import pi\n",
    "\n",
    "\n",
    "# Reduce repo churn for examples with embedded state:\n",
    "from pythreejs._example_helper import use_example_model_ids\n",
    "use_example_model_ids()\n",
    "\n",
    "\n",
    "ball = Mesh(geometry=SphereGeometry(),\n",
    "            material=MeshLambertMaterial(color='red'))\n",
    "key_light = DirectionalLight(color='white', position=[3, 5, 1], intensity=0.5)\n",
    "\n",
    "c = PerspectiveCamera(position=[0, 5, 5], up=[0, 1, 0], children=[key_light])\n",
    "\n",
    "scene = Scene(children=[ball, c, AmbientLight(color='#777777')], background=None)\n",
    "\n",
    "renderer = Renderer(camera=c,\n",
    "                    scene=scene,\n",
    "                    alpha=True,\n",
    "                    clearOpacity=0,\n",
    "                    controls=[OrbitControls(controlling=c)])\n",
    "renderer\n",
    "\n"
   ]
  },
  {
   "cell_type": "markdown",
   "id": "fcb15197",
   "metadata": {
    "ExecuteTime": {
     "end_time": "2023-01-26T18:19:11.172276Z",
     "start_time": "2023-01-26T18:19:11.159248Z"
    }
   },
   "source": [
    "# itkwidgets\n",
    "\n",
    "Interactive widgets to visualize images, point sets, and 3D geometry on the web.\n",
    "\n",
    "Documentation:https://itkwidgets.readthedocs.io/en/latest"
   ]
  },
  {
   "cell_type": "code",
   "execution_count": null,
   "id": "bcfc2157",
   "metadata": {
    "ExecuteTime": {
     "end_time": "2023-02-24T15:23:25.256024Z",
     "start_time": "2023-02-24T15:23:03.701026Z"
    }
   },
   "outputs": [],
   "source": [
    "from itkwidgets import view\n",
    "number_of_points = 300\n",
    "gaussian_mean = [0.0, 0.0, 0.0]\n",
    "gaussian_cov = [[1.0, 0.0, 0.0], [0.0, 2.0, 0.0], [0.0, 0.0, 0.5]]\n",
    "point_set = np.random.multivariate_normal(gaussian_mean, gaussian_cov, number_of_points)\n",
    "v = view(point_sets=point_set)\n",
    "v"
   ]
  },
  {
   "cell_type": "code",
   "execution_count": null,
   "id": "3ff1c999",
   "metadata": {
    "ExecuteTime": {
     "end_time": "2023-02-24T15:23:25.260830Z",
     "start_time": "2023-02-24T15:23:25.257989Z"
    }
   },
   "outputs": [],
   "source": [
    "v.axes = True"
   ]
  },
  {
   "cell_type": "code",
   "execution_count": null,
   "id": "f7f47840",
   "metadata": {
    "ExecuteTime": {
     "end_time": "2023-02-24T15:29:27.579516Z",
     "start_time": "2023-02-24T15:29:26.859243Z"
    }
   },
   "outputs": [],
   "source": [
    "from pyvista import examples\n",
    "examples.delete_downloads()\n",
    "cow_mesh = examples.download_armadillo()\n",
    "v = view(geometries=cow_mesh)\n",
    "v"
   ]
  },
  {
   "cell_type": "code",
   "execution_count": null,
   "id": "306116f3",
   "metadata": {},
   "outputs": [],
   "source": []
  }
 ],
 "metadata": {
  "kernelspec": {
   "display_name": "Python 3 (ipykernel)",
   "language": "python",
   "name": "python3"
  },
  "language_info": {
   "codemirror_mode": {
    "name": "ipython",
    "version": 3
   },
   "file_extension": ".py",
   "mimetype": "text/x-python",
   "name": "python",
   "nbconvert_exporter": "python",
   "pygments_lexer": "ipython3",
   "version": "3.8.10"
  },
  "toc": {
   "base_numbering": 1,
   "nav_menu": {},
   "number_sections": true,
   "sideBar": true,
   "skip_h1_title": false,
   "title_cell": "Table of Contents",
   "title_sidebar": "Contents",
   "toc_cell": false,
   "toc_position": {},
   "toc_section_display": true,
   "toc_window_display": false
  },
  "varInspector": {
   "cols": {
    "lenName": 16,
    "lenType": 16,
    "lenVar": 40
   },
   "kernels_config": {
    "python": {
     "delete_cmd_postfix": "",
     "delete_cmd_prefix": "del ",
     "library": "var_list.py",
     "varRefreshCmd": "print(var_dic_list())"
    },
    "r": {
     "delete_cmd_postfix": ") ",
     "delete_cmd_prefix": "rm(",
     "library": "var_list.r",
     "varRefreshCmd": "cat(var_dic_list()) "
    }
   },
   "types_to_exclude": [
    "module",
    "function",
    "builtin_function_or_method",
    "instance",
    "_Feature"
   ],
   "window_display": false
  }
 },
 "nbformat": 4,
 "nbformat_minor": 5
}
