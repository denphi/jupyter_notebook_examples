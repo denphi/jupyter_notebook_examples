{
 "cells": [
  {
   "cell_type": "code",
   "execution_count": null,
   "metadata": {
    "ExecuteTime": {
     "end_time": "2023-02-24T14:26:03.830648Z",
     "start_time": "2023-02-24T14:26:02.745330Z"
    }
   },
   "outputs": [],
   "source": [
    "# resizable output for notebook\n",
    "%matplotlib notebook\n",
    "\n",
    "# for jupyterlab or notebook\n",
    "# %matplotlib widget\n",
    "\n",
    "import ipywidgets as widgets\n",
    "from IPython.display import display, clear_output\n",
    "import matplotlib.pyplot as plt\n",
    "import matplotlib\n",
    "matplotlib.style.use('fivethirtyeight')\n",
    "import pandas as pd\n",
    "import numpy as np"
   ]
  },
  {
   "cell_type": "markdown",
   "metadata": {},
   "source": [
    "Pandas can visualize data in a nicely-formatted HTML table or in many different types of plots.  Using it in a GUI simply required that have the visualization in a dynamically-updated widget.  For example, the HTML widget from ipywidgets and the matplotlib notebook widget.  For details, step through the cells below."
   ]
  },
  {
   "cell_type": "markdown",
   "metadata": {},
   "source": [
    "# Pandas Tables"
   ]
  },
  {
   "cell_type": "markdown",
   "metadata": {},
   "source": [
    "Let's create a dataframe and display it."
   ]
  },
  {
   "cell_type": "code",
   "execution_count": null,
   "metadata": {
    "ExecuteTime": {
     "end_time": "2023-02-24T14:26:04.056936Z",
     "start_time": "2023-02-24T14:26:04.038246Z"
    }
   },
   "outputs": [],
   "source": [
    "df = pd.DataFrame(np.random.randn(6,4), index=range(6), columns=list('ABCD'))\n",
    "df"
   ]
  },
  {
   "cell_type": "markdown",
   "metadata": {},
   "source": [
    "Now what if we want to update that table because the data changed?  Changing df will not update the above table.  We need to create an HTML widget and display the table in it."
   ]
  },
  {
   "cell_type": "code",
   "execution_count": null,
   "metadata": {
    "ExecuteTime": {
     "end_time": "2023-02-24T14:26:06.646797Z",
     "start_time": "2023-02-24T14:26:06.634260Z"
    }
   },
   "outputs": [],
   "source": [
    "wh = widgets.HTML(value=df.to_html(classes='rendered_html'))"
   ]
  },
  {
   "cell_type": "markdown",
   "metadata": {},
   "source": [
    "OR we can display the dataframe in an Output widget."
   ]
  },
  {
   "cell_type": "code",
   "execution_count": null,
   "metadata": {
    "ExecuteTime": {
     "end_time": "2023-02-24T14:26:12.224825Z",
     "start_time": "2023-02-24T14:26:12.199500Z"
    }
   },
   "outputs": [],
   "source": [
    "out = widgets.Output(layout={'border': '2px solid red'})\n",
    "with out:\n",
    "    display(df)\n",
    "widgets.HBox([wh, out])"
   ]
  },
  {
   "cell_type": "markdown",
   "metadata": {},
   "source": [
    "Now run the next two cells and watch the above widget update."
   ]
  },
  {
   "cell_type": "code",
   "execution_count": null,
   "metadata": {
    "ExecuteTime": {
     "end_time": "2023-02-24T14:26:18.895820Z",
     "start_time": "2023-02-24T14:26:18.879031Z"
    }
   },
   "outputs": [],
   "source": [
    "# update the dataframe\n",
    "df = pd.DataFrame(np.random.randn(6,4), index=range(6), columns=list('ABCD'))\n",
    "\n",
    "# update the HTML widget\n",
    "wh.value = df.to_html(classes='rendered_html')\n",
    "\n",
    "# update the Output widget\n",
    "with out:\n",
    "    clear_output()\n",
    "    display(df)"
   ]
  },
  {
   "cell_type": "markdown",
   "metadata": {},
   "source": [
    "# Pandas Plots\n",
    "\n",
    "They just use matplotlib and work like all matplotlib plots, but we will demonstrate..."
   ]
  },
  {
   "cell_type": "code",
   "execution_count": null,
   "metadata": {
    "ExecuteTime": {
     "end_time": "2023-02-24T14:26:20.891995Z",
     "start_time": "2023-02-24T14:26:20.642371Z"
    }
   },
   "outputs": [],
   "source": [
    "plt.figure('Pandas Series Plot')\n",
    "ts = pd.Series(np.random.randn(1000), index=pd.date_range('1/1/2000', periods=1000))\n",
    "ts = ts.cumsum()\n",
    "ts.plot();"
   ]
  },
  {
   "cell_type": "code",
   "execution_count": null,
   "metadata": {
    "ExecuteTime": {
     "end_time": "2023-02-24T14:26:21.611746Z",
     "start_time": "2023-02-24T14:26:21.584490Z"
    }
   },
   "outputs": [],
   "source": [
    "ts = pd.Series(np.random.randn(1000), index=pd.date_range('1/1/2000', periods=1000))\n",
    "ts = ts.cumsum()\n",
    "ts.plot();"
   ]
  },
  {
   "cell_type": "markdown",
   "metadata": {},
   "source": [
    "Why did the second plot get added to the first one?  If you had used **%matplotlib inline** it would not have.  But the notebook mode for matplotlib behaves differently. We have to call **plt.figure()** if we want to create a new plot."
   ]
  },
  {
   "cell_type": "code",
   "execution_count": null,
   "metadata": {
    "ExecuteTime": {
     "end_time": "2023-02-24T14:26:21.996442Z",
     "start_time": "2023-02-24T14:26:21.969412Z"
    }
   },
   "outputs": [],
   "source": [
    "plt.figure('Pandas Series Plot')\n",
    "ts = pd.Series(np.random.randn(1000), index=pd.date_range('1/1/2000', periods=1000))\n",
    "ts = ts.cumsum()\n",
    "ts.plot();"
   ]
  },
  {
   "cell_type": "markdown",
   "metadata": {},
   "source": [
    "That didn't work because we used the same figure name.  Create a *NEW* figure by giving it a new name..."
   ]
  },
  {
   "cell_type": "code",
   "execution_count": null,
   "metadata": {
    "ExecuteTime": {
     "end_time": "2023-02-24T14:26:22.576444Z",
     "start_time": "2023-02-24T14:26:22.469912Z"
    }
   },
   "outputs": [],
   "source": [
    "plt.figure('Pandas Series Plot2')\n",
    "ts = pd.Series(np.random.randn(1000), index=pd.date_range('1/1/2000', periods=1000))\n",
    "ts = ts.cumsum()\n",
    "ts.plot();"
   ]
  },
  {
   "cell_type": "markdown",
   "metadata": {},
   "source": [
    "And this will add a fourth line to the first plot."
   ]
  },
  {
   "cell_type": "code",
   "execution_count": null,
   "metadata": {
    "ExecuteTime": {
     "end_time": "2023-01-27T17:12:42.996652Z",
     "start_time": "2023-01-27T17:12:42.968913Z"
    }
   },
   "outputs": [],
   "source": [
    "plt.figure('Pandas Series Plot')\n",
    "ts = pd.Series(np.random.randn(1000), index=pd.date_range('1/1/2000', periods=1000))\n",
    "ts = ts.cumsum()\n",
    "ts.plot();"
   ]
  },
  {
   "cell_type": "markdown",
   "metadata": {},
   "source": [
    "Finally, what if we wanted to replace the contents of the second plot?  Just call **plt.clf()** to clear it."
   ]
  },
  {
   "cell_type": "code",
   "execution_count": null,
   "metadata": {
    "ExecuteTime": {
     "end_time": "2023-01-27T17:12:43.141161Z",
     "start_time": "2023-01-27T17:12:42.998559Z"
    }
   },
   "outputs": [],
   "source": [
    "plt.figure('Pandas Series Plot2')\n",
    "ts = pd.Series(np.random.randn(1000), index=pd.date_range('1/1/2000', periods=1000))\n",
    "ts = ts.cumsum()\n",
    "plt.clf()\n",
    "ts.plot();"
   ]
  },
  {
   "cell_type": "code",
   "execution_count": null,
   "metadata": {},
   "outputs": [],
   "source": []
  },
  {
   "cell_type": "code",
   "execution_count": null,
   "metadata": {},
   "outputs": [],
   "source": []
  }
 ],
 "metadata": {
  "kernelspec": {
   "display_name": "Python 3 (ipykernel)",
   "language": "python",
   "name": "python3"
  },
  "language_info": {
   "codemirror_mode": {
    "name": "ipython",
    "version": 3
   },
   "file_extension": ".py",
   "mimetype": "text/x-python",
   "name": "python",
   "nbconvert_exporter": "python",
   "pygments_lexer": "ipython3",
   "version": "3.8.10"
  },
  "toc": {
   "base_numbering": 1,
   "nav_menu": {},
   "number_sections": true,
   "sideBar": true,
   "skip_h1_title": false,
   "title_cell": "Table of Contents",
   "title_sidebar": "Contents",
   "toc_cell": false,
   "toc_position": {},
   "toc_section_display": true,
   "toc_window_display": false
  },
  "varInspector": {
   "cols": {
    "lenName": 16,
    "lenType": 16,
    "lenVar": 40
   },
   "kernels_config": {
    "python": {
     "delete_cmd_postfix": "",
     "delete_cmd_prefix": "del ",
     "library": "var_list.py",
     "varRefreshCmd": "print(var_dic_list())"
    },
    "r": {
     "delete_cmd_postfix": ") ",
     "delete_cmd_prefix": "rm(",
     "library": "var_list.r",
     "varRefreshCmd": "cat(var_dic_list()) "
    }
   },
   "types_to_exclude": [
    "module",
    "function",
    "builtin_function_or_method",
    "instance",
    "_Feature"
   ],
   "window_display": false
  }
 },
 "nbformat": 4,
 "nbformat_minor": 2
}
