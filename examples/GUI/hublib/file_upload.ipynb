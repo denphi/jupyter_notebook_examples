{
 "cells": [
  {
   "cell_type": "code",
   "execution_count": 1,
   "metadata": {},
   "outputs": [
    {
     "data": {
      "application/javascript": [
       "\n",
       "requirejs.undef('filepicker');\n",
       "\n",
       "define('filepicker', [\"jupyter-js-widgets\"], function(widgets) {\n",
       "\n",
       "    var FilePickerView = widgets.DOMWidgetView.extend({\n",
       "        render: function(){\n",
       "            this.file = document.createElement('input');\n",
       "            this.file.setAttribute('class', 'fileinput');\n",
       "            this.file.setAttribute('id', this.cid);\n",
       "            this.file.multiple = this.model.get('multiple');\n",
       "            this.file.required = true;\n",
       "            this.file.setAttribute('type', 'file');\n",
       "            this.file.setAttribute('style', 'display:none');\n",
       "\n",
       "            this.label = document.createElement('label');\n",
       "            this.label.setAttribute('for', this.cid);\n",
       "            this.label.setAttribute('style', 'border: 1px solid; border-radius: 5px; display: inline-block; padding: 6px 12px');\n",
       "\n",
       "            this.icon = document.createElement('i');\n",
       "            this.icon.setAttribute(\"class\", \"fs fa-upload\");\n",
       "\n",
       "            if (this.file.multiple) {\n",
       "                this.labelstr = \"  Upload Files\";\n",
       "            } else {\n",
       "                this.labelstr = \"  Upload File\";\n",
       "            }\n",
       "            this.label.innerHTML = this.labelstr;\n",
       "            this.label.prepend(this.icon);\n",
       "            this.el.appendChild(this.label);\n",
       "            this.el.appendChild(this.file);\n",
       "            this.update();\n",
       "        },\n",
       "\n",
       "        events: {\n",
       "            // List of events and their handlers.\n",
       "            'change': 'handle_file_change',\n",
       "        },\n",
       "\n",
       "        handle_file_change: function(evt) {\n",
       "\n",
       "            var that = this;\n",
       "            var files = evt.target.files;\n",
       "            var filenames = [];\n",
       "            var skipped = [];\n",
       "            var file_readers = [];\n",
       "\n",
       "            for (var i = 0; i < files.length; i++) {\n",
       "                var file = files[i];\n",
       "                console.log(\"Filename: \" + file.name);\n",
       "                console.log(\"Type: \" + file.type);\n",
       "                console.log(\"Size: \" + file.size + \" bytes\");\n",
       "                if (file.size > this.model.get('maxsize')) {\n",
       "                    skipped.push(file.name);\n",
       "                    continue;\n",
       "                };\n",
       "                filenames.push(file.name);\n",
       "\n",
       "                // Read the file's textual content and set value_i to those contents.\n",
       "                file_readers.push(new FileReader());\n",
       "                file_readers[i].onload = (function(file, i) {\n",
       "                    return function(e) {\n",
       "                        that.model.set('value_' + i, e.target.result);\n",
       "                        that.touch();\n",
       "                        console.log(\"file_\" + i + \" loaded: \" + file.name);\n",
       "                    };\n",
       "                })(file, i);\n",
       "                file_readers[i].readAsDataURL(file);\n",
       "            };\n",
       "\n",
       "            // update the label\n",
       "            if (filenames.length == 0) {\n",
       "                this.label.innerHTML = this.labelstr;\n",
       "            } else if (filenames.length == 1) {\n",
       "                this.label.innerHTML = \"  \" + filenames[0];\n",
       "            } else {\n",
       "                this.label.innerHTML = \"  \" + filenames.length + \" files selected\";\n",
       "            };\n",
       "            this.label.prepend(this.icon);\n",
       "\n",
       "            // Set the filenames of the files.\n",
       "            this.model.set('filenames', filenames);\n",
       "            this.model.set('skipped', skipped);\n",
       "            this.touch();\n",
       "        },\n",
       "    });\n",
       "\n",
       "    // Register the FilePickerView with the widget manager.\n",
       "    return {\n",
       "        FilePickerView: FilePickerView\n",
       "    };\n",
       "});\n"
      ],
      "text/plain": [
       "<IPython.core.display.Javascript object>"
      ]
     },
     "metadata": {},
     "output_type": "display_data"
    },
    {
     "data": {
      "text/html": [
       "\n",
       "<script>\n",
       "requirejs.config({\n",
       "    paths: {\n",
       "        'ace': ['//cdnjs.cloudflare.com/ajax/libs/ace/1.2.6/ace'],\n",
       "    },\n",
       "});\n",
       "\n",
       "require(['ace'], function(ace) {\n",
       "    console.log(\"ACE loaded :)\");\n",
       "    return {};\n",
       "});\n",
       "</script>\n",
       "\n",
       "<script>\n",
       "requirejs.undef('editor');\n",
       "\n",
       "define('editor', [\"jupyter-js-widgets\"], function(widgets) {\n",
       "\n",
       "    var EditorView = widgets.DOMWidgetView.extend({\n",
       "\n",
       "        // Render the view.\n",
       "        render: function() {\n",
       "            this.ignorex = false;\n",
       "            this.ignorev = false;\n",
       "            //console.log('RENDER '+this.model.get('name'));\n",
       "            this.div = document.createElement('div');\n",
       "            this.div.setAttribute('id', this.model.get('name'));\n",
       "            this.el.appendChild(this.div);\n",
       "            this.listenTo(this.model, 'change:state', this._state_changed, this);\n",
       "            this.listenTo(this.model, 'change:theme', this._theme_changed, this);\n",
       "            this.listenTo(this.model, 'change:mode', this._mode_changed, this);\n",
       "            this.listenTo(this.model, 'change:value2', this._value2_changed, this);\n",
       "            this.listenTo(this.model, 'change:showmargin', this._showmargin_changed, this);\n",
       "            this.listenTo(this.model, 'change:fontsize', this._fontsize_changed, this);\n",
       "            this.update();\n",
       "        },\n",
       "        update: function() {\n",
       "            return EditorView.__super__.update.apply(this);\n",
       "        },\n",
       "        // Tell Backbone to listen to the change event of input controls\n",
       "        events: {\n",
       "            \"change\": \"handle_color_change\"\n",
       "        },\n",
       "\n",
       "        _state_changed: function() {\n",
       "            var state = this.model.get('state')\n",
       "            //console.log('state: ' + state );\n",
       "            if (state == 'start') {\n",
       "                var that = this;\n",
       "                this._ed = ace.edit(this.model.get('name'));\n",
       "                this._ed.getSession().on('change', function(e) {\n",
       "                    if (that.ignorev == true) { return }\n",
       "                    that.ignorex = true;\n",
       "                    //console.log('CHANGE1');\n",
       "                    that.model.set('value2', that._ed.getValue());\n",
       "                    //console.log('CHANGE2');\n",
       "                    that.touch();\n",
       "                    //console.log('CHANGE3');\n",
       "                    that.ignorex = false;\n",
       "                });\n",
       "            };\n",
       "        },\n",
       "        _theme_changed: function() {\n",
       "            //console.log(\"theme \" + this.model.get('theme'));\n",
       "            this._ed.setTheme(\"ace/theme/\"+this.model.get('theme'));\n",
       "        },\n",
       "        _mode_changed: function() {\n",
       "            //console.log(\"mode \" + this.model.get('mode'));\n",
       "            this._ed.getSession().setMode(\"ace/mode/\"+this.model.get('mode'));\n",
       "        },\n",
       "        _value2_changed: function() {\n",
       "            //console.log('value2 ' + this.ignorex);\n",
       "            if (this.ignorex == true) { return };\n",
       "            var val = this.model.get('value2');\n",
       "            //console.log('VALUE2 ' + val);\n",
       "            this.ignorev = true;\n",
       "            this._ed.setValue(val);\n",
       "            this.ignorev = false;\n",
       "            //console.log('VALUE2 DONE');\n",
       "        },\n",
       "        _showmargin_changed: function() {\n",
       "            this._ed.setShowPrintMargin(this.model.get('showmargin'));\n",
       "        },\n",
       "        _fontsize_changed: function() {\n",
       "            document.getElementById(this.model.get('name')).style.fontSize=this.model.get('fontsize');\n",
       "        },\n",
       "\n",
       "        // Callback for when the color is changed.\n",
       "        handle_color_change: function(event) {\n",
       "            console.log('SOMETHING CHNAGED');\n",
       "            console.log(event);\n",
       "        },\n",
       "    });\n",
       "\n",
       "    return {\n",
       "        EditorView: EditorView\n",
       "    };\n",
       "});\n",
       "</script>\n"
      ],
      "text/plain": [
       "<IPython.core.display.HTML object>"
      ]
     },
     "metadata": {},
     "output_type": "display_data"
    }
   ],
   "source": [
    "from hublib.ui import FileUpload"
   ]
  },
  {
   "cell_type": "code",
   "execution_count": 2,
   "metadata": {
    "collapsed": true
   },
   "outputs": [],
   "source": [
    "# Create a callback function that will be called when files are uploaded\n",
    "def mycb(name, val):\n",
    "    print(\"CB %s (length = %s bytes)\" % (name, len(val)))"
   ]
  },
  {
   "cell_type": "markdown",
   "metadata": {},
   "source": [
    "## Single File Uploads"
   ]
  },
  {
   "cell_type": "code",
   "execution_count": 3,
   "metadata": {},
   "outputs": [
    {
     "data": {
      "application/vnd.jupyter.widget-view+json": {
       "model_id": "33350660f16442eab071793fc0508fb6",
       "version_major": 2,
       "version_minor": 0
      },
      "text/plain": [
       "A Jupyter Widget"
      ]
     },
     "metadata": {},
     "output_type": "display_data"
    },
    {
     "name": "stdout",
     "output_type": "stream",
     "text": [
      "CB output_test.csv (length = 270 bytes)\n"
     ]
    }
   ],
   "source": [
    "# this will allow you to select a single file to be uploaded\n",
    "f = FileUpload(\"Really Interesting File\", \n",
    "               \"This is a description that appears when the mouse hovers over the name.\", \n",
    "                cb=mycb)\n",
    "f"
   ]
  },
  {
   "cell_type": "code",
   "execution_count": 7,
   "metadata": {},
   "outputs": [
    {
     "data": {
      "text/plain": [
       "[u'output_test.csv']"
      ]
     },
     "execution_count": 7,
     "metadata": {},
     "output_type": "execute_result"
    }
   ],
   "source": [
    "# we can get a list of filenames to be uploaded\n",
    "f.list()"
   ]
  },
  {
   "cell_type": "code",
   "execution_count": 8,
   "metadata": {},
   "outputs": [
    {
     "data": {
      "text/plain": [
       "[(u'output_test.csv', 270)]"
      ]
     },
     "execution_count": 8,
     "metadata": {},
     "output_type": "execute_result"
    }
   ],
   "source": [
    "# you can also get the sizes\n",
    "f.list(sizes=True)"
   ]
  },
  {
   "cell_type": "code",
   "execution_count": 9,
   "metadata": {},
   "outputs": [
    {
     "data": {
      "text/plain": [
       "u'output_test.csv'"
      ]
     },
     "execution_count": 9,
     "metadata": {},
     "output_type": "execute_result"
    }
   ],
   "source": [
    "# for single file uploads, you can get the name simply\n",
    "f.name()"
   ]
  },
  {
   "cell_type": "markdown",
   "metadata": {},
   "source": [
    "You must save the data"
   ]
  },
  {
   "cell_type": "code",
   "execution_count": 10,
   "metadata": {},
   "outputs": [
    {
     "data": {
      "text/plain": [
       "'0.51893,2.42903\\r\\n0.56384,1.90705\\r\\n0.35965,0.86292\\r\\n0.44622,1.91513\\r\\n0.77715,2.10292\\r\\n0.35252,1.00086\\r\\n2.20672,1.58171\\r\\n1.51664,2.59803\\r\\n1.78637,2.44214\\r\\n0.81575,0.99558\\r\\n0.79522,1.69021\\r\\n1.50728,1.289\\r\\n1.35198,1.83579\\r\\n1.95693,1.75132\\r\\n3.77266,1.06146\\r\\n1.90277,1.92743\\r\\n'"
      ]
     },
     "execution_count": 10,
     "metadata": {},
     "output_type": "execute_result"
    }
   ],
   "source": [
    "# for simple files\n",
    "f.data()"
   ]
  },
  {
   "cell_type": "code",
   "execution_count": 11,
   "metadata": {},
   "outputs": [
    {
     "name": "stdout",
     "output_type": "stream",
     "text": [
      "0.51893,2.42903\r",
      "\r\n",
      "0.56384,1.90705\r",
      "\r\n",
      "0.35965,0.86292\r",
      "\r\n",
      "0.44622,1.91513\r",
      "\r\n",
      "0.77715,2.10292\r",
      "\r\n",
      "0.35252,1.00086\r",
      "\r\n",
      "2.20672,1.58171\r",
      "\r\n",
      "1.51664,2.59803\r",
      "\r\n",
      "1.78637,2.44214\r",
      "\r\n",
      "0.81575,0.99558\r",
      "\r\n",
      "0.79522,1.69021\r",
      "\r\n",
      "1.50728,1.289\r",
      "\r\n",
      "1.35198,1.83579\r",
      "\r\n",
      "1.95693,1.75132\r",
      "\r\n",
      "3.77266,1.06146\r",
      "\r\n",
      "1.90277,1.92743\r",
      "\r\n"
     ]
    }
   ],
   "source": [
    "# f.save() - saves using the same name as the uploaded file\n",
    "# f.save(name) - saves as a new name\n",
    "f.save('tmpfile')\n",
    "# check it\n",
    "!cat tmpfile"
   ]
  },
  {
   "cell_type": "markdown",
   "metadata": {},
   "source": [
    "## Multiple File Uploads"
   ]
  },
  {
   "cell_type": "code",
   "execution_count": 12,
   "metadata": {},
   "outputs": [
    {
     "data": {
      "application/vnd.jupyter.widget-view+json": {
       "model_id": "8312a733208c48da97ba1792e61b306f",
       "version_major": 2,
       "version_minor": 0
      },
      "text/plain": [
       "A Jupyter Widget"
      ]
     },
     "metadata": {},
     "output_type": "display_data"
    },
    {
     "name": "stdout",
     "output_type": "stream",
     "text": [
      "CB input_test.csv (length = 335 bytes)\n",
      "CB output_test.csv (length = 270 bytes)\n"
     ]
    }
   ],
   "source": [
    "# This will allow you to select a multiple files to be uploaded.\n",
    "f = FileUpload(\"Really Interesting File\", \n",
    "               \"This is a description that appears when the mouse hovers over the name.\", \n",
    "                cb=mycb, multiple=True)\n",
    "f"
   ]
  },
  {
   "cell_type": "code",
   "execution_count": 14,
   "metadata": {},
   "outputs": [
    {
     "data": {
      "text/plain": [
       "[u'output_test.csv', u'input_test.csv']"
      ]
     },
     "execution_count": 14,
     "metadata": {},
     "output_type": "execute_result"
    }
   ],
   "source": [
    "f.list()"
   ]
  },
  {
   "cell_type": "code",
   "execution_count": 15,
   "metadata": {},
   "outputs": [
    {
     "data": {
      "text/plain": [
       "u'input_test.csv'"
      ]
     },
     "execution_count": 15,
     "metadata": {},
     "output_type": "execute_result"
    }
   ],
   "source": [
    "f.name(1)"
   ]
  },
  {
   "cell_type": "code",
   "execution_count": 16,
   "metadata": {},
   "outputs": [
    {
     "data": {
      "text/plain": [
       "'555,12.17,1.1,104,60\\r\\n555,12.47,4.3,172,64\\r\\n383,11.63,5.5,68,151\\r\\n555,12.17,1.1,104,60\\r\\n555,12.47,4.3,172,64\\r\\n383,11.63,5.5,68,151\\r\\n596,13,9.2,169,144\\r\\n596,13,9.2,169,144\\r\\n596,13,9.2,169,144\\r\\n596,13,6.7,118,31\\r\\n596,13,6.7,118,31\\r\\n596,13,6.7,118,31\\r\\n576,12.39,10,168,180\\r\\n576,12.39,10,168,180\\r\\n576,12.39,10,168,180\\r\\n596,13,9.9,170,180\\r\\n'"
      ]
     },
     "execution_count": 16,
     "metadata": {},
     "output_type": "execute_result"
    }
   ],
   "source": [
    "f.data(1)"
   ]
  },
  {
   "cell_type": "code",
   "execution_count": 17,
   "metadata": {},
   "outputs": [
    {
     "name": "stdout",
     "output_type": "stream",
     "text": [
      "555,12.17,1.1,104,60\r",
      "\r\n",
      "555,12.47,4.3,172,64\r",
      "\r\n",
      "383,11.63,5.5,68,151\r",
      "\r\n",
      "555,12.17,1.1,104,60\r",
      "\r\n",
      "555,12.47,4.3,172,64\r",
      "\r\n",
      "383,11.63,5.5,68,151\r",
      "\r\n",
      "596,13,9.2,169,144\r",
      "\r\n",
      "596,13,9.2,169,144\r",
      "\r\n",
      "596,13,9.2,169,144\r",
      "\r\n",
      "596,13,6.7,118,31\r",
      "\r\n",
      "596,13,6.7,118,31\r",
      "\r\n",
      "596,13,6.7,118,31\r",
      "\r\n",
      "576,12.39,10,168,180\r",
      "\r\n",
      "576,12.39,10,168,180\r",
      "\r\n",
      "576,12.39,10,168,180\r",
      "\r\n",
      "596,13,9.9,170,180\r",
      "\r\n"
     ]
    }
   ],
   "source": [
    "f.save('tmpfile0', 0)\n",
    "f.save('tmpfile1', 1)\n",
    "!cat tmpfile1"
   ]
  },
  {
   "cell_type": "markdown",
   "metadata": {},
   "source": [
    "## Size Limitations\n",
    "\n",
    "Because the files are uploaded into memory before being written, there are limits to their size.  Trying to upload too\n",
    "large a file could crash your browser or the python kernel.  The default limit is 1MB (1048576 bytes).\n",
    "You can set your own limit."
   ]
  },
  {
   "cell_type": "code",
   "execution_count": 18,
   "metadata": {},
   "outputs": [
    {
     "data": {
      "application/vnd.jupyter.widget-view+json": {
       "model_id": "c6b4127584d343749bef19be7acd8195",
       "version_major": 2,
       "version_minor": 0
      },
      "text/plain": [
       "A Jupyter Widget"
      ]
     },
     "metadata": {},
     "output_type": "display_data"
    },
    {
     "name": "stderr",
     "output_type": "stream",
     "text": [
      "Skipping \"BMW27_2.blend.zip\" due to size limit.\n"
     ]
    }
   ],
   "source": [
    "# set a per-file limit of 1000 bytes.\n",
    "f = FileUpload(\"Some Files\", \n",
    "                \"\",\n",
    "                cb=mycb, \n",
    "                multiple=True, \n",
    "                maxsize=1000)\n",
    "f"
   ]
  },
  {
   "cell_type": "markdown",
   "metadata": {
    "collapsed": true
   },
   "source": [
    "## Basic Widget without Label\n",
    "Just display the \".input\" part of the widget."
   ]
  },
  {
   "cell_type": "code",
   "execution_count": 19,
   "metadata": {},
   "outputs": [
    {
     "data": {
      "application/vnd.jupyter.widget-view+json": {
       "model_id": "0e7e526d410c4254897eaf6ecdd9b449",
       "version_major": 2,
       "version_minor": 0
      },
      "text/plain": [
       "A Jupyter Widget"
      ]
     },
     "metadata": {},
     "output_type": "display_data"
    },
    {
     "name": "stdout",
     "output_type": "stream",
     "text": [
      "CB foo.py (length = 52 bytes)\n"
     ]
    }
   ],
   "source": [
    "fb = FileUpload(\"Some Files\", \n",
    "                \"\",\n",
    "                cb=mycb, \n",
    "                multiple=True)\n",
    "fb.input"
   ]
  },
  {
   "cell_type": "code",
   "execution_count": 20,
   "metadata": {},
   "outputs": [
    {
     "data": {
      "text/plain": [
       "u'foo.py'"
      ]
     },
     "execution_count": 20,
     "metadata": {},
     "output_type": "execute_result"
    }
   ],
   "source": [
    "fb.name()"
   ]
  },
  {
   "cell_type": "markdown",
   "metadata": {},
   "source": [
    "## ipywidgets compatibility"
   ]
  },
  {
   "cell_type": "code",
   "execution_count": 21,
   "metadata": {},
   "outputs": [
    {
     "data": {
      "application/vnd.jupyter.widget-view+json": {
       "model_id": "9b1faf5fd04a47bda3699b3d60cc7e01",
       "version_major": 2,
       "version_minor": 0
      },
      "text/plain": [
       "A Jupyter Widget"
      ]
     },
     "metadata": {},
     "output_type": "display_data"
    }
   ],
   "source": [
    "from ipywidgets import HBox, Button\n",
    "\n",
    "b = Button(description='Button1')\n",
    "\n",
    "HBox([b, fb.w])"
   ]
  },
  {
   "cell_type": "code",
   "execution_count": 22,
   "metadata": {},
   "outputs": [
    {
     "data": {
      "application/vnd.jupyter.widget-view+json": {
       "model_id": "05a5cae3a68d40ebad139afa80e46019",
       "version_major": 2,
       "version_minor": 0
      },
      "text/plain": [
       "A Jupyter Widget"
      ]
     },
     "metadata": {},
     "output_type": "display_data"
    }
   ],
   "source": [
    "HBox([b, fb.input])"
   ]
  }
 ],
 "metadata": {
  "kernelspec": {
   "display_name": "Python2",
   "language": "python",
   "name": "python2"
  },
  "language_info": {
   "codemirror_mode": {
    "name": "ipython",
    "version": 2
   },
   "file_extension": ".py",
   "mimetype": "text/x-python",
   "name": "python",
   "nbconvert_exporter": "python",
   "pygments_lexer": "ipython2",
   "version": "2.7.13"
  },
  "widgets": {
   "application/vnd.jupyter.widget-state+json": {
    "state": {
     "0391ee9433c24bf49a1cf0205fdcb21f": {
      "model_module": "@jupyter-widgets/base",
      "model_module_version": "1.0.0",
      "model_name": "LayoutModel",
      "state": {
       "border": "solid 1px lightgray",
       "display": "flex",
       "flex_flow": "row",
       "justify_content": "space-between",
       "width": "auto"
      }
     },
     "0427a07ff5ec4fb4b5c2cf6941fcaedf": {
      "model_module": "@jupyter-widgets/base",
      "model_module_version": "1.0.0",
      "model_name": "LayoutModel",
      "state": {}
     },
     "05a5cae3a68d40ebad139afa80e46019": {
      "model_module": "@jupyter-widgets/controls",
      "model_module_version": "1.0.0",
      "model_name": "HBoxModel",
      "state": {
       "children": [
        "IPY_MODEL_ecd494cd216c42a5ba26fea7dc9a956c",
        "IPY_MODEL_0e7e526d410c4254897eaf6ecdd9b449"
       ],
       "layout": "IPY_MODEL_e774bebb16e8414fbd0565d31b75d4b0"
      }
     },
     "0e7e526d410c4254897eaf6ecdd9b449": {
      "model_module": "@jupyter-widgets/base",
      "model_module_version": "1.0.0",
      "model_name": "DOMWidgetModel",
      "state": {
       "_model_name": "DOMWidgetModel",
       "_view_module": "filepicker",
       "_view_module_version": "",
       "_view_name": "FilePickerView",
       "filenames": [
        "foo.py"
       ],
       "layout": "IPY_MODEL_2143f10030754e11b4ab0e952144b772",
       "maxsize": 1048576,
       "multiple": true,
       "skipped": [],
       "value_0": ""
      }
     },
     "0eb7a85d88a14a18b67c89e8e33425b7": {
      "model_module": "@jupyter-widgets/base",
      "model_module_version": "1.0.0",
      "model_name": "LayoutModel",
      "state": {}
     },
     "10d5eac6384544aaa2e23d4020f14ca3": {
      "model_module": "@jupyter-widgets/base",
      "model_module_version": "1.0.0",
      "model_name": "DOMWidgetModel",
      "state": {
       "_model_name": "DOMWidgetModel",
       "_view_module": "filepicker",
       "_view_module_version": "",
       "_view_name": "FilePickerView",
       "filenames": [
        "output_test.csv",
        "input_test.csv"
       ],
       "layout": "IPY_MODEL_0eb7a85d88a14a18b67c89e8e33425b7",
       "maxsize": 1048576,
       "multiple": true,
       "skipped": [],
       "value_0": "",
       "value_1": ""
      }
     },
     "1455883628e34ab9ad9c0b0a77bd85f3": {
      "model_module": "@jupyter-widgets/base",
      "model_module_version": "1.0.0",
      "model_name": "LayoutModel",
      "state": {}
     },
     "2143f10030754e11b4ab0e952144b772": {
      "model_module": "@jupyter-widgets/base",
      "model_module_version": "1.0.0",
      "model_name": "LayoutModel",
      "state": {}
     },
     "265dfb1f0f0a48ba960e2dadb4ea0714": {
      "model_module": "@jupyter-widgets/controls",
      "model_module_version": "1.0.0",
      "model_name": "HTMLModel",
      "state": {
       "layout": "IPY_MODEL_c63b41445be14271a40c18738c035abd",
       "style": "IPY_MODEL_9dc02905a8f643c98ca40bdd13445192",
       "value": "<p data-toggle=\"popover\" title=\"This is a description that appears when the mouse hovers over the name.\">Really Interesting File</p>"
      }
     },
     "33350660f16442eab071793fc0508fb6": {
      "model_module": "@jupyter-widgets/controls",
      "model_module_version": "1.0.0",
      "model_name": "BoxModel",
      "state": {
       "children": [
        "IPY_MODEL_ff7b0745c22a449ea0baeaf6c8d4f23c",
        "IPY_MODEL_4a113cb012814d65a15772e6e44da59d"
       ],
       "layout": "IPY_MODEL_f6c42182d10646e6b8b1a8b2736a8eb8"
      }
     },
     "3887a5c9633247838ffc648323229f42": {
      "model_module": "@jupyter-widgets/controls",
      "model_module_version": "1.0.0",
      "model_name": "DescriptionStyleModel",
      "state": {
       "description_width": ""
      }
     },
     "47c187c64cfa4249bbdfc69fcfa7313a": {
      "model_module": "@jupyter-widgets/controls",
      "model_module_version": "1.0.0",
      "model_name": "HTMLModel",
      "state": {
       "layout": "IPY_MODEL_58575e8b2063466fb4a329b0f80b795a",
       "style": "IPY_MODEL_d35f86dc053b427ca89d7e80ebed8a5a",
       "value": "<p data-toggle=\"popover\" title=\"\">Some Files</p>"
      }
     },
     "4a113cb012814d65a15772e6e44da59d": {
      "model_module": "@jupyter-widgets/base",
      "model_module_version": "1.0.0",
      "model_name": "DOMWidgetModel",
      "state": {
       "_model_name": "DOMWidgetModel",
       "_view_module": "filepicker",
       "_view_module_version": "",
       "_view_name": "FilePickerView",
       "filenames": [
        "output_test.csv"
       ],
       "layout": "IPY_MODEL_0427a07ff5ec4fb4b5c2cf6941fcaedf",
       "maxsize": 1048576,
       "multiple": false,
       "skipped": [],
       "value_0": ""
      }
     },
     "4ea52b2fb3d0447ba39164644c1c4bc4": {
      "model_module": "@jupyter-widgets/controls",
      "model_module_version": "1.0.0",
      "model_name": "DescriptionStyleModel",
      "state": {
       "description_width": ""
      }
     },
     "58575e8b2063466fb4a329b0f80b795a": {
      "model_module": "@jupyter-widgets/base",
      "model_module_version": "1.0.0",
      "model_name": "LayoutModel",
      "state": {
       "flex": "2 1 auto"
      }
     },
     "5f57c96f69744bd7a59b950a2c6af7af": {
      "model_module": "@jupyter-widgets/base",
      "model_module_version": "1.0.0",
      "model_name": "DOMWidgetModel",
      "state": {
       "_model_name": "DOMWidgetModel",
       "_view_module": "filepicker",
       "_view_module_version": "",
       "_view_name": "FilePickerView",
       "filenames": [],
       "layout": "IPY_MODEL_1455883628e34ab9ad9c0b0a77bd85f3",
       "maxsize": 1000,
       "multiple": true,
       "skipped": [
        "BMW27_2.blend.zip"
       ]
      }
     },
     "69f48be499264105a072c840e4c09130": {
      "model_module": "@jupyter-widgets/base",
      "model_module_version": "1.0.0",
      "model_name": "LayoutModel",
      "state": {
       "border": "solid 1px lightgray",
       "display": "flex",
       "flex_flow": "row",
       "justify_content": "space-between",
       "width": "auto"
      }
     },
     "8312a733208c48da97ba1792e61b306f": {
      "model_module": "@jupyter-widgets/controls",
      "model_module_version": "1.0.0",
      "model_name": "BoxModel",
      "state": {
       "children": [
        "IPY_MODEL_265dfb1f0f0a48ba960e2dadb4ea0714",
        "IPY_MODEL_10d5eac6384544aaa2e23d4020f14ca3"
       ],
       "layout": "IPY_MODEL_0391ee9433c24bf49a1cf0205fdcb21f"
      }
     },
     "8430fc39a48e4118b5e4e8db22f87dbe": {
      "model_module": "@jupyter-widgets/base",
      "model_module_version": "1.0.0",
      "model_name": "LayoutModel",
      "state": {
       "flex": "2 1 auto"
      }
     },
     "9b1faf5fd04a47bda3699b3d60cc7e01": {
      "model_module": "@jupyter-widgets/controls",
      "model_module_version": "1.0.0",
      "model_name": "HBoxModel",
      "state": {
       "children": [
        "IPY_MODEL_ecd494cd216c42a5ba26fea7dc9a956c",
        "IPY_MODEL_f12291a4ee76495684146983d10066fd"
       ],
       "layout": "IPY_MODEL_dbeff5c0b1c9481580df8963071e08bb"
      }
     },
     "9dc02905a8f643c98ca40bdd13445192": {
      "model_module": "@jupyter-widgets/controls",
      "model_module_version": "1.0.0",
      "model_name": "DescriptionStyleModel",
      "state": {
       "description_width": ""
      }
     },
     "9dfd77f3ded44a8583bc808f7344081a": {
      "model_module": "@jupyter-widgets/controls",
      "model_module_version": "1.0.0",
      "model_name": "ButtonStyleModel",
      "state": {}
     },
     "c63b41445be14271a40c18738c035abd": {
      "model_module": "@jupyter-widgets/base",
      "model_module_version": "1.0.0",
      "model_name": "LayoutModel",
      "state": {
       "flex": "2 1 auto"
      }
     },
     "c6b4127584d343749bef19be7acd8195": {
      "model_module": "@jupyter-widgets/controls",
      "model_module_version": "1.0.0",
      "model_name": "BoxModel",
      "state": {
       "children": [
        "IPY_MODEL_ebb0f440966644e2802387f4792031c7",
        "IPY_MODEL_5f57c96f69744bd7a59b950a2c6af7af"
       ],
       "layout": "IPY_MODEL_69f48be499264105a072c840e4c09130"
      }
     },
     "c79784563b99471ab256777d4758657e": {
      "model_module": "@jupyter-widgets/base",
      "model_module_version": "1.0.0",
      "model_name": "LayoutModel",
      "state": {
       "flex": "2 1 auto"
      }
     },
     "d35f86dc053b427ca89d7e80ebed8a5a": {
      "model_module": "@jupyter-widgets/controls",
      "model_module_version": "1.0.0",
      "model_name": "DescriptionStyleModel",
      "state": {
       "description_width": ""
      }
     },
     "dbeff5c0b1c9481580df8963071e08bb": {
      "model_module": "@jupyter-widgets/base",
      "model_module_version": "1.0.0",
      "model_name": "LayoutModel",
      "state": {}
     },
     "dffbfa3289c44ef18f4595c7a913f6a2": {
      "model_module": "@jupyter-widgets/base",
      "model_module_version": "1.0.0",
      "model_name": "LayoutModel",
      "state": {}
     },
     "e774bebb16e8414fbd0565d31b75d4b0": {
      "model_module": "@jupyter-widgets/base",
      "model_module_version": "1.0.0",
      "model_name": "LayoutModel",
      "state": {}
     },
     "ea80e0694dfb43fcadcbeec70bae769c": {
      "model_module": "@jupyter-widgets/base",
      "model_module_version": "1.0.0",
      "model_name": "LayoutModel",
      "state": {
       "border": "solid 1px lightgray",
       "display": "flex",
       "flex_flow": "row",
       "justify_content": "space-between",
       "width": "auto"
      }
     },
     "ebb0f440966644e2802387f4792031c7": {
      "model_module": "@jupyter-widgets/controls",
      "model_module_version": "1.0.0",
      "model_name": "HTMLModel",
      "state": {
       "layout": "IPY_MODEL_8430fc39a48e4118b5e4e8db22f87dbe",
       "style": "IPY_MODEL_4ea52b2fb3d0447ba39164644c1c4bc4",
       "value": "<p data-toggle=\"popover\" title=\"\">Some Files</p>"
      }
     },
     "ecd494cd216c42a5ba26fea7dc9a956c": {
      "model_module": "@jupyter-widgets/controls",
      "model_module_version": "1.0.0",
      "model_name": "ButtonModel",
      "state": {
       "description": "Button1",
       "layout": "IPY_MODEL_dffbfa3289c44ef18f4595c7a913f6a2",
       "style": "IPY_MODEL_9dfd77f3ded44a8583bc808f7344081a"
      }
     },
     "f12291a4ee76495684146983d10066fd": {
      "model_module": "@jupyter-widgets/controls",
      "model_module_version": "1.0.0",
      "model_name": "BoxModel",
      "state": {
       "children": [
        "IPY_MODEL_47c187c64cfa4249bbdfc69fcfa7313a",
        "IPY_MODEL_0e7e526d410c4254897eaf6ecdd9b449"
       ],
       "layout": "IPY_MODEL_ea80e0694dfb43fcadcbeec70bae769c"
      }
     },
     "f6c42182d10646e6b8b1a8b2736a8eb8": {
      "model_module": "@jupyter-widgets/base",
      "model_module_version": "1.0.0",
      "model_name": "LayoutModel",
      "state": {
       "border": "solid 1px lightgray",
       "display": "flex",
       "flex_flow": "row",
       "justify_content": "space-between",
       "width": "auto"
      }
     },
     "ff7b0745c22a449ea0baeaf6c8d4f23c": {
      "model_module": "@jupyter-widgets/controls",
      "model_module_version": "1.0.0",
      "model_name": "HTMLModel",
      "state": {
       "layout": "IPY_MODEL_c79784563b99471ab256777d4758657e",
       "style": "IPY_MODEL_3887a5c9633247838ffc648323229f42",
       "value": "<p data-toggle=\"popover\" title=\"This is a description that appears when the mouse hovers over the name.\">Really Interesting File</p>"
      }
     }
    },
    "version_major": 2,
    "version_minor": 0
   }
  }
 },
 "nbformat": 4,
 "nbformat_minor": 1
}
