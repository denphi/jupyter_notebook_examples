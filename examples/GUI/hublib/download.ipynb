{
 "cells": [
  {
   "cell_type": "markdown",
   "metadata": {},
   "source": [
    "# Download Widget"
   ]
  },
  {
   "cell_type": "code",
   "execution_count": null,
   "metadata": {
    "collapsed": false
   },
   "outputs": [],
   "source": [
    "from hublib.ui import FileUpload, Download"
   ]
  },
  {
   "cell_type": "markdown",
   "metadata": {},
   "source": [
    "Note that the 'icon' attribute won't work for ipywidgets < 6.0."
   ]
  },
  {
   "cell_type": "code",
   "execution_count": null,
   "metadata": {
    "collapsed": true
   },
   "outputs": [],
   "source": [
    "Download('wire.data')"
   ]
  },
  {
   "cell_type": "code",
   "execution_count": null,
   "metadata": {
    "collapsed": true
   },
   "outputs": [],
   "source": [
    "Download('wire.data', style='info')"
   ]
  },
  {
   "cell_type": "code",
   "execution_count": null,
   "metadata": {
    "collapsed": true
   },
   "outputs": [],
   "source": [
    "Download('wire.data', style='success', icon='arrow-circle-down')"
   ]
  },
  {
   "cell_type": "code",
   "execution_count": null,
   "metadata": {
    "collapsed": true
   },
   "outputs": [],
   "source": [
    "Download('wire.data', style='warning', icon='cloud-download', tooltip='DOWNLOAD FILE')"
   ]
  },
  {
   "cell_type": "code",
   "execution_count": null,
   "metadata": {
    "collapsed": true
   },
   "outputs": [],
   "source": [
    "Download('wire.data', label='Download', icon='download', tooltip='DOWNLOAD FILE')"
   ]
  },
  {
   "cell_type": "code",
   "execution_count": null,
   "metadata": {
    "collapsed": true
   },
   "outputs": [],
   "source": [
    "# ipywidget compatibility\n",
    "\n",
    "from ipywidgets import HBox\n",
    "\n",
    "d1 = Download('wire.data', style='success', icon='arrow-circle-down')\n",
    "d2 = Download('wire.data', label='Download', icon='download', tooltip='DOWNLOAD FILE')\n",
    "\n",
    "HBox([d1.w, d2.w])"
   ]
  }
 ],
 "metadata": {
  "kernelspec": {
   "display_name": "Python3",
   "language": "python",
   "name": "python3"
  },
  "language_info": {
   "codemirror_mode": {
    "name": "ipython",
    "version": 3
   },
   "file_extension": ".py",
   "mimetype": "text/x-python",
   "name": "python",
   "nbconvert_exporter": "python",
   "pygments_lexer": "ipython3",
   "version": "3.5.3"
  },
  "widgets": {
   "state": {
    "2cf1dcbc94b04d5f9d2427b26733d414": {
     "views": [
      {
       "cell_index": 3
      }
     ]
    },
    "3a8435fe16604094a587bbc14f96e48f": {
     "views": [
      {
       "cell_index": 8
      }
     ]
    },
    "53cff3536cb1418e9d9b1adb55e1dc3a": {
     "views": [
      {
       "cell_index": 5
      }
     ]
    },
    "8350fbda357e453d9b6675c9666c554c": {
     "views": [
      {
       "cell_index": 7
      }
     ]
    },
    "9003b8c507cb46be8d0d9497a6ec2831": {
     "views": [
      {
       "cell_index": 4
      }
     ]
    },
    "e9d91f65e0534f7691231bf3457871aa": {
     "views": [
      {
       "cell_index": 6
      }
     ]
    }
   },
   "version": "1.2.0"
  }
 },
 "nbformat": 4,
 "nbformat_minor": 2
}
