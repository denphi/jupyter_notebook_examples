{
 "cells": [
  {
   "cell_type": "code",
   "execution_count": 1,
   "metadata": {
    "extensions": {
     "jupyter_dashboards": {
      "version": 1,
      "views": {
       "grid_default": {
        "hidden": true
       },
       "report_default": {}
      }
     }
    }
   },
   "outputs": [
    {
     "data": {
      "application/javascript": [
       "\n",
       "requirejs.undef('filepicker');\n",
       "\n",
       "define('filepicker', [\"jupyter-js-widgets\"], function(widgets) {\n",
       "\n",
       "    var FilePickerView = widgets.DOMWidgetView.extend({\n",
       "        render: function(){\n",
       "            this.file = document.createElement('input');\n",
       "            this.file.setAttribute('class', 'fileinput');\n",
       "            this.file.setAttribute('id', this.cid);\n",
       "            this.file.multiple = this.model.get('multiple');\n",
       "            this.file.required = true;\n",
       "            this.file.setAttribute('type', 'file');\n",
       "            this.file.setAttribute('style', 'display:none');\n",
       "\n",
       "            this.label = document.createElement('label');\n",
       "            this.label.setAttribute('for', this.cid);\n",
       "            this.label.setAttribute('style', 'border: 1px solid; border-radius: 5px; display: inline-block; padding: 6px 12px');\n",
       "\n",
       "            this.icon = document.createElement('i');\n",
       "            this.icon.setAttribute(\"class\", \"fs fa-upload\");\n",
       "\n",
       "            if (this.file.multiple) {\n",
       "                this.labelstr = \"  Upload Files\";\n",
       "            } else {\n",
       "                this.labelstr = \"  Upload File\";\n",
       "            }\n",
       "            this.label.innerHTML = this.labelstr;\n",
       "            this.label.prepend(this.icon);\n",
       "            this.el.appendChild(this.label);\n",
       "            this.el.appendChild(this.file);\n",
       "            this.update();\n",
       "        },\n",
       "\n",
       "        events: {\n",
       "            // List of events and their handlers.\n",
       "            'change': 'handle_file_change',\n",
       "        },\n",
       "\n",
       "        handle_file_change: function(evt) {\n",
       "\n",
       "            var that = this;\n",
       "            var files = evt.target.files;\n",
       "            var filenames = [];\n",
       "            var skipped = [];\n",
       "            var file_readers = [];\n",
       "\n",
       "            for (var i = 0; i < files.length; i++) {\n",
       "                var file = files[i];\n",
       "                console.log(\"Filename: \" + file.name);\n",
       "                console.log(\"Type: \" + file.type);\n",
       "                console.log(\"Size: \" + file.size + \" bytes\");\n",
       "                if (file.size > this.model.get('maxsize')) {\n",
       "                    skipped.push(file.name);\n",
       "                    continue;\n",
       "                };\n",
       "                filenames.push(file.name);\n",
       "\n",
       "                // Read the file's textual content and set value_i to those contents.\n",
       "                file_readers.push(new FileReader());\n",
       "                file_readers[i].onload = (function(file, i) {\n",
       "                    return function(e) {\n",
       "                        that.model.set('value_' + i, e.target.result);\n",
       "                        that.touch();\n",
       "                        console.log(\"file_\" + i + \" loaded: \" + file.name);\n",
       "                    };\n",
       "                })(file, i);\n",
       "                file_readers[i].readAsDataURL(file);\n",
       "            };\n",
       "\n",
       "            // update the label\n",
       "            if (filenames.length == 0) {\n",
       "                this.label.innerHTML = this.labelstr;\n",
       "            } else if (filenames.length == 1) {\n",
       "                this.label.innerHTML = \"  \" + filenames[0];\n",
       "            } else {\n",
       "                this.label.innerHTML = \"  \" + filenames.length + \" files selected\";\n",
       "            };\n",
       "            this.label.prepend(this.icon);\n",
       "\n",
       "            // Set the filenames of the files.\n",
       "            this.model.set('filenames', filenames);\n",
       "            this.model.set('skipped', skipped);\n",
       "            this.touch();\n",
       "        },\n",
       "    });\n",
       "\n",
       "    // Register the FilePickerView with the widget manager.\n",
       "    return {\n",
       "        FilePickerView: FilePickerView\n",
       "    };\n",
       "});\n"
      ],
      "text/plain": [
       "<IPython.core.display.Javascript object>"
      ]
     },
     "metadata": {},
     "output_type": "display_data"
    },
    {
     "data": {
      "text/html": [
       "\n",
       "<script>\n",
       "requirejs.config({\n",
       "    paths: {\n",
       "        'ace': ['//cdnjs.cloudflare.com/ajax/libs/ace/1.2.6/ace'],\n",
       "    },\n",
       "});\n",
       "\n",
       "require(['ace'], function(ace) {\n",
       "    console.log(\"ACE loaded :)\");\n",
       "    return {};\n",
       "});\n",
       "</script>\n",
       "\n",
       "<script>\n",
       "requirejs.undef('editor');\n",
       "\n",
       "define('editor', [\"jupyter-js-widgets\"], function(widgets) {\n",
       "\n",
       "    var EditorView = widgets.DOMWidgetView.extend({\n",
       "\n",
       "        // Render the view.\n",
       "        render: function() {\n",
       "            this.ignorex = false;\n",
       "            this.ignorev = false;\n",
       "            //console.log('RENDER '+this.model.get('name'));\n",
       "            this.div = document.createElement('div');\n",
       "            this.div.setAttribute('id', this.model.get('name'));\n",
       "            this.el.appendChild(this.div);\n",
       "            this.listenTo(this.model, 'change:state', this._state_changed, this);\n",
       "            this.listenTo(this.model, 'change:theme', this._theme_changed, this);\n",
       "            this.listenTo(this.model, 'change:mode', this._mode_changed, this);\n",
       "            this.listenTo(this.model, 'change:value2', this._value2_changed, this);\n",
       "            this.listenTo(this.model, 'change:showmargin', this._showmargin_changed, this);\n",
       "            this.listenTo(this.model, 'change:fontsize', this._fontsize_changed, this);\n",
       "            this.update();\n",
       "        },\n",
       "        update: function() {\n",
       "            return EditorView.__super__.update.apply(this);\n",
       "        },\n",
       "        // Tell Backbone to listen to the change event of input controls\n",
       "        events: {\n",
       "            \"change\": \"handle_color_change\"\n",
       "        },\n",
       "\n",
       "        _state_changed: function() {\n",
       "            var state = this.model.get('state')\n",
       "            //console.log('state: ' + state );\n",
       "            if (state == 'start') {\n",
       "                var that = this;\n",
       "                this._ed = ace.edit(this.model.get('name'));\n",
       "                this._ed.getSession().on('change', function(e) {\n",
       "                    if (that.ignorev == true) { return }\n",
       "                    that.ignorex = true;\n",
       "                    //console.log('CHANGE1');\n",
       "                    that.model.set('value2', that._ed.getValue());\n",
       "                    //console.log('CHANGE2');\n",
       "                    that.touch();\n",
       "                    //console.log('CHANGE3');\n",
       "                    that.ignorex = false;\n",
       "                });\n",
       "            };\n",
       "        },\n",
       "        _theme_changed: function() {\n",
       "            //console.log(\"theme \" + this.model.get('theme'));\n",
       "            this._ed.setTheme(\"ace/theme/\"+this.model.get('theme'));\n",
       "        },\n",
       "        _mode_changed: function() {\n",
       "            //console.log(\"mode \" + this.model.get('mode'));\n",
       "            this._ed.getSession().setMode(\"ace/mode/\"+this.model.get('mode'));\n",
       "        },\n",
       "        _value2_changed: function() {\n",
       "            //console.log('value2 ' + this.ignorex);\n",
       "            if (this.ignorex == true) { return };\n",
       "            var val = this.model.get('value2');\n",
       "            //console.log('VALUE2 ' + val);\n",
       "            this.ignorev = true;\n",
       "            this._ed.setValue(val);\n",
       "            this.ignorev = false;\n",
       "            //console.log('VALUE2 DONE');\n",
       "        },\n",
       "        _showmargin_changed: function() {\n",
       "            this._ed.setShowPrintMargin(this.model.get('showmargin'));\n",
       "        },\n",
       "        _fontsize_changed: function() {\n",
       "            document.getElementById(this.model.get('name')).style.fontSize=this.model.get('fontsize');\n",
       "        },\n",
       "\n",
       "        // Callback for when the color is changed.\n",
       "        handle_color_change: function(event) {\n",
       "            console.log('SOMETHING CHNAGED');\n",
       "            console.log(event);\n",
       "        },\n",
       "    });\n",
       "\n",
       "    return {\n",
       "        EditorView: EditorView\n",
       "    };\n",
       "});\n",
       "</script>\n"
      ],
      "text/plain": [
       "<IPython.core.display.HTML object>"
      ]
     },
     "metadata": {},
     "output_type": "display_data"
    }
   ],
   "source": [
    "import hublib.ui as ui"
   ]
  },
  {
   "cell_type": "markdown",
   "metadata": {
    "extensions": {
     "jupyter_dashboards": {
      "version": 1,
      "views": {
       "grid_default": {
        "col": 0,
        "height": 4,
        "hidden": false,
        "row": 0,
        "width": 4
       },
       "report_default": {}
      }
     }
    }
   },
   "source": [
    "## Number (Float) Input with Units"
   ]
  },
  {
   "cell_type": "code",
   "execution_count": 2,
   "metadata": {
    "extensions": {
     "jupyter_dashboards": {
      "version": 1,
      "views": {
       "grid_default": {
        "col": 4,
        "height": 4,
        "hidden": false,
        "row": 0,
        "width": 4
       },
       "report_default": {}
      }
     }
    }
   },
   "outputs": [
    {
     "data": {
      "application/vnd.jupyter.widget-view+json": {
       "model_id": "8684afac27384c639a0c9f509b59d6dc",
       "version_major": 2,
       "version_minor": 0
      },
      "text/html": [
       "<p>Failed to display Jupyter Widget of type <code>Box</code>.</p>\n",
       "<p>\n",
       "  If you're reading this message in Jupyter Notebook or JupyterLab, it may mean\n",
       "  that the widgets JavaScript is still loading. If this message persists, it\n",
       "  likely means that the widgets JavaScript library is either not installed or\n",
       "  not enabled. See the <a href=\"https://ipywidgets.readthedocs.io/en/stable/user_install.html\">Jupyter\n",
       "  Widgets Documentation</a> for setup instructions.\n",
       "</p>\n",
       "<p>\n",
       "  If you're reading this message in another notebook frontend (for example, a static\n",
       "  rendering on GitHub or <a href=\"https://nbviewer.jupyter.org/\">NBViewer</a>),\n",
       "  it may mean that your frontend doesn't currently support widgets.\n",
       "</p>\n"
      ],
      "text/plain": [
       "Box(children=(HTML(value=u'<p data-toggle=\"popover\" title=\"\\n\\nValues with no units will be assumed to be gigapascal [GPa].\\n\\nMin: 0.0\\nMax: 500.0\\n\\nYou can type expressions using other units and they will be converted if possible.\\n\\nMin: 0.0\\nMax: 500.0\\n\\n\">E1</p>', layout=Layout(flex=u'2 1 auto')), Text(value=u'138 GPa'), Valid(value=True, layout=Layout(flex=u'0 1 0'))), layout=Layout(border=u'solid 1px lightgray', display=u'flex', flex_flow=u'row', justify_content=u'space-between', padding=u'5px', width=u'auto'))"
      ]
     },
     "metadata": {},
     "output_type": "display_data"
    }
   ],
   "source": [
    "e1 = ui.Number(\n",
    "        name='E1',\n",
    "        description=\"Longitudinal Young's Modulus\",\n",
    "        units='GPa',\n",
    "        min='0 GPa',\n",
    "        max='500 GPa',\n",
    "        value='138 GPa'\n",
    "    )\n",
    "e1"
   ]
  },
  {
   "cell_type": "markdown",
   "metadata": {
    "extensions": {
     "jupyter_dashboards": {
      "version": 1,
      "views": {
       "grid_default": {
        "col": 8,
        "height": 4,
        "hidden": false,
        "row": 0,
        "width": 4
       },
       "report_default": {}
      }
     }
    }
   },
   "source": [
    "You can control the width."
   ]
  },
  {
   "cell_type": "code",
   "execution_count": 3,
   "metadata": {
    "extensions": {
     "jupyter_dashboards": {
      "version": 1,
      "views": {
       "grid_default": {
        "col": 0,
        "height": 4,
        "hidden": false,
        "row": 4,
        "width": 4
       },
       "report_default": {}
      }
     }
    }
   },
   "outputs": [
    {
     "data": {
      "application/vnd.jupyter.widget-view+json": {
       "model_id": "348b81384d8045e387b3e1e481119bbd",
       "version_major": 2,
       "version_minor": 0
      },
      "text/html": [
       "<p>Failed to display Jupyter Widget of type <code>Box</code>.</p>\n",
       "<p>\n",
       "  If you're reading this message in Jupyter Notebook or JupyterLab, it may mean\n",
       "  that the widgets JavaScript is still loading. If this message persists, it\n",
       "  likely means that the widgets JavaScript library is either not installed or\n",
       "  not enabled. See the <a href=\"https://ipywidgets.readthedocs.io/en/stable/user_install.html\">Jupyter\n",
       "  Widgets Documentation</a> for setup instructions.\n",
       "</p>\n",
       "<p>\n",
       "  If you're reading this message in another notebook frontend (for example, a static\n",
       "  rendering on GitHub or <a href=\"https://nbviewer.jupyter.org/\">NBViewer</a>),\n",
       "  it may mean that your frontend doesn't currently support widgets.\n",
       "</p>\n"
      ],
      "text/plain": [
       "Box(children=(HTML(value=u'<p data-toggle=\"popover\" title=\"\\n\\nValues with no units will be assumed to be gigapascal [GPa].\\n\\nMin: 0.0\\nMax: 500.0\\n\\nYou can type expressions using other units and they will be converted if possible.\\n\\nMin: 0.0\\nMax: 500.0\\n\\n\">E1</p>', layout=Layout(flex=u'2 1 auto')), Text(value=u'138 GPa'), Valid(value=True, layout=Layout(flex=u'0 1 0'))), layout=Layout(border=u'solid 1px lightgray', display=u'flex', flex_flow=u'row', justify_content=u'space-between', padding=u'5px', width=u'30%'))"
      ]
     },
     "metadata": {},
     "output_type": "display_data"
    }
   ],
   "source": [
    "e1 = ui.Number(\n",
    "        name='E1',\n",
    "        description=\"Longitudinal Young's Modulus\",\n",
    "        units='GPa',\n",
    "        min='0 GPa',\n",
    "        max='500 GPa',\n",
    "        value='138 GPa',\n",
    "        width='30%'\n",
    "    )\n",
    "e1"
   ]
  },
  {
   "cell_type": "code",
   "execution_count": 4,
   "metadata": {
    "extensions": {
     "jupyter_dashboards": {
      "version": 1,
      "views": {
       "grid_default": {
        "col": 4,
        "height": 4,
        "hidden": false,
        "row": 4,
        "width": 4
       },
       "report_default": {}
      }
     }
    }
   },
   "outputs": [
    {
     "data": {
      "text/plain": [
       "138"
      ]
     },
     "execution_count": 4,
     "metadata": {},
     "output_type": "execute_result"
    }
   ],
   "source": [
    "e1.value"
   ]
  },
  {
   "cell_type": "code",
   "execution_count": 5,
   "metadata": {
    "extensions": {
     "jupyter_dashboards": {
      "version": 1,
      "views": {
       "grid_default": {
        "col": 8,
        "height": 4,
        "hidden": false,
        "row": 4,
        "width": 4
       },
       "report_default": {}
      }
     }
    }
   },
   "outputs": [
    {
     "data": {
      "text/plain": [
       "'138 GPa'"
      ]
     },
     "execution_count": 5,
     "metadata": {},
     "output_type": "execute_result"
    }
   ],
   "source": [
    "e1.str"
   ]
  },
  {
   "cell_type": "markdown",
   "metadata": {
    "extensions": {
     "jupyter_dashboards": {
      "version": 1,
      "views": {
       "grid_default": {
        "col": 0,
        "height": 4,
        "hidden": false,
        "row": 8,
        "width": 4
       },
       "report_default": {}
      }
     }
    }
   },
   "source": [
    "## Integer Input\n",
    "Integer inputs do not have units"
   ]
  },
  {
   "cell_type": "code",
   "execution_count": 6,
   "metadata": {
    "extensions": {
     "jupyter_dashboards": {
      "version": 1,
      "views": {
       "grid_default": {
        "col": 4,
        "height": 4,
        "hidden": false,
        "row": 8,
        "width": 4
       },
       "report_default": {}
      }
     }
    }
   },
   "outputs": [
    {
     "data": {
      "application/vnd.jupyter.widget-view+json": {
       "model_id": "d417d52c19cd40c98f2670119044d54d",
       "version_major": 2,
       "version_minor": 0
      },
      "text/html": [
       "<p>Failed to display Jupyter Widget of type <code>Box</code>.</p>\n",
       "<p>\n",
       "  If you're reading this message in Jupyter Notebook or JupyterLab, it may mean\n",
       "  that the widgets JavaScript is still loading. If this message persists, it\n",
       "  likely means that the widgets JavaScript library is either not installed or\n",
       "  not enabled. See the <a href=\"https://ipywidgets.readthedocs.io/en/stable/user_install.html\">Jupyter\n",
       "  Widgets Documentation</a> for setup instructions.\n",
       "</p>\n",
       "<p>\n",
       "  If you're reading this message in another notebook frontend (for example, a static\n",
       "  rendering on GitHub or <a href=\"https://nbviewer.jupyter.org/\">NBViewer</a>),\n",
       "  it may mean that your frontend doesn't currently support widgets.\n",
       "</p>\n"
      ],
      "text/plain": [
       "Box(children=(HTML(value=u'<p data-toggle=\"popover\" title=\"\\n\\nMin: 0\\nMax: 500\\n\\n\\n\\nMin: 0\\nMax: 500\\n\\n\">Loops</p>', layout=Layout(flex=u'2 1 auto')), IntText(value=1), Valid(value=True, layout=Layout(flex=u'0 1 0'))), layout=Layout(border=u'solid 1px lightgray', display=u'flex', flex_flow=u'row', justify_content=u'space-between', padding=u'5px', width=u'auto'))"
      ]
     },
     "metadata": {},
     "output_type": "display_data"
    }
   ],
   "source": [
    "e1 = ui.Integer(\n",
    "        name='Loops',\n",
    "        description=\"Number of Loops to Run\",\n",
    "        min=0,\n",
    "        max=500,\n",
    "        value=1\n",
    "    )\n",
    "e1"
   ]
  },
  {
   "cell_type": "markdown",
   "metadata": {
    "extensions": {
     "jupyter_dashboards": {
      "version": 1,
      "views": {
       "grid_default": {
        "col": 8,
        "height": 4,
        "hidden": false,
        "row": 8,
        "width": 4
       },
       "report_default": {}
      }
     }
    }
   },
   "source": [
    "## Checkbutton"
   ]
  },
  {
   "cell_type": "code",
   "execution_count": 7,
   "metadata": {
    "extensions": {
     "jupyter_dashboards": {
      "version": 1,
      "views": {
       "grid_default": {
        "col": 0,
        "height": 4,
        "hidden": false,
        "row": 12,
        "width": 4
       },
       "report_default": {}
      }
     }
    }
   },
   "outputs": [
    {
     "data": {
      "application/vnd.jupyter.widget-view+json": {
       "model_id": "08467f6886e44dbb8e2614c371988c82",
       "version_major": 2,
       "version_minor": 0
      },
      "text/html": [
       "<p>Failed to display Jupyter Widget of type <code>Box</code>.</p>\n",
       "<p>\n",
       "  If you're reading this message in Jupyter Notebook or JupyterLab, it may mean\n",
       "  that the widgets JavaScript is still loading. If this message persists, it\n",
       "  likely means that the widgets JavaScript library is either not installed or\n",
       "  not enabled. See the <a href=\"https://ipywidgets.readthedocs.io/en/stable/user_install.html\">Jupyter\n",
       "  Widgets Documentation</a> for setup instructions.\n",
       "</p>\n",
       "<p>\n",
       "  If you're reading this message in another notebook frontend (for example, a static\n",
       "  rendering on GitHub or <a href=\"https://nbviewer.jupyter.org/\">NBViewer</a>),\n",
       "  it may mean that your frontend doesn't currently support widgets.\n",
       "</p>\n"
      ],
      "text/plain": [
       "Box(children=(HTML(value=u'<p data-toggle=\"popover\" title=\"Show the Advanced Options\">Advanced Options</p>'), Checkbox(value=False)), layout=Layout(border=u'solid 1px lightgray', display=u'flex', flex_flow=u'row', justify_content=u'space-between', padding=u'3px', width=u'50%'))"
      ]
     },
     "metadata": {},
     "output_type": "display_data"
    }
   ],
   "source": [
    "check = ui.Checkbox('Advanced Options', 'Show the Advanced Options', value=False, width='50%')\n",
    "check"
   ]
  },
  {
   "cell_type": "code",
   "execution_count": 8,
   "metadata": {
    "extensions": {
     "jupyter_dashboards": {
      "version": 1,
      "views": {
       "grid_default": {
        "col": 4,
        "height": 4,
        "hidden": false,
        "row": 12,
        "width": 4
       },
       "report_default": {}
      }
     }
    }
   },
   "outputs": [
    {
     "data": {
      "text/plain": [
       "False"
      ]
     },
     "execution_count": 8,
     "metadata": {},
     "output_type": "execute_result"
    }
   ],
   "source": [
    "check.value"
   ]
  },
  {
   "cell_type": "markdown",
   "metadata": {
    "extensions": {
     "jupyter_dashboards": {
      "version": 1,
      "views": {
       "grid_default": {
        "col": 8,
        "height": 4,
        "hidden": false,
        "row": 12,
        "width": 4
       },
       "report_default": {}
      }
     }
    }
   },
   "source": [
    "## Radiobutton"
   ]
  },
  {
   "cell_type": "code",
   "execution_count": 9,
   "metadata": {
    "extensions": {
     "jupyter_dashboards": {
      "version": 1,
      "views": {
       "grid_default": {
        "col": 0,
        "height": 6,
        "hidden": false,
        "row": 16,
        "width": 4
       },
       "report_default": {}
      }
     }
    }
   },
   "outputs": [
    {
     "data": {
      "application/vnd.jupyter.widget-view+json": {
       "model_id": "68a8460cf2a2449fb153564d97fbc571",
       "version_major": 2,
       "version_minor": 0
      },
      "text/html": [
       "<p>Failed to display Jupyter Widget of type <code>Box</code>.</p>\n",
       "<p>\n",
       "  If you're reading this message in Jupyter Notebook or JupyterLab, it may mean\n",
       "  that the widgets JavaScript is still loading. If this message persists, it\n",
       "  likely means that the widgets JavaScript library is either not installed or\n",
       "  not enabled. See the <a href=\"https://ipywidgets.readthedocs.io/en/stable/user_install.html\">Jupyter\n",
       "  Widgets Documentation</a> for setup instructions.\n",
       "</p>\n",
       "<p>\n",
       "  If you're reading this message in another notebook frontend (for example, a static\n",
       "  rendering on GitHub or <a href=\"https://nbviewer.jupyter.org/\">NBViewer</a>),\n",
       "  it may mean that your frontend doesn't currently support widgets.\n",
       "</p>\n"
      ],
      "text/plain": [
       "Box(children=(HTML(value=u'<p data-toggle=\"popover\" title=\"Type of nut to eat.\">Nut</p>'), RadioButtons(index=2, options=('peanut', 'walnut', 'almond', 'pecan'), value='almond')), layout=Layout(border=u'solid 1px lightgray', display=u'flex', flex_flow=u'row', justify_content=u'space-between', padding=u'3px', width=u'20%'))"
      ]
     },
     "metadata": {},
     "output_type": "display_data"
    }
   ],
   "source": [
    "r = ui.Radiobuttons(\n",
    "            name='Nut',\n",
    "            description=\"Type of nut to eat.\",\n",
    "            value='almond',\n",
    "            options=['peanut', 'walnut', 'almond', 'pecan'],\n",
    "            width='20%'\n",
    "        )\n",
    "r"
   ]
  },
  {
   "cell_type": "markdown",
   "metadata": {
    "extensions": {
     "jupyter_dashboards": {
      "version": 1,
      "views": {
       "grid_default": {
        "col": 4,
        "height": 4,
        "hidden": false,
        "row": 16,
        "width": 4
       },
       "report_default": {}
      }
     }
    }
   },
   "source": [
    "## Togglebutton"
   ]
  },
  {
   "cell_type": "code",
   "execution_count": 10,
   "metadata": {
    "extensions": {
     "jupyter_dashboards": {
      "version": 1,
      "views": {
       "grid_default": {
        "col": 8,
        "height": 5,
        "hidden": false,
        "row": 16,
        "width": 4
       },
       "report_default": {}
      }
     }
    }
   },
   "outputs": [
    {
     "data": {
      "application/vnd.jupyter.widget-view+json": {
       "model_id": "216fcc91a1d942b59d0f2ca27e1c5849",
       "version_major": 2,
       "version_minor": 0
      },
      "text/html": [
       "<p>Failed to display Jupyter Widget of type <code>Box</code>.</p>\n",
       "<p>\n",
       "  If you're reading this message in Jupyter Notebook or JupyterLab, it may mean\n",
       "  that the widgets JavaScript is still loading. If this message persists, it\n",
       "  likely means that the widgets JavaScript library is either not installed or\n",
       "  not enabled. See the <a href=\"https://ipywidgets.readthedocs.io/en/stable/user_install.html\">Jupyter\n",
       "  Widgets Documentation</a> for setup instructions.\n",
       "</p>\n",
       "<p>\n",
       "  If you're reading this message in another notebook frontend (for example, a static\n",
       "  rendering on GitHub or <a href=\"https://nbviewer.jupyter.org/\">NBViewer</a>),\n",
       "  it may mean that your frontend doesn't currently support widgets.\n",
       "</p>\n"
      ],
      "text/plain": [
       "Box(children=(HTML(value=u'<p data-toggle=\"popover\" title=\"Type of nut to eat.\">Nut</p>'), ToggleButtons(index=2, options=('peanut', 'walnut', 'almond', 'pecan'), value='almond')), layout=Layout(border=u'solid 1px lightgray', display=u'flex', flex_flow=u'row', justify_content=u'space-between', padding=u'3px', width=u'50%'))"
      ]
     },
     "metadata": {},
     "output_type": "display_data"
    }
   ],
   "source": [
    "tb = ui.Togglebuttons(\n",
    "            name='Nut',\n",
    "            description=\"Type of nut to eat.\",\n",
    "            value='almond',\n",
    "            options=['peanut', 'walnut', 'almond', 'pecan'],\n",
    "            width='50%'\n",
    "        )\n",
    "tb"
   ]
  },
  {
   "cell_type": "code",
   "execution_count": 11,
   "metadata": {
    "extensions": {
     "jupyter_dashboards": {
      "version": 1,
      "views": {
       "grid_default": {
        "col": 4,
        "height": 4,
        "hidden": false,
        "row": 20,
        "width": 4
       },
       "report_default": {}
      }
     }
    }
   },
   "outputs": [
    {
     "data": {
      "application/vnd.jupyter.widget-view+json": {
       "model_id": "67f18e1d5a5244b292665c915da7857a",
       "version_major": 2,
       "version_minor": 0
      },
      "text/html": [
       "<p>Failed to display Jupyter Widget of type <code>Box</code>.</p>\n",
       "<p>\n",
       "  If you're reading this message in Jupyter Notebook or JupyterLab, it may mean\n",
       "  that the widgets JavaScript is still loading. If this message persists, it\n",
       "  likely means that the widgets JavaScript library is either not installed or\n",
       "  not enabled. See the <a href=\"https://ipywidgets.readthedocs.io/en/stable/user_install.html\">Jupyter\n",
       "  Widgets Documentation</a> for setup instructions.\n",
       "</p>\n",
       "<p>\n",
       "  If you're reading this message in another notebook frontend (for example, a static\n",
       "  rendering on GitHub or <a href=\"https://nbviewer.jupyter.org/\">NBViewer</a>),\n",
       "  it may mean that your frontend doesn't currently support widgets.\n",
       "</p>\n"
      ],
      "text/plain": [
       "Box(children=(HTML(value=u'<p data-toggle=\"popover\" title=\"Type of nut to eat.\">Nut</p>'), Dropdown(index=2, options=('peanut', 'walnut', 'almond', 'pecan'), value='almond')), layout=Layout(border=u'solid 1px lightgray', display=u'flex', flex_flow=u'row', justify_content=u'space-between', padding=u'3px', width=u'30%'))"
      ]
     },
     "metadata": {},
     "output_type": "display_data"
    }
   ],
   "source": [
    "dd = ui.Dropdown(\n",
    "            name='Nut',\n",
    "            description=\"Type of nut to eat.\",\n",
    "            value='almond',\n",
    "            options=['peanut', 'walnut', 'almond', 'pecan'],\n",
    "            width='30%'\n",
    "        )\n",
    "dd"
   ]
  },
  {
   "cell_type": "code",
   "execution_count": 12,
   "metadata": {
    "extensions": {
     "jupyter_dashboards": {
      "version": 1,
      "views": {
       "grid_default": {
        "col": 8,
        "height": 8,
        "hidden": false,
        "row": 75,
        "width": 4
       },
       "report_default": {}
      }
     }
    }
   },
   "outputs": [
    {
     "data": {
      "application/vnd.jupyter.widget-view+json": {
       "model_id": "c4aee2b1a16348abb2df83bb18cbc552",
       "version_major": 2,
       "version_minor": 0
      },
      "text/html": [
       "<p>Failed to display Jupyter Widget of type <code>Tab</code>.</p>\n",
       "<p>\n",
       "  If you're reading this message in Jupyter Notebook or JupyterLab, it may mean\n",
       "  that the widgets JavaScript is still loading. If this message persists, it\n",
       "  likely means that the widgets JavaScript library is either not installed or\n",
       "  not enabled. See the <a href=\"https://ipywidgets.readthedocs.io/en/stable/user_install.html\">Jupyter\n",
       "  Widgets Documentation</a> for setup instructions.\n",
       "</p>\n",
       "<p>\n",
       "  If you're reading this message in another notebook frontend (for example, a static\n",
       "  rendering on GitHub or <a href=\"https://nbviewer.jupyter.org/\">NBViewer</a>),\n",
       "  it may mean that your frontend doesn't currently support widgets.\n",
       "</p>\n"
      ],
      "text/plain": [
       "Tab(children=(Box(children=(HTML(value=u'<p data-toggle=\"popover\" title=\"Type of nut to eat.\">Nut</p>'), ToggleButtons(index=2, options=('peanut', 'walnut', 'almond', 'pecan'), value='almond')), layout=Layout(border=u'solid 1px lightgray', display=u'flex', flex_flow=u'row', justify_content=u'space-between', padding=u'3px', width=u'50%')), Box(children=(HTML(value=u'<p data-toggle=\"popover\" title=\"Type of nut to eat.\">Nut</p>'), Dropdown(index=2, options=('peanut', 'walnut', 'almond', 'pecan'), value='almond')), layout=Layout(border=u'solid 1px lightgray', display=u'flex', flex_flow=u'row', justify_content=u'space-between', padding=u'3px', width=u'30%'))))"
      ]
     },
     "metadata": {},
     "output_type": "display_data"
    }
   ],
   "source": [
    "import ipywidgets as widgets\n",
    "widgets.Tab(children=[tb.w, dd.w])"
   ]
  },
  {
   "cell_type": "code",
   "execution_count": 13,
   "metadata": {
    "extensions": {
     "jupyter_dashboards": {
      "version": 1,
      "views": {
       "grid_default": {
        "col": 8,
        "height": 4,
        "hidden": false,
        "row": 21,
        "width": 4
       },
       "report_default": {}
      }
     }
    }
   },
   "outputs": [
    {
     "data": {
      "application/vnd.jupyter.widget-view+json": {
       "model_id": "c570027946b14ff3a682e4773b75ed01",
       "version_major": 2,
       "version_minor": 0
      },
      "text/html": [
       "<p>Failed to display Jupyter Widget of type <code>Box</code>.</p>\n",
       "<p>\n",
       "  If you're reading this message in Jupyter Notebook or JupyterLab, it may mean\n",
       "  that the widgets JavaScript is still loading. If this message persists, it\n",
       "  likely means that the widgets JavaScript library is either not installed or\n",
       "  not enabled. See the <a href=\"https://ipywidgets.readthedocs.io/en/stable/user_install.html\">Jupyter\n",
       "  Widgets Documentation</a> for setup instructions.\n",
       "</p>\n",
       "<p>\n",
       "  If you're reading this message in another notebook frontend (for example, a static\n",
       "  rendering on GitHub or <a href=\"https://nbviewer.jupyter.org/\">NBViewer</a>),\n",
       "  it may mean that your frontend doesn't currently support widgets.\n",
       "</p>\n"
      ],
      "text/plain": [
       "Box(children=(HTML(value=u'<p data-toggle=\"popover\" title=\"Name (First and Last)\">Name</p>'), Text(value=u'<name>')), layout=Layout(border=u'solid 1px lightgray', display=u'flex', flex_flow=u'row', justify_content=u'space-between', padding=u'3px', width=u'auto'))"
      ]
     },
     "metadata": {},
     "output_type": "display_data"
    }
   ],
   "source": [
    "xstr = ui.String(name=\"Name\", description='Name (First and Last)', value='<name>')\n",
    "xstr"
   ]
  },
  {
   "cell_type": "code",
   "execution_count": 14,
   "metadata": {
    "extensions": {
     "jupyter_dashboards": {
      "version": 1,
      "views": {
       "grid_default": {
        "col": 0,
        "height": 4,
        "hidden": false,
        "row": 22,
        "width": 4
       },
       "report_default": {}
      }
     }
    }
   },
   "outputs": [
    {
     "data": {
      "application/vnd.jupyter.widget-view+json": {
       "model_id": "ec62b0611b2d490a925649268a9ee3d6",
       "version_major": 2,
       "version_minor": 0
      },
      "text/html": [
       "<p>Failed to display Jupyter Widget of type <code>Box</code>.</p>\n",
       "<p>\n",
       "  If you're reading this message in Jupyter Notebook or JupyterLab, it may mean\n",
       "  that the widgets JavaScript is still loading. If this message persists, it\n",
       "  likely means that the widgets JavaScript library is either not installed or\n",
       "  not enabled. See the <a href=\"https://ipywidgets.readthedocs.io/en/stable/user_install.html\">Jupyter\n",
       "  Widgets Documentation</a> for setup instructions.\n",
       "</p>\n",
       "<p>\n",
       "  If you're reading this message in another notebook frontend (for example, a static\n",
       "  rendering on GitHub or <a href=\"https://nbviewer.jupyter.org/\">NBViewer</a>),\n",
       "  it may mean that your frontend doesn't currently support widgets.\n",
       "</p>\n"
      ],
      "text/plain": [
       "Box(children=(HTML(value=u'<p data-toggle=\"popover\" title=\"Experiment Description\">Description</p>'), Textarea(value=u'')), layout=Layout(border=u'solid 1px lightgray', display=u'flex', flex_flow=u'row', justify_content=u'space-between', padding=u'3px', width=u'auto'))"
      ]
     },
     "metadata": {},
     "output_type": "display_data"
    }
   ],
   "source": [
    "xtxt = ui.Text(name=\"Description\", description='Experiment Description', value='')\n",
    "xtxt"
   ]
  },
  {
   "cell_type": "markdown",
   "metadata": {
    "extensions": {
     "jupyter_dashboards": {
      "version": 1,
      "views": {
       "grid_default": {
        "col": 4,
        "height": 4,
        "hidden": false,
        "row": 24,
        "width": 4
       },
       "report_default": {}
      }
     }
    }
   },
   "source": [
    "# Grouping\n",
    "Collections of UI elements can be collected in Tabs and Forms."
   ]
  },
  {
   "cell_type": "code",
   "execution_count": 15,
   "metadata": {
    "extensions": {
     "jupyter_dashboards": {
      "version": 1,
      "views": {
       "grid_default": {
        "col": 8,
        "height": 4,
        "hidden": false,
        "row": 25,
        "width": 4
       },
       "report_default": {}
      }
     }
    }
   },
   "outputs": [
    {
     "data": {
      "application/vnd.jupyter.widget-view+json": {
       "model_id": "46585800d1bf481d9c518abae4f415fd",
       "version_major": 2,
       "version_minor": 0
      },
      "text/html": [
       "<p>Failed to display Jupyter Widget of type <code>Tab</code>.</p>\n",
       "<p>\n",
       "  If you're reading this message in Jupyter Notebook or JupyterLab, it may mean\n",
       "  that the widgets JavaScript is still loading. If this message persists, it\n",
       "  likely means that the widgets JavaScript library is either not installed or\n",
       "  not enabled. See the <a href=\"https://ipywidgets.readthedocs.io/en/stable/user_install.html\">Jupyter\n",
       "  Widgets Documentation</a> for setup instructions.\n",
       "</p>\n",
       "<p>\n",
       "  If you're reading this message in another notebook frontend (for example, a static\n",
       "  rendering on GitHub or <a href=\"https://nbviewer.jupyter.org/\">NBViewer</a>),\n",
       "  it may mean that your frontend doesn't currently support widgets.\n",
       "</p>\n"
      ],
      "text/plain": [
       "Tab(children=(Box(children=(HTML(value=u'<p data-toggle=\"popover\" title=\"\\n\\nMin: 0\\nMax: 500\\n\\n\\n\\nMin: 0\\nMax: 500\\n\\n\">Loops</p>', layout=Layout(flex=u'2 1 auto')), IntText(value=1), Valid(value=True, layout=Layout(flex=u'0 1 0'))), layout=Layout(border=u'solid 1px lightgray', display=u'flex', flex_flow=u'row', justify_content=u'space-between', padding=u'5px', width=u'auto')), Box(children=(HTML(value=u'<p data-toggle=\"popover\" title=\"Type of nut to eat.\">Nut</p>'), ToggleButtons(index=2, options=('peanut', 'walnut', 'almond', 'pecan'), value='almond')), layout=Layout(border=u'solid 1px lightgray', display=u'flex', flex_flow=u'row', justify_content=u'space-between', padding=u'3px', width=u'50%')), Box(children=(HTML(value=u'<p data-toggle=\"popover\" title=\"Name (First and Last)\">Name</p>'), Text(value=u'<name>')), layout=Layout(border=u'solid 1px lightgray', display=u'flex', flex_flow=u'row', justify_content=u'space-between', padding=u'3px', width=u'auto'))), _titles={0: 'Loops', 1: 'Nut', 2: 'Name'})"
      ]
     },
     "metadata": {},
     "output_type": "display_data"
    }
   ],
   "source": [
    "ui.Tab([e1,tb,xstr])"
   ]
  },
  {
   "cell_type": "code",
   "execution_count": 16,
   "metadata": {
    "extensions": {
     "jupyter_dashboards": {
      "version": 1,
      "views": {
       "grid_default": {
        "col": 0,
        "height": 7,
        "hidden": false,
        "row": 26,
        "width": 4
       },
       "report_default": {}
      }
     }
    }
   },
   "outputs": [
    {
     "data": {
      "application/vnd.jupyter.widget-view+json": {
       "model_id": "4d3df75e2f7f4f8db424bd9b37e7728b",
       "version_major": 2,
       "version_minor": 0
      },
      "text/html": [
       "<p>Failed to display Jupyter Widget of type <code>VBox</code>.</p>\n",
       "<p>\n",
       "  If you're reading this message in Jupyter Notebook or JupyterLab, it may mean\n",
       "  that the widgets JavaScript is still loading. If this message persists, it\n",
       "  likely means that the widgets JavaScript library is either not installed or\n",
       "  not enabled. See the <a href=\"https://ipywidgets.readthedocs.io/en/stable/user_install.html\">Jupyter\n",
       "  Widgets Documentation</a> for setup instructions.\n",
       "</p>\n",
       "<p>\n",
       "  If you're reading this message in another notebook frontend (for example, a static\n",
       "  rendering on GitHub or <a href=\"https://nbviewer.jupyter.org/\">NBViewer</a>),\n",
       "  it may mean that your frontend doesn't currently support widgets.\n",
       "</p>\n"
      ],
      "text/plain": [
       "VBox(children=(Box(children=(HTML(value=u'<p data-toggle=\"popover\" title=\"\\n\\nMin: 0\\nMax: 500\\n\\n\\n\\nMin: 0\\nMax: 500\\n\\n\">Loops</p>', layout=Layout(flex=u'2 1 auto')), IntText(value=1), Valid(value=True, layout=Layout(flex=u'0 1 0'))), layout=Layout(border=u'solid 1px lightgray', display=u'flex', flex_flow=u'row', justify_content=u'space-between', padding=u'5px', width=u'auto')), Box(children=(HTML(value=u'<p data-toggle=\"popover\" title=\"Type of nut to eat.\">Nut</p>'), ToggleButtons(index=2, options=('peanut', 'walnut', 'almond', 'pecan'), value='almond')), layout=Layout(border=u'solid 1px lightgray', display=u'flex', flex_flow=u'row', justify_content=u'space-between', padding=u'3px', width=u'50%')), Box(children=(HTML(value=u'<p data-toggle=\"popover\" title=\"Name (First and Last)\">Name</p>'), Text(value=u'<name>')), layout=Layout(border=u'solid 1px lightgray', display=u'flex', flex_flow=u'row', justify_content=u'space-between', padding=u'3px', width=u'auto'))), layout=Layout(align_items=u'stretch', display=u'flex', flex_flow=u'column'))"
      ]
     },
     "metadata": {},
     "output_type": "display_data"
    }
   ],
   "source": [
    "ui.Form([e1,tb,xstr])"
   ]
  },
  {
   "cell_type": "code",
   "execution_count": 17,
   "metadata": {
    "extensions": {
     "jupyter_dashboards": {
      "version": 1,
      "views": {
       "grid_default": {
        "col": 4,
        "height": 9,
        "hidden": false,
        "row": 28,
        "width": 4
       },
       "report_default": {}
      }
     }
    }
   },
   "outputs": [
    {
     "data": {
      "application/vnd.jupyter.widget-view+json": {
       "model_id": "8a9d52a22e7b4623992521056187eec9",
       "version_major": 2,
       "version_minor": 0
      },
      "text/html": [
       "<p>Failed to display Jupyter Widget of type <code>VBox</code>.</p>\n",
       "<p>\n",
       "  If you're reading this message in Jupyter Notebook or JupyterLab, it may mean\n",
       "  that the widgets JavaScript is still loading. If this message persists, it\n",
       "  likely means that the widgets JavaScript library is either not installed or\n",
       "  not enabled. See the <a href=\"https://ipywidgets.readthedocs.io/en/stable/user_install.html\">Jupyter\n",
       "  Widgets Documentation</a> for setup instructions.\n",
       "</p>\n",
       "<p>\n",
       "  If you're reading this message in another notebook frontend (for example, a static\n",
       "  rendering on GitHub or <a href=\"https://nbviewer.jupyter.org/\">NBViewer</a>),\n",
       "  it may mean that your frontend doesn't currently support widgets.\n",
       "</p>\n"
      ],
      "text/plain": [
       "VBox(children=(HTML(value=u\"<p   style='background-color: #DCDCDC; font-size:200; padding: 5px'>My Parameters</p>\", layout=Layout(flex=u'2 1 auto')), Box(children=(HTML(value=u'<p data-toggle=\"popover\" title=\"\\n\\nMin: 0\\nMax: 500\\n\\n\\n\\nMin: 0\\nMax: 500\\n\\n\">Loops</p>', layout=Layout(flex=u'2 1 auto')), IntText(value=1), Valid(value=True, layout=Layout(flex=u'0 1 0'))), layout=Layout(border=u'solid 1px lightgray', display=u'flex', flex_flow=u'row', justify_content=u'space-between', padding=u'5px', width=u'auto')), Box(children=(HTML(value=u'<p data-toggle=\"popover\" title=\"Type of nut to eat.\">Nut</p>'), ToggleButtons(index=2, options=('peanut', 'walnut', 'almond', 'pecan'), value='almond')), layout=Layout(border=u'solid 1px lightgray', display=u'flex', flex_flow=u'row', justify_content=u'space-between', padding=u'3px', width=u'50%')), Box(children=(HTML(value=u'<p data-toggle=\"popover\" title=\"Name (First and Last)\">Name</p>'), Text(value=u'<name>')), layout=Layout(border=u'solid 1px lightgray', display=u'flex', flex_flow=u'row', justify_content=u'space-between', padding=u'3px', width=u'auto'))), layout=Layout(align_items=u'stretch', display=u'flex', flex_flow=u'column'))"
      ]
     },
     "metadata": {},
     "output_type": "display_data"
    }
   ],
   "source": [
    "f1 = ui.Form([e1,tb,xstr], name='My Parameters')\n",
    "f1"
   ]
  },
  {
   "cell_type": "code",
   "execution_count": 18,
   "metadata": {
    "extensions": {
     "jupyter_dashboards": {
      "version": 1,
      "views": {
       "grid_default": {
        "col": 8,
        "height": 6,
        "hidden": false,
        "row": 29,
        "width": 4
       },
       "report_default": {}
      }
     }
    }
   },
   "outputs": [
    {
     "data": {
      "application/vnd.jupyter.widget-view+json": {
       "model_id": "644fdb9e6b02438c81c7d67227014c0e",
       "version_major": 2,
       "version_minor": 0
      },
      "text/html": [
       "<p>Failed to display Jupyter Widget of type <code>VBox</code>.</p>\n",
       "<p>\n",
       "  If you're reading this message in Jupyter Notebook or JupyterLab, it may mean\n",
       "  that the widgets JavaScript is still loading. If this message persists, it\n",
       "  likely means that the widgets JavaScript library is either not installed or\n",
       "  not enabled. See the <a href=\"https://ipywidgets.readthedocs.io/en/stable/user_install.html\">Jupyter\n",
       "  Widgets Documentation</a> for setup instructions.\n",
       "</p>\n",
       "<p>\n",
       "  If you're reading this message in another notebook frontend (for example, a static\n",
       "  rendering on GitHub or <a href=\"https://nbviewer.jupyter.org/\">NBViewer</a>),\n",
       "  it may mean that your frontend doesn't currently support widgets.\n",
       "</p>\n"
      ],
      "text/plain": [
       "VBox(children=(HTML(value=u\"<p   style='background-color: #DCDCDC; font-size:200; padding: 5px'>More Parameters</p>\", layout=Layout(flex=u'2 1 auto')), Box(children=(HTML(value=u'<p data-toggle=\"popover\" title=\"Show the Advanced Options\">Advanced Options</p>'), Checkbox(value=False)), layout=Layout(border=u'solid 1px lightgray', display=u'flex', flex_flow=u'row', justify_content=u'space-between', padding=u'3px', width=u'50%')), Box(children=(HTML(value=u'<p data-toggle=\"popover\" title=\"Type of nut to eat.\">Nut</p>'), Dropdown(index=2, options=('peanut', 'walnut', 'almond', 'pecan'), value='almond')), layout=Layout(border=u'solid 1px lightgray', display=u'flex', flex_flow=u'row', justify_content=u'space-between', padding=u'3px', width=u'30%')), Box(children=(HTML(value=u'<p data-toggle=\"popover\" title=\"Experiment Description\">Description</p>'), Textarea(value=u'')), layout=Layout(border=u'solid 1px lightgray', display=u'flex', flex_flow=u'row', justify_content=u'space-between', padding=u'3px', width=u'auto'))), layout=Layout(align_items=u'stretch', display=u'flex', flex_flow=u'column'))"
      ]
     },
     "metadata": {},
     "output_type": "display_data"
    }
   ],
   "source": [
    "f2 = ui.Form([check, dd, xtxt], name='More Parameters')\n",
    "f2"
   ]
  },
  {
   "cell_type": "code",
   "execution_count": 19,
   "metadata": {
    "extensions": {
     "jupyter_dashboards": {
      "version": 1,
      "views": {
       "grid_default": {
        "col": 0,
        "height": 11,
        "hidden": false,
        "row": 33,
        "width": 4
       },
       "report_default": {}
      }
     }
    }
   },
   "outputs": [
    {
     "data": {
      "application/vnd.jupyter.widget-view+json": {
       "model_id": "186a6c5401694488af00f4b415c00264",
       "version_major": 2,
       "version_minor": 0
      },
      "text/html": [
       "<p>Failed to display Jupyter Widget of type <code>Tab</code>.</p>\n",
       "<p>\n",
       "  If you're reading this message in Jupyter Notebook or JupyterLab, it may mean\n",
       "  that the widgets JavaScript is still loading. If this message persists, it\n",
       "  likely means that the widgets JavaScript library is either not installed or\n",
       "  not enabled. See the <a href=\"https://ipywidgets.readthedocs.io/en/stable/user_install.html\">Jupyter\n",
       "  Widgets Documentation</a> for setup instructions.\n",
       "</p>\n",
       "<p>\n",
       "  If you're reading this message in another notebook frontend (for example, a static\n",
       "  rendering on GitHub or <a href=\"https://nbviewer.jupyter.org/\">NBViewer</a>),\n",
       "  it may mean that your frontend doesn't currently support widgets.\n",
       "</p>\n"
      ],
      "text/plain": [
       "Tab(children=(VBox(children=(HTML(value=u\"<p   style='background-color: #DCDCDC; font-size:200; padding: 5px'>My Parameters</p>\", layout=Layout(flex=u'2 1 auto')), Box(children=(HTML(value=u'<p data-toggle=\"popover\" title=\"\\n\\nMin: 0\\nMax: 500\\n\\n\\n\\nMin: 0\\nMax: 500\\n\\n\">Loops</p>', layout=Layout(flex=u'2 1 auto')), IntText(value=1), Valid(value=True, layout=Layout(flex=u'0 1 0'))), layout=Layout(border=u'solid 1px lightgray', display=u'flex', flex_flow=u'row', justify_content=u'space-between', padding=u'5px', width=u'auto')), Box(children=(HTML(value=u'<p data-toggle=\"popover\" title=\"Type of nut to eat.\">Nut</p>'), ToggleButtons(index=2, options=('peanut', 'walnut', 'almond', 'pecan'), value='almond')), layout=Layout(border=u'solid 1px lightgray', display=u'flex', flex_flow=u'row', justify_content=u'space-between', padding=u'3px', width=u'50%')), Box(children=(HTML(value=u'<p data-toggle=\"popover\" title=\"Name (First and Last)\">Name</p>'), Text(value=u'<name>')), layout=Layout(border=u'solid 1px lightgray', display=u'flex', flex_flow=u'row', justify_content=u'space-between', padding=u'3px', width=u'auto'))), layout=Layout(align_items=u'stretch', display=u'flex', flex_flow=u'column')), VBox(children=(HTML(value=u\"<p   style='background-color: #DCDCDC; font-size:200; padding: 5px'>More Parameters</p>\", layout=Layout(flex=u'2 1 auto')), Box(children=(HTML(value=u'<p data-toggle=\"popover\" title=\"Show the Advanced Options\">Advanced Options</p>'), Checkbox(value=False)), layout=Layout(border=u'solid 1px lightgray', display=u'flex', flex_flow=u'row', justify_content=u'space-between', padding=u'3px', width=u'50%')), Box(children=(HTML(value=u'<p data-toggle=\"popover\" title=\"Type of nut to eat.\">Nut</p>'), Dropdown(index=2, options=('peanut', 'walnut', 'almond', 'pecan'), value='almond')), layout=Layout(border=u'solid 1px lightgray', display=u'flex', flex_flow=u'row', justify_content=u'space-between', padding=u'3px', width=u'30%')), Box(children=(HTML(value=u'<p data-toggle=\"popover\" title=\"Experiment Description\">Description</p>'), Textarea(value=u'')), layout=Layout(border=u'solid 1px lightgray', display=u'flex', flex_flow=u'row', justify_content=u'space-between', padding=u'3px', width=u'auto'))), layout=Layout(align_items=u'stretch', display=u'flex', flex_flow=u'column'))), _titles={0: 'My Parameters', 1: 'More Parameters'})"
      ]
     },
     "metadata": {},
     "output_type": "display_data"
    }
   ],
   "source": [
    "ui.Tab([f1,f2])"
   ]
  },
  {
   "cell_type": "code",
   "execution_count": 20,
   "metadata": {
    "extensions": {
     "jupyter_dashboards": {
      "version": 1,
      "views": {
       "grid_default": {
        "col": 8,
        "height": 14,
        "hidden": false,
        "row": 35,
        "width": 4
       },
       "report_default": {}
      }
     }
    }
   },
   "outputs": [
    {
     "data": {
      "application/vnd.jupyter.widget-view+json": {
       "model_id": "cf2e24fce2c647279b8c2241a1d5ec8e",
       "version_major": 2,
       "version_minor": 0
      },
      "text/html": [
       "<p>Failed to display Jupyter Widget of type <code>VBox</code>.</p>\n",
       "<p>\n",
       "  If you're reading this message in Jupyter Notebook or JupyterLab, it may mean\n",
       "  that the widgets JavaScript is still loading. If this message persists, it\n",
       "  likely means that the widgets JavaScript library is either not installed or\n",
       "  not enabled. See the <a href=\"https://ipywidgets.readthedocs.io/en/stable/user_install.html\">Jupyter\n",
       "  Widgets Documentation</a> for setup instructions.\n",
       "</p>\n",
       "<p>\n",
       "  If you're reading this message in another notebook frontend (for example, a static\n",
       "  rendering on GitHub or <a href=\"https://nbviewer.jupyter.org/\">NBViewer</a>),\n",
       "  it may mean that your frontend doesn't currently support widgets.\n",
       "</p>\n"
      ],
      "text/plain": [
       "VBox(children=(VBox(children=(HTML(value=u\"<p   style='background-color: #DCDCDC; font-size:200; padding: 5px'>My Parameters</p>\", layout=Layout(flex=u'2 1 auto')), Box(children=(HTML(value=u'<p data-toggle=\"popover\" title=\"\\n\\nMin: 0\\nMax: 500\\n\\n\\n\\nMin: 0\\nMax: 500\\n\\n\">Loops</p>', layout=Layout(flex=u'2 1 auto')), IntText(value=1), Valid(value=True, layout=Layout(flex=u'0 1 0'))), layout=Layout(border=u'solid 1px lightgray', display=u'flex', flex_flow=u'row', justify_content=u'space-between', padding=u'5px', width=u'auto')), Box(children=(HTML(value=u'<p data-toggle=\"popover\" title=\"Type of nut to eat.\">Nut</p>'), ToggleButtons(index=2, options=('peanut', 'walnut', 'almond', 'pecan'), value='almond')), layout=Layout(border=u'solid 1px lightgray', display=u'flex', flex_flow=u'row', justify_content=u'space-between', padding=u'3px', width=u'50%')), Box(children=(HTML(value=u'<p data-toggle=\"popover\" title=\"Name (First and Last)\">Name</p>'), Text(value=u'<name>')), layout=Layout(border=u'solid 1px lightgray', display=u'flex', flex_flow=u'row', justify_content=u'space-between', padding=u'3px', width=u'auto'))), layout=Layout(align_items=u'stretch', display=u'flex', flex_flow=u'column')), VBox(children=(HTML(value=u\"<p   style='background-color: #DCDCDC; font-size:200; padding: 5px'>More Parameters</p>\", layout=Layout(flex=u'2 1 auto')), Box(children=(HTML(value=u'<p data-toggle=\"popover\" title=\"Show the Advanced Options\">Advanced Options</p>'), Checkbox(value=False)), layout=Layout(border=u'solid 1px lightgray', display=u'flex', flex_flow=u'row', justify_content=u'space-between', padding=u'3px', width=u'50%')), Box(children=(HTML(value=u'<p data-toggle=\"popover\" title=\"Type of nut to eat.\">Nut</p>'), Dropdown(index=2, options=('peanut', 'walnut', 'almond', 'pecan'), value='almond')), layout=Layout(border=u'solid 1px lightgray', display=u'flex', flex_flow=u'row', justify_content=u'space-between', padding=u'3px', width=u'30%')), Box(children=(HTML(value=u'<p data-toggle=\"popover\" title=\"Experiment Description\">Description</p>'), Textarea(value=u'')), layout=Layout(border=u'solid 1px lightgray', display=u'flex', flex_flow=u'row', justify_content=u'space-between', padding=u'3px', width=u'auto'))), layout=Layout(align_items=u'stretch', display=u'flex', flex_flow=u'column'))), layout=Layout(align_items=u'stretch', display=u'flex', flex_flow=u'column'))"
      ]
     },
     "metadata": {},
     "output_type": "display_data"
    }
   ],
   "source": [
    "ff = ui.Form([f1,f2])\n",
    "ff"
   ]
  },
  {
   "cell_type": "code",
   "execution_count": 21,
   "metadata": {
    "extensions": {
     "jupyter_dashboards": {
      "version": 1,
      "views": {
       "grid_default": {
        "col": 4,
        "height": 9,
        "hidden": false,
        "row": 37,
        "width": 4
       },
       "report_default": {}
      }
     }
    }
   },
   "outputs": [
    {
     "data": {
      "application/vnd.jupyter.widget-view+json": {
       "model_id": "e622e7c731f84463a4925601c1341f81",
       "version_major": 2,
       "version_minor": 0
      },
      "text/html": [
       "<p>Failed to display Jupyter Widget of type <code>Tab</code>.</p>\n",
       "<p>\n",
       "  If you're reading this message in Jupyter Notebook or JupyterLab, it may mean\n",
       "  that the widgets JavaScript is still loading. If this message persists, it\n",
       "  likely means that the widgets JavaScript library is either not installed or\n",
       "  not enabled. See the <a href=\"https://ipywidgets.readthedocs.io/en/stable/user_install.html\">Jupyter\n",
       "  Widgets Documentation</a> for setup instructions.\n",
       "</p>\n",
       "<p>\n",
       "  If you're reading this message in another notebook frontend (for example, a static\n",
       "  rendering on GitHub or <a href=\"https://nbviewer.jupyter.org/\">NBViewer</a>),\n",
       "  it may mean that your frontend doesn't currently support widgets.\n",
       "</p>\n"
      ],
      "text/plain": [
       "Tab(children=(VBox(children=(Box(children=(HTML(value=u'<p data-toggle=\"popover\" title=\"\\n\\nMin: 0\\nMax: 500\\n\\n\\n\\nMin: 0\\nMax: 500\\n\\n\">Loops</p>', layout=Layout(flex=u'2 1 auto')), IntText(value=1), Valid(value=True, layout=Layout(flex=u'0 1 0'))), layout=Layout(border=u'solid 1px lightgray', display=u'flex', flex_flow=u'row', justify_content=u'space-between', padding=u'5px', width=u'auto')), Box(children=(HTML(value=u'<p data-toggle=\"popover\" title=\"Type of nut to eat.\">Nut</p>'), ToggleButtons(index=2, options=('peanut', 'walnut', 'almond', 'pecan'), value='almond')), layout=Layout(border=u'solid 1px lightgray', display=u'flex', flex_flow=u'row', justify_content=u'space-between', padding=u'3px', width=u'50%')), Box(children=(HTML(value=u'<p data-toggle=\"popover\" title=\"Name (First and Last)\">Name</p>'), Text(value=u'<name>')), layout=Layout(border=u'solid 1px lightgray', display=u'flex', flex_flow=u'row', justify_content=u'space-between', padding=u'3px', width=u'auto'))), layout=Layout(align_items=u'stretch', display=u'flex', flex_flow=u'column')), VBox(children=(Box(children=(HTML(value=u'<p data-toggle=\"popover\" title=\"Show the Advanced Options\">Advanced Options</p>'), Checkbox(value=False)), layout=Layout(border=u'solid 1px lightgray', display=u'flex', flex_flow=u'row', justify_content=u'space-between', padding=u'3px', width=u'50%')), Box(children=(HTML(value=u'<p data-toggle=\"popover\" title=\"Type of nut to eat.\">Nut</p>'), Dropdown(index=2, options=('peanut', 'walnut', 'almond', 'pecan'), value='almond')), layout=Layout(border=u'solid 1px lightgray', display=u'flex', flex_flow=u'row', justify_content=u'space-between', padding=u'3px', width=u'30%')), Box(children=(HTML(value=u'<p data-toggle=\"popover\" title=\"Experiment Description\">Description</p>'), Textarea(value=u'')), layout=Layout(border=u'solid 1px lightgray', display=u'flex', flex_flow=u'row', justify_content=u'space-between', padding=u'3px', width=u'auto'))), layout=Layout(align_items=u'stretch', display=u'flex', flex_flow=u'column'))), _titles={0: 'My Parameters', 1: 'More Parameters'})"
      ]
     },
     "metadata": {},
     "output_type": "display_data"
    }
   ],
   "source": [
    "f1 = ui.Form([e1,tb,xstr])\n",
    "f2 = ui.Form([check, dd, xtxt])\n",
    "ui.Tab([f1,f2], titles=['My Parameters', 'More Parameters'])\n"
   ]
  },
  {
   "cell_type": "markdown",
   "metadata": {
    "extensions": {
     "jupyter_dashboards": {
      "version": 1,
      "views": {
       "grid_default": {
        "col": 0,
        "height": 4,
        "hidden": false,
        "row": 44,
        "width": 4
       },
       "report_default": {}
      }
     }
    }
   },
   "source": [
    "## Disable UI Elements\n",
    "You can disable individual elements or all the elements in a Form or Tab."
   ]
  },
  {
   "cell_type": "code",
   "execution_count": 22,
   "metadata": {
    "extensions": {
     "jupyter_dashboards": {
      "version": 1,
      "views": {
       "grid_default": {
        "hidden": true
       },
       "report_default": {}
      }
     }
    }
   },
   "outputs": [],
   "source": [
    "ff.disabled = True"
   ]
  },
  {
   "cell_type": "code",
   "execution_count": 23,
   "metadata": {
    "extensions": {
     "jupyter_dashboards": {
      "version": 1,
      "views": {
       "grid_default": {
        "hidden": true
       },
       "report_default": {}
      }
     }
    }
   },
   "outputs": [],
   "source": [
    "ff.disabled = False"
   ]
  },
  {
   "cell_type": "markdown",
   "metadata": {
    "extensions": {
     "jupyter_dashboards": {
      "version": 1,
      "views": {
       "grid_default": {
        "col": 4,
        "height": 4,
        "hidden": false,
        "row": 46,
        "width": 4
       },
       "report_default": {}
      }
     }
    }
   },
   "source": [
    "## Visibility\n",
    "\n",
    "You can make elements visible or invisible."
   ]
  },
  {
   "cell_type": "code",
   "execution_count": 24,
   "metadata": {
    "extensions": {
     "jupyter_dashboards": {
      "version": 1,
      "views": {
       "grid_default": {
        "hidden": true
       },
       "report_default": {}
      }
     }
    }
   },
   "outputs": [],
   "source": [
    "tb.visible = False"
   ]
  },
  {
   "cell_type": "code",
   "execution_count": 25,
   "metadata": {
    "extensions": {
     "jupyter_dashboards": {
      "version": 1,
      "views": {
       "grid_default": {
        "hidden": true
       },
       "report_default": {}
      }
     }
    }
   },
   "outputs": [],
   "source": [
    "tb.visible = True"
   ]
  },
  {
   "cell_type": "markdown",
   "metadata": {
    "extensions": {
     "jupyter_dashboards": {
      "version": 1,
      "views": {
       "grid_default": {
        "col": 0,
        "height": 4,
        "hidden": false,
        "row": 48,
        "width": 4
       },
       "report_default": {}
      }
     }
    }
   },
   "source": [
    "## Callbacks\n",
    "\n",
    "Each non-grouping UI element can callback a function you provide when the value changes."
   ]
  },
  {
   "cell_type": "code",
   "execution_count": 26,
   "metadata": {
    "extensions": {
     "jupyter_dashboards": {
      "version": 1,
      "views": {
       "grid_default": {
        "col": 8,
        "height": 5,
        "hidden": false,
        "row": 49,
        "width": 4
       },
       "report_default": {}
      }
     }
    }
   },
   "outputs": [
    {
     "data": {
      "application/vnd.jupyter.widget-view+json": {
       "model_id": "e070c4b073714d989b77810215c449e4",
       "version_major": 2,
       "version_minor": 0
      },
      "text/html": [
       "<p>Failed to display Jupyter Widget of type <code>Box</code>.</p>\n",
       "<p>\n",
       "  If you're reading this message in Jupyter Notebook or JupyterLab, it may mean\n",
       "  that the widgets JavaScript is still loading. If this message persists, it\n",
       "  likely means that the widgets JavaScript library is either not installed or\n",
       "  not enabled. See the <a href=\"https://ipywidgets.readthedocs.io/en/stable/user_install.html\">Jupyter\n",
       "  Widgets Documentation</a> for setup instructions.\n",
       "</p>\n",
       "<p>\n",
       "  If you're reading this message in another notebook frontend (for example, a static\n",
       "  rendering on GitHub or <a href=\"https://nbviewer.jupyter.org/\">NBViewer</a>),\n",
       "  it may mean that your frontend doesn't currently support widgets.\n",
       "</p>\n"
      ],
      "text/plain": [
       "Box(children=(HTML(value=u'<p data-toggle=\"popover\" title=\"Type of nut to eat.\">Nut</p>'), ToggleButtons(index=2, options=('peanut', 'walnut', 'almond', 'pecan'), value='almond')), layout=Layout(border=u'solid 1px lightgray', display=u'flex', flex_flow=u'row', justify_content=u'space-between', padding=u'3px', width=u'50%'))"
      ]
     },
     "metadata": {},
     "output_type": "display_data"
    }
   ],
   "source": [
    "def something_changed(name, value):\n",
    "    print(\"%s changed to %s\" % (name, value))\n",
    "\n",
    "tbc = ui.Togglebuttons(\n",
    "            name='Nut',\n",
    "            description=\"Type of nut to eat.\",\n",
    "            value='almond',\n",
    "            options=['peanut', 'walnut', 'almond', 'pecan'],\n",
    "            cb=something_changed,\n",
    "            width='50%'\n",
    "        )\n",
    "tbc"
   ]
  },
  {
   "cell_type": "markdown",
   "metadata": {
    "extensions": {
     "jupyter_dashboards": {
      "version": 1,
      "views": {
       "grid_default": {
        "col": 0,
        "height": 5,
        "hidden": false,
        "row": 54,
        "width": 12
       },
       "report_default": {}
      }
     }
    }
   },
   "source": [
    "# Interactive UI\n",
    "\n",
    "We can use callbacks to modify the UI dynamically.\n",
    "\n",
    "### Disabling Elements"
   ]
  },
  {
   "cell_type": "code",
   "execution_count": 27,
   "metadata": {
    "extensions": {
     "jupyter_dashboards": {
      "version": 1,
      "views": {
       "grid_default": {
        "col": 0,
        "height": 11,
        "hidden": false,
        "row": 59,
        "width": 4
       },
       "report_default": {}
      }
     }
    }
   },
   "outputs": [
    {
     "data": {
      "application/vnd.jupyter.widget-view+json": {
       "model_id": "b80419754ee148748a155066140b99a8",
       "version_major": 2,
       "version_minor": 0
      },
      "text/html": [
       "<p>Failed to display Jupyter Widget of type <code>VBox</code>.</p>\n",
       "<p>\n",
       "  If you're reading this message in Jupyter Notebook or JupyterLab, it may mean\n",
       "  that the widgets JavaScript is still loading. If this message persists, it\n",
       "  likely means that the widgets JavaScript library is either not installed or\n",
       "  not enabled. See the <a href=\"https://ipywidgets.readthedocs.io/en/stable/user_install.html\">Jupyter\n",
       "  Widgets Documentation</a> for setup instructions.\n",
       "</p>\n",
       "<p>\n",
       "  If you're reading this message in another notebook frontend (for example, a static\n",
       "  rendering on GitHub or <a href=\"https://nbviewer.jupyter.org/\">NBViewer</a>),\n",
       "  it may mean that your frontend doesn't currently support widgets.\n",
       "</p>\n"
      ],
      "text/plain": [
       "VBox(children=(Box(children=(HTML(value=u'<p data-toggle=\"popover\" title=\"Show the Advanced Options\">Advanced Options</p>'), Checkbox(value=False)), layout=Layout(border=u'solid 1px lightgray', display=u'flex', flex_flow=u'row', justify_content=u'space-between', padding=u'3px', width=u'50%')), Box(children=(HTML(value=u'<p data-toggle=\"popover\" title=\"Type of nut to eat.\">Nut</p>'), ToggleButtons(index=2, layout=Layout(visibility=u'visible'), options=('peanut', 'walnut', 'almond', 'pecan'), value='almond')), layout=Layout(border=u'solid 1px lightgray', display=u'flex', flex_flow=u'row', justify_content=u'space-between', padding=u'3px', visibility=u'visible', width=u'50%')), Box(children=(HTML(value=u'<p data-toggle=\"popover\" title=\"Nut Options\">Options</p>'), ToggleButtons(disabled=True, options=('None', 'Toasted', 'Roasted', 'Glazed', 'Salted'), value='None')), layout=Layout(border=u'solid 1px lightgray', display=u'flex', flex_flow=u'row', justify_content=u'space-between', padding=u'3px', width=u'50%'))), layout=Layout(align_items=u'stretch', display=u'flex', flex_flow=u'column'))"
      ]
     },
     "metadata": {},
     "output_type": "display_data"
    }
   ],
   "source": [
    "def set_advanced(name, val):\n",
    "    opt.disabled = not val\n",
    "\n",
    "adv_check = ui.Checkbox('Advanced Options', 'Show the Advanced Options', value=False, width='50%', cb=set_advanced)\n",
    "\n",
    "opt = ui.Togglebuttons(\n",
    "            name='Options',\n",
    "            description=\"Nut Options\",\n",
    "            value='None',\n",
    "            options=['None', 'Toasted', 'Roasted', 'Glazed', 'Salted'],\n",
    "            width='50%',\n",
    "            disabled=True,  # initial state\n",
    "        )\n",
    "ui.Form([adv_check, tb, opt])"
   ]
  },
  {
   "cell_type": "markdown",
   "metadata": {
    "collapsed": true,
    "extensions": {
     "jupyter_dashboards": {
      "version": 1,
      "views": {
       "grid_default": {
        "col": 4,
        "height": 4,
        "hidden": false,
        "row": 50,
        "width": 4
       },
       "report_default": {}
      }
     }
    }
   },
   "source": [
    "### Hiding Elements Dynamically"
   ]
  },
  {
   "cell_type": "code",
   "execution_count": 28,
   "metadata": {
    "extensions": {
     "jupyter_dashboards": {
      "version": 1,
      "views": {
       "grid_default": {
        "col": 4,
        "height": 11,
        "hidden": false,
        "row": 59,
        "width": 4
       },
       "report_default": {}
      }
     }
    }
   },
   "outputs": [
    {
     "data": {
      "application/vnd.jupyter.widget-view+json": {
       "model_id": "63af410f44b3448181763a3f9344cdc3",
       "version_major": 2,
       "version_minor": 0
      },
      "text/html": [
       "<p>Failed to display Jupyter Widget of type <code>VBox</code>.</p>\n",
       "<p>\n",
       "  If you're reading this message in Jupyter Notebook or JupyterLab, it may mean\n",
       "  that the widgets JavaScript is still loading. If this message persists, it\n",
       "  likely means that the widgets JavaScript library is either not installed or\n",
       "  not enabled. See the <a href=\"https://ipywidgets.readthedocs.io/en/stable/user_install.html\">Jupyter\n",
       "  Widgets Documentation</a> for setup instructions.\n",
       "</p>\n",
       "<p>\n",
       "  If you're reading this message in another notebook frontend (for example, a static\n",
       "  rendering on GitHub or <a href=\"https://nbviewer.jupyter.org/\">NBViewer</a>),\n",
       "  it may mean that your frontend doesn't currently support widgets.\n",
       "</p>\n"
      ],
      "text/plain": [
       "VBox(children=(Box(children=(HTML(value=u'<p data-toggle=\"popover\" title=\"Show the Advanced Options\">Advanced Options</p>'), Checkbox(value=False)), layout=Layout(border=u'solid 1px lightgray', display=u'flex', flex_flow=u'row', justify_content=u'space-between', padding=u'3px', width=u'50%')), Box(children=(HTML(value=u'<p data-toggle=\"popover\" title=\"Type of nut to eat.\">Nut</p>'), ToggleButtons(index=2, layout=Layout(visibility=u'visible'), options=('peanut', 'walnut', 'almond', 'pecan'), value='almond')), layout=Layout(border=u'solid 1px lightgray', display=u'flex', flex_flow=u'row', justify_content=u'space-between', padding=u'3px', visibility=u'visible', width=u'50%')), Box(children=(HTML(value=u'<p data-toggle=\"popover\" title=\"Nut Options\">Options</p>'), ToggleButtons(disabled=True, layout=Layout(visibility=u'hidden'), options=('None', 'Toasted', 'Roasted', 'Glazed', 'Salted'), value='None')), layout=Layout(border=u'solid 1px lightgray', display=u'flex', flex_flow=u'row', justify_content=u'space-between', padding=u'3px', visibility=u'hidden', width=u'50%'))), layout=Layout(align_items=u'stretch', display=u'flex', flex_flow=u'column'))"
      ]
     },
     "metadata": {},
     "output_type": "display_data"
    }
   ],
   "source": [
    "def show_advanced(name, val):\n",
    "    opt.visible = val\n",
    "\n",
    "adv_check = ui.Checkbox('Advanced Options', 'Show the Advanced Options', value=False, width='50%', cb=show_advanced)\n",
    "opt.visible = False\n",
    "ui.Form([adv_check, tb, opt])"
   ]
  },
  {
   "cell_type": "markdown",
   "metadata": {
    "extensions": {
     "jupyter_dashboards": {
      "version": 1,
      "views": {
       "grid_default": {
        "col": 8,
        "height": 4,
        "hidden": false,
        "row": 59,
        "width": 4
       },
       "report_default": {}
      }
     }
    }
   },
   "source": [
    "# A More Complicated Example"
   ]
  },
  {
   "cell_type": "code",
   "execution_count": 29,
   "metadata": {
    "extensions": {
     "jupyter_dashboards": {
      "version": 1,
      "views": {
       "grid_default": {
        "col": 8,
        "height": 12,
        "hidden": false,
        "row": 63,
        "width": 4
       },
       "report_default": {}
      }
     }
    }
   },
   "outputs": [
    {
     "data": {
      "application/vnd.jupyter.widget-view+json": {
       "model_id": "d6612ec7e9804e13a9417587cef83ff6",
       "version_major": 2,
       "version_minor": 0
      },
      "text/html": [
       "<p>Failed to display Jupyter Widget of type <code>VBox</code>.</p>\n",
       "<p>\n",
       "  If you're reading this message in Jupyter Notebook or JupyterLab, it may mean\n",
       "  that the widgets JavaScript is still loading. If this message persists, it\n",
       "  likely means that the widgets JavaScript library is either not installed or\n",
       "  not enabled. See the <a href=\"https://ipywidgets.readthedocs.io/en/stable/user_install.html\">Jupyter\n",
       "  Widgets Documentation</a> for setup instructions.\n",
       "</p>\n",
       "<p>\n",
       "  If you're reading this message in another notebook frontend (for example, a static\n",
       "  rendering on GitHub or <a href=\"https://nbviewer.jupyter.org/\">NBViewer</a>),\n",
       "  it may mean that your frontend doesn't currently support widgets.\n",
       "</p>\n"
      ],
      "text/plain": [
       "VBox(children=(HTML(value=u\"<p   style='background-color: #DCDCDC; font-size:200; padding: 5px'>Sundae</p>\", layout=Layout(flex=u'2 1 auto')), Box(children=(HTML(value=u'<p data-toggle=\"popover\" title=\"Ice Cream Flavor.\">Ice Cream</p>'), Dropdown(options=('Vanilla', 'Strawberry', 'Chocolate', 'Pistachio'), value='Vanilla')), layout=Layout(border=u'solid 1px lightgray', display=u'flex', flex_flow=u'row', justify_content=u'space-between', padding=u'3px', width=u'30%')), Box(children=(HTML(value=u'<p data-toggle=\"popover\" title=\"Ice Cream Topping\">Topping</p>'), RadioButtons(options=('None', 'Fudge', 'Caramel', 'Marshmallow'), value='None')), layout=Layout(border=u'solid 1px lightgray', display=u'flex', flex_flow=u'row', justify_content=u'space-between', padding=u'3px', width=u'30%')), Box(children=(HTML(value=u'<p data-toggle=\"popover\" title=\"Brownie on the bottom?\">Brownie</p>'), ToggleButtons(options=('No', 'Yes'), value='No')), layout=Layout(border=u'solid 1px lightgray', display=u'flex', flex_flow=u'row', justify_content=u'space-between', padding=u'3px', width=u'30%')), Box(children=(HTML(value=u'<p data-toggle=\"popover\" title=\"Cherry on Top?\">Cherry</p>'), Checkbox(value=False)), layout=Layout(border=u'solid 1px lightgray', display=u'flex', flex_flow=u'row', justify_content=u'space-between', padding=u'3px', width=u'30%'))), layout=Layout(align_items=u'stretch', display=u'flex', flex_flow=u'column'))"
      ]
     },
     "metadata": {},
     "output_type": "display_data"
    }
   ],
   "source": [
    "width='30%'\n",
    "ice_cream = ui.Dropdown(\n",
    "            name='Ice Cream',\n",
    "            description=\"Ice Cream Flavor.\",\n",
    "            value='Vanilla',\n",
    "            options=['Vanilla', 'Strawberry', 'Chocolate', 'Pistachio'],\n",
    "            width=width\n",
    "        )\n",
    "topping = ui.Radiobuttons(\n",
    "            name='Topping',\n",
    "            description=\"Ice Cream Topping\",\n",
    "            value='None',\n",
    "            options=['None', 'Fudge', 'Caramel', 'Marshmallow'],\n",
    "            width=width\n",
    "        )\n",
    "cherry = ui.Checkbox('Cherry', 'Cherry on Top?', value=False, width=width)\n",
    "brownie = ui.Togglebuttons('Brownie', \"Brownie on the bottom?\", value='No', options=['No', 'Yes'], width=width)\n",
    "sundae = ui.Form([ice_cream, topping, brownie, cherry], name='Sundae')\n",
    "sundae"
   ]
  },
  {
   "cell_type": "code",
   "execution_count": 30,
   "metadata": {
    "extensions": {
     "jupyter_dashboards": {
      "version": 1,
      "views": {
       "grid_default": {
        "col": 0,
        "height": 6,
        "hidden": false,
        "row": 70,
        "width": 4
       },
       "report_default": {}
      }
     }
    }
   },
   "outputs": [
    {
     "data": {
      "application/vnd.jupyter.widget-view+json": {
       "model_id": "3300fece2e5f45febb03c72cb13cba7b",
       "version_major": 2,
       "version_minor": 0
      },
      "text/html": [
       "<p>Failed to display Jupyter Widget of type <code>VBox</code>.</p>\n",
       "<p>\n",
       "  If you're reading this message in Jupyter Notebook or JupyterLab, it may mean\n",
       "  that the widgets JavaScript is still loading. If this message persists, it\n",
       "  likely means that the widgets JavaScript library is either not installed or\n",
       "  not enabled. See the <a href=\"https://ipywidgets.readthedocs.io/en/stable/user_install.html\">Jupyter\n",
       "  Widgets Documentation</a> for setup instructions.\n",
       "</p>\n",
       "<p>\n",
       "  If you're reading this message in another notebook frontend (for example, a static\n",
       "  rendering on GitHub or <a href=\"https://nbviewer.jupyter.org/\">NBViewer</a>),\n",
       "  it may mean that your frontend doesn't currently support widgets.\n",
       "</p>\n"
      ],
      "text/plain": [
       "VBox(children=(HTML(value=u\"<p   style='background-color: #DCDCDC; font-size:200; padding: 5px'>Pizza</p>\", layout=Layout(flex=u'2 1 auto')), Box(children=(HTML(value=u'<p data-toggle=\"popover\" title=\"Pizza Crust\">Crust</p>'), Dropdown(options=('Thin', 'Hand-Tossed', 'Pan', 'Gluten-Free'), value='Thin')), layout=Layout(border=u'solid 1px lightgray', display=u'flex', flex_flow=u'row', justify_content=u'space-between', padding=u'3px', width=u'30%')), Box(children=(HTML(value=u'<p data-toggle=\"popover\" title=\"Sauce Type\">Sauce</p>'), Dropdown(options=('Regular', 'Robust', 'Pesto'), value='Regular')), layout=Layout(border=u'solid 1px lightgray', display=u'flex', flex_flow=u'row', justify_content=u'space-between', padding=u'3px', width=u'30%')), Box(children=(HTML(value=u'<p data-toggle=\"popover\" title=\"\">Extra Cheese</p>'), Checkbox(value=False)), layout=Layout(border=u'solid 1px lightgray', display=u'flex', flex_flow=u'row', justify_content=u'space-between', padding=u'3px', width=u'30%'))), layout=Layout(align_items=u'stretch', display=u'flex', flex_flow=u'column'))"
      ]
     },
     "metadata": {},
     "output_type": "display_data"
    }
   ],
   "source": [
    "crust = ui.Dropdown(\n",
    "            name='Crust',\n",
    "            description=\"Pizza Crust\",\n",
    "            value='Thin',\n",
    "            options=['Thin', 'Hand-Tossed', 'Pan', 'Gluten-Free'],\n",
    "            width=width\n",
    "        )\n",
    "sauce = ui.Dropdown(\n",
    "            name='Sauce',\n",
    "            description=\"Sauce Type\",\n",
    "            value='Regular',\n",
    "            options=['Regular', 'Robust', 'Pesto'],\n",
    "            width=width\n",
    "        )\n",
    "cheese = ui.Checkbox('Extra Cheese', '', value=False, width=width)\n",
    "pizza = ui.Form([crust, sauce, cheese], name='Pizza')\n",
    "pizza\n"
   ]
  },
  {
   "cell_type": "code",
   "execution_count": 31,
   "metadata": {
    "extensions": {
     "jupyter_dashboards": {
      "version": 1,
      "views": {
       "grid_default": {
        "col": 4,
        "height": 8,
        "hidden": false,
        "row": 70,
        "width": 4
       },
       "report_default": {}
      }
     }
    }
   },
   "outputs": [
    {
     "data": {
      "application/vnd.jupyter.widget-view+json": {
       "model_id": "1d89446a0fa64ef8987e1cbf0d272b75",
       "version_major": 2,
       "version_minor": 0
      },
      "text/html": [
       "<p>Failed to display Jupyter Widget of type <code>Tab</code>.</p>\n",
       "<p>\n",
       "  If you're reading this message in Jupyter Notebook or JupyterLab, it may mean\n",
       "  that the widgets JavaScript is still loading. If this message persists, it\n",
       "  likely means that the widgets JavaScript library is either not installed or\n",
       "  not enabled. See the <a href=\"https://ipywidgets.readthedocs.io/en/stable/user_install.html\">Jupyter\n",
       "  Widgets Documentation</a> for setup instructions.\n",
       "</p>\n",
       "<p>\n",
       "  If you're reading this message in another notebook frontend (for example, a static\n",
       "  rendering on GitHub or <a href=\"https://nbviewer.jupyter.org/\">NBViewer</a>),\n",
       "  it may mean that your frontend doesn't currently support widgets.\n",
       "</p>\n"
      ],
      "text/plain": [
       "Tab(children=(VBox(children=(HTML(value=u\"<p   style='background-color: #DCDCDC; font-size:200; padding: 5px'>Pizza</p>\", layout=Layout(flex=u'2 1 auto')), Box(children=(HTML(value=u'<p data-toggle=\"popover\" title=\"Pizza Crust\">Crust</p>'), Dropdown(options=('Thin', 'Hand-Tossed', 'Pan', 'Gluten-Free'), value='Thin')), layout=Layout(border=u'solid 1px lightgray', display=u'flex', flex_flow=u'row', justify_content=u'space-between', padding=u'3px', width=u'30%')), Box(children=(HTML(value=u'<p data-toggle=\"popover\" title=\"Sauce Type\">Sauce</p>'), Dropdown(options=('Regular', 'Robust', 'Pesto'), value='Regular')), layout=Layout(border=u'solid 1px lightgray', display=u'flex', flex_flow=u'row', justify_content=u'space-between', padding=u'3px', width=u'30%')), Box(children=(HTML(value=u'<p data-toggle=\"popover\" title=\"\">Extra Cheese</p>'), Checkbox(value=False)), layout=Layout(border=u'solid 1px lightgray', display=u'flex', flex_flow=u'row', justify_content=u'space-between', padding=u'3px', width=u'30%'))), layout=Layout(align_items=u'stretch', display=u'flex', flex_flow=u'column')), VBox(children=(HTML(value=u\"<p   style='background-color: #DCDCDC; font-size:200; padding: 5px'>Sundae</p>\", layout=Layout(flex=u'2 1 auto')), Box(children=(HTML(value=u'<p data-toggle=\"popover\" title=\"Ice Cream Flavor.\">Ice Cream</p>'), Dropdown(options=('Vanilla', 'Strawberry', 'Chocolate', 'Pistachio'), value='Vanilla')), layout=Layout(border=u'solid 1px lightgray', display=u'flex', flex_flow=u'row', justify_content=u'space-between', padding=u'3px', width=u'30%')), Box(children=(HTML(value=u'<p data-toggle=\"popover\" title=\"Ice Cream Topping\">Topping</p>'), RadioButtons(options=('None', 'Fudge', 'Caramel', 'Marshmallow'), value='None')), layout=Layout(border=u'solid 1px lightgray', display=u'flex', flex_flow=u'row', justify_content=u'space-between', padding=u'3px', width=u'30%')), Box(children=(HTML(value=u'<p data-toggle=\"popover\" title=\"Brownie on the bottom?\">Brownie</p>'), ToggleButtons(options=('No', 'Yes'), value='No')), layout=Layout(border=u'solid 1px lightgray', display=u'flex', flex_flow=u'row', justify_content=u'space-between', padding=u'3px', width=u'30%')), Box(children=(HTML(value=u'<p data-toggle=\"popover\" title=\"Cherry on Top?\">Cherry</p>'), Checkbox(value=False)), layout=Layout(border=u'solid 1px lightgray', display=u'flex', flex_flow=u'row', justify_content=u'space-between', padding=u'3px', width=u'30%'))), layout=Layout(align_items=u'stretch', display=u'flex', flex_flow=u'column'))), _titles={0: 'Pizza', 1: 'Sundae'})"
      ]
     },
     "metadata": {},
     "output_type": "display_data"
    }
   ],
   "source": [
    "ui.Tab([pizza, sundae])"
   ]
  }
 ],
 "metadata": {
  "extensions": {
   "jupyter_dashboards": {
    "activeView": "grid_default",
    "version": 1,
    "views": {
     "grid_default": {
      "cellMargin": 10,
      "defaultCellHeight": 20,
      "maxColumns": 12,
      "name": "grid",
      "type": "grid"
     },
     "report_default": {
      "name": "report",
      "type": "report"
     }
    }
   }
  },
  "kernelspec": {
   "display_name": "Python2",
   "language": "python",
   "name": "python2"
  },
  "language_info": {
   "codemirror_mode": {
    "name": "ipython",
    "version": 2
   },
   "file_extension": ".py",
   "mimetype": "text/x-python",
   "name": "python",
   "nbconvert_exporter": "python",
   "pygments_lexer": "ipython2",
   "version": "2.7.14"
  }
 },
 "nbformat": 4,
 "nbformat_minor": 1
}
