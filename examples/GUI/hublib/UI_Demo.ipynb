{
 "cells": [
  {
   "cell_type": "code",
   "execution_count": 4,
   "metadata": {
    "extensions": {
     "jupyter_dashboards": {
      "version": 1,
      "views": {
       "grid_default": {
        "hidden": true
       },
       "report_default": {}
      }
     }
    }
   },
   "outputs": [],
   "source": [
    "import hublib.ui as ui"
   ]
  },
  {
   "cell_type": "markdown",
   "metadata": {
    "extensions": {
     "jupyter_dashboards": {
      "version": 1,
      "views": {
       "grid_default": {
        "col": 0,
        "height": 4,
        "hidden": false,
        "row": 0,
        "width": 4
       },
       "report_default": {}
      }
     }
    }
   },
   "source": [
    "## Number (Float) Input with Units"
   ]
  },
  {
   "cell_type": "code",
   "execution_count": 5,
   "metadata": {
    "extensions": {
     "jupyter_dashboards": {
      "version": 1,
      "views": {
       "grid_default": {
        "col": 4,
        "height": 4,
        "hidden": false,
        "row": 0,
        "width": 4
       },
       "report_default": {}
      }
     }
    }
   },
   "outputs": [
    {
     "data": {
      "application/vnd.jupyter.widget-view+json": {
       "model_id": "7e7e38db95054b9c8b35c7a38d600259",
       "version_major": 2,
       "version_minor": 0
      },
      "text/html": [
       "<p>Failed to display Jupyter Widget of type <code>Box</code>.</p>\n",
       "<p>\n",
       "  If you're reading this message in the Jupyter Notebook or JupyterLab Notebook, it may mean\n",
       "  that the widgets JavaScript is still loading. If this message persists, it\n",
       "  likely means that the widgets JavaScript library is either not installed or\n",
       "  not enabled. See the <a href=\"https://ipywidgets.readthedocs.io/en/stable/user_install.html\">Jupyter\n",
       "  Widgets Documentation</a> for setup instructions.\n",
       "</p>\n",
       "<p>\n",
       "  If you're reading this message in another frontend (for example, a static\n",
       "  rendering on GitHub or <a href=\"https://nbviewer.jupyter.org/\">NBViewer</a>),\n",
       "  it may mean that your frontend doesn't currently support widgets.\n",
       "</p>\n"
      ],
      "text/plain": [
       "Box(children=(HTML(value=u'<p data-toggle=\"popover\" title=\"\\n\\nValues with no units will be assumed to be gigapascal [GPa].\\n\\nMin: 0.0\\nMax: 500.0\\n\\nYou can type expressions using other units and they will be converted if possible.\\n\\nMin: 0.0\\nMax: 500.0\\n\\n\">E1</p>', layout=Layout(flex=u'2 1 auto')), Text(value=u'138 GPa'), Valid(value=True, layout=Layout(flex=u'0 1 0'))), layout=Layout(border=u'solid 1px lightgray', display=u'flex', flex_flow=u'row', justify_content=u'space-between', padding=u'5px', width=u'auto'))"
      ]
     },
     "metadata": {},
     "output_type": "display_data"
    }
   ],
   "source": [
    "e1 = ui.Number(\n",
    "        name='E1',\n",
    "        description=\"Longitudinal Young's Modulus\",\n",
    "        units='GPa',\n",
    "        min='0 GPa',\n",
    "        max='500 GPa',\n",
    "        value='138 GPa'\n",
    "    )\n",
    "e1"
   ]
  },
  {
   "cell_type": "markdown",
   "metadata": {
    "extensions": {
     "jupyter_dashboards": {
      "version": 1,
      "views": {
       "grid_default": {
        "col": 8,
        "height": 4,
        "hidden": false,
        "row": 0,
        "width": 4
       },
       "report_default": {}
      }
     }
    }
   },
   "source": [
    "You can control the width."
   ]
  },
  {
   "cell_type": "code",
   "execution_count": 6,
   "metadata": {
    "extensions": {
     "jupyter_dashboards": {
      "version": 1,
      "views": {
       "grid_default": {
        "col": 0,
        "height": 4,
        "hidden": false,
        "row": 4,
        "width": 4
       },
       "report_default": {}
      }
     }
    }
   },
   "outputs": [
    {
     "data": {
      "application/vnd.jupyter.widget-view+json": {
       "model_id": "7eacb3e70a1243d68d1fa323cf063d1f",
       "version_major": 2,
       "version_minor": 0
      },
      "text/html": [
       "<p>Failed to display Jupyter Widget of type <code>Box</code>.</p>\n",
       "<p>\n",
       "  If you're reading this message in the Jupyter Notebook or JupyterLab Notebook, it may mean\n",
       "  that the widgets JavaScript is still loading. If this message persists, it\n",
       "  likely means that the widgets JavaScript library is either not installed or\n",
       "  not enabled. See the <a href=\"https://ipywidgets.readthedocs.io/en/stable/user_install.html\">Jupyter\n",
       "  Widgets Documentation</a> for setup instructions.\n",
       "</p>\n",
       "<p>\n",
       "  If you're reading this message in another frontend (for example, a static\n",
       "  rendering on GitHub or <a href=\"https://nbviewer.jupyter.org/\">NBViewer</a>),\n",
       "  it may mean that your frontend doesn't currently support widgets.\n",
       "</p>\n"
      ],
      "text/plain": [
       "Box(children=(HTML(value=u'<p data-toggle=\"popover\" title=\"\\n\\nValues with no units will be assumed to be gigapascal [GPa].\\n\\nMin: 0.0\\nMax: 500.0\\n\\nYou can type expressions using other units and they will be converted if possible.\\n\\nMin: 0.0\\nMax: 500.0\\n\\n\">E1</p>', layout=Layout(flex=u'2 1 auto')), Text(value=u'138 GPa'), Valid(value=True, layout=Layout(flex=u'0 1 0'))), layout=Layout(border=u'solid 1px lightgray', display=u'flex', flex_flow=u'row', justify_content=u'space-between', padding=u'5px', width=u'30%'))"
      ]
     },
     "metadata": {},
     "output_type": "display_data"
    }
   ],
   "source": [
    "e1 = ui.Number(\n",
    "        name='E1',\n",
    "        description=\"Longitudinal Young's Modulus\",\n",
    "        units='GPa',\n",
    "        min='0 GPa',\n",
    "        max='500 GPa',\n",
    "        value='138 GPa',\n",
    "        width='30%'\n",
    "    )\n",
    "e1"
   ]
  },
  {
   "cell_type": "code",
   "execution_count": 7,
   "metadata": {
    "extensions": {
     "jupyter_dashboards": {
      "version": 1,
      "views": {
       "grid_default": {
        "col": 4,
        "height": 4,
        "hidden": false,
        "row": 4,
        "width": 4
       },
       "report_default": {}
      }
     }
    }
   },
   "outputs": [
    {
     "data": {
      "text/plain": [
       "138"
      ]
     },
     "execution_count": 7,
     "metadata": {},
     "output_type": "execute_result"
    }
   ],
   "source": [
    "e1.value"
   ]
  },
  {
   "cell_type": "code",
   "execution_count": 8,
   "metadata": {
    "extensions": {
     "jupyter_dashboards": {
      "version": 1,
      "views": {
       "grid_default": {
        "col": 8,
        "height": 4,
        "hidden": false,
        "row": 4,
        "width": 4
       },
       "report_default": {}
      }
     }
    }
   },
   "outputs": [
    {
     "data": {
      "text/plain": [
       "'138 GPa'"
      ]
     },
     "execution_count": 8,
     "metadata": {},
     "output_type": "execute_result"
    }
   ],
   "source": [
    "e1.str"
   ]
  },
  {
   "cell_type": "markdown",
   "metadata": {
    "extensions": {
     "jupyter_dashboards": {
      "version": 1,
      "views": {
       "grid_default": {
        "col": 0,
        "height": 4,
        "hidden": false,
        "row": 8,
        "width": 4
       },
       "report_default": {}
      }
     }
    }
   },
   "source": [
    "## Integer Input\n",
    "Integer inputs do not have units"
   ]
  },
  {
   "cell_type": "code",
   "execution_count": 9,
   "metadata": {
    "extensions": {
     "jupyter_dashboards": {
      "version": 1,
      "views": {
       "grid_default": {
        "col": 4,
        "height": 4,
        "hidden": false,
        "row": 8,
        "width": 4
       },
       "report_default": {}
      }
     }
    }
   },
   "outputs": [
    {
     "data": {
      "application/vnd.jupyter.widget-view+json": {
       "model_id": "73979224b02a44cc82350a9930844841",
       "version_major": 2,
       "version_minor": 0
      },
      "text/html": [
       "<p>Failed to display Jupyter Widget of type <code>Box</code>.</p>\n",
       "<p>\n",
       "  If you're reading this message in the Jupyter Notebook or JupyterLab Notebook, it may mean\n",
       "  that the widgets JavaScript is still loading. If this message persists, it\n",
       "  likely means that the widgets JavaScript library is either not installed or\n",
       "  not enabled. See the <a href=\"https://ipywidgets.readthedocs.io/en/stable/user_install.html\">Jupyter\n",
       "  Widgets Documentation</a> for setup instructions.\n",
       "</p>\n",
       "<p>\n",
       "  If you're reading this message in another frontend (for example, a static\n",
       "  rendering on GitHub or <a href=\"https://nbviewer.jupyter.org/\">NBViewer</a>),\n",
       "  it may mean that your frontend doesn't currently support widgets.\n",
       "</p>\n"
      ],
      "text/plain": [
       "Box(children=(HTML(value=u'<p data-toggle=\"popover\" title=\"\\n\\nMin: 0\\nMax: 500\\n\\n\\n\\nMin: 0\\nMax: 500\\n\\n\">Loops</p>', layout=Layout(flex=u'2 1 auto')), IntText(value=1), Valid(value=True, layout=Layout(flex=u'0 1 0'))), layout=Layout(border=u'solid 1px lightgray', display=u'flex', flex_flow=u'row', justify_content=u'space-between', padding=u'5px', width=u'auto'))"
      ]
     },
     "metadata": {},
     "output_type": "display_data"
    }
   ],
   "source": [
    "e1 = ui.Integer(\n",
    "        name='Loops',\n",
    "        description=\"Number of Loops to Run\",\n",
    "        min=0,\n",
    "        max=500,\n",
    "        value=1\n",
    "    )\n",
    "e1"
   ]
  },
  {
   "cell_type": "markdown",
   "metadata": {
    "extensions": {
     "jupyter_dashboards": {
      "version": 1,
      "views": {
       "grid_default": {
        "col": 8,
        "height": 4,
        "hidden": false,
        "row": 8,
        "width": 4
       },
       "report_default": {}
      }
     }
    }
   },
   "source": [
    "## Checkbutton"
   ]
  },
  {
   "cell_type": "code",
   "execution_count": 10,
   "metadata": {
    "extensions": {
     "jupyter_dashboards": {
      "version": 1,
      "views": {
       "grid_default": {
        "col": 0,
        "height": 4,
        "hidden": false,
        "row": 12,
        "width": 4
       },
       "report_default": {}
      }
     }
    }
   },
   "outputs": [
    {
     "data": {
      "application/vnd.jupyter.widget-view+json": {
       "model_id": "4b2356692117450cbc042e2447f67c16",
       "version_major": 2,
       "version_minor": 0
      },
      "text/html": [
       "<p>Failed to display Jupyter Widget of type <code>Box</code>.</p>\n",
       "<p>\n",
       "  If you're reading this message in the Jupyter Notebook or JupyterLab Notebook, it may mean\n",
       "  that the widgets JavaScript is still loading. If this message persists, it\n",
       "  likely means that the widgets JavaScript library is either not installed or\n",
       "  not enabled. See the <a href=\"https://ipywidgets.readthedocs.io/en/stable/user_install.html\">Jupyter\n",
       "  Widgets Documentation</a> for setup instructions.\n",
       "</p>\n",
       "<p>\n",
       "  If you're reading this message in another frontend (for example, a static\n",
       "  rendering on GitHub or <a href=\"https://nbviewer.jupyter.org/\">NBViewer</a>),\n",
       "  it may mean that your frontend doesn't currently support widgets.\n",
       "</p>\n"
      ],
      "text/plain": [
       "Box(children=(HTML(value=u'<p data-toggle=\"popover\" title=\"Show the Advanced Options\">Advanced Options</p>'), Checkbox(value=False)), layout=Layout(border=u'solid 1px lightgray', display=u'flex', flex_flow=u'row', justify_content=u'space-between', padding=u'3px', width=u'50%'))"
      ]
     },
     "metadata": {},
     "output_type": "display_data"
    }
   ],
   "source": [
    "check = ui.Checkbox('Advanced Options', 'Show the Advanced Options', value=False, width='50%')\n",
    "check"
   ]
  },
  {
   "cell_type": "code",
   "execution_count": 11,
   "metadata": {
    "extensions": {
     "jupyter_dashboards": {
      "version": 1,
      "views": {
       "grid_default": {
        "col": 4,
        "height": 4,
        "hidden": false,
        "row": 12,
        "width": 4
       },
       "report_default": {}
      }
     }
    }
   },
   "outputs": [
    {
     "data": {
      "text/plain": [
       "False"
      ]
     },
     "execution_count": 11,
     "metadata": {},
     "output_type": "execute_result"
    }
   ],
   "source": [
    "check.value"
   ]
  },
  {
   "cell_type": "markdown",
   "metadata": {
    "extensions": {
     "jupyter_dashboards": {
      "version": 1,
      "views": {
       "grid_default": {
        "col": 8,
        "height": 4,
        "hidden": false,
        "row": 12,
        "width": 4
       },
       "report_default": {}
      }
     }
    }
   },
   "source": [
    "## Radiobutton"
   ]
  },
  {
   "cell_type": "code",
   "execution_count": 12,
   "metadata": {
    "extensions": {
     "jupyter_dashboards": {
      "version": 1,
      "views": {
       "grid_default": {
        "col": 0,
        "height": 6,
        "hidden": false,
        "row": 16,
        "width": 4
       },
       "report_default": {}
      }
     }
    }
   },
   "outputs": [
    {
     "data": {
      "application/vnd.jupyter.widget-view+json": {
       "model_id": "f957af001beb4e3dae9028a618026427",
       "version_major": 2,
       "version_minor": 0
      },
      "text/html": [
       "<p>Failed to display Jupyter Widget of type <code>Box</code>.</p>\n",
       "<p>\n",
       "  If you're reading this message in the Jupyter Notebook or JupyterLab Notebook, it may mean\n",
       "  that the widgets JavaScript is still loading. If this message persists, it\n",
       "  likely means that the widgets JavaScript library is either not installed or\n",
       "  not enabled. See the <a href=\"https://ipywidgets.readthedocs.io/en/stable/user_install.html\">Jupyter\n",
       "  Widgets Documentation</a> for setup instructions.\n",
       "</p>\n",
       "<p>\n",
       "  If you're reading this message in another frontend (for example, a static\n",
       "  rendering on GitHub or <a href=\"https://nbviewer.jupyter.org/\">NBViewer</a>),\n",
       "  it may mean that your frontend doesn't currently support widgets.\n",
       "</p>\n"
      ],
      "text/plain": [
       "Box(children=(HTML(value=u'<p data-toggle=\"popover\" title=\"Type of nut to eat.\">Nut</p>'), RadioButtons(index=2, options=('peanut', 'walnut', 'almond', 'pecan'), value='almond')), layout=Layout(border=u'solid 1px lightgray', display=u'flex', flex_flow=u'row', justify_content=u'space-between', padding=u'3px', width=u'20%'))"
      ]
     },
     "metadata": {},
     "output_type": "display_data"
    }
   ],
   "source": [
    "r = ui.Radiobuttons(\n",
    "            name='Nut',\n",
    "            description=\"Type of nut to eat.\",\n",
    "            value='almond',\n",
    "            options=['peanut', 'walnut', 'almond', 'pecan'],\n",
    "            width='20%'\n",
    "        )\n",
    "r"
   ]
  },
  {
   "cell_type": "markdown",
   "metadata": {
    "extensions": {
     "jupyter_dashboards": {
      "version": 1,
      "views": {
       "grid_default": {
        "col": 4,
        "height": 4,
        "hidden": false,
        "row": 16,
        "width": 4
       },
       "report_default": {}
      }
     }
    }
   },
   "source": [
    "## Togglebutton"
   ]
  },
  {
   "cell_type": "code",
   "execution_count": 13,
   "metadata": {
    "extensions": {
     "jupyter_dashboards": {
      "version": 1,
      "views": {
       "grid_default": {
        "col": 8,
        "height": 5,
        "hidden": false,
        "row": 16,
        "width": 4
       },
       "report_default": {}
      }
     }
    }
   },
   "outputs": [
    {
     "data": {
      "application/vnd.jupyter.widget-view+json": {
       "model_id": "2c88b4bdee7148f4a99f3b32e34e0669",
       "version_major": 2,
       "version_minor": 0
      },
      "text/html": [
       "<p>Failed to display Jupyter Widget of type <code>Box</code>.</p>\n",
       "<p>\n",
       "  If you're reading this message in the Jupyter Notebook or JupyterLab Notebook, it may mean\n",
       "  that the widgets JavaScript is still loading. If this message persists, it\n",
       "  likely means that the widgets JavaScript library is either not installed or\n",
       "  not enabled. See the <a href=\"https://ipywidgets.readthedocs.io/en/stable/user_install.html\">Jupyter\n",
       "  Widgets Documentation</a> for setup instructions.\n",
       "</p>\n",
       "<p>\n",
       "  If you're reading this message in another frontend (for example, a static\n",
       "  rendering on GitHub or <a href=\"https://nbviewer.jupyter.org/\">NBViewer</a>),\n",
       "  it may mean that your frontend doesn't currently support widgets.\n",
       "</p>\n"
      ],
      "text/plain": [
       "Box(children=(HTML(value=u'<p data-toggle=\"popover\" title=\"Type of nut to eat.\">Nut</p>'), ToggleButtons(index=2, options=('peanut', 'walnut', 'almond', 'pecan'), value='almond')), layout=Layout(border=u'solid 1px lightgray', display=u'flex', flex_flow=u'row', justify_content=u'space-between', padding=u'3px', width=u'50%'))"
      ]
     },
     "metadata": {},
     "output_type": "display_data"
    }
   ],
   "source": [
    "tb = ui.Togglebuttons(\n",
    "            name='Nut',\n",
    "            description=\"Type of nut to eat.\",\n",
    "            value='almond',\n",
    "            options=['peanut', 'walnut', 'almond', 'pecan'],\n",
    "            width='50%'\n",
    "        )\n",
    "tb"
   ]
  },
  {
   "cell_type": "code",
   "execution_count": 14,
   "metadata": {
    "extensions": {
     "jupyter_dashboards": {
      "version": 1,
      "views": {
       "grid_default": {
        "col": 4,
        "height": 4,
        "hidden": false,
        "row": 20,
        "width": 4
       },
       "report_default": {}
      }
     }
    }
   },
   "outputs": [
    {
     "data": {
      "application/vnd.jupyter.widget-view+json": {
       "model_id": "f2230e2e649d4b84ac77a2e62fc76cf3",
       "version_major": 2,
       "version_minor": 0
      },
      "text/html": [
       "<p>Failed to display Jupyter Widget of type <code>Box</code>.</p>\n",
       "<p>\n",
       "  If you're reading this message in the Jupyter Notebook or JupyterLab Notebook, it may mean\n",
       "  that the widgets JavaScript is still loading. If this message persists, it\n",
       "  likely means that the widgets JavaScript library is either not installed or\n",
       "  not enabled. See the <a href=\"https://ipywidgets.readthedocs.io/en/stable/user_install.html\">Jupyter\n",
       "  Widgets Documentation</a> for setup instructions.\n",
       "</p>\n",
       "<p>\n",
       "  If you're reading this message in another frontend (for example, a static\n",
       "  rendering on GitHub or <a href=\"https://nbviewer.jupyter.org/\">NBViewer</a>),\n",
       "  it may mean that your frontend doesn't currently support widgets.\n",
       "</p>\n"
      ],
      "text/plain": [
       "Box(children=(HTML(value=u'<p data-toggle=\"popover\" title=\"Type of nut to eat.\">Nut</p>'), Dropdown(index=2, options=('peanut', 'walnut', 'almond', 'pecan'), value='almond')), layout=Layout(border=u'solid 1px lightgray', display=u'flex', flex_flow=u'row', justify_content=u'space-between', padding=u'3px', width=u'30%'))"
      ]
     },
     "metadata": {},
     "output_type": "display_data"
    }
   ],
   "source": [
    "dd = ui.Dropdown(\n",
    "            name='Nut',\n",
    "            description=\"Type of nut to eat.\",\n",
    "            value='almond',\n",
    "            options=['peanut', 'walnut', 'almond', 'pecan'],\n",
    "            width='30%'\n",
    "        )\n",
    "dd"
   ]
  },
  {
   "cell_type": "code",
   "execution_count": 15,
   "metadata": {
    "extensions": {
     "jupyter_dashboards": {
      "version": 1,
      "views": {
       "grid_default": {
        "col": 8,
        "height": 8,
        "hidden": false,
        "row": 75,
        "width": 4
       },
       "report_default": {}
      }
     }
    }
   },
   "outputs": [
    {
     "data": {
      "application/vnd.jupyter.widget-view+json": {
       "model_id": "06c58d958021429fb65ad2ec59009891",
       "version_major": 2,
       "version_minor": 0
      },
      "text/html": [
       "<p>Failed to display Jupyter Widget of type <code>Tab</code>.</p>\n",
       "<p>\n",
       "  If you're reading this message in the Jupyter Notebook or JupyterLab Notebook, it may mean\n",
       "  that the widgets JavaScript is still loading. If this message persists, it\n",
       "  likely means that the widgets JavaScript library is either not installed or\n",
       "  not enabled. See the <a href=\"https://ipywidgets.readthedocs.io/en/stable/user_install.html\">Jupyter\n",
       "  Widgets Documentation</a> for setup instructions.\n",
       "</p>\n",
       "<p>\n",
       "  If you're reading this message in another frontend (for example, a static\n",
       "  rendering on GitHub or <a href=\"https://nbviewer.jupyter.org/\">NBViewer</a>),\n",
       "  it may mean that your frontend doesn't currently support widgets.\n",
       "</p>\n"
      ],
      "text/plain": [
       "Tab(children=(Box(children=(HTML(value=u'<p data-toggle=\"popover\" title=\"Type of nut to eat.\">Nut</p>'), ToggleButtons(index=2, options=('peanut', 'walnut', 'almond', 'pecan'), value='almond')), layout=Layout(border=u'solid 1px lightgray', display=u'flex', flex_flow=u'row', justify_content=u'space-between', padding=u'3px', width=u'50%')), Box(children=(HTML(value=u'<p data-toggle=\"popover\" title=\"Type of nut to eat.\">Nut</p>'), Dropdown(index=2, options=('peanut', 'walnut', 'almond', 'pecan'), value='almond')), layout=Layout(border=u'solid 1px lightgray', display=u'flex', flex_flow=u'row', justify_content=u'space-between', padding=u'3px', width=u'30%'))))"
      ]
     },
     "metadata": {},
     "output_type": "display_data"
    }
   ],
   "source": [
    "import ipywidgets as widgets\n",
    "widgets.Tab(children=[tb.w, dd.w])"
   ]
  },
  {
   "cell_type": "code",
   "execution_count": 16,
   "metadata": {
    "extensions": {
     "jupyter_dashboards": {
      "version": 1,
      "views": {
       "grid_default": {
        "col": 8,
        "height": 4,
        "hidden": false,
        "row": 21,
        "width": 4
       },
       "report_default": {}
      }
     }
    }
   },
   "outputs": [
    {
     "data": {
      "application/vnd.jupyter.widget-view+json": {
       "model_id": "c2c923c955a14c798234dbd939b162b4",
       "version_major": 2,
       "version_minor": 0
      },
      "text/html": [
       "<p>Failed to display Jupyter Widget of type <code>Box</code>.</p>\n",
       "<p>\n",
       "  If you're reading this message in the Jupyter Notebook or JupyterLab Notebook, it may mean\n",
       "  that the widgets JavaScript is still loading. If this message persists, it\n",
       "  likely means that the widgets JavaScript library is either not installed or\n",
       "  not enabled. See the <a href=\"https://ipywidgets.readthedocs.io/en/stable/user_install.html\">Jupyter\n",
       "  Widgets Documentation</a> for setup instructions.\n",
       "</p>\n",
       "<p>\n",
       "  If you're reading this message in another frontend (for example, a static\n",
       "  rendering on GitHub or <a href=\"https://nbviewer.jupyter.org/\">NBViewer</a>),\n",
       "  it may mean that your frontend doesn't currently support widgets.\n",
       "</p>\n"
      ],
      "text/plain": [
       "Box(children=(HTML(value=u'<p data-toggle=\"popover\" title=\"Name (First and Last)\">Name</p>'), Text(value=u'<name>')), layout=Layout(border=u'solid 1px lightgray', display=u'flex', flex_flow=u'row', justify_content=u'space-between', padding=u'3px', width=u'auto'))"
      ]
     },
     "metadata": {},
     "output_type": "display_data"
    }
   ],
   "source": [
    "xstr = ui.String(name=\"Name\", description='Name (First and Last)', value='<name>')\n",
    "xstr"
   ]
  },
  {
   "cell_type": "code",
   "execution_count": 17,
   "metadata": {
    "extensions": {
     "jupyter_dashboards": {
      "version": 1,
      "views": {
       "grid_default": {
        "col": 0,
        "height": 4,
        "hidden": false,
        "row": 22,
        "width": 4
       },
       "report_default": {}
      }
     }
    }
   },
   "outputs": [
    {
     "data": {
      "application/vnd.jupyter.widget-view+json": {
       "model_id": "ef4b1f5bee964866a0be17ee49fa73e5",
       "version_major": 2,
       "version_minor": 0
      },
      "text/html": [
       "<p>Failed to display Jupyter Widget of type <code>Box</code>.</p>\n",
       "<p>\n",
       "  If you're reading this message in the Jupyter Notebook or JupyterLab Notebook, it may mean\n",
       "  that the widgets JavaScript is still loading. If this message persists, it\n",
       "  likely means that the widgets JavaScript library is either not installed or\n",
       "  not enabled. See the <a href=\"https://ipywidgets.readthedocs.io/en/stable/user_install.html\">Jupyter\n",
       "  Widgets Documentation</a> for setup instructions.\n",
       "</p>\n",
       "<p>\n",
       "  If you're reading this message in another frontend (for example, a static\n",
       "  rendering on GitHub or <a href=\"https://nbviewer.jupyter.org/\">NBViewer</a>),\n",
       "  it may mean that your frontend doesn't currently support widgets.\n",
       "</p>\n"
      ],
      "text/plain": [
       "Box(children=(HTML(value=u'<p data-toggle=\"popover\" title=\"Experiment Description\">Description</p>'), Textarea(value=u'')), layout=Layout(border=u'solid 1px lightgray', display=u'flex', flex_flow=u'row', justify_content=u'space-between', padding=u'3px', width=u'auto'))"
      ]
     },
     "metadata": {},
     "output_type": "display_data"
    }
   ],
   "source": [
    "xtxt = ui.Text(name=\"Description\", description='Experiment Description', value='')\n",
    "xtxt"
   ]
  },
  {
   "cell_type": "markdown",
   "metadata": {
    "extensions": {
     "jupyter_dashboards": {
      "version": 1,
      "views": {
       "grid_default": {
        "col": 4,
        "height": 4,
        "hidden": false,
        "row": 24,
        "width": 4
       },
       "report_default": {}
      }
     }
    }
   },
   "source": [
    "# Grouping\n",
    "Collections of UI elements can be collected in Tabs and Forms."
   ]
  },
  {
   "cell_type": "code",
   "execution_count": 18,
   "metadata": {
    "extensions": {
     "jupyter_dashboards": {
      "version": 1,
      "views": {
       "grid_default": {
        "col": 8,
        "height": 4,
        "hidden": false,
        "row": 25,
        "width": 4
       },
       "report_default": {}
      }
     }
    }
   },
   "outputs": [
    {
     "data": {
      "application/vnd.jupyter.widget-view+json": {
       "model_id": "31d3a5eb77fd4ebfbf4fa8fb1438efb5",
       "version_major": 2,
       "version_minor": 0
      },
      "text/html": [
       "<p>Failed to display Jupyter Widget of type <code>Tab</code>.</p>\n",
       "<p>\n",
       "  If you're reading this message in the Jupyter Notebook or JupyterLab Notebook, it may mean\n",
       "  that the widgets JavaScript is still loading. If this message persists, it\n",
       "  likely means that the widgets JavaScript library is either not installed or\n",
       "  not enabled. See the <a href=\"https://ipywidgets.readthedocs.io/en/stable/user_install.html\">Jupyter\n",
       "  Widgets Documentation</a> for setup instructions.\n",
       "</p>\n",
       "<p>\n",
       "  If you're reading this message in another frontend (for example, a static\n",
       "  rendering on GitHub or <a href=\"https://nbviewer.jupyter.org/\">NBViewer</a>),\n",
       "  it may mean that your frontend doesn't currently support widgets.\n",
       "</p>\n"
      ],
      "text/plain": [
       "Tab(children=(Box(children=(HTML(value=u'<p data-toggle=\"popover\" title=\"\\n\\nMin: 0\\nMax: 500\\n\\n\\n\\nMin: 0\\nMax: 500\\n\\n\">Loops</p>', layout=Layout(flex=u'2 1 auto')), IntText(value=1), Valid(value=True, layout=Layout(flex=u'0 1 0'))), layout=Layout(border=u'solid 1px lightgray', display=u'flex', flex_flow=u'row', justify_content=u'space-between', padding=u'5px', width=u'auto')), Box(children=(HTML(value=u'<p data-toggle=\"popover\" title=\"Type of nut to eat.\">Nut</p>'), ToggleButtons(index=2, options=('peanut', 'walnut', 'almond', 'pecan'), value='almond')), layout=Layout(border=u'solid 1px lightgray', display=u'flex', flex_flow=u'row', justify_content=u'space-between', padding=u'3px', width=u'50%')), Box(children=(HTML(value=u'<p data-toggle=\"popover\" title=\"Name (First and Last)\">Name</p>'), Text(value=u'<name>')), layout=Layout(border=u'solid 1px lightgray', display=u'flex', flex_flow=u'row', justify_content=u'space-between', padding=u'3px', width=u'auto'))), _titles={0: 'Loops', 1: 'Nut', 2: 'Name'})"
      ]
     },
     "metadata": {},
     "output_type": "display_data"
    }
   ],
   "source": [
    "ui.Tab([e1,tb,xstr])"
   ]
  },
  {
   "cell_type": "code",
   "execution_count": 19,
   "metadata": {
    "extensions": {
     "jupyter_dashboards": {
      "version": 1,
      "views": {
       "grid_default": {
        "col": 0,
        "height": 7,
        "hidden": false,
        "row": 26,
        "width": 4
       },
       "report_default": {}
      }
     }
    }
   },
   "outputs": [
    {
     "data": {
      "application/vnd.jupyter.widget-view+json": {
       "model_id": "8b5db1e341474f8cb99a01a53a5ccf7a",
       "version_major": 2,
       "version_minor": 0
      },
      "text/html": [
       "<p>Failed to display Jupyter Widget of type <code>VBox</code>.</p>\n",
       "<p>\n",
       "  If you're reading this message in the Jupyter Notebook or JupyterLab Notebook, it may mean\n",
       "  that the widgets JavaScript is still loading. If this message persists, it\n",
       "  likely means that the widgets JavaScript library is either not installed or\n",
       "  not enabled. See the <a href=\"https://ipywidgets.readthedocs.io/en/stable/user_install.html\">Jupyter\n",
       "  Widgets Documentation</a> for setup instructions.\n",
       "</p>\n",
       "<p>\n",
       "  If you're reading this message in another frontend (for example, a static\n",
       "  rendering on GitHub or <a href=\"https://nbviewer.jupyter.org/\">NBViewer</a>),\n",
       "  it may mean that your frontend doesn't currently support widgets.\n",
       "</p>\n"
      ],
      "text/plain": [
       "VBox(children=(Box(children=(HTML(value=u'<p data-toggle=\"popover\" title=\"\\n\\nMin: 0\\nMax: 500\\n\\n\\n\\nMin: 0\\nMax: 500\\n\\n\">Loops</p>', layout=Layout(flex=u'2 1 auto')), IntText(value=1), Valid(value=True, layout=Layout(flex=u'0 1 0'))), layout=Layout(border=u'solid 1px lightgray', display=u'flex', flex_flow=u'row', justify_content=u'space-between', padding=u'5px', width=u'auto')), Box(children=(HTML(value=u'<p data-toggle=\"popover\" title=\"Type of nut to eat.\">Nut</p>'), ToggleButtons(index=2, options=('peanut', 'walnut', 'almond', 'pecan'), value='almond')), layout=Layout(border=u'solid 1px lightgray', display=u'flex', flex_flow=u'row', justify_content=u'space-between', padding=u'3px', width=u'50%')), Box(children=(HTML(value=u'<p data-toggle=\"popover\" title=\"Name (First and Last)\">Name</p>'), Text(value=u'<name>')), layout=Layout(border=u'solid 1px lightgray', display=u'flex', flex_flow=u'row', justify_content=u'space-between', padding=u'3px', width=u'auto'))), layout=Layout(align_items=u'stretch', display=u'flex', flex_flow=u'column'))"
      ]
     },
     "metadata": {},
     "output_type": "display_data"
    }
   ],
   "source": [
    "ui.Form([e1,tb,xstr])"
   ]
  },
  {
   "cell_type": "code",
   "execution_count": 20,
   "metadata": {
    "extensions": {
     "jupyter_dashboards": {
      "version": 1,
      "views": {
       "grid_default": {
        "col": 4,
        "height": 9,
        "hidden": false,
        "row": 28,
        "width": 4
       },
       "report_default": {}
      }
     }
    }
   },
   "outputs": [
    {
     "data": {
      "application/vnd.jupyter.widget-view+json": {
       "model_id": "704e5c35dbc74922a7b7210affb5b15b",
       "version_major": 2,
       "version_minor": 0
      },
      "text/html": [
       "<p>Failed to display Jupyter Widget of type <code>VBox</code>.</p>\n",
       "<p>\n",
       "  If you're reading this message in the Jupyter Notebook or JupyterLab Notebook, it may mean\n",
       "  that the widgets JavaScript is still loading. If this message persists, it\n",
       "  likely means that the widgets JavaScript library is either not installed or\n",
       "  not enabled. See the <a href=\"https://ipywidgets.readthedocs.io/en/stable/user_install.html\">Jupyter\n",
       "  Widgets Documentation</a> for setup instructions.\n",
       "</p>\n",
       "<p>\n",
       "  If you're reading this message in another frontend (for example, a static\n",
       "  rendering on GitHub or <a href=\"https://nbviewer.jupyter.org/\">NBViewer</a>),\n",
       "  it may mean that your frontend doesn't currently support widgets.\n",
       "</p>\n"
      ],
      "text/plain": [
       "VBox(children=(HTML(value=u\"<p   style='background-color: #DCDCDC; font-size:200; padding: 5px'>My Parameters</p>\", layout=Layout(flex=u'2 1 auto')), Box(children=(HTML(value=u'<p data-toggle=\"popover\" title=\"\\n\\nMin: 0\\nMax: 500\\n\\n\\n\\nMin: 0\\nMax: 500\\n\\n\">Loops</p>', layout=Layout(flex=u'2 1 auto')), IntText(value=1), Valid(value=True, layout=Layout(flex=u'0 1 0'))), layout=Layout(border=u'solid 1px lightgray', display=u'flex', flex_flow=u'row', justify_content=u'space-between', padding=u'5px', width=u'auto')), Box(children=(HTML(value=u'<p data-toggle=\"popover\" title=\"Type of nut to eat.\">Nut</p>'), ToggleButtons(index=2, options=('peanut', 'walnut', 'almond', 'pecan'), value='almond')), layout=Layout(border=u'solid 1px lightgray', display=u'flex', flex_flow=u'row', justify_content=u'space-between', padding=u'3px', width=u'50%')), Box(children=(HTML(value=u'<p data-toggle=\"popover\" title=\"Name (First and Last)\">Name</p>'), Text(value=u'<name>')), layout=Layout(border=u'solid 1px lightgray', display=u'flex', flex_flow=u'row', justify_content=u'space-between', padding=u'3px', width=u'auto'))), layout=Layout(align_items=u'stretch', display=u'flex', flex_flow=u'column'))"
      ]
     },
     "metadata": {},
     "output_type": "display_data"
    }
   ],
   "source": [
    "f1 = ui.Form([e1,tb,xstr], name='My Parameters')\n",
    "f1"
   ]
  },
  {
   "cell_type": "code",
   "execution_count": 21,
   "metadata": {
    "extensions": {
     "jupyter_dashboards": {
      "version": 1,
      "views": {
       "grid_default": {
        "col": 8,
        "height": 6,
        "hidden": false,
        "row": 29,
        "width": 4
       },
       "report_default": {}
      }
     }
    }
   },
   "outputs": [
    {
     "data": {
      "application/vnd.jupyter.widget-view+json": {
       "model_id": "beede411224d4b6fa72895b658bf16ed",
       "version_major": 2,
       "version_minor": 0
      },
      "text/html": [
       "<p>Failed to display Jupyter Widget of type <code>VBox</code>.</p>\n",
       "<p>\n",
       "  If you're reading this message in the Jupyter Notebook or JupyterLab Notebook, it may mean\n",
       "  that the widgets JavaScript is still loading. If this message persists, it\n",
       "  likely means that the widgets JavaScript library is either not installed or\n",
       "  not enabled. See the <a href=\"https://ipywidgets.readthedocs.io/en/stable/user_install.html\">Jupyter\n",
       "  Widgets Documentation</a> for setup instructions.\n",
       "</p>\n",
       "<p>\n",
       "  If you're reading this message in another frontend (for example, a static\n",
       "  rendering on GitHub or <a href=\"https://nbviewer.jupyter.org/\">NBViewer</a>),\n",
       "  it may mean that your frontend doesn't currently support widgets.\n",
       "</p>\n"
      ],
      "text/plain": [
       "VBox(children=(HTML(value=u\"<p   style='background-color: #DCDCDC; font-size:200; padding: 5px'>More Parameters</p>\", layout=Layout(flex=u'2 1 auto')), Box(children=(HTML(value=u'<p data-toggle=\"popover\" title=\"Show the Advanced Options\">Advanced Options</p>'), Checkbox(value=False)), layout=Layout(border=u'solid 1px lightgray', display=u'flex', flex_flow=u'row', justify_content=u'space-between', padding=u'3px', width=u'50%')), Box(children=(HTML(value=u'<p data-toggle=\"popover\" title=\"Type of nut to eat.\">Nut</p>'), Dropdown(index=2, options=('peanut', 'walnut', 'almond', 'pecan'), value='almond')), layout=Layout(border=u'solid 1px lightgray', display=u'flex', flex_flow=u'row', justify_content=u'space-between', padding=u'3px', width=u'30%')), Box(children=(HTML(value=u'<p data-toggle=\"popover\" title=\"Experiment Description\">Description</p>'), Textarea(value=u'')), layout=Layout(border=u'solid 1px lightgray', display=u'flex', flex_flow=u'row', justify_content=u'space-between', padding=u'3px', width=u'auto'))), layout=Layout(align_items=u'stretch', display=u'flex', flex_flow=u'column'))"
      ]
     },
     "metadata": {},
     "output_type": "display_data"
    }
   ],
   "source": [
    "f2 = ui.Form([check, dd, xtxt], name='More Parameters')\n",
    "f2"
   ]
  },
  {
   "cell_type": "code",
   "execution_count": 22,
   "metadata": {
    "extensions": {
     "jupyter_dashboards": {
      "version": 1,
      "views": {
       "grid_default": {
        "col": 0,
        "height": 11,
        "hidden": false,
        "row": 33,
        "width": 4
       },
       "report_default": {}
      }
     }
    }
   },
   "outputs": [
    {
     "data": {
      "application/vnd.jupyter.widget-view+json": {
       "model_id": "6d4b458f3204476fa02cbb10127ccd74",
       "version_major": 2,
       "version_minor": 0
      },
      "text/html": [
       "<p>Failed to display Jupyter Widget of type <code>Tab</code>.</p>\n",
       "<p>\n",
       "  If you're reading this message in the Jupyter Notebook or JupyterLab Notebook, it may mean\n",
       "  that the widgets JavaScript is still loading. If this message persists, it\n",
       "  likely means that the widgets JavaScript library is either not installed or\n",
       "  not enabled. See the <a href=\"https://ipywidgets.readthedocs.io/en/stable/user_install.html\">Jupyter\n",
       "  Widgets Documentation</a> for setup instructions.\n",
       "</p>\n",
       "<p>\n",
       "  If you're reading this message in another frontend (for example, a static\n",
       "  rendering on GitHub or <a href=\"https://nbviewer.jupyter.org/\">NBViewer</a>),\n",
       "  it may mean that your frontend doesn't currently support widgets.\n",
       "</p>\n"
      ],
      "text/plain": [
       "Tab(children=(VBox(children=(HTML(value=u\"<p   style='background-color: #DCDCDC; font-size:200; padding: 5px'>My Parameters</p>\", layout=Layout(flex=u'2 1 auto')), Box(children=(HTML(value=u'<p data-toggle=\"popover\" title=\"\\n\\nMin: 0\\nMax: 500\\n\\n\\n\\nMin: 0\\nMax: 500\\n\\n\">Loops</p>', layout=Layout(flex=u'2 1 auto')), IntText(value=1), Valid(value=True, layout=Layout(flex=u'0 1 0'))), layout=Layout(border=u'solid 1px lightgray', display=u'flex', flex_flow=u'row', justify_content=u'space-between', padding=u'5px', width=u'auto')), Box(children=(HTML(value=u'<p data-toggle=\"popover\" title=\"Type of nut to eat.\">Nut</p>'), ToggleButtons(index=2, options=('peanut', 'walnut', 'almond', 'pecan'), value='almond')), layout=Layout(border=u'solid 1px lightgray', display=u'flex', flex_flow=u'row', justify_content=u'space-between', padding=u'3px', width=u'50%')), Box(children=(HTML(value=u'<p data-toggle=\"popover\" title=\"Name (First and Last)\">Name</p>'), Text(value=u'<name>')), layout=Layout(border=u'solid 1px lightgray', display=u'flex', flex_flow=u'row', justify_content=u'space-between', padding=u'3px', width=u'auto'))), layout=Layout(align_items=u'stretch', display=u'flex', flex_flow=u'column')), VBox(children=(HTML(value=u\"<p   style='background-color: #DCDCDC; font-size:200; padding: 5px'>More Parameters</p>\", layout=Layout(flex=u'2 1 auto')), Box(children=(HTML(value=u'<p data-toggle=\"popover\" title=\"Show the Advanced Options\">Advanced Options</p>'), Checkbox(value=False)), layout=Layout(border=u'solid 1px lightgray', display=u'flex', flex_flow=u'row', justify_content=u'space-between', padding=u'3px', width=u'50%')), Box(children=(HTML(value=u'<p data-toggle=\"popover\" title=\"Type of nut to eat.\">Nut</p>'), Dropdown(index=2, options=('peanut', 'walnut', 'almond', 'pecan'), value='almond')), layout=Layout(border=u'solid 1px lightgray', display=u'flex', flex_flow=u'row', justify_content=u'space-between', padding=u'3px', width=u'30%')), Box(children=(HTML(value=u'<p data-toggle=\"popover\" title=\"Experiment Description\">Description</p>'), Textarea(value=u'')), layout=Layout(border=u'solid 1px lightgray', display=u'flex', flex_flow=u'row', justify_content=u'space-between', padding=u'3px', width=u'auto'))), layout=Layout(align_items=u'stretch', display=u'flex', flex_flow=u'column'))), _titles={0: 'My Parameters', 1: 'More Parameters'})"
      ]
     },
     "metadata": {},
     "output_type": "display_data"
    }
   ],
   "source": [
    "ui.Tab([f1,f2])"
   ]
  },
  {
   "cell_type": "code",
   "execution_count": 23,
   "metadata": {
    "extensions": {
     "jupyter_dashboards": {
      "version": 1,
      "views": {
       "grid_default": {
        "col": 8,
        "height": 14,
        "hidden": false,
        "row": 35,
        "width": 4
       },
       "report_default": {}
      }
     }
    }
   },
   "outputs": [
    {
     "data": {
      "application/vnd.jupyter.widget-view+json": {
       "model_id": "d69bddb532da4c208c4ac6eeb00a5d7c",
       "version_major": 2,
       "version_minor": 0
      },
      "text/html": [
       "<p>Failed to display Jupyter Widget of type <code>VBox</code>.</p>\n",
       "<p>\n",
       "  If you're reading this message in the Jupyter Notebook or JupyterLab Notebook, it may mean\n",
       "  that the widgets JavaScript is still loading. If this message persists, it\n",
       "  likely means that the widgets JavaScript library is either not installed or\n",
       "  not enabled. See the <a href=\"https://ipywidgets.readthedocs.io/en/stable/user_install.html\">Jupyter\n",
       "  Widgets Documentation</a> for setup instructions.\n",
       "</p>\n",
       "<p>\n",
       "  If you're reading this message in another frontend (for example, a static\n",
       "  rendering on GitHub or <a href=\"https://nbviewer.jupyter.org/\">NBViewer</a>),\n",
       "  it may mean that your frontend doesn't currently support widgets.\n",
       "</p>\n"
      ],
      "text/plain": [
       "VBox(children=(VBox(children=(HTML(value=u\"<p   style='background-color: #DCDCDC; font-size:200; padding: 5px'>My Parameters</p>\", layout=Layout(flex=u'2 1 auto')), Box(children=(HTML(value=u'<p data-toggle=\"popover\" title=\"\\n\\nMin: 0\\nMax: 500\\n\\n\\n\\nMin: 0\\nMax: 500\\n\\n\">Loops</p>', layout=Layout(flex=u'2 1 auto')), IntText(value=1), Valid(value=True, layout=Layout(flex=u'0 1 0'))), layout=Layout(border=u'solid 1px lightgray', display=u'flex', flex_flow=u'row', justify_content=u'space-between', padding=u'5px', width=u'auto')), Box(children=(HTML(value=u'<p data-toggle=\"popover\" title=\"Type of nut to eat.\">Nut</p>'), ToggleButtons(index=2, options=('peanut', 'walnut', 'almond', 'pecan'), value='almond')), layout=Layout(border=u'solid 1px lightgray', display=u'flex', flex_flow=u'row', justify_content=u'space-between', padding=u'3px', width=u'50%')), Box(children=(HTML(value=u'<p data-toggle=\"popover\" title=\"Name (First and Last)\">Name</p>'), Text(value=u'<name>')), layout=Layout(border=u'solid 1px lightgray', display=u'flex', flex_flow=u'row', justify_content=u'space-between', padding=u'3px', width=u'auto'))), layout=Layout(align_items=u'stretch', display=u'flex', flex_flow=u'column')), VBox(children=(HTML(value=u\"<p   style='background-color: #DCDCDC; font-size:200; padding: 5px'>More Parameters</p>\", layout=Layout(flex=u'2 1 auto')), Box(children=(HTML(value=u'<p data-toggle=\"popover\" title=\"Show the Advanced Options\">Advanced Options</p>'), Checkbox(value=False)), layout=Layout(border=u'solid 1px lightgray', display=u'flex', flex_flow=u'row', justify_content=u'space-between', padding=u'3px', width=u'50%')), Box(children=(HTML(value=u'<p data-toggle=\"popover\" title=\"Type of nut to eat.\">Nut</p>'), Dropdown(index=2, options=('peanut', 'walnut', 'almond', 'pecan'), value='almond')), layout=Layout(border=u'solid 1px lightgray', display=u'flex', flex_flow=u'row', justify_content=u'space-between', padding=u'3px', width=u'30%')), Box(children=(HTML(value=u'<p data-toggle=\"popover\" title=\"Experiment Description\">Description</p>'), Textarea(value=u'')), layout=Layout(border=u'solid 1px lightgray', display=u'flex', flex_flow=u'row', justify_content=u'space-between', padding=u'3px', width=u'auto'))), layout=Layout(align_items=u'stretch', display=u'flex', flex_flow=u'column'))), layout=Layout(align_items=u'stretch', display=u'flex', flex_flow=u'column'))"
      ]
     },
     "metadata": {},
     "output_type": "display_data"
    }
   ],
   "source": [
    "ff = ui.Form([f1,f2])\n",
    "ff"
   ]
  },
  {
   "cell_type": "code",
   "execution_count": 24,
   "metadata": {
    "extensions": {
     "jupyter_dashboards": {
      "version": 1,
      "views": {
       "grid_default": {
        "col": 4,
        "height": 9,
        "hidden": false,
        "row": 37,
        "width": 4
       },
       "report_default": {}
      }
     }
    }
   },
   "outputs": [
    {
     "data": {
      "application/vnd.jupyter.widget-view+json": {
       "model_id": "a7b4eb426214414b9b686039bbe8b998",
       "version_major": 2,
       "version_minor": 0
      },
      "text/html": [
       "<p>Failed to display Jupyter Widget of type <code>Tab</code>.</p>\n",
       "<p>\n",
       "  If you're reading this message in the Jupyter Notebook or JupyterLab Notebook, it may mean\n",
       "  that the widgets JavaScript is still loading. If this message persists, it\n",
       "  likely means that the widgets JavaScript library is either not installed or\n",
       "  not enabled. See the <a href=\"https://ipywidgets.readthedocs.io/en/stable/user_install.html\">Jupyter\n",
       "  Widgets Documentation</a> for setup instructions.\n",
       "</p>\n",
       "<p>\n",
       "  If you're reading this message in another frontend (for example, a static\n",
       "  rendering on GitHub or <a href=\"https://nbviewer.jupyter.org/\">NBViewer</a>),\n",
       "  it may mean that your frontend doesn't currently support widgets.\n",
       "</p>\n"
      ],
      "text/plain": [
       "Tab(children=(VBox(children=(Box(children=(HTML(value=u'<p data-toggle=\"popover\" title=\"\\n\\nMin: 0\\nMax: 500\\n\\n\\n\\nMin: 0\\nMax: 500\\n\\n\">Loops</p>', layout=Layout(flex=u'2 1 auto')), IntText(value=1), Valid(value=True, layout=Layout(flex=u'0 1 0'))), layout=Layout(border=u'solid 1px lightgray', display=u'flex', flex_flow=u'row', justify_content=u'space-between', padding=u'5px', width=u'auto')), Box(children=(HTML(value=u'<p data-toggle=\"popover\" title=\"Type of nut to eat.\">Nut</p>'), ToggleButtons(index=2, options=('peanut', 'walnut', 'almond', 'pecan'), value='almond')), layout=Layout(border=u'solid 1px lightgray', display=u'flex', flex_flow=u'row', justify_content=u'space-between', padding=u'3px', width=u'50%')), Box(children=(HTML(value=u'<p data-toggle=\"popover\" title=\"Name (First and Last)\">Name</p>'), Text(value=u'<name>')), layout=Layout(border=u'solid 1px lightgray', display=u'flex', flex_flow=u'row', justify_content=u'space-between', padding=u'3px', width=u'auto'))), layout=Layout(align_items=u'stretch', display=u'flex', flex_flow=u'column')), VBox(children=(Box(children=(HTML(value=u'<p data-toggle=\"popover\" title=\"Show the Advanced Options\">Advanced Options</p>'), Checkbox(value=False)), layout=Layout(border=u'solid 1px lightgray', display=u'flex', flex_flow=u'row', justify_content=u'space-between', padding=u'3px', width=u'50%')), Box(children=(HTML(value=u'<p data-toggle=\"popover\" title=\"Type of nut to eat.\">Nut</p>'), Dropdown(index=2, options=('peanut', 'walnut', 'almond', 'pecan'), value='almond')), layout=Layout(border=u'solid 1px lightgray', display=u'flex', flex_flow=u'row', justify_content=u'space-between', padding=u'3px', width=u'30%')), Box(children=(HTML(value=u'<p data-toggle=\"popover\" title=\"Experiment Description\">Description</p>'), Textarea(value=u'')), layout=Layout(border=u'solid 1px lightgray', display=u'flex', flex_flow=u'row', justify_content=u'space-between', padding=u'3px', width=u'auto'))), layout=Layout(align_items=u'stretch', display=u'flex', flex_flow=u'column'))), _titles={0: 'My Parameters', 1: 'More Parameters'})"
      ]
     },
     "metadata": {},
     "output_type": "display_data"
    }
   ],
   "source": [
    "f1 = ui.Form([e1,tb,xstr])\n",
    "f2 = ui.Form([check, dd, xtxt])\n",
    "ui.Tab([f1,f2], titles=['My Parameters', 'More Parameters'])\n"
   ]
  },
  {
   "cell_type": "markdown",
   "metadata": {
    "extensions": {
     "jupyter_dashboards": {
      "version": 1,
      "views": {
       "grid_default": {
        "col": 0,
        "height": 4,
        "hidden": false,
        "row": 44,
        "width": 4
       },
       "report_default": {}
      }
     }
    }
   },
   "source": [
    "## Disable UI Elements\n",
    "You can disable individual elements or all the elements in a Form or Tab."
   ]
  },
  {
   "cell_type": "code",
   "execution_count": 25,
   "metadata": {
    "extensions": {
     "jupyter_dashboards": {
      "version": 1,
      "views": {
       "grid_default": {
        "hidden": true
       },
       "report_default": {}
      }
     }
    }
   },
   "outputs": [],
   "source": [
    "ff.disabled = True"
   ]
  },
  {
   "cell_type": "code",
   "execution_count": 26,
   "metadata": {
    "extensions": {
     "jupyter_dashboards": {
      "version": 1,
      "views": {
       "grid_default": {
        "hidden": true
       },
       "report_default": {}
      }
     }
    }
   },
   "outputs": [],
   "source": [
    "ff.disabled = False"
   ]
  },
  {
   "cell_type": "markdown",
   "metadata": {
    "extensions": {
     "jupyter_dashboards": {
      "version": 1,
      "views": {
       "grid_default": {
        "col": 4,
        "height": 4,
        "hidden": false,
        "row": 46,
        "width": 4
       },
       "report_default": {}
      }
     }
    }
   },
   "source": [
    "## Visibility\n",
    "\n",
    "You can make elements visible or invisible."
   ]
  },
  {
   "cell_type": "code",
   "execution_count": 27,
   "metadata": {
    "extensions": {
     "jupyter_dashboards": {
      "version": 1,
      "views": {
       "grid_default": {
        "hidden": true
       },
       "report_default": {}
      }
     }
    }
   },
   "outputs": [],
   "source": [
    "tb.visible = False"
   ]
  },
  {
   "cell_type": "code",
   "execution_count": 28,
   "metadata": {
    "extensions": {
     "jupyter_dashboards": {
      "version": 1,
      "views": {
       "grid_default": {
        "hidden": true
       },
       "report_default": {}
      }
     }
    }
   },
   "outputs": [],
   "source": [
    "tb.visible = True"
   ]
  },
  {
   "cell_type": "markdown",
   "metadata": {
    "extensions": {
     "jupyter_dashboards": {
      "version": 1,
      "views": {
       "grid_default": {
        "col": 0,
        "height": 4,
        "hidden": false,
        "row": 48,
        "width": 4
       },
       "report_default": {}
      }
     }
    }
   },
   "source": [
    "## Callbacks\n",
    "\n",
    "Each non-grouping UI element can callback a function you provide when the value changes."
   ]
  },
  {
   "cell_type": "code",
   "execution_count": 29,
   "metadata": {
    "extensions": {
     "jupyter_dashboards": {
      "version": 1,
      "views": {
       "grid_default": {
        "col": 8,
        "height": 5,
        "hidden": false,
        "row": 49,
        "width": 4
       },
       "report_default": {}
      }
     }
    }
   },
   "outputs": [
    {
     "data": {
      "application/vnd.jupyter.widget-view+json": {
       "model_id": "906487aceb2941ba8b88a636f40037ea",
       "version_major": 2,
       "version_minor": 0
      },
      "text/html": [
       "<p>Failed to display Jupyter Widget of type <code>Box</code>.</p>\n",
       "<p>\n",
       "  If you're reading this message in the Jupyter Notebook or JupyterLab Notebook, it may mean\n",
       "  that the widgets JavaScript is still loading. If this message persists, it\n",
       "  likely means that the widgets JavaScript library is either not installed or\n",
       "  not enabled. See the <a href=\"https://ipywidgets.readthedocs.io/en/stable/user_install.html\">Jupyter\n",
       "  Widgets Documentation</a> for setup instructions.\n",
       "</p>\n",
       "<p>\n",
       "  If you're reading this message in another frontend (for example, a static\n",
       "  rendering on GitHub or <a href=\"https://nbviewer.jupyter.org/\">NBViewer</a>),\n",
       "  it may mean that your frontend doesn't currently support widgets.\n",
       "</p>\n"
      ],
      "text/plain": [
       "Box(children=(HTML(value=u'<p data-toggle=\"popover\" title=\"Type of nut to eat.\">Nut</p>'), ToggleButtons(index=2, options=('peanut', 'walnut', 'almond', 'pecan'), value='almond')), layout=Layout(border=u'solid 1px lightgray', display=u'flex', flex_flow=u'row', justify_content=u'space-between', padding=u'3px', width=u'50%'))"
      ]
     },
     "metadata": {},
     "output_type": "display_data"
    }
   ],
   "source": [
    "def something_changed(name, value):\n",
    "    print(\"%s changed to %s\" % (name, value))\n",
    "\n",
    "tbc = ui.Togglebuttons(\n",
    "            name='Nut',\n",
    "            description=\"Type of nut to eat.\",\n",
    "            value='almond',\n",
    "            options=['peanut', 'walnut', 'almond', 'pecan'],\n",
    "            cb=something_changed,\n",
    "            width='50%'\n",
    "        )\n",
    "tbc"
   ]
  },
  {
   "cell_type": "markdown",
   "metadata": {
    "extensions": {
     "jupyter_dashboards": {
      "version": 1,
      "views": {
       "grid_default": {
        "col": 0,
        "height": 5,
        "hidden": false,
        "row": 54,
        "width": 12
       },
       "report_default": {}
      }
     }
    }
   },
   "source": [
    "# Interactive UI\n",
    "\n",
    "We can use callbacks to modify the UI dynamically.\n",
    "\n",
    "### Disabling Elements"
   ]
  },
  {
   "cell_type": "code",
   "execution_count": 30,
   "metadata": {
    "extensions": {
     "jupyter_dashboards": {
      "version": 1,
      "views": {
       "grid_default": {
        "col": 0,
        "height": 11,
        "hidden": false,
        "row": 59,
        "width": 4
       },
       "report_default": {}
      }
     }
    }
   },
   "outputs": [
    {
     "data": {
      "application/vnd.jupyter.widget-view+json": {
       "model_id": "1b90a21d83ec4472bf811a369d3590ff",
       "version_major": 2,
       "version_minor": 0
      },
      "text/html": [
       "<p>Failed to display Jupyter Widget of type <code>VBox</code>.</p>\n",
       "<p>\n",
       "  If you're reading this message in the Jupyter Notebook or JupyterLab Notebook, it may mean\n",
       "  that the widgets JavaScript is still loading. If this message persists, it\n",
       "  likely means that the widgets JavaScript library is either not installed or\n",
       "  not enabled. See the <a href=\"https://ipywidgets.readthedocs.io/en/stable/user_install.html\">Jupyter\n",
       "  Widgets Documentation</a> for setup instructions.\n",
       "</p>\n",
       "<p>\n",
       "  If you're reading this message in another frontend (for example, a static\n",
       "  rendering on GitHub or <a href=\"https://nbviewer.jupyter.org/\">NBViewer</a>),\n",
       "  it may mean that your frontend doesn't currently support widgets.\n",
       "</p>\n"
      ],
      "text/plain": [
       "VBox(children=(Box(children=(HTML(value=u'<p data-toggle=\"popover\" title=\"Show the Advanced Options\">Advanced Options</p>'), Checkbox(value=False)), layout=Layout(border=u'solid 1px lightgray', display=u'flex', flex_flow=u'row', justify_content=u'space-between', padding=u'3px', width=u'50%')), Box(children=(HTML(value=u'<p data-toggle=\"popover\" title=\"Type of nut to eat.\">Nut</p>'), ToggleButtons(index=2, layout=Layout(visibility=u'visible'), options=('peanut', 'walnut', 'almond', 'pecan'), value='almond')), layout=Layout(border=u'solid 1px lightgray', display=u'flex', flex_flow=u'row', justify_content=u'space-between', padding=u'3px', visibility=u'visible', width=u'50%')), Box(children=(HTML(value=u'<p data-toggle=\"popover\" title=\"Nut Options\">Options</p>'), ToggleButtons(disabled=True, options=('None', 'Toasted', 'Roasted', 'Glazed', 'Salted'), value='None')), layout=Layout(border=u'solid 1px lightgray', display=u'flex', flex_flow=u'row', justify_content=u'space-between', padding=u'3px', width=u'50%'))), layout=Layout(align_items=u'stretch', display=u'flex', flex_flow=u'column'))"
      ]
     },
     "metadata": {},
     "output_type": "display_data"
    }
   ],
   "source": [
    "def set_advanced(name, val):\n",
    "    opt.disabled = not val\n",
    "\n",
    "adv_check = ui.Checkbox('Advanced Options', 'Show the Advanced Options', value=False, width='50%', cb=set_advanced)\n",
    "\n",
    "opt = ui.Togglebuttons(\n",
    "            name='Options',\n",
    "            description=\"Nut Options\",\n",
    "            value='None',\n",
    "            options=['None', 'Toasted', 'Roasted', 'Glazed', 'Salted'],\n",
    "            width='50%',\n",
    "            disabled=True,  # initial state\n",
    "        )\n",
    "ui.Form([adv_check, tb, opt])"
   ]
  },
  {
   "cell_type": "markdown",
   "metadata": {
    "collapsed": true,
    "extensions": {
     "jupyter_dashboards": {
      "version": 1,
      "views": {
       "grid_default": {
        "col": 4,
        "height": 4,
        "hidden": false,
        "row": 50,
        "width": 4
       },
       "report_default": {}
      }
     }
    }
   },
   "source": [
    "### Hiding Elements Dynamically"
   ]
  },
  {
   "cell_type": "code",
   "execution_count": 31,
   "metadata": {
    "extensions": {
     "jupyter_dashboards": {
      "version": 1,
      "views": {
       "grid_default": {
        "col": 4,
        "height": 11,
        "hidden": false,
        "row": 59,
        "width": 4
       },
       "report_default": {}
      }
     }
    }
   },
   "outputs": [
    {
     "data": {
      "application/vnd.jupyter.widget-view+json": {
       "model_id": "5a11bef64aeb4fb69ab9ebde9161155d",
       "version_major": 2,
       "version_minor": 0
      },
      "text/html": [
       "<p>Failed to display Jupyter Widget of type <code>VBox</code>.</p>\n",
       "<p>\n",
       "  If you're reading this message in the Jupyter Notebook or JupyterLab Notebook, it may mean\n",
       "  that the widgets JavaScript is still loading. If this message persists, it\n",
       "  likely means that the widgets JavaScript library is either not installed or\n",
       "  not enabled. See the <a href=\"https://ipywidgets.readthedocs.io/en/stable/user_install.html\">Jupyter\n",
       "  Widgets Documentation</a> for setup instructions.\n",
       "</p>\n",
       "<p>\n",
       "  If you're reading this message in another frontend (for example, a static\n",
       "  rendering on GitHub or <a href=\"https://nbviewer.jupyter.org/\">NBViewer</a>),\n",
       "  it may mean that your frontend doesn't currently support widgets.\n",
       "</p>\n"
      ],
      "text/plain": [
       "VBox(children=(Box(children=(HTML(value=u'<p data-toggle=\"popover\" title=\"Show the Advanced Options\">Advanced Options</p>'), Checkbox(value=False)), layout=Layout(border=u'solid 1px lightgray', display=u'flex', flex_flow=u'row', justify_content=u'space-between', padding=u'3px', width=u'50%')), Box(children=(HTML(value=u'<p data-toggle=\"popover\" title=\"Type of nut to eat.\">Nut</p>'), ToggleButtons(index=2, layout=Layout(visibility=u'visible'), options=('peanut', 'walnut', 'almond', 'pecan'), value='almond')), layout=Layout(border=u'solid 1px lightgray', display=u'flex', flex_flow=u'row', justify_content=u'space-between', padding=u'3px', visibility=u'visible', width=u'50%')), Box(children=(HTML(value=u'<p data-toggle=\"popover\" title=\"Nut Options\">Options</p>'), ToggleButtons(disabled=True, layout=Layout(visibility=u'hidden'), options=('None', 'Toasted', 'Roasted', 'Glazed', 'Salted'), value='None')), layout=Layout(border=u'solid 1px lightgray', display=u'flex', flex_flow=u'row', justify_content=u'space-between', padding=u'3px', visibility=u'hidden', width=u'50%'))), layout=Layout(align_items=u'stretch', display=u'flex', flex_flow=u'column'))"
      ]
     },
     "metadata": {},
     "output_type": "display_data"
    }
   ],
   "source": [
    "def show_advanced(name, val):\n",
    "    opt.visible = val\n",
    "\n",
    "adv_check = ui.Checkbox('Advanced Options', 'Show the Advanced Options', value=False, width='50%', cb=show_advanced)\n",
    "opt.visible = False\n",
    "ui.Form([adv_check, tb, opt])"
   ]
  },
  {
   "cell_type": "markdown",
   "metadata": {
    "extensions": {
     "jupyter_dashboards": {
      "version": 1,
      "views": {
       "grid_default": {
        "col": 8,
        "height": 4,
        "hidden": false,
        "row": 59,
        "width": 4
       },
       "report_default": {}
      }
     }
    }
   },
   "source": [
    "# A More Complicated Example"
   ]
  },
  {
   "cell_type": "code",
   "execution_count": 32,
   "metadata": {
    "extensions": {
     "jupyter_dashboards": {
      "version": 1,
      "views": {
       "grid_default": {
        "col": 8,
        "height": 12,
        "hidden": false,
        "row": 63,
        "width": 4
       },
       "report_default": {}
      }
     }
    }
   },
   "outputs": [
    {
     "data": {
      "application/vnd.jupyter.widget-view+json": {
       "model_id": "4f12c0c045034e02adb063113e7fe40b",
       "version_major": 2,
       "version_minor": 0
      },
      "text/html": [
       "<p>Failed to display Jupyter Widget of type <code>VBox</code>.</p>\n",
       "<p>\n",
       "  If you're reading this message in the Jupyter Notebook or JupyterLab Notebook, it may mean\n",
       "  that the widgets JavaScript is still loading. If this message persists, it\n",
       "  likely means that the widgets JavaScript library is either not installed or\n",
       "  not enabled. See the <a href=\"https://ipywidgets.readthedocs.io/en/stable/user_install.html\">Jupyter\n",
       "  Widgets Documentation</a> for setup instructions.\n",
       "</p>\n",
       "<p>\n",
       "  If you're reading this message in another frontend (for example, a static\n",
       "  rendering on GitHub or <a href=\"https://nbviewer.jupyter.org/\">NBViewer</a>),\n",
       "  it may mean that your frontend doesn't currently support widgets.\n",
       "</p>\n"
      ],
      "text/plain": [
       "VBox(children=(HTML(value=u\"<p   style='background-color: #DCDCDC; font-size:200; padding: 5px'>Sundae</p>\", layout=Layout(flex=u'2 1 auto')), Box(children=(HTML(value=u'<p data-toggle=\"popover\" title=\"Ice Cream Flavor.\">Ice Cream</p>'), Dropdown(options=('Vanilla', 'Strawberry', 'Chocolate', 'Pistachio'), value='Vanilla')), layout=Layout(border=u'solid 1px lightgray', display=u'flex', flex_flow=u'row', justify_content=u'space-between', padding=u'3px', width=u'30%')), Box(children=(HTML(value=u'<p data-toggle=\"popover\" title=\"Ice Cream Topping\">Topping</p>'), RadioButtons(options=('None', 'Fudge', 'Caramel', 'Marshmallow'), value='None')), layout=Layout(border=u'solid 1px lightgray', display=u'flex', flex_flow=u'row', justify_content=u'space-between', padding=u'3px', width=u'30%')), Box(children=(HTML(value=u'<p data-toggle=\"popover\" title=\"Brownie on the bottom?\">Brownie</p>'), ToggleButtons(options=('No', 'Yes'), value='No')), layout=Layout(border=u'solid 1px lightgray', display=u'flex', flex_flow=u'row', justify_content=u'space-between', padding=u'3px', width=u'30%')), Box(children=(HTML(value=u'<p data-toggle=\"popover\" title=\"Cherry on Top?\">Cherry</p>'), Checkbox(value=False)), layout=Layout(border=u'solid 1px lightgray', display=u'flex', flex_flow=u'row', justify_content=u'space-between', padding=u'3px', width=u'30%'))), layout=Layout(align_items=u'stretch', display=u'flex', flex_flow=u'column'))"
      ]
     },
     "metadata": {},
     "output_type": "display_data"
    }
   ],
   "source": [
    "width='30%'\n",
    "ice_cream = ui.Dropdown(\n",
    "            name='Ice Cream',\n",
    "            description=\"Ice Cream Flavor.\",\n",
    "            value='Vanilla',\n",
    "            options=['Vanilla', 'Strawberry', 'Chocolate', 'Pistachio'],\n",
    "            width=width\n",
    "        )\n",
    "topping = ui.Radiobuttons(\n",
    "            name='Topping',\n",
    "            description=\"Ice Cream Topping\",\n",
    "            value='None',\n",
    "            options=['None', 'Fudge', 'Caramel', 'Marshmallow'],\n",
    "            width=width\n",
    "        )\n",
    "cherry = ui.Checkbox('Cherry', 'Cherry on Top?', value=False, width=width)\n",
    "brownie = ui.Togglebuttons('Brownie', \"Brownie on the bottom?\", value='No', options=['No', 'Yes'], width=width)\n",
    "sundae = ui.Form([ice_cream, topping, brownie, cherry], name='Sundae')\n",
    "sundae"
   ]
  },
  {
   "cell_type": "code",
   "execution_count": 33,
   "metadata": {
    "extensions": {
     "jupyter_dashboards": {
      "version": 1,
      "views": {
       "grid_default": {
        "col": 0,
        "height": 6,
        "hidden": false,
        "row": 70,
        "width": 4
       },
       "report_default": {}
      }
     }
    }
   },
   "outputs": [
    {
     "data": {
      "application/vnd.jupyter.widget-view+json": {
       "model_id": "0ff4cf98e143482cbb6a76b14e36da97",
       "version_major": 2,
       "version_minor": 0
      },
      "text/html": [
       "<p>Failed to display Jupyter Widget of type <code>VBox</code>.</p>\n",
       "<p>\n",
       "  If you're reading this message in the Jupyter Notebook or JupyterLab Notebook, it may mean\n",
       "  that the widgets JavaScript is still loading. If this message persists, it\n",
       "  likely means that the widgets JavaScript library is either not installed or\n",
       "  not enabled. See the <a href=\"https://ipywidgets.readthedocs.io/en/stable/user_install.html\">Jupyter\n",
       "  Widgets Documentation</a> for setup instructions.\n",
       "</p>\n",
       "<p>\n",
       "  If you're reading this message in another frontend (for example, a static\n",
       "  rendering on GitHub or <a href=\"https://nbviewer.jupyter.org/\">NBViewer</a>),\n",
       "  it may mean that your frontend doesn't currently support widgets.\n",
       "</p>\n"
      ],
      "text/plain": [
       "VBox(children=(HTML(value=u\"<p   style='background-color: #DCDCDC; font-size:200; padding: 5px'>Pizza</p>\", layout=Layout(flex=u'2 1 auto')), Box(children=(HTML(value=u'<p data-toggle=\"popover\" title=\"Pizza Crust\">Crust</p>'), Dropdown(options=('Thin', 'Hand-Tossed', 'Pan', 'Gluten-Free'), value='Thin')), layout=Layout(border=u'solid 1px lightgray', display=u'flex', flex_flow=u'row', justify_content=u'space-between', padding=u'3px', width=u'30%')), Box(children=(HTML(value=u'<p data-toggle=\"popover\" title=\"Sauce Type\">Sauce</p>'), Dropdown(options=('Regular', 'Robust', 'Pesto'), value='Regular')), layout=Layout(border=u'solid 1px lightgray', display=u'flex', flex_flow=u'row', justify_content=u'space-between', padding=u'3px', width=u'30%')), Box(children=(HTML(value=u'<p data-toggle=\"popover\" title=\"\">Extra Cheese</p>'), Checkbox(value=False)), layout=Layout(border=u'solid 1px lightgray', display=u'flex', flex_flow=u'row', justify_content=u'space-between', padding=u'3px', width=u'30%'))), layout=Layout(align_items=u'stretch', display=u'flex', flex_flow=u'column'))"
      ]
     },
     "metadata": {},
     "output_type": "display_data"
    }
   ],
   "source": [
    "crust = ui.Dropdown(\n",
    "            name='Crust',\n",
    "            description=\"Pizza Crust\",\n",
    "            value='Thin',\n",
    "            options=['Thin', 'Hand-Tossed', 'Pan', 'Gluten-Free'],\n",
    "            width=width\n",
    "        )\n",
    "sauce = ui.Dropdown(\n",
    "            name='Sauce',\n",
    "            description=\"Sauce Type\",\n",
    "            value='Regular',\n",
    "            options=['Regular', 'Robust', 'Pesto'],\n",
    "            width=width\n",
    "        )\n",
    "cheese = ui.Checkbox('Extra Cheese', '', value=False, width=width)\n",
    "pizza = ui.Form([crust, sauce, cheese], name='Pizza')\n",
    "pizza\n"
   ]
  },
  {
   "cell_type": "code",
   "execution_count": 34,
   "metadata": {
    "extensions": {
     "jupyter_dashboards": {
      "version": 1,
      "views": {
       "grid_default": {
        "col": 4,
        "height": 8,
        "hidden": false,
        "row": 70,
        "width": 4
       },
       "report_default": {}
      }
     }
    }
   },
   "outputs": [
    {
     "data": {
      "application/vnd.jupyter.widget-view+json": {
       "model_id": "d7041b26c9d44592b000e333c6409511",
       "version_major": 2,
       "version_minor": 0
      },
      "text/html": [
       "<p>Failed to display Jupyter Widget of type <code>Tab</code>.</p>\n",
       "<p>\n",
       "  If you're reading this message in the Jupyter Notebook or JupyterLab Notebook, it may mean\n",
       "  that the widgets JavaScript is still loading. If this message persists, it\n",
       "  likely means that the widgets JavaScript library is either not installed or\n",
       "  not enabled. See the <a href=\"https://ipywidgets.readthedocs.io/en/stable/user_install.html\">Jupyter\n",
       "  Widgets Documentation</a> for setup instructions.\n",
       "</p>\n",
       "<p>\n",
       "  If you're reading this message in another frontend (for example, a static\n",
       "  rendering on GitHub or <a href=\"https://nbviewer.jupyter.org/\">NBViewer</a>),\n",
       "  it may mean that your frontend doesn't currently support widgets.\n",
       "</p>\n"
      ],
      "text/plain": [
       "Tab(children=(VBox(children=(HTML(value=u\"<p   style='background-color: #DCDCDC; font-size:200; padding: 5px'>Pizza</p>\", layout=Layout(flex=u'2 1 auto')), Box(children=(HTML(value=u'<p data-toggle=\"popover\" title=\"Pizza Crust\">Crust</p>'), Dropdown(options=('Thin', 'Hand-Tossed', 'Pan', 'Gluten-Free'), value='Thin')), layout=Layout(border=u'solid 1px lightgray', display=u'flex', flex_flow=u'row', justify_content=u'space-between', padding=u'3px', width=u'30%')), Box(children=(HTML(value=u'<p data-toggle=\"popover\" title=\"Sauce Type\">Sauce</p>'), Dropdown(options=('Regular', 'Robust', 'Pesto'), value='Regular')), layout=Layout(border=u'solid 1px lightgray', display=u'flex', flex_flow=u'row', justify_content=u'space-between', padding=u'3px', width=u'30%')), Box(children=(HTML(value=u'<p data-toggle=\"popover\" title=\"\">Extra Cheese</p>'), Checkbox(value=False)), layout=Layout(border=u'solid 1px lightgray', display=u'flex', flex_flow=u'row', justify_content=u'space-between', padding=u'3px', width=u'30%'))), layout=Layout(align_items=u'stretch', display=u'flex', flex_flow=u'column')), VBox(children=(HTML(value=u\"<p   style='background-color: #DCDCDC; font-size:200; padding: 5px'>Sundae</p>\", layout=Layout(flex=u'2 1 auto')), Box(children=(HTML(value=u'<p data-toggle=\"popover\" title=\"Ice Cream Flavor.\">Ice Cream</p>'), Dropdown(options=('Vanilla', 'Strawberry', 'Chocolate', 'Pistachio'), value='Vanilla')), layout=Layout(border=u'solid 1px lightgray', display=u'flex', flex_flow=u'row', justify_content=u'space-between', padding=u'3px', width=u'30%')), Box(children=(HTML(value=u'<p data-toggle=\"popover\" title=\"Ice Cream Topping\">Topping</p>'), RadioButtons(options=('None', 'Fudge', 'Caramel', 'Marshmallow'), value='None')), layout=Layout(border=u'solid 1px lightgray', display=u'flex', flex_flow=u'row', justify_content=u'space-between', padding=u'3px', width=u'30%')), Box(children=(HTML(value=u'<p data-toggle=\"popover\" title=\"Brownie on the bottom?\">Brownie</p>'), ToggleButtons(options=('No', 'Yes'), value='No')), layout=Layout(border=u'solid 1px lightgray', display=u'flex', flex_flow=u'row', justify_content=u'space-between', padding=u'3px', width=u'30%')), Box(children=(HTML(value=u'<p data-toggle=\"popover\" title=\"Cherry on Top?\">Cherry</p>'), Checkbox(value=False)), layout=Layout(border=u'solid 1px lightgray', display=u'flex', flex_flow=u'row', justify_content=u'space-between', padding=u'3px', width=u'30%'))), layout=Layout(align_items=u'stretch', display=u'flex', flex_flow=u'column'))), _titles={0: 'Pizza', 1: 'Sundae'})"
      ]
     },
     "metadata": {},
     "output_type": "display_data"
    }
   ],
   "source": [
    "ui.Tab([pizza, sundae])"
   ]
  }
 ],
 "metadata": {
  "extensions": {
   "jupyter_dashboards": {
    "activeView": "grid_default",
    "version": 1,
    "views": {
     "grid_default": {
      "cellMargin": 10,
      "defaultCellHeight": 20,
      "maxColumns": 12,
      "name": "grid",
      "type": "grid"
     },
     "report_default": {
      "name": "report",
      "type": "report"
     }
    }
   }
  },
  "kernelspec": {
   "display_name": "Python2",
   "language": "python",
   "name": "python2"
  },
  "language_info": {
   "codemirror_mode": {
    "name": "ipython",
    "version": 2
   },
   "file_extension": ".py",
   "mimetype": "text/x-python",
   "name": "python",
   "nbconvert_exporter": "python",
   "pygments_lexer": "ipython2",
   "version": "2.7.13"
  }
 },
 "nbformat": 4,
 "nbformat_minor": 1
}
