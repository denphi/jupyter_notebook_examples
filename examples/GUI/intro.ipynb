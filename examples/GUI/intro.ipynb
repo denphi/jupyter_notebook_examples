{
 "cells": [
  {
   "cell_type": "markdown",
   "metadata": {},
   "source": [
    "# Building GUIs in Notebooks"
   ]
  },
  {
   "cell_type": "markdown",
   "metadata": {},
   "source": [
    "## General Structure\n",
    "\n",
    "Notebooks follow a linear flow, from the first cell to the last, writing output to cells along the way.\n",
    "Sometimes they might have some imput GUI elements, like a slider to interactively modify the output of the cell.\n",
    "\n",
    "Implementing a full GUI for a dashboard or tool requires an event-driven structure.  Clicking on a widget results in a callback to a function that does some processing and updates some output widgets, or modifies the state of the input widgets.  "
   ]
  },
  {
   "cell_type": "markdown",
   "metadata": {},
   "source": [
    "# Examples\n",
    "\n",
    "### Ipywidgets\n",
    "These are the widgets distributed with Jupyter for Python use.\n",
    "* [Demo with Dashboard Layout](basic.ipynb)\n",
    "* [Official Examples](../ipywidgets/Index.ipynb)\n",
    "\n",
    "### hublib.ui\n",
    "Hublib contains a basic widget set designed for building simple forms\n",
    "and some more advanced widgets.\n",
    "\n",
    "They are mostly built on top of ipywidgets and can be mixed with them.\n",
    "\n",
    "http://hublib.readthedocs.io/en/latest/\n",
    "* [UI Demo](hublib/UI_Demo.ipynb)\n",
    "* [Plotting GUI Demo](hublib/plotting_gui_demo.ipynb)\n",
    "* [File Upload](hublib/file_upload.ipynb)\n",
    "* [File Download](hublib/download.ipynb)\n",
    "* [Code Buttons](hublib/CodeButtons.ipynb) Add buttons to hide source code or run all cells.\n",
    "* [Modal](hublib/modal.ipynb) Simple modal dialogs. Modal dialogs popup and disable the window\n",
    "  until you click on them.\n",
    "* [List Manager](hublib/listmanager.ipynb) A widget that allows you to asdd and remove elements to a list.\n",
    "\n",
    "### Pandas\n",
    "Pandas is an open source Python library providing high-performance, easy-to-use data structures and data analysis tools.\n",
    "* [Pandas Plotting](pandas.ipynb)\n"
   ]
  }
 ],
 "metadata": {
  "kernelspec": {
   "display_name": "Python3",
   "language": "python",
   "name": "python3"
  },
  "language_info": {
   "codemirror_mode": {
    "name": "ipython",
    "version": 3
   },
   "file_extension": ".py",
   "mimetype": "text/x-python",
   "name": "python",
   "nbconvert_exporter": "python",
   "pygments_lexer": "ipython3",
   "version": "3.6.2"
  }
 },
 "nbformat": 4,
 "nbformat_minor": 2
}
