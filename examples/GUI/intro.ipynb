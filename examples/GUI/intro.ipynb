{
 "cells": [
  {
   "cell_type": "markdown",
   "metadata": {},
   "source": [
    "# Building GUIs in Notebooks"
   ]
  },
  {
   "cell_type": "markdown",
   "metadata": {},
   "source": [
    "## General Structure\n",
    "\n",
    "Notebooks follow a linear flow, from the first cell to the last, writing output to cells along the way.\n",
    "Sometimes they might have some imput GUI elements, like a slider to interactively modify the output of the cell.\n",
    "\n",
    "Implementing a full GUI for a dashboard or tool requires an event-driven structure.  Clicking on a widget results in a callback to a function that does some processing and updates some output widgets, or modifies the state of the input widgets.  "
   ]
  },
  {
   "cell_type": "markdown",
   "metadata": {},
   "source": [
    "# Examples\n",
    "* Ipywidgets\n",
    "    * [Demo with Dashboard Layout](basic.ipynb)\n",
    "    * [Official Examples](../ipywidgets/Index.ipynb)\n",
    "* Pandas\n",
    "    * [Pandas Plotting](pandas.ipynb)\n"
   ]
  }
 ],
 "metadata": {
  "kernelspec": {
   "display_name": "Python3",
   "language": "python",
   "name": "python3"
  },
  "language_info": {
   "codemirror_mode": {
    "name": "ipython",
    "version": 3
   },
   "file_extension": ".py",
   "mimetype": "text/x-python",
   "name": "python",
   "nbconvert_exporter": "python",
   "pygments_lexer": "ipython3",
   "version": "3.5.3"
  }
 },
 "nbformat": 4,
 "nbformat_minor": 2
}
