{
 "cells": [
  {
   "cell_type": "code",
   "execution_count": 1,
   "metadata": {
    "collapsed": false
   },
   "outputs": [],
   "source": [
    "import hublib.tool\n",
    "import hublib.ui as ui\n",
    "import nglview as nv\n",
    "from IPython.display import display\n",
    "import ipywidgets as widgets"
   ]
  },
  {
   "cell_type": "markdown",
   "metadata": {},
   "source": [
    "<img  src=\"rcsb_logo.png\" style=\"float: left\"/>"
   ]
  },
  {
   "cell_type": "markdown",
   "metadata": {},
   "source": [
    "A demonstration of loading a protein from the RCSB Protein Data Bank and visualizing it in a Jupyter Notebook."
   ]
  },
  {
   "cell_type": "code",
   "execution_count": 2,
   "metadata": {
    "collapsed": false
   },
   "outputs": [],
   "source": [
    "def surface_changed(_name, value):\n",
    "    if value:\n",
    "        opacity.visible = True\n",
    "        return\n",
    "    opacity.visible=False\n",
    "\n",
    "molecule = ui.Dropdown(\n",
    "        name='Protein',\n",
    "        description=\"from RCSB PDB\",\n",
    "        value='1ycr',\n",
    "        options=['1ycr', '5ire', '1dc9', '4hhb'],\n",
    "        width='40%'\n",
    "    )\n",
    "stick = ui.Checkbox('stick', '', value=False, width='40%')\n",
    "cartoon = ui.Checkbox('cartoon', '', value=True, width='40%')\n",
    "surface = ui.Checkbox('surface', '', value=False, width='40%', cb=surface_changed)\n",
    "opacity = ui.Number(\n",
    "    name='opacity',\n",
    "    description=\"Surface Opacity\",\n",
    "    min=0,\n",
    "    max=1,\n",
    "    value='0.5',\n",
    "    width='40%'\n",
    ")\n",
    "opacity.visible = False\n",
    "\n",
    "display(ui.Form([molecule, stick, cartoon, surface, opacity]))\n"
   ]
  },
  {
   "cell_type": "code",
   "execution_count": 3,
   "metadata": {
    "collapsed": false
   },
   "outputs": [],
   "source": [
    "def form_changed(first):\n",
    "    global view\n",
    "    if not first:\n",
    "        view.close()\n",
    "    view = nv.show_pdbid(molecule.value)\n",
    "    display(view)\n",
    "\n",
    "    rep = []\n",
    "    if surface.value:\n",
    "        rep.append({\"type\": \"surface\", \"params\": {\"opacity\": opacity.value, 'color': 'white'}})\n",
    "\n",
    "    if stick.value:\n",
    "        rep.append({\"type\": \"ball+stick\", \"params\": {}})\n",
    "\n",
    "    if cartoon.value:\n",
    "        rep.append({\"type\": \"cartoon\", \"params\": {}})\n",
    "\n",
    "    view.representations = rep\n",
    "\n",
    "# create button that reloads things when clicked\n",
    "button = widgets.Button(description=\"Update\")\n",
    "def on_button_clicked(b):\n",
    "    form_changed(False)\n",
    "button.on_click(on_button_clicked)\n",
    "display(button)\n",
    "\n",
    "form_changed(True)"
   ]
  }
 ],
 "metadata": {
  "kernelspec": {
   "display_name": "Python2",
   "language": "python",
   "name": "python2"
  },
  "language_info": {
   "codemirror_mode": {
    "name": "ipython",
    "version": 2
   },
   "file_extension": ".py",
   "mimetype": "text/x-python",
   "name": "python",
   "nbconvert_exporter": "python",
   "pygments_lexer": "ipython2",
   "version": "2.7.12"
  },
  "tool": false,
  "widgets": {
   "state": {
    "0e42da5ed3574600b316d7d87551ee47": {
     "views": [
      {
       "cell_index": 4
      }
     ]
    },
    "489007caf0294534b112c3e52bc0a845": {
     "views": [
      {
       "cell_index": 3
      }
     ]
    },
    "4f5b0cf2d13f44f78110e35375ff2c81": {
     "views": [
      {
       "cell_index": 4
      }
     ]
    },
    "83e5a156f2044dcfbe28d60869dd4057": {
     "views": [
      {
       "cell_index": 4
      }
     ]
    }
   },
   "version": "1.2.0"
  }
 },
 "nbformat": 4,
 "nbformat_minor": 0
}
