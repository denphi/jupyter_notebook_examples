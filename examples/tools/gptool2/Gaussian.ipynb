{
 "cells": [
  {
   "cell_type": "code",
   "execution_count": 9,
   "metadata": {
    "extensions": {
     "jupyter_dashboards": {
      "version": 1,
      "views": {
       "grid_default": {
        "col": 0,
        "height": 4,
        "hidden": true,
        "row": 0,
        "width": 4
       },
       "report_default": {
        "hidden": true
       }
      }
     }
    },
    "slideshow": {
     "slide_type": "skip"
    }
   },
   "outputs": [],
   "source": [
    "%matplotlib notebook\n",
    "import pandas as pd\n",
    "from ipywidgets import interact, interactive, Button\n",
    "import hublib.ui as ui\n",
    "from IPython.display import display\n",
    "from IPython.display import clear_output\n",
    "import matplotlib.pyplot as plt"
   ]
  },
  {
   "cell_type": "markdown",
   "metadata": {
    "extensions": {
     "jupyter_dashboards": {
      "version": 1,
      "views": {
       "grid_default": {
        "col": 0,
        "height": 4,
        "hidden": true,
        "row": 16,
        "width": 4
       },
       "report_default": {
        "hidden": false
       }
      }
     }
    }
   },
   "source": [
    "OK, we have an external python file, gpr.py.  Actually in this case the compiled version, gpr.pyc.\n",
    "It is in the \"bin\" directory.  How to import it?"
   ]
  },
  {
   "cell_type": "code",
   "execution_count": 10,
   "metadata": {
    "extensions": {
     "jupyter_dashboards": {
      "version": 1,
      "views": {
       "grid_default": {
        "hidden": true
       },
       "report_default": {
        "hidden": true
       }
      }
     }
    }
   },
   "outputs": [],
   "source": [
    "import os,sys\n",
    "sys.path.insert(0, os.path.abspath('bin'))\n",
    "from gpr import GPR"
   ]
  },
  {
   "cell_type": "markdown",
   "metadata": {
    "extensions": {
     "jupyter_dashboards": {
      "version": 1,
      "views": {
       "grid_default": {
        "col": 0,
        "height": 4,
        "hidden": true,
        "row": 16,
        "width": 4
       },
       "report_default": {
        "hidden": false
       }
      }
     }
    }
   },
   "source": [
    "We could have just put \"gpr.pyc\" in the toplevel directory and avoided changing the path, but this is better when you have multiple python packages to include."
   ]
  },
  {
   "cell_type": "markdown",
   "metadata": {
    "extensions": {
     "jupyter_dashboards": {
      "version": 1,
      "views": {
       "grid_default": {
        "col": 0,
        "height": 9,
        "hidden": false,
        "row": 0,
        "width": 5
       },
       "report_default": {
        "hidden": false
       }
      }
     }
    },
    "slideshow": {
     "slide_type": "slide"
    }
   },
   "source": [
    "## 1D Gaussian Process Regression Notebook Demo\n",
    "\n",
    "Notebook version by Martin Hunt (mmh@purdue.edu)\n",
    "\n",
    "Original Author\n",
    "\n",
    "    Ilias Bilionis (ibilion@purdue.edu)\n",
    "    PredictiveScience Lab\n",
    "    School of Mechanical Engineering\n",
    "    Purdue University, West Lafayette, IN, USA\n",
    "\n",
    "Powered by [The excellent GPy package from the University of Sheffield](http://sheffieldml.github.io/GPy/).\n",
    "\n"
   ]
  },
  {
   "cell_type": "markdown",
   "metadata": {
    "extensions": {
     "jupyter_dashboards": {
      "version": 1,
      "views": {
       "grid_default": {
        "col": 0,
        "height": 4,
        "hidden": false,
        "row": 9,
        "width": 5
       },
       "report_default": {
        "hidden": false
       }
      }
     }
    }
   },
   "source": [
    "## Upload a two-column data file. Otherwise, test data will be displayed"
   ]
  },
  {
   "cell_type": "code",
   "execution_count": 11,
   "metadata": {
    "extensions": {
     "jupyter_dashboards": {
      "version": 1,
      "views": {
       "grid_default": {
        "col": 0,
        "height": 3,
        "hidden": false,
        "row": 13,
        "width": 5
       },
       "report_default": {
        "hidden": false
       }
      }
     }
    }
   },
   "outputs": [
    {
     "data": {
      "application/vnd.jupyter.widget-view+json": {
       "model_id": "f4004c481be240e0b771f5f8c4371350",
       "version_major": 2,
       "version_minor": 0
      },
      "text/html": [
       "<p>Failed to display Jupyter Widget of type <code>Box</code>.</p>\n",
       "<p>\n",
       "  If you're reading this message in the Jupyter Notebook or JupyterLab Notebook, it may mean\n",
       "  that the widgets JavaScript is still loading. If this message persists, it\n",
       "  likely means that the widgets JavaScript library is either not installed or\n",
       "  not enabled. See the <a href=\"https://ipywidgets.readthedocs.io/en/stable/user_install.html\">Jupyter\n",
       "  Widgets Documentation</a> for setup instructions.\n",
       "</p>\n",
       "<p>\n",
       "  If you're reading this message in another frontend (for example, a static\n",
       "  rendering on GitHub or <a href=\"https://nbviewer.jupyter.org/\">NBViewer</a>),\n",
       "  it may mean that your frontend doesn't currently support widgets.\n",
       "</p>\n"
      ],
      "text/plain": [
       "Box(children=(HTML(value=u'<p data-toggle=\"popover\" title=\"Data file with 2 columns of numbers.  No header. Separator will be automatically detected.\">Data File</p>', layout=Layout(flex=u'2 1 auto')), FileWidget()), layout=Layout(border=u'solid 1px lightgray', display=u'flex', flex_flow=u'row', justify_content=u'space-between', width=u'auto'))"
      ]
     },
     "metadata": {},
     "output_type": "display_data"
    }
   ],
   "source": [
    "desc = \"Data file with 2 columns of numbers.  No header. Separator will be automatically detected.\"\n",
    "\n",
    "def load_file(name, val):\n",
    "    global data\n",
    "    upload.save()\n",
    "    data = pd.read_csv(name, sep=None, names = ['x', 'y'], engine='python')\n",
    "    go_gpr(data)\n",
    "\n",
    "upload = ui.FileUpload(\"Data File\", desc, cb=load_file)\n",
    "display(upload)\n",
    "\n",
    "# default data\n",
    "data = pd.read_csv(\"data/test.dat\", sep=None, names = ['x', 'y'], engine='python')"
   ]
  },
  {
   "cell_type": "code",
   "execution_count": 12,
   "metadata": {
    "extensions": {
     "jupyter_dashboards": {
      "version": 1,
      "views": {
       "grid_default": {
        "col": 5,
        "height": 27,
        "hidden": false,
        "row": 0,
        "width": 6
       },
       "report_default": {
        "hidden": false
       }
      }
     }
    }
   },
   "outputs": [
    {
     "data": {
      "application/vnd.jupyter.widget-view+json": {
       "model_id": "79c0232aea684148acf5382a7f2f414e",
       "version_major": 2,
       "version_minor": 0
      },
      "text/html": [
       "<p>Failed to display Jupyter Widget of type <code>interactive</code>.</p>\n",
       "<p>\n",
       "  If you're reading this message in the Jupyter Notebook or JupyterLab Notebook, it may mean\n",
       "  that the widgets JavaScript is still loading. If this message persists, it\n",
       "  likely means that the widgets JavaScript library is either not installed or\n",
       "  not enabled. See the <a href=\"https://ipywidgets.readthedocs.io/en/stable/user_install.html\">Jupyter\n",
       "  Widgets Documentation</a> for setup instructions.\n",
       "</p>\n",
       "<p>\n",
       "  If you're reading this message in another frontend (for example, a static\n",
       "  rendering on GitHub or <a href=\"https://nbviewer.jupyter.org/\">NBViewer</a>),\n",
       "  it may mean that your frontend doesn't currently support widgets.\n",
       "</p>\n"
      ],
      "text/plain": [
       "interactive(children=(FloatSlider(value=1.0, description=u'variance', max=10.0, min=0.001, step=0.001), FloatSlider(value=1.0, description=u'length_scale', max=10.0, min=0.001, step=0.001), FloatSlider(value=0.001, description=u'noise_variance', max=10.0, min=0.001, step=0.001), Checkbox(value=False, description=u'optimize'), Checkbox(value=True, description=u'plot'), Output()), _dom_classes=('widget-interact',))"
      ]
     },
     "metadata": {},
     "output_type": "display_data"
    }
   ],
   "source": [
    "def go_gpr(data):\n",
    "    g = GPR(data['x'], data['y'])\n",
    "    w = interactive(g.run, \n",
    "        variance=(0.001,10.0,.001), \n",
    "        length_scale=(0.001,10.0,.001), \n",
    "        noise_variance=(0.001,10.0,.001));\n",
    "    display(w)\n",
    "\n",
    "go_gpr(data);"
   ]
  }
 ],
 "metadata": {
  "description": "Notebook version of the 'gptool' tool. 1D Gaussian Process Regression. Good Example of interactivity.",
  "extensions": {
   "jupyter_dashboards": {
    "activeView": "grid_default",
    "version": 1,
    "views": {
     "grid_default": {
      "cellMargin": 10,
      "defaultCellHeight": 20,
      "maxColumns": 12,
      "name": "grid",
      "type": "grid"
     },
     "report_default": {
      "name": "report",
      "type": "report"
     }
    }
   }
  },
  "kernelspec": {
   "display_name": "Python2",
   "language": "python",
   "name": "python2"
  },
  "language_info": {
   "codemirror_mode": {
    "name": "ipython",
    "version": 2
   },
   "file_extension": ".py",
   "mimetype": "text/x-python",
   "name": "python",
   "nbconvert_exporter": "python",
   "pygments_lexer": "ipython2",
   "version": "2.7.13"
  },
  "tool": false,
  "widgets": {
   "state": {
    "0b1cb95b42db4c62b7e32cb972a708ae": {
     "views": [
      {
       "cell_index": 3
      }
     ]
    },
    "1ca919fad80940309af37ac79af6db00": {
     "views": [
      {
       "cell_index": 4
      }
     ]
    },
    "2f94f8a0f8fe4afd8f5bed107aa10f38": {
     "views": [
      {
       "cell_index": 3
      }
     ]
    },
    "38d52f46a90b423c9013e8c1811c3ebd": {
     "views": [
      {
       "cell_index": 4
      }
     ]
    },
    "6fd2b3e583ed4162916a1f53fff3b1e4": {
     "views": [
      {
       "cell_index": 3
      }
     ]
    },
    "d2450b59585b4859abff857888f0d390": {
     "views": [
      {
       "cell_index": 4
      }
     ]
    }
   },
   "version": "1.2.0"
  }
 },
 "nbformat": 4,
 "nbformat_minor": 1
}
