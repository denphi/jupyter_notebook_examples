{
 "cells": [
  {
   "cell_type": "code",
   "execution_count": 1,
   "metadata": {
    "collapsed": false,
    "slideshow": {
     "slide_type": "skip"
    }
   },
   "outputs": [],
   "source": [
    "%matplotlib inline\n",
    "import pandas as pd\n",
    "from gpr import GPR\n",
    "from ipywidgets import interact\n",
    "import hublib.ui as ui\n",
    "import hublib.tool"
   ]
  },
  {
   "cell_type": "markdown",
   "metadata": {
    "slideshow": {
     "slide_type": "slide"
    }
   },
   "source": [
    "## 1D Gaussian Process Regression Notebook Demo\n",
    "\n",
    "Notebook version by Martin Hunt (mmh@purdue.edu)\n",
    "\n",
    "Original Author\n",
    "\n",
    "    Ilias Bilionis (ibilion@purdue.edu)\n",
    "    PredictiveScience Lab\n",
    "    School of Mechanical Engineering\n",
    "    Purdue University, West Lafayette, IN, USA\n",
    "\n",
    "Powered by [The excellent GPy package from the University of Sheffield](http://sheffieldml.github.io/GPy/).\n",
    "\n"
   ]
  },
  {
   "cell_type": "code",
   "execution_count": 2,
   "metadata": {
    "collapsed": false
   },
   "outputs": [],
   "source": [
    "desc = \"Data file with 2 columns of numbers.  No header. Seperator will be automatically detected.\"\n",
    "f = ui.FileUpload(\"Data File\", desc, width=\"30%\")\n",
    "f"
   ]
  },
  {
   "cell_type": "code",
   "execution_count": 3,
   "metadata": {
    "collapsed": false
   },
   "outputs": [
    {
     "data": {
      "text/html": [
       "<button name=\"Continue,Running\" class=\"continue_button\" onclick=\"IPython.wait_button_clicked()\">Continue</button>"
      ],
      "text/plain": [
       "<IPython.core.display.HTML object>"
      ]
     },
     "metadata": {},
     "output_type": "display_data"
    }
   ],
   "source": [
    "%wait Continue"
   ]
  },
  {
   "cell_type": "code",
   "execution_count": null,
   "metadata": {
    "collapsed": true
   },
   "outputs": [],
   "source": [
    "# If no file was chosen, use default dataset.\n",
    "name = f.name\n",
    "if name is None:\n",
    "    name = 'test.dat'\n",
    "else:\n",
    "    name = 'TESTDAT.DAT'\n",
    "    f.save(name)"
   ]
  },
  {
   "cell_type": "code",
   "execution_count": null,
   "metadata": {
    "collapsed": false
   },
   "outputs": [],
   "source": [
    "data = pd.read_csv(name, sep=None, names = ['x', 'y'], engine='python')\n",
    "data"
   ]
  },
  {
   "cell_type": "code",
   "execution_count": null,
   "metadata": {
    "collapsed": false,
    "slideshow": {
     "slide_type": "slide"
    }
   },
   "outputs": [],
   "source": [
    "g = GPR(data['x'], data['y'])\n",
    "interact(g.run, \n",
    "    variance=(0.001,10.0,.001), \n",
    "    length_scale=(0.001,10.0,.001), \n",
    "    noise_variance=(0.001,10.0,.001));"
   ]
  },
  {
   "cell_type": "code",
   "execution_count": null,
   "metadata": {
    "collapsed": false
   },
   "outputs": [],
   "source": [
    "%waitdone"
   ]
  }
 ],
 "metadata": {
  "description": "Notebook version of the 'gptool' tool. 1D Gaussian Process Regression. Good Example of interactivity.",
  "kernelspec": {
   "display_name": "Python2",
   "language": "python",
   "name": "python2"
  },
  "language_info": {
   "codemirror_mode": {
    "name": "ipython",
    "version": 2
   },
   "file_extension": ".py",
   "mimetype": "text/x-python",
   "name": "python",
   "nbconvert_exporter": "python",
   "pygments_lexer": "ipython2",
   "version": "2.7.12"
  },
  "tool": true,
  "widgets": {
   "state": {
    "2cc7c8a972f14cfca2dd2eecdb61a8fc": {
     "views": [
      {
       "cell_index": 2
      }
     ]
    }
   },
   "version": "1.2.0"
  }
 },
 "nbformat": 4,
 "nbformat_minor": 0
}
