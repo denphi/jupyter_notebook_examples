{
 "cells": [
  {
   "cell_type": "code",
   "execution_count": 1,
   "metadata": {
    "collapsed": false,
    "extensions": {
     "jupyter_dashboards": {
      "version": 1,
      "views": {
       "grid_default": {
        "col": 0,
        "height": 4,
        "hidden": true,
        "row": 0,
        "width": 4
       },
       "report_default": {
        "hidden": true
       }
      }
     }
    },
    "slideshow": {
     "slide_type": "skip"
    }
   },
   "outputs": [],
   "source": [
    "%matplotlib notebook\n",
    "import pandas as pd\n",
    "from gpr import GPR\n",
    "from ipywidgets import interact, interactive, Button\n",
    "import hublib.ui as ui\n",
    "from IPython.display import display\n",
    "from IPython.display import clear_output\n",
    "import matplotlib\n",
    "matplotlib.rcParams['figure.figsize'] = (8, 5)\n",
    "import matplotlib.pyplot as plt"
   ]
  },
  {
   "cell_type": "markdown",
   "metadata": {
    "extensions": {
     "jupyter_dashboards": {
      "version": 1,
      "views": {
       "grid_default": {
        "col": 6,
        "height": 9,
        "hidden": false,
        "row": 0,
        "width": 4
       },
       "report_default": {
        "hidden": false
       }
      }
     }
    },
    "slideshow": {
     "slide_type": "slide"
    }
   },
   "source": [
    "## 1D Gaussian Process Regression Notebook Demo\n",
    "\n",
    "Notebook version by Martin Hunt (mmh@purdue.edu)\n",
    "\n",
    "Original Author\n",
    "\n",
    "    Ilias Bilionis (ibilion@purdue.edu)\n",
    "    PredictiveScience Lab\n",
    "    School of Mechanical Engineering\n",
    "    Purdue University, West Lafayette, IN, USA\n",
    "\n",
    "Powered by [The excellent GPy package from the University of Sheffield](http://sheffieldml.github.io/GPy/).\n",
    "\n"
   ]
  },
  {
   "cell_type": "markdown",
   "metadata": {
    "extensions": {
     "jupyter_dashboards": {
      "version": 1,
      "views": {
       "grid_default": {
        "col": 6,
        "height": 4,
        "hidden": false,
        "row": 9,
        "width": 4
       },
       "report_default": {
        "hidden": false
       }
      }
     }
    }
   },
   "source": [
    "## Chose a two-column data file below. Otherwise, test data will be displayed"
   ]
  },
  {
   "cell_type": "code",
   "execution_count": 2,
   "metadata": {
    "collapsed": false,
    "extensions": {
     "jupyter_dashboards": {
      "version": 1,
      "views": {
       "grid_default": {
        "col": 6,
        "height": 4,
        "hidden": false,
        "row": 13,
        "width": 4
       },
       "report_default": {
        "hidden": false
       }
      }
     }
    }
   },
   "outputs": [],
   "source": [
    "desc = \"Data file with 2 columns of numbers.  No header. Seperator will be automatically detected.\"\n",
    "f = ui.FileUpload(\"Data File\", desc)\n",
    "f"
   ]
  },
  {
   "cell_type": "code",
   "execution_count": 3,
   "metadata": {
    "collapsed": false,
    "extensions": {
     "jupyter_dashboards": {
      "version": 1,
      "views": {
       "grid_default": {
        "col": 0,
        "height": 4,
        "hidden": true,
        "row": 13,
        "width": 4
       },
       "report_default": {
        "hidden": true
       }
      }
     }
    },
    "slideshow": {
     "slide_type": "slide"
    }
   },
   "outputs": [],
   "source": [
    "w = None\n",
    "\n",
    "def go_gpr(data):\n",
    "    global w\n",
    "    if w is not None:\n",
    "        w.close()\n",
    "    plt.figure(num='This is the title')\n",
    "    g = GPR(data['x'], data['y'])\n",
    "    w = interactive(g.run, \n",
    "        variance=(0.001,10.0,.001), \n",
    "        length_scale=(0.001,10.0,.001), \n",
    "        noise_variance=(0.001,10.0,.001));\n",
    "    display(w)"
   ]
  },
  {
   "cell_type": "code",
   "execution_count": 4,
   "metadata": {
    "collapsed": false,
    "extensions": {
     "jupyter_dashboards": {
      "version": 1,
      "views": {
       "grid_default": {
        "col": 4,
        "height": 4,
        "hidden": true,
        "row": 13,
        "width": 4
       },
       "report_default": {
        "hidden": true
       }
      }
     }
    }
   },
   "outputs": [],
   "source": [
    "def load_file(f):\n",
    "    global grid\n",
    "    if f is None or f.name == '':\n",
    "        name = 'test.dat'\n",
    "    else:\n",
    "        name = 'TESTDAT.DAT'\n",
    "        f.save(name)\n",
    "    data = pd.read_csv(name, sep=None, names = ['x', 'y'], engine='python')\n",
    "    go_gpr(data)"
   ]
  },
  {
   "cell_type": "code",
   "execution_count": 5,
   "metadata": {
    "collapsed": false,
    "extensions": {
     "jupyter_dashboards": {
      "version": 1,
      "views": {
       "grid_default": {
        "col": 0,
        "height": 29,
        "hidden": false,
        "row": 0,
        "width": 6
       },
       "report_default": {
        "hidden": false
       }
      }
     }
    },
    "scrolled": false
   },
   "outputs": [
    {
     "data": {
      "application/javascript": [
       "/* Put everything inside the global mpl namespace */\n",
       "window.mpl = {};\n",
       "\n",
       "\n",
       "mpl.get_websocket_type = function() {\n",
       "    if (typeof(WebSocket) !== 'undefined') {\n",
       "        return WebSocket;\n",
       "    } else if (typeof(MozWebSocket) !== 'undefined') {\n",
       "        return MozWebSocket;\n",
       "    } else {\n",
       "        alert('Your browser does not have WebSocket support.' +\n",
       "              'Please try Chrome, Safari or Firefox ≥ 6. ' +\n",
       "              'Firefox 4 and 5 are also supported but you ' +\n",
       "              'have to enable WebSockets in about:config.');\n",
       "    };\n",
       "}\n",
       "\n",
       "mpl.figure = function(figure_id, websocket, ondownload, parent_element) {\n",
       "    this.id = figure_id;\n",
       "\n",
       "    this.ws = websocket;\n",
       "\n",
       "    this.supports_binary = (this.ws.binaryType != undefined);\n",
       "\n",
       "    if (!this.supports_binary) {\n",
       "        var warnings = document.getElementById(\"mpl-warnings\");\n",
       "        if (warnings) {\n",
       "            warnings.style.display = 'block';\n",
       "            warnings.textContent = (\n",
       "                \"This browser does not support binary websocket messages. \" +\n",
       "                    \"Performance may be slow.\");\n",
       "        }\n",
       "    }\n",
       "\n",
       "    this.imageObj = new Image();\n",
       "\n",
       "    this.context = undefined;\n",
       "    this.message = undefined;\n",
       "    this.canvas = undefined;\n",
       "    this.rubberband_canvas = undefined;\n",
       "    this.rubberband_context = undefined;\n",
       "    this.format_dropdown = undefined;\n",
       "\n",
       "    this.image_mode = 'full';\n",
       "\n",
       "    this.root = $('<div/>');\n",
       "    this._root_extra_style(this.root)\n",
       "    this.root.attr('style', 'display: inline-block');\n",
       "\n",
       "    $(parent_element).append(this.root);\n",
       "\n",
       "    this._init_header(this);\n",
       "    this._init_canvas(this);\n",
       "    this._init_toolbar(this);\n",
       "\n",
       "    var fig = this;\n",
       "\n",
       "    this.waiting = false;\n",
       "\n",
       "    this.ws.onopen =  function () {\n",
       "            fig.send_message(\"supports_binary\", {value: fig.supports_binary});\n",
       "            fig.send_message(\"send_image_mode\", {});\n",
       "            if (mpl.ratio != 1) {\n",
       "                fig.send_message(\"set_dpi_ratio\", {'dpi_ratio': mpl.ratio});\n",
       "            }\n",
       "            fig.send_message(\"refresh\", {});\n",
       "        }\n",
       "\n",
       "    this.imageObj.onload = function() {\n",
       "            if (fig.image_mode == 'full') {\n",
       "                // Full images could contain transparency (where diff images\n",
       "                // almost always do), so we need to clear the canvas so that\n",
       "                // there is no ghosting.\n",
       "                fig.context.clearRect(0, 0, fig.canvas.width, fig.canvas.height);\n",
       "            }\n",
       "            fig.context.drawImage(fig.imageObj, 0, 0);\n",
       "        };\n",
       "\n",
       "    this.imageObj.onunload = function() {\n",
       "        this.ws.close();\n",
       "    }\n",
       "\n",
       "    this.ws.onmessage = this._make_on_message_function(this);\n",
       "\n",
       "    this.ondownload = ondownload;\n",
       "}\n",
       "\n",
       "mpl.figure.prototype._init_header = function() {\n",
       "    var titlebar = $(\n",
       "        '<div class=\"ui-dialog-titlebar ui-widget-header ui-corner-all ' +\n",
       "        'ui-helper-clearfix\"/>');\n",
       "    var titletext = $(\n",
       "        '<div class=\"ui-dialog-title\" style=\"width: 100%; ' +\n",
       "        'text-align: center; padding: 3px;\"/>');\n",
       "    titlebar.append(titletext)\n",
       "    this.root.append(titlebar);\n",
       "    this.header = titletext[0];\n",
       "}\n",
       "\n",
       "\n",
       "\n",
       "mpl.figure.prototype._canvas_extra_style = function(canvas_div) {\n",
       "\n",
       "}\n",
       "\n",
       "\n",
       "mpl.figure.prototype._root_extra_style = function(canvas_div) {\n",
       "\n",
       "}\n",
       "\n",
       "mpl.figure.prototype._init_canvas = function() {\n",
       "    var fig = this;\n",
       "\n",
       "    var canvas_div = $('<div/>');\n",
       "\n",
       "    canvas_div.attr('style', 'position: relative; clear: both; outline: 0');\n",
       "\n",
       "    function canvas_keyboard_event(event) {\n",
       "        return fig.key_event(event, event['data']);\n",
       "    }\n",
       "\n",
       "    canvas_div.keydown('key_press', canvas_keyboard_event);\n",
       "    canvas_div.keyup('key_release', canvas_keyboard_event);\n",
       "    this.canvas_div = canvas_div\n",
       "    this._canvas_extra_style(canvas_div)\n",
       "    this.root.append(canvas_div);\n",
       "\n",
       "    var canvas = $('<canvas/>');\n",
       "    canvas.addClass('mpl-canvas');\n",
       "    canvas.attr('style', \"left: 0; top: 0; z-index: 0; outline: 0\")\n",
       "\n",
       "    this.canvas = canvas[0];\n",
       "    this.context = canvas[0].getContext(\"2d\");\n",
       "\n",
       "    var backingStore = this.context.backingStorePixelRatio ||\n",
       "\tthis.context.webkitBackingStorePixelRatio ||\n",
       "\tthis.context.mozBackingStorePixelRatio ||\n",
       "\tthis.context.msBackingStorePixelRatio ||\n",
       "\tthis.context.oBackingStorePixelRatio ||\n",
       "\tthis.context.backingStorePixelRatio || 1;\n",
       "\n",
       "    mpl.ratio = (window.devicePixelRatio || 1) / backingStore;\n",
       "\n",
       "    var rubberband = $('<canvas/>');\n",
       "    rubberband.attr('style', \"position: absolute; left: 0; top: 0; z-index: 1;\")\n",
       "\n",
       "    var pass_mouse_events = true;\n",
       "\n",
       "    canvas_div.resizable({\n",
       "        start: function(event, ui) {\n",
       "            pass_mouse_events = false;\n",
       "        },\n",
       "        resize: function(event, ui) {\n",
       "            fig.request_resize(ui.size.width, ui.size.height);\n",
       "        },\n",
       "        stop: function(event, ui) {\n",
       "            pass_mouse_events = true;\n",
       "            fig.request_resize(ui.size.width, ui.size.height);\n",
       "        },\n",
       "    });\n",
       "\n",
       "    function mouse_event_fn(event) {\n",
       "        if (pass_mouse_events)\n",
       "            return fig.mouse_event(event, event['data']);\n",
       "    }\n",
       "\n",
       "    rubberband.mousedown('button_press', mouse_event_fn);\n",
       "    rubberband.mouseup('button_release', mouse_event_fn);\n",
       "    // Throttle sequential mouse events to 1 every 20ms.\n",
       "    rubberband.mousemove('motion_notify', mouse_event_fn);\n",
       "\n",
       "    rubberband.mouseenter('figure_enter', mouse_event_fn);\n",
       "    rubberband.mouseleave('figure_leave', mouse_event_fn);\n",
       "\n",
       "    canvas_div.on(\"wheel\", function (event) {\n",
       "        event = event.originalEvent;\n",
       "        event['data'] = 'scroll'\n",
       "        if (event.deltaY < 0) {\n",
       "            event.step = 1;\n",
       "        } else {\n",
       "            event.step = -1;\n",
       "        }\n",
       "        mouse_event_fn(event);\n",
       "    });\n",
       "\n",
       "    canvas_div.append(canvas);\n",
       "    canvas_div.append(rubberband);\n",
       "\n",
       "    this.rubberband = rubberband;\n",
       "    this.rubberband_canvas = rubberband[0];\n",
       "    this.rubberband_context = rubberband[0].getContext(\"2d\");\n",
       "    this.rubberband_context.strokeStyle = \"#000000\";\n",
       "\n",
       "    this._resize_canvas = function(width, height) {\n",
       "        // Keep the size of the canvas, canvas container, and rubber band\n",
       "        // canvas in synch.\n",
       "        canvas_div.css('width', width)\n",
       "        canvas_div.css('height', height)\n",
       "\n",
       "        canvas.attr('width', width * mpl.ratio);\n",
       "        canvas.attr('height', height * mpl.ratio);\n",
       "        canvas.attr('style', 'width: ' + width + 'px; height: ' + height + 'px;');\n",
       "\n",
       "        rubberband.attr('width', width);\n",
       "        rubberband.attr('height', height);\n",
       "    }\n",
       "\n",
       "    // Set the figure to an initial 600x600px, this will subsequently be updated\n",
       "    // upon first draw.\n",
       "    this._resize_canvas(600, 600);\n",
       "\n",
       "    // Disable right mouse context menu.\n",
       "    $(this.rubberband_canvas).bind(\"contextmenu\",function(e){\n",
       "        return false;\n",
       "    });\n",
       "\n",
       "    function set_focus () {\n",
       "        canvas.focus();\n",
       "        canvas_div.focus();\n",
       "    }\n",
       "\n",
       "    window.setTimeout(set_focus, 100);\n",
       "}\n",
       "\n",
       "mpl.figure.prototype._init_toolbar = function() {\n",
       "    var fig = this;\n",
       "\n",
       "    var nav_element = $('<div/>')\n",
       "    nav_element.attr('style', 'width: 100%');\n",
       "    this.root.append(nav_element);\n",
       "\n",
       "    // Define a callback function for later on.\n",
       "    function toolbar_event(event) {\n",
       "        return fig.toolbar_button_onclick(event['data']);\n",
       "    }\n",
       "    function toolbar_mouse_event(event) {\n",
       "        return fig.toolbar_button_onmouseover(event['data']);\n",
       "    }\n",
       "\n",
       "    for(var toolbar_ind in mpl.toolbar_items) {\n",
       "        var name = mpl.toolbar_items[toolbar_ind][0];\n",
       "        var tooltip = mpl.toolbar_items[toolbar_ind][1];\n",
       "        var image = mpl.toolbar_items[toolbar_ind][2];\n",
       "        var method_name = mpl.toolbar_items[toolbar_ind][3];\n",
       "\n",
       "        if (!name) {\n",
       "            // put a spacer in here.\n",
       "            continue;\n",
       "        }\n",
       "        var button = $('<button/>');\n",
       "        button.addClass('ui-button ui-widget ui-state-default ui-corner-all ' +\n",
       "                        'ui-button-icon-only');\n",
       "        button.attr('role', 'button');\n",
       "        button.attr('aria-disabled', 'false');\n",
       "        button.click(method_name, toolbar_event);\n",
       "        button.mouseover(tooltip, toolbar_mouse_event);\n",
       "\n",
       "        var icon_img = $('<span/>');\n",
       "        icon_img.addClass('ui-button-icon-primary ui-icon');\n",
       "        icon_img.addClass(image);\n",
       "        icon_img.addClass('ui-corner-all');\n",
       "\n",
       "        var tooltip_span = $('<span/>');\n",
       "        tooltip_span.addClass('ui-button-text');\n",
       "        tooltip_span.html(tooltip);\n",
       "\n",
       "        button.append(icon_img);\n",
       "        button.append(tooltip_span);\n",
       "\n",
       "        nav_element.append(button);\n",
       "    }\n",
       "\n",
       "    var fmt_picker_span = $('<span/>');\n",
       "\n",
       "    var fmt_picker = $('<select/>');\n",
       "    fmt_picker.addClass('mpl-toolbar-option ui-widget ui-widget-content');\n",
       "    fmt_picker_span.append(fmt_picker);\n",
       "    nav_element.append(fmt_picker_span);\n",
       "    this.format_dropdown = fmt_picker[0];\n",
       "\n",
       "    for (var ind in mpl.extensions) {\n",
       "        var fmt = mpl.extensions[ind];\n",
       "        var option = $(\n",
       "            '<option/>', {selected: fmt === mpl.default_extension}).html(fmt);\n",
       "        fmt_picker.append(option)\n",
       "    }\n",
       "\n",
       "    // Add hover states to the ui-buttons\n",
       "    $( \".ui-button\" ).hover(\n",
       "        function() { $(this).addClass(\"ui-state-hover\");},\n",
       "        function() { $(this).removeClass(\"ui-state-hover\");}\n",
       "    );\n",
       "\n",
       "    var status_bar = $('<span class=\"mpl-message\"/>');\n",
       "    nav_element.append(status_bar);\n",
       "    this.message = status_bar[0];\n",
       "}\n",
       "\n",
       "mpl.figure.prototype.request_resize = function(x_pixels, y_pixels) {\n",
       "    // Request matplotlib to resize the figure. Matplotlib will then trigger a resize in the client,\n",
       "    // which will in turn request a refresh of the image.\n",
       "    this.send_message('resize', {'width': x_pixels, 'height': y_pixels});\n",
       "}\n",
       "\n",
       "mpl.figure.prototype.send_message = function(type, properties) {\n",
       "    properties['type'] = type;\n",
       "    properties['figure_id'] = this.id;\n",
       "    this.ws.send(JSON.stringify(properties));\n",
       "}\n",
       "\n",
       "mpl.figure.prototype.send_draw_message = function() {\n",
       "    if (!this.waiting) {\n",
       "        this.waiting = true;\n",
       "        this.ws.send(JSON.stringify({type: \"draw\", figure_id: this.id}));\n",
       "    }\n",
       "}\n",
       "\n",
       "\n",
       "mpl.figure.prototype.handle_save = function(fig, msg) {\n",
       "    var format_dropdown = fig.format_dropdown;\n",
       "    var format = format_dropdown.options[format_dropdown.selectedIndex].value;\n",
       "    fig.ondownload(fig, format);\n",
       "}\n",
       "\n",
       "\n",
       "mpl.figure.prototype.handle_resize = function(fig, msg) {\n",
       "    var size = msg['size'];\n",
       "    if (size[0] != fig.canvas.width || size[1] != fig.canvas.height) {\n",
       "        fig._resize_canvas(size[0], size[1]);\n",
       "        fig.send_message(\"refresh\", {});\n",
       "    };\n",
       "}\n",
       "\n",
       "mpl.figure.prototype.handle_rubberband = function(fig, msg) {\n",
       "    var x0 = msg['x0'] / mpl.ratio;\n",
       "    var y0 = (fig.canvas.height - msg['y0']) / mpl.ratio;\n",
       "    var x1 = msg['x1'] / mpl.ratio;\n",
       "    var y1 = (fig.canvas.height - msg['y1']) / mpl.ratio;\n",
       "    x0 = Math.floor(x0) + 0.5;\n",
       "    y0 = Math.floor(y0) + 0.5;\n",
       "    x1 = Math.floor(x1) + 0.5;\n",
       "    y1 = Math.floor(y1) + 0.5;\n",
       "    var min_x = Math.min(x0, x1);\n",
       "    var min_y = Math.min(y0, y1);\n",
       "    var width = Math.abs(x1 - x0);\n",
       "    var height = Math.abs(y1 - y0);\n",
       "\n",
       "    fig.rubberband_context.clearRect(\n",
       "        0, 0, fig.canvas.width, fig.canvas.height);\n",
       "\n",
       "    fig.rubberband_context.strokeRect(min_x, min_y, width, height);\n",
       "}\n",
       "\n",
       "mpl.figure.prototype.handle_figure_label = function(fig, msg) {\n",
       "    // Updates the figure title.\n",
       "    fig.header.textContent = msg['label'];\n",
       "}\n",
       "\n",
       "mpl.figure.prototype.handle_cursor = function(fig, msg) {\n",
       "    var cursor = msg['cursor'];\n",
       "    switch(cursor)\n",
       "    {\n",
       "    case 0:\n",
       "        cursor = 'pointer';\n",
       "        break;\n",
       "    case 1:\n",
       "        cursor = 'default';\n",
       "        break;\n",
       "    case 2:\n",
       "        cursor = 'crosshair';\n",
       "        break;\n",
       "    case 3:\n",
       "        cursor = 'move';\n",
       "        break;\n",
       "    }\n",
       "    fig.rubberband_canvas.style.cursor = cursor;\n",
       "}\n",
       "\n",
       "mpl.figure.prototype.handle_message = function(fig, msg) {\n",
       "    fig.message.textContent = msg['message'];\n",
       "}\n",
       "\n",
       "mpl.figure.prototype.handle_draw = function(fig, msg) {\n",
       "    // Request the server to send over a new figure.\n",
       "    fig.send_draw_message();\n",
       "}\n",
       "\n",
       "mpl.figure.prototype.handle_image_mode = function(fig, msg) {\n",
       "    fig.image_mode = msg['mode'];\n",
       "}\n",
       "\n",
       "mpl.figure.prototype.updated_canvas_event = function() {\n",
       "    // Called whenever the canvas gets updated.\n",
       "    this.send_message(\"ack\", {});\n",
       "}\n",
       "\n",
       "// A function to construct a web socket function for onmessage handling.\n",
       "// Called in the figure constructor.\n",
       "mpl.figure.prototype._make_on_message_function = function(fig) {\n",
       "    return function socket_on_message(evt) {\n",
       "        if (evt.data instanceof Blob) {\n",
       "            /* FIXME: We get \"Resource interpreted as Image but\n",
       "             * transferred with MIME type text/plain:\" errors on\n",
       "             * Chrome.  But how to set the MIME type?  It doesn't seem\n",
       "             * to be part of the websocket stream */\n",
       "            evt.data.type = \"image/png\";\n",
       "\n",
       "            /* Free the memory for the previous frames */\n",
       "            if (fig.imageObj.src) {\n",
       "                (window.URL || window.webkitURL).revokeObjectURL(\n",
       "                    fig.imageObj.src);\n",
       "            }\n",
       "\n",
       "            fig.imageObj.src = (window.URL || window.webkitURL).createObjectURL(\n",
       "                evt.data);\n",
       "            fig.updated_canvas_event();\n",
       "            fig.waiting = false;\n",
       "            return;\n",
       "        }\n",
       "        else if (typeof evt.data === 'string' && evt.data.slice(0, 21) == \"data:image/png;base64\") {\n",
       "            fig.imageObj.src = evt.data;\n",
       "            fig.updated_canvas_event();\n",
       "            fig.waiting = false;\n",
       "            return;\n",
       "        }\n",
       "\n",
       "        var msg = JSON.parse(evt.data);\n",
       "        var msg_type = msg['type'];\n",
       "\n",
       "        // Call the  \"handle_{type}\" callback, which takes\n",
       "        // the figure and JSON message as its only arguments.\n",
       "        try {\n",
       "            var callback = fig[\"handle_\" + msg_type];\n",
       "        } catch (e) {\n",
       "            console.log(\"No handler for the '\" + msg_type + \"' message type: \", msg);\n",
       "            return;\n",
       "        }\n",
       "\n",
       "        if (callback) {\n",
       "            try {\n",
       "                // console.log(\"Handling '\" + msg_type + \"' message: \", msg);\n",
       "                callback(fig, msg);\n",
       "            } catch (e) {\n",
       "                console.log(\"Exception inside the 'handler_\" + msg_type + \"' callback:\", e, e.stack, msg);\n",
       "            }\n",
       "        }\n",
       "    };\n",
       "}\n",
       "\n",
       "// from http://stackoverflow.com/questions/1114465/getting-mouse-location-in-canvas\n",
       "mpl.findpos = function(e) {\n",
       "    //this section is from http://www.quirksmode.org/js/events_properties.html\n",
       "    var targ;\n",
       "    if (!e)\n",
       "        e = window.event;\n",
       "    if (e.target)\n",
       "        targ = e.target;\n",
       "    else if (e.srcElement)\n",
       "        targ = e.srcElement;\n",
       "    if (targ.nodeType == 3) // defeat Safari bug\n",
       "        targ = targ.parentNode;\n",
       "\n",
       "    // jQuery normalizes the pageX and pageY\n",
       "    // pageX,Y are the mouse positions relative to the document\n",
       "    // offset() returns the position of the element relative to the document\n",
       "    var x = e.pageX - $(targ).offset().left;\n",
       "    var y = e.pageY - $(targ).offset().top;\n",
       "\n",
       "    return {\"x\": x, \"y\": y};\n",
       "};\n",
       "\n",
       "/*\n",
       " * return a copy of an object with only non-object keys\n",
       " * we need this to avoid circular references\n",
       " * http://stackoverflow.com/a/24161582/3208463\n",
       " */\n",
       "function simpleKeys (original) {\n",
       "  return Object.keys(original).reduce(function (obj, key) {\n",
       "    if (typeof original[key] !== 'object')\n",
       "        obj[key] = original[key]\n",
       "    return obj;\n",
       "  }, {});\n",
       "}\n",
       "\n",
       "mpl.figure.prototype.mouse_event = function(event, name) {\n",
       "    var canvas_pos = mpl.findpos(event)\n",
       "\n",
       "    if (name === 'button_press')\n",
       "    {\n",
       "        this.canvas.focus();\n",
       "        this.canvas_div.focus();\n",
       "    }\n",
       "\n",
       "    var x = canvas_pos.x * mpl.ratio;\n",
       "    var y = canvas_pos.y * mpl.ratio;\n",
       "\n",
       "    this.send_message(name, {x: x, y: y, button: event.button,\n",
       "                             step: event.step,\n",
       "                             guiEvent: simpleKeys(event)});\n",
       "\n",
       "    /* This prevents the web browser from automatically changing to\n",
       "     * the text insertion cursor when the button is pressed.  We want\n",
       "     * to control all of the cursor setting manually through the\n",
       "     * 'cursor' event from matplotlib */\n",
       "    event.preventDefault();\n",
       "    return false;\n",
       "}\n",
       "\n",
       "mpl.figure.prototype._key_event_extra = function(event, name) {\n",
       "    // Handle any extra behaviour associated with a key event\n",
       "}\n",
       "\n",
       "mpl.figure.prototype.key_event = function(event, name) {\n",
       "\n",
       "    // Prevent repeat events\n",
       "    if (name == 'key_press')\n",
       "    {\n",
       "        if (event.which === this._key)\n",
       "            return;\n",
       "        else\n",
       "            this._key = event.which;\n",
       "    }\n",
       "    if (name == 'key_release')\n",
       "        this._key = null;\n",
       "\n",
       "    var value = '';\n",
       "    if (event.ctrlKey && event.which != 17)\n",
       "        value += \"ctrl+\";\n",
       "    if (event.altKey && event.which != 18)\n",
       "        value += \"alt+\";\n",
       "    if (event.shiftKey && event.which != 16)\n",
       "        value += \"shift+\";\n",
       "\n",
       "    value += 'k';\n",
       "    value += event.which.toString();\n",
       "\n",
       "    this._key_event_extra(event, name);\n",
       "\n",
       "    this.send_message(name, {key: value,\n",
       "                             guiEvent: simpleKeys(event)});\n",
       "    return false;\n",
       "}\n",
       "\n",
       "mpl.figure.prototype.toolbar_button_onclick = function(name) {\n",
       "    if (name == 'download') {\n",
       "        this.handle_save(this, null);\n",
       "    } else {\n",
       "        this.send_message(\"toolbar_button\", {name: name});\n",
       "    }\n",
       "};\n",
       "\n",
       "mpl.figure.prototype.toolbar_button_onmouseover = function(tooltip) {\n",
       "    this.message.textContent = tooltip;\n",
       "};\n",
       "mpl.toolbar_items = [[\"Home\", \"Reset original view\", \"fa fa-home icon-home\", \"home\"], [\"Back\", \"Back to  previous view\", \"fa fa-arrow-left icon-arrow-left\", \"back\"], [\"Forward\", \"Forward to next view\", \"fa fa-arrow-right icon-arrow-right\", \"forward\"], [\"\", \"\", \"\", \"\"], [\"Pan\", \"Pan axes with left mouse, zoom with right\", \"fa fa-arrows icon-move\", \"pan\"], [\"Zoom\", \"Zoom to rectangle\", \"fa fa-square-o icon-check-empty\", \"zoom\"], [\"\", \"\", \"\", \"\"], [\"Download\", \"Download plot\", \"fa fa-floppy-o icon-save\", \"download\"]];\n",
       "\n",
       "mpl.extensions = [\"eps\", \"jpeg\", \"pdf\", \"png\", \"ps\", \"raw\", \"svg\", \"tif\"];\n",
       "\n",
       "mpl.default_extension = \"png\";var comm_websocket_adapter = function(comm) {\n",
       "    // Create a \"websocket\"-like object which calls the given IPython comm\n",
       "    // object with the appropriate methods. Currently this is a non binary\n",
       "    // socket, so there is still some room for performance tuning.\n",
       "    var ws = {};\n",
       "\n",
       "    ws.close = function() {\n",
       "        comm.close()\n",
       "    };\n",
       "    ws.send = function(m) {\n",
       "        //console.log('sending', m);\n",
       "        comm.send(m);\n",
       "    };\n",
       "    // Register the callback with on_msg.\n",
       "    comm.on_msg(function(msg) {\n",
       "        //console.log('receiving', msg['content']['data'], msg);\n",
       "        // Pass the mpl event to the overriden (by mpl) onmessage function.\n",
       "        ws.onmessage(msg['content']['data'])\n",
       "    });\n",
       "    return ws;\n",
       "}\n",
       "\n",
       "mpl.mpl_figure_comm = function(comm, msg) {\n",
       "    // This is the function which gets called when the mpl process\n",
       "    // starts-up an IPython Comm through the \"matplotlib\" channel.\n",
       "\n",
       "    var id = msg.content.data.id;\n",
       "    // Get hold of the div created by the display call when the Comm\n",
       "    // socket was opened in Python.\n",
       "    var element = $(\"#\" + id);\n",
       "    var ws_proxy = comm_websocket_adapter(comm)\n",
       "\n",
       "    function ondownload(figure, format) {\n",
       "        window.open(figure.imageObj.src);\n",
       "    }\n",
       "\n",
       "    var fig = new mpl.figure(id, ws_proxy,\n",
       "                           ondownload,\n",
       "                           element.get(0));\n",
       "\n",
       "    // Call onopen now - mpl needs it, as it is assuming we've passed it a real\n",
       "    // web socket which is closed, not our websocket->open comm proxy.\n",
       "    ws_proxy.onopen();\n",
       "\n",
       "    fig.parent_element = element.get(0);\n",
       "    fig.cell_info = mpl.find_output_cell(\"<div id='\" + id + \"'></div>\");\n",
       "    if (!fig.cell_info) {\n",
       "        console.error(\"Failed to find cell for figure\", id, fig);\n",
       "        return;\n",
       "    }\n",
       "\n",
       "    var output_index = fig.cell_info[2]\n",
       "    var cell = fig.cell_info[0];\n",
       "\n",
       "};\n",
       "\n",
       "mpl.figure.prototype.handle_close = function(fig, msg) {\n",
       "    var width = fig.canvas.width/mpl.ratio\n",
       "    fig.root.unbind('remove')\n",
       "\n",
       "    // Update the output cell to use the data from the current canvas.\n",
       "    fig.push_to_output();\n",
       "    var dataURL = fig.canvas.toDataURL();\n",
       "    // Re-enable the keyboard manager in IPython - without this line, in FF,\n",
       "    // the notebook keyboard shortcuts fail.\n",
       "    IPython.keyboard_manager.enable()\n",
       "    $(fig.parent_element).html('<img src=\"' + dataURL + '\" width=\"' + width + '\">');\n",
       "    fig.close_ws(fig, msg);\n",
       "}\n",
       "\n",
       "mpl.figure.prototype.close_ws = function(fig, msg){\n",
       "    fig.send_message('closing', msg);\n",
       "    // fig.ws.close()\n",
       "}\n",
       "\n",
       "mpl.figure.prototype.push_to_output = function(remove_interactive) {\n",
       "    // Turn the data on the canvas into data in the output cell.\n",
       "    var width = this.canvas.width/mpl.ratio\n",
       "    var dataURL = this.canvas.toDataURL();\n",
       "    this.cell_info[1]['text/html'] = '<img src=\"' + dataURL + '\" width=\"' + width + '\">';\n",
       "}\n",
       "\n",
       "mpl.figure.prototype.updated_canvas_event = function() {\n",
       "    // Tell IPython that the notebook contents must change.\n",
       "    IPython.notebook.set_dirty(true);\n",
       "    this.send_message(\"ack\", {});\n",
       "    var fig = this;\n",
       "    // Wait a second, then push the new image to the DOM so\n",
       "    // that it is saved nicely (might be nice to debounce this).\n",
       "    setTimeout(function () { fig.push_to_output() }, 1000);\n",
       "}\n",
       "\n",
       "mpl.figure.prototype._init_toolbar = function() {\n",
       "    var fig = this;\n",
       "\n",
       "    var nav_element = $('<div/>')\n",
       "    nav_element.attr('style', 'width: 100%');\n",
       "    this.root.append(nav_element);\n",
       "\n",
       "    // Define a callback function for later on.\n",
       "    function toolbar_event(event) {\n",
       "        return fig.toolbar_button_onclick(event['data']);\n",
       "    }\n",
       "    function toolbar_mouse_event(event) {\n",
       "        return fig.toolbar_button_onmouseover(event['data']);\n",
       "    }\n",
       "\n",
       "    for(var toolbar_ind in mpl.toolbar_items){\n",
       "        var name = mpl.toolbar_items[toolbar_ind][0];\n",
       "        var tooltip = mpl.toolbar_items[toolbar_ind][1];\n",
       "        var image = mpl.toolbar_items[toolbar_ind][2];\n",
       "        var method_name = mpl.toolbar_items[toolbar_ind][3];\n",
       "\n",
       "        if (!name) { continue; };\n",
       "\n",
       "        var button = $('<button class=\"btn btn-default\" href=\"#\" title=\"' + name + '\"><i class=\"fa ' + image + ' fa-lg\"></i></button>');\n",
       "        button.click(method_name, toolbar_event);\n",
       "        button.mouseover(tooltip, toolbar_mouse_event);\n",
       "        nav_element.append(button);\n",
       "    }\n",
       "\n",
       "    // Add the status bar.\n",
       "    var status_bar = $('<span class=\"mpl-message\" style=\"text-align:right; float: right;\"/>');\n",
       "    nav_element.append(status_bar);\n",
       "    this.message = status_bar[0];\n",
       "\n",
       "    // Add the close button to the window.\n",
       "    var buttongrp = $('<div class=\"btn-group inline pull-right\"></div>');\n",
       "    var button = $('<button class=\"btn btn-mini btn-primary\" href=\"#\" title=\"Stop Interaction\"><i class=\"fa fa-power-off icon-remove icon-large\"></i></button>');\n",
       "    button.click(function (evt) { fig.handle_close(fig, {}); } );\n",
       "    button.mouseover('Stop Interaction', toolbar_mouse_event);\n",
       "    buttongrp.append(button);\n",
       "    var titlebar = this.root.find($('.ui-dialog-titlebar'));\n",
       "    titlebar.prepend(buttongrp);\n",
       "}\n",
       "\n",
       "mpl.figure.prototype._root_extra_style = function(el){\n",
       "    var fig = this\n",
       "    el.on(\"remove\", function(){\n",
       "\tfig.close_ws(fig, {});\n",
       "    });\n",
       "}\n",
       "\n",
       "mpl.figure.prototype._canvas_extra_style = function(el){\n",
       "    // this is important to make the div 'focusable\n",
       "    el.attr('tabindex', 0)\n",
       "    // reach out to IPython and tell the keyboard manager to turn it's self\n",
       "    // off when our div gets focus\n",
       "\n",
       "    // location in version 3\n",
       "    if (IPython.notebook.keyboard_manager) {\n",
       "        IPython.notebook.keyboard_manager.register_events(el);\n",
       "    }\n",
       "    else {\n",
       "        // location in version 2\n",
       "        IPython.keyboard_manager.register_events(el);\n",
       "    }\n",
       "\n",
       "}\n",
       "\n",
       "mpl.figure.prototype._key_event_extra = function(event, name) {\n",
       "    var manager = IPython.notebook.keyboard_manager;\n",
       "    if (!manager)\n",
       "        manager = IPython.keyboard_manager;\n",
       "\n",
       "    // Check for shift+enter\n",
       "    if (event.shiftKey && event.which == 13) {\n",
       "        this.canvas_div.blur();\n",
       "        // select the cell after this one\n",
       "        var index = IPython.notebook.find_cell_index(this.cell_info[0]);\n",
       "        IPython.notebook.select(index + 1);\n",
       "    }\n",
       "}\n",
       "\n",
       "mpl.figure.prototype.handle_save = function(fig, msg) {\n",
       "    fig.ondownload(fig, null);\n",
       "}\n",
       "\n",
       "\n",
       "mpl.find_output_cell = function(html_output) {\n",
       "    // Return the cell and output element which can be found *uniquely* in the notebook.\n",
       "    // Note - this is a bit hacky, but it is done because the \"notebook_saving.Notebook\"\n",
       "    // IPython event is triggered only after the cells have been serialised, which for\n",
       "    // our purposes (turning an active figure into a static one), is too late.\n",
       "    var cells = IPython.notebook.get_cells();\n",
       "    var ncells = cells.length;\n",
       "    for (var i=0; i<ncells; i++) {\n",
       "        var cell = cells[i];\n",
       "        if (cell.cell_type === 'code'){\n",
       "            for (var j=0; j<cell.output_area.outputs.length; j++) {\n",
       "                var data = cell.output_area.outputs[j];\n",
       "                if (data.data) {\n",
       "                    // IPython >= 3 moved mimebundle to data attribute of output\n",
       "                    data = data.data;\n",
       "                }\n",
       "                if (data['text/html'] == html_output) {\n",
       "                    return [cell, data, j];\n",
       "                }\n",
       "            }\n",
       "        }\n",
       "    }\n",
       "}\n",
       "\n",
       "// Register the function which deals with the matplotlib target/channel.\n",
       "// The kernel may be null if the page has been refreshed.\n",
       "if (IPython.notebook.kernel != null) {\n",
       "    IPython.notebook.kernel.comm_manager.register_target('matplotlib', mpl.mpl_figure_comm);\n",
       "}\n"
      ],
      "text/plain": [
       "<IPython.core.display.Javascript object>"
      ]
     },
     "metadata": {},
     "output_type": "display_data"
    },
    {
     "data": {
      "text/html": [
       "<img src=\"data:image/png;base64,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\" width=\"800\">"
      ],
      "text/plain": [
       "<IPython.core.display.HTML object>"
      ]
     },
     "metadata": {},
     "output_type": "display_data"
    }
   ],
   "source": [
    "# create button that reloads things when clicked\n",
    "button = Button(description=\"Load Data File\")\n",
    "def on_button_clicked(b):\n",
    "    global f\n",
    "    load_file(f)\n",
    "\n",
    "button.on_click(on_button_clicked)\n",
    "\n",
    "display(button)\n",
    "load_file(None)"
   ]
  }
 ],
 "metadata": {
  "description": "Notebook version of the 'gptool' tool. 1D Gaussian Process Regression. Good Example of interactivity.",
  "extensions": {
   "jupyter_dashboards": {
    "activeView": "grid_default",
    "version": 1,
    "views": {
     "grid_default": {
      "cellMargin": 10,
      "defaultCellHeight": 20,
      "maxColumns": 12,
      "name": "grid",
      "type": "grid"
     },
     "report_default": {
      "name": "report",
      "type": "report"
     }
    }
   }
  },
  "kernelspec": {
   "display_name": "Python2",
   "language": "python",
   "name": "python2"
  },
  "language_info": {
   "codemirror_mode": {
    "name": "ipython",
    "version": 2
   },
   "file_extension": ".py",
   "mimetype": "text/x-python",
   "name": "python",
   "nbconvert_exporter": "python",
   "pygments_lexer": "ipython2",
   "version": "2.7.13"
  },
  "tool": false,
  "widgets": {
   "state": {
    "031886724693478688704746fa80e9a5": {
     "views": [
      {
       "cell_index": 5
      }
     ]
    },
    "0cfb451e3ad441b8b89ada15f8d9d6d2": {
     "views": [
      {
       "cell_index": 6
      }
     ]
    },
    "10b7e58d96724c2cb3c323ae0dd75b3a": {
     "views": [
      {
       "cell_index": 5
      }
     ]
    },
    "1c9763a652264129a97b0eb00f1d8870": {
     "views": [
      {
       "cell_index": 5
      }
     ]
    },
    "20a2583491624844ad570fe6e6c10b5f": {
     "views": [
      {
       "cell_index": 6
      }
     ]
    },
    "272b746f6ba74a1faccd84c82364b030": {
     "views": [
      {
       "cell_index": 6
      }
     ]
    },
    "2b92c227386546669a70d289f4635822": {
     "views": [
      {
       "cell_index": 6
      }
     ]
    },
    "2e5742c3eb084b0cb173e01f3fdb3820": {
     "views": [
      {
       "cell_index": 6
      }
     ]
    },
    "2ef93e38e3d2472399181eb15583c03b": {
     "views": [
      {
       "cell_index": 5
      }
     ]
    },
    "4161f9a7fee64ae8b358d025076385ce": {
     "views": [
      {
       "cell_index": 4
      }
     ]
    },
    "571b209efcd846aca01e052838f2762d": {
     "views": [
      {
       "cell_index": 5
      }
     ]
    },
    "5e7b2e26ea854453b1a8c4a5c953e7cc": {
     "views": [
      {
       "cell_index": 5
      }
     ]
    },
    "5e94d004b82a4d0b9035e4c6583464a8": {
     "views": [
      {
       "cell_index": 3
      }
     ]
    },
    "604ac36ee5b94ef9ac4a42ddab2a1148": {
     "views": [
      {
       "cell_index": 5
      }
     ]
    },
    "63ecd1b438264e75999b2e22af0a3cbf": {
     "views": [
      {
       "cell_index": 6
      }
     ]
    },
    "6bb1d4366435401787296242fbf69d39": {
     "views": [
      {
       "cell_index": 6
      }
     ]
    },
    "755cdd063081428bb226fc59a3e96020": {
     "views": [
      {
       "cell_index": 6
      }
     ]
    },
    "75874486be2042ab9ff6dc9d8846f9dc": {
     "views": [
      {
       "cell_index": 6
      }
     ]
    },
    "7eb10b1f82f44b8caa02bdab315de862": {
     "views": [
      {
       "cell_index": 4
      }
     ]
    },
    "7fa27e07fe4a4196904698a97fb074d0": {
     "views": [
      {
       "cell_index": 4
      }
     ]
    },
    "82df9957077343ab9f1e86db07593aa4": {
     "views": [
      {
       "cell_index": 5
      }
     ]
    },
    "8345e43e60cb4511af857040e0467144": {
     "views": [
      {
       "cell_index": 5
      }
     ]
    },
    "8d12d7707d8c40f9a55a23dc32e7a4cb": {
     "views": [
      {
       "cell_index": 4
      }
     ]
    },
    "8fe0106dba92411394e015c184c8c34b": {
     "views": [
      {
       "cell_index": 5
      }
     ]
    },
    "948f97c881484082909e34459895bd42": {
     "views": [
      {
       "cell_index": 6
      }
     ]
    },
    "99f6a9bd23714c3cb13144c5f2a96048": {
     "views": [
      {
       "cell_index": 6
      }
     ]
    },
    "9c54d1ac525f4b03be50bd3ecd93498e": {
     "views": [
      {
       "cell_index": 5
      }
     ]
    },
    "a90f84dee978460f8873d6c0d531b559": {
     "views": [
      {
       "cell_index": 6
      }
     ]
    },
    "aa2782ac44e94f6fa6d97b42e50d5902": {
     "views": [
      {
       "cell_index": 6
      }
     ]
    },
    "adb7f3391ddd4a2fa6f0e7fdc5a064e4": {
     "views": [
      {
       "cell_index": 5
      }
     ]
    },
    "adf84b14604543e4b7aee15663387f48": {
     "views": [
      {
       "cell_index": 6
      }
     ]
    },
    "b02ae484d9c04ca7b2f9534a4e7ae6f7": {
     "views": [
      {
       "cell_index": 4
      }
     ]
    },
    "bcbc269b18114ff1b36f154a61e6cdc9": {
     "views": [
      {
       "cell_index": 5
      }
     ]
    },
    "bd3cc20f304f4a109cd95eac6f0fc4e3": {
     "views": [
      {
       "cell_index": 4
      }
     ]
    },
    "c8a35f6cc2d5405a849937a02fd2ee27": {
     "views": [
      {
       "cell_index": 4
      }
     ]
    },
    "cac23a513c9440d29c707ee93e4d023a": {
     "views": [
      {
       "cell_index": 5
      }
     ]
    },
    "ccc64bf65a9e4dc7833bee1009cf7ec9": {
     "views": [
      {
       "cell_index": 5
      }
     ]
    },
    "cefb86194edc4b24b65c86ea5103cda6": {
     "views": [
      {
       "cell_index": 4
      }
     ]
    },
    "d22a05e75deb46b9b7e2bcae72f2bc02": {
     "views": [
      {
       "cell_index": 6
      }
     ]
    },
    "d3bdf157ee63481484a61db50c81094f": {
     "views": [
      {
       "cell_index": 5
      }
     ]
    },
    "da49ee2a913e4b4dbe32d8e17f76fadf": {
     "views": [
      {
       "cell_index": 5
      }
     ]
    },
    "df18baa04f1e46d7ac7001a3f2c90d82": {
     "views": [
      {
       "cell_index": 5
      }
     ]
    },
    "e0413d62bb9346d59d18333fcddcf913": {
     "views": [
      {
       "cell_index": 4
      }
     ]
    },
    "fae94f70eaa4482e89a5c4ce5ea268d7": {
     "views": [
      {
       "cell_index": 6
      }
     ]
    }
   },
   "version": "1.2.0"
  }
 },
 "nbformat": 4,
 "nbformat_minor": 0
}
