{
 "cells": [
  {
   "cell_type": "code",
   "execution_count": null,
   "id": "3c50d67e",
   "metadata": {
    "ExecuteTime": {
     "end_time": "2023-02-24T14:21:45.983111Z",
     "start_time": "2023-02-24T14:21:45.882584Z"
    }
   },
   "outputs": [],
   "source": [
    "import ipyspeck\n",
    "import ipywidgets as w\n",
    "H2O='''3\n",
    "Water molecule\n",
    "O          0.00000        0.00000        0.11779\n",
    "H          0.00000        0.75545       -0.47116\n",
    "H          0.00000       -0.75545       -0.47116'''\n",
    "h2o = ipyspeck.speck.Speck(data=H2O)\n",
    "c = w.Box([h2o], layout=w.Layout(width=\"600px\",height=\"400px\"))\n",
    "c"
   ]
  },
  {
   "cell_type": "code",
   "execution_count": null,
   "id": "43d8211a",
   "metadata": {
    "ExecuteTime": {
     "end_time": "2023-02-24T14:21:51.659818Z",
     "start_time": "2023-02-24T14:21:51.655747Z"
    }
   },
   "outputs": [],
   "source": [
    "#Modify atoms size\n",
    "h2o.atomScale = 0.5\n",
    "#change bonds size\n",
    "h2o.bondScale = 0.1\n",
    "#highlight borders\n",
    "h2o.outline = 1"
   ]
  },
  {
   "cell_type": "code",
   "execution_count": null,
   "id": "b1320a4c",
   "metadata": {
    "ExecuteTime": {
     "end_time": "2023-02-24T14:21:54.029585Z",
     "start_time": "2023-02-24T14:21:52.033251Z"
    }
   },
   "outputs": [],
   "source": [
    "from openbabel import openbabel\n",
    "import requests\n",
    "url = \"https://files.rcsb.org/download/3PQR.pdb\"\n",
    "r = requests.get(url)\n",
    "obConversion = openbabel.OBConversion()\n",
    "obConversion.SetInAndOutFormats(\"pdb\", \"xyz\")\n",
    "mol = openbabel.OBMol()\n",
    "obConversion.ReadString(mol, r.text)\n",
    "co2 = obConversion.WriteString(mol)\n",
    "PQR = ipyspeck.speck.Speck(data=co2)\n",
    "w.Box([PQR], layout=w.Layout(width=\"600px\",height=\"600px\"))\n"
   ]
  },
  {
   "cell_type": "code",
   "execution_count": null,
   "id": "ecd3e883",
   "metadata": {},
   "outputs": [],
   "source": []
  }
 ],
 "metadata": {
  "kernelspec": {
   "display_name": "Python 3 (ipykernel)",
   "language": "python",
   "name": "python3"
  },
  "language_info": {
   "codemirror_mode": {
    "name": "ipython",
    "version": 3
   },
   "file_extension": ".py",
   "mimetype": "text/x-python",
   "name": "python",
   "nbconvert_exporter": "python",
   "pygments_lexer": "ipython3",
   "version": "3.8.10"
  },
  "toc": {
   "base_numbering": 1,
   "nav_menu": {},
   "number_sections": true,
   "sideBar": true,
   "skip_h1_title": false,
   "title_cell": "Table of Contents",
   "title_sidebar": "Contents",
   "toc_cell": false,
   "toc_position": {},
   "toc_section_display": true,
   "toc_window_display": false
  },
  "varInspector": {
   "cols": {
    "lenName": 16,
    "lenType": 16,
    "lenVar": 40
   },
   "kernels_config": {
    "python": {
     "delete_cmd_postfix": "",
     "delete_cmd_prefix": "del ",
     "library": "var_list.py",
     "varRefreshCmd": "print(var_dic_list())"
    },
    "r": {
     "delete_cmd_postfix": ") ",
     "delete_cmd_prefix": "rm(",
     "library": "var_list.r",
     "varRefreshCmd": "cat(var_dic_list()) "
    }
   },
   "types_to_exclude": [
    "module",
    "function",
    "builtin_function_or_method",
    "instance",
    "_Feature"
   ],
   "window_display": false
  }
 },
 "nbformat": 4,
 "nbformat_minor": 5
}
