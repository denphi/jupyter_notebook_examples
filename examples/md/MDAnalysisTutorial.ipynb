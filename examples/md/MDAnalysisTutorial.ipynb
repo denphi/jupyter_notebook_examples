{
 "cells": [
  {
   "cell_type": "markdown",
   "metadata": {},
   "source": [
    "# MDAnalysis Tutorial "
   ]
  },
  {
   "cell_type": "markdown",
   "metadata": {},
   "source": [
    "## Preparations"
   ]
  },
  {
   "cell_type": "markdown",
   "metadata": {},
   "source": [
    "### Loading MDAnalysis"
   ]
  },
  {
   "cell_type": "code",
   "execution_count": 1,
   "metadata": {
    "collapsed": false
   },
   "outputs": [],
   "source": [
    "import numpy as np\n",
    "import MDAnalysis\n",
    "from MDAnalysis.tests.datafiles import PSF, DCD\n",
    "\n",
    "import os\n",
    "%matplotlib inline\n",
    "import matplotlib.pyplot as plt"
   ]
  },
  {
   "cell_type": "code",
   "execution_count": 2,
   "metadata": {
    "collapsed": false
   },
   "outputs": [
    {
     "data": {
      "text/plain": [
       "'0.15.0'"
      ]
     },
     "execution_count": 2,
     "metadata": {},
     "output_type": "execute_result"
    }
   ],
   "source": [
    "MDAnalysis.__version__"
   ]
  },
  {
   "cell_type": "markdown",
   "metadata": {},
   "source": [
    "## Basics"
   ]
  },
  {
   "cell_type": "markdown",
   "metadata": {},
   "source": [
    "### Universe and AtomGroup"
   ]
  },
  {
   "cell_type": "markdown",
   "metadata": {},
   "source": [
    "MDAnalysis is object oriented. Molecular systems consist of Atom objects (instances of the class MDAnalysis.core.AtomGroup.Atom), which are grouped in AtomGroup instances. You build the AtomGroup of your system by loading a topology (list of atoms and possibly their connectivity) together with a trajectory (coordinate information) into the central data structure, the Universe object:"
   ]
  },
  {
   "cell_type": "code",
   "execution_count": 3,
   "metadata": {
    "collapsed": false
   },
   "outputs": [
    {
     "name": "stdout",
     "output_type": "stream",
     "text": [
      "<Universe with 3341 atoms and 3365 bonds>\n"
     ]
    }
   ],
   "source": [
    "u = MDAnalysis.Universe(PSF, DCD)\n",
    "print(u)"
   ]
  },
  {
   "cell_type": "markdown",
   "metadata": {},
   "source": [
    "The atoms are stored in the attribute atoms of the MDAnalysis.core.AtomGroup.Universe:"
   ]
  },
  {
   "cell_type": "code",
   "execution_count": 4,
   "metadata": {
    "collapsed": false
   },
   "outputs": [
    {
     "name": "stdout",
     "output_type": "stream",
     "text": [
      "<AtomGroup with 3341 atoms>\n"
     ]
    }
   ],
   "source": [
    "print(u.atoms)"
   ]
  },
  {
   "cell_type": "code",
   "execution_count": 5,
   "metadata": {
    "collapsed": false
   },
   "outputs": [
    {
     "data": {
      "text/plain": [
       "[<Atom 1: N of type 56 of resname MET, resid 1 and segid 4AKE>,\n",
       " <Atom 2: HT1 of type 2 of resname MET, resid 1 and segid 4AKE>,\n",
       " <Atom 3: HT2 of type 2 of resname MET, resid 1 and segid 4AKE>,\n",
       " <Atom 4: HT3 of type 2 of resname MET, resid 1 and segid 4AKE>,\n",
       " <Atom 5: CA of type 22 of resname MET, resid 1 and segid 4AKE>]"
      ]
     },
     "execution_count": 5,
     "metadata": {},
     "output_type": "execute_result"
    }
   ],
   "source": [
    "list(u.atoms[:5])"
   ]
  },
  {
   "cell_type": "markdown",
   "metadata": {},
   "source": [
    "Any AtomGroup knows the residues that the atoms belong to via the attribute residues, which produces a ResidueGroup. A ResidueGroup acts like a list of Residue objects:"
   ]
  },
  {
   "cell_type": "code",
   "execution_count": 6,
   "metadata": {
    "collapsed": false
   },
   "outputs": [
    {
     "name": "stderr",
     "output_type": "stream",
     "text": [
      "/opt/anaconda2-4.1.1/lib/python2.7/site-packages/MDAnalysis/core/AtomGroup.py:1135: DeprecationWarning: In version 0.16.0 this will select residue names, not atom names \n",
      "  \"residue names, not atom names \", DeprecationWarning)\n"
     ]
    },
    {
     "data": {
      "text/plain": [
       "<ResidueGroup [<Residue LEU, 6>, <Residue GLY, 7>, <Residue ALA, 8>]>"
      ]
     },
     "execution_count": 6,
     "metadata": {},
     "output_type": "execute_result"
    }
   ],
   "source": [
    "u.atoms[100:130].residues"
   ]
  },
  {
   "cell_type": "code",
   "execution_count": 9,
   "metadata": {
    "collapsed": false
   },
   "outputs": [
    {
     "name": "stdout",
     "output_type": "stream",
     "text": [
      "Help on AtomGroup in module MDAnalysis.core.AtomGroup object:\n",
      "\n",
      "class AtomGroup(__builtin__.object)\n",
      " |  A group of atoms.\n",
      " |  \n",
      " |    ag = universe.select_atoms(atom-list)\n",
      " |  \n",
      " |  The AtomGroup contains a list of atoms; typically, a AtomGroup is generated\n",
      " |  from a selection. It is build from any list-like collection of\n",
      " |  :class:`Atom` instances. It is also possible to create an empty AtomGroup\n",
      " |  from an empty list.\n",
      " |  \n",
      " |  An AtomGroup can be indexed and sliced like a list::\n",
      " |  \n",
      " |     ag[0], ag[-1]\n",
      " |  \n",
      " |  will return the first and the last :class:`Atom` in the group\n",
      " |  whereas the slice ::\n",
      " |  \n",
      " |     ag[0:6:2]\n",
      " |  \n",
      " |  returns every second element, corresponding to indices 0, 2, and 4.\n",
      " |  \n",
      " |  It also supports \"advanced slicing\" when the argument is a\n",
      " |  :class:`numpy.ndarray` or a :class:`list`::\n",
      " |  \n",
      " |     aslice = [0, 3, -1, 10, 3]\n",
      " |     ag[aslice]\n",
      " |  \n",
      " |  will return a new :class:`AtomGroup` containing (ag[0], ag[3], ag[-1],\n",
      " |  ag[10], ag[3]).\n",
      " |  \n",
      " |  .. Note::\n",
      " |  \n",
      " |     AtomGroups originating from a selection are sorted and\n",
      " |     duplicate elements are removed. This is not true for AtomGroups\n",
      " |     produced by slicing. Thus slicing can be used when the order of\n",
      " |     atoms is crucial (for instance, in order to define angles or\n",
      " |     dihedrals).\n",
      " |  \n",
      " |  Atoms can also be accessed in a Pythonic fashion by using the atom name as\n",
      " |  an attribute. For instance, ::\n",
      " |  \n",
      " |     ag.CA\n",
      " |  \n",
      " |  will provide a :class:`AtomGroup` of all CA atoms in the\n",
      " |  group. These *instant selector* attributes are auto-generated for\n",
      " |  each atom name encountered in the group.\n",
      " |  \n",
      " |  .. Note::\n",
      " |  \n",
      " |     The name-attribute instant selector access to atoms is mainly\n",
      " |     meant for quick interactive work. Thus it either returns a\n",
      " |     single :class:`Atom` if there is only one matching atom, *or* a\n",
      " |     new :class:`AtomGroup` for multiple matches.  This makes it\n",
      " |     difficult to use the feature consistently in scripts but it is\n",
      " |     much better for interactive work.\n",
      " |  \n",
      " |  AtomGroup instances are bound to a :class:`Universe`, but only through the\n",
      " |  weak reference :class:`Atom` has. The connection is lost as soon as the\n",
      " |  :class:`Universe` goes out of scope.\n",
      " |  \n",
      " |  AtomGroups can also be pickled and unpickled. When pickling, the Atom\n",
      " |  indices are serialized alongside the Universe number-of-atoms, and topology\n",
      " |  and trajectory filenames. When unpickling, all built Universes will be\n",
      " |  searched for one with matching number-of-atoms and filenames. Finer control\n",
      " |  over which :class:`Universe` gets chosen to base the unpickling on can\n",
      " |  be exerted using the *is_anchor* and *anchor_name* flags upon Universe creation\n",
      " |  or the methods/attributes :meth:`Universe.make_anchor`, :meth:`Universe.remove_anchor`,\n",
      " |  and :attr:`Universe.anchor_name`.\n",
      " |  \n",
      " |  \n",
      " |  .. rubric:: References for analysis methods\n",
      " |  \n",
      " |  .. [Dima2004] Dima, R. I., & Thirumalai, D. (2004). Asymmetry in the\n",
      " |                shapes of folded and denatured states of proteins. *J\n",
      " |                Phys Chem B*, 108(21),\n",
      " |                6564-6570. doi:`10.1021/jp037128y`_\n",
      " |  \n",
      " |  .. _10.1021/jp037128y: http://dx.doi.org/10.1021/jp037128y\n",
      " |  \n",
      " |  \n",
      " |  .. SeeAlso:: :class:`Universe`\n",
      " |  .. versionchanged:: 0.7.6\n",
      " |     An empty AtomGroup can be created and no longer raises a\n",
      " |     :exc:`NoDataError`.\n",
      " |  .. versionchanged:: 0.9.0\n",
      " |     The size at which cache is used for atom lookup is now stored as variable\n",
      " |     _atomcache_size within the class.\n",
      " |     Added fragments manged property. Is a lazily built, cached entry, similar to residues.\n",
      " |  .. versionchanged:: 0.11.0\n",
      " |     AtomGroups can now be pickled and unpickled provided compatible Universes\n",
      " |     are available.\n",
      " |     The follow methods were changed to properties: ``indices``, ``masses``, ``charges``, ``names``,\n",
      " |     ``types``, ``radii``, ``resids``, ``resnames``, ``resnums``, ``segids``.\n",
      " |     Added ``altLocs`` and ``serials`` properties and setters.\n",
      " |     ``Torsions`` and ``torsion`` renamed to ``dihedral``.\n",
      " |     The ``bond``, ``angle``, ``dihedral`` and ``improper`` methods were removed and replaced\n",
      " |     with properties of the same name which return the corresponding object.\n",
      " |     Deprecated ``selectAtoms`` in favour of ``select_atoms``.\n",
      " |     Setters are now plural to match property names.\n",
      " |     Properties referring to residue (``resids``, ``resnames``, ``resnums``)\n",
      " |     or segment [``segids``] properties now yield arrays of length equal to\n",
      " |     ``n_atoms``\n",
      " |  .. versionchanged:: 0.11.1\n",
      " |     Added occupancies property\n",
      " |  \n",
      " |  Methods defined here:\n",
      " |  \n",
      " |  __add__(self, other)\n",
      " |  \n",
      " |  __contains__(self, other)\n",
      " |  \n",
      " |  __getattr__(self, name)\n",
      " |  \n",
      " |  __getitem__(self, item)\n",
      " |      Return element (index) or group (slicing).\n",
      " |      \n",
      " |      .. versionchanged:: 0.8\n",
      " |         :class:`ResidueGroup` and :class:`SegmentGroup`:\n",
      " |         return groups themselves and allow advanced slicing\n",
      " |      .. versionchanged:: 0.9.0\n",
      " |         This method now used by all subclasses.  These subclasses override\n",
      " |         :attr:`_cls` to define the returned class.\n",
      " |      .. versionchanged:: 0.10.0\n",
      " |         Now supports indexing via boolean numpy arrays\n",
      " |  \n",
      " |  __getstate__(self)\n",
      " |  \n",
      " |  __init__(self, atoms)\n",
      " |  \n",
      " |  __iter__(self)\n",
      " |  \n",
      " |  __len__(self)\n",
      " |      Number of atoms in the group\n",
      " |  \n",
      " |  __repr__(self)\n",
      " |  \n",
      " |  __setstate__(self, state)\n",
      " |  \n",
      " |  align_principalAxis(*args, **kwds)\n",
      " |      `align_principalAxis` is deprecated, use `align_principal_axis` instead!\n",
      " |      This will be removed in version 0.16.0\n",
      " |      \n",
      " |      Align principal axis with index *axis* with *vector*.\n",
      " |      \n",
      " |              :Arguments:\n",
      " |                *axis*\n",
      " |                  Index of the principal axis (0, 1, or 2), as produced by\n",
      " |                  :meth:`~MDAnalysis.core.AtomGroup.AtomGroup.principal_axes`.\n",
      " |                *vector*\n",
      " |                  A 3D vector such as the z-axis (``[0,0,1]``); can be\n",
      " |                  anything that looks like a list with three entries.\n",
      " |      \n",
      " |              To align the long axis of a channel (the first principal axis,\n",
      " |              i.e. *axis* = 0) with the z-axis::\n",
      " |      \n",
      " |                u.atoms.align_principal_axis(0, [0,0,1])\n",
      " |                u.atoms.write(\"aligned.pdb\")\n",
      " |  \n",
      " |  align_principal_axis(self, axis, vector)\n",
      " |      Align principal axis with index *axis* with *vector*.\n",
      " |      \n",
      " |      :Arguments:\n",
      " |        *axis*\n",
      " |          Index of the principal axis (0, 1, or 2), as produced by\n",
      " |          :meth:`~MDAnalysis.core.AtomGroup.AtomGroup.principal_axes`.\n",
      " |        *vector*\n",
      " |          A 3D vector such as the z-axis (``[0,0,1]``); can be\n",
      " |          anything that looks like a list with three entries.\n",
      " |      \n",
      " |      To align the long axis of a channel (the first principal axis,\n",
      " |      i.e. *axis* = 0) with the z-axis::\n",
      " |      \n",
      " |        u.atoms.align_principal_axis(0, [0,0,1])\n",
      " |        u.atoms.write(\"aligned.pdb\")\n",
      " |  \n",
      " |  asphericity(self, **kwargs)\n",
      " |      Asphericity.\n",
      " |      \n",
      " |      See [Dima2004]_ for background information.\n",
      " |      \n",
      " |      :Keywords:\n",
      " |        *pbc*\n",
      " |          ``True``: Move all atoms within primary unit cell before calculation [``False``]\n",
      " |      \n",
      " |      .. Note::\n",
      " |          The :class:`MDAnalysis.core.flags` flag *use_pbc* when set to ``True`` allows the *pbc*\n",
      " |          flag to be used by default.\n",
      " |      \n",
      " |      .. versionadded:: 0.7.7\n",
      " |      .. versionchanged:: 0.8 Added *pbc* keyword\n",
      " |  \n",
      " |  bbox(self, **kwargs)\n",
      " |      Return the bounding box of the selection.\n",
      " |      \n",
      " |      The lengths A,B,C of the orthorhombic enclosing box are ::\n",
      " |      \n",
      " |        L = AtomGroup.bbox()\n",
      " |        A,B,C = L[1] - L[0]\n",
      " |      \n",
      " |      :Keywords:\n",
      " |        *pbc*\n",
      " |          ``True``: Move all atoms within the primary unit cell before calculation [``False``]\n",
      " |      \n",
      " |      .. Note::\n",
      " |          The :class:`MDAnalysis.core.flags` flag *use_pbc* when set to ``True`` allows the *pbc*\n",
      " |          flag to be used by default.\n",
      " |      \n",
      " |      :Returns: [[xmin, ymin, zmin], [xmax, ymax, zmax]]\n",
      " |      \n",
      " |      .. versionadded:: 0.7.2\n",
      " |      .. versionchanged:: 0.8 Added *pbc* keyword\n",
      " |  \n",
      " |  bsphere(self, **kwargs)\n",
      " |      Return the bounding sphere of the selection.\n",
      " |      \n",
      " |      The sphere is calculated relative to the centre of geometry.\n",
      " |      \n",
      " |      :Keywords:\n",
      " |        *pbc*\n",
      " |          ``True``: Move all atoms within primary unit cell before calculation [``False``]\n",
      " |      \n",
      " |      .. Note::\n",
      " |          The :class:`MDAnalysis.core.flags` flag *use_pbc* when set to ``True`` allows the *pbc*\n",
      " |          flag to be used by default.\n",
      " |      \n",
      " |      :Returns: `(R, [xcen,ycen,zcen])`\n",
      " |      \n",
      " |      .. versionadded:: 0.7.3\n",
      " |      .. versionchanged:: 0.8 Added *pbc* keyword\n",
      " |  \n",
      " |  centerOfGeometry(*args, **kwds)\n",
      " |      `centerOfGeometry` is deprecated, use `center_of_geometry` instead!\n",
      " |      This will be removed in version 0.16.0\n",
      " |      \n",
      " |      Center of geometry (also known as centroid) of the selection.\n",
      " |      \n",
      " |              :Keywords:\n",
      " |                *pbc*\n",
      " |                  ``True``: Move all atoms within the primary unit cell before calculation [``False``]\n",
      " |      \n",
      " |              .. Note::\n",
      " |                  The :class:`MDAnalysis.core.flags` flag *use_pbc* when set to ``True`` allows the *pbc*\n",
      " |                  flag to be used by default.\n",
      " |      \n",
      " |              .. versionchanged:: 0.8 Added *pbc* keyword\n",
      " |  \n",
      " |  centerOfMass(*args, **kwds)\n",
      " |      `centerOfMass` is deprecated, use `center_of_mass` instead!\n",
      " |      This will be removed in version 0.16.0\n",
      " |      \n",
      " |      Center of mass of the selection.\n",
      " |      \n",
      " |              :Keywords:\n",
      " |                *pbc*\n",
      " |                  ``True``: Move all atoms within the primary unit cell before calculation [``False``]\n",
      " |      \n",
      " |              .. Note::\n",
      " |                  The :class:`MDAnalysis.core.flags` flag *use_pbc* when set to ``True`` allows the *pbc*\n",
      " |                  flag to be used by default.\n",
      " |      \n",
      " |              .. versionchanged:: 0.8 Added *pbc* keyword\n",
      " |  \n",
      " |  center_of_geometry(self, **kwargs)\n",
      " |      Center of geometry (also known as centroid) of the selection.\n",
      " |      \n",
      " |      :Keywords:\n",
      " |        *pbc*\n",
      " |          ``True``: Move all atoms within the primary unit cell before calculation [``False``]\n",
      " |      \n",
      " |      .. Note::\n",
      " |          The :class:`MDAnalysis.core.flags` flag *use_pbc* when set to ``True`` allows the *pbc*\n",
      " |          flag to be used by default.\n",
      " |      \n",
      " |      .. versionchanged:: 0.8 Added *pbc* keyword\n",
      " |  \n",
      " |  center_of_mass(self, **kwargs)\n",
      " |      Center of mass of the selection.\n",
      " |      \n",
      " |      :Keywords:\n",
      " |        *pbc*\n",
      " |          ``True``: Move all atoms within the primary unit cell before calculation [``False``]\n",
      " |      \n",
      " |      .. Note::\n",
      " |          The :class:`MDAnalysis.core.flags` flag *use_pbc* when set to ``True`` allows the *pbc*\n",
      " |          flag to be used by default.\n",
      " |      \n",
      " |      .. versionchanged:: 0.8 Added *pbc* keyword\n",
      " |  \n",
      " |  centroid = center_of_geometry(self, **kwargs)\n",
      " |  \n",
      " |  coordinates(*args, **kwds)\n",
      " |      `coordinates` is deprecated!\n",
      " |      This will be removed in version 0.16.0; use `positions` property instead\n",
      " |      \n",
      " |      Np array of the coordinates.\n",
      " |      \n",
      " |              .. SeeAlso:: :attr:`~AtomGroup.positions` and :meth:`~AtomGroup.get_positions`\n",
      " |      \n",
      " |              .. deprecated:: 0.7.6\n",
      " |              In new scripts use :meth:`AtomGroup.get_positions` preferrably.\n",
      " |  \n",
      " |  get_forces(*args, **kwds)\n",
      " |      `get_forces` is deprecated!\n",
      " |      This will be removed in version 0.16.0; use `forces` property instead\n",
      " |      \n",
      " |      \n",
      " |              Get a numpy array of the atomic forces (if available).\n",
      " |              Currently only supported for Gromacs .trr trajectories.\n",
      " |      \n",
      " |              :Keywords:\n",
      " |                 *ts*\n",
      " |                     If *ts* is provided then positions are read from that\n",
      " |                     :class:`~MDAnalysis.coordinates.base.Timestep` instead of\n",
      " |                     the one from the current trajectory belonging to this universe.\n",
      " |                     The *ts* is indexed with the indices returned by\n",
      " |                     :meth:`~AtomGroup.indices` and it is the user's responsibility\n",
      " |                     to provide a time step that has the appropriate dimensions.\n",
      " |                 *copy*\n",
      " |                     ``True``: always make a copy (slow), ``False``: Try to\n",
      " |                     return a array view or reference (faster); note that for\n",
      " |                     passing coordinates to C-code it can be necessary to use\n",
      " |                     a copy [``False``]\n",
      " |                 *dtype*\n",
      " |                     numpy data type of the array; the default is usually\n",
      " |                     entirely appropriate. Most C-code actually requires the\n",
      " |                     default  [:class:`np.float32`]\n",
      " |      \n",
      " |              Forces can also be directly obtained from the attribute\n",
      " |              :attr:`~AtomGroup.forces`.\n",
      " |      \n",
      " |              Forces can be directly set with :meth:`~AtomGroup.set_forces` or\n",
      " |              by assigning to :attr:`~AtomGroup.forces`.\n",
      " |      \n",
      " |              .. versionadded:: 0.7.7\n",
      " |  \n",
      " |  get_positions(*args, **kwds)\n",
      " |      `get_positions` is deprecated!\n",
      " |      This will be removed in version 0.16.0; use `positions` property instead\n",
      " |      \n",
      " |      Get a numpy array of the coordinates.\n",
      " |      \n",
      " |              :Keywords:\n",
      " |                 *ts*\n",
      " |                     If *ts* is provided then positions are read from that\n",
      " |                     :class:`~MDAnalysis.coordinates.base.Timestep` instead of\n",
      " |                     the one from the current trajectory belonging to this universe.\n",
      " |                     The *ts* is indexed with the indices returned by\n",
      " |                     :meth:`~AtomGroup.indices` and it is the user's responsibility\n",
      " |                     to provide a time step that has the appropriate dimensions.\n",
      " |                 *copy*\n",
      " |                     ``True``: always make a copy (slow), ``False``: Try to\n",
      " |                     return a array view or reference (faster); note that for\n",
      " |                     passing coordinates to C-code it can be necessary to use\n",
      " |                     a copy [``False``]\n",
      " |                 *dtype*\n",
      " |                     numpy Data type of the array; the default is usually\n",
      " |                     entirely appropriate. Most C-code actually requires the\n",
      " |                     default  [:class:`np.float32`]\n",
      " |      \n",
      " |              Coordinates can also be directly obtained from the attribute\n",
      " |              :attr:`~AtomGroup.positions`.\n",
      " |      \n",
      " |              Coordinates can be directly set with :meth:`~AtomGroup.set_positions` or\n",
      " |              by assigning to :attr:`~AtomGroup.positions`.\n",
      " |      \n",
      " |              This method is identical with :meth:`~AtomGroup.coordinates` but named\n",
      " |              differently for symmetry with with :meth:`~AtomGroup.set_positions`.\n",
      " |      \n",
      " |              .. versionadded:: 0.7.6\n",
      " |  \n",
      " |  get_velocities(*args, **kwds)\n",
      " |      `get_velocities` is deprecated!\n",
      " |      This will be removed in version 0.16.0; use `velocities` property instead\n",
      " |      \n",
      " |      numpy array of the velocities.\n",
      " |      \n",
      " |              Raises a :exc:`NoDataError` if the underlying\n",
      " |              :class:`~MDAnalysis.coordinates.base.Timestep` does not contain\n",
      " |              :attr:`~MDAnalysis.coordinates.base.Timestep.velocities`.\n",
      " |      \n",
      " |              See also :meth:`AtomGroup.set_velocities` and attribute access through\n",
      " |              :attr:`AtomGroup.velocities`.\n",
      " |      \n",
      " |              .. versionadded:: 0.7.6\n",
      " |  \n",
      " |  guess_bonds = outfunc(self, *args, **kwargs)\n",
      " |  \n",
      " |  momentOfInertia(*args, **kwds)\n",
      " |      `momentOfInertia` is deprecated, use `moment_of_inertia` instead!\n",
      " |      This will be removed in version 0.16.0\n",
      " |      \n",
      " |      Tensor of inertia as 3x3 numpy array.\n",
      " |      \n",
      " |              :Keywords:\n",
      " |                *pbc*\n",
      " |                  ``True``: Move all atoms within the primary unit cell before calculation [``False``]\n",
      " |      \n",
      " |              .. Note::\n",
      " |                  The :class:`MDAnalysis.core.flags` flag *use_pbc* when set to ``True`` allows the *pbc*\n",
      " |                  flag to be used by default.\n",
      " |      \n",
      " |              .. versionchanged:: 0.8 Added *pbc* keyword\n",
      " |  \n",
      " |  moment_of_inertia(self, **kwargs)\n",
      " |      Tensor of inertia as 3x3 numpy array.\n",
      " |      \n",
      " |      :Keywords:\n",
      " |        *pbc*\n",
      " |          ``True``: Move all atoms within the primary unit cell before calculation [``False``]\n",
      " |      \n",
      " |      .. Note::\n",
      " |          The :class:`MDAnalysis.core.flags` flag *use_pbc* when set to ``True`` allows the *pbc*\n",
      " |          flag to be used by default.\n",
      " |      \n",
      " |      .. versionchanged:: 0.8 Added *pbc* keyword\n",
      " |  \n",
      " |  packIntoBox(*args, **kwds)\n",
      " |      `packIntoBox` is deprecated, use `pack_into_box` instead!\n",
      " |      This will be removed in version 0.16.0\n",
      " |      \n",
      " |      Shift all atoms in this group to be within the primary unit cell.\n",
      " |      \n",
      " |              AtomGroup.packintobox([box, [inplace=True]])\n",
      " |      \n",
      " |              :Keywords:\n",
      " |                *box*\n",
      " |                  Unit cell to move atoms inside of.\n",
      " |                *inplace*\n",
      " |                  ``True``: Change coordinates in place and return\n",
      " |                  ``False``: Only return the coordinates\n",
      " |      \n",
      " |              All atoms will be moved so that they lie between 0 and\n",
      " |              boxlength :math:`L_i` in all dimensions, i.e. the lower left\n",
      " |              corner of the simulation box is taken to be at (0,0,0):\n",
      " |      \n",
      " |              .. math::\n",
      " |      \n",
      " |                 x_i' = x_i - \\left\\lfloor\\frac{x_i}{L_i}\\right\\rfloor\n",
      " |      \n",
      " |              The default is to take unit cell information from the\n",
      " |              underlying :class:`~MDAnalysis.coordinates.base.Timestep`\n",
      " |              instance. The optional argument *box* can be used to provide\n",
      " |              alternative unit cell information (in the MDAnalysis standard\n",
      " |              format ``[Lx, Ly, Lz, alpha, beta, gamma]``).\n",
      " |      \n",
      " |              Works with either orthogonal or triclinic box types.\n",
      " |      \n",
      " |              By default the coordinates are changed in place and returned\n",
      " |      \n",
      " |              .. versionadded:: 0.8\n",
      " |  \n",
      " |  pack_into_box(self, box=None, inplace=True)\n",
      " |      Shift all atoms in this group to be within the primary unit cell.\n",
      " |      \n",
      " |      AtomGroup.packintobox([box, [inplace=True]])\n",
      " |      \n",
      " |      :Keywords:\n",
      " |        *box*\n",
      " |          Unit cell to move atoms inside of.\n",
      " |        *inplace*\n",
      " |          ``True``: Change coordinates in place and return\n",
      " |          ``False``: Only return the coordinates\n",
      " |      \n",
      " |      All atoms will be moved so that they lie between 0 and\n",
      " |      boxlength :math:`L_i` in all dimensions, i.e. the lower left\n",
      " |      corner of the simulation box is taken to be at (0,0,0):\n",
      " |      \n",
      " |      .. math::\n",
      " |      \n",
      " |         x_i' = x_i - \\left\\lfloor\\frac{x_i}{L_i}\\right\\rfloor\n",
      " |      \n",
      " |      The default is to take unit cell information from the\n",
      " |      underlying :class:`~MDAnalysis.coordinates.base.Timestep`\n",
      " |      instance. The optional argument *box* can be used to provide\n",
      " |      alternative unit cell information (in the MDAnalysis standard\n",
      " |      format ``[Lx, Ly, Lz, alpha, beta, gamma]``).\n",
      " |      \n",
      " |      Works with either orthogonal or triclinic box types.\n",
      " |      \n",
      " |      By default the coordinates are changed in place and returned\n",
      " |      \n",
      " |      .. versionadded:: 0.8\n",
      " |  \n",
      " |  principalAxes(*args, **kwds)\n",
      " |      `principalAxes` is deprecated, use `principal_axes` instead!\n",
      " |      This will be removed in version 0.16.0\n",
      " |      \n",
      " |      Calculate the principal axes from the moment of inertia.\n",
      " |      \n",
      " |              e1,e2,e3 = AtomGroup.principal_axes()\n",
      " |      \n",
      " |              The eigenvectors are sorted by eigenvalue, i.e. the first one\n",
      " |              corresponds to the highest eigenvalue and is thus the first principal axes.\n",
      " |      \n",
      " |              :Keywords:\n",
      " |                *pbc*\n",
      " |                  ``True``: Move all atoms within primary unit cell before calculation\n",
      " |      \n",
      " |              .. Note::\n",
      " |                  The :class:`MDAnalysis.core.flags` flag *use_pbc* when set to ``True`` allows the *pbc*\n",
      " |                  flag to be used by default.\n",
      " |      \n",
      " |              :Returns: numpy.array ``v`` with ``v[0]`` as first, ``v[1]`` as second,\n",
      " |                        and ``v[2]`` as third eigenvector.\n",
      " |      \n",
      " |              .. versionchanged:: 0.8 Added *pbc* keyword\n",
      " |  \n",
      " |  principal_axes(self, **kwargs)\n",
      " |      Calculate the principal axes from the moment of inertia.\n",
      " |      \n",
      " |      e1,e2,e3 = AtomGroup.principal_axes()\n",
      " |      \n",
      " |      The eigenvectors are sorted by eigenvalue, i.e. the first one\n",
      " |      corresponds to the highest eigenvalue and is thus the first principal axes.\n",
      " |      \n",
      " |      :Keywords:\n",
      " |        *pbc*\n",
      " |          ``True``: Move all atoms within primary unit cell before calculation\n",
      " |      \n",
      " |      .. Note::\n",
      " |          The :class:`MDAnalysis.core.flags` flag *use_pbc* when set to ``True`` allows the *pbc*\n",
      " |          flag to be used by default.\n",
      " |      \n",
      " |      :Returns: numpy.array ``v`` with ``v[0]`` as first, ``v[1]`` as second,\n",
      " |                and ``v[2]`` as third eigenvector.\n",
      " |      \n",
      " |      .. versionchanged:: 0.8 Added *pbc* keyword\n",
      " |  \n",
      " |  radiusOfGyration(*args, **kwds)\n",
      " |      `radiusOfGyration` is deprecated, use `radius_of_gyration` instead!\n",
      " |      This will be removed in version 0.16.0\n",
      " |      \n",
      " |      Radius of gyration.\n",
      " |      \n",
      " |              :Keywords:\n",
      " |                *pbc*\n",
      " |                  ``True``: Move all atoms within the primary unit cell before calculation [``False``]\n",
      " |      \n",
      " |              .. Note::\n",
      " |                  The :class:`MDAnalysis.core.flags` flag *use_pbc* when set to ``True`` allows the *pbc*\n",
      " |                  flag to be used by default.\n",
      " |      \n",
      " |              .. versionchanged:: 0.8 Added *pbc* keyword\n",
      " |  \n",
      " |  radius_of_gyration(self, **kwargs)\n",
      " |      Radius of gyration.\n",
      " |      \n",
      " |      :Keywords:\n",
      " |        *pbc*\n",
      " |          ``True``: Move all atoms within the primary unit cell before calculation [``False``]\n",
      " |      \n",
      " |      .. Note::\n",
      " |          The :class:`MDAnalysis.core.flags` flag *use_pbc* when set to ``True`` allows the *pbc*\n",
      " |          flag to be used by default.\n",
      " |      \n",
      " |      .. versionchanged:: 0.8 Added *pbc* keyword\n",
      " |  \n",
      " |  rotate(self, R)\n",
      " |      Apply a rotation matrix *R* to the selection's coordinates.\n",
      " |      \n",
      " |      AtomGroup.rotate(R)\n",
      " |      \n",
      " |      :math:`\\mathsf{R}` is a 3x3 orthogonal matrix that transforms a vector\n",
      " |      :math:`\\mathbf{x} \\rightarrow \\mathbf{x}'`:\n",
      " |      \n",
      " |      .. math::\n",
      " |      \n",
      " |          \\mathbf{x}' = \\mathsf{R}\\mathbf{x}\n",
      " |  \n",
      " |  rotateby(self, angle, axis, point=None)\n",
      " |      Apply a rotation to the selection's coordinates.\n",
      " |      \n",
      " |      AtomGroup.rotateby(angle,axis[,point])\n",
      " |      \n",
      " |      The transformation from current coordinates :math:`\\mathbf{x}`\n",
      " |      to new coordinates :math:`\\mathbf{x}'` is\n",
      " |      \n",
      " |      .. math::\n",
      " |      \n",
      " |        \\mathbf{x}' = \\mathsf{R}\\,(\\mathbf{x}-\\mathbf{p}) + \\mathbf{p}\n",
      " |      \n",
      " |      where :math:`\\mathsf{R}` is the rotation by *angle* around the\n",
      " |      *axis* going through *point* :math:`\\mathbf{p}`.\n",
      " |      \n",
      " |      :Arguments:\n",
      " |        *angle*\n",
      " |           rotation angle in degrees\n",
      " |        *axis*\n",
      " |           rotation axis vector, a 3-tuple, list, or array, or a 2-tuple of\n",
      " |           two MDAnalysis objects from which the axis is calculated as the\n",
      " |           vector from the first to the second center of geometry.\n",
      " |        *point*\n",
      " |           point on the rotation axis; by default (``None``) the center of\n",
      " |           geometry of the selection is chosen, or, if *axis* is a tuple of\n",
      " |           selections, it defaults to the first point of the axis. *point*\n",
      " |           can be a 3-tuple, list, or array or a MDAnalysis object (in which\n",
      " |           case its :meth:`centroid` is used).\n",
      " |      \n",
      " |      :Returns: The 4x4 matrix which consists of the rotation matrix ``M[:3,:3]``\n",
      " |                and the translation vector ``M[:3,3]``.\n",
      " |  \n",
      " |  selectAtoms(*args, **kwds)\n",
      " |      `selectAtoms` is deprecated, use `select_atoms` instead!\n",
      " |      This will be removed in version 0.16.0\n",
      " |      \n",
      " |      Select atoms using a MDAnalysis selection string.\n",
      " |      \n",
      " |              Parameters\n",
      " |              ----------\n",
      " |              sel : str\n",
      " |                  The selection string to be parsed (following the language below)\n",
      " |              *othersel : str, optional\n",
      " |                  More selection strings to be parsed\n",
      " |              **selgroups : AtomGroup(s), optional\n",
      " |                  groups to be referred to using the 'group' keyword\n",
      " |      \n",
      " |              Returns\n",
      " |              -------\n",
      " |              A :class:`AtomGroup`, with atoms sorted according to their\n",
      " |              index.  This AtomGroup will not contain any duplicate atoms,\n",
      " |              even if the original selection had so.\n",
      " |      \n",
      " |              Note\n",
      " |              ----\n",
      " |              If exact ordering of atoms is required (for instance, for\n",
      " |              :meth:`~AtomGroup.angle` or :meth:`~AtomGroup.dihedral` calculations)\n",
      " |              then one supplies selections *separately* in the required order.\n",
      " |              For example::\n",
      " |                 ag.select_atoms('name HT*', 'name N')\n",
      " |              Gives anything matching HT* before anything matching N\n",
      " |      \n",
      " |              Examples\n",
      " |              --------\n",
      " |              The selection parser understands the following *keywords*:\n",
      " |      \n",
      " |              Simple field selections\n",
      " |              -----------------------\n",
      " |              The following selections allow implicit OR of any number of values after\n",
      " |              their keyword. For example::\n",
      " |                  'name HT1 HT2' == 'name HT1 or name HT2'\n",
      " |              They also allow the use of the wildcard character '*', for example::\n",
      " |                  'name HT*'\n",
      " |              Selects all atoms whose name starts with 'HT'\n",
      " |      \n",
      " |              name *atom-name*\n",
      " |                  select by atom name (as given in the topology). Often, this is\n",
      " |                  force field dependent.\n",
      " |                  e.g. ``name CA`` (for C alpha atoms)\n",
      " |                  or ``name OW`` (for SPC water oxygen)\n",
      " |              type *atom-type*\n",
      " |                  select by atom type; this is either a string or a number and\n",
      " |                  depends on the force field; it is read from the topology file\n",
      " |                  (e.g. the CHARMM PSF file contains numeric atom types).\n",
      " |              resname *residue-name*\n",
      " |                  select by residue name, e.g. ``resname LYS``\n",
      " |              segid *seg-name*\n",
      " |                  select by segid (as given in the topology),\n",
      " |                  e.g. ``segid 4AKE`` or ``segid DMPC``\n",
      " |              altloc *alternative-location*\n",
      " |                  a selection for atoms where alternative locations are available,\n",
      " |                  which is often the case with high-resolution crystal structures\n",
      " |                  e.g. `resid 4 and resname ALA and altloc B` selects only the\n",
      " |                  atoms of ALA-4 that have an altloc B record.\n",
      " |      \n",
      " |              Numerical ranges\n",
      " |              ----------------\n",
      " |              These selections support implicit OR as above, and also selecting\n",
      " |              a range of numerical values using either ':' or '-'\n",
      " |              For example::\n",
      " |                  'resid 1:10'\n",
      " |              Selects all resid from 1 to 10 inclusive\n",
      " |                  'resid 1 3 5 20-30'\n",
      " |              Selects 1, 3, 5, and 20 through 30\n",
      " |      \n",
      " |              resid *residue-number-range*\n",
      " |                  resid can take a single residue number or a range of numbers.\n",
      " |                  A residue number (\"resid\") is taken directly from the topology.\n",
      " |              resnum *resnum-number-range*\n",
      " |                  resnum is the canonical residue number; typically it is set to\n",
      " |                  the residue id in the original PDB structure.\n",
      " |              bynum *index-range*\n",
      " |                  selects all atoms within a range of (1-based) inclusive indices,\n",
      " |                  e.g. ``bynum 1`` selects the first atom in the universe;\n",
      " |                  ``bynum 5:10`` selects atoms 5 through 10 inclusive. All atoms\n",
      " |                  in the :class:`MDAnalysis.Universe` are consecutively numbered,\n",
      " |                  and the index runs from 1 up to the total number of atoms.\n",
      " |      \n",
      " |              Convienience selections\n",
      " |              -----------------------\n",
      " |              protein, backbone, nucleic, nucleicbackbone, nucleicbase, nucleicsugar\n",
      " |                  selects all atoms that belong to a standard set of residues;\n",
      " |                  a protein is identfied by a hard-coded set of residue names so\n",
      " |                  it  may not work for esoteric residues.\n",
      " |              atom *seg-name*  *residue-number*  *atom-name*\n",
      " |                  a selector for a single atom consisting of segid resid atomname,\n",
      " |                  e.g. ``DMPC 1 C2`` selects the C2 carbon of the first residue of\n",
      " |                  the DMPC segment\n",
      " |      \n",
      " |              Boolean modifiers\n",
      " |              -----------------\n",
      " |              not\n",
      " |                  all atoms not in the selection. e.g. ``not protein``\n",
      " |                  selects all atoms that aren't part of a protein\n",
      " |              and, or\n",
      " |                  combine two selections according to the rules of boolean\n",
      " |                  algebra, e.g. ``protein and not resname ALA LYS`` selects\n",
      " |                  all atoms that belong to a protein, but are not in a lysine\n",
      " |                  or alanine residue\n",
      " |              parentheses '(' ')'\n",
      " |                  Subselections can be grouped with parentheses to evaluate\n",
      " |                  this before other parts of the selection\n",
      " |      \n",
      " |              Geometric\n",
      " |              ---------\n",
      " |              around *distance*  *selection*\n",
      " |                  selects all atoms a certain cutoff away from another selection,\n",
      " |                  e.g. ``around 3.5 protein`` selects all atoms not belonging to\n",
      " |                  protein that are within 3.5 Angstroms from the protein\n",
      " |              point *x* *y* *z*  *distance*\n",
      " |                  selects all atoms within a cutoff of a point in space, make sure\n",
      " |                  coordinate is separated by spaces,\n",
      " |                  e.g. ``point 5.0 5.0 5.0  3.5`` selects all atoms within 3.5\n",
      " |                  Angstroms of the coordinate (5.0, 5.0, 5.0)\n",
      " |              prop [abs] *property*  *operator*  *value*\n",
      " |                  selects atoms based on position, using *property*  **x**, **y**,\n",
      " |                  or **z** coordinate. Supports the **abs** keyword (for absolute\n",
      " |                  value) and the following *operators*: **<, >, <=, >=, ==, !=**.\n",
      " |                  For example, ``prop z >= 5.0`` selects all atoms with z\n",
      " |                  coordinate greater than 5.0; ``prop abs z <= 5.0`` selects all\n",
      " |                  atoms within -5.0 <= z <= 5.0.\n",
      " |              sphzone *radius* *selection*\n",
      " |                  Selects all atoms that are within *radius* of the center of\n",
      " |                  geometry of *selection*\n",
      " |              sphlayer *inner radius* *outer radius* *selection*\n",
      " |                  Similar to sphzone, but also excludes atoms that are within\n",
      " |                  *inner radius* of the selection COG\n",
      " |      \n",
      " |              Connectivity\n",
      " |              ------------\n",
      " |              bonded *selection*\n",
      " |                  selects all atoms that are bonded to selection\n",
      " |                  eg: ``select name H bonded name O`` selects only hydrogens\n",
      " |                  bonded to oxygens\n",
      " |              same *keyword* as *selection*\n",
      " |                  Selects all atoms that have the same property as those in\n",
      " |                  the other *selection*\n",
      " |                  *keyword* can be one of:\n",
      " |                      x, y, z (to match the position)\n",
      " |                      residue, fragment, segment\n",
      " |                      type, segid, mass, charge, radius, bfactor\n",
      " |                      resid, resnum, resname, segid\n",
      " |                  e.g. 'same mass as name CT1' would select all atoms that\n",
      " |                  had the same mass as those called CT1\n",
      " |              byres *selection*\n",
      " |                  selects all atoms that are in the same segment and residue as\n",
      " |                  selection,\n",
      " |                  e.g. specify the subselection after the byres keyword\n",
      " |      \n",
      " |              Preexisting selections\n",
      " |              ----------------------\n",
      " |              group *group-name*\n",
      " |                  selects the atoms in the :class:`AtomGroup` passed to the\n",
      " |                  function as an argument named *group-name*. Only the atoms\n",
      " |                  common to *group-name* and the instance :meth:`~select_atoms`\n",
      " |                  was called from will be considered. *group-name* will be\n",
      " |                  included in the parsing just by comparison of atom indices.\n",
      " |                  This means that it is up to the user to make sure they were\n",
      " |                  defined in an appropriate :class:`Universe`.\n",
      " |              fullgroup *group-name*\n",
      " |                  just like the ``group`` keyword with the difference that all the\n",
      " |                  atoms of *group-name* are included. The resulting selection may\n",
      " |                  therefore have atoms that were initially absent from the\n",
      " |                  instance :meth:`~select_atoms` was called from.\n",
      " |                  Deprecated in 0.11, use `global group` instead\n",
      " |      \n",
      " |              Global selections\n",
      " |              -----------------\n",
      " |              global *selection*\n",
      " |                  By default, select_atoms works on the AtomGroup it is called\n",
      " |                  from.  By placing the global prefix, the selection is instead\n",
      " |                  applied to the entire Universe the AtomGroup belongs to.\n",
      " |                  e.g.\n",
      " |                      lipids.select_atoms('around 10 global protein')\n",
      " |                  Selects all atoms from group `lipids` which are within 10 of\n",
      " |                  the selection u.select_atoms('protein')\n",
      " |                  Without the *global* modifier, the selection `protein` would\n",
      " |                  have only been applied to the lipids group itself.\n",
      " |      \n",
      " |              .. SeeAlso:: :ref:`selection-commands-label` for further details.\n",
      " |      \n",
      " |              .. versionchanged:: 0.7.4\n",
      " |                 Added *resnum* selection.\n",
      " |              .. versionchanged:: 0.8.1\n",
      " |                 Added *group* and *fullgroup* selections.\n",
      " |              .. versionchanged:: 0.13.0\n",
      " |                 Added *bonded* selection\n",
      " |              .. versionchanged:: 0.13.1\n",
      " |                 Added implicit OR syntax to field and range selections\n",
      " |  \n",
      " |  select_atoms(self, selstr, *othersel, **selgroups)\n",
      " |      Select atoms using a MDAnalysis selection string.\n",
      " |      \n",
      " |      Parameters\n",
      " |      ----------\n",
      " |      sel : str\n",
      " |          The selection string to be parsed (following the language below)\n",
      " |      *othersel : str, optional\n",
      " |          More selection strings to be parsed\n",
      " |      **selgroups : AtomGroup(s), optional\n",
      " |          groups to be referred to using the 'group' keyword\n",
      " |      \n",
      " |      Returns\n",
      " |      -------\n",
      " |      A :class:`AtomGroup`, with atoms sorted according to their\n",
      " |      index.  This AtomGroup will not contain any duplicate atoms,\n",
      " |      even if the original selection had so.\n",
      " |      \n",
      " |      Note\n",
      " |      ----\n",
      " |      If exact ordering of atoms is required (for instance, for\n",
      " |      :meth:`~AtomGroup.angle` or :meth:`~AtomGroup.dihedral` calculations)\n",
      " |      then one supplies selections *separately* in the required order.\n",
      " |      For example::\n",
      " |         ag.select_atoms('name HT*', 'name N')\n",
      " |      Gives anything matching HT* before anything matching N\n",
      " |      \n",
      " |      Examples\n",
      " |      --------\n",
      " |      The selection parser understands the following *keywords*:\n",
      " |      \n",
      " |      Simple field selections\n",
      " |      -----------------------\n",
      " |      The following selections allow implicit OR of any number of values after\n",
      " |      their keyword. For example::\n",
      " |          'name HT1 HT2' == 'name HT1 or name HT2'\n",
      " |      They also allow the use of the wildcard character '*', for example::\n",
      " |          'name HT*'\n",
      " |      Selects all atoms whose name starts with 'HT'\n",
      " |      \n",
      " |      name *atom-name*\n",
      " |          select by atom name (as given in the topology). Often, this is\n",
      " |          force field dependent.\n",
      " |          e.g. ``name CA`` (for C alpha atoms)\n",
      " |          or ``name OW`` (for SPC water oxygen)\n",
      " |      type *atom-type*\n",
      " |          select by atom type; this is either a string or a number and\n",
      " |          depends on the force field; it is read from the topology file\n",
      " |          (e.g. the CHARMM PSF file contains numeric atom types).\n",
      " |      resname *residue-name*\n",
      " |          select by residue name, e.g. ``resname LYS``\n",
      " |      segid *seg-name*\n",
      " |          select by segid (as given in the topology),\n",
      " |          e.g. ``segid 4AKE`` or ``segid DMPC``\n",
      " |      altloc *alternative-location*\n",
      " |          a selection for atoms where alternative locations are available,\n",
      " |          which is often the case with high-resolution crystal structures\n",
      " |          e.g. `resid 4 and resname ALA and altloc B` selects only the\n",
      " |          atoms of ALA-4 that have an altloc B record.\n",
      " |      \n",
      " |      Numerical ranges\n",
      " |      ----------------\n",
      " |      These selections support implicit OR as above, and also selecting\n",
      " |      a range of numerical values using either ':' or '-'\n",
      " |      For example::\n",
      " |          'resid 1:10'\n",
      " |      Selects all resid from 1 to 10 inclusive\n",
      " |          'resid 1 3 5 20-30'\n",
      " |      Selects 1, 3, 5, and 20 through 30\n",
      " |      \n",
      " |      resid *residue-number-range*\n",
      " |          resid can take a single residue number or a range of numbers.\n",
      " |          A residue number (\"resid\") is taken directly from the topology.\n",
      " |      resnum *resnum-number-range*\n",
      " |          resnum is the canonical residue number; typically it is set to\n",
      " |          the residue id in the original PDB structure.\n",
      " |      bynum *index-range*\n",
      " |          selects all atoms within a range of (1-based) inclusive indices,\n",
      " |          e.g. ``bynum 1`` selects the first atom in the universe;\n",
      " |          ``bynum 5:10`` selects atoms 5 through 10 inclusive. All atoms\n",
      " |          in the :class:`MDAnalysis.Universe` are consecutively numbered,\n",
      " |          and the index runs from 1 up to the total number of atoms.\n",
      " |      \n",
      " |      Convienience selections\n",
      " |      -----------------------\n",
      " |      protein, backbone, nucleic, nucleicbackbone, nucleicbase, nucleicsugar\n",
      " |          selects all atoms that belong to a standard set of residues;\n",
      " |          a protein is identfied by a hard-coded set of residue names so\n",
      " |          it  may not work for esoteric residues.\n",
      " |      atom *seg-name*  *residue-number*  *atom-name*\n",
      " |          a selector for a single atom consisting of segid resid atomname,\n",
      " |          e.g. ``DMPC 1 C2`` selects the C2 carbon of the first residue of\n",
      " |          the DMPC segment\n",
      " |      \n",
      " |      Boolean modifiers\n",
      " |      -----------------\n",
      " |      not\n",
      " |          all atoms not in the selection. e.g. ``not protein``\n",
      " |          selects all atoms that aren't part of a protein\n",
      " |      and, or\n",
      " |          combine two selections according to the rules of boolean\n",
      " |          algebra, e.g. ``protein and not resname ALA LYS`` selects\n",
      " |          all atoms that belong to a protein, but are not in a lysine\n",
      " |          or alanine residue\n",
      " |      parentheses '(' ')'\n",
      " |          Subselections can be grouped with parentheses to evaluate\n",
      " |          this before other parts of the selection\n",
      " |      \n",
      " |      Geometric\n",
      " |      ---------\n",
      " |      around *distance*  *selection*\n",
      " |          selects all atoms a certain cutoff away from another selection,\n",
      " |          e.g. ``around 3.5 protein`` selects all atoms not belonging to\n",
      " |          protein that are within 3.5 Angstroms from the protein\n",
      " |      point *x* *y* *z*  *distance*\n",
      " |          selects all atoms within a cutoff of a point in space, make sure\n",
      " |          coordinate is separated by spaces,\n",
      " |          e.g. ``point 5.0 5.0 5.0  3.5`` selects all atoms within 3.5\n",
      " |          Angstroms of the coordinate (5.0, 5.0, 5.0)\n",
      " |      prop [abs] *property*  *operator*  *value*\n",
      " |          selects atoms based on position, using *property*  **x**, **y**,\n",
      " |          or **z** coordinate. Supports the **abs** keyword (for absolute\n",
      " |          value) and the following *operators*: **<, >, <=, >=, ==, !=**.\n",
      " |          For example, ``prop z >= 5.0`` selects all atoms with z\n",
      " |          coordinate greater than 5.0; ``prop abs z <= 5.0`` selects all\n",
      " |          atoms within -5.0 <= z <= 5.0.\n",
      " |      sphzone *radius* *selection*\n",
      " |          Selects all atoms that are within *radius* of the center of\n",
      " |          geometry of *selection*\n",
      " |      sphlayer *inner radius* *outer radius* *selection*\n",
      " |          Similar to sphzone, but also excludes atoms that are within\n",
      " |          *inner radius* of the selection COG\n",
      " |      \n",
      " |      Connectivity\n",
      " |      ------------\n",
      " |      bonded *selection*\n",
      " |          selects all atoms that are bonded to selection\n",
      " |          eg: ``select name H bonded name O`` selects only hydrogens\n",
      " |          bonded to oxygens\n",
      " |      same *keyword* as *selection*\n",
      " |          Selects all atoms that have the same property as those in\n",
      " |          the other *selection*\n",
      " |          *keyword* can be one of:\n",
      " |              x, y, z (to match the position)\n",
      " |              residue, fragment, segment\n",
      " |              type, segid, mass, charge, radius, bfactor\n",
      " |              resid, resnum, resname, segid\n",
      " |          e.g. 'same mass as name CT1' would select all atoms that\n",
      " |          had the same mass as those called CT1\n",
      " |      byres *selection*\n",
      " |          selects all atoms that are in the same segment and residue as\n",
      " |          selection,\n",
      " |          e.g. specify the subselection after the byres keyword\n",
      " |      \n",
      " |      Preexisting selections\n",
      " |      ----------------------\n",
      " |      group *group-name*\n",
      " |          selects the atoms in the :class:`AtomGroup` passed to the\n",
      " |          function as an argument named *group-name*. Only the atoms\n",
      " |          common to *group-name* and the instance :meth:`~select_atoms`\n",
      " |          was called from will be considered. *group-name* will be\n",
      " |          included in the parsing just by comparison of atom indices.\n",
      " |          This means that it is up to the user to make sure they were\n",
      " |          defined in an appropriate :class:`Universe`.\n",
      " |      fullgroup *group-name*\n",
      " |          just like the ``group`` keyword with the difference that all the\n",
      " |          atoms of *group-name* are included. The resulting selection may\n",
      " |          therefore have atoms that were initially absent from the\n",
      " |          instance :meth:`~select_atoms` was called from.\n",
      " |          Deprecated in 0.11, use `global group` instead\n",
      " |      \n",
      " |      Global selections\n",
      " |      -----------------\n",
      " |      global *selection*\n",
      " |          By default, select_atoms works on the AtomGroup it is called\n",
      " |          from.  By placing the global prefix, the selection is instead\n",
      " |          applied to the entire Universe the AtomGroup belongs to.\n",
      " |          e.g.\n",
      " |              lipids.select_atoms('around 10 global protein')\n",
      " |          Selects all atoms from group `lipids` which are within 10 of\n",
      " |          the selection u.select_atoms('protein')\n",
      " |          Without the *global* modifier, the selection `protein` would\n",
      " |          have only been applied to the lipids group itself.\n",
      " |      \n",
      " |      .. SeeAlso:: :ref:`selection-commands-label` for further details.\n",
      " |      \n",
      " |      .. versionchanged:: 0.7.4\n",
      " |         Added *resnum* selection.\n",
      " |      .. versionchanged:: 0.8.1\n",
      " |         Added *group* and *fullgroup* selections.\n",
      " |      .. versionchanged:: 0.13.0\n",
      " |         Added *bonded* selection\n",
      " |      .. versionchanged:: 0.13.1\n",
      " |         Added implicit OR syntax to field and range selections\n",
      " |  \n",
      " |  sequence(self, **kwargs)\n",
      " |      Returns the amino acid sequence.\n",
      " |      \n",
      " |      The format of the sequence is selected with the keyword *format*:\n",
      " |      \n",
      " |      ============== ============================================\n",
      " |      *format*       description\n",
      " |      ============== ============================================\n",
      " |      'SeqRecord'    :class:`Bio.SeqRecord.SeqRecord` (default)\n",
      " |      'Seq'          :class:`Bio.Seq.Seq`\n",
      " |      'string'       string\n",
      " |      ============== ============================================\n",
      " |      \n",
      " |      The sequence is returned by default (keyword ``format = 'SeqRecord'``)\n",
      " |      as a :class:`Bio.SeqRecord.SeqRecord` instance, which can then be\n",
      " |      further processed. In this case, all keyword arguments (such as the\n",
      " |      *id* string or the *name* or the *description*) are directly passed to\n",
      " |      :class:`Bio.SeqRecord.SeqRecord`.\n",
      " |      \n",
      " |      If the keyword *format* is set to ``'Seq'``, all *kwargs* are ignored\n",
      " |      and a :class:`Bio.Seq.Seq` instance is returned. The difference to the\n",
      " |      record is that the record also contains metadata and can be directly\n",
      " |      used as an input for other functions in :mod:`Bio`.\n",
      " |      \n",
      " |      If the keyword *format* is set to ``'string'``, all *kwargs* are\n",
      " |      ignored and a Python string is returned.\n",
      " |      \n",
      " |      .. rubric:: Example: Write FASTA file\n",
      " |      \n",
      " |      Use :func:`Bio.SeqIO.write`, which takes sequence records::\n",
      " |      \n",
      " |         import Bio.SeqIO\n",
      " |      \n",
      " |         # get the sequence record of a protein component of a Universe\n",
      " |         protein = u.select_atoms(\"protein\")\n",
      " |         record = protein.sequence(id=\"myseq1\", name=\"myprotein\")\n",
      " |      \n",
      " |         Bio.SeqIO.write(record, \"single.fasta\", \"fasta\")\n",
      " |      \n",
      " |      A FASTA file with multiple entries can be written with ::\n",
      " |      \n",
      " |         Bio.SeqIO.write([record1, record2, ...], \"multi.fasta\", \"fasta\")\n",
      " |      \n",
      " |      :Keywords:\n",
      " |          *format*\n",
      " |      \n",
      " |              - ``\"string\"``: return sequence as a string of 1-letter codes\n",
      " |              - ``\"Seq\"``: return a :class:`Bio.Seq.Seq` instance\n",
      " |              - ``\"SeqRecord\"``: return a :class:`Bio.SeqRecord.SeqRecord`\n",
      " |                instance\n",
      " |      \n",
      " |              Default is ``\"SeqRecord\"``\n",
      " |      \n",
      " |           *id*\n",
      " |              Sequence ID for SeqRecord (should be different for different\n",
      " |              sequences)\n",
      " |           *name*\n",
      " |              Name of the protein.\n",
      " |           *description*\n",
      " |              Short description of the sequence.\n",
      " |           *kwargs*\n",
      " |              Any other keyword arguments that are understood by\n",
      " |              :class:`Bio.SeqRecord.SeqRecord`.\n",
      " |      \n",
      " |      :Raises: :exc:`ValueError` if a residue name cannot be converted to a\n",
      " |               1-letter IUPAC protein amino acid code; make sure to only\n",
      " |               select protein residues. Raises :exc:`TypeError` if an unknown\n",
      " |               *format* is selected.\n",
      " |      \n",
      " |      .. versionadded:: 0.9.0\n",
      " |  \n",
      " |  set = _set_atoms(self, name, value, **kwargs)\n",
      " |  \n",
      " |  set_altLoc(*args, **kwds)\n",
      " |      `set_altLoc` is deprecated, use `set_altLocs` instead!\n",
      " |      This will be removed in version 0.16.0\n",
      " |      \n",
      " |      `set_altLocs` is deprecated!\n",
      " |      This will be removed in version 0.16.0; use `altLocs` property instead\n",
      " |      \n",
      " |      Set the altLocs to *altLoc for **all atoms** in the AtomGroup.\n",
      " |      \n",
      " |              If *altLoc* is a sequence of the same length as the :class:`AtomGroup`\n",
      " |              then each :attr:`Atom.altLoc` is set to the corresponding value. If\n",
      " |              *value* is neither of length 1 (or a scalar) nor of the length of the\n",
      " |              :class:`AtomGroup` then a :exc:`ValueError` is raised.\n",
      " |      \n",
      " |              .. versionadded:: 0.11.0\n",
      " |  \n",
      " |  set_altLocs(*args, **kwds)\n",
      " |      `set_altLocs` is deprecated!\n",
      " |      This will be removed in version 0.16.0; use `altLocs` property instead\n",
      " |      \n",
      " |      Set the altLocs to *altLoc for **all atoms** in the AtomGroup.\n",
      " |      \n",
      " |              If *altLoc* is a sequence of the same length as the :class:`AtomGroup`\n",
      " |              then each :attr:`Atom.altLoc` is set to the corresponding value. If\n",
      " |              *value* is neither of length 1 (or a scalar) nor of the length of the\n",
      " |              :class:`AtomGroup` then a :exc:`ValueError` is raised.\n",
      " |      \n",
      " |              .. versionadded:: 0.11.0\n",
      " |  \n",
      " |  set_bfactor(*args, **kwds)\n",
      " |      `set_bfactor` is deprecated, use `set_bfactors` instead!\n",
      " |      This will be removed in version 0.16.0\n",
      " |      \n",
      " |      `set_bfactors` is deprecated!\n",
      " |      This will be removed in version 0.16.0; use `bfactors` property instead\n",
      " |      \n",
      " |      Set the atom bfactors to float *bfactor* for **all atoms** in the AtomGroup.\n",
      " |      \n",
      " |              If *bfactor* is a sequence of the same length as the :class:`AtomGroup`\n",
      " |              then each :attr:`Atom.bfactor` is set to the corresponding value. If\n",
      " |              *value* is neither of length 1 (or a scalar) nor of the length of the\n",
      " |              :class:`AtomGroup` then a :exc:`ValueError` is raised.\n",
      " |      \n",
      " |              .. versionadded:: 0.7.4\n",
      " |              .. versionchanged:: 0.8\n",
      " |                 Can set atoms and residues to distinct values by providing a sequence or iterable.\n",
      " |              .. versionchanged:: 0.11.0\n",
      " |                 Made plural to make consistent with corresponding property\n",
      " |  \n",
      " |  set_bfactors(*args, **kwds)\n",
      " |      `set_bfactors` is deprecated!\n",
      " |      This will be removed in version 0.16.0; use `bfactors` property instead\n",
      " |      \n",
      " |      Set the atom bfactors to float *bfactor* for **all atoms** in the AtomGroup.\n",
      " |      \n",
      " |              If *bfactor* is a sequence of the same length as the :class:`AtomGroup`\n",
      " |              then each :attr:`Atom.bfactor` is set to the corresponding value. If\n",
      " |              *value* is neither of length 1 (or a scalar) nor of the length of the\n",
      " |              :class:`AtomGroup` then a :exc:`ValueError` is raised.\n",
      " |      \n",
      " |              .. versionadded:: 0.7.4\n",
      " |              .. versionchanged:: 0.8\n",
      " |                 Can set atoms and residues to distinct values by providing a sequence or iterable.\n",
      " |              .. versionchanged:: 0.11.0\n",
      " |                 Made plural to make consistent with corresponding property\n",
      " |  \n",
      " |  set_charge(*args, **kwds)\n",
      " |      `set_charge` is deprecated, use `set_charges` instead!\n",
      " |      This will be removed in version 0.16.0\n",
      " |      \n",
      " |      `set_charges` is deprecated!\n",
      " |      This will be removed in version 0.16.0; use `charges` property instead\n",
      " |      \n",
      " |      Set the partial charges to float *charge* for **all atoms** in the AtomGroup.\n",
      " |      \n",
      " |              If *charge* is a sequence of the same length as the :class:`AtomGroup`\n",
      " |              then each :attr:`Atom.charge` is set to the corresponding value. If\n",
      " |              *value* is neither of length 1 (or a scalar) nor of the length of the\n",
      " |              :class:`AtomGroup` then a :exc:`ValueError` is raised.\n",
      " |      \n",
      " |              .. versionadded:: 0.7.4\n",
      " |              .. versionchanged:: 0.8\n",
      " |                 Can set atoms and residues to distinct values by providing a sequence or iterable.\n",
      " |              .. versionchanged:: 0.11.0\n",
      " |                 Made plural to make consistent with corresponding property\n",
      " |  \n",
      " |  set_charges(*args, **kwds)\n",
      " |      `set_charges` is deprecated!\n",
      " |      This will be removed in version 0.16.0; use `charges` property instead\n",
      " |      \n",
      " |      Set the partial charges to float *charge* for **all atoms** in the AtomGroup.\n",
      " |      \n",
      " |              If *charge* is a sequence of the same length as the :class:`AtomGroup`\n",
      " |              then each :attr:`Atom.charge` is set to the corresponding value. If\n",
      " |              *value* is neither of length 1 (or a scalar) nor of the length of the\n",
      " |              :class:`AtomGroup` then a :exc:`ValueError` is raised.\n",
      " |      \n",
      " |              .. versionadded:: 0.7.4\n",
      " |              .. versionchanged:: 0.8\n",
      " |                 Can set atoms and residues to distinct values by providing a sequence or iterable.\n",
      " |              .. versionchanged:: 0.11.0\n",
      " |                 Made plural to make consistent with corresponding property\n",
      " |  \n",
      " |  set_forces(*args, **kwds)\n",
      " |      `set_forces` is deprecated!\n",
      " |      This will be removed in version 0.16.0; use `forces` property instead\n",
      " |      \n",
      " |      Set the forces for all atoms in the group.\n",
      " |      \n",
      " |              :Arguments:\n",
      " |                 *forces*\n",
      " |                     a Nx3 numpy :class:`numpy.ndarray` where N is the number of\n",
      " |                     atoms in this atom group.\n",
      " |      \n",
      " |              :Keywords:\n",
      " |                 *ts*\n",
      " |                    :class:`~MDAnalysis.coordinates.base.Timestep`, defaults\n",
      " |                    to ``None`` and then the current time step is used.\n",
      " |      \n",
      " |              .. Note::\n",
      " |      \n",
      " |                 If the group contains N atoms and *force* is a single vector (i.e. an\n",
      " |                 array of length 3) then all N atom positions are set to *force* (due\n",
      " |                 to numpy's broadcasting rules), as described for\n",
      " |                 :attr:`~AtomGroup.forces`.\n",
      " |      \n",
      " |              See also :meth:`~AtomGroup.get_forces` and attribute access through\n",
      " |              :attr:`~AtomGroup.forces`.\n",
      " |      \n",
      " |              .. versionadded:: 0.7.7\n",
      " |  \n",
      " |  set_mass(*args, **kwds)\n",
      " |      `set_mass` is deprecated, use `set_masses` instead!\n",
      " |      This will be removed in version 0.16.0\n",
      " |      \n",
      " |      `set_masses` is deprecated!\n",
      " |      This will be removed in version 0.16.0; use `masses` property instead\n",
      " |      \n",
      " |      Set the atom masses to float *mass* for **all atoms** in the AtomGroup.\n",
      " |      \n",
      " |              If *mass* is a sequence of the same length as the :class:`AtomGroup`\n",
      " |              then each :attr:`Atom.mass` is set to the corresponding value. If\n",
      " |              *value* is neither of length 1 (or a scalar) nor of the length of the\n",
      " |              :class:`AtomGroup` then a :exc:`ValueError` is raised.\n",
      " |      \n",
      " |              .. versionadded:: 0.7.4\n",
      " |              .. versionchanged:: 0.8\n",
      " |                 Can set atoms and residues to distinct values by providing a sequence or iterable.\n",
      " |              .. versionchanged:: 0.11.0\n",
      " |                 Made plural to make consistent with corresponding property\n",
      " |  \n",
      " |  set_masses(*args, **kwds)\n",
      " |      `set_masses` is deprecated!\n",
      " |      This will be removed in version 0.16.0; use `masses` property instead\n",
      " |      \n",
      " |      Set the atom masses to float *mass* for **all atoms** in the AtomGroup.\n",
      " |      \n",
      " |              If *mass* is a sequence of the same length as the :class:`AtomGroup`\n",
      " |              then each :attr:`Atom.mass` is set to the corresponding value. If\n",
      " |              *value* is neither of length 1 (or a scalar) nor of the length of the\n",
      " |              :class:`AtomGroup` then a :exc:`ValueError` is raised.\n",
      " |      \n",
      " |              .. versionadded:: 0.7.4\n",
      " |              .. versionchanged:: 0.8\n",
      " |                 Can set atoms and residues to distinct values by providing a sequence or iterable.\n",
      " |              .. versionchanged:: 0.11.0\n",
      " |                 Made plural to make consistent with corresponding property\n",
      " |  \n",
      " |  set_name(*args, **kwds)\n",
      " |      `set_name` is deprecated, use `set_names` instead!\n",
      " |      This will be removed in version 0.16.0\n",
      " |      \n",
      " |      `set_names` is deprecated!\n",
      " |      This will be removed in version 0.16.0; use `names` property instead\n",
      " |      \n",
      " |      Set the atom names to string for *all atoms* in the AtomGroup.\n",
      " |      \n",
      " |              If *value* is a sequence of the same length as the :class:`AtomGroup`\n",
      " |              then each :attr:`Atom.name` is set to the corresponding value. If\n",
      " |              *value* is neither of length 1 (or a scalar) nor of the length of the\n",
      " |              :class:`AtomGroup` then a :exc:`ValueError` is raised.\n",
      " |      \n",
      " |              .. versionadded:: 0.7.4\n",
      " |              .. versionchanged:: 0.8\n",
      " |                 Can set atoms to distinct values by providing a sequence or iterable.\n",
      " |              .. versionchanged:: 0.11.0\n",
      " |                 Made plural to make consistent with corresponding property\n",
      " |  \n",
      " |  set_names(*args, **kwds)\n",
      " |      `set_names` is deprecated!\n",
      " |      This will be removed in version 0.16.0; use `names` property instead\n",
      " |      \n",
      " |      Set the atom names to string for *all atoms* in the AtomGroup.\n",
      " |      \n",
      " |              If *value* is a sequence of the same length as the :class:`AtomGroup`\n",
      " |              then each :attr:`Atom.name` is set to the corresponding value. If\n",
      " |              *value* is neither of length 1 (or a scalar) nor of the length of the\n",
      " |              :class:`AtomGroup` then a :exc:`ValueError` is raised.\n",
      " |      \n",
      " |              .. versionadded:: 0.7.4\n",
      " |              .. versionchanged:: 0.8\n",
      " |                 Can set atoms to distinct values by providing a sequence or iterable.\n",
      " |              .. versionchanged:: 0.11.0\n",
      " |                 Made plural to make consistent with corresponding property\n",
      " |  \n",
      " |  set_occupancies(self, occupancies)\n",
      " |      Set the occupancy for *all atoms* in the AtomGroup\n",
      " |      \n",
      " |      If *value* is a sequence of the same length as the :class:`AtomGroup`\n",
      " |      then each :attr:`Atom.name` is set to the corresponding value. If\n",
      " |      *value* is neither of length 1 (or a scalar) nor of the length of the\n",
      " |      :class:`AtomGroup` then a :exc:`ValueError` is raised.\n",
      " |      \n",
      " |      .. versionadded:: 0.11.1\n",
      " |  \n",
      " |  set_positions(*args, **kwds)\n",
      " |      `set_positions` is deprecated!\n",
      " |      This will be removed in version 0.16.0; use `positions` property instead\n",
      " |      \n",
      " |      Set the positions for all atoms in the group.\n",
      " |      \n",
      " |              :Arguments:\n",
      " |                 *coords*\n",
      " |                     a Nx3 :class:`numpy.ndarray` where N is the number of\n",
      " |                     atoms in this atom group.\n",
      " |      \n",
      " |              :Keywords:\n",
      " |                 *ts*\n",
      " |                    :class:`~MDAnalysis.coordinates.base.Timestep`, defaults\n",
      " |                    to ``None`` and then the current time step is used.\n",
      " |      \n",
      " |              .. Note::\n",
      " |      \n",
      " |                 If the group contains N atoms and *coord* is a single point (i.e. an\n",
      " |                 array of length 3) then all N atom positions are set to *coord* (due\n",
      " |                 to numpy's broadcasting rules), as described for\n",
      " |                 :attr:`~AtomGroup.positions`.\n",
      " |      \n",
      " |              See also :meth:`~AtomGroup.get_positions` and attribute access through\n",
      " |              :attr:`~AtomGroup.positions`.\n",
      " |      \n",
      " |              .. versionadded:: 0.7.6\n",
      " |  \n",
      " |  set_radii(*args, **kwds)\n",
      " |      `set_radii` is deprecated!\n",
      " |      This will be removed in version 0.16.0; use `radii` property instead\n",
      " |      \n",
      " |      Set the atom radii to float *radius* for **all atoms** in the AtomGroup.\n",
      " |      \n",
      " |              If *radius* is a sequence of the same length as the :class:`AtomGroup`\n",
      " |              then each :attr:`Atom.radius` is set to the corresponding value. If\n",
      " |              *value* is neither of length 1 (or a scalar) nor of the length of the\n",
      " |              :class:`AtomGroup` then a :exc:`ValueError` is raised.\n",
      " |      \n",
      " |              .. versionadded:: 0.7.4\n",
      " |              .. versionchanged:: 0.8\n",
      " |                 Can set atoms and residues to distinct values by providing a sequence or iterable.\n",
      " |              .. versionchanged:: 0.11.0\n",
      " |                 Made plural to make consistent with corresponding property\n",
      " |  \n",
      " |  set_radius(*args, **kwds)\n",
      " |      `set_radius` is deprecated, use `set_radii` instead!\n",
      " |      This will be removed in version 0.16.0\n",
      " |      \n",
      " |      `set_radii` is deprecated!\n",
      " |      This will be removed in version 0.16.0; use `radii` property instead\n",
      " |      \n",
      " |      Set the atom radii to float *radius* for **all atoms** in the AtomGroup.\n",
      " |      \n",
      " |              If *radius* is a sequence of the same length as the :class:`AtomGroup`\n",
      " |              then each :attr:`Atom.radius` is set to the corresponding value. If\n",
      " |              *value* is neither of length 1 (or a scalar) nor of the length of the\n",
      " |              :class:`AtomGroup` then a :exc:`ValueError` is raised.\n",
      " |      \n",
      " |              .. versionadded:: 0.7.4\n",
      " |              .. versionchanged:: 0.8\n",
      " |                 Can set atoms and residues to distinct values by providing a sequence or iterable.\n",
      " |              .. versionchanged:: 0.11.0\n",
      " |                 Made plural to make consistent with corresponding property\n",
      " |  \n",
      " |  set_resid(*args, **kwds)\n",
      " |      `set_resid` is deprecated, use `set_resids` instead!\n",
      " |      This will be removed in version 0.16.0\n",
      " |      \n",
      " |      `set_resids` is deprecated!\n",
      " |      This will be removed in version 0.16.0; use `resids` property instead\n",
      " |      \n",
      " |      Set the resids to integer *resid* for **all atoms** in the :class:`AtomGroup`.\n",
      " |      \n",
      " |              If *resid* is a sequence of the same length as the :class:`AtomGroup`\n",
      " |              then each :attr:`Atom.resid` is set to the corresponding value together\n",
      " |              with the :attr:`Residue.resid` of the residue the atom belongs to. If\n",
      " |              *value* is neither of length 1 (or a scalar) nor of the length of the\n",
      " |              :class:`AtomGroup` then a :exc:`ValueError` is raised.\n",
      " |      \n",
      " |              .. Note::\n",
      " |      \n",
      " |                 Changing resids can change the topology.\n",
      " |      \n",
      " |                 Assigning the same *resid* to multiple residues will\n",
      " |                 **merge** these residues. Assigning different *resid* to\n",
      " |                 atoms in the same residue will **split** a residue (and\n",
      " |                 potentially merge with another one).\n",
      " |      \n",
      " |              .. versionadded:: 0.7.4\n",
      " |              .. versionchanged:: 0.7.5\n",
      " |                 Also changes the residues.\n",
      " |              .. versionchanged:: 0.8\n",
      " |                 Can set atoms and residues to distinct values by providing a\n",
      " |                 sequence or iterable and can change the topology via\n",
      " |                 :func:`MDAnalysis.topology.core.build_residues`.\n",
      " |              .. versionchanged:: 0.11.0\n",
      " |                 Made plural to make consistent with corresponding property\n",
      " |  \n",
      " |  set_resids(*args, **kwds)\n",
      " |      `set_resids` is deprecated!\n",
      " |      This will be removed in version 0.16.0; use `resids` property instead\n",
      " |      \n",
      " |      Set the resids to integer *resid* for **all atoms** in the :class:`AtomGroup`.\n",
      " |      \n",
      " |              If *resid* is a sequence of the same length as the :class:`AtomGroup`\n",
      " |              then each :attr:`Atom.resid` is set to the corresponding value together\n",
      " |              with the :attr:`Residue.resid` of the residue the atom belongs to. If\n",
      " |              *value* is neither of length 1 (or a scalar) nor of the length of the\n",
      " |              :class:`AtomGroup` then a :exc:`ValueError` is raised.\n",
      " |      \n",
      " |              .. Note::\n",
      " |      \n",
      " |                 Changing resids can change the topology.\n",
      " |      \n",
      " |                 Assigning the same *resid* to multiple residues will\n",
      " |                 **merge** these residues. Assigning different *resid* to\n",
      " |                 atoms in the same residue will **split** a residue (and\n",
      " |                 potentially merge with another one).\n",
      " |      \n",
      " |              .. versionadded:: 0.7.4\n",
      " |              .. versionchanged:: 0.7.5\n",
      " |                 Also changes the residues.\n",
      " |              .. versionchanged:: 0.8\n",
      " |                 Can set atoms and residues to distinct values by providing a\n",
      " |                 sequence or iterable and can change the topology via\n",
      " |                 :func:`MDAnalysis.topology.core.build_residues`.\n",
      " |              .. versionchanged:: 0.11.0\n",
      " |                 Made plural to make consistent with corresponding property\n",
      " |  \n",
      " |  set_resname(*args, **kwds)\n",
      " |      `set_resname` is deprecated, use `set_resnames` instead!\n",
      " |      This will be removed in version 0.16.0\n",
      " |      \n",
      " |      `set_resnames` is deprecated!\n",
      " |      This will be removed in version 0.16.0; use `resnames` property instead\n",
      " |      \n",
      " |      Set the resnames to string *resname* for **all atoms** in the :class:`AtomGroup`.\n",
      " |      \n",
      " |              If *resname* is a sequence of the same length as the :class:`AtomGroup`\n",
      " |              then each :attr:`Atom.resname` is set to the corresponding value together\n",
      " |              with the :attr:`Residue.resname` of the residue the atom belongs to. If\n",
      " |              *value* is neither of length 1 (or a scalar) nor of the length of the\n",
      " |              :class:`AtomGroup` then a :exc:`ValueError` is raised.\n",
      " |      \n",
      " |              .. versionadded:: 0.7.4\n",
      " |              .. versionchanged:: 0.7.5\n",
      " |                 Also changes the residues.\n",
      " |              .. versionchanged:: 0.8\n",
      " |                 Can set atoms and residues to distinct values by providing a sequence or iterable.\n",
      " |              .. versionchanged:: 0.11.0\n",
      " |                 Made plural to make consistent with corresponding property\n",
      " |  \n",
      " |  set_resnames(*args, **kwds)\n",
      " |      `set_resnames` is deprecated!\n",
      " |      This will be removed in version 0.16.0; use `resnames` property instead\n",
      " |      \n",
      " |      Set the resnames to string *resname* for **all atoms** in the :class:`AtomGroup`.\n",
      " |      \n",
      " |              If *resname* is a sequence of the same length as the :class:`AtomGroup`\n",
      " |              then each :attr:`Atom.resname` is set to the corresponding value together\n",
      " |              with the :attr:`Residue.resname` of the residue the atom belongs to. If\n",
      " |              *value* is neither of length 1 (or a scalar) nor of the length of the\n",
      " |              :class:`AtomGroup` then a :exc:`ValueError` is raised.\n",
      " |      \n",
      " |              .. versionadded:: 0.7.4\n",
      " |              .. versionchanged:: 0.7.5\n",
      " |                 Also changes the residues.\n",
      " |              .. versionchanged:: 0.8\n",
      " |                 Can set atoms and residues to distinct values by providing a sequence or iterable.\n",
      " |              .. versionchanged:: 0.11.0\n",
      " |                 Made plural to make consistent with corresponding property\n",
      " |  \n",
      " |  set_resnum(*args, **kwds)\n",
      " |      `set_resnum` is deprecated, use `set_resnums` instead!\n",
      " |      This will be removed in version 0.16.0\n",
      " |      \n",
      " |      `set_resnums` is deprecated!\n",
      " |      This will be removed in version 0.16.0; use `resnums` property instead\n",
      " |      \n",
      " |      Set the resnums to *resnum* for **all atoms** in the :class:`AtomGroup`.\n",
      " |      \n",
      " |              If *resnum* is a sequence of the same length as the :class:`AtomGroup`\n",
      " |              then each :attr:`Atom.resnum` is set to the corresponding value together\n",
      " |              with the :attr:`Residue.resnum` of the residue the atom belongs to. If\n",
      " |              *value* is neither of length 1 (or a scalar) nor of the length of the\n",
      " |              :class:`AtomGroup` then a :exc:`ValueError` is raised.\n",
      " |      \n",
      " |              .. Note::\n",
      " |      \n",
      " |                 Changing *resnum* will not affect the topology: you can have\n",
      " |                 multiple residues with the same *resnum*.\n",
      " |      \n",
      " |              .. SeeAlso:: :meth:`set_resid`\n",
      " |      \n",
      " |              .. versionadded:: 0.7.4\n",
      " |              .. versionchanged:: 0.7.5\n",
      " |                 Also changes the residues.\n",
      " |              .. versionchanged:: 0.8\n",
      " |                 Can set atoms and residues to distinct values by providing a sequence or iterable.\n",
      " |              .. versionchanged:: 0.11.0\n",
      " |                 Made plural to make consistent with corresponding property\n",
      " |  \n",
      " |  set_resnums(*args, **kwds)\n",
      " |      `set_resnums` is deprecated!\n",
      " |      This will be removed in version 0.16.0; use `resnums` property instead\n",
      " |      \n",
      " |      Set the resnums to *resnum* for **all atoms** in the :class:`AtomGroup`.\n",
      " |      \n",
      " |              If *resnum* is a sequence of the same length as the :class:`AtomGroup`\n",
      " |              then each :attr:`Atom.resnum` is set to the corresponding value together\n",
      " |              with the :attr:`Residue.resnum` of the residue the atom belongs to. If\n",
      " |              *value* is neither of length 1 (or a scalar) nor of the length of the\n",
      " |              :class:`AtomGroup` then a :exc:`ValueError` is raised.\n",
      " |      \n",
      " |              .. Note::\n",
      " |      \n",
      " |                 Changing *resnum* will not affect the topology: you can have\n",
      " |                 multiple residues with the same *resnum*.\n",
      " |      \n",
      " |              .. SeeAlso:: :meth:`set_resid`\n",
      " |      \n",
      " |              .. versionadded:: 0.7.4\n",
      " |              .. versionchanged:: 0.7.5\n",
      " |                 Also changes the residues.\n",
      " |              .. versionchanged:: 0.8\n",
      " |                 Can set atoms and residues to distinct values by providing a sequence or iterable.\n",
      " |              .. versionchanged:: 0.11.0\n",
      " |                 Made plural to make consistent with corresponding property\n",
      " |  \n",
      " |  set_segid(*args, **kwds)\n",
      " |      `set_segid` is deprecated, use `set_segids` instead!\n",
      " |      This will be removed in version 0.16.0\n",
      " |      \n",
      " |      `set_segids` is deprecated!\n",
      " |      This will be removed in version 0.16.0; use `segids` property instead\n",
      " |      \n",
      " |      Set the segids to *segid* for all atoms in the :class:`AtomGroup`.\n",
      " |      \n",
      " |              If *segid* is a sequence of the same length as the :class:`AtomGroup`\n",
      " |              then each :attr:`Atom.segid` is set to the corresponding value together\n",
      " |              with the :attr:`Segment.segid` of the residue the atom belongs to. If\n",
      " |              *value* is neither of length 1 (or a scalar) nor of the length of the\n",
      " |              :class:`AtomGroup` then a :exc:`ValueError` is raised.\n",
      " |      \n",
      " |              .. Note::\n",
      " |      \n",
      " |                 :meth:`set_segid` can change the topology.\n",
      " |      \n",
      " |              .. versionadded:: 0.7.4\n",
      " |              .. versionchanged:: 0.8\n",
      " |                 Can set atoms and residues to distinct values by providing a sequence or iterable.\n",
      " |              .. versionchanged:: 0.11.0\n",
      " |                 Stale caches are problematic; though it can be expensive, changing segid\n",
      " |                 results in Segments being regenerated\n",
      " |              .. versionchanged:: 0.11.0\n",
      " |                 Made plural to make consistent with corresponding property\n",
      " |  \n",
      " |  set_segids(*args, **kwds)\n",
      " |      `set_segids` is deprecated!\n",
      " |      This will be removed in version 0.16.0; use `segids` property instead\n",
      " |      \n",
      " |      Set the segids to *segid* for all atoms in the :class:`AtomGroup`.\n",
      " |      \n",
      " |              If *segid* is a sequence of the same length as the :class:`AtomGroup`\n",
      " |              then each :attr:`Atom.segid` is set to the corresponding value together\n",
      " |              with the :attr:`Segment.segid` of the residue the atom belongs to. If\n",
      " |              *value* is neither of length 1 (or a scalar) nor of the length of the\n",
      " |              :class:`AtomGroup` then a :exc:`ValueError` is raised.\n",
      " |      \n",
      " |              .. Note::\n",
      " |      \n",
      " |                 :meth:`set_segid` can change the topology.\n",
      " |      \n",
      " |              .. versionadded:: 0.7.4\n",
      " |              .. versionchanged:: 0.8\n",
      " |                 Can set atoms and residues to distinct values by providing a sequence or iterable.\n",
      " |              .. versionchanged:: 0.11.0\n",
      " |                 Stale caches are problematic; though it can be expensive, changing segid\n",
      " |                 results in Segments being regenerated\n",
      " |              .. versionchanged:: 0.11.0\n",
      " |                 Made plural to make consistent with corresponding property\n",
      " |  \n",
      " |  set_serial(*args, **kwds)\n",
      " |      `set_serial` is deprecated, use `set_serials` instead!\n",
      " |      This will be removed in version 0.16.0\n",
      " |      \n",
      " |      `set_serials` is deprecated!\n",
      " |      This will be removed in version 0.16.0; use `serials` property instead\n",
      " |      \n",
      " |      Set the serials to *serial* for **all atoms** in the AtomGroup.\n",
      " |      \n",
      " |              If *serial* is a sequence of the same length as the :class:`AtomGroup`\n",
      " |              then each :attr:`Atom.serial` is set to the corresponding value. If\n",
      " |              *value* is neither of length 1 (or a scalar) nor of the length of the\n",
      " |              :class:`AtomGroup` then a :exc:`ValueError` is raised.\n",
      " |      \n",
      " |              .. versionadded:: 0.11.0\n",
      " |  \n",
      " |  set_serials(*args, **kwds)\n",
      " |      `set_serials` is deprecated!\n",
      " |      This will be removed in version 0.16.0; use `serials` property instead\n",
      " |      \n",
      " |      Set the serials to *serial* for **all atoms** in the AtomGroup.\n",
      " |      \n",
      " |              If *serial* is a sequence of the same length as the :class:`AtomGroup`\n",
      " |              then each :attr:`Atom.serial` is set to the corresponding value. If\n",
      " |              *value* is neither of length 1 (or a scalar) nor of the length of the\n",
      " |              :class:`AtomGroup` then a :exc:`ValueError` is raised.\n",
      " |      \n",
      " |              .. versionadded:: 0.11.0\n",
      " |  \n",
      " |  set_type(*args, **kwds)\n",
      " |      `set_type` is deprecated, use `set_types` instead!\n",
      " |      This will be removed in version 0.16.0\n",
      " |      \n",
      " |      `set_types` is deprecated!\n",
      " |      This will be removed in version 0.16.0; use `types` property instead\n",
      " |      \n",
      " |      Set the atom types to *atype* for **all atoms** in the AtomGroup.\n",
      " |      \n",
      " |              If *atype* is a sequence of the same length as the :class:`AtomGroup`\n",
      " |              then each :attr:`Atom.atype` is set to the corresponding value. If\n",
      " |              *value* is neither of length 1 (or a scalar) nor of the length of the\n",
      " |              :class:`AtomGroup` then a :exc:`ValueError` is raised.\n",
      " |      \n",
      " |              .. versionadded:: 0.7.4\n",
      " |              .. versionchanged:: 0.8\n",
      " |                 Can set atoms and residues to distinct values by providing a sequence or iterable.\n",
      " |              .. versionchanged:: 0.11.0\n",
      " |                 Made plural to make consistent with corresponding property\n",
      " |  \n",
      " |  set_types(*args, **kwds)\n",
      " |      `set_types` is deprecated!\n",
      " |      This will be removed in version 0.16.0; use `types` property instead\n",
      " |      \n",
      " |      Set the atom types to *atype* for **all atoms** in the AtomGroup.\n",
      " |      \n",
      " |              If *atype* is a sequence of the same length as the :class:`AtomGroup`\n",
      " |              then each :attr:`Atom.atype` is set to the corresponding value. If\n",
      " |              *value* is neither of length 1 (or a scalar) nor of the length of the\n",
      " |              :class:`AtomGroup` then a :exc:`ValueError` is raised.\n",
      " |      \n",
      " |              .. versionadded:: 0.7.4\n",
      " |              .. versionchanged:: 0.8\n",
      " |                 Can set atoms and residues to distinct values by providing a sequence or iterable.\n",
      " |              .. versionchanged:: 0.11.0\n",
      " |                 Made plural to make consistent with corresponding property\n",
      " |  \n",
      " |  set_velocities(*args, **kwds)\n",
      " |      `set_velocities` is deprecated!\n",
      " |      This will be removed in version 0.16.0; use `velocities` property instead\n",
      " |      \n",
      " |      Assign the velocities *v* to the timestep.\n",
      " |      \n",
      " |              Raises a :exc:`NoDataError` if the underlying\n",
      " |              :class:`~MDAnalysis.coordinates.base.Timestep` does not contain\n",
      " |              :attr:`~MDAnalysis.coordinates.base.Timestep.velocities`.\n",
      " |      \n",
      " |              See also :meth:`AtomGroup.get_velocities` and :attr:`AtomGroup.velocities` for\n",
      " |              attribute access.\n",
      " |      \n",
      " |              .. versionadded:: 0.7.6\n",
      " |  \n",
      " |  shapeParameter(*args, **kwds)\n",
      " |      `shapeParameter` is deprecated, use `shape_parameter` instead!\n",
      " |      This will be removed in version 0.16.0\n",
      " |      \n",
      " |      Shape parameter.\n",
      " |      \n",
      " |              See [Dima2004]_ for background information.\n",
      " |      \n",
      " |              :Keywords:\n",
      " |                *pbc*\n",
      " |                  ``True``: Move all atoms within the primary unit cell before calculation [``False``]\n",
      " |      \n",
      " |              .. Note::\n",
      " |                  The :class:`MDAnalysis.core.flags` flag *use_pbc* when set to ``True`` allows the *pbc*\n",
      " |                  flag to be used by default.\n",
      " |      \n",
      " |              .. versionadded:: 0.7.7\n",
      " |              .. versionchanged:: 0.8 Added *pbc* keyword\n",
      " |  \n",
      " |  shape_parameter(self, **kwargs)\n",
      " |      Shape parameter.\n",
      " |      \n",
      " |      See [Dima2004]_ for background information.\n",
      " |      \n",
      " |      :Keywords:\n",
      " |        *pbc*\n",
      " |          ``True``: Move all atoms within the primary unit cell before calculation [``False``]\n",
      " |      \n",
      " |      .. Note::\n",
      " |          The :class:`MDAnalysis.core.flags` flag *use_pbc* when set to ``True`` allows the *pbc*\n",
      " |          flag to be used by default.\n",
      " |      \n",
      " |      .. versionadded:: 0.7.7\n",
      " |      .. versionchanged:: 0.8 Added *pbc* keyword\n",
      " |  \n",
      " |  split(self, level)\n",
      " |      Split atomgroup into a list of atomgroups by *level*.\n",
      " |      \n",
      " |      *level* can be \"atom\", \"residue\", \"segment\".\n",
      " |      .. versionadded:: 0.9.0\n",
      " |  \n",
      " |  totalCharge(*args, **kwds)\n",
      " |      `totalCharge` is deprecated, use `total_charge` instead!\n",
      " |      This will be removed in version 0.16.0\n",
      " |      \n",
      " |      Sum of all partial charges (must be defined in topology).\n",
      " |  \n",
      " |  totalMass(*args, **kwds)\n",
      " |      `totalMass` is deprecated, use `total_mass` instead!\n",
      " |      This will be removed in version 0.16.0\n",
      " |      \n",
      " |      Total mass of the selection (masses are taken from the topology or guessed).\n",
      " |  \n",
      " |  total_charge(self)\n",
      " |      Sum of all partial charges (must be defined in topology).\n",
      " |  \n",
      " |  total_mass(self)\n",
      " |      Total mass of the selection (masses are taken from the topology or guessed).\n",
      " |  \n",
      " |  transform(self, M)\n",
      " |      Apply homogenous transformation matrix *M* to the coordinates.\n",
      " |      \n",
      " |      The matrix *M* must be a 4x4 matrix, with the rotation in\n",
      " |      `R = `M[:3,:3]`` and the translation in ``t = M[:3,3]``.\n",
      " |      \n",
      " |      The rotation :math:`\\mathsf{R}` is applied before the\n",
      " |      translation :math:`\\mathbf{t}`:\n",
      " |      \n",
      " |      .. math::\n",
      " |      \n",
      " |         \\mathbf{x}' = \\mathsf{R}\\mathbf{x} + \\mathbf{t}\n",
      " |      \n",
      " |      .. SeeAlso: :mod:`MDAnalysis.core.transformations`\n",
      " |  \n",
      " |  translate(self, t)\n",
      " |      Apply translation vector *t* to the selection's coordinates.\n",
      " |      \n",
      " |        >>> AtomGroup.translate(t)\n",
      " |        >>> AtomGroup.translate((A, B))\n",
      " |      \n",
      " |      The method applies a translation to the AtomGroup from current\n",
      " |      coordinates :math:`\\mathbf{x}` to new coordinates :math:`\\mathbf{x}'`:\n",
      " |      \n",
      " |      .. math::\n",
      " |      \n",
      " |          \\mathbf{x}' = \\mathbf{x} + \\mathbf{t}\n",
      " |      \n",
      " |      The translation can also be given as a tuple of two MDAnalysis objects\n",
      " |      such as two selections `(selA, selB)`, i.e. two :class:`AtomGroup`, or\n",
      " |      two :class:`Atom`. The translation vector is computed as the\n",
      " |      difference between the centers of geometry (centroid) of B and A::\n",
      " |      \n",
      " |          t = B.centroid() - A.centroid()\n",
      " |  \n",
      " |  wrap(self, compound='atoms', center='com', box=None)\n",
      " |      Shift the contents of this AtomGroup back into the unit cell.\n",
      " |      \n",
      " |      This is a more powerful version of :meth:`pack_into_box`, allowing\n",
      " |      groups of atoms to be kept together through the process.\n",
      " |      \n",
      " |      :Keywords:\n",
      " |         *compound*\n",
      " |             The group which will be kept together through the shifting\n",
      " |             process. [``atoms``]\n",
      " |      \n",
      " |             Possible options:\n",
      " |      \n",
      " |                 - ``atoms``\n",
      " |                 - ``group`` - This AtomGroup\n",
      " |                 - ``residues``\n",
      " |                 - ``segments``\n",
      " |                 - ``fragments``\n",
      " |      \n",
      " |         *center*\n",
      " |             How to define the center of a given group of atoms [``com``]\n",
      " |         *box*\n",
      " |             Unit cell information.  If not provided, the values from\n",
      " |             Timestep will be used.\n",
      " |      \n",
      " |      When specifying a *compound*, the translation is calculated based on\n",
      " |      each compound. The same translation is applied to all atoms\n",
      " |      within this compound, meaning it will not be broken by the shift.\n",
      " |      This might however mean that all atoms from the compound are not\n",
      " |      inside the unit cell, but rather the center of the compound is.\n",
      " |      Compounds available for use are *atoms*, *residues*,\n",
      " |      *segments* and *fragments*\n",
      " |      \n",
      " |      *center* allows the definition of the center of each group to be\n",
      " |      specified.  This can be either 'com' for center of mass, or 'cog'\n",
      " |      for center of geometry.\n",
      " |      \n",
      " |      *box* allows a unit cell to be given for the transformation.  If not\n",
      " |      specified, an the dimensions information from the current Timestep\n",
      " |      will be used.\n",
      " |      \n",
      " |      .. Note::\n",
      " |         wrap with all default keywords is identical to :meth:`pack_into_box`\n",
      " |      \n",
      " |      .. versionadded:: 0.9.2\n",
      " |  \n",
      " |  write(self, filename=None, format='PDB', filenamefmt='%(trjname)s_%(frame)d', **kwargs)\n",
      " |      Write AtomGroup to a file.\n",
      " |      \n",
      " |      AtomGroup.write(filename[,format])\n",
      " |      \n",
      " |      :Keywords:\n",
      " |        *filename*\n",
      " |             ``None``: create TRJNAME_FRAME.FORMAT from filenamefmt [``None``]\n",
      " |        *format*\n",
      " |              PDB, CRD, GRO, VMD (tcl), PyMol (pml), Gromacs (ndx) CHARMM (str)\n",
      " |              Jmol (spt); case-insensitive and can also be supplied as the\n",
      " |              filename extension [PDB]\n",
      " |        *filenamefmt*\n",
      " |              format string for default filename; use substitution tokens\n",
      " |              'trjname' and 'frame' [\"%(trjname)s_%(frame)d\"]\n",
      " |        *bonds*\n",
      " |              how to handle bond information, especially relevant for PDBs;\n",
      " |              default is ``\"conect\"``.\n",
      " |      \n",
      " |              * ``\"conect\"``: write only the CONECT records defined in the original\n",
      " |                file\n",
      " |      \n",
      " |              * ``\"all\"``: write out all bonds, both the original defined and those\n",
      " |                guessed by MDAnalysis\n",
      " |      \n",
      " |              * ``None``: do not write out bonds\n",
      " |      \n",
      " |      .. versionchanged:: 0.9.0\n",
      " |         Merged with write_selection.  This method can now write both\n",
      " |         selections out.\n",
      " |  \n",
      " |  write_selection(*args, **kwds)\n",
      " |      `write_selection` is deprecated!\n",
      " |      This will be removed in version 0.16.0; use `write` method instead\n",
      " |      \n",
      " |      Write AtomGroup selection to a file to be used in another programme.\n",
      " |      \n",
      " |              :Keywords:\n",
      " |                *filename*\n",
      " |                      ``None``: create TRJNAME_FRAME.FORMAT from *filenamefmt*\n",
      " |                *format*\n",
      " |                      output file format: VMD (tcl), PyMol (pml), Gromacs (ndx), CHARMM (str);\n",
      " |                      can also be supplied as the filename extension. Case insensitive. [vmd]\n",
      " |                *filenamefmt*\n",
      " |                      format string for default filename; use '%(trjname)s' and '%(frame)s'\n",
      " |                      placeholders; the extension is set according to the *format*\n",
      " |                      [\"%(trjname)s_%(frame)d\"]\n",
      " |                *kwargs*\n",
      " |                      additional keywords are passed on to the appropriate\n",
      " |                      :class:`~MDAnalysis.selections.base.SelectionWriter`\n",
      " |      \n",
      " |              .. deprecated:: 0.9.0\n",
      " |                 Use :meth:`write`\n",
      " |  \n",
      " |  ----------------------------------------------------------------------\n",
      " |  Data descriptors defined here:\n",
      " |  \n",
      " |  __dict__\n",
      " |      dictionary for instance variables (if defined)\n",
      " |  \n",
      " |  __weakref__\n",
      " |      list of weak references to the object (if defined)\n",
      " |  \n",
      " |  altLocs\n",
      " |  \n",
      " |  angle\n",
      " |      This AtomGroup represented as an Angle object\n",
      " |      \n",
      " |      :Returns:\n",
      " |        A :class:`MDAnalysis.core.topologyobjects.Angle` object\n",
      " |      \n",
      " |      :Raises:\n",
      " |        `ValueError` if the AtomGroup is not length 3\n",
      " |      \n",
      " |      .. versionadded:: 0.11.0\n",
      " |  \n",
      " |  angles\n",
      " |  \n",
      " |  atoms\n",
      " |      :class:`AtomGroup` of all atoms in this group.\n",
      " |      \n",
      " |      If this is a :class:`AtomGroup` then it returns itself. Otherwise, it\n",
      " |      will return a new :class:`AtomGroup` based on all :class:`Atom`\n",
      " |      instances contained.\n",
      " |      \n",
      " |      Apply `:func:`list` to :attr:`atoms` or use :attr:`_atoms` if you\n",
      " |      really only need a list of individual :class:`Atom` instances.\n",
      " |  \n",
      " |  bfactors\n",
      " |  \n",
      " |  bond\n",
      " |      This AtomGroup represented as a Bond object\n",
      " |      \n",
      " |      :Returns:\n",
      " |        A :class:`MDAnalysis.core.topologyobjects.Bond` object\n",
      " |      \n",
      " |      :Raises:\n",
      " |        `ValueError` if the AtomGroup is not length 2\n",
      " |      \n",
      " |      .. versionadded:: 0.11.0\n",
      " |  \n",
      " |  bonds\n",
      " |  \n",
      " |  charges\n",
      " |  \n",
      " |  dihedral\n",
      " |      This AtomGroup represented as a Dihedral object\n",
      " |      \n",
      " |      :Returns:\n",
      " |        A :class:`MDAnalysis.core.topologyobjects.Dihedral` object\n",
      " |      \n",
      " |      :Raises:\n",
      " |        `ValueError` if the AtomGroup is not length 4\n",
      " |      \n",
      " |      .. versionadded:: 0.11.0\n",
      " |  \n",
      " |  dihedrals\n",
      " |  \n",
      " |  dimensions\n",
      " |      Dimensions of the Universe to which the group belongs, at the current time step.\n",
      " |  \n",
      " |  forces\n",
      " |      Forces on the atoms in the AtomGroup.\n",
      " |      \n",
      " |      The forces can be changed by assigning an array of the appropriate\n",
      " |      shape, i.e. either Nx3 to assign individual force or 3, to assign\n",
      " |      the *same* force to all atoms (e.g. ``ag.forces = array([0,0,0])``\n",
      " |      will set all forces to (0.,0.,0.)).\n",
      " |      \n",
      " |      For more control use the :meth:`~AtomGroup.get_forces` and\n",
      " |      :meth:`~AtomGroup.set_forces` methods.\n",
      " |      \n",
      " |      .. versionadded:: 0.7.7\n",
      " |  \n",
      " |  fragments\n",
      " |      Read-only list of fragments.\n",
      " |      \n",
      " |      Contains all fragments that any Atom in this AtomGroup is part of, the contents of\n",
      " |      the fragments may extend beyond the contents of this AtomGroup.\n",
      " |      \n",
      " |      .. versionadded 0.9.0\n",
      " |  \n",
      " |  ids\n",
      " |  \n",
      " |  improper\n",
      " |      This AtomGroup represented as an ImproperDihedral object\n",
      " |      \n",
      " |      :Returns:\n",
      " |        A :class:`MDAnalysis.core.topologyobjects.ImproperDihedral` object\n",
      " |      \n",
      " |      :Raises:\n",
      " |        `ValueError` if the AtomGroup is not length 4\n",
      " |      \n",
      " |      .. versionadded:: 0.11.0\n",
      " |  \n",
      " |  impropers\n",
      " |  \n",
      " |  indices\n",
      " |  \n",
      " |  masses\n",
      " |  \n",
      " |  n_atoms\n",
      " |      Total number of atoms in the group\n",
      " |  \n",
      " |  n_residues\n",
      " |      Total number of residues in the group\n",
      " |  \n",
      " |  n_segments\n",
      " |      Total number of segments in the group\n",
      " |  \n",
      " |  names\n",
      " |  \n",
      " |  occupancies\n",
      " |  \n",
      " |  positions\n",
      " |      Coordinates of the atoms in the AtomGroup.\n",
      " |      \n",
      " |      The positions can be changed by assigning an array of the appropriate\n",
      " |      shape, i.e. either Nx3 to assign individual coordinates or 3, to assign\n",
      " |      the *same* coordinate to all atoms (e.g. ``ag.positions = array([0,0,0])``\n",
      " |      will move all particles to the origin).\n",
      " |      \n",
      " |      .. versionadded:: 0.7.6\n",
      " |  \n",
      " |  radii\n",
      " |  \n",
      " |  resids\n",
      " |  \n",
      " |  residues\n",
      " |      Read-only list of :class:`Residue` objects.\n",
      " |      \n",
      " |      A :class:`ResidueGroup` of all residues that contain atoms in\n",
      " |      this group.\n",
      " |      \n",
      " |      .. versionchanged:: 0.9.0\n",
      " |         Now returns strictly a ResidueGroup of the unique Residues that Atoms in this group\n",
      " |         belong to.\n",
      " |  \n",
      " |  resnames\n",
      " |  \n",
      " |  resnums\n",
      " |  \n",
      " |  segids\n",
      " |  \n",
      " |  segments\n",
      " |      Read-only list of :class:`Segment` objects.\n",
      " |      \n",
      " |      A :class:`SegmentGroup` of all segments that contain atoms in this group.\n",
      " |      \n",
      " |      .. versionchanged:: 0.9.0\n",
      " |         Now strictly returns a :class:`SegmentGroup` of a set of\n",
      " |         the :class:`Segment` instances from this :class:`AtomGroup`\n",
      " |  \n",
      " |  serials\n",
      " |      `serials` is deprecated!\n",
      " |      This will be removed in version 0.16.0; use `ids` property instead\n",
      " |      \n",
      " |      numpy array of the serials for all atoms in this group\n",
      " |      \n",
      " |              .. versionadded:: 0.11.0\n",
      " |  \n",
      " |  ts\n",
      " |      Returns a Timestep that contains only the group's coordinates.\n",
      " |      \n",
      " |      Returns\n",
      " |      -------\n",
      " |      A :class:`~MDAnalysis.coordinates.base.Timestep` instance,\n",
      " |      which can be passed to a trajectory writer.\n",
      " |      \n",
      " |      If the returned timestep is modified the modifications\n",
      " |      will not be reflected in the base timestep. Likewise,\n",
      " |      when the underlying timestep changes (either by loading a\n",
      " |      new frame or by setting new positions by hand) the returned\n",
      " |      timestep will not reflect those changes.\n",
      " |  \n",
      " |  types\n",
      " |  \n",
      " |  universe\n",
      " |      The universe to which the atoms belong (read-only).\n",
      " |  \n",
      " |  velocities\n",
      " |      numpy array of the velocities of the atoms in the group.\n",
      " |      \n",
      " |      If the trajectory does not contain velocity information then a\n",
      " |      :exc:`~MDAnalysis.NoDataError` is raised.\n",
      " |      \n",
      " |      .. versionadded:: 0.7.5\n",
      " |      .. deprecated:: 0.7.6\n",
      " |         In 0.8 this will become an attribute! You can already use :meth:`get_velocities`\n",
      " |         and :meth:`set_velocities`.\n",
      " |      .. versionchanged:: 0.8\n",
      " |         Became an attribute.\n",
      "\n"
     ]
    }
   ],
   "source": [
    "help(u.atoms[100:130])"
   ]
  },
  {
   "cell_type": "markdown",
   "metadata": {},
   "source": [
    "Larger organizational units are Segment instances, for example one protein or all the solvent molecules or simply the whole system. Atom, AtomGroup, Residue, and ResidueGroup have an attribute segments that will list the segment IDs (“segids”) as a SegmentGroup:"
   ]
  },
  {
   "cell_type": "code",
   "execution_count": 13,
   "metadata": {
    "collapsed": false
   },
   "outputs": [
    {
     "data": {
      "text/plain": [
       "<SegmentGroup [<Segment 4AKE>]>"
      ]
     },
     "execution_count": 13,
     "metadata": {},
     "output_type": "execute_result"
    }
   ],
   "source": [
    "u.atoms.segments"
   ]
  },
  {
   "cell_type": "markdown",
   "metadata": {},
   "source": [
    "The converse is also true: each “higher” level in the hierarchy also know about the Residue and Atom instances it contains. For example, to list the atoms of the ResidueGroup we had before:"
   ]
  },
  {
   "cell_type": "code",
   "execution_count": 14,
   "metadata": {
    "collapsed": false
   },
   "outputs": [
    {
     "data": {
      "text/plain": [
       "<AtomGroup with 36 atoms>"
      ]
     },
     "execution_count": 14,
     "metadata": {},
     "output_type": "execute_result"
    }
   ],
   "source": [
    "r = u.atoms[100:130].residues\n",
    "r.atoms"
   ]
  },
  {
   "cell_type": "markdown",
   "metadata": {},
   "source": [
    "#### Exercise 1"
   ]
  },
  {
   "cell_type": "markdown",
   "metadata": {},
   "source": [
    "What residue (“resname”) does the last atom belong to in the above example?"
   ]
  },
  {
   "cell_type": "code",
   "execution_count": 15,
   "metadata": {
    "collapsed": false
   },
   "outputs": [
    {
     "data": {
      "text/plain": [
       "<Atom 136: O of type 70 of resname ALA, resid 8 and segid 4AKE>"
      ]
     },
     "execution_count": 15,
     "metadata": {},
     "output_type": "execute_result"
    }
   ],
   "source": [
    "r = u.atoms[100:130].residues\n",
    "r.atoms[-1]"
   ]
  },
  {
   "cell_type": "markdown",
   "metadata": {},
   "source": [
    "Why does the expression"
   ]
  },
  {
   "cell_type": "code",
   "execution_count": 16,
   "metadata": {
    "collapsed": false
   },
   "outputs": [
    {
     "data": {
      "text/plain": [
       "False"
      ]
     },
     "execution_count": 16,
     "metadata": {},
     "output_type": "execute_result"
    }
   ],
   "source": [
    "len(u.atoms[100:130]) == len(u.atoms[100:130].residues.atoms)"
   ]
  },
  {
   "cell_type": "markdown",
   "metadata": {},
   "source": [
    "return false? Because the complete residues contain more atoms than the arbitrary slice of atoms."
   ]
  },
  {
   "cell_type": "markdown",
   "metadata": {},
   "source": [
    "How many residues are in the Universe u?"
   ]
  },
  {
   "cell_type": "code",
   "execution_count": 17,
   "metadata": {
    "collapsed": false
   },
   "outputs": [
    {
     "data": {
      "text/plain": [
       "214"
      ]
     },
     "execution_count": 17,
     "metadata": {},
     "output_type": "execute_result"
    }
   ],
   "source": [
    "len(u.atoms.residues)\n",
    "u.atoms.n_residues"
   ]
  },
  {
   "cell_type": "markdown",
   "metadata": {},
   "source": [
    "How do you get a list of the residue names (such as `[\"Ala\", \"Gly\", \"Gly\", \"Asp\", ...]`) and residue numbers (“resid”) for atoms 1000 to 1300? And as a list of tuples `(resname, resid)` (Hint: `zip()`)?:"
   ]
  },
  {
   "cell_type": "code",
   "execution_count": 18,
   "metadata": {
    "collapsed": false
   },
   "outputs": [
    {
     "data": {
      "text/plain": [
       "[('LEU', 67),\n",
       " ('VAL', 68),\n",
       " ('LYS', 69),\n",
       " ('GLU', 70),\n",
       " ('ARG', 71),\n",
       " ('ILE', 72),\n",
       " ('ALA', 73),\n",
       " ('GLN', 74),\n",
       " ('GLU', 75),\n",
       " ('ASP', 76),\n",
       " ('CYS', 77),\n",
       " ('ARG', 78),\n",
       " ('ASN', 79),\n",
       " ('GLY', 80),\n",
       " ('PHE', 81),\n",
       " ('LEU', 82),\n",
       " ('LEU', 83),\n",
       " ('ASP', 84),\n",
       " ('GLY', 85),\n",
       " ('PHE', 86)]"
      ]
     },
     "execution_count": 18,
     "metadata": {},
     "output_type": "execute_result"
    }
   ],
   "source": [
    "resnames = u.atoms[999:1300].residues.resnames\n",
    "resids = u.atoms[999:1300].residues.resids\n",
    "zip(resnames, resids)"
   ]
  },
  {
   "cell_type": "markdown",
   "metadata": {},
   "source": [
    "How do you obtain the resid and the resname for the 100th residue? (Hint: investigate the Residue object interactively with TAB completion)"
   ]
  },
  {
   "cell_type": "code",
   "execution_count": 19,
   "metadata": {
    "collapsed": false
   },
   "outputs": [
    {
     "name": "stdout",
     "output_type": "stream",
     "text": [
      "(100, 'GLY')\n"
     ]
    },
    {
     "name": "stderr",
     "output_type": "stream",
     "text": [
      "/opt/anaconda2-4.1.1/lib/python2.7/site-packages/numpy/lib/utils.py:99: DeprecationWarning: `id` is deprecated!\n",
      "This will be removed in version 0.16.0; use `resid` property instead\n",
      "  warnings.warn(depdoc, DeprecationWarning)\n",
      "/opt/anaconda2-4.1.1/lib/python2.7/site-packages/numpy/lib/utils.py:99: DeprecationWarning: `name` is deprecated!\n",
      "This will be removed in version 0.16.0; use `resname` property instead\n",
      "  warnings.warn(depdoc, DeprecationWarning)\n"
     ]
    }
   ],
   "source": [
    "r100 = u.atoms.residues[99]\n",
    "print(r100.id, r100.name)"
   ]
  },
  {
   "cell_type": "markdown",
   "metadata": {},
   "source": [
    "How many segments are there?"
   ]
  },
  {
   "cell_type": "code",
   "execution_count": 20,
   "metadata": {
    "collapsed": false
   },
   "outputs": [
    {
     "name": "stdout",
     "output_type": "stream",
     "text": [
      "1\n",
      "1\n",
      "1\n"
     ]
    }
   ],
   "source": [
    "print(len(u.segments))\n",
    "print(len(u.atoms.segments))\n",
    "print(u.atoms.n_segments)"
   ]
  },
  {
   "cell_type": "markdown",
   "metadata": {},
   "source": [
    "What is the segment identifier of the first Segment?"
   ]
  },
  {
   "cell_type": "code",
   "execution_count": 21,
   "metadata": {
    "collapsed": false
   },
   "outputs": [
    {
     "name": "stderr",
     "output_type": "stream",
     "text": [
      "/opt/anaconda2-4.1.1/lib/python2.7/site-packages/numpy/lib/utils.py:99: DeprecationWarning: `id` is deprecated!\n",
      "This will be removed in version 0.16.0; use `segid` property instead\n",
      "  warnings.warn(depdoc, DeprecationWarning)\n"
     ]
    },
    {
     "data": {
      "text/plain": [
       "'4AKE'"
      ]
     },
     "execution_count": 21,
     "metadata": {},
     "output_type": "execute_result"
    }
   ],
   "source": [
    "s1 = u.segments[0]\n",
    "s1.id"
   ]
  },
  {
   "cell_type": "markdown",
   "metadata": {},
   "source": [
    "### Selections"
   ]
  },
  {
   "cell_type": "markdown",
   "metadata": {},
   "source": [
    "MDAnalysis comes with a fairly complete atom selection facility. Primarily, one uses the method [select_atoms()](http://docs.mdanalysis.org/documentation_pages/selections.html) of a Universe:"
   ]
  },
  {
   "cell_type": "code",
   "execution_count": 22,
   "metadata": {
    "collapsed": false
   },
   "outputs": [
    {
     "data": {
      "text/plain": [
       "<AtomGroup with 214 atoms>"
      ]
     },
     "execution_count": 22,
     "metadata": {},
     "output_type": "execute_result"
    }
   ],
   "source": [
    "CA = u.select_atoms(\"protein and name CA\")\n",
    "CA"
   ]
  },
  {
   "cell_type": "markdown",
   "metadata": {},
   "source": [
    "but really any AtomGroup has a selectAtoms() method:"
   ]
  },
  {
   "cell_type": "code",
   "execution_count": 23,
   "metadata": {
    "collapsed": false
   },
   "outputs": [
    {
     "data": {
      "text/plain": [
       "<AtomGroup with 35 atoms>"
      ]
     },
     "execution_count": 23,
     "metadata": {},
     "output_type": "execute_result"
    }
   ],
   "source": [
    "acidic = CA.select_atoms(\"resname ASP or resname GLU\")\n",
    "acidic"
   ]
  },
  {
   "cell_type": "code",
   "execution_count": 24,
   "metadata": {
    "collapsed": false
   },
   "outputs": [
    {
     "data": {
      "text/plain": [
       "<ResidueGroup [<Residue GLU, 22>, <Residue ASP, 33>, <Residue GLU, 44>, <Residue ASP, 51>, <Residue ASP, 54>, <Residue ASP, 61>, <Residue GLU, 62>, <Residue GLU, 70>, <Residue GLU, 75>, <Residue ASP, 76>, <Residue ASP, 84>, <Residue ASP, 94>, <Residue GLU, 98>, <Residue ASP, 104>, <Residue GLU, 108>, <Residue ASP, 110>, <Residue ASP, 113>, <Residue GLU, 114>, <Residue ASP, 118>, <Residue GLU, 143>, <Residue ASP, 146>, <Residue ASP, 147>, <Residue GLU, 151>, <Residue GLU, 152>, <Residue ASP, 158>, <Residue ASP, 159>, <Residue GLU, 161>, <Residue GLU, 162>, <Residue GLU, 170>, <Residue GLU, 185>, <Residue GLU, 187>, <Residue ASP, 197>, <Residue GLU, 204>, <Residue ASP, 208>, <Residue GLU, 210>]>"
      ]
     },
     "execution_count": 24,
     "metadata": {},
     "output_type": "execute_result"
    }
   ],
   "source": [
    "acidic.residues"
   ]
  },
  {
   "cell_type": "markdown",
   "metadata": {},
   "source": [
    "#### Exercise 2"
   ]
  },
  {
   "cell_type": "markdown",
   "metadata": {},
   "source": [
    "Select the range of resids 100 to 200 (“100-200”) with a selection. Compare the result to what you get by slicing the u.atoms.residues appropriately.\n",
    "\n",
    "Which approach would you prefer to use in a analysis script?\n",
    "\n",
    "Solution:"
   ]
  },
  {
   "cell_type": "code",
   "execution_count": 25,
   "metadata": {
    "collapsed": false
   },
   "outputs": [
    {
     "data": {
      "text/plain": [
       "<AtomGroup with 1609 atoms>"
      ]
     },
     "execution_count": 25,
     "metadata": {},
     "output_type": "execute_result"
    }
   ],
   "source": [
    "u.select_atoms(\"resid 100-200\")"
   ]
  },
  {
   "cell_type": "markdown",
   "metadata": {},
   "source": [
    "Compare to the slicing solution (doing an element-wise comparison, i.e. residue by residue in each list()):"
   ]
  },
  {
   "cell_type": "code",
   "execution_count": 26,
   "metadata": {
    "collapsed": false
   },
   "outputs": [
    {
     "data": {
      "text/plain": [
       "<AtomGroup with 1609 atoms>"
      ]
     },
     "execution_count": 26,
     "metadata": {},
     "output_type": "execute_result"
    }
   ],
   "source": [
    "r = u.atoms.residues[99:200]\n",
    "r.atoms"
   ]
  },
  {
   "cell_type": "code",
   "execution_count": 27,
   "metadata": {
    "collapsed": false
   },
   "outputs": [
    {
     "data": {
      "text/plain": [
       "True"
      ]
     },
     "execution_count": 27,
     "metadata": {},
     "output_type": "execute_result"
    }
   ],
   "source": [
    "list(u.select_atoms(\"resid 100-200\").residues) == list(u.atoms.residues[99:200])"
   ]
  },
  {
   "cell_type": "markdown",
   "metadata": {},
   "source": [
    "If one wants to get specific residues in scripts one typically uses selections instead of slicing because the index in the slice might not correspond to the actual residue ids (minus 1): If a number of residues (e.g. 150-160) are missing from the structure then the selection will simply give you residues 100-149 and 151-200 but the slice 99:200 would give you residues 100-149 and 161-209."
   ]
  },
  {
   "cell_type": "markdown",
   "metadata": {},
   "source": [
    "Select all residues that do not contain a Cβ (“CB”) atom. How many are there? What residue names did you find?\n",
    "\n",
    "Solution:"
   ]
  },
  {
   "cell_type": "code",
   "execution_count": 28,
   "metadata": {
    "collapsed": false
   },
   "outputs": [
    {
     "data": {
      "text/plain": [
       "20"
      ]
     },
     "execution_count": 28,
     "metadata": {},
     "output_type": "execute_result"
    }
   ],
   "source": [
    "sel = u.select_atoms(\"(byres name CA) and not (byres name CB)\").residues\n",
    "len(sel)"
   ]
  },
  {
   "cell_type": "markdown",
   "metadata": {},
   "source": [
    "These are all Glycines, as can be seen by comparing the residue groups element-wise:"
   ]
  },
  {
   "cell_type": "code",
   "execution_count": 29,
   "metadata": {
    "collapsed": false
   },
   "outputs": [
    {
     "data": {
      "text/plain": [
       "True"
      ]
     },
     "execution_count": 29,
     "metadata": {},
     "output_type": "execute_result"
    }
   ],
   "source": [
    "glycines = u.select_atoms(\"resname GLY\")\n",
    "list(sel) == list(glycines.residues)"
   ]
  },
  {
   "cell_type": "markdown",
   "metadata": {},
   "source": [
    "## Working with AtomGroups"
   ]
  },
  {
   "cell_type": "markdown",
   "metadata": {},
   "source": [
    "An AtomGroup has a large number of methods attributes defined that provide information about the atoms such as names, indices, or the coordinates in the positions attribute:"
   ]
  },
  {
   "cell_type": "code",
   "execution_count": 30,
   "metadata": {
    "collapsed": false
   },
   "outputs": [
    {
     "data": {
      "text/plain": [
       "(214, 3)"
      ]
     },
     "execution_count": 30,
     "metadata": {},
     "output_type": "execute_result"
    }
   ],
   "source": [
    "CA = u.select_atoms(\"protein and name CA\")\n",
    "r = CA.positions\n",
    "r.shape"
   ]
  },
  {
   "cell_type": "markdown",
   "metadata": {},
   "source": [
    "The resulting output is a numpy.ndarray. The main purpose of MDAnalysis is to get trajectory data into numpy arrays!"
   ]
  },
  {
   "cell_type": "markdown",
   "metadata": {},
   "source": [
    "### Important methods and attributes of AtomGroup"
   ]
  },
  {
   "cell_type": "markdown",
   "metadata": {},
   "source": [
    "The coordinates positions attribute is probably the most important information that you can get from an AtomGroup.\n",
    "\n",
    "Other quantities that can be easily calculated for a AtomGroup are\n",
    "\n",
    "* the center of mass `center_of_mass()` and the center of geometry (or centroid) `center_of_geometry()` (equivalent to `centroid()`);\n",
    "\n",
    "* the total mass `total_mass()`;\n",
    "\n",
    "* the total charge `total_charge()` (if partial charges are defined in the topology);\n",
    "\n",
    "* the radius of gyration\n",
    "\\begin{equation*}\n",
    "    R_{\\text{gyr}} = \\sqrt{\\frac{1}{M}\\sum_{i=1}^{N}m_{i}(\\textbf{r}_{i} - \\textbf{R})^{2}}\n",
    "\\end{equation*}\n",
    " with `radius_of_yration()`;\n",
    "\n",
    "* the principal axes $\\textbf{p}_{1}$,$\\textbf{p}_{2}$,$\\textbf{p}_{3}$ from `principal_axes()` via a diagonalization of the tensor of inertia `moment_of_inertia()`,\n",
    "\\begin{align*}\n",
    "    \\Lambda = U^{T}IU && \\text{with}\\,U = (\\textbf{p}_{1},\\textbf{p}_{2},\\textbf{p}_{3})\n",
    "\\end{align*}\n",
    "where $U$ is a rotation matrix whose columns are the eigenvectors that form the principal axes, $\\Lambda$ is is the diagonal matrix of eigenvalues (sorted from largest to smallest) known as the principal moments of inertia, and $I = \\sum_{i=1}^{N}m_{i}[\\textbf{(r}_{i}\\cdot\\textbf{r}_{i})\\sum_{a=1}^{3}\\textbf{e}_{\\alpha}\\otimes\\textbf{e}_{\\alpha} - \\textbf{r}_{i}\\otimes\\textbf{r}_{i}]$ is the tensor of inertia."
   ]
  },
  {
   "cell_type": "markdown",
   "metadata": {},
   "source": [
    "#### Exercise 3"
   ]
  },
  {
   "cell_type": "markdown",
   "metadata": {},
   "source": [
    "AdK consists of three domains:\n",
    "\n",
    "* CORE residues 1-29, 60-121, 160-214 (gray)\n",
    "* NMP residues 30-59 (blue)\n",
    "* LID residues 122-159 (yellow)"
   ]
  },
  {
   "cell_type": "markdown",
   "metadata": {},
   "source": [
    "Calculate the center of mass and the center of geometry for each of the three domains."
   ]
  },
  {
   "cell_type": "code",
   "execution_count": 31,
   "metadata": {
    "collapsed": false
   },
   "outputs": [
    {
     "name": "stdout",
     "output_type": "stream",
     "text": [
      "{'LID': array([-15.16074944,   2.11599636,  -4.37305355], dtype=float32), 'CORE': array([ 4.43884087,  2.05389476,  1.63895261], dtype=float32), 'NMP': array([ -2.99990702, -13.62531662,  -2.93235731], dtype=float32)}\n"
     ]
    }
   ],
   "source": [
    "domains = {\n",
    "    'CORE': u.select_atoms(\"protein and (resid 1-29 or resid 60-121 or resid 160-214)\"),\n",
    "    'NMP': u.select_atoms(\"protein and resid 30-59\"),\n",
    "    'LID': u.select_atoms(\"protein and resid 122-159\")\n",
    "    }\n",
    "cg = dict((name, dom.centroid()) for name,dom in domains.items())\n",
    "cm = dict((name, dom.center_of_mass()) for name,dom in domains.items())\n",
    "print(cg)"
   ]
  },
  {
   "cell_type": "code",
   "execution_count": 32,
   "metadata": {
    "collapsed": false
   },
   "outputs": [
    {
     "name": "stdout",
     "output_type": "stream",
     "text": [
      "{'LID': array([-15.11337499,   2.12292226,  -4.40910485]), 'CORE': array([ 4.564116  ,  2.08700105,  1.54992649]), 'NMP': array([ -3.20330174, -13.60247613,  -3.06221538])}\n"
     ]
    }
   ],
   "source": [
    "print(cm)"
   ]
  },
  {
   "cell_type": "markdown",
   "metadata": {},
   "source": [
    "What are the distances between the centers of mass?\n",
    "\n",
    "(Hint: you can use numpy.linalg.norm() or calculate it manually.)"
   ]
  },
  {
   "cell_type": "code",
   "execution_count": 33,
   "metadata": {
    "collapsed": false
   },
   "outputs": [
    {
     "name": "stdout",
     "output_type": "stream",
     "text": [
      "18.1042626244\n"
     ]
    }
   ],
   "source": [
    "from numpy.linalg import norm\n",
    "print(norm(cm['CORE'] - cm['NMP']))"
   ]
  },
  {
   "cell_type": "code",
   "execution_count": 34,
   "metadata": {
    "collapsed": false
   },
   "outputs": [
    {
     "name": "stdout",
     "output_type": "stream",
     "text": [
      "20.5600339602\n"
     ]
    }
   ],
   "source": [
    "print(norm(cm['CORE'] - cm['LID']))"
   ]
  },
  {
   "cell_type": "code",
   "execution_count": 35,
   "metadata": {
    "collapsed": false
   },
   "outputs": [
    {
     "name": "stdout",
     "output_type": "stream",
     "text": [
      "19.7725089609\n"
     ]
    }
   ],
   "source": [
    "print(norm(cm['NMP'] - cm['LID']))"
   ]
  },
  {
   "cell_type": "markdown",
   "metadata": {},
   "source": [
    "Does it matter to use center of mass vs center of geometry?"
   ]
  },
  {
   "cell_type": "code",
   "execution_count": 36,
   "metadata": {
    "collapsed": false
   },
   "outputs": [
    {
     "name": "stdout",
     "output_type": "stream",
     "text": [
      "17.9463\n"
     ]
    }
   ],
   "source": [
    "print(norm(cg['CORE'] - cg['NMP']))"
   ]
  },
  {
   "cell_type": "code",
   "execution_count": 37,
   "metadata": {
    "collapsed": false
   },
   "outputs": [
    {
     "name": "stdout",
     "output_type": "stream",
     "text": [
      "20.501\n"
     ]
    }
   ],
   "source": [
    "print(norm(cg['CORE'] - cg['LID']))"
   ]
  },
  {
   "cell_type": "code",
   "execution_count": 38,
   "metadata": {
    "collapsed": false
   },
   "outputs": [
    {
     "name": "stdout",
     "output_type": "stream",
     "text": [
      "19.9437\n"
     ]
    }
   ],
   "source": [
    "print(norm(cg['NMP'] - cg['LID']))"
   ]
  },
  {
   "cell_type": "markdown",
   "metadata": {},
   "source": [
    "AdK undergoes a conformational transition during which the NMP and LID domain move relative to the CORE domain. The movement can be characterized by two angles, $\\theta_{\\text{NMP}}$ and $\\theta_{\\text{LID}}$, which are defined between the centers of geometry of the backbone and Cβ atoms between groups of residues [Beckstein2009]:\n",
    "\n",
    "Definition of $\\theta_{\\text{NMP}}$\n",
    "\n",
    "    A: 115-125, B: 90-100, C: 35-55\n",
    "    \n",
    "Definition of $\\theta_{\\text{LID}}$\n",
    "\n",
    "    A: 179-185, B: 115-125, C: 125-153\n",
    "    \n",
    "The angle between vectors $\\vec{BA}$ and $\\vec{BC}$ is\n",
    "\\begin{equation*}\n",
    "    \\theta = \\arccos\\left(\\frac{\\vec{BA}\\cdot\\vec{BC}}{|\\vec{BA}||\\vec{BC}|}\\right)\n",
    "\\end{equation*}"
   ]
  },
  {
   "cell_type": "markdown",
   "metadata": {},
   "source": [
    "Write a function `theta_NMP()` that takes a Universe as an argument and computes $\\theta_{\\text{NMP}}$:\n",
    "\n",
    "`theta_NMP(u)`: Calculate the NMP-CORE angle for E. coli AdK in degrees from Universe u"
   ]
  },
  {
   "cell_type": "markdown",
   "metadata": {},
   "source": [
    "##### Calculation of the domain angles of AdK"
   ]
  },
  {
   "cell_type": "code",
   "execution_count": 39,
   "metadata": {
    "collapsed": true
   },
   "outputs": [],
   "source": [
    "import numpy as np\n",
    "from numpy.linalg import norm\n",
    "\n",
    "def theta_NMP(u):\n",
    "    \"\"\"Calculate the NMP-CORE angle for E. coli AdK in degrees\"\"\"\n",
    "    C = u.select_atoms(\"resid 115:125 and (backbone or name CB)\").center_of_geometry()\n",
    "    B = u.select_atoms(\"resid 90:100 and (backbone or name CB)\").center_of_geometry()\n",
    "    A = u.select_atoms(\"resid 35:55 and (backbone or name CB)\").center_of_geometry()\n",
    "    BA = A - B\n",
    "    BC = C - B\n",
    "    theta = np.arccos(np.dot(BA, BC)/(norm(BA)*norm(BC)))\n",
    "    return np.rad2deg(theta)\n",
    "\n",
    "def theta_LID(u):\n",
    "    \"\"\"Calculate the LID-CORE angle for E. coli AdK in degrees\"\"\"\n",
    "    C = u.select_atoms(\"resid 179:185 and (backbone or name CB)\").center_of_geometry()\n",
    "    B = u.select_atoms(\"resid 115:125 and (backbone or name CB)\").center_of_geometry()\n",
    "    A = u.select_atoms(\"resid 125:153 and (backbone or name CB)\").center_of_geometry()\n",
    "    BA = A - B\n",
    "    BC = C - B\n",
    "    theta = np.arccos(np.dot(BA, BC)/(norm(BA)*norm(BC)))\n",
    "    return np.rad2deg(theta)"
   ]
  },
  {
   "cell_type": "code",
   "execution_count": 40,
   "metadata": {
    "collapsed": false
   },
   "outputs": [
    {
     "data": {
      "text/plain": [
       "44.124821"
      ]
     },
     "execution_count": 40,
     "metadata": {},
     "output_type": "execute_result"
    }
   ],
   "source": [
    "theta_NMP(u)"
   ]
  },
  {
   "cell_type": "code",
   "execution_count": 41,
   "metadata": {
    "collapsed": false
   },
   "outputs": [
    {
     "data": {
      "text/plain": [
       "107.00881"
      ]
     },
     "execution_count": 41,
     "metadata": {},
     "output_type": "execute_result"
    }
   ],
   "source": [
    "theta_LID(u)"
   ]
  },
  {
   "cell_type": "markdown",
   "metadata": {},
   "source": [
    "### Processing AtomGroups"
   ]
  },
  {
   "cell_type": "markdown",
   "metadata": {},
   "source": [
    "You can directly write a AtomGroup to a file with the `write()` method:"
   ]
  },
  {
   "cell_type": "code",
   "execution_count": 42,
   "metadata": {
    "collapsed": true
   },
   "outputs": [],
   "source": [
    "CORE = u.select_atoms(\"resid 1:29 or resid 60:121 or resid 160:214\")\n",
    "CORE.write(\"AdK_CORE.pdb\")"
   ]
  },
  {
   "cell_type": "code",
   "execution_count": 43,
   "metadata": {
    "collapsed": false
   },
   "outputs": [
    {
     "name": "stderr",
     "output_type": "stream",
     "text": [
      "/opt/anaconda2-4.1.1/lib/python2.7/site-packages/numpy/lib/utils.py:99: DeprecationWarning: `write_selection` is deprecated!\n",
      "This will be removed in version 0.16.0; use `write` method instead\n",
      "  warnings.warn(depdoc, DeprecationWarning)\n"
     ]
    }
   ],
   "source": [
    "CORE.write_selection(\"CORE.ndx\", name=\"CORE\")"
   ]
  },
  {
   "cell_type": "markdown",
   "metadata": {},
   "source": [
    "(The extension determines the file type.)\n",
    "\n",
    "You can do fairly complicated things on the fly, such as writing the hydration shell around a protein to a file"
   ]
  },
  {
   "cell_type": "markdown",
   "metadata": {},
   "source": [
    "```python\n",
    "u.selectAtoms(\"byres (name OW and around 4.0 protein)\").write(\"hydration_shell.pdb\")\n",
    "```"
   ]
  },
  {
   "cell_type": "markdown",
   "metadata": {},
   "source": [
    "for further analysis or visualization.\n",
    "\n",
    "You can also write Gromacs index files (in case you don’t like make_ndx...) with the `write_selection()` method:"
   ]
  },
  {
   "cell_type": "markdown",
   "metadata": {},
   "source": [
    "```python\n",
    "CORE.write_selection(\"CORE.ndx\", name=\"CORE\")\n",
    "```"
   ]
  },
  {
   "cell_type": "markdown",
   "metadata": {},
   "source": [
    "## Trajectory Analysis"
   ]
  },
  {
   "cell_type": "markdown",
   "metadata": {},
   "source": [
    "The `Universe` binds together the static topology (which atoms, how are they connected, what un-changing properties do the atoms possess (such as partial charge), ...) and the changing coordinate information, which is stored in the trajectory.\n",
    "\n",
    "The length of a trajectory (number of frames) is"
   ]
  },
  {
   "cell_type": "code",
   "execution_count": 44,
   "metadata": {
    "collapsed": false
   },
   "outputs": [
    {
     "data": {
      "text/plain": [
       "98"
      ]
     },
     "execution_count": 44,
     "metadata": {},
     "output_type": "execute_result"
    }
   ],
   "source": [
    "len(u.trajectory)"
   ]
  },
  {
   "cell_type": "markdown",
   "metadata": {},
   "source": [
    "The standard way to assess each time step (or frame) in a trajectory is to iterate over the Universe.trajectory attribute (which is an instance of Reader class):"
   ]
  },
  {
   "cell_type": "code",
   "execution_count": 45,
   "metadata": {
    "collapsed": false
   },
   "outputs": [
    {
     "name": "stdout",
     "output_type": "stream",
     "text": [
      "Frame:     0, Time:    0.000 ps\n",
      "Rgyr: 16.669 A\n",
      "Frame:     1, Time:    1.000 ps\n",
      "Rgyr: 16.6732 A\n",
      "Frame:     2, Time:    2.000 ps\n",
      "Rgyr: 16.7315 A\n",
      "Frame:     3, Time:    3.000 ps\n",
      "Rgyr: 16.7223 A\n",
      "Frame:     4, Time:    4.000 ps\n",
      "Rgyr: 16.744 A\n",
      "Frame:     5, Time:    5.000 ps\n",
      "Rgyr: 16.7185 A\n",
      "Frame:     6, Time:    6.000 ps\n",
      "Rgyr: 16.7741 A\n",
      "Frame:     7, Time:    7.000 ps\n",
      "Rgyr: 16.7764 A\n",
      "Frame:     8, Time:    8.000 ps\n",
      "Rgyr: 16.7894 A\n",
      "Frame:     9, Time:    9.000 ps\n",
      "Rgyr: 16.8289 A\n",
      "Frame:    10, Time:   10.000 ps\n",
      "Rgyr: 16.8521 A\n",
      "Frame:    11, Time:   11.000 ps\n",
      "Rgyr: 16.8549 A\n",
      "Frame:    12, Time:   12.000 ps\n",
      "Rgyr: 16.8723 A\n",
      "Frame:    13, Time:   13.000 ps\n",
      "Rgyr: 16.9108 A\n",
      "Frame:    14, Time:   14.000 ps\n",
      "Rgyr: 16.9494 A\n",
      "Frame:    15, Time:   15.000 ps\n",
      "Rgyr: 16.981 A\n",
      "Frame:    16, Time:   16.000 ps\n",
      "Rgyr: 17.0033 A\n",
      "Frame:    17, Time:   17.000 ps\n",
      "Rgyr: 17.0196 A\n",
      "Frame:    18, Time:   18.000 ps\n",
      "Rgyr: 17.0784 A\n",
      "Frame:    19, Time:   19.000 ps\n",
      "Rgyr: 17.1265 A\n",
      "Frame:    20, Time:   20.000 ps\n",
      "Rgyr: 17.1491 A\n",
      "Frame:    21, Time:   21.000 ps\n",
      "Rgyr: 17.1759 A\n",
      "Frame:    22, Time:   22.000 ps\n",
      "Rgyr: 17.2168 A\n",
      "Frame:    23, Time:   23.000 ps\n",
      "Rgyr: 17.2267 A\n",
      "Frame:    24, Time:   24.000 ps\n",
      "Rgyr: 17.2574 A\n",
      "Frame:    25, Time:   25.000 ps\n",
      "Rgyr: 17.3006 A\n",
      "Frame:    26, Time:   26.000 ps\n",
      "Rgyr: 17.3244 A\n",
      "Frame:    27, Time:   27.000 ps\n",
      "Rgyr: 17.3716 A\n",
      "Frame:    28, Time:   28.000 ps\n",
      "Rgyr: 17.4265 A\n",
      "Frame:    29, Time:   29.000 ps\n",
      "Rgyr: 17.4639 A\n",
      "Frame:    30, Time:   30.000 ps\n",
      "Rgyr: 17.524 A\n",
      "Frame:    31, Time:   31.000 ps\n",
      "Rgyr: 17.5426 A\n",
      "Frame:    32, Time:   32.000 ps\n",
      "Rgyr: 17.5981 A\n",
      "Frame:    33, Time:   33.000 ps\n",
      "Rgyr: 17.6389 A\n",
      "Frame:    34, Time:   34.000 ps\n",
      "Rgyr: 17.6945 A\n",
      "Frame:    35, Time:   35.000 ps\n",
      "Rgyr: 17.7392 A\n",
      "Frame:    36, Time:   36.000 ps\n",
      "Rgyr: 17.8015 A\n",
      "Frame:    37, Time:   37.000 ps\n",
      "Rgyr: 17.8213 A\n",
      "Frame:    38, Time:   38.000 ps\n",
      "Rgyr: 17.8712 A\n",
      "Frame:    39, Time:   39.000 ps\n",
      "Rgyr: 17.9209 A\n",
      "Frame:    40, Time:   40.000 ps\n",
      "Rgyr: 17.9416 A\n",
      "Frame:    41, Time:   41.000 ps\n",
      "Rgyr: 18.0115 A\n",
      "Frame:    42, Time:   42.000 ps\n",
      "Rgyr: 18.057 A\n",
      "Frame:    43, Time:   43.000 ps\n",
      "Rgyr: 18.1017 A\n",
      "Frame:    44, Time:   44.000 ps\n",
      "Rgyr: 18.1168 A\n",
      "Frame:    45, Time:   45.000 ps\n",
      "Rgyr: 18.1822 A\n",
      "Frame:    46, Time:   46.000 ps\n",
      "Rgyr: 18.2343 A\n",
      "Frame:    47, Time:   47.000 ps\n",
      "Rgyr: 18.2669 A\n",
      "Frame:    48, Time:   48.000 ps\n",
      "Rgyr: 18.3362 A\n",
      "Frame:    49, Time:   49.000 ps\n",
      "Rgyr: 18.3647 A\n",
      "Frame:    50, Time:   50.000 ps\n",
      "Rgyr: 18.3847 A\n",
      "Frame:    51, Time:   51.000 ps\n",
      "Rgyr: 18.4327 A\n",
      "Frame:    52, Time:   52.000 ps\n",
      "Rgyr: 18.4965 A\n",
      "Frame:    53, Time:   53.000 ps\n",
      "Rgyr: 18.5229 A\n",
      "Frame:    54, Time:   54.000 ps\n",
      "Rgyr: 18.6312 A\n",
      "Frame:    55, Time:   55.000 ps\n",
      "Rgyr: 18.6261 A\n",
      "Frame:    56, Time:   56.000 ps\n",
      "Rgyr: 18.665 A\n",
      "Frame:    57, Time:   57.000 ps\n",
      "Rgyr: 18.7334 A\n",
      "Frame:    58, Time:   58.000 ps\n",
      "Rgyr: 18.8223 A\n",
      "Frame:    59, Time:   59.000 ps\n",
      "Rgyr: 18.8393 A\n",
      "Frame:    60, Time:   60.000 ps\n",
      "Rgyr: 18.8433 A\n",
      "Frame:    61, Time:   61.000 ps\n",
      "Rgyr: 18.8844 A\n",
      "Frame:    62, Time:   62.000 ps\n",
      "Rgyr: 18.9093 A\n",
      "Frame:    63, Time:   63.000 ps\n",
      "Rgyr: 18.9389 A\n",
      "Frame:    64, Time:   64.000 ps\n",
      "Rgyr: 18.9433 A\n",
      "Frame:    65, Time:   65.000 ps\n",
      "Rgyr: 19.0103 A\n",
      "Frame:    66, Time:   66.000 ps\n",
      "Rgyr: 19.0643 A\n",
      "Frame:    67, Time:   67.000 ps\n",
      "Rgyr: 19.0975 A\n",
      "Frame:    68, Time:   68.000 ps\n",
      "Rgyr: 19.1824 A\n",
      "Frame:    69, Time:   69.000 ps\n",
      "Rgyr: 19.2416 A\n",
      "Frame:    70, Time:   70.000 ps\n",
      "Rgyr: 19.285 A\n",
      "Frame:    71, Time:   71.000 ps\n",
      "Rgyr: 19.2705 A\n",
      "Frame:    72, Time:   72.000 ps\n",
      "Rgyr: 19.2502 A\n",
      "Frame:    73, Time:   73.000 ps\n",
      "Rgyr: 19.2766 A\n",
      "Frame:    74, Time:   74.000 ps\n",
      "Rgyr: 19.3199 A\n",
      "Frame:    75, Time:   75.000 ps\n",
      "Rgyr: 19.3502 A\n",
      "Frame:    76, Time:   76.000 ps\n",
      "Rgyr: 19.3695 A\n",
      "Frame:    77, Time:   77.000 ps\n",
      "Rgyr: 19.4071 A\n",
      "Frame:    78, Time:   78.000 ps\n",
      "Rgyr: 19.4312 A\n",
      "Frame:    79, Time:   79.000 ps\n",
      "Rgyr: 19.4423 A\n",
      "Frame:    80, Time:   80.000 ps\n",
      "Rgyr: 19.4571 A\n",
      "Frame:    81, Time:   81.000 ps\n",
      "Rgyr: 19.4617 A\n",
      "Frame:    82, Time:   82.000 ps\n",
      "Rgyr: 19.4597 A\n",
      "Frame:    83, Time:   83.000 ps\n",
      "Rgyr: 19.5003 A\n",
      "Frame:    84, Time:   84.000 ps\n",
      "Rgyr: 19.492 A\n",
      "Frame:    85, Time:   85.000 ps\n",
      "Rgyr: 19.5407 A\n",
      "Frame:    86, Time:   86.000 ps\n",
      "Rgyr: 19.5403 A\n",
      "Frame:    87, Time:   87.000 ps\n",
      "Rgyr: 19.4934 A\n",
      "Frame:    88, Time:   88.000 ps\n",
      "Rgyr: 19.527 A\n",
      "Frame:    89, Time:   89.000 ps\n",
      "Rgyr: 19.5733 A\n",
      "Frame:    90, Time:   90.000 ps\n",
      "Rgyr: 19.5641 A\n",
      "Frame:    91, Time:   91.000 ps\n",
      "Rgyr: 19.5588 A\n",
      "Frame:    92, Time:   92.000 ps\n",
      "Rgyr: 19.5915 A\n",
      "Frame:    93, Time:   93.000 ps\n",
      "Rgyr: 19.562 A\n",
      "Frame:    94, Time:   94.000 ps\n",
      "Rgyr: 19.5606 A\n",
      "Frame:    95, Time:   95.000 ps\n",
      "Rgyr: 19.5506 A\n",
      "Frame:    96, Time:   96.000 ps\n",
      "Rgyr: 19.5684 A\n",
      "Frame:    97, Time:   97.000 ps\n",
      "Rgyr: 19.5916 A\n"
     ]
    }
   ],
   "source": [
    "for ts in u.trajectory:\n",
    "    print(\"Frame: %5d, Time: %8.3f ps\" % (ts.frame, u.trajectory.time))\n",
    "    print(\"Rgyr: %g A\" % (u.atoms.radius_of_gyration(), ))"
   ]
  },
  {
   "cell_type": "markdown",
   "metadata": {},
   "source": [
    "The time attribute contains the current time step. The Reader only contains information about one time step: imagine a cursor or pointer moving along the trajectory file. Where the cursor points, there’s you current coordinates, frame number, and time.\n",
    "\n",
    "Normally you will collect the data in a list or array, e.g."
   ]
  },
  {
   "cell_type": "code",
   "execution_count": 46,
   "metadata": {
    "collapsed": false
   },
   "outputs": [],
   "source": [
    "Rgyr = []\n",
    "protein = u.select_atoms(\"protein\")\n",
    "for ts in u.trajectory:\n",
    "   Rgyr.append((u.trajectory.time, protein.radius_of_gyration()))\n",
    "Rgyr = np.array(Rgyr)"
   ]
  },
  {
   "cell_type": "markdown",
   "metadata": {},
   "source": [
    "The data can be plotted to give the graph below:"
   ]
  },
  {
   "cell_type": "code",
   "execution_count": 47,
   "metadata": {
    "collapsed": false
   },
   "outputs": [
    {
     "data": {
      "image/png": "[encoded data removed]",
      "text/plain": [
       "<matplotlib.figure.Figure at 0x7f54a41d0410>"
      ]
     },
     "metadata": {},
     "output_type": "display_data"
    }
   ],
   "source": [
    "# quick plot\n",
    "import matplotlib.pyplot as plt\n",
    "ax = plt.subplot(111)\n",
    "ax.plot(Rgyr[:,0], Rgyr[:,1], 'r--', lw=2, label=r\"$R_G$\")\n",
    "ax.set_xlabel(\"time (ps)\")\n",
    "ax.set_ylabel(r\"radius of gyration $R_G$ ($\\AA$)\")\n",
    "ax.figure.savefig(\"Rgyr.pdf\")\n",
    "plt.draw()"
   ]
  },
  {
   "cell_type": "markdown",
   "metadata": {},
   "source": [
    "The graph of $R_{G}(t)$ increases over time, indicating an opening up of the AdK enzyme."
   ]
  },
  {
   "cell_type": "markdown",
   "metadata": {},
   "source": [
    "#### Exercise 4"
   ]
  },
  {
   "cell_type": "markdown",
   "metadata": {},
   "source": [
    "1. Take the functions to calculate $\\theta_\\text{NMP}$ and $\\theta_\\text{LID}$ and calculate the time series $\\theta_\\text{NMP}(t)$ and $\\theta_\\text{LID}(t)$. Plot them together in one plot.\n",
    "2. Plot $\\theta_\\text{NMP}(t)$ against $\\theta_\\text{LID}(t)$. What does the plot show? Why could such a plot be useful?"
   ]
  },
  {
   "cell_type": "code",
   "execution_count": 48,
   "metadata": {
    "collapsed": false
   },
   "outputs": [
    {
     "data": {
      "image/png": "[encoded data removed]",
      "text/plain": [
       "<matplotlib.figure.Figure at 0x7f54a34a9f90>"
      ]
     },
     "metadata": {},
     "output_type": "display_data"
    }
   ],
   "source": [
    "import numpy as np\n",
    "from numpy.linalg import norm\n",
    "\n",
    "def theta_NMP(u):\n",
    "    \"\"\"Calculate the NMP-CORE angle for E. coli AdK in degrees\"\"\"\n",
    "    C = u.select_atoms(\"resid 115:125 and (backbone or name CB)\").center_of_geometry()\n",
    "    B = u.select_atoms(\"resid 90:100 and (backbone or name CB)\").center_of_geometry()\n",
    "    A = u.select_atoms(\"resid 35:55 and (backbone or name CB)\").center_of_geometry()\n",
    "    BA = A - B\n",
    "    BC = C - B\n",
    "    theta = np.arccos(np.dot(BA, BC)/(norm(BA)*norm(BC)))\n",
    "    return np.rad2deg(theta)\n",
    "\n",
    "def theta_LID(u):\n",
    "    \"\"\"Calculate the LID-CORE angle for E. coli AdK in degrees\"\"\"\n",
    "    C = u.select_atoms(\"resid 179:185 and (backbone or name CB)\").center_of_geometry()\n",
    "    B = u.select_atoms(\"resid 115:125 and (backbone or name CB)\").center_of_geometry()\n",
    "    A = u.select_atoms(\"resid 125:153 and (backbone or name CB)\").center_of_geometry()\n",
    "    BA = A - B\n",
    "    BC = C - B\n",
    "    theta = np.arccos(np.dot(BA, BC)/(norm(BA)*norm(BC)))\n",
    "    return np.rad2deg(theta)\n",
    "\n",
    "if __name__ == \"__main__\":\n",
    "    import MDAnalysis\n",
    "    from MDAnalysis.tests.datafiles import PSF, DCD\n",
    "    import matplotlib\n",
    "    import matplotlib.pyplot as plt\n",
    "\n",
    "    u = MDAnalysis.Universe(PSF, DCD)\n",
    "    data = np.array([(u.trajectory.time, theta_NMP(u), theta_LID(u)) for ts in u.trajectory])\n",
    "    time, NMP, LID = data.T\n",
    "\n",
    "\n",
    "    # plotting\n",
    "    degreeFormatter = matplotlib.ticker.FormatStrFormatter(r\"%g$^\\circ$\")\n",
    "    fig = plt.figure(figsize=(6,3))\n",
    "\n",
    "    ax1 = fig.add_subplot(121)\n",
    "    ax1.plot(time, NMP, 'b-', lw=2, label=r\"$\\theta_{\\mathrm{NMP}}$\")\n",
    "    ax1.plot(time, LID, 'r-', lw=2, label=r\"$\\theta_{\\mathrm{LID}}$\")\n",
    "    ax1.set_xlabel(r\"time $t$ (ps)\")\n",
    "    ax1.set_ylabel(r\"angle $\\theta$\")\n",
    "    ax1.yaxis.set_major_formatter(degreeFormatter)\n",
    "    ax1.legend(loc=\"best\")\n",
    "\n",
    "    ax2 = fig.add_subplot(122)\n",
    "    ax2.plot(NMP, LID, 'k-', lw=3)\n",
    "    ax2.set_xlabel(r\"NMP-CORE angle $\\theta_{\\mathrm{NMP}}$\")\n",
    "    ax2.set_ylabel(r\"LID-CORE angle $\\theta_{\\mathrm{LID}}$\")\n",
    "    ax2.xaxis.set_major_formatter(degreeFormatter)\n",
    "    ax2.yaxis.set_major_formatter(degreeFormatter)\n",
    "    ax2.yaxis.tick_right()\n",
    "    ax2.yaxis.set_label_position(\"right\")\n",
    "\n",
    "    fig.subplots_adjust(left=0.12, right=0.88, bottom=0.2, wspace=0.15)\n",
    "\n",
    "    for ext in ('svg', 'pdf', 'png'):\n",
    "        fig.savefig(\"NMP_LID_angle_projection.{0}\".format(ext))\n"
   ]
  },
  {
   "cell_type": "markdown",
   "metadata": {},
   "source": [
    "Note that one would normally write the code more efficiently and generate the atom groups once and then pass them to a simple function to calculate the angle"
   ]
  },
  {
   "cell_type": "code",
   "execution_count": 49,
   "metadata": {
    "collapsed": true
   },
   "outputs": [],
   "source": [
    "def theta(A, B, C):\n",
    "    \"\"\"Calculate the angle between BA and BC for AtomGroups A, B, C\"\"\"\n",
    "    B_center = B.centroid()\n",
    "    BA = A.centroid() - B_center\n",
    "    BC = C.centroid() - B_center\n",
    "    theta = np.arccos(np.dot(BA, BC)/(norm(BA)*norm(BC)))\n",
    "    return np.rad2deg(theta)"
   ]
  },
  {
   "cell_type": "markdown",
   "metadata": {},
   "source": [
    "### Bells and whistles"
   ]
  },
  {
   "cell_type": "markdown",
   "metadata": {},
   "source": [
    "#### Quick data aquisition"
   ]
  },
  {
   "cell_type": "markdown",
   "metadata": {},
   "source": [
    "Especially useful for interactive analysis in ipython –pylab using list comprehensions (implicit for loops):"
   ]
  },
  {
   "cell_type": "markdown",
   "metadata": {},
   "source": [
    "```python\n",
    "protein = u.selectAtoms(\"protein\")\n",
    "data = np.array([(u.trajectory.time, protein.radius_of_gyration()) for ts in u.trajectory])\n",
    "time, RG = data.T\n",
    "plot(time, RG)\n",
    "```"
   ]
  },
  {
   "cell_type": "markdown",
   "metadata": {},
   "source": [
    "#### More on the trajectory iterator"
   ]
  },
  {
   "cell_type": "markdown",
   "metadata": {},
   "source": [
    "One can directly jump to a frame by using “indexing syntax”:"
   ]
  },
  {
   "cell_type": "code",
   "execution_count": 50,
   "metadata": {
    "collapsed": false
   },
   "outputs": [
    {
     "data": {
      "text/plain": [
       "< Timestep 50 with unit cell dimensions [  0.   0.   0.  90.  90.  90.] >"
      ]
     },
     "execution_count": 50,
     "metadata": {},
     "output_type": "execute_result"
    }
   ],
   "source": [
    "u.trajectory[50]"
   ]
  },
  {
   "cell_type": "code",
   "execution_count": 51,
   "metadata": {
    "collapsed": false
   },
   "outputs": [
    {
     "data": {
      "text/plain": [
       "50"
      ]
     },
     "execution_count": 51,
     "metadata": {},
     "output_type": "execute_result"
    }
   ],
   "source": [
    "ts.frame"
   ]
  },
  {
   "cell_type": "markdown",
   "metadata": {},
   "source": [
    "You can also slice trajectories, e.g. if you want to start at the 10th frame and go to 10th before the end, and only use every 5th frame:"
   ]
  },
  {
   "cell_type": "code",
   "execution_count": 52,
   "metadata": {
    "collapsed": false
   },
   "outputs": [
    {
     "name": "stdout",
     "output_type": "stream",
     "text": [
      "9\n",
      "14\n",
      "19\n",
      "24\n",
      "29\n",
      "34\n",
      "39\n",
      "44\n",
      "49\n",
      "54\n",
      "59\n",
      "64\n",
      "69\n",
      "74\n",
      "79\n",
      "84\n"
     ]
    }
   ],
   "source": [
    "for ts in u.trajectory[9:-10:5]:\n",
    "    print(ts.frame)"
   ]
  },
  {
   "cell_type": "markdown",
   "metadata": {},
   "source": [
    "**Note**:  Trajectory indexing and slicing uses 0-based indices (as in standard Python) and MDAnalysis also numbers frames starting with 0. Thus the \"tenth frame\" in a trjectory has `ts.frame == 9`."
   ]
  },
  {
   "cell_type": "markdown",
   "metadata": {},
   "source": [
    "## Writing Coordinates"
   ]
  },
  {
   "cell_type": "markdown",
   "metadata": {},
   "source": [
    "MDAnalysis also supports writing of data in a range of file formats (see the [Table of Supported Coordinate Formats](https://pythonhosted.org/MDAnalysis/documentation_pages/coordinates/init.html#id1) for details). MDAnalysis supports both single frame writers (such as a simple PDB or GRO file) and trajectory writers (e.g. XTC, DCD, but also multi-frame PDB files)."
   ]
  },
  {
   "cell_type": "markdown",
   "metadata": {},
   "source": [
    "### Single frames"
   ]
  },
  {
   "cell_type": "markdown",
   "metadata": {},
   "source": [
    "The most straightforward way to write to a file that can only hold a single frame is to use the write() method of any AtomGroup as already also shown under Processing AtomGroups. For instance, to only write out the protein without solvent to a file in GRO format:"
   ]
  },
  {
   "cell_type": "code",
   "execution_count": 53,
   "metadata": {
    "collapsed": true
   },
   "outputs": [],
   "source": [
    "from MDAnalysis.tests.datafiles import PDB\n",
    "uPDB = MDAnalysis.Universe(PDB)\n",
    "protein = uPDB.select_atoms(\"protein\")\n",
    "protein.write(\"protein.gro\")"
   ]
  },
  {
   "cell_type": "markdown",
   "metadata": {},
   "source": [
    "MDAnalysis uses the file suffix to determine the output file format (unless the format keyword is specified) and will raise an exception if it is not suitable for single frame writing."
   ]
  },
  {
   "cell_type": "code",
   "execution_count": 54,
   "metadata": {
    "collapsed": false
   },
   "outputs": [],
   "source": [
    "del uPDB  # clean up this example\n",
    "os.unlink(\"protein.gro\")"
   ]
  },
  {
   "cell_type": "markdown",
   "metadata": {},
   "source": [
    "### Trajectories"
   ]
  },
  {
   "cell_type": "markdown",
   "metadata": {},
   "source": [
    "The typical use pattern is to\n",
    "\n",
    "1. Get a trajectory writer with `MDAnalysis.Writer()` (which is the same as `MDAnalysis.coordinates.core.writer()`), typically specifying in advance how many atoms a frame will contain.\n",
    "2. Use the `write()` method to write a new time step to the trajectory.\n",
    "3. Close the trajectory with `close()` (although it is recommended to simply use the writer with the `with` statement and have the context manager close the file automatically)."
   ]
  },
  {
   "cell_type": "markdown",
   "metadata": {},
   "source": [
    "#### Example: Protein-only trajectory"
   ]
  },
  {
   "cell_type": "markdown",
   "metadata": {},
   "source": [
    "In practice, the second step is typically repeated in a loop as in the example below:"
   ]
  },
  {
   "cell_type": "code",
   "execution_count": 55,
   "metadata": {
    "collapsed": true
   },
   "outputs": [],
   "source": [
    "import MDAnalysis\n",
    "from MDAnalysis.tests.datafiles import PDB, XTC\n",
    "\n",
    "uXTC = MDAnalysis.Universe(PDB, XTC)\n",
    "protein = uXTC.select_atoms(\"protein\")\n",
    "with MDAnalysis.Writer(\"protein.xtc\", protein.n_atoms) as W:\n",
    "    for ts in u.trajectory:\n",
    "        W.write(protein)"
   ]
  },
  {
   "cell_type": "markdown",
   "metadata": {},
   "source": [
    "The loop steps through the input trajectory frame by frame. The coordinates of the selection (the AtomGroup protein) change accordingly and are then written as a new frame into the output trajectory.\n",
    "\n",
    "The output trajectory only contains the coordinates of the protein. For this trajectory to be useful, a protein-only topology file also has to be stored, as in the example under Single frames."
   ]
  },
  {
   "cell_type": "code",
   "execution_count": 56,
   "metadata": {
    "collapsed": false
   },
   "outputs": [],
   "source": [
    "del uXTC  # clean up this example\n",
    "os.unlink(\"protein.xtc\")"
   ]
  },
  {
   "cell_type": "markdown",
   "metadata": {},
   "source": [
    "#### Example: Saving dynamic per-atom properties in B-factor"
   ]
  },
  {
   "cell_type": "markdown",
   "metadata": {},
   "source": [
    "It is often very useful to project per-atom properties on the structure. A common approach is to save scalar values in the B-factor field of a PDB file and then color atoms by B-factor (also known as temperature factor or just “beta”).\n",
    "\n",
    "The following example computes the shift of each atom in AdK relative to a reference structure (line 23). We take as reference the closed conformation (after a structural superposition on the CORE domain with alignto()). The shifts are written into the B-factor with the set_bfactor() method of AtomGroup. Each frame is written out as part of a multi-frame PDB file:"
   ]
  },
  {
   "cell_type": "code",
   "execution_count": 57,
   "metadata": {
    "collapsed": false
   },
   "outputs": [
    {
     "name": "stderr",
     "output_type": "stream",
     "text": [
      "/opt/anaconda2-4.1.1/lib/python2.7/site-packages/numpy/lib/utils.py:99: DeprecationWarning: `set_bfactors` is deprecated!\n",
      "This will be removed in version 0.16.0; use `bfactors` property instead\n",
      "  warnings.warn(depdoc, DeprecationWarning)\n"
     ]
    },
    {
     "name": "stdout",
     "output_type": "stream",
     "text": [
      "Frame 0: CORE RMSD before/after superposition: 0.0 / 0.0 A. min-max displacement: 0.0...0.0 A\n",
      "Frame 1: CORE RMSD before/after superposition: 0.7 / 0.7 A. min-max displacement: 0.0...3.5 A\n",
      "Frame 2: CORE RMSD before/after superposition: 0.8 / 0.8 A. min-max displacement: 0.0...3.6 A\n",
      "Frame 3: CORE RMSD before/after superposition: 1.0 / 1.0 A. min-max displacement: 0.0...4.2 A\n",
      "Frame 4: CORE RMSD before/after superposition: 1.1 / 1.0 A. min-max displacement: 0.0...4.7 A\n",
      "Frame 5: CORE RMSD before/after superposition: 1.1 / 1.1 A. min-max displacement: 0.0...6.3 A\n",
      "Frame 6: CORE RMSD before/after superposition: 1.2 / 1.1 A. min-max displacement: 0.1...6.4 A\n",
      "Frame 7: CORE RMSD before/after superposition: 1.3 / 1.2 A. min-max displacement: 0.1...7.2 A\n",
      "Frame 8: CORE RMSD before/after superposition: 1.3 / 1.2 A. min-max displacement: 0.1...7.3 A\n",
      "Frame 9: CORE RMSD before/after superposition: 1.4 / 1.3 A. min-max displacement: 0.0...6.6 A\n",
      "Frame 10: CORE RMSD before/after superposition: 1.5 / 1.3 A. min-max displacement: 0.1...6.7 A\n",
      "Frame 11: CORE RMSD before/after superposition: 1.5 / 1.4 A. min-max displacement: 0.0...7.6 A\n",
      "Frame 12: CORE RMSD before/after superposition: 1.6 / 1.4 A. min-max displacement: 0.0...8.0 A\n",
      "Frame 13: CORE RMSD before/after superposition: 1.6 / 1.4 A. min-max displacement: 0.0...8.6 A\n",
      "Frame 14: CORE RMSD before/after superposition: 1.7 / 1.4 A. min-max displacement: 0.0...8.7 A\n",
      "Frame 15: CORE RMSD before/after superposition: 1.7 / 1.5 A. min-max displacement: 0.1...8.6 A\n",
      "Frame 16: CORE RMSD before/after superposition: 1.7 / 1.5 A. min-max displacement: 0.0...8.7 A\n",
      "Frame 17: CORE RMSD before/after superposition: 1.8 / 1.5 A. min-max displacement: 0.0...8.5 A\n",
      "Frame 18: CORE RMSD before/after superposition: 1.8 / 1.5 A. min-max displacement: 0.0...9.3 A\n",
      "Frame 19: CORE RMSD before/after superposition: 1.8 / 1.5 A. min-max displacement: 0.0...9.8 A\n",
      "Frame 20: CORE RMSD before/after superposition: 1.9 / 1.5 A. min-max displacement: 0.1...10.0 A\n",
      "Frame 21: CORE RMSD before/after superposition: 1.9 / 1.6 A. min-max displacement: 0.1...10.3 A\n",
      "Frame 22: CORE RMSD before/after superposition: 2.0 / 1.6 A. min-max displacement: 0.1...10.2 A\n",
      "Frame 23: CORE RMSD before/after superposition: 2.0 / 1.7 A. min-max displacement: 0.1...10.3 A\n",
      "Frame 24: CORE RMSD before/after superposition: 2.1 / 1.7 A. min-max displacement: 0.1...11.4 A\n",
      "Frame 25: CORE RMSD before/after superposition: 2.2 / 1.7 A. min-max displacement: 0.0...11.5 A\n",
      "Frame 26: CORE RMSD before/after superposition: 2.2 / 1.7 A. min-max displacement: 0.1...11.5 A\n",
      "Frame 27: CORE RMSD before/after superposition: 2.2 / 1.8 A. min-max displacement: 0.1...12.3 A\n",
      "Frame 28: CORE RMSD before/after superposition: 2.3 / 1.8 A. min-max displacement: 0.1...12.5 A\n",
      "Frame 29: CORE RMSD before/after superposition: 2.4 / 1.8 A. min-max displacement: 0.1...12.7 A\n",
      "Frame 30: CORE RMSD before/after superposition: 2.4 / 1.9 A. min-max displacement: 0.1...13.2 A\n",
      "Frame 31: CORE RMSD before/after superposition: 2.5 / 1.9 A. min-max displacement: 0.1...13.1 A\n",
      "Frame 32: CORE RMSD before/after superposition: 2.6 / 1.9 A. min-max displacement: 0.1...13.7 A\n",
      "Frame 33: CORE RMSD before/after superposition: 2.5 / 1.9 A. min-max displacement: 0.1...14.4 A\n",
      "Frame 34: CORE RMSD before/after superposition: 2.6 / 1.9 A. min-max displacement: 0.1...14.8 A\n",
      "Frame 35: CORE RMSD before/after superposition: 2.6 / 1.9 A. min-max displacement: 0.2...15.0 A\n",
      "Frame 36: CORE RMSD before/after superposition: 2.7 / 1.9 A. min-max displacement: 0.2...15.6 A\n",
      "Frame 37: CORE RMSD before/after superposition: 2.7 / 1.9 A. min-max displacement: 0.1...15.4 A\n",
      "Frame 38: CORE RMSD before/after superposition: 2.7 / 2.0 A. min-max displacement: 0.1...15.8 A\n",
      "Frame 39: CORE RMSD before/after superposition: 2.8 / 2.0 A. min-max displacement: 0.1...16.1 A\n",
      "Frame 40: CORE RMSD before/after superposition: 2.8 / 2.0 A. min-max displacement: 0.1...16.4 A\n",
      "Frame 41: CORE RMSD before/after superposition: 2.9 / 2.0 A. min-max displacement: 0.1...16.6 A\n",
      "Frame 42: CORE RMSD before/after superposition: 2.9 / 2.0 A. min-max displacement: 0.1...16.9 A\n",
      "Frame 43: CORE RMSD before/after superposition: 3.0 / 2.0 A. min-max displacement: 0.1...17.2 A\n",
      "Frame 44: CORE RMSD before/after superposition: 2.9 / 2.0 A. min-max displacement: 0.1...17.7 A\n",
      "Frame 45: CORE RMSD before/after superposition: 3.0 / 2.0 A. min-max displacement: 0.0...17.9 A\n",
      "Frame 46: CORE RMSD before/after superposition: 3.0 / 2.0 A. min-max displacement: 0.1...18.5 A\n",
      "Frame 47: CORE RMSD before/after superposition: 3.1 / 2.0 A. min-max displacement: 0.2...18.4 A\n",
      "Frame 48: CORE RMSD before/after superposition: 3.1 / 2.1 A. min-max displacement: 0.1...18.7 A\n",
      "Frame 49: CORE RMSD before/after superposition: 3.1 / 2.1 A. min-max displacement: 0.1...18.5 A\n",
      "Frame 50: CORE RMSD before/after superposition: 3.1 / 2.1 A. min-max displacement: 0.1...19.4 A\n",
      "Frame 51: CORE RMSD before/after superposition: 3.1 / 2.1 A. min-max displacement: 0.1...20.0 A\n",
      "Frame 52: CORE RMSD before/after superposition: 3.1 / 2.1 A. min-max displacement: 0.1...19.6 A\n",
      "Frame 53: CORE RMSD before/after superposition: 3.2 / 2.1 A. min-max displacement: 0.1...19.3 A\n",
      "Frame 54: CORE RMSD before/after superposition: 3.2 / 2.1 A. min-max displacement: 0.1...19.9 A\n",
      "Frame 55: CORE RMSD before/after superposition: 3.3 / 2.2 A. min-max displacement: 0.1...20.1 A\n",
      "Frame 56: CORE RMSD before/after superposition: 3.3 / 2.2 A. min-max displacement: 0.1...20.4 A\n",
      "Frame 57: CORE RMSD before/after superposition: 3.3 / 2.2 A. min-max displacement: 0.1...20.3 A\n",
      "Frame 58: CORE RMSD before/after superposition: 3.4 / 2.3 A. min-max displacement: 0.1...20.9 A\n",
      "Frame 59: CORE RMSD before/after superposition: 3.4 / 2.3 A. min-max displacement: 0.1...21.0 A\n",
      "Frame 60: CORE RMSD before/after superposition: 3.4 / 2.3 A. min-max displacement: 0.1...20.6 A\n",
      "Frame 61: CORE RMSD before/after superposition: 3.4 / 2.3 A. min-max displacement: 0.1...20.8 A\n",
      "Frame 62: CORE RMSD before/after superposition: 3.4 / 2.3 A. min-max displacement: 0.1...21.3 A\n",
      "Frame 63: CORE RMSD before/after superposition: 3.5 / 2.3 A. min-max displacement: 0.1...21.4 A\n",
      "Frame 64: CORE RMSD before/after superposition: 3.5 / 2.3 A. min-max displacement: 0.1...21.9 A\n",
      "Frame 65: CORE RMSD before/after superposition: 3.6 / 2.3 A. min-max displacement: 0.2...22.1 A\n",
      "Frame 66: CORE RMSD before/after superposition: 3.6 / 2.3 A. min-max displacement: 0.1...22.4 A\n",
      "Frame 67: CORE RMSD before/after superposition: 3.6 / 2.3 A. min-max displacement: 0.1...22.4 A\n",
      "Frame 68: CORE RMSD before/after superposition: 3.6 / 2.4 A. min-max displacement: 0.1...22.7 A\n",
      "Frame 69: CORE RMSD before/after superposition: 3.7 / 2.4 A. min-max displacement: 0.1...22.9 A\n",
      "Frame 70: CORE RMSD before/after superposition: 3.7 / 2.4 A. min-max displacement: 0.1...23.4 A\n",
      "Frame 71: CORE RMSD before/after superposition: 3.8 / 2.4 A. min-max displacement: 0.1...23.2 A\n",
      "Frame 72: CORE RMSD before/after superposition: 3.7 / 2.4 A. min-max displacement: 0.2...23.4 A\n",
      "Frame 73: CORE RMSD before/after superposition: 3.7 / 2.4 A. min-max displacement: 0.1...23.2 A\n",
      "Frame 74: CORE RMSD before/after superposition: 3.7 / 2.4 A. min-max displacement: 0.1...23.5 A\n",
      "Frame 75: CORE RMSD before/after superposition: 3.8 / 2.4 A. min-max displacement: 0.2...23.5 A\n",
      "Frame 76: CORE RMSD before/after superposition: 3.8 / 2.4 A. min-max displacement: 0.2...23.7 A\n",
      "Frame 77: CORE RMSD before/after superposition: 3.8 / 2.4 A. min-max displacement: 0.1...23.4 A\n",
      "Frame 78: CORE RMSD before/after superposition: 3.8 / 2.4 A. min-max displacement: 0.1...23.5 A\n",
      "Frame 79: CORE RMSD before/after superposition: 3.7 / 2.4 A. min-max displacement: 0.1...23.6 A\n",
      "Frame 80: CORE RMSD before/after superposition: 3.7 / 2.4 A. min-max displacement: 0.1...23.4 A\n",
      "Frame 81: CORE RMSD before/after superposition: 3.7 / 2.4 A. min-max displacement: 0.1...23.3 A\n",
      "Frame 82: CORE RMSD before/after superposition: 3.7 / 2.4 A. min-max displacement: 0.1...23.3 A\n",
      "Frame 83: CORE RMSD before/after superposition: 3.7 / 2.4 A. min-max displacement: 0.1...23.7 A\n",
      "Frame 84: CORE RMSD before/after superposition: 3.8 / 2.4 A. min-max displacement: 0.0...23.7 A\n",
      "Frame 85: CORE RMSD before/after superposition: 3.7 / 2.4 A. min-max displacement: 0.1...23.5 A\n",
      "Frame 86: CORE RMSD before/after superposition: 3.7 / 2.4 A. min-max displacement: 0.0...23.7 A\n",
      "Frame 87: CORE RMSD before/after superposition: 3.8 / 2.4 A. min-max displacement: 0.2...24.0 A\n",
      "Frame 88: CORE RMSD before/after superposition: 3.8 / 2.4 A. min-max displacement: 0.1...24.2 A\n",
      "Frame 89: CORE RMSD before/after superposition: 3.8 / 2.4 A. min-max displacement: 0.1...23.8 A\n",
      "Frame 90: CORE RMSD before/after superposition: 3.8 / 2.5 A. min-max displacement: 0.1...24.2 A\n",
      "Frame 91: CORE RMSD before/after superposition: 3.8 / 2.4 A. min-max displacement: 0.1...24.2 A\n",
      "Frame 92: CORE RMSD before/after superposition: 3.8 / 2.4 A. min-max displacement: 0.1...24.0 A\n",
      "Frame 93: CORE RMSD before/after superposition: 3.8 / 2.4 A. min-max displacement: 0.1...24.1 A\n",
      "Frame 94: CORE RMSD before/after superposition: 3.8 / 2.4 A. min-max displacement: 0.1...24.2 A\n",
      "Frame 95: CORE RMSD before/after superposition: 3.8 / 2.4 A. min-max displacement: 0.1...24.2 A\n",
      "Frame 96: CORE RMSD before/after superposition: 3.9 / 2.5 A. min-max displacement: 0.1...24.5 A\n",
      "Frame 97: CORE RMSD before/after superposition: 3.9 / 2.4 A. min-max displacement: 0.1...24.5 A\n",
      "Wrote PDB trajectory adk_distance_bfac.pdb with distances in bfactor field\n"
     ]
    }
   ],
   "source": [
    "# project a dynamic property on the structure using the B-factor field\n",
    "\n",
    "import numpy as np\n",
    "import MDAnalysis\n",
    "import MDAnalysis.analysis.align\n",
    "\n",
    "from MDAnalysis.tests.datafiles import PSF, DCD\n",
    "\n",
    "\n",
    "u = MDAnalysis.Universe(PSF, DCD)\n",
    "ref = MDAnalysis.Universe(PSF, DCD)  # copy of u\n",
    "\n",
    "CORE_selection = \"resid 1:29 or resid 60:121 or resid 160:214\"\n",
    "pdbtrj = \"adk_distance_bfac.pdb\"\n",
    "\n",
    "with MDAnalysis.Writer(pdbtrj, multiframe=True, bonds=False, n_atoms=u.atoms.n_atoms) as PDB:\n",
    "    # reference coordinates: set to first frame\n",
    "    ref.trajectory[0]\n",
    "    # iterate through our trajectory\n",
    "    for ts in u.trajectory:\n",
    "        # superimpose on the reference CORE (at t=0)\n",
    "        rmsd = MDAnalysis.analysis.align.alignto(u.atoms, ref.atoms, select=CORE_selection)\n",
    "        distances = np.sqrt(np.sum((u.atoms.positions - ref.atoms.positions)**2, axis=1))\n",
    "        # project displacement on structure via bfactor field\n",
    "        u.atoms.set_bfactors(distances)\n",
    "        PDB.write(u.atoms)\n",
    "        print(\"Frame {0}: CORE RMSD before/after superposition: {1[0]:.1f} / {1[1]:.1f} A. \"\n",
    "              \"min-max displacement: {2:.1f}...{3:.1f} A\".format(ts.frame, rmsd, distances.min(), distances.max()))\n",
    "\n",
    "print(\"Wrote PDB trajectory {0} with distances in bfactor field\".format(pdbtrj))"
   ]
  },
  {
   "cell_type": "markdown",
   "metadata": {},
   "source": [
    "## Using the MDAnalysis.analysis Modules"
   ]
  },
  {
   "cell_type": "markdown",
   "metadata": {},
   "source": [
    "MDAnalysis comes with a number of existing analysis code in the MDAnalysis.analysis module and example scripts (see also the Examples on the MDAnalysis wiki)."
   ]
  },
  {
   "cell_type": "markdown",
   "metadata": {},
   "source": [
    "### RMSD"
   ]
  },
  {
   "cell_type": "markdown",
   "metadata": {},
   "source": [
    "As an example we will use the MDAnalysis.analysis.rms.rmsd() function from the MDAnalysis.analysis.rms module. It computes the coordinate root mean square distance between two sets of coordinates. For example for the AdK trajectory the backbone RMSD between first and last frame is"
   ]
  },
  {
   "cell_type": "code",
   "execution_count": 58,
   "metadata": {
    "collapsed": false
   },
   "outputs": [
    {
     "data": {
      "text/plain": [
       "6.8527748446562393"
      ]
     },
     "execution_count": 58,
     "metadata": {},
     "output_type": "execute_result"
    }
   ],
   "source": [
    "import MDAnalysis.analysis.rms\n",
    "u = MDAnalysis.Universe(PSF, DCD)\n",
    "bb = u.select_atoms('backbone')\n",
    "A = bb.positions  # coordinates of first frame\n",
    "u.trajectory[-1]      # forward to last frame\n",
    "B = bb.positions  # coordinates of last frame\n",
    "MDAnalysis.analysis.rms.rmsd(A,B)"
   ]
  },
  {
   "cell_type": "markdown",
   "metadata": {},
   "source": [
    "### Superposition of structure"
   ]
  },
  {
   "cell_type": "markdown",
   "metadata": {},
   "source": [
    "In order to superimpose two structures in a way that minimizes the RMSD we have functions in the MDAnalysis.analysis.align module.\n",
    "\n",
    "The example uses files provided as part of the MDAnalysis test suite (in the variables PSF, DCD, and PDB_small). For all further examples execute first"
   ]
  },
  {
   "cell_type": "code",
   "execution_count": 59,
   "metadata": {
    "collapsed": true
   },
   "outputs": [],
   "source": [
    "import MDAnalysis\n",
    "from MDAnalysis.analysis import align, rms\n",
    "from MDAnalysis.tests.datafiles import PSF, DCD, PDB_small"
   ]
  },
  {
   "cell_type": "markdown",
   "metadata": {},
   "source": [
    "In the simplest case, we can simply calculate the C-alpha RMSD between two structures, using rmsd():"
   ]
  },
  {
   "cell_type": "code",
   "execution_count": 60,
   "metadata": {
    "collapsed": false
   },
   "outputs": [
    {
     "data": {
      "text/plain": [
       "28.20178579474479"
      ]
     },
     "execution_count": 60,
     "metadata": {},
     "output_type": "execute_result"
    }
   ],
   "source": [
    "ref = MDAnalysis.Universe(PDB_small)\n",
    "mobile = MDAnalysis.Universe(PSF,DCD)\n",
    "rms.rmsd(mobile.atoms.CA.positions, ref.atoms.CA.positions)"
   ]
  },
  {
   "cell_type": "markdown",
   "metadata": {},
   "source": [
    "Note that in this example translations have not been removed. In order to look at the pure rotation one needs to superimpose the centres of mass (or geometry) first:"
   ]
  },
  {
   "cell_type": "code",
   "execution_count": 61,
   "metadata": {
    "collapsed": false
   },
   "outputs": [
    {
     "data": {
      "text/plain": [
       "21.892591663632704"
      ]
     },
     "execution_count": 61,
     "metadata": {},
     "output_type": "execute_result"
    }
   ],
   "source": [
    "ref0 =  ref.atoms.CA.positions - ref.atoms.CA.center_of_mass()\n",
    "mobile0 =  mobile.atoms.CA.positions - mobile.atoms.CA.center_of_mass()\n",
    "rms.rmsd(mobile0, ref0)"
   ]
  },
  {
   "cell_type": "markdown",
   "metadata": {},
   "source": [
    "The rotation matrix that superimposes mobile on ref while minimizing the CA-RMSD is obtained with the rotation_matrix() function"
   ]
  },
  {
   "cell_type": "code",
   "execution_count": 62,
   "metadata": {
    "collapsed": false
   },
   "outputs": [
    {
     "name": "stdout",
     "output_type": "stream",
     "text": [
      "6.80939658647\n"
     ]
    }
   ],
   "source": [
    "R, rmsd = align.rotation_matrix(mobile0, ref0)\n",
    "print rmsd"
   ]
  },
  {
   "cell_type": "code",
   "execution_count": 63,
   "metadata": {
    "collapsed": false
   },
   "outputs": [
    {
     "name": "stdout",
     "output_type": "stream",
     "text": [
      "[[ 0.14514539 -0.27259113  0.95111876]\n",
      " [ 0.88652593  0.46267112 -0.00268642]\n",
      " [-0.43932289  0.84358136  0.30881368]]\n"
     ]
    }
   ],
   "source": [
    "print R"
   ]
  },
  {
   "cell_type": "markdown",
   "metadata": {},
   "source": [
    "Putting all this together one can superimpose all of mobile onto ref:"
   ]
  },
  {
   "cell_type": "code",
   "execution_count": 64,
   "metadata": {
    "collapsed": true
   },
   "outputs": [],
   "source": [
    "mobile.atoms.translate(-mobile.atoms.CA.center_of_mass())\n",
    "mobile.atoms.rotate(R)\n",
    "mobile.atoms.translate(ref.atoms.CA.center_of_mass())\n",
    "mobile.atoms.write(\"mobile_on_ref.pdb\")"
   ]
  },
  {
   "cell_type": "markdown",
   "metadata": {},
   "source": [
    "#### Exercise 5"
   ]
  },
  {
   "cell_type": "markdown",
   "metadata": {},
   "source": [
    "Use the above in order to investigate how rigid the CORE, NMP, and LID domains are during the transition: Compute time series of the CA RMSD of each domain relative to its own starting structure, when superimposed on the starting structure."
   ]
  },
  {
   "cell_type": "markdown",
   "metadata": {},
   "source": [
    "The code contains a function superpose() and rmsd(). The latter is marginally faster because we only need the calculated RMSD and not the full rotation matrix. (We are calling the lower-level function MDAnalysis.core.qcprot.CalcRMSDRotationalMatrix() directly, which has somewhat non-intuitive calling conventions). superpose() also does the superposition of the mobile group to the references (but alignto() is actually a more flexible tool for doing this). Otherwise it is mostly book-keeping, which is solved by organizing everything in dictionaries with keys “CORE”, “NMP”, “LID”."
   ]
  },
  {
   "cell_type": "code",
   "execution_count": 65,
   "metadata": {
    "collapsed": false
   },
   "outputs": [
    {
     "name": "stderr",
     "output_type": "stream",
     "text": [
      "/opt/anaconda2-4.1.1/lib/python2.7/site-packages/MDAnalysis/core/qcprot.py:9: DeprecationWarning: qcprot has moved to MDAnalysis.lib.qcprot and will be removed from here in release 1.0\n",
      "  DeprecationWarning)\n"
     ]
    },
    {
     "data": {
      "image/png": "[encoded data removed]",
      "text/plain": [
       "<matplotlib.figure.Figure at 0x7f54a6513a50>"
      ]
     },
     "metadata": {},
     "output_type": "display_data"
    }
   ],
   "source": [
    "import numpy as np\n",
    "from MDAnalysis.analysis.align import rotation_matrix\n",
    "from MDAnalysis.core.qcprot import CalcRMSDRotationalMatrix\n",
    "\n",
    "def superpose(mobile, xref0, xref_com=None):\n",
    "    \"\"\"Superpose the AtomGroup *mobile* onto the coordinates *xref0* centered at the orgin.\n",
    "\n",
    "    The original center of mass of the reference group *xref_com* must\n",
    "    be supplied or the superposition is done at the origin of the\n",
    "    coordinate system.\n",
    "    \"\"\"\n",
    "    # 995 us\n",
    "    xref_com = xref_com if xref_com is not None else np.array([0., 0., 0.])\n",
    "    xmobile0 = mobile.positions - mobile.center_of_mass()\n",
    "    R, rmsd = rotation_matrix(xmobile0, xref0)\n",
    "    mobile.rotate(R)\n",
    "    mobile.translate(xref_com)\n",
    "    return rmsd\n",
    "\n",
    "def rmsd(mobile, xref0):\n",
    "    \"\"\"Calculate optimal RMSD for AtomGroup *mobile* onto the coordinates *xref0* centered at the orgin.\n",
    "\n",
    "    The coordinates are not changed. No mass weighting.\n",
    "    \"\"\"\n",
    "    # 738 us\n",
    "    xmobile0 = mobile.positions - mobile.center_of_mass()\n",
    "    return CalcRMSDRotationalMatrix(xref0.T.astype(np.float64), xmobile0.T.astype(np.float64), mobile.n_atoms, None, None)\n",
    "\n",
    "\n",
    "if __name__ == \"__main__\":\n",
    "    import MDAnalysis\n",
    "    import matplotlib\n",
    "    import matplotlib.pyplot as plt\n",
    "\n",
    "    # load AdK DIMS trajectory\n",
    "    from MDAnalysis.tests.datafiles import PSF, DCD\n",
    "    u = MDAnalysis.Universe(PSF, DCD)\n",
    "\n",
    "    # one AtomGroup per domain\n",
    "    domains = {\n",
    "        'CORE': u.select_atoms(\"(resid 1:29 or resid 60:121 or resid 160:214) and name CA\"),\n",
    "        'LID': u.select_atoms(\"resid 122-159 and name CA\"),\n",
    "        'NMP': u.select_atoms(\"resid 30-59 and name CA\"),\n",
    "        }\n",
    "    colors = {'CORE': 'black', 'NMP': 'blue', 'LID': 'red'}\n",
    "\n",
    "    u.trajectory[0]   # rewind trajectory\n",
    "    xref0 = dict((name, g.positions - g.center_of_mass()) for name,g in domains.iteritems())\n",
    "\n",
    "    nframes = len(u.trajectory)\n",
    "    results = dict((name, np.zeros((nframes, 2), dtype=np.float64)) for name in domains)\n",
    "\n",
    "    for iframe,ts in enumerate(u.trajectory):\n",
    "        for name, g in domains.iteritems():\n",
    "            results[name][iframe, :] = u.trajectory.time, rmsd(g, xref0[name])\n",
    "\n",
    "\n",
    "    # plot\n",
    "    fig = plt.figure(figsize=(5,5))\n",
    "    ax = fig.add_subplot(111)\n",
    "    for name in \"CORE\", \"NMP\", \"LID\":\n",
    "        data = results[name]\n",
    "        ax.plot(data[:,0], data[:,1], linestyle=\"-\", color=colors[name], lw=2, label=name)\n",
    "    ax.legend(loc=\"best\")\n",
    "    ax.set_xlabel(r\"time  $t$ (ps)\")\n",
    "    ax.set_ylabel(r\"C$_\\alpha$ RMSD from $t=0$, $\\rho_{\\mathrm{C}_\\alpha}$ ($\\AA$)\")\n",
    "\n",
    "    for ext in ('svg', 'pdf', 'png'):\n",
    "        fig.savefig(\"AdK_domain_rigidity.{0}\".format(ext))"
   ]
  },
  {
   "cell_type": "code",
   "execution_count": null,
   "metadata": {
    "collapsed": true
   },
   "outputs": [],
   "source": []
  }
 ],
 "metadata": {
  "kernelspec": {
   "display_name": "Python2",
   "language": "python",
   "name": "python2"
  },
  "language_info": {
   "codemirror_mode": {
    "name": "ipython",
    "version": 2
   },
   "file_extension": ".py",
   "mimetype": "text/x-python",
   "name": "python",
   "nbconvert_exporter": "python",
   "pygments_lexer": "ipython2",
   "version": "2.7.12"
  }
 },
 "nbformat": 4,
 "nbformat_minor": 0
}
