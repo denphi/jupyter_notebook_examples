{
 "cells": [
  {
   "cell_type": "markdown",
   "metadata": {},
   "source": [
    "# Introduction to atomman: Basic Support and Analysis Tools\n",
    "\n",
    "__Lucas M. Hale__, [lucas.hale@nist.gov](mailto:lucas.hale@nist.gov?Subject=ipr-demo), _Materials Science and Engineering Division, NIST_.\n",
    "    \n",
    "[Disclaimers](http://www.nist.gov/public_affairs/disclaimer.cfm) \n",
    "\n",
    "From https://github.com/usnistgov/atomman/tree/master/doc/tutorial"
   ]
  },
  {
   "cell_type": "markdown",
   "metadata": {},
   "source": [
    "## 1. Introduction\n",
    "\n",
    "This Notebook outlines some of the other tools in atomman that provide basic support features and simple analysis of the atomistic systems."
   ]
  },
  {
   "cell_type": "markdown",
   "metadata": {},
   "source": [
    "**Library Imports**"
   ]
  },
  {
   "cell_type": "code",
   "execution_count": null,
   "metadata": {
    "ExecuteTime": {
     "end_time": "2023-02-24T14:18:41.104854Z",
     "start_time": "2023-02-24T14:18:35.565685Z"
    }
   },
   "outputs": [],
   "source": [
    "# Standard Python libraries\n",
    "from __future__ import (absolute_import, print_function,\n",
    "                        division, unicode_literals)\n",
    "import warnings\n",
    "warnings.filterwarnings('ignore')\n",
    "import os\n",
    "from io import open\n",
    "from copy import deepcopy\n",
    "import datetime\n",
    "\n",
    "# http://www.numpy.org/\n",
    "import numpy as np\n",
    "\n",
    "# https://github.com/usnistgov/atomman\n",
    "import atomman as am\n",
    "import atomman.unitconvert as uc\n",
    "\n",
    "# Show atomman version\n",
    "print('atomman version =', am.__version__)\n",
    "\n",
    "# Show date of Notebook execution\n",
    "print('Notebook executed on', datetime.date.today())"
   ]
  },
  {
   "cell_type": "markdown",
   "metadata": {},
   "source": [
    "Construct a demonstration 2x2x2 diamond cubic silicon system"
   ]
  },
  {
   "cell_type": "code",
   "execution_count": null,
   "metadata": {
    "ExecuteTime": {
     "end_time": "2023-02-24T14:18:41.171395Z",
     "start_time": "2023-02-24T14:18:41.112600Z"
    }
   },
   "outputs": [],
   "source": [
    "a = uc.set_in_units(5.431, 'angstrom')\n",
    "box = am.Box(a=a, b=a, c=a)\n",
    "pos = [[0.00, 0.00, 0.00], [0.50, 0.50, 0.00], [0.50, 0.00, 0.50], [0.00, 0.50, 0.50],\n",
    "       [0.25, 0.25, 0.25], [0.75, 0.75, 0.25], [0.75, 0.25, 0.75], [0.25, 0.75, 0.75]]\n",
    "atoms = am.Atoms(atype=1, pos=pos)\n",
    "ucell = am.System(atoms=atoms, box=box, scale=True)\n",
    "system = ucell.supersize(2,2,2)\n",
    "print(system)"
   ]
  },
  {
   "cell_type": "markdown",
   "metadata": {},
   "source": [
    "## 2. Elastic constants \n",
    "\n",
    "The full elastic constants tensor for a given crystal can be represented with the atomman.ElasticConstants class.  The values in an ElasticConstants object can be set and retrieved in a variety of formats and transformed to other Cartesian coordinate systems. \n",
    "\n",
    "See the [03.1. ElasticConstants class Jupyter Notebook](03.1. ElasticConstants class.ipynb) for more details and a full description of all of the class methods."
   ]
  },
  {
   "cell_type": "code",
   "execution_count": null,
   "metadata": {
    "ExecuteTime": {
     "end_time": "2023-02-24T14:18:48.979930Z",
     "start_time": "2023-02-24T14:18:48.974789Z"
    }
   },
   "outputs": [],
   "source": [
    "# Define an ElasticConstants object for diamond cubic silicon\n",
    "# values taken from http://www.ioffe.ru/SVA/NSM/Semicond/Si/mechanic.html\n",
    "C11 = uc.set_in_units(16.60 * 10**11, 'dyn/cm^2')\n",
    "C12 = uc.set_in_units( 6.40 * 10**11, 'dyn/cm^2')\n",
    "C44 = uc.set_in_units( 7.96 * 10**11, 'dyn/cm^2')\n",
    "\n",
    "C = am.ElasticConstants(C11=C11, C12=C12, C44=C44)"
   ]
  },
  {
   "cell_type": "code",
   "execution_count": null,
   "metadata": {
    "ExecuteTime": {
     "end_time": "2023-02-24T14:18:49.662019Z",
     "start_time": "2023-02-24T14:18:49.657948Z"
    }
   },
   "outputs": [],
   "source": [
    "# Get 6x6 Cij Voigt representation of elastic constants in GPa\n",
    "print('Cij (GPa) =')\n",
    "print(uc.get_in_units(C.Cij, 'GPa'))"
   ]
  },
  {
   "cell_type": "markdown",
   "metadata": {},
   "source": [
    "## 3. Relative distances between atoms\n",
    "\n",
    "There are a few built-in tools for investigating the relative positions between atoms of the same and different systems."
   ]
  },
  {
   "cell_type": "markdown",
   "metadata": {},
   "source": [
    "### 3.1. System.dvect()\n",
    "\n",
    "The System.dvect() method computes the shortest vector(s) between two points or list of points within the atomman.System taking into account the System's periodic dimensions.\n",
    "\n",
    "Parameters\n",
    "\n",
    "- **pos_0** (*numpy.ndarray or index*) Absolute Cartesian vector position(s) to use as reference point(s). If the value can be used as an index, then self.atoms.pos[pos_0] is taken.\n",
    "\n",
    "- **pos_1** (*numpy.ndarray or index*) Absolute Cartesian vector position(s) to find relative to pos_0.  If the value can be used as an index, then self.atoms.pos[pos_1] is taken.\n",
    "\n",
    "- **code** (*str, optional*) Option for specifying which underlying code function to use. 'cython' uses the version of the function built in cython (faster). 'python' uses the purely python version.  Default is 'cython' if the code can be imported, otherwise 'python'."
   ]
  },
  {
   "cell_type": "code",
   "execution_count": null,
   "metadata": {
    "ExecuteTime": {
     "end_time": "2023-02-24T14:18:53.261013Z",
     "start_time": "2023-02-24T14:18:53.257527Z"
    }
   },
   "outputs": [],
   "source": [
    "# Calculate shortest vector between atoms 1 and 60\n",
    "print(system.dvect(1, 60))"
   ]
  },
  {
   "cell_type": "code",
   "execution_count": null,
   "metadata": {
    "ExecuteTime": {
     "end_time": "2023-02-24T14:18:53.944330Z",
     "start_time": "2023-02-24T14:18:53.939246Z"
    }
   },
   "outputs": [],
   "source": [
    "# Calculate shortest distance between position [5., 5., 5.] and all atoms in system\n",
    "pos = system.atoms.pos\n",
    "\n",
    "dvects = system.dvect([5.0, 5.0, 5.0], pos)\n",
    "print(np.linalg.norm(dvects, axis=1))"
   ]
  },
  {
   "cell_type": "markdown",
   "metadata": {},
   "source": [
    "### 3.2. displacement()\n",
    "\n",
    "The atomman.displacement() function compares two systems with the same number of atoms and calculates the vector differences between all atoms with the same atomic id's. The vectors returned are the shortest vectors after taking periodic boundaries in consideration, i.e. it uses dvect().\n",
    "\n",
    "Parameters\n",
    "\n",
    "- **system_0** (*atomman.System*) The initial system to calculate displacements from.\n",
    "\n",
    "- **system_1** (*atomman.System*) The final system to calculate displacements to.\n",
    "\n",
    "- **box_reference** (*str or None*) Specifies which system's boundary conditions to use.\n",
    "\n",
    "    - 'initial' uses system_0's box and pbc.\n",
    "    \n",
    "    - 'final' uses system_1's box and pbc (Default).\n",
    "    \n",
    "    - None computes the straight difference between the positions without accounting for periodic boundaries.\n",
    "    \n",
    "- **code** (*str, optional*) Option for specifying which code version of dvect to use (see dvect's documentation for details)."
   ]
  },
  {
   "cell_type": "code",
   "execution_count": null,
   "metadata": {
    "ExecuteTime": {
     "end_time": "2023-02-24T14:18:56.921946Z",
     "start_time": "2023-02-24T14:18:56.913415Z"
    }
   },
   "outputs": [],
   "source": [
    "# Copy system and randomly displace atoms\n",
    "system2 = deepcopy(system)\n",
    "system2.atoms.pos += 3 * np.random.rand(system.natoms, 3)\n",
    "system2.wrap()\n",
    "\n",
    "# Show displacement between the two systems\n",
    "print(am.displacement(system, system2))       "
   ]
  },
  {
   "cell_type": "markdown",
   "metadata": {},
   "source": [
    "### 3.3. System.neighborlist()\n",
    "\n",
    "A list of neighbor atoms within a cutoff can be constructed using the System.neighborlist() method.  The list of neighbors is returned as an atomman.NeighborList object.\n",
    "\n",
    "See the [03.2. NeighborList class Jupyter Notebook](03.2. NeighborList class.ipynb) for more details on how the list is calculated and can be used.\n",
    "\n",
    "Parameters\n",
    "        \n",
    "- **cutoff** (*float, optional*) Radial cutoff distance for identifying neighbors.  Must be given if model is not given.\n",
    "\n",
    "- **model** (*str or file-like object, optional*) Gives the file path or content to load.  If given, no other parameters are allowed.\n",
    "            \n",
    "- **cmult** (*int, optional*) Parameter associated with the binning routine.  Default value is most likely the fastest.\n",
    "            \n",
    "- **code** (*str, optional*)  Option for specifying which underlying code function to use. 'cython' uses the version of the function built in cython (faster). 'python' uses the purely python version.  Default is 'cython' if the code can be imported, otherwise 'python'.\n",
    "\n",
    "- **initialsize** (*int, optional*) The number of neighbor positions to initially assign to each atom.  Default value is 20.\n",
    "\n",
    "- **deltasize** (*int, optional*) Specifies the number of extra neighbor positions to allow each atom when the number of neighbors exceeds the underlying array size.  Default value is 10.\n",
    "            \n",
    "Returns\n",
    "        \n",
    "- (*atomman.NeighborList*) The compiled list of neighbors."
   ]
  },
  {
   "cell_type": "code",
   "execution_count": null,
   "metadata": {
    "ExecuteTime": {
     "end_time": "2023-02-24T14:19:02.953890Z",
     "start_time": "2023-02-24T14:19:02.945346Z"
    }
   },
   "outputs": [],
   "source": [
    "# Identify neighbors within 3 angstroms\n",
    "neighbors = system.neighborlist(cutoff=3)"
   ]
  },
  {
   "cell_type": "code",
   "execution_count": null,
   "metadata": {
    "ExecuteTime": {
     "end_time": "2023-02-24T14:19:03.308829Z",
     "start_time": "2023-02-24T14:19:03.305832Z"
    }
   },
   "outputs": [],
   "source": [
    "# Show average atomic coordination\n",
    "print('Average coordination =', neighbors.coord.mean())"
   ]
  },
  {
   "cell_type": "code",
   "execution_count": null,
   "metadata": {
    "ExecuteTime": {
     "end_time": "2023-02-24T14:19:03.790450Z",
     "start_time": "2023-02-24T14:19:03.787337Z"
    }
   },
   "outputs": [],
   "source": [
    "# List neighbor atoms of atom 6\n",
    "print('Neighbors of atom 6 =', neighbors[6])"
   ]
  },
  {
   "cell_type": "markdown",
   "metadata": {},
   "source": [
    "## 4. Basic tools\n",
    "\n",
    "This lists some of the other basic tools and features in atomman."
   ]
  },
  {
   "cell_type": "markdown",
   "metadata": {},
   "source": [
    "### 4.1. Atomic information\n",
    "\n",
    "- **atomman.tools.atomic_number()** returns the atomic number associated with an element's atomic symbol.  \n",
    "\n",
    "- **atomman.tools.atomic_symbol()** returns the elemental symbol associated with an given atomic number.\n",
    "\n",
    "- **atomman.tools.atomic_mass()** returns the atomic mass of an element or isotope. The atom can be identified with atomic number or atomic/isotope symbol."
   ]
  },
  {
   "cell_type": "code",
   "execution_count": null,
   "metadata": {
    "ExecuteTime": {
     "end_time": "2023-02-24T14:19:05.915007Z",
     "start_time": "2023-02-24T14:19:05.872160Z"
    }
   },
   "outputs": [],
   "source": [
    "# Get atomic number for an atomic symbol\n",
    "num = am.tools.atomic_number('Fe')\n",
    "print(num)\n",
    "\n",
    "# Get atomic symbol for an atomic number\n",
    "symbol = am.tools.atomic_symbol(num)\n",
    "print(symbol)\n",
    "\n",
    "# Get atomic mass for an atomic symbol\n",
    "mass = am.tools.atomic_mass(symbol)\n",
    "print(mass)\n",
    "\n",
    "# Get atomic mass for an atomic number\n",
    "mass = am.tools.atomic_mass(num)\n",
    "print(mass)"
   ]
  },
  {
   "cell_type": "code",
   "execution_count": null,
   "metadata": {
    "ExecuteTime": {
     "end_time": "2023-02-24T14:19:06.429802Z",
     "start_time": "2023-02-24T14:19:06.424700Z"
    }
   },
   "outputs": [],
   "source": [
    "# Get atomic mass for an isotope\n",
    "mass = am.tools.atomic_mass('Al-26')\n",
    "print(mass)"
   ]
  },
  {
   "cell_type": "markdown",
   "metadata": {},
   "source": [
    "### 4.2. axes_check()\n",
    "\n",
    "The axes_check() function is useful when working in Cartesian systems. Given a (3,3) array representing three 3D Cartesian vectors:\n",
    "\n",
    "- The three vectors are checked that they are orthogonal and right-handed.\n",
    "\n",
    "- The corresponding array of unit vectors are returned. This can then be used for crystal transformations."
   ]
  },
  {
   "cell_type": "code",
   "execution_count": null,
   "metadata": {
    "ExecuteTime": {
     "end_time": "2023-02-24T14:19:07.384395Z",
     "start_time": "2023-02-24T14:19:07.380104Z"
    }
   },
   "outputs": [],
   "source": [
    "axes = [[-1, 0, 1],\n",
    "        [ 1, 0, 1],\n",
    "        [ 0, 1, 0]]\n",
    "print(am.tools.axes_check(axes))"
   ]
  },
  {
   "cell_type": "markdown",
   "metadata": {},
   "source": [
    "### 4.3. filltemplate()\n",
    "\n",
    "The filltemplate() function takes a template and fills in values for delimited template variables."
   ]
  },
  {
   "cell_type": "code",
   "execution_count": null,
   "metadata": {
    "ExecuteTime": {
     "end_time": "2023-02-24T14:19:09.027461Z",
     "start_time": "2023-02-24T14:19:09.023358Z"
    }
   },
   "outputs": [],
   "source": [
    "madlibs = \"My friend <name> really likes to use templates to <verb>, says that they are <adjective>!\"\n",
    "s_delimiter = '<'\n",
    "e_delimiter = '>'\n",
    "\n",
    "terms = {}\n",
    "terms['name'] = 'Charlie'\n",
    "terms['verb'] = 'program'\n",
    "terms['adjective'] = 'delicious'\n",
    "\n",
    "print(am.tools.filltemplate(madlibs, terms, s_delimiter, e_delimiter))"
   ]
  },
  {
   "cell_type": "markdown",
   "metadata": {},
   "source": [
    "### 4.4. indexstr()\n",
    "\n",
    "Iterates through all indicies of an array with a given shape, returning both the numeric index and a string representation."
   ]
  },
  {
   "cell_type": "code",
   "execution_count": null,
   "metadata": {
    "ExecuteTime": {
     "end_time": "2023-02-24T14:19:09.915712Z",
     "start_time": "2023-02-24T14:19:09.910942Z"
    }
   },
   "outputs": [],
   "source": [
    "for index, istr in am.tools.indexstr((3,2)):\n",
    "    print('index ->', repr(index), ', istr ->', repr(istr))"
   ]
  },
  {
   "cell_type": "markdown",
   "metadata": {},
   "source": [
    "### 4.5. uber_open_rmode\n",
    "\n",
    "uber_open_rmode is a context manager that allows for similar reading of content from a file or from a string variable. It equivalently handles:\n",
    "    \n",
    "- str path name to a file\n",
    "\n",
    "- str content\n",
    "\n",
    "- open file-like object"
   ]
  },
  {
   "cell_type": "code",
   "execution_count": null,
   "metadata": {
    "ExecuteTime": {
     "end_time": "2023-02-24T14:19:11.010894Z",
     "start_time": "2023-02-24T14:19:11.002500Z"
    }
   },
   "outputs": [],
   "source": [
    "# Define str and save to file\n",
    "text = 'Here I am, read me!'\n",
    "fname = 'text.txt'\n",
    "with open(fname, 'w') as f:\n",
    "    f.write(text)\n",
    "\n",
    "# Use uber_open_rmode on text\n",
    "with am.tools.uber_open_rmode(text) as f:\n",
    "    print(f.read())\n",
    "    \n",
    "# Use uber_open_rmode on file path\n",
    "with am.tools.uber_open_rmode(fname) as f:\n",
    "    print(f.read())\n",
    "    \n",
    "# Use uber_open_rmode on file-like object\n",
    "with open(fname, 'rb') as fobject:\n",
    "    with am.tools.uber_open_rmode(fobject) as f:\n",
    "        print(f.read())"
   ]
  },
  {
   "cell_type": "markdown",
   "metadata": {},
   "source": [
    "### 4.6. vect_angle()\n",
    "\n",
    "The vect_angle() function returns the angle between two vectors."
   ]
  },
  {
   "cell_type": "code",
   "execution_count": null,
   "metadata": {
    "ExecuteTime": {
     "end_time": "2023-02-24T14:19:11.749142Z",
     "start_time": "2023-02-24T14:19:11.743796Z"
    }
   },
   "outputs": [],
   "source": [
    "vect1 = 2*np.random.rand(3)-1\n",
    "vect2 = 2*np.random.rand(3)-1\n",
    "\n",
    "print('Angle between', vect1, 'and', vect2, '=')\n",
    "print(am.tools.vect_angle(vect1, vect2), 'degrees')\n",
    "print(am.tools.vect_angle(vect1, vect2, 'radian'), 'radians')"
   ]
  },
  {
   "cell_type": "markdown",
   "metadata": {},
   "source": [
    "### 4.7. Miller index conversions\n",
    "\n",
    "- **atomman.tools.miller.vector3to4(indices)** converts three-term Miller indices to four-term Miller-Bravais for hexagonal systems.\n",
    "\n",
    "- **atomman.tools.miller.vector4to3(indices)** converts four-term Miller-Bravais to three-term Miller indices.\n",
    "\n",
    "- **atomman.tools.miller.vector_crystal_to_cartesian(indices, box)** converts Miller and Miller-Bravais indices to Cartesian vectors based on a supplied box.\n",
    "\n",
    "**Note**: The returned indices will be the smallest integer representations possible, i.e. direction is retained but magnitude may be different. "
   ]
  },
  {
   "cell_type": "code",
   "execution_count": null,
   "metadata": {
    "ExecuteTime": {
     "end_time": "2023-02-24T14:19:12.514574Z",
     "start_time": "2023-02-24T14:19:12.510088Z"
    }
   },
   "outputs": [],
   "source": [
    "# Test single value case\n",
    "print(am.tools.miller.vector3to4(np.array([3,3,3])))\n",
    "print(am.tools.miller.vector4to3(np.array([1,1,-2,0])))"
   ]
  },
  {
   "cell_type": "code",
   "execution_count": null,
   "metadata": {
    "ExecuteTime": {
     "end_time": "2023-02-24T14:19:12.726540Z",
     "start_time": "2023-02-24T14:19:12.720126Z"
    }
   },
   "outputs": [],
   "source": [
    "# Generate random uvw crystal indices\n",
    "indices = np.random.randint(-5,6, (3,3))\n",
    "print(indices)\n",
    "print()\n",
    "\n",
    "# Convert to hexagonal uvtw's\n",
    "indices = am.tools.miller.vector3to4(indices)\n",
    "print(indices)\n",
    "print()\n",
    "\n",
    "# Convert back to uvw's\n",
    "indices = am.tools.miller.vector4to3(indices)\n",
    "print(indices)"
   ]
  },
  {
   "cell_type": "code",
   "execution_count": null,
   "metadata": {
    "ExecuteTime": {
     "end_time": "2023-02-24T14:19:12.999456Z",
     "start_time": "2023-02-24T14:19:12.991720Z"
    }
   },
   "outputs": [],
   "source": [
    "# Define a hexagonal box\n",
    "a = uc.set_in_units(2.51, 'angstrom')\n",
    "c = uc.set_in_units(4.07, 'angstrom')\n",
    "box = am.Box(a=a, b=a, c=c, gamma=120)\n",
    "\n",
    "# Pass Miller indices\n",
    "indices = [[1,0,0],\n",
    "           [0,1,0],\n",
    "           [0,0,1]]\n",
    "print(am.tools.miller.vector_crystal_to_cartesian(indices, box))\n",
    "print()\n",
    "\n",
    "# Pass equivalent Miller-Bravais indices\n",
    "indices = [[ 2,-1,-1, 0],\n",
    "           [-1, 2,-1, 0],\n",
    "           [ 0, 0, 0, 1]]\n",
    "print(am.tools.miller.vector_crystal_to_cartesian(indices, box))"
   ]
  },
  {
   "cell_type": "markdown",
   "metadata": {},
   "source": [
    "### 4.8. Crystal lattice identification\n",
    "\n",
    "There are also a few tests for identifying if a supplied box is consistent with a standard representation of a crystal family unit cell.\n",
    "\n",
    "- **atomman.tools.identifyfamily(box)** returns str crystal family if box corresponds to a standard crystal representation. Otherwise, returns None.\n",
    "\n",
    "- **atomman.tools.iscubic(box))** returns bool indicating if box is a standard cubic box.\n",
    "\n",
    "- **atomman.tools.ishexagonal(box))** returns bool indicating if box is a standard hexagonal box.\n",
    "\n",
    "- **atomman.tools.istetragonal(box))** returns bool indicating if box is a standard tetragonal box.\n",
    " \n",
    "- **atomman.tools.isrhombohedral(box))** returns bool indicating if box is a standard rhombohedral box.\n",
    "\n",
    "- **atomman.tools.isorthorhombic(box))** returns bool indicating if box is a standard orthorhombic box.\n",
    "\n",
    "- **atomman.tools.ismonoclinic(box))** returns bool indicating if box is a standard monoclinic box.\n",
    "\n",
    "- **atomman.tools.istriclinic(box))** returns bool indicating if box is a standard triclinic box.\n",
    "\n",
    "All of these functions use the following standard representation criteria:\n",
    "\n",
    "- cubic: \n",
    "    - $a = b = c$\n",
    "    - $\\alpha = \\beta = \\gamma = 90$\n",
    "- hexagonal: \n",
    "    - $a = b \\ne c$\n",
    "    - $\\alpha = \\beta = 90$\n",
    "    - $\\gamma = 120$\n",
    "- tetragonal: \n",
    "    - $a = b \\ne c$\n",
    "    - $\\alpha = \\beta = \\gamma = 90$\n",
    "- rhombohedral:\n",
    "    - $a = b = c$\n",
    "    - $\\alpha = \\beta = \\gamma \\ne 90$\n",
    "- orthorhombic: \n",
    "    - $a \\ne b \\ne c$\n",
    "    - $\\alpha = \\beta = \\gamma = 90$\n",
    "- monoclinic: \n",
    "    - $a \\ne b \\ne c$\n",
    "    - $\\alpha = \\gamma = 90$\n",
    "    - $\\beta \\ne 90$\n",
    "- triclinic: \n",
    "    - $a \\ne b \\ne c$\n",
    "    - $\\alpha \\ne \\beta \\ne \\gamma$"
   ]
  },
  {
   "cell_type": "code",
   "execution_count": null,
   "metadata": {
    "ExecuteTime": {
     "end_time": "2023-02-24T14:19:13.355361Z",
     "start_time": "2023-02-24T14:19:13.343665Z"
    }
   },
   "outputs": [],
   "source": [
    "# Define an orthogonal box\n",
    "a = uc.set_in_units(2.51, 'angstrom')\n",
    "b = uc.set_in_units(3.13, 'angstrom')\n",
    "c = uc.set_in_units(4.07, 'angstrom')\n",
    "box = am.Box(a=a, b=b, c=c)\n",
    "\n",
    "print('identifyfamily =', am.tools.identifyfamily(box))\n",
    "print('iscubic =       ', am.tools.iscubic(box))\n",
    "print('ishexagonal =   ', am.tools.ishexagonal(box))\n",
    "print('istetragonal =  ', am.tools.istetragonal(box))\n",
    "print('isrhombohedral =', am.tools.isrhombohedral(box))\n",
    "print('isorthorhombic =', am.tools.isorthorhombic(box))\n",
    "print('ismonoclinic =  ', am.tools.ismonoclinic(box))\n",
    "print('istriclinic =   ', am.tools.istriclinic(box))"
   ]
  },
  {
   "cell_type": "code",
   "execution_count": null,
   "metadata": {
    "ExecuteTime": {
     "end_time": "2023-02-24T14:19:21.927938Z",
     "start_time": "2023-02-24T14:19:21.923313Z"
    }
   },
   "outputs": [],
   "source": [
    "# Define a non-standard tetragonal box with a=c!=b\n",
    "box = am.Box(a=a, b=b, c=a)\n",
    "print('identifyfamily =', am.tools.identifyfamily(box))"
   ]
  },
  {
   "cell_type": "markdown",
   "metadata": {},
   "source": [
    "**File Cleanup**"
   ]
  },
  {
   "cell_type": "code",
   "execution_count": null,
   "metadata": {
    "ExecuteTime": {
     "end_time": "2023-02-24T14:19:22.772357Z",
     "start_time": "2023-02-24T14:19:22.769523Z"
    }
   },
   "outputs": [],
   "source": [
    "os.remove('text.txt')"
   ]
  },
  {
   "cell_type": "code",
   "execution_count": null,
   "metadata": {},
   "outputs": [],
   "source": []
  },
  {
   "cell_type": "code",
   "execution_count": null,
   "metadata": {},
   "outputs": [],
   "source": []
  },
  {
   "cell_type": "code",
   "execution_count": null,
   "metadata": {},
   "outputs": [],
   "source": []
  }
 ],
 "metadata": {
  "kernelspec": {
   "display_name": "Python 3 (ipykernel)",
   "language": "python",
   "name": "python3"
  },
  "language_info": {
   "codemirror_mode": {
    "name": "ipython",
    "version": 3
   },
   "file_extension": ".py",
   "mimetype": "text/x-python",
   "name": "python",
   "nbconvert_exporter": "python",
   "pygments_lexer": "ipython3",
   "version": "3.8.10"
  },
  "toc": {
   "base_numbering": 1,
   "nav_menu": {},
   "number_sections": true,
   "sideBar": true,
   "skip_h1_title": false,
   "title_cell": "Table of Contents",
   "title_sidebar": "Contents",
   "toc_cell": false,
   "toc_position": {},
   "toc_section_display": true,
   "toc_window_display": false
  },
  "varInspector": {
   "cols": {
    "lenName": 16,
    "lenType": 16,
    "lenVar": 40
   },
   "kernels_config": {
    "python": {
     "delete_cmd_postfix": "",
     "delete_cmd_prefix": "del ",
     "library": "var_list.py",
     "varRefreshCmd": "print(var_dic_list())"
    },
    "r": {
     "delete_cmd_postfix": ") ",
     "delete_cmd_prefix": "rm(",
     "library": "var_list.r",
     "varRefreshCmd": "cat(var_dic_list()) "
    }
   },
   "types_to_exclude": [
    "module",
    "function",
    "builtin_function_or_method",
    "instance",
    "_Feature"
   ],
   "window_display": false
  }
 },
 "nbformat": 4,
 "nbformat_minor": 2
}
