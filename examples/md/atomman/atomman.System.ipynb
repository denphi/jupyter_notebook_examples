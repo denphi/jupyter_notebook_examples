{
 "cells": [
  {
   "cell_type": "markdown",
   "metadata": {},
   "source": [
    "# AtomMan System Class"
   ]
  },
  {
   "cell_type": "markdown",
   "metadata": {},
   "source": [
    "**Lucas M. Hale**, [lucas.hale@nist.gov](mailto:lucas.hale@nist.gov?Subject=ipr-demo), *Materials Science and Engineering Division, NIST*.\n",
    "\n",
    "**Chandler A. Becker**, [chandler.becker@nist.gov](mailto:chandler.becker@nist.gov?Subject=ipr-demo), *Materials Science and Engineering Division, NIST*.\n",
    "\n",
    "**Zachary T. Trautt**, [zachary.trautt@nist.gov](mailto:zachary.trautt@nist.gov?Subject=ipr-demo), *Materials Measurement Science Division, NIST*.\n",
    "\n",
    "Version: 2016-03-31\n",
    "\n",
    "[Disclaimers](http://www.nist.gov/public_affairs/disclaimer.cfm)\n",
    "\n",
    "Return to the [main atomman page](https://github.com/usnistgov/atomman).\n",
    "\n",
    "## Introduction\n",
    "\n",
    "Class System represents a full atomistic system by combining an [Atoms](https://github.com/usnistgov/atomman/blob/master/atomman/core/Atoms.py) instance with a [Box](https://github.com/usnistgov/atomman/blob/master/atomman/core/Box.py) instance.  All of the methods of Atoms and Box have corresponding methods in System that add in functionality associated with coupling the atomic positions to the box geometry.  This includes the handling of periodic boundaries.\n",
    "\n",
    "The underlying code can be found in [atomman/core/System.py](https://github.com/usnistgov/atomman/blob/master/atomman/core/System.py)."
   ]
  },
  {
   "cell_type": "markdown",
   "metadata": {},
   "source": [
    "__Library Imports__"
   ]
  },
  {
   "cell_type": "code",
   "execution_count": 1,
   "metadata": {
    "collapsed": false
   },
   "outputs": [],
   "source": [
    "#Standard library imports\n",
    "from collections import OrderedDict\n",
    "\n",
    "#External library imports\n",
    "import numpy as np\n",
    "\n",
    "#atomman imports\n",
    "from atomman import Atoms, Box, System"
   ]
  },
  {
   "cell_type": "markdown",
   "metadata": {},
   "source": [
    "## 1.  Initilization\n",
    "\n",
    "Initilizing a System has the following optional arguments:\n",
    "\n",
    "- __atoms__ = an Atoms instance.  The default value is to initilize an Atoms instance with Atoms().\n",
    "\n",
    "- __box__ = a Box instance. The default value is to initilize a Box instance with Box().\n",
    "\n",
    "- __pbc__ = a list of three boolean values where True indicates that the corresponding dimension is periodic.  The default value is (True, True, True).\n",
    "\n",
    "- __scale__ = boolean indicating that the pos contained in atoms should be treated as relative to the box dimensions.  If True, the pos values will be multiplied by the box vectors to obtain absolute position values.  The default value is False.\n",
    "\n",
    "- __prop__ = a dictionary allowing for system properties to be saved with the System object.  The default value is an empty dictionary.\n",
    "\n",
    "For the built-in scaling functionality, ahe atomic positions stored in a System's atoms should be in absolute values, not box scaled values.\n",
    "\n",
    "__Note:__ The number of atoms in a System is fixed because the number of atoms in the contained Atoms instance is fixed.   "
   ]
  },
  {
   "cell_type": "code",
   "execution_count": 2,
   "metadata": {
    "collapsed": false
   },
   "outputs": [],
   "source": [
    "#Create a system for a fcc unit cell with a=3.2\n",
    "atoms = Atoms(natoms=4)\n",
    "atoms.prop(key='atype', value=[1])\n",
    "atoms.prop(key='pos', value=np.array([[0.0, 0.0, 0.0],\n",
    "                                      [0.5, 0.5, 0.0],\n",
    "                                      [0.5, 0.0, 0.5],\n",
    "                                      [0.0, 0.5, 0.5]]))\n",
    "box = Box(a=3.2, b=3.2, c=3.2)\n",
    "\n",
    "system1 = System(atoms=atoms, box=box, scale=True)"
   ]
  },
  {
   "cell_type": "markdown",
   "metadata": {},
   "source": [
    "## 2. Atoms-based methods and attributes\n",
    "\n",
    "The underlying Atoms instance can be directly accessed with System.atoms.  All of the attributes and methods for Atoms can then be directly accessed in this fashion.  \n",
    "\n",
    "Additionally, a number of system-wide methods and attributes are defined to extend functionality."
   ]
  },
  {
   "cell_type": "markdown",
   "metadata": {},
   "source": [
    "### 2.1 System.atoms_prop()\n",
    "\n",
    "The System.atoms_prop() method corresponds to the Atoms.prop() method and adds an optional scale argument.  If scale is True, then the value being set or returned with the method is scaled or unscaled using the Box vectors. The default value of scale is False."
   ]
  },
  {
   "cell_type": "code",
   "execution_count": 3,
   "metadata": {
    "collapsed": false
   },
   "outputs": [
    {
     "name": "stdout",
     "output_type": "stream",
     "text": [
      "system1.atoms_prop() -> ['atype', 'pos']\n",
      "\n",
      "system1.atoms_prop(key='pos') ->\n",
      "[[ 0.   0.   0. ]\n",
      " [ 1.6  1.6  0. ]\n",
      " [ 1.6  0.   1.6]\n",
      " [ 0.   1.6  1.6]]\n",
      "\n",
      "system1.atoms_prop(key='pos', scale=True) ->\n",
      "[[ 0.   0.   0. ]\n",
      " [ 0.5  0.5  0. ]\n",
      " [ 0.5  0.   0.5]\n",
      " [ 0.   0.5  0.5]]\n",
      "\n",
      "system1.atoms_prop(a_id=1, key='pos', value=[0.25, 0.25, 0.25], scale=True)\n",
      "system1.atoms_prop(a_id=1, key='pos') -> [ 0.8  0.8  0.8]\n",
      "system1.atoms_prop(a_id=1, key='pos', scale=True) -> [ 0.25  0.25  0.25]\n",
      "\n",
      "system1.atoms_prop(a_id=1, key='pos', value=[1.6, 1.6, 0.0])\n",
      "system1.atoms_prop(a_id=1, key='pos') -> [ 1.6  1.6  0. ]\n",
      "system1.atoms_prop(a_id=1, key='pos', scale=True) -> [ 0.5  0.5  0. ]\n"
     ]
    }
   ],
   "source": [
    "#No arguments returns list of assigned properties\n",
    "print \"system1.atoms_prop() ->\", system1.atoms_prop()\n",
    "print\n",
    "\n",
    "#Without scale, atoms_prop is identical to Atoms.prop()\n",
    "print \"system1.atoms_prop(key='pos') ->\"\n",
    "print system1.atoms_prop(key='pos')\n",
    "print\n",
    "\n",
    "#scale=True scales relative to box vectors\n",
    "print \"system1.atoms_prop(key='pos', scale=True) ->\"\n",
    "print system1.atoms_prop(key='pos', scale=True)\n",
    "print\n",
    "\n",
    "#Set 1, pos using scale\n",
    "system1.atoms_prop(a_id=1, key='pos', value=[0.25, 0.25, 0.25], scale=True)\n",
    "print \"system1.atoms_prop(a_id=1, key='pos', value=[0.25, 0.25, 0.25], scale=True)\"\n",
    "print \"system1.atoms_prop(a_id=1, key='pos') ->\", system1.atoms_prop(a_id=1, key='pos')\n",
    "print \"system1.atoms_prop(a_id=1, key='pos', scale=True) ->\", system1.atoms_prop(a_id=1, key='pos', scale=True)\n",
    "print \n",
    "\n",
    "#Set 1, pos not using scale\n",
    "system1.atoms_prop(a_id=1, key='pos', value=[1.6, 1.6, 0.0])\n",
    "print \"system1.atoms_prop(a_id=1, key='pos', value=[1.6, 1.6, 0.0])\"\n",
    "print \"system1.atoms_prop(a_id=1, key='pos') ->\", system1.atoms_prop(a_id=1, key='pos')\n",
    "print \"system1.atoms_prop(a_id=1, key='pos', scale=True) ->\", system1.atoms_prop(a_id=1, key='pos', scale=True)"
   ]
  },
  {
   "cell_type": "markdown",
   "metadata": {},
   "source": [
    "### 2.2 System.natoms and System.natypes\n",
    "\n",
    "These two System attributes are identical to their Atoms counterparts."
   ]
  },
  {
   "cell_type": "code",
   "execution_count": 4,
   "metadata": {
    "collapsed": false
   },
   "outputs": [
    {
     "name": "stdout",
     "output_type": "stream",
     "text": [
      "system1.natoms -> 4\n",
      "system1.natypes -> 1\n"
     ]
    }
   ],
   "source": [
    "print \"system1.natoms ->\", system1.natoms\n",
    "print \"system1.natypes ->\", system1.natypes"
   ]
  },
  {
   "cell_type": "markdown",
   "metadata": {},
   "source": [
    "## 3. Box-based methods and attributes\n",
    "\n",
    "The underlying Box instance can be directly accessed with System.box.  All of the attributes and methods for a Box can then be directly accessed in this fashion.  \n",
    "\n",
    "Additionally, a number of system-wide methods and attributes are defined to extend functionality."
   ]
  },
  {
   "cell_type": "markdown",
   "metadata": {},
   "source": [
    "### 3.1 System.box_set()\n",
    "\n",
    "The System.box_set() method corresponds to the Box.set() method.  The only difference is that System.box_set() has a scale argument.  With scale=False, the box vectors will be changed and the atoms left in their current positions.  With scale=True, the atoms will also be displaced such that their positions remain proportional to the box."
   ]
  },
  {
   "cell_type": "code",
   "execution_count": 5,
   "metadata": {
    "collapsed": false
   },
   "outputs": [
    {
     "name": "stdout",
     "output_type": "stream",
     "text": [
      "system1.box_set(a=4, b=4, c=4, scale=True)\n",
      "system1.box ->\n",
      "avect =  [ 4.000,  0.000,  0.000]\n",
      "bvect =  [ 0.000,  4.000,  0.000]\n",
      "cvect =  [ 0.000,  0.000,  4.000]\n",
      "origin = [ 0.000,  0.000,  0.000]\n",
      "system1.atoms ->\n",
      "     id |   atype |  pos[0] |  pos[1] |  pos[2]\n",
      "      0 |       1 |   0.000 |   0.000 |   0.000\n",
      "      1 |       1 |   2.000 |   2.000 |   0.000\n",
      "      2 |       1 |   2.000 |   0.000 |   2.000\n",
      "      3 |       1 |   0.000 |   2.000 |   2.000\n",
      "\n",
      "system1.box_set(a=4, b=4, c=4)\n",
      "system1.box ->\n",
      "avect =  [ 3.000,  0.000,  0.000]\n",
      "bvect =  [ 0.000,  3.000,  0.000]\n",
      "cvect =  [ 0.000,  0.000,  3.000]\n",
      "origin = [ 0.000,  0.000,  0.000]\n",
      "system1.atoms ->\n",
      "     id |   atype |  pos[0] |  pos[1] |  pos[2]\n",
      "      0 |       1 |   0.000 |   0.000 |   0.000\n",
      "      1 |       1 |   2.000 |   2.000 |   0.000\n",
      "      2 |       1 |   2.000 |   0.000 |   2.000\n",
      "      3 |       1 |   0.000 |   2.000 |   2.000\n",
      "\n",
      "system1.box_set(a=4, b=4, c=4)\n",
      "system1.box_set(a=3.2, b=3.2, c=3.2, scale=True)\n",
      "system1.box ->\n",
      "avect =  [ 3.200,  0.000,  0.000]\n",
      "bvect =  [ 0.000,  3.200,  0.000]\n",
      "cvect =  [ 0.000,  0.000,  3.200]\n",
      "origin = [ 0.000,  0.000,  0.000]\n",
      "system1.atoms ->\n",
      "     id |   atype |  pos[0] |  pos[1] |  pos[2]\n",
      "      0 |       1 |   0.000 |   0.000 |   0.000\n",
      "      1 |       1 |   1.600 |   1.600 |   0.000\n",
      "      2 |       1 |   1.600 |   0.000 |   1.600\n",
      "      3 |       1 |   0.000 |   1.600 |   1.600\n"
     ]
    }
   ],
   "source": [
    "system1.box_set(a=4, b=4, c=4, scale=True)\n",
    "print \"system1.box_set(a=4, b=4, c=4, scale=True)\"\n",
    "print \"system1.box ->\"\n",
    "print system1.box\n",
    "print \"system1.atoms ->\"\n",
    "print system1.atoms\n",
    "print \n",
    "\n",
    "system1.box_set(a=3, b=3, c=3)\n",
    "print \"system1.box_set(a=4, b=4, c=4)\"\n",
    "print \"system1.box ->\"\n",
    "print system1.box\n",
    "print \"system1.atoms ->\"\n",
    "print system1.atoms\n",
    "print\n",
    "\n",
    "system1.box_set(a=4, b=4, c=4)\n",
    "system1.box_set(a=3.2, b=3.2, c=3.2, scale=True)\n",
    "print \"system1.box_set(a=4, b=4, c=4)\"\n",
    "print \"system1.box_set(a=3.2, b=3.2, c=3.2, scale=True)\"\n",
    "print \"system1.box ->\"\n",
    "print system1.box\n",
    "print \"system1.atoms ->\"\n",
    "print system1.atoms"
   ]
  },
  {
   "cell_type": "markdown",
   "metadata": {},
   "source": [
    "### 3.4 System.box_normalize()\n",
    "\n",
    "The System.box_normalize() method normalizes the box vectors to be compatible with LAMMPS.  In doing so, the System's atom positions will also be changed such that the configurations remain identical."
   ]
  },
  {
   "cell_type": "markdown",
   "metadata": {},
   "source": [
    "### 4. Unique System methods\n",
    "\n",
    "Additional methods of the System depend on both the Atoms and the Box as well as the periodic boundary conditions."
   ]
  },
  {
   "cell_type": "markdown",
   "metadata": {},
   "source": [
    "### 4.1 System.pbc\n",
    "\n",
    "System.pbc defines the periodic boundary conditions.  Values of True indicate that the associated dimension is periodic."
   ]
  },
  {
   "cell_type": "code",
   "execution_count": 6,
   "metadata": {
    "collapsed": false
   },
   "outputs": [
    {
     "name": "stdout",
     "output_type": "stream",
     "text": [
      "system1.pbc -> [ True  True  True]\n",
      "\n",
      "system1.pbc = [True, False, True]\n",
      "system1.pbc -> [ True False  True]\n",
      "\n",
      "system1.pbc[0] -> True\n",
      "system1.pbc[1] -> False\n",
      "system1.pbc[2] -> True\n"
     ]
    }
   ],
   "source": [
    "#No arguments returns a copy of pbc\n",
    "print \"system1.pbc ->\", system1.pbc\n",
    "print\n",
    "\n",
    "#The values can be changed by supplying a list of booleans\n",
    "system1.pbc = [True, False, True]\n",
    "print \"system1.pbc = [True, False, True]\"\n",
    "print \"system1.pbc ->\", system1.pbc\n",
    "print\n",
    "\n",
    "#Integers allow for index access of pbc\n",
    "print \"system1.pbc[0] ->\", system1.pbc[0]\n",
    "print \"system1.pbc[1] ->\", system1.pbc[1]\n",
    "print \"system1.pbc[2] ->\", system1.pbc[2]"
   ]
  },
  {
   "cell_type": "markdown",
   "metadata": {},
   "source": [
    "### 4.2 System.scale() and System.unscale()\n",
    "\n",
    "System.scale() converts three-dimensional vectors from absolute coordinates to box-scaled coordinates.  System.unscale() converts three-dimensional vectors from box-scaled coordinates to absolute coordinates."
   ]
  },
  {
   "cell_type": "code",
   "execution_count": 7,
   "metadata": {
    "collapsed": false
   },
   "outputs": [
    {
     "name": "stdout",
     "output_type": "stream",
     "text": [
      "pos = system1.atoms_prop(key='pos')\n",
      "pos ->\n",
      "[[ 0.   0.   0. ]\n",
      " [ 1.6  1.6  0. ]\n",
      " [ 1.6  0.   1.6]\n",
      " [ 0.   1.6  1.6]]\n",
      "\n",
      "spos = system1.scale(pos)\n",
      "spos ->\n",
      "[[ 0.   0.   0. ]\n",
      " [ 0.5  0.5  0. ]\n",
      " [ 0.5  0.   0.5]\n",
      " [ 0.   0.5  0.5]]\n",
      "\n",
      "system1.unscale(spos) ->\n",
      "[[ 0.   0.   0. ]\n",
      " [ 1.6  1.6  0. ]\n",
      " [ 1.6  0.   1.6]\n",
      " [ 0.   1.6  1.6]]\n"
     ]
    }
   ],
   "source": [
    "pos = system1.atoms_prop(key='pos')\n",
    "print \"pos = system1.atoms_prop(key='pos')\"\n",
    "print \"pos ->\"\n",
    "print pos\n",
    "print \n",
    "\n",
    "spos = system1.scale(pos)\n",
    "print \"spos = system1.scale(pos)\"\n",
    "print \"spos ->\"\n",
    "print spos\n",
    "print \n",
    "\n",
    "print \"system1.unscale(spos) ->\"\n",
    "print system1.unscale(spos)"
   ]
  },
  {
   "cell_type": "markdown",
   "metadata": {},
   "source": [
    "### 4.3 System.dvect()\n",
    "\n",
    "System.dvect() identifies the shortest vector between two points (or lists of points) in space taking the periodic boundary information of the System into consideration.  Integer arguments can also be used in which case the pos of the atoms corresponding to those indices are used."
   ]
  },
  {
   "cell_type": "code",
   "execution_count": 8,
   "metadata": {
    "collapsed": false
   },
   "outputs": [
    {
     "name": "stdout",
     "output_type": "stream",
     "text": [
      "Vector between atoms 0 and 1:\n",
      "system1.dvect(0,1) -> [ 1.6  1.6  0. ]\n",
      "\n",
      "Difference between [1.6, 1.6, 1.6] and all atoms:\n",
      "system1.dvect([1.6, 1.6, 1.6], system1.atoms_prop('pos')) ->\n",
      "[[-1.6 -1.6 -1.6]\n",
      " [ 0.   0.  -1.6]\n",
      " [ 0.  -1.6  0. ]\n",
      " [-1.6  0.   0. ]]\n",
      "\n",
      "Same thing using list of integers:\n",
      "system1.dvect([1.6, 1.6, 1.6], (0,1,2,3)) ->\n",
      "[[-1.6 -1.6 -1.6]\n",
      " [ 0.   0.  -1.6]\n",
      " [ 0.  -1.6  0. ]\n",
      " [-1.6  0.   0. ]]\n"
     ]
    }
   ],
   "source": [
    "#using dvect with integers\n",
    "print \"Vector between atoms 0 and 1:\"\n",
    "print \"system1.dvect(0,1) ->\", system1.dvect(0,1)\n",
    "print \n",
    "\n",
    "#using dvect with a specified point\n",
    "print \"Difference between [1.6, 1.6, 1.6] and all atoms:\"\n",
    "print \"system1.dvect([1.6, 1.6, 1.6], system1.atoms_prop('pos')) ->\"\n",
    "print system1.dvect([1.6, 1.6, 1.6], system1.atoms_prop(key='pos'))\n",
    "print \n",
    "\n",
    "print \"Same thing using list of integers:\"\n",
    "print \"system1.dvect([1.6, 1.6, 1.6], (0,1,2,3)) ->\"\n",
    "print system1.dvect([1.6, 1.6, 1.6], (0,1,2,3))"
   ]
  },
  {
   "cell_type": "markdown",
   "metadata": {},
   "source": [
    "### 4.4 System.wrap()\n",
    "\n",
    "System.wrap() fixes the system such that no atoms lie outside the box.  This is accomplished by wrapping the outlying atoms around periodic boundaries, and then extending any non-periodic boundaries. "
   ]
  },
  {
   "cell_type": "code",
   "execution_count": 9,
   "metadata": {
    "collapsed": false
   },
   "outputs": [
    {
     "name": "stdout",
     "output_type": "stream",
     "text": [
      "Move atom 0 outside the box boundaries:\n",
      "system1.atoms_prop(a_id=0, key='pos', value=[-1.,-1.,-1.])\n",
      "system1.pbc -> [ True False  True]\n",
      "system1.box ->\n",
      "avect =  [ 3.200,  0.000,  0.000]\n",
      "bvect =  [ 0.000,  3.200,  0.000]\n",
      "cvect =  [ 0.000,  0.000,  3.200]\n",
      "origin = [ 0.000,  0.000,  0.000]\n",
      "system1.atoms ->\n",
      "     id |   atype |  pos[0] |  pos[1] |  pos[2]\n",
      "      0 |       1 |  -1.000 |  -1.000 |  -1.000\n",
      "      1 |       1 |   1.600 |   1.600 |   0.000\n",
      "      2 |       1 |   1.600 |   0.000 |   1.600\n",
      "      3 |       1 |   0.000 |   1.600 |   1.600\n",
      "\n",
      "Wrap atoms and extend boundaries\n",
      "system1.wrap()\n",
      "system1.pbc -> [ True False  True]\n",
      "system1.box ->\n",
      "avect =  [ 3.200,  0.000,  0.000]\n",
      "bvect =  [ 0.000,  4.203,  0.000]\n",
      "cvect =  [ 0.000,  0.000,  3.200]\n",
      "origin = [ 0.000, -1.003,  0.000]\n",
      "system1.atoms ->\n",
      "     id |   atype |  pos[0] |  pos[1] |  pos[2]\n",
      "      0 |       1 |   2.200 |  -1.000 |   2.200\n",
      "      1 |       1 |   1.600 |   1.600 |   0.000\n",
      "      2 |       1 |   1.600 |   0.000 |   1.600\n",
      "      3 |       1 |   0.000 |   1.600 |   1.600\n",
      "\n"
     ]
    }
   ],
   "source": [
    "print \"Move atom 0 outside the box boundaries:\"\n",
    "system1.atoms_prop(a_id=0, key='pos', value=[-1.,-1.,-1.])\n",
    "print \"system1.atoms_prop(a_id=0, key='pos', value=[-1.,-1.,-1.])\"\n",
    "print \"system1.pbc ->\", system1.pbc\n",
    "print \"system1.box ->\"\n",
    "print system1.box\n",
    "print \"system1.atoms ->\"\n",
    "print system1.atoms\n",
    "print \n",
    "\n",
    "print \"Wrap atoms and extend boundaries\"\n",
    "system1.wrap()\n",
    "print \"system1.wrap()\"\n",
    "print \"system1.pbc ->\", system1.pbc\n",
    "print \"system1.box ->\"\n",
    "print system1.box\n",
    "print \"system1.atoms ->\"\n",
    "print system1.atoms\n",
    "print "
   ]
  },
  {
   "cell_type": "code",
   "execution_count": null,
   "metadata": {
    "collapsed": true
   },
   "outputs": [],
   "source": []
  }
 ],
 "metadata": {
  "kernelspec": {
   "display_name": "Python 2",
   "language": "python",
   "name": "python2"
  },
  "language_info": {
   "codemirror_mode": {
    "name": "ipython",
    "version": 2
   },
   "file_extension": ".py",
   "mimetype": "text/x-python",
   "name": "python",
   "nbconvert_exporter": "python",
   "pygments_lexer": "ipython2",
   "version": "2.7.11"
  }
 },
 "nbformat": 4,
 "nbformat_minor": 0
}
