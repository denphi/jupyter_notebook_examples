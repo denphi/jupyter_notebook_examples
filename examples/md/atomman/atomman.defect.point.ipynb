{
 "cells": [
  {
   "cell_type": "markdown",
   "metadata": {},
   "source": [
    "# AtomMan Point Defect Creation"
   ]
  },
  {
   "cell_type": "markdown",
   "metadata": {},
   "source": [
    "**Lucas M. Hale**, [lucas.hale@nist.gov](mailto:lucas.hale@nist.gov?Subject=ipr-demo), *Materials Science and Engineering Division, NIST*.\n",
    "\n",
    "**Chandler A. Becker**, [chandler.becker@nist.gov](mailto:chandler.becker@nist.gov?Subject=ipr-demo), *Materials Science and Engineering Division, NIST*.\n",
    "\n",
    "**Zachary T. Trautt**, [zachary.trautt@nist.gov](mailto:zachary.trautt@nist.gov?Subject=ipr-demo), *Materials Measurement Science Division, NIST*.\n",
    "\n",
    "Version: 2016-03-31\n",
    "\n",
    "[Disclaimers](http://www.nist.gov/public_affairs/disclaimer.cfm)\n",
    "\n",
    "Return to the [main atomman page](https://github.com/usnistgov/atomman).\n",
    "\n",
    "## Introduction\n",
    "\n",
    "The atomman.defect module contains a number of useful methods for the insertion of specified point defects into a system.  The 'defect' atom(s) are shifted to the end of the Atoms list giving them the highest id.  The original ids of all the atoms can be retrieved using the atoms property 'old_id'. \n",
    "\n",
    "The underlying code can be found in [atomman/defect/point.py](https://github.com/usnistgov/atomman/blob/master/atomman/defect/point.py).\n",
    "\n",
    "- - -"
   ]
  },
  {
   "cell_type": "markdown",
   "metadata": {},
   "source": [
    "## 0. Initial setup "
   ]
  },
  {
   "cell_type": "code",
   "execution_count": 1,
   "metadata": {
    "collapsed": false
   },
   "outputs": [
    {
     "name": "stdout",
     "output_type": "stream",
     "text": [
      "     id  old_id  atype                  position\n",
      "     0   None      1     [ 0.3366884  0.4667819  0.6075006]\n",
      "     1   None      1     [ 0.47333827  0.69172629  0.08459207]\n",
      "     2   None      1     [ 0.31497836  0.78584083  0.1483557 ]\n",
      "     3   None      1     [ 0.95045905  0.48249684  0.17976524]\n",
      "     4   None      1     [ 0.71960791  0.78450958  0.85102347]\n",
      "     5   None      1     [ 0.80132734  0.6200925   0.89464245]\n",
      "     6   None      1     [ 0.99768574  0.00305735  0.36658295]\n",
      "     7   None      1     [ 0.05444173  0.96551758  0.99803154]\n",
      "     8   None      1     [ 0.23496201  0.48474715  0.65585093]\n",
      "     9   None      1     [ 0.43689838  0.60409526  0.54944947]\n",
      "    10   None      1     [ 0.08920044  0.56398701  0.47219016]\n",
      "    11   None      1     [ 0.20787589  0.88749041  0.76580702]\n",
      "    12   None      1     [ 0.29618304  0.46887156  0.4447718 ]\n",
      "    13   None      1     [ 0.80766738  0.92425551  0.85152662]\n",
      "    14   None      1     [ 0.05938033  0.1566644   0.8503084 ]\n",
      "    15   None      1     [ 0.26659878  0.3094757   0.98185022]\n",
      "    16   None      1     [ 0.33285502  0.6680669   0.61662116]\n",
      "    17   None      1     [ 0.69672312  0.66737819  0.52720507]\n",
      "    18   None      1     [ 0.3482485   0.51909008  0.01832517]\n",
      "    19   None      1     [ 0.41946119  0.27312426  0.00949966]\n"
     ]
    }
   ],
   "source": [
    "#package imports\n",
    "import atomman as am\n",
    "import numpy as np\n",
    "\n",
    "#number of atoms\n",
    "natoms = 20\n",
    "\n",
    "#create dummy System for demonstration purposes\n",
    "system_0 = am.System(atoms=am.Atoms(natoms))\n",
    "system_0.atoms_prop(key='atype', value=[1])\n",
    "system_0.atoms_prop(key='pos',   value=np.random.rand(system_0.natoms,3))\n",
    "print '     id  old_id  atype                  position'\n",
    "for i in xrange(system_0.natoms):\n",
    "    print '%6s %6s %6s     %s' %(i, system_0.atoms_prop(a_id=i, key='old_id'), \n",
    "                                    system_0.atoms_prop(a_id=i, key='atype'), \n",
    "                                str(system_0.atoms_prop(a_id=i, key='pos')))"
   ]
  },
  {
   "cell_type": "markdown",
   "metadata": {},
   "source": [
    "## 1. atomman.defect.vacancy()\n",
    "\n",
    "Returns a new system where a vacancy point defect has been inserted.\n",
    "    \n",
    "Keyword Arguments:\n",
    "\n",
    "- __system__ = base system that the defect is added to.\n",
    "\n",
    "- __pos__ = position of the atom to be removed.\n",
    "\n",
    "- __ptd_id__ = id of the atom to be removed.  Alternative to using pos.\n",
    "\n",
    "- __scale__ = if pos is given, indicates if pos is absolute (False) or box-relative (True). Default is False.\n",
    "\n",
    "The returned System will be assigned an atoms property \"old_id\" if it doesn't exist which corresponds to the index values of all atoms from the base System supplied as an argument.  If \"old_id\" already exists, then the values will be unchanged."
   ]
  },
  {
   "cell_type": "code",
   "execution_count": 2,
   "metadata": {
    "collapsed": false
   },
   "outputs": [
    {
     "name": "stdout",
     "output_type": "stream",
     "text": [
      "     id  old_id  atype                  position\n",
      "     0      0      1     [ 0.3366884  0.4667819  0.6075006]\n",
      "     1      1      1     [ 0.47333827  0.69172629  0.08459207]\n",
      "     2      2      1     [ 0.31497836  0.78584083  0.1483557 ]\n",
      "     3      4      1     [ 0.71960791  0.78450958  0.85102347]\n",
      "     4      6      1     [ 0.99768574  0.00305735  0.36658295]\n",
      "     5      7      1     [ 0.05444173  0.96551758  0.99803154]\n",
      "     6      8      1     [ 0.23496201  0.48474715  0.65585093]\n",
      "     7      9      1     [ 0.43689838  0.60409526  0.54944947]\n",
      "     8     10      1     [ 0.08920044  0.56398701  0.47219016]\n",
      "     9     11      1     [ 0.20787589  0.88749041  0.76580702]\n",
      "    10     12      1     [ 0.29618304  0.46887156  0.4447718 ]\n",
      "    11     13      1     [ 0.80766738  0.92425551  0.85152662]\n",
      "    12     14      1     [ 0.05938033  0.1566644   0.8503084 ]\n",
      "    13     15      1     [ 0.26659878  0.3094757   0.98185022]\n",
      "    14     16      1     [ 0.33285502  0.6680669   0.61662116]\n",
      "    15     17      1     [ 0.69672312  0.66737819  0.52720507]\n",
      "    16     18      1     [ 0.3482485   0.51909008  0.01832517]\n",
      "    17     19      1     [ 0.41946119  0.27312426  0.00949966]\n"
     ]
    }
   ],
   "source": [
    "#add a vacancy using ptd_id\n",
    "system_v = am.defect.vacancy(system_0, ptd_id=5)\n",
    "\n",
    "#add another vacancy using pos\n",
    "v_pos = system_0.atoms_prop(a_id=3, key='pos')\n",
    "system_v = am.defect.vacancy(system_v, pos=v_pos)\n",
    "\n",
    "print '     id  old_id  atype                  position'\n",
    "for i in xrange(system_v.natoms):\n",
    "    print '%6s %6s %6s     %s' %(i, system_v.atoms_prop(a_id=i, key='old_id'), \n",
    "                                    system_v.atoms_prop(a_id=i, key='atype'), \n",
    "                                str(system_v.atoms_prop(a_id=i, key='pos')))"
   ]
  },
  {
   "cell_type": "markdown",
   "metadata": {},
   "source": [
    "## 2. atomman.defect.interstitial()\n",
    "\n",
    "Returns a new system where a positional interstitial point defect has been inserted.\n",
    "    \n",
    "Keyword Arguments:\n",
    "\n",
    "- __system__ = base system that the defect is added to.\n",
    "\n",
    "- __atype__ = atom type for the interstitial atom.\n",
    "\n",
    "- __pos__ = position for adding the interstitial atom.\n",
    "\n",
    "- __scale__ = if pos is given, indicates if pos is absolute (False) or box-relative (True). Default is False.\n",
    "\n",
    "The added atom will be at the end of the returned System's atoms list. The returned System will be assigned an atoms property \"old_id\" if it doesn't exist which corresponds to the index values of all atoms from the base System supplied as an argument.  If \"old_id\" already exists, then the values will be unchanged.  The added atom will have the largest id and be assigned an \"old_id\" one greater than the largest index (or \"old_id\") in the supplied System."
   ]
  },
  {
   "cell_type": "code",
   "execution_count": 3,
   "metadata": {
    "collapsed": false
   },
   "outputs": [
    {
     "name": "stdout",
     "output_type": "stream",
     "text": [
      "     id  old_id  atype                  position\n",
      "     0      0      1     [ 0.3366884  0.4667819  0.6075006]\n",
      "     1      1      1     [ 0.47333827  0.69172629  0.08459207]\n",
      "     2      2      1     [ 0.31497836  0.78584083  0.1483557 ]\n",
      "     3      3      1     [ 0.95045905  0.48249684  0.17976524]\n",
      "     4      4      1     [ 0.71960791  0.78450958  0.85102347]\n",
      "     5      5      1     [ 0.80132734  0.6200925   0.89464245]\n",
      "     6      6      1     [ 0.99768574  0.00305735  0.36658295]\n",
      "     7      7      1     [ 0.05444173  0.96551758  0.99803154]\n",
      "     8      8      1     [ 0.23496201  0.48474715  0.65585093]\n",
      "     9      9      1     [ 0.43689838  0.60409526  0.54944947]\n",
      "    10     10      1     [ 0.08920044  0.56398701  0.47219016]\n",
      "    11     11      1     [ 0.20787589  0.88749041  0.76580702]\n",
      "    12     12      1     [ 0.29618304  0.46887156  0.4447718 ]\n",
      "    13     13      1     [ 0.80766738  0.92425551  0.85152662]\n",
      "    14     14      1     [ 0.05938033  0.1566644   0.8503084 ]\n",
      "    15     15      1     [ 0.26659878  0.3094757   0.98185022]\n",
      "    16     16      1     [ 0.33285502  0.6680669   0.61662116]\n",
      "    17     17      1     [ 0.69672312  0.66737819  0.52720507]\n",
      "    18     18      1     [ 0.3482485   0.51909008  0.01832517]\n",
      "    19     19      1     [ 0.41946119  0.27312426  0.00949966]\n",
      "    20     20      2     [ 0.11111111  0.11111111  0.11111111]\n"
     ]
    }
   ],
   "source": [
    "##add an interstitial at pos\n",
    "system_i = am.defect.interstitial(system_0, atype=2, pos=(0.1111111111, 0.1111111111, 0.111111111111))\n",
    "\n",
    "print '     id  old_id  atype                  position'\n",
    "for i in xrange(system_i.natoms):\n",
    "    print '%6s %6s %6s     %s' %(i, system_i.atoms_prop(a_id=i, key='old_id'), \n",
    "                                    system_i.atoms_prop(a_id=i, key='atype'), \n",
    "                                str(system_i.atoms_prop(a_id=i, key='pos')))"
   ]
  },
  {
   "cell_type": "markdown",
   "metadata": {},
   "source": [
    "## 3. atomman.defect.substitutional()\n",
    "\n",
    "Returns a new System where a substitutional point defect has been inserted.\n",
    "    \n",
    "Keyword Arguments:\n",
    "\n",
    "- __system__ = base System that the defect is added to.\n",
    "\n",
    "- __atype__ = atom type to change the indicated atom to.\n",
    "    \n",
    "- __pos__ = position of the atom to be changed.\n",
    "    \n",
    "- __ptd_id__ = id of the atom to be changed.  Alternative to using pos.\n",
    "    \n",
    "- __scale__ = if pos is given, indicates if pos is absolute (False) or box-relative (True). Default is False. \n",
    "\n",
    "The substitutional atom is moved to the end of the returned System's atoms list.  The returned System will be assigned an atoms property \"old_id\" if it doesn't exist which corresponds to the index values of all atoms from the base System supplied as an argument.  If \"old_id\" already exists, then the values will be unchanged."
   ]
  },
  {
   "cell_type": "code",
   "execution_count": 4,
   "metadata": {
    "collapsed": false
   },
   "outputs": [
    {
     "name": "stdout",
     "output_type": "stream",
     "text": [
      "     id  old_id  atype                  position\n",
      "     0      0      1     [ 0.3366884  0.4667819  0.6075006]\n",
      "     1      1      1     [ 0.47333827  0.69172629  0.08459207]\n",
      "     2      2      1     [ 0.31497836  0.78584083  0.1483557 ]\n",
      "     3      3      1     [ 0.95045905  0.48249684  0.17976524]\n",
      "     4      5      1     [ 0.80132734  0.6200925   0.89464245]\n",
      "     5      6      1     [ 0.99768574  0.00305735  0.36658295]\n",
      "     6      7      1     [ 0.05444173  0.96551758  0.99803154]\n",
      "     7      8      1     [ 0.23496201  0.48474715  0.65585093]\n",
      "     8     10      1     [ 0.08920044  0.56398701  0.47219016]\n",
      "     9     11      1     [ 0.20787589  0.88749041  0.76580702]\n",
      "    10     12      1     [ 0.29618304  0.46887156  0.4447718 ]\n",
      "    11     13      1     [ 0.80766738  0.92425551  0.85152662]\n",
      "    12     14      1     [ 0.05938033  0.1566644   0.8503084 ]\n",
      "    13     15      1     [ 0.26659878  0.3094757   0.98185022]\n",
      "    14     16      1     [ 0.33285502  0.6680669   0.61662116]\n",
      "    15     17      1     [ 0.69672312  0.66737819  0.52720507]\n",
      "    16     18      1     [ 0.3482485   0.51909008  0.01832517]\n",
      "    17     19      1     [ 0.41946119  0.27312426  0.00949966]\n",
      "    18      4      2     [ 0.71960791  0.78450958  0.85102347]\n",
      "    19      9      2     [ 0.43689838  0.60409526  0.54944947]\n"
     ]
    }
   ],
   "source": [
    "#Add a substitutional using ptd_id\n",
    "system_s = am.defect.substitutional(system_0, atype=2, ptd_id=4)\n",
    "\n",
    "#add another substitutional using pos\n",
    "s_pos = system_0.atoms_prop(a_id=9, key='pos')\n",
    "system_s = am.defect.substitutional(system_s, atype=2, pos=s_pos)\n",
    "\n",
    "print '     id  old_id  atype                  position'\n",
    "for i in xrange(system_s.natoms):\n",
    "    print '%6s %6s %6s     %s' %(i, system_s.atoms_prop(a_id=i, key='old_id'), \n",
    "                                    system_s.atoms_prop(a_id=i, key='atype'), \n",
    "                                str(system_s.atoms_prop(a_id=i, key='pos')))"
   ]
  },
  {
   "cell_type": "markdown",
   "metadata": {},
   "source": [
    "## 4. atomman.defect.dumbbell()\n",
    "\n",
    "Returns a new System where a dumbbell interstitial point defect has been inserted.\n",
    "    \n",
    "Keyword Arguments:\n",
    "\n",
    "- __system__ = base System that the defect is added to.    \n",
    "    \n",
    "- __atype__ = atom type for the atom in the dumbbell pair being added to the system.\n",
    "    \n",
    "- __pos__ = position of the system atom where the dumbbell pair is added.\n",
    "    \n",
    "- __ptd_id__ = id of the system atom where the dumbbell pair is added.  Alternative to using pos.\n",
    "    \n",
    "- __db_vect__ = vector associated with the dumbbell interstitial.\n",
    "    \n",
    "- __scale__ = indicates if pos and db_vect are absolute (False) or box-relative (True). Default is False.\n",
    "\n",
    "The added atom will be at the end of the returned System's atoms list and the shifted atom is moved to be next to last in the returned System's atoms list. The returned System will be assigned an atoms property \"old_id\" if it doesn't exist which corresponds to the index values of all atoms from the base System supplied as an argument.  If \"old_id\" already exists, then the values will be unchanged.  The added atom will have the largest id and be assigned an \"old_id\" one greater than the largest index (or \"old_id\") in the supplied System."
   ]
  },
  {
   "cell_type": "code",
   "execution_count": 5,
   "metadata": {
    "collapsed": false
   },
   "outputs": [
    {
     "name": "stdout",
     "output_type": "stream",
     "text": [
      "     id  old_id  atype                  position\n",
      "     0      0      1     [ 0.3366884  0.4667819  0.6075006]\n",
      "     1      1      1     [ 0.47333827  0.69172629  0.08459207]\n",
      "     2      2      1     [ 0.31497836  0.78584083  0.1483557 ]\n",
      "     3      3      1     [ 0.95045905  0.48249684  0.17976524]\n",
      "     4      4      1     [ 0.71960791  0.78450958  0.85102347]\n",
      "     5      5      1     [ 0.80132734  0.6200925   0.89464245]\n",
      "     6      6      1     [ 0.99768574  0.00305735  0.36658295]\n",
      "     7      8      1     [ 0.23496201  0.48474715  0.65585093]\n",
      "     8      9      1     [ 0.43689838  0.60409526  0.54944947]\n",
      "     9     10      1     [ 0.08920044  0.56398701  0.47219016]\n",
      "    10     11      1     [ 0.20787589  0.88749041  0.76580702]\n",
      "    11     12      1     [ 0.29618304  0.46887156  0.4447718 ]\n",
      "    12     13      1     [ 0.80766738  0.92425551  0.85152662]\n",
      "    13     14      1     [ 0.05938033  0.1566644   0.8503084 ]\n",
      "    14     15      1     [ 0.26659878  0.3094757   0.98185022]\n",
      "    15     16      1     [ 0.33285502  0.6680669   0.61662116]\n",
      "    16     17      1     [ 0.69672312  0.66737819  0.52720507]\n",
      "    17     18      1     [ 0.3482485   0.51909008  0.01832517]\n",
      "    18     19      1     [ 0.41946119  0.27312426  0.00949966]\n",
      "    19      7      1     [ 0.05444173  0.96551758  0.88692043]\n",
      "    20     20      2     [ 0.05444173  0.96551758  1.10914265]\n"
     ]
    }
   ],
   "source": [
    "#Add a dumbbell using ptd_id\n",
    "system_db = am.defect.dumbbell(system_0, atype=2, ptd_id=7, db_vect=np.array([0.0, 0.0, 0.111111111]))\n",
    "\n",
    "print '     id  old_id  atype                  position'\n",
    "for i in xrange(system_db.natoms):\n",
    "    print '%6s %6s %6s     %s' %(i, system_db.atoms_prop(a_id=i, key='old_id'), \n",
    "                                    system_db.atoms_prop(a_id=i, key='atype'), \n",
    "                                str(system_db.atoms_prop(a_id=i, key='pos')))"
   ]
  },
  {
   "cell_type": "code",
   "execution_count": 6,
   "metadata": {
    "collapsed": false
   },
   "outputs": [
    {
     "name": "stdout",
     "output_type": "stream",
     "text": [
      "[ 0.          0.          0.22222222]\n"
     ]
    }
   ],
   "source": [
    "#dumbbell atoms separated by 2*db_vect\n",
    "print system_db.atoms_prop(a_id=20, key='pos') - system_db.atoms_prop(a_id=19, key='pos')"
   ]
  },
  {
   "cell_type": "markdown",
   "metadata": {},
   "source": [
    "Making both dumbbell atoms the same type is simply a matter of calling both substitutional and dumbbell."
   ]
  },
  {
   "cell_type": "code",
   "execution_count": 7,
   "metadata": {
    "collapsed": false
   },
   "outputs": [
    {
     "name": "stdout",
     "output_type": "stream",
     "text": [
      "     id  old_id  atype                  position\n",
      "     0      0      1     [ 0.3366884  0.4667819  0.6075006]\n",
      "     1      1      1     [ 0.47333827  0.69172629  0.08459207]\n",
      "     2      3      1     [ 0.95045905  0.48249684  0.17976524]\n",
      "     3      4      1     [ 0.71960791  0.78450958  0.85102347]\n",
      "     4      5      1     [ 0.80132734  0.6200925   0.89464245]\n",
      "     5      6      1     [ 0.99768574  0.00305735  0.36658295]\n",
      "     6      7      1     [ 0.05444173  0.96551758  0.99803154]\n",
      "     7      8      1     [ 0.23496201  0.48474715  0.65585093]\n",
      "     8      9      1     [ 0.43689838  0.60409526  0.54944947]\n",
      "     9     10      1     [ 0.08920044  0.56398701  0.47219016]\n",
      "    10     11      1     [ 0.20787589  0.88749041  0.76580702]\n",
      "    11     12      1     [ 0.29618304  0.46887156  0.4447718 ]\n",
      "    12     13      1     [ 0.80766738  0.92425551  0.85152662]\n",
      "    13     14      1     [ 0.05938033  0.1566644   0.8503084 ]\n",
      "    14     15      1     [ 0.26659878  0.3094757   0.98185022]\n",
      "    15     16      1     [ 0.33285502  0.6680669   0.61662116]\n",
      "    16     17      1     [ 0.69672312  0.66737819  0.52720507]\n",
      "    17     18      1     [ 0.3482485   0.51909008  0.01832517]\n",
      "    18     19      1     [ 0.41946119  0.27312426  0.00949966]\n",
      "    19      2      2     [ 0.31497836  0.89695194  0.03724459]\n",
      "    20     20      2     [ 0.31497836  0.67472972  0.25946681]\n"
     ]
    }
   ],
   "source": [
    "#Add a dumbbell using ptd_id\n",
    "defect_pos = system_0.atoms_prop(a_id=2, key='pos')\n",
    "system_db = am.defect.substitutional(system_0, atype=2, pos=defect_pos)\n",
    "system_db = am.defect.dumbbell(system_db, atype=2, pos=defect_pos, db_vect=np.array([0.0, -0.11111111111, 0.111111111]))\n",
    "\n",
    "print '     id  old_id  atype                  position'\n",
    "for i in xrange(system_db.natoms):\n",
    "    print '%6s %6s %6s     %s' %(i, system_db.atoms_prop(a_id=i, key='old_id'), \n",
    "                                    system_db.atoms_prop(a_id=i, key='atype'), \n",
    "                                str(system_db.atoms_prop(a_id=i, key='pos')))"
   ]
  },
  {
   "cell_type": "markdown",
   "metadata": {},
   "source": [
    "## 5. atomman.defect.point()\n",
    "\n",
    "point() is a master function that can create any of the four types of point defects listed here by calling their respective functions.  The argument parameter ptd_type specifies which of the point defect types it is creating:\n",
    "\n",
    "- __ptd_type = 'v'__ creates a vacancy \n",
    "\n",
    "- __ptd_type = 'i'__ creates a positional interstitial\n",
    "\n",
    "- __ptd_type = 's'__ creates a substitutional\n",
    "\n",
    "- __ptd_type = 'db'__ creates a dumbbell interstitial\n",
    "\n",
    "All other arguments match the respective functions, and any unused arguments must be left as None."
   ]
  },
  {
   "cell_type": "code",
   "execution_count": 8,
   "metadata": {
    "collapsed": false
   },
   "outputs": [
    {
     "name": "stdout",
     "output_type": "stream",
     "text": [
      "     id  old_id  atype                  position\n",
      "     0      0      1     [ 0.3366884  0.4667819  0.6075006]\n",
      "     1      1      1     [ 0.47333827  0.69172629  0.08459207]\n",
      "     2      2      1     [ 0.31497836  0.78584083  0.1483557 ]\n",
      "     3      3      1     [ 0.95045905  0.48249684  0.17976524]\n",
      "     4      4      1     [ 0.71960791  0.78450958  0.85102347]\n",
      "     5      5      1     [ 0.80132734  0.6200925   0.89464245]\n",
      "     6      7      1     [ 0.05444173  0.96551758  0.99803154]\n",
      "     7      8      1     [ 0.23496201  0.48474715  0.65585093]\n",
      "     8      9      1     [ 0.43689838  0.60409526  0.54944947]\n",
      "     9     10      1     [ 0.08920044  0.56398701  0.47219016]\n",
      "    10     11      1     [ 0.20787589  0.88749041  0.76580702]\n",
      "    11     12      1     [ 0.29618304  0.46887156  0.4447718 ]\n",
      "    12     13      1     [ 0.80766738  0.92425551  0.85152662]\n",
      "    13     14      1     [ 0.05938033  0.1566644   0.8503084 ]\n",
      "    14     15      1     [ 0.26659878  0.3094757   0.98185022]\n",
      "    15     16      1     [ 0.33285502  0.6680669   0.61662116]\n",
      "    16     17      1     [ 0.69672312  0.66737819  0.52720507]\n",
      "    17     18      1     [ 0.3482485   0.51909008  0.01832517]\n",
      "    18     19      1     [ 0.41946119  0.27312426  0.00949966]\n"
     ]
    }
   ],
   "source": [
    "#add a vacancy\n",
    "system_d = am.defect.point(system_0, ptd_type='v', ptd_id=6)\n",
    "\n",
    "print '     id  old_id  atype                  position'\n",
    "for i in xrange(system_d.natoms):\n",
    "    print '%6s %6s %6s     %s' %(i, system_d.atoms_prop(a_id=i, key='old_id'), \n",
    "                                    system_d.atoms_prop(a_id=i, key='atype'), \n",
    "                                str(system_d.atoms_prop(a_id=i, key='pos')))"
   ]
  },
  {
   "cell_type": "code",
   "execution_count": 9,
   "metadata": {
    "collapsed": false
   },
   "outputs": [
    {
     "name": "stdout",
     "output_type": "stream",
     "text": [
      "     id  old_id  atype                  position\n",
      "     0      0      1     [ 0.3366884  0.4667819  0.6075006]\n",
      "     1      1      1     [ 0.47333827  0.69172629  0.08459207]\n",
      "     2      2      1     [ 0.31497836  0.78584083  0.1483557 ]\n",
      "     3      3      1     [ 0.95045905  0.48249684  0.17976524]\n",
      "     4      4      1     [ 0.71960791  0.78450958  0.85102347]\n",
      "     5      5      1     [ 0.80132734  0.6200925   0.89464245]\n",
      "     6      7      1     [ 0.05444173  0.96551758  0.99803154]\n",
      "     7      8      1     [ 0.23496201  0.48474715  0.65585093]\n",
      "     8      9      1     [ 0.43689838  0.60409526  0.54944947]\n",
      "     9     10      1     [ 0.08920044  0.56398701  0.47219016]\n",
      "    10     11      1     [ 0.20787589  0.88749041  0.76580702]\n",
      "    11     12      1     [ 0.29618304  0.46887156  0.4447718 ]\n",
      "    12     13      1     [ 0.80766738  0.92425551  0.85152662]\n",
      "    13     14      1     [ 0.05938033  0.1566644   0.8503084 ]\n",
      "    14     15      1     [ 0.26659878  0.3094757   0.98185022]\n",
      "    15     16      1     [ 0.33285502  0.6680669   0.61662116]\n",
      "    16     17      1     [ 0.69672312  0.66737819  0.52720507]\n",
      "    17     18      1     [ 0.3482485   0.51909008  0.01832517]\n",
      "    18     19      1     [ 0.41946119  0.27312426  0.00949966]\n",
      "    19     20      2     [ 0.33333333  0.33333333  0.33333333]\n"
     ]
    }
   ],
   "source": [
    "#add a interstitial\n",
    "system_d = am.defect.point(system_d, ptd_type='i', atype=2, pos=np.array([0.33333333, 0.333333333, 0.333333333]))\n",
    "\n",
    "print '     id  old_id  atype                  position'\n",
    "for i in xrange(system_d.natoms):\n",
    "    print '%6s %6s %6s     %s' %(i, system_d.atoms_prop(a_id=i, key='old_id'), \n",
    "                                    system_d.atoms_prop(a_id=i, key='atype'), \n",
    "                                str(system_d.atoms_prop(a_id=i, key='pos')))"
   ]
  },
  {
   "cell_type": "code",
   "execution_count": 10,
   "metadata": {
    "collapsed": false
   },
   "outputs": [
    {
     "name": "stdout",
     "output_type": "stream",
     "text": [
      "     id  old_id  atype                  position\n",
      "     0      0      1     [ 0.3366884  0.4667819  0.6075006]\n",
      "     1      1      1     [ 0.47333827  0.69172629  0.08459207]\n",
      "     2      2      1     [ 0.31497836  0.78584083  0.1483557 ]\n",
      "     3      3      1     [ 0.95045905  0.48249684  0.17976524]\n",
      "     4      4      1     [ 0.71960791  0.78450958  0.85102347]\n",
      "     5      5      1     [ 0.80132734  0.6200925   0.89464245]\n",
      "     6      7      1     [ 0.05444173  0.96551758  0.99803154]\n",
      "     7      8      1     [ 0.23496201  0.48474715  0.65585093]\n",
      "     8      9      1     [ 0.43689838  0.60409526  0.54944947]\n",
      "     9     10      1     [ 0.08920044  0.56398701  0.47219016]\n",
      "    10     11      1     [ 0.20787589  0.88749041  0.76580702]\n",
      "    11     12      1     [ 0.29618304  0.46887156  0.4447718 ]\n",
      "    12     13      1     [ 0.80766738  0.92425551  0.85152662]\n",
      "    13     15      1     [ 0.26659878  0.3094757   0.98185022]\n",
      "    14     16      1     [ 0.33285502  0.6680669   0.61662116]\n",
      "    15     17      1     [ 0.69672312  0.66737819  0.52720507]\n",
      "    16     18      1     [ 0.3482485   0.51909008  0.01832517]\n",
      "    17     19      1     [ 0.41946119  0.27312426  0.00949966]\n",
      "    18     20      2     [ 0.33333333  0.33333333  0.33333333]\n",
      "    19     14      3     [ 0.05938033  0.1566644   0.8503084 ]\n"
     ]
    }
   ],
   "source": [
    "#add a substitutional\n",
    "system_d = am.defect.point(system_d, ptd_type='s', atype=3, ptd_id=13)\n",
    "\n",
    "print '     id  old_id  atype                  position'\n",
    "for i in xrange(system_d.natoms):\n",
    "    print '%6s %6s %6s     %s' %(i, system_d.atoms_prop(a_id=i, key='old_id'), \n",
    "                                    system_d.atoms_prop(a_id=i, key='atype'), \n",
    "                                str(system_d.atoms_prop(a_id=i, key='pos')))"
   ]
  },
  {
   "cell_type": "code",
   "execution_count": 11,
   "metadata": {
    "collapsed": false
   },
   "outputs": [
    {
     "name": "stdout",
     "output_type": "stream",
     "text": [
      "     id  old_id  atype                  position\n",
      "     0      0      1     [ 0.3366884  0.4667819  0.6075006]\n",
      "     1      1      1     [ 0.47333827  0.69172629  0.08459207]\n",
      "     2      2      1     [ 0.31497836  0.78584083  0.1483557 ]\n",
      "     3      3      1     [ 0.95045905  0.48249684  0.17976524]\n",
      "     4      4      1     [ 0.71960791  0.78450958  0.85102347]\n",
      "     5      5      1     [ 0.80132734  0.6200925   0.89464245]\n",
      "     6      7      1     [ 0.05444173  0.96551758  0.99803154]\n",
      "     7      8      1     [ 0.23496201  0.48474715  0.65585093]\n",
      "     8      9      1     [ 0.43689838  0.60409526  0.54944947]\n",
      "     9     10      1     [ 0.08920044  0.56398701  0.47219016]\n",
      "    10     11      1     [ 0.20787589  0.88749041  0.76580702]\n",
      "    11     12      1     [ 0.29618304  0.46887156  0.4447718 ]\n",
      "    12     13      1     [ 0.80766738  0.92425551  0.85152662]\n",
      "    13     15      1     [ 0.26659878  0.3094757   0.98185022]\n",
      "    14     16      1     [ 0.33285502  0.6680669   0.61662116]\n",
      "    15     17      1     [ 0.69672312  0.66737819  0.52720507]\n",
      "    16     18      1     [ 0.3482485   0.51909008  0.01832517]\n",
      "    17     19      1     [ 0.41946119  0.27312426  0.00949966]\n",
      "    18     14      3     [ 0.05938033  0.1566644   0.8503084 ]\n",
      "    19     20      2     [-0.66666667 -0.66666667 -0.66666667]\n",
      "    20     21      3     [ 1.33333333  1.33333333  1.33333333]\n"
     ]
    }
   ],
   "source": [
    "#add a dumbbell\n",
    "system_d = am.defect.point(system_d, ptd_type='db', atype=3, \n",
    "                 pos=np.array([0.33333333, 0.333333333, 0.333333333]), \n",
    "                 db_vect=np.array([1, 1, 1]))\n",
    "\n",
    "print '     id  old_id  atype                  position'\n",
    "for i in xrange(system_d.natoms):\n",
    "    print '%6s %6s %6s     %s' %(i, system_d.atoms_prop(a_id=i, key='old_id'), \n",
    "                                    system_d.atoms_prop(a_id=i, key='atype'), \n",
    "                                str(system_d.atoms_prop(a_id=i, key='pos')))"
   ]
  }
 ],
 "metadata": {
  "kernelspec": {
   "display_name": "Python2",
   "language": "python",
   "name": "python2"
  },
  "language_info": {
   "codemirror_mode": {
    "name": "ipython",
    "version": 2
   },
   "file_extension": ".py",
   "mimetype": "text/x-python",
   "name": "python",
   "nbconvert_exporter": "python",
   "pygments_lexer": "ipython2",
   "version": "2.7.12"
  }
 },
 "nbformat": 4,
 "nbformat_minor": 0
}
