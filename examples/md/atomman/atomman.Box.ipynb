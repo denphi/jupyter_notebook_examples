{
 "cells": [
  {
   "cell_type": "markdown",
   "metadata": {},
   "source": [
    "# AtomMan Box Class"
   ]
  },
  {
   "cell_type": "markdown",
   "metadata": {},
   "source": [
    "**Lucas M. Hale**, [lucas.hale@nist.gov](mailto:lucas.hale@nist.gov?Subject=ipr-demo), *Materials Science and Engineering Division, NIST*.\n",
    "\n",
    "**Chandler A. Becker**, [chandler.becker@nist.gov](mailto:chandler.becker@nist.gov?Subject=ipr-demo), *Materials Science and Engineering Division, NIST*.\n",
    "\n",
    "**Zachary T. Trautt**, [zachary.trautt@nist.gov](mailto:zachary.trautt@nist.gov?Subject=ipr-demo), *Materials Measurement Science Division, NIST*.\n",
    "\n",
    "Version: 2016-03-31\n",
    "\n",
    "[Disclaimers](http://www.nist.gov/public_affairs/disclaimer.cfm)\n",
    "\n",
    "Return to the [main atomman page](https://github.com/usnistgov/atomman).\n",
    "\n",
    "## Introduction\n",
    "\n",
    "Class Box represents a generic parallelepiped for defining the area of an atomic system (including a unit cell).  The class methods control how a Box instance can be specified and allow for the Box's information to be retrieved in a variety of formats.\n",
    "\n",
    "The underlying code can be found in [atomman/core/Box.py](https://github.com/usnistgov/atomman/blob/master/atomman/core/Box.py).\n",
    "\n",
    "- - -"
   ]
  },
  {
   "cell_type": "markdown",
   "metadata": {},
   "source": [
    "__Library Imports__"
   ]
  },
  {
   "cell_type": "code",
   "execution_count": 1,
   "metadata": {
    "collapsed": false
   },
   "outputs": [],
   "source": [
    "#External library imports\n",
    "import numpy as np\n",
    "\n",
    "#atomman imports\n",
    "from atomman import Box"
   ]
  },
  {
   "cell_type": "markdown",
   "metadata": {},
   "source": [
    "## 1. Class property attributes\n",
    "\n",
    "The following Box property attributes can be directly called for values:\n",
    "\n",
    "- __vects__ = 3x3 array of box vectors.\n",
    "\n",
    "- __avect, bvect, cvect__ = the individual box vectors.\n",
    "\n",
    "- __origin__ = position vector of box origin.\n",
    "\n",
    "- __a, b, c, alpha, beta, gamma__ = crystal cell-style box parameters.\n",
    "\n",
    "- __lx, ly, lz__ = LAMMPS-style box lengths.\n",
    "\n",
    "- __xy, xz, yz__ = LAMMPS-style tilt factors.\n",
    "\n",
    "- __xlo, xhi, ylo, yhi, zlo, zhi__ = LAMMPS-style hi/lo parameters."
   ]
  },
  {
   "cell_type": "markdown",
   "metadata": {},
   "source": [
    "Default Box initilization sets unit cube box."
   ]
  },
  {
   "cell_type": "code",
   "execution_count": 2,
   "metadata": {
    "collapsed": false
   },
   "outputs": [
    {
     "name": "stdout",
     "output_type": "stream",
     "text": [
      "Vector representations:\n",
      "vects  =\n",
      "[[ 1.  0.  0.]\n",
      " [ 0.  1.  0.]\n",
      " [ 0.  0.  1.]]\n",
      "avect  = [ 1.  0.  0.]\n",
      "bvect  = [ 0.  1.  0.]\n",
      "cvect  = [ 0.  0.  1.]\n",
      "origin = [ 0.  0.  0.]\n",
      "\n",
      "Crystallographic representation:\n",
      "a     = 1.0\n",
      "b     = 1.0\n",
      "c     = 1.0\n",
      "alpha = 90.0\n",
      "beta  = 90.0\n",
      "gamma = 90.0\n",
      "\n",
      "LAMMPS representations:\n",
      "xlo xhi  = 0.0 1.0\n",
      "ylo yhi  = 0.0 1.0\n",
      "zlo zhi  = 0.0 1.0\n",
      "lx ly lz = 1.0 1.0 1.0\n",
      "xy xz yz = 0.0 0.0 0.0\n"
     ]
    }
   ],
   "source": [
    "box = Box()\n",
    "\n",
    "print 'Vector representations:'\n",
    "print 'vects  ='\n",
    "print box.vects\n",
    "print 'avect  =', box.avect\n",
    "print 'bvect  =', box.bvect\n",
    "print 'cvect  =', box.cvect\n",
    "print 'origin =', box.origin\n",
    "print \n",
    "print 'Crystallographic representation:'\n",
    "print 'a     =', box.a\n",
    "print 'b     =', box.b\n",
    "print 'c     =', box.c\n",
    "print 'alpha =', box.alpha\n",
    "print 'beta  =', box.beta\n",
    "print 'gamma =', box.gamma\n",
    "print\n",
    "print 'LAMMPS representations:'\n",
    "print 'xlo xhi  =', box.xlo, box.xhi\n",
    "print 'ylo yhi  =', box.ylo, box.yhi\n",
    "print 'zlo zhi  =', box.zlo, box.zhi\n",
    "print 'lx ly lz =', box.lx, box.ly, box.lz\n",
    "print 'xy xz yz =', box.xy, box.xz, box.yz"
   ]
  },
  {
   "cell_type": "markdown",
   "metadata": {},
   "source": [
    "Converting the Box to a string returns the vectors and origin values."
   ]
  },
  {
   "cell_type": "code",
   "execution_count": 3,
   "metadata": {
    "collapsed": false
   },
   "outputs": [
    {
     "name": "stdout",
     "output_type": "stream",
     "text": [
      "avect =  [ 1.000,  0.000,  0.000]\n",
      "bvect =  [ 0.000,  1.000,  0.000]\n",
      "cvect =  [ 0.000,  0.000,  1.000]\n",
      "origin = [ 0.000,  0.000,  0.000]\n"
     ]
    }
   ],
   "source": [
    "print box"
   ]
  },
  {
   "cell_type": "markdown",
   "metadata": {},
   "source": [
    "## 2. Setting Box parameters"
   ]
  },
  {
   "cell_type": "markdown",
   "metadata": {},
   "source": [
    "Setting of the Box values is controlled such that the entire box is set at once. The values for the box can be set in a number of different ways:\n",
    "\n",
    "- vects and origin can be directly assigned.\n",
    "\n",
    "- set_vectors() sets the Box with avect, bvect, cvect, (and origin).\n",
    "\n",
    "- set_abc() sets the Box with a, b, c, (alpha, beta, gamma, and origin).\n",
    "\n",
    "- set_lengths() sets the Box with lx, ly, lz, (xy, xz, yz, and origin).\n",
    "\n",
    "- set_hi_los() sets the Box with xlo, xhi, ylo, yhi, zlo, zhi, (xy, xz, and yz). \n",
    "\n",
    "- set() is a higher-order method that can set the Box using any of the above ways.\n",
    "\n",
    "- when a Box is initilized, it calls set(). This means that the Box can be initilized using any of the above ways."
   ]
  },
  {
   "cell_type": "markdown",
   "metadata": {},
   "source": [
    "### 2.1 Setting vects and origin directly\n",
    "\n",
    "The box vectors and origin can be directly assigned to vects and origin. "
   ]
  },
  {
   "cell_type": "code",
   "execution_count": 4,
   "metadata": {
    "collapsed": false
   },
   "outputs": [
    {
     "name": "stdout",
     "output_type": "stream",
     "text": [
      "avect =  [12.000,  0.000,  0.000]\n",
      "bvect =  [ 0.000, 10.000,  0.000]\n",
      "cvect =  [ 0.000,  0.000, 10.000]\n",
      "origin = [ 1.000,  2.000,  3.000]\n"
     ]
    }
   ],
   "source": [
    "box.vects = np.array([[12, 0, 0], [0, 10, 0], [0, 0, 10]])\n",
    "box.origin = [1,2,3]\n",
    "print box"
   ]
  },
  {
   "cell_type": "markdown",
   "metadata": {},
   "source": [
    "### 2.2 set_vectors()\n",
    "\n",
    "The set_vectors() method sets the box values using avect, bvect, cvect (and origin). If origin is not specified, it is set to (0,0,0)."
   ]
  },
  {
   "cell_type": "code",
   "execution_count": 5,
   "metadata": {
    "collapsed": false
   },
   "outputs": [
    {
     "name": "stdout",
     "output_type": "stream",
     "text": [
      "box.set_vectors(avect = [12, 0, 0], bvect = [3, 10, 0], cvect = [1, -2, 10])\n",
      "box ->\n",
      "avect =  [12.000,  0.000,  0.000]\n",
      "bvect =  [ 3.000, 10.000,  0.000]\n",
      "cvect =  [ 1.000, -2.000, 10.000]\n",
      "origin = [ 0.000,  0.000,  0.000]\n",
      "\n",
      "box.set_vectors(avect = [6, 0, 0], bvect = [8, 10, 0], cvect = [24, -2, 10], origin = [-3, -4, -12])\n",
      "box ->\n",
      "avect =  [ 6.000,  0.000,  0.000]\n",
      "bvect =  [ 8.000, 10.000,  0.000]\n",
      "cvect =  [24.000, -2.000, 10.000]\n",
      "origin = [-3.000, -4.000, -12.000]\n"
     ]
    }
   ],
   "source": [
    "#Call set_vectors()\n",
    "box.set_vectors(avect = [12, 0, 0], bvect = [3, 10, 0], cvect = [1, -2, 10])\n",
    "print \"box.set_vectors(avect = [12, 0, 0], bvect = [3, 10, 0], cvect = [1, -2, 10])\"\n",
    "print \"box ->\"\n",
    "print box\n",
    "print \n",
    "\n",
    "#Call set_vectors() with origin\n",
    "box.set_vectors(avect = [6, 0, 0], bvect = [8, 10, 0], cvect = [24, -2, 10], origin = [-3, -4, -12])\n",
    "print \"box.set_vectors(avect = [6, 0, 0], bvect = [8, 10, 0], cvect = [24, -2, 10], origin = [-3, -4, -12])\"\n",
    "print \"box ->\"\n",
    "print box"
   ]
  },
  {
   "cell_type": "markdown",
   "metadata": {},
   "source": [
    "### 2.3 set_abc()\n",
    "\n",
    "The set_abc() method sets the box values using a, b, c, (alpha, beta, gamma, and origin). Any of the angles alpha, beta, gamma not specified are set to 90 degrees. If origin is not specified, it is set to (0,0,0)."
   ]
  },
  {
   "cell_type": "code",
   "execution_count": 6,
   "metadata": {
    "collapsed": false
   },
   "outputs": [
    {
     "name": "stdout",
     "output_type": "stream",
     "text": [
      "box.set_abc(a=500, b=500, c=300)\n",
      "box ->\n",
      "avect =  [500.000,  0.000,  0.000]\n",
      "bvect =  [ 0.000, 500.000,  0.000]\n",
      "cvect =  [ 0.000,  0.000, 300.000]\n",
      "origin = [ 0.000,  0.000,  0.000]\n",
      "\n",
      "box.set_abc(a=3.2, b=3.2, c=4.14, gamma=120)\n",
      "box ->\n",
      "avect =  [ 3.200,  0.000,  0.000]\n",
      "bvect =  [-1.600,  2.771,  0.000]\n",
      "cvect =  [ 0.000,  0.000,  4.140]\n",
      "origin = [ 0.000,  0.000,  0.000]\n"
     ]
    }
   ],
   "source": [
    "#Call set_abc() with a,b,c \n",
    "box.set_abc(a=500, b=500, c=300)\n",
    "print \"box.set_abc(a=500, b=500, c=300)\"\n",
    "print \"box ->\"\n",
    "print box\n",
    "print\n",
    "\n",
    "#Call set_abc() with a, b, c, gamma\n",
    "box.set_abc(a=3.2, b=3.2, c=4.14, gamma=120)\n",
    "print \"box.set_abc(a=3.2, b=3.2, c=4.14, gamma=120)\"\n",
    "print \"box ->\"\n",
    "print box"
   ]
  },
  {
   "cell_type": "markdown",
   "metadata": {},
   "source": [
    "### 2.4 set_lengths() \n",
    "\n",
    "The set_lengths() method sets the box values using lx, ly, lz, (xy, xz, yz, and origin). Any of the tilts xy, xz, yz not specified are set to 0.0. If origin is not specified, it is set to (0,0,0).\n",
    "\n",
    "The parameters relate to vects as:\n",
    "[[lx, 0.0, 0.0],\n",
    " [xy, ly, 0.0],\n",
    " [xz, yz, lz]]\n",
    "\n",
    "Rules on the Box parameters is that the vectors be right handed, the lengths positive, and the values of the tilt factors constrained such that abs(xy), abs(xz) < lx/2 and abs(yz) < ly/2.  More information can be found on the LAMMPS website documentation."
   ]
  },
  {
   "cell_type": "code",
   "execution_count": 7,
   "metadata": {
    "collapsed": false
   },
   "outputs": [
    {
     "name": "stdout",
     "output_type": "stream",
     "text": [
      "box.set(lx=0.39, ly=0.25, lz=0.47, xz=.05)\n",
      "box ->\n",
      "avect =  [ 0.390,  0.000,  0.000]\n",
      "bvect =  [ 0.000,  0.250,  0.000]\n",
      "cvect =  [ 0.050,  0.000,  0.470]\n",
      "origin = [ 0.000,  0.000,  0.000]\n",
      "\n",
      "box.set_lengths(lx=291, ly=301, lz=30, origin=[-145, -150, 0.0])\n",
      "box ->\n",
      "avect =  [291.000,  0.000,  0.000]\n",
      "bvect =  [ 0.000, 301.000,  0.000]\n",
      "cvect =  [ 0.000,  0.000, 30.000]\n",
      "origin = [-145.000, -150.000,  0.000]\n"
     ]
    }
   ],
   "source": [
    "#Call set_lengths() with lx, ly, lz, xz\n",
    "box.set(lx=0.39, ly=0.25, lz=0.47, xz=.05)\n",
    "print \"box.set(lx=0.39, ly=0.25, lz=0.47, xz=.05)\"\n",
    "print \"box ->\"\n",
    "print box\n",
    "print\n",
    "\n",
    "#Call set_lengths() with lx, ly, lz, origin \n",
    "box.set_lengths(lx=291, ly=301, lz=30, origin=[-145, -150, 0.0])\n",
    "print \"box.set_lengths(lx=291, ly=301, lz=30, origin=[-145, -150, 0.0])\"\n",
    "print \"box ->\"\n",
    "print box"
   ]
  },
  {
   "cell_type": "markdown",
   "metadata": {},
   "source": [
    "### 2.5 set_hi_los()\n",
    "\n",
    "The set_lengths() method sets the box values using xlo, xhi, ylo, yhi, zlo, zhi, (xy, xz, and yz). Any of the tilts xy, xz, yz not specified are set to 0.0.\n",
    "\n",
    "The origin is at [xlo, ylo, zlo], and box lengths are hi-lo for x,y,z.  "
   ]
  },
  {
   "cell_type": "code",
   "execution_count": 8,
   "metadata": {
    "collapsed": false
   },
   "outputs": [
    {
     "name": "stdout",
     "output_type": "stream",
     "text": [
      "box.set(xlo=0, xhi=20, ylo=0, yhi=20, zlo=0, zhi=20, xy=5)\n",
      "box ->\n",
      "avect =  [20.000,  0.000,  0.000]\n",
      "bvect =  [ 5.000, 20.000,  0.000]\n",
      "cvect =  [ 0.000,  0.000, 20.000]\n",
      "origin = [ 0.000,  0.000,  0.000]\n",
      "\n",
      "box.set_hi_los(xlo=-5, ylo=-10, zlo=-7, xhi=4, yhi=2.1, zhi=6, xy=1, xz=1.5, yz=4)\n",
      "box ->\n",
      "avect =  [ 9.000,  0.000,  0.000]\n",
      "bvect =  [ 1.000, 12.100,  0.000]\n",
      "cvect =  [ 1.500,  4.000, 13.000]\n",
      "origin = [-5.000, -10.000, -7.000]\n"
     ]
    }
   ],
   "source": [
    "#Call set_hi_los() with hi/los and xy\n",
    "box.set(xlo=0, xhi=20, ylo=0, yhi=20, zlo=0, zhi=20, xy=5)\n",
    "print \"box.set(xlo=0, xhi=20, ylo=0, yhi=20, zlo=0, zhi=20, xy=5)\"\n",
    "print \"box ->\"\n",
    "print box\n",
    "print\n",
    "\n",
    "#Call set_hi_los() with hi/los and tilts  \n",
    "box.set_hi_los(xlo=-5, ylo=-10, zlo=-7, xhi=4, yhi=2.1, zhi=6, xy=1, xz=1.5, yz=4)\n",
    "print \"box.set_hi_los(xlo=-5, ylo=-10, zlo=-7, xhi=4, yhi=2.1, zhi=6, xy=1, xz=1.5, yz=4)\"\n",
    "print \"box ->\"\n",
    "print box"
   ]
  },
  {
   "cell_type": "markdown",
   "metadata": {},
   "source": [
    "### 2.6 set()\n",
    "\n",
    "The set() method takes arguments associated with any of the above ways to set the Box values."
   ]
  },
  {
   "cell_type": "code",
   "execution_count": 9,
   "metadata": {
    "collapsed": false
   },
   "outputs": [
    {
     "name": "stdout",
     "output_type": "stream",
     "text": [
      "avect =  [ 1.000,  0.000,  0.000]\n",
      "bvect =  [ 0.000,  1.000,  0.000]\n",
      "cvect =  [ 0.000,  0.000,  1.000]\n",
      "origin = [ 0.000,  0.000,  0.000]\n",
      "\n",
      "avect =  [14.000,  0.000,  0.000]\n",
      "bvect =  [ 1.000, 12.000,  0.000]\n",
      "cvect =  [-1.000, 16.000,  2.000]\n",
      "origin = [-7.000, -6.000, -8.000]\n",
      "\n",
      "avect =  [14.000,  0.000,  0.000]\n",
      "bvect =  [ 0.000, 14.000,  0.000]\n",
      "cvect =  [ 0.000,  0.000, 12.000]\n",
      "origin = [ 0.000,  0.000,  0.000]\n",
      "\n",
      "avect =  [44.000,  0.000,  0.000]\n",
      "bvect =  [10.000, 50.000,  0.000]\n",
      "cvect =  [-4.000,  7.000, 72.000]\n",
      "origin = [ 0.000,  0.000,  0.000]\n",
      "\n",
      "avect =  [ 9.000,  0.000,  0.000]\n",
      "bvect =  [ 1.000, 12.100,  0.000]\n",
      "cvect =  [ 1.500,  4.000, 13.000]\n",
      "origin = [-5.000, -10.000, -7.000]\n"
     ]
    }
   ],
   "source": [
    "#Call set() with no arguments\n",
    "box.set()\n",
    "print box\n",
    "print\n",
    "\n",
    "#Call set() with vects and origin\n",
    "box.set(vects = [[14,0,0], [1,12,0], [-1,16,2]], origin = [-7, -6, -8])\n",
    "print box\n",
    "print\n",
    "\n",
    "#Call set() with a, b, c \n",
    "box.set(a=14, c=12, b=14)\n",
    "print box\n",
    "print\n",
    "\n",
    "#Call set() with lx, ly, lz, xy, xz, yz\n",
    "box.set(lx=44, ly=50, lz=72, xy=10, xz=-4, yz=7)\n",
    "print box\n",
    "print\n",
    "\n",
    "#Call set() with hi/los and tilts\n",
    "box.set(xlo=-5, ylo=-10, zlo=-7, xhi=4, yhi=2.1, zhi=6, xy=1, xz=1.5, yz=4)\n",
    "print box"
   ]
  },
  {
   "cell_type": "markdown",
   "metadata": {},
   "source": [
    "### 2.7 Box initilization\n",
    "\n",
    "When a box is initilized, it calls set() using all supplied keyword arguments. This means that a Box can be initilized using any of the above formats."
   ]
  },
  {
   "cell_type": "markdown",
   "metadata": {},
   "source": [
    "## 3. normalize()\n",
    "\n",
    "Boxes set using vects or set_vectors() are not necessarily compatible with the LAMMPS rules.  If the Box isn't compatible with the LAMMPS rules, then an error will issue when a LAMMPS parameter is asked for.  To overcome this, the Box class has the normalize() method that will convert the Box vectors to be compatible, if possible.  Note that normalize will fail if either the vectors are not right handed or the angles result in too large of tilt factors."
   ]
  },
  {
   "cell_type": "code",
   "execution_count": 10,
   "metadata": {
    "collapsed": false
   },
   "outputs": [
    {
     "name": "stdout",
     "output_type": "stream",
     "text": [
      "box = Box(avect=[1.0, 0.0, 0.0], bvect=[0.3, 1.0, 0.0], cvect=[-0.1, 0.2, 1.0])\n",
      "box.lx -> 1.0\n",
      "\n",
      "box = Box(avect=[1.0, 0.0, 0.0], bvect=[0.3, 1.0, 0.0], cvect=[-0.1, 0.2, 1.0])\n",
      "box.lx -> AssertionError raised: Box is not normalized for LAMMPS style parameters\n",
      "\n",
      "box.normalize()\n",
      "box ->\n",
      "avect =  [ 1.005,  0.000,  0.000]\n",
      "bvect =  [ 0.299,  1.000,  0.000]\n",
      "cvect =  [ 0.000,  0.170,  1.011]\n",
      "origin = [ 0.000,  0.000,  0.000]\n",
      "box.lx -> 1.00498756211\n"
     ]
    }
   ],
   "source": [
    "#Define a Box using vectors that is LAMMPS compatible\n",
    "box = Box(avect=[1.0, 0.0, 0.0], bvect=[0.3, 1.0, 0.0], cvect=[-0.1, 0.2, 1.0])\n",
    "print \"box = Box(avect=[1.0, 0.0, 0.0], bvect=[0.3, 1.0, 0.0], cvect=[-0.1, 0.2, 1.0])\"\n",
    "print \"box.lx ->\", \n",
    "try:\n",
    "    print box.lx\n",
    "except AssertionError as detail:\n",
    "    print 'AssertionError raised:', detail\n",
    "print\n",
    "\n",
    "#define a Box using vectors that is not LAMMPS compatible\n",
    "box = Box(avect=[1.0, 0.0, 0.1], bvect=[0.3, 1.0, 0.0], cvect=[-0.1, 0.2, 1.0])\n",
    "print \"box = Box(avect=[1.0, 0.0, 0.0], bvect=[0.3, 1.0, 0.0], cvect=[-0.1, 0.2, 1.0])\"\n",
    "print \"box.lx ->\", \n",
    "try:\n",
    "    print box.lx\n",
    "except AssertionError as detail:\n",
    "    print 'AssertionError raised:', detail\n",
    "print\n",
    "\n",
    "#Normalize the Box and try again\n",
    "box.normalize()\n",
    "print \"box.normalize()\"\n",
    "print \"box ->\"\n",
    "print box\n",
    "print \"box.lx ->\", \n",
    "try:\n",
    "    print box.lx\n",
    "except AssertionError as detail:\n",
    "    print 'AssertionError raised:', detail"
   ]
  }
 ],
 "metadata": {
  "kernelspec": {
   "display_name": "Python 2",
   "language": "python",
   "name": "python2"
  },
  "language_info": {
   "codemirror_mode": {
    "name": "ipython",
    "version": 2
   },
   "file_extension": ".py",
   "mimetype": "text/x-python",
   "name": "python",
   "nbconvert_exporter": "python",
   "pygments_lexer": "ipython2",
   "version": "2.7.12"
  }
 },
 "nbformat": 4,
 "nbformat_minor": 0
}
