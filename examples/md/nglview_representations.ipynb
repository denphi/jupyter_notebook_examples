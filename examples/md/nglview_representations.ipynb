{
 "cells": [
  {
   "cell_type": "markdown",
   "metadata": {},
   "source": [
    "[Selection](http://proteinformatics.charite.de/ngl/doc/#User_manual/Usage/Selection_language)"
   ]
  },
  {
   "cell_type": "markdown",
   "metadata": {},
   "source": [
    "# Change representations"
   ]
  },
  {
   "cell_type": "code",
   "execution_count": null,
   "metadata": {
    "ExecuteTime": {
     "end_time": "2023-02-14T17:04:50.374932Z",
     "start_time": "2023-02-14T17:04:50.294626Z"
    }
   },
   "outputs": [],
   "source": [
    "import nglview as nv\n",
    "\n",
    "view = nv.show_structure_file(nv.datafiles.PDB)\n",
    "view"
   ]
  },
  {
   "cell_type": "code",
   "execution_count": null,
   "metadata": {
    "ExecuteTime": {
     "end_time": "2023-02-14T17:04:55.756749Z",
     "start_time": "2023-02-14T17:04:55.736379Z"
    }
   },
   "outputs": [],
   "source": [
    "# Clear all representations to try new ones\n",
    "view.clear_representations()\n",
    "\n",
    "# add licorice without hydrogen\n",
    "view.add_licorice('not hydrogen')"
   ]
  },
  {
   "cell_type": "code",
   "execution_count": null,
   "metadata": {
    "ExecuteTime": {
     "end_time": "2023-02-14T17:04:58.705302Z",
     "start_time": "2023-02-14T17:04:58.683971Z"
    }
   },
   "outputs": [],
   "source": [
    "# add licorice without hydrogen and use 'blue' for color\n",
    "\n",
    "view.clear_representations()\n",
    "view.add_licorice('not hydrogen', color='blue')"
   ]
  },
  {
   "cell_type": "code",
   "execution_count": null,
   "metadata": {
    "ExecuteTime": {
     "end_time": "2023-02-14T17:05:01.948719Z",
     "start_time": "2023-02-14T17:05:01.927801Z"
    }
   },
   "outputs": [],
   "source": [
    "# add surface for CA atoms\n",
    "\n",
    "view.clear_representations()\n",
    "view.add_surface('.CA', opacity=0.3)"
   ]
  },
  {
   "cell_type": "code",
   "execution_count": null,
   "metadata": {
    "ExecuteTime": {
     "end_time": "2023-02-14T17:04:20.186812Z",
     "start_time": "2023-02-14T17:04:20.156392Z"
    }
   },
   "outputs": [],
   "source": [
    "# combine different representations\n",
    "\n",
    "view.clear_representations()\n",
    "view.add_surface('.CA', opacity=0.3)\n",
    "view.add_licorice('not hydrogen')"
   ]
  },
  {
   "cell_type": "markdown",
   "metadata": {},
   "source": [
    "# Render to get image"
   ]
  },
  {
   "cell_type": "code",
   "execution_count": null,
   "metadata": {
    "ExecuteTime": {
     "end_time": "2023-02-14T17:05:54.396481Z",
     "start_time": "2023-02-14T17:05:54.363335Z"
    }
   },
   "outputs": [],
   "source": [
    "# change to cartoon representation to have nicer view\n",
    "\n",
    "view.clear_representations()\n",
    "view.add_cartoon()\n",
    "view.add_surface(opacity=0.3)"
   ]
  },
  {
   "cell_type": "code",
   "execution_count": null,
   "metadata": {
    "ExecuteTime": {
     "end_time": "2023-02-14T17:05:54.868345Z",
     "start_time": "2023-02-14T17:05:54.855015Z"
    }
   },
   "outputs": [],
   "source": [
    "# make sure to call render_image in seperate cell\n",
    "view.render_image()"
   ]
  },
  {
   "cell_type": "code",
   "execution_count": null,
   "metadata": {
    "ExecuteTime": {
     "end_time": "2023-02-14T17:06:06.702424Z",
     "start_time": "2023-02-14T17:06:06.687047Z"
    }
   },
   "outputs": [],
   "source": [
    "# then call _display_image\n",
    "# If you save this notebook to html file, you will see the display image\n",
    "\n",
    "a = view._display_image()"
   ]
  },
  {
   "cell_type": "code",
   "execution_count": null,
   "metadata": {
    "ExecuteTime": {
     "end_time": "2023-02-14T17:06:06.763344Z",
     "start_time": "2023-02-14T17:06:06.712689Z"
    }
   },
   "outputs": [],
   "source": [
    "a"
   ]
  },
  {
   "cell_type": "code",
   "execution_count": null,
   "metadata": {
    "ExecuteTime": {
     "end_time": "2023-02-22T19:58:05.907535Z",
     "start_time": "2023-02-22T19:58:05.816676Z"
    }
   },
   "outputs": [],
   "source": []
  },
  {
   "cell_type": "code",
   "execution_count": null,
   "metadata": {
    "ExecuteTime": {
     "end_time": "2023-02-22T19:56:27.287859Z",
     "start_time": "2023-02-22T19:56:27.259331Z"
    }
   },
   "outputs": [],
   "source": []
  },
  {
   "cell_type": "code",
   "execution_count": null,
   "metadata": {
    "ExecuteTime": {
     "end_time": "2023-02-22T19:40:00.498358Z",
     "start_time": "2023-02-22T19:39:53.348956Z"
    }
   },
   "outputs": [],
   "source": []
  },
  {
   "cell_type": "code",
   "execution_count": null,
   "metadata": {},
   "outputs": [],
   "source": []
  }
 ],
 "metadata": {
  "kernelspec": {
   "display_name": "Python 3 (ipykernel)",
   "language": "python",
   "name": "python3"
  },
  "language_info": {
   "codemirror_mode": {
    "name": "ipython",
    "version": 3
   },
   "file_extension": ".py",
   "mimetype": "text/x-python",
   "name": "python",
   "nbconvert_exporter": "python",
   "pygments_lexer": "ipython3",
   "version": "3.8.10"
  },
  "toc": {
   "base_numbering": 1,
   "nav_menu": {},
   "number_sections": true,
   "sideBar": true,
   "skip_h1_title": false,
   "title_cell": "Table of Contents",
   "title_sidebar": "Contents",
   "toc_cell": false,
   "toc_position": {},
   "toc_section_display": true,
   "toc_window_display": false
  },
  "varInspector": {
   "cols": {
    "lenName": 16,
    "lenType": 16,
    "lenVar": 40
   },
   "kernels_config": {
    "python": {
     "delete_cmd_postfix": "",
     "delete_cmd_prefix": "del ",
     "library": "var_list.py",
     "varRefreshCmd": "print(var_dic_list())"
    },
    "r": {
     "delete_cmd_postfix": ") ",
     "delete_cmd_prefix": "rm(",
     "library": "var_list.r",
     "varRefreshCmd": "cat(var_dic_list()) "
    }
   },
   "types_to_exclude": [
    "module",
    "function",
    "builtin_function_or_method",
    "instance",
    "_Feature"
   ],
   "window_display": false
  },
  "widgets": {
   "state": {
    "6d4eccdb16214a5cb641bd5d6d506c87": {
     "views": [
      {
       "cell_index": 2
      }
     ]
    }
   },
   "version": "1.2.0"
  }
 },
 "nbformat": 4,
 "nbformat_minor": 2
}
