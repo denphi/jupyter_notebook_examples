{
 "cells": [
  {
   "cell_type": "markdown",
   "metadata": {},
   "source": [
    "\n",
    "This is from the RDKit blog\n",
    "http://rdkit.blogspot.com/2016/05/trying-out-py3dmol.html\n",
    "<hr>\n",
    "\n",
    "I first saw [3DMol.js](http://3dmol.csb.pitt.edu/) from Dave Koes' group at the ACS meeting in San Diego. It looked great, but I haven't had time to get back to it.\n",
    "\n",
    "This morning Dave Tweeted about Jupyter integration for 3DMol.js and I just had to try it. This is the small experiment to see what's possible."
   ]
  },
  {
   "cell_type": "code",
   "execution_count": 1,
   "metadata": {
    "collapsed": false
   },
   "outputs": [
    {
     "name": "stdout",
     "output_type": "stream",
     "text": [
      "2016.03.4\n",
      "Tue Aug 30 19:57:56 2016\n"
     ]
    }
   ],
   "source": [
    "from rdkit import Chem\n",
    "from rdkit.Chem import AllChem\n",
    "from rdkit.Chem import Draw\n",
    "from rdkit.Chem.Draw import IPythonConsole\n",
    "from rdkit import rdBase\n",
    "print(rdBase.rdkitVersion)\n",
    "import os,time\n",
    "print( time.asctime())"
   ]
  },
  {
   "cell_type": "code",
   "execution_count": 2,
   "metadata": {
    "collapsed": false
   },
   "outputs": [],
   "source": [
    "import py3Dmol"
   ]
  },
  {
   "cell_type": "markdown",
   "metadata": {},
   "source": [
    "Start with an example from the py3Dmol docs, just to make sure things are working:"
   ]
  },
  {
   "cell_type": "code",
   "execution_count": 3,
   "metadata": {
    "collapsed": false
   },
   "outputs": [
    {
     "data": {
      "text/html": [
       "<div id=\"3dmolviewer_14726014776465483\"  style=\"position: relative; width: 640px; height: 480px\">\n",
       "<script>\n",
       "if(typeof $3Dmolpromise === 'undefined') $3Dmolpromise = $.when($.getScript('http://3dmol.csb.pitt.edu/build/3Dmol.js'))\n",
       "$3Dmolpromise.done(function() {\n",
       "var viewer = $3Dmol.createViewer($(\"#3dmolviewer_14726014776465483\"),{backgroundColor:\"white\"});\n",
       "$3Dmol.download(\"pdb:1ycr\", viewer, {}, function() {\n",
       "\tviewer.setStyle({\"cartoon\": {\"color\": \"spectrum\"}});\n",
       "viewer.render();\n",
       "})\n",
       "});\n",
       "</script>"
      ],
      "text/plain": [
       "<IPython.core.display.HTML object>"
      ]
     },
     "execution_count": 3,
     "metadata": {},
     "output_type": "execute_result"
    }
   ],
   "source": [
    "p = py3Dmol.view(query='pdb:1ycr')\n",
    "p.setStyle({'cartoon': {'color':'spectrum'}})\n",
    "p.show()"
   ]
  },
  {
   "cell_type": "markdown",
   "metadata": {},
   "source": [
    "Demonstrate loading PDB data:"
   ]
  },
  {
   "cell_type": "code",
   "execution_count": 8,
   "metadata": {
    "collapsed": false
   },
   "outputs": [
    {
     "data": {
      "text/html": [
       "<div id=\"3dmolviewer_14726015949551616\"  style=\"position: relative; width: 400px; height: 400px\">\n",
       "<script>\n",
       "if(typeof $3Dmolpromise === 'undefined') $3Dmolpromise = $.when($.getScript('http://3dmol.csb.pitt.edu/build/3Dmol.js'))\n",
       "$3Dmolpromise.done(function() {\n",
       "var viewer = $3Dmol.createViewer($(\"#3dmolviewer_14726015949551616\"),{backgroundColor:\"white\"});\n",
       "\tviewer.addModel(\"ATOM      1   Al                 3.794   0.444  11.205  1.00  0.00        \\nATOM      2    O                 3.868   1.135  12.746  1.00  0.00        \\nATOM      3    H                 3.986   0.713  13.610  1.00  0.00        \\nATOM      4   As                 2.051   1.238   9.665  1.00  0.00        \\nATOM      5   Ga                 3.951   2.439   8.687  1.00  0.00        \\nATOM      6   As                 3.998   2.320   6.316  1.00  0.00        \\nATOM      7   Ga                 4.020   0.015   5.601  1.00  0.00        \\nATOM      8   As                 3.978   0.010   3.190  1.00  0.00        \\nATOM      9   Ga                 1.981   1.159   2.434  1.00  0.00        \\nATOM     10   As                 1.979   1.143   0.000  1.00  0.00        \\nATOM     11   Ga                 3.960   2.285  -0.805  1.00  0.00        \\nATOM     12   As                 3.955   2.284  -3.250  1.00  0.00        \\nATOM     13   Ga                 3.954  -0.002  -4.045  1.00  0.00        \\nATOM     14   As                 3.983   0.012  -6.507  1.00  0.00        \\nATOM     15   Ga                 2.005   1.156  -7.254  1.00  0.00        \\nATOM     16   As                 5.837   1.523   9.973  1.00  0.00        \\nATOM     17   Ga                 7.981   2.542   9.034  1.00  0.00        \\nATOM     18   As                 7.944   2.333   6.538  1.00  0.00        \\nATOM     19   Ga                 7.920   0.049   5.666  1.00  0.00        \\nATOM     20   As                 7.914   0.024   3.237  1.00  0.00        \\nATOM     21   Ga                 5.950   1.154   2.409  1.00  0.00        \\nATOM     22   As                 5.938   1.143   0.000  1.00  0.00        \\nATOM     23   Ga                 7.917   2.286  -0.810  1.00  0.00        \\nATOM     24   As                 7.915   2.284  -3.255  1.00  0.00        \\nATOM     25   Ga                 7.916  -0.003  -4.047  1.00  0.00        \\nATOM     26   As                 7.939   0.014  -6.511  1.00  0.00        \\nATOM     27   Ga                 5.960   1.158  -7.270  1.00  0.00        \\n\",\"pdb\");\n",
       "\tviewer.setStyle({\"stick\": {}});\n",
       "\tviewer.setBackgroundColor(\"0xeeeeee\");\n",
       "\tviewer.zoomTo();\n",
       "viewer.render();\n",
       "});\n",
       "</script>"
      ],
      "text/plain": [
       "<IPython.core.display.HTML object>"
      ]
     },
     "execution_count": 8,
     "metadata": {},
     "output_type": "execute_result"
    }
   ],
   "source": [
    "#crambin = open('1CRN.pdb','r').read()\n",
    "crambin = open('InitialAtomicStructure.pdb','r').read()\n",
    "p = py3Dmol.view(width=400,height=400)\n",
    "p.addModel(crambin,'pdb')\n",
    "#p.setStyle({'cartoon': {'color':'spectrum'}})\n",
    "p.setStyle({'stick':{}})\n",
    "p.setBackgroundColor('0xeeeeee')\n",
    "p.zoomTo()\n",
    "p.show()"
   ]
  },
  {
   "cell_type": "markdown",
   "metadata": {},
   "source": [
    "Here's a molecule from the RDKit distance geometry tests:"
   ]
  },
  {
   "cell_type": "code",
   "execution_count": 5,
   "metadata": {
    "collapsed": false
   },
   "outputs": [
    {
     "data": {
      "text/html": [
       "<div id=\"3dmolviewer_14712854982943256\"  style=\"position: relative; width: 400px; height: 400px\">\n",
       "<script>\n",
       "if(typeof $3Dmolpromise === 'undefined') $3Dmolpromise = $.when($.getScript('http://3dmol.csb.pitt.edu/build/3Dmol.js'))\n",
       "$3Dmolpromise.done(function() {\n",
       "var viewer = $3Dmol.createViewer($(\"#3dmolviewer_14712854982943256\"),{backgroundColor:\"white\"});\n",
       "\tviewer.addModel(\"\\n     RDKit          3D\\n\\n 51 54  0  0  0  0  0  0  0  0999 V2000\\n    5.8420    3.2263   -0.5715 C   0  0  0  0  0  0  0  0  0  0  0  0\\n    5.6777    1.9254   -0.9900 O   0  0  0  0  0  0  0  0  0  0  0  0\\n    4.7841    0.9580   -0.6140 C   0  0  0  0  0  0  0  0  0  0  0  0\\n    4.9035   -0.2729   -1.2561 C   0  0  0  0  0  0  0  0  0  0  0  0\\n    4.0352   -1.3201   -0.9482 C   0  0  0  0  0  0  0  0  0  0  0  0\\n    3.0516   -1.1647    0.0025 C   0  0  0  0  0  0  0  0  0  0  0  0\\n    2.0658   -2.2368    0.2376 C   0  0  2  0  0  0  0  0  0  0  0  0\\n    1.7476   -2.9887   -0.8823 O   0  0  0  0  0  0  0  0  0  0  0  0\\n    0.9055   -1.7841    1.0464 C   0  0  1  0  0  0  0  0  0  0  0  0\\n    1.4921   -1.0091    2.2383 C   0  0  0  0  0  0  0  0  0  0  0  0\\n    1.9687    0.1944    1.6667 O   0  0  0  0  0  0  0  0  0  0  0  0\\n    2.9277    0.0241    0.6527 C   0  0  0  0  0  0  0  0  0  0  0  0\\n    3.7913    1.0728    0.3204 C   0  0  0  0  0  0  0  0  0  0  0  0\\n   -0.0414   -0.9124    0.3971 N   0  0  0  0  0  0  0  0  0  0  0  0\\n   -0.9720   -0.5188    1.4338 C   0  0  0  0  0  0  0  0  0  0  0  0\\n   -2.1960    0.1575    0.9271 C   0  0  0  0  0  0  0  0  0  0  0  0\\n   -2.9043   -0.5890   -0.1722 C   0  0  0  0  0  0  0  0  0  0  0  0\\n   -3.5627   -1.7200    0.3242 O   0  0  0  0  0  0  0  0  0  0  0  0\\n   -1.9264   -0.8804   -1.2213 C   0  0  0  0  0  0  0  0  0  0  0  0\\n   -0.6466   -1.5197   -0.7337 C   0  0  0  0  0  0  0  0  0  0  0  0\\n   -3.9352    0.3693   -0.6842 C   0  0  0  0  0  0  0  0  0  0  0  0\\n   -3.5577    1.6879   -0.9648 C   0  0  0  0  0  0  0  0  0  0  0  0\\n   -4.4869    2.7089   -1.0155 C   0  0  0  0  0  0  0  0  0  0  0  0\\n   -5.8054    2.4411   -0.7955 C   0  0  0  0  0  0  0  0  0  0  0  0\\n   -6.7469    3.4300   -0.6717 F   0  0  0  0  0  0  0  0  0  0  0  0\\n   -6.1996    1.1584   -0.5530 C   0  0  0  0  0  0  0  0  0  0  0  0\\n   -5.2821    0.1378   -0.4990 C   0  0  0  0  0  0  0  0  0  0  0  0\\n    6.9426    3.3308   -0.3155 H   0  0  0  0  0  0  0  0  0  0  0  0\\n    5.3197    3.5244    0.3622 H   0  0  0  0  0  0  0  0  0  0  0  0\\n    5.7177    4.0092   -1.3762 H   0  0  0  0  0  0  0  0  0  0  0  0\\n    5.7078   -0.4646   -1.9323 H   0  0  0  0  0  0  0  0  0  0  0  0\\n    4.1931   -2.2470   -1.5081 H   0  0  0  0  0  0  0  0  0  0  0  0\\n    2.6149   -2.9774    0.9124 H   0  0  0  0  0  0  0  0  0  0  0  0\\n    2.4757   -3.6316   -1.0909 H   0  0  0  0  0  0  0  0  0  0  0  0\\n    0.3966   -2.6800    1.4897 H   0  0  0  0  0  0  0  0  0  0  0  0\\n    0.8087   -0.8933    3.0644 H   0  0  0  0  0  0  0  0  0  0  0  0\\n    2.3913   -1.5712    2.5599 H   0  0  0  0  0  0  0  0  0  0  0  0\\n    3.6739    2.0640    0.7596 H   0  0  0  0  0  0  0  0  0  0  0  0\\n   -1.2266   -1.3154    2.1447 H   0  0  0  0  0  0  0  0  0  0  0  0\\n   -0.4388    0.2677    2.0535 H   0  0  0  0  0  0  0  0  0  0  0  0\\n   -2.9129    0.2561    1.7906 H   0  0  0  0  0  0  0  0  0  0  0  0\\n   -1.9199    1.1569    0.5432 H   0  0  0  0  0  0  0  0  0  0  0  0\\n   -4.2139   -1.4493    1.0027 H   0  0  0  0  0  0  0  0  0  0  0  0\\n   -2.3847   -1.6328   -1.9373 H   0  0  0  0  0  0  0  0  0  0  0  0\\n   -1.7260    0.0192   -1.8332 H   0  0  0  0  0  0  0  0  0  0  0  0\\n   -0.8330   -2.6067   -0.5593 H   0  0  0  0  0  0  0  0  0  0  0  0\\n    0.0640   -1.3912   -1.6057 H   0  0  0  0  0  0  0  0  0  0  0  0\\n   -2.5331    1.8863   -1.2169 H   0  0  0  0  0  0  0  0  0  0  0  0\\n   -4.1848    3.7258   -1.2015 H   0  0  0  0  0  0  0  0  0  0  0  0\\n   -7.2527    0.9107   -0.3846 H   0  0  0  0  0  0  0  0  0  0  0  0\\n   -5.6091   -0.8660   -0.3629 H   0  0  0  0  0  0  0  0  0  0  0  0\\n  1  2  1  0\\n  2  3  1  0\\n  3  4  2  0\\n  4  5  1  0\\n  5  6  2  0\\n  6  7  1  0\\n  7  8  1  0\\n  7  9  1  0\\n  9 10  1  0\\n 10 11  1  0\\n 11 12  1  0\\n 12 13  2  0\\n  9 14  1  0\\n 14 15  1  0\\n 15 16  1  0\\n 16 17  1  0\\n 17 18  1  0\\n 17 19  1  0\\n 19 20  1  0\\n 17 21  1  0\\n 21 22  2  0\\n 22 23  1  0\\n 23 24  2  0\\n 24 25  1  0\\n 24 26  1  0\\n 26 27  2  0\\n 13  3  1  0\\n 12  6  1  0\\n 20 14  1  0\\n 27 21  1  0\\n  1 28  1  0\\n  1 29  1  0\\n  1 30  1  0\\n  4 31  1  0\\n  5 32  1  0\\n  7 33  1  1\\n  8 34  1  0\\n  9 35  1  1\\n 10 36  1  0\\n 10 37  1  0\\n 13 38  1  0\\n 15 39  1  0\\n 15 40  1  0\\n 16 41  1  0\\n 16 42  1  0\\n 18 43  1  0\\n 19 44  1  0\\n 19 45  1  0\\n 20 46  1  0\\n 20 47  1  0\\n 22 48  1  0\\n 23 49  1  0\\n 26 50  1  0\\n 27 51  1  0\\nM  END\\n\",\"sdf\");\n",
       "\tviewer.setStyle({\"stick\": {}});\n",
       "\tviewer.setBackgroundColor(\"0xeeeeee\");\n",
       "\tviewer.zoomTo();\n",
       "viewer.render();\n",
       "});\n",
       "</script>"
      ],
      "text/plain": [
       "<IPython.core.display.HTML object>"
      ]
     },
     "execution_count": 5,
     "metadata": {},
     "output_type": "execute_result"
    }
   ],
   "source": [
    "m = Chem.AddHs(Chem.MolFromSmiles('COc1ccc2[C@H](O)[C@@H](COc2c1)N3CCC(O)(CC3)c4ccc(F)cc4'))\n",
    "AllChem.EmbedMultipleConfs(m,useExpTorsionAnglePrefs=True,useBasicKnowledge=True)\n",
    "mb = Chem.MolToMolBlock(m)\n",
    "p = py3Dmol.view(width=400,height=400)\n",
    "p.addModel(mb,'sdf')\n",
    "p.setStyle({'stick':{}})\n",
    "p.setBackgroundColor('0xeeeeee')\n",
    "p.zoomTo()\n",
    "p.show()"
   ]
  },
  {
   "cell_type": "markdown",
   "metadata": {},
   "source": [
    "The thing I really want to be able to do is look at multiple molecules, so let's try showing all the conformers aligned to each other."
   ]
  },
  {
   "cell_type": "code",
   "execution_count": 6,
   "metadata": {
    "collapsed": false
   },
   "outputs": [
    {
     "name": "stdout",
     "output_type": "stream",
     "text": [
      "(8, 6, 7, 5, 4, 3, 2, 12, 11, 10, 9)\n"
     ]
    },
    {
     "data": {
      "image/png": "[encoded data removed]",
      "text/plain": [
       "<rdkit.Chem.rdchem.Mol at 0x7f0a94fbecb0>"
      ]
     },
     "execution_count": 6,
     "metadata": {},
     "output_type": "execute_result"
    }
   ],
   "source": [
    "core = m.GetSubstructMatch(Chem.MolFromSmiles('C1C(O)c2ccccc2OC1'))\n",
    "print(core)\n",
    "m"
   ]
  },
  {
   "cell_type": "code",
   "execution_count": 7,
   "metadata": {
    "collapsed": true
   },
   "outputs": [],
   "source": [
    "AllChem.AlignMolConformers(m,atomIds=core)"
   ]
  },
  {
   "cell_type": "code",
   "execution_count": 8,
   "metadata": {
    "collapsed": false
   },
   "outputs": [
    {
     "data": {
      "text/html": [
       "<div id=\"3dmolviewer_1471285498394553\"  style=\"position: relative; width: 400px; height: 400px\">\n",
       "<script>\n",
       "if(typeof $3Dmolpromise === 'undefined') $3Dmolpromise = $.when($.getScript('http://3dmol.csb.pitt.edu/build/3Dmol.js'))\n",
       "$3Dmolpromise.done(function() {\n",
       "var viewer = $3Dmol.createViewer($(\"#3dmolviewer_1471285498394553\"),{backgroundColor:\"white\"});\n",
       "\tviewer.addModel(\"\\n     RDKit          3D\\n\\n 51 54  0  0  0  0  0  0  0  0999 V2000\\n    5.8420    3.2263   -0.5715 C   0  0  0  0  0  0  0  0  0  0  0  0\\n    5.6777    1.9254   -0.9900 O   0  0  0  0  0  0  0  0  0  0  0  0\\n    4.7841    0.9580   -0.6140 C   0  0  0  0  0  0  0  0  0  0  0  0\\n    4.9035   -0.2729   -1.2561 C   0  0  0  0  0  0  0  0  0  0  0  0\\n    4.0352   -1.3201   -0.9482 C   0  0  0  0  0  0  0  0  0  0  0  0\\n    3.0516   -1.1647    0.0025 C   0  0  0  0  0  0  0  0  0  0  0  0\\n    2.0658   -2.2368    0.2376 C   0  0  2  0  0  0  0  0  0  0  0  0\\n    1.7476   -2.9887   -0.8823 O   0  0  0  0  0  0  0  0  0  0  0  0\\n    0.9055   -1.7841    1.0464 C   0  0  1  0  0  0  0  0  0  0  0  0\\n    1.4921   -1.0091    2.2383 C   0  0  0  0  0  0  0  0  0  0  0  0\\n    1.9687    0.1944    1.6667 O   0  0  0  0  0  0  0  0  0  0  0  0\\n    2.9277    0.0241    0.6527 C   0  0  0  0  0  0  0  0  0  0  0  0\\n    3.7913    1.0728    0.3204 C   0  0  0  0  0  0  0  0  0  0  0  0\\n   -0.0414   -0.9124    0.3971 N   0  0  0  0  0  0  0  0  0  0  0  0\\n   -0.9720   -0.5188    1.4338 C   0  0  0  0  0  0  0  0  0  0  0  0\\n   -2.1960    0.1575    0.9271 C   0  0  0  0  0  0  0  0  0  0  0  0\\n   -2.9043   -0.5890   -0.1722 C   0  0  0  0  0  0  0  0  0  0  0  0\\n   -3.5627   -1.7200    0.3242 O   0  0  0  0  0  0  0  0  0  0  0  0\\n   -1.9264   -0.8804   -1.2213 C   0  0  0  0  0  0  0  0  0  0  0  0\\n   -0.6466   -1.5197   -0.7337 C   0  0  0  0  0  0  0  0  0  0  0  0\\n   -3.9352    0.3693   -0.6842 C   0  0  0  0  0  0  0  0  0  0  0  0\\n   -3.5577    1.6879   -0.9648 C   0  0  0  0  0  0  0  0  0  0  0  0\\n   -4.4869    2.7089   -1.0155 C   0  0  0  0  0  0  0  0  0  0  0  0\\n   -5.8054    2.4411   -0.7955 C   0  0  0  0  0  0  0  0  0  0  0  0\\n   -6.7469    3.4300   -0.6717 F   0  0  0  0  0  0  0  0  0  0  0  0\\n   -6.1996    1.1584   -0.5530 C   0  0  0  0  0  0  0  0  0  0  0  0\\n   -5.2821    0.1378   -0.4990 C   0  0  0  0  0  0  0  0  0  0  0  0\\n    6.9426    3.3308   -0.3155 H   0  0  0  0  0  0  0  0  0  0  0  0\\n    5.3197    3.5244    0.3622 H   0  0  0  0  0  0  0  0  0  0  0  0\\n    5.7177    4.0092   -1.3762 H   0  0  0  0  0  0  0  0  0  0  0  0\\n    5.7078   -0.4646   -1.9323 H   0  0  0  0  0  0  0  0  0  0  0  0\\n    4.1931   -2.2470   -1.5081 H   0  0  0  0  0  0  0  0  0  0  0  0\\n    2.6149   -2.9774    0.9124 H   0  0  0  0  0  0  0  0  0  0  0  0\\n    2.4757   -3.6316   -1.0909 H   0  0  0  0  0  0  0  0  0  0  0  0\\n    0.3966   -2.6800    1.4897 H   0  0  0  0  0  0  0  0  0  0  0  0\\n    0.8087   -0.8933    3.0644 H   0  0  0  0  0  0  0  0  0  0  0  0\\n    2.3913   -1.5712    2.5599 H   0  0  0  0  0  0  0  0  0  0  0  0\\n    3.6739    2.0640    0.7596 H   0  0  0  0  0  0  0  0  0  0  0  0\\n   -1.2266   -1.3154    2.1447 H   0  0  0  0  0  0  0  0  0  0  0  0\\n   -0.4388    0.2677    2.0535 H   0  0  0  0  0  0  0  0  0  0  0  0\\n   -2.9129    0.2561    1.7906 H   0  0  0  0  0  0  0  0  0  0  0  0\\n   -1.9199    1.1569    0.5432 H   0  0  0  0  0  0  0  0  0  0  0  0\\n   -4.2139   -1.4493    1.0027 H   0  0  0  0  0  0  0  0  0  0  0  0\\n   -2.3847   -1.6328   -1.9373 H   0  0  0  0  0  0  0  0  0  0  0  0\\n   -1.7260    0.0192   -1.8332 H   0  0  0  0  0  0  0  0  0  0  0  0\\n   -0.8330   -2.6067   -0.5593 H   0  0  0  0  0  0  0  0  0  0  0  0\\n    0.0640   -1.3912   -1.6057 H   0  0  0  0  0  0  0  0  0  0  0  0\\n   -2.5331    1.8863   -1.2169 H   0  0  0  0  0  0  0  0  0  0  0  0\\n   -4.1848    3.7258   -1.2015 H   0  0  0  0  0  0  0  0  0  0  0  0\\n   -7.2527    0.9107   -0.3846 H   0  0  0  0  0  0  0  0  0  0  0  0\\n   -5.6091   -0.8660   -0.3629 H   0  0  0  0  0  0  0  0  0  0  0  0\\n  1  2  1  0\\n  2  3  1  0\\n  3  4  2  0\\n  4  5  1  0\\n  5  6  2  0\\n  6  7  1  0\\n  7  8  1  0\\n  7  9  1  0\\n  9 10  1  0\\n 10 11  1  0\\n 11 12  1  0\\n 12 13  2  0\\n  9 14  1  0\\n 14 15  1  0\\n 15 16  1  0\\n 16 17  1  0\\n 17 18  1  0\\n 17 19  1  0\\n 19 20  1  0\\n 17 21  1  0\\n 21 22  2  0\\n 22 23  1  0\\n 23 24  2  0\\n 24 25  1  0\\n 24 26  1  0\\n 26 27  2  0\\n 13  3  1  0\\n 12  6  1  0\\n 20 14  1  0\\n 27 21  1  0\\n  1 28  1  0\\n  1 29  1  0\\n  1 30  1  0\\n  4 31  1  0\\n  5 32  1  0\\n  7 33  1  1\\n  8 34  1  0\\n  9 35  1  1\\n 10 36  1  0\\n 10 37  1  0\\n 13 38  1  0\\n 15 39  1  0\\n 15 40  1  0\\n 16 41  1  0\\n 16 42  1  0\\n 18 43  1  0\\n 19 44  1  0\\n 19 45  1  0\\n 20 46  1  0\\n 20 47  1  0\\n 22 48  1  0\\n 23 49  1  0\\n 26 50  1  0\\n 27 51  1  0\\nM  END\\n\",\"sdf\");\n",
       "\tviewer.addModel(\"\\n     RDKit          3D\\n\\n 51 54  0  0  0  0  0  0  0  0999 V2000\\n    6.6273    2.0658   -1.7517 C   0  0  0  0  0  0  0  0  0  0  0  0\\n    5.5839    2.0373   -0.8076 O   0  0  0  0  0  0  0  0  0  0  0  0\\n    4.7870    0.9326   -0.5892 C   0  0  0  0  0  0  0  0  0  0  0  0\\n    4.9412   -0.2502   -1.2793 C   0  0  0  0  0  0  0  0  0  0  0  0\\n    4.0948   -1.2966   -0.9854 C   0  0  0  0  0  0  0  0  0  0  0  0\\n    3.0874   -1.2003   -0.0161 C   0  0  0  0  0  0  0  0  0  0  0  0\\n    2.2103   -2.3723    0.2664 C   0  0  2  0  0  0  0  0  0  0  0  0\\n    1.3432   -2.5276   -0.7766 O   0  0  0  0  0  0  0  0  0  0  0  0\\n    1.5874   -2.1762    1.6173 C   0  0  1  0  0  0  0  0  0  0  0  0\\n    0.9001   -0.8156    1.5734 C   0  0  0  0  0  0  0  0  0  0  0  0\\n    1.9663    0.1319    1.6251 O   0  0  0  0  0  0  0  0  0  0  0  0\\n    2.9510   -0.0084    0.6593 C   0  0  0  0  0  0  0  0  0  0  0  0\\n    3.8043    1.0556    0.3692 C   0  0  0  0  0  0  0  0  0  0  0  0\\n    0.6379   -3.1394    1.9985 N   0  0  0  0  0  0  0  0  0  0  0  0\\n    0.2650   -3.0109    3.3931 C   0  0  0  0  0  0  0  0  0  0  0  0\\n   -1.1543   -3.5594    3.4785 C   0  0  0  0  0  0  0  0  0  0  0  0\\n   -1.0999   -5.0412    3.0906 C   0  0  0  0  0  0  0  0  0  0  0  0\\n   -0.4912   -5.7419    4.1591 O   0  0  0  0  0  0  0  0  0  0  0  0\\n   -0.3677   -5.2853    1.8174 C   0  0  0  0  0  0  0  0  0  0  0  0\\n    0.9586   -4.5167    1.7855 C   0  0  0  0  0  0  0  0  0  0  0  0\\n   -2.4951   -5.4900    3.0577 C   0  0  0  0  0  0  0  0  0  0  0  0\\n   -3.1919   -5.4499    4.2724 C   0  0  0  0  0  0  0  0  0  0  0  0\\n   -4.5154   -5.8481    4.3364 C   0  0  0  0  0  0  0  0  0  0  0  0\\n   -5.1820   -6.2919    3.2110 C   0  0  0  0  0  0  0  0  0  0  0  0\\n   -6.4800   -6.6861    3.2618 F   0  0  0  0  0  0  0  0  0  0  0  0\\n   -4.5138   -6.3377    2.0094 C   0  0  0  0  0  0  0  0  0  0  0  0\\n   -3.1799   -5.9342    1.9598 C   0  0  0  0  0  0  0  0  0  0  0  0\\n    7.1344    1.0804   -1.7502 H   0  0  0  0  0  0  0  0  0  0  0  0\\n    6.1914    2.3157   -2.7321 H   0  0  0  0  0  0  0  0  0  0  0  0\\n    7.3521    2.8451   -1.4319 H   0  0  0  0  0  0  0  0  0  0  0  0\\n    5.7199   -0.3543   -2.0431 H   0  0  0  0  0  0  0  0  0  0  0  0\\n    4.2062   -2.2498   -1.5252 H   0  0  0  0  0  0  0  0  0  0  0  0\\n    2.8801   -3.2630    0.3151 H   0  0  0  0  0  0  0  0  0  0  0  0\\n    0.4033   -2.3632   -0.6195 H   0  0  0  0  0  0  0  0  0  0  0  0\\n    2.4025   -2.0980    2.3530 H   0  0  0  0  0  0  0  0  0  0  0  0\\n    0.4618   -0.6985    0.5509 H   0  0  0  0  0  0  0  0  0  0  0  0\\n    0.1617   -0.6600    2.3528 H   0  0  0  0  0  0  0  0  0  0  0  0\\n    3.6362    1.9654    0.9417 H   0  0  0  0  0  0  0  0  0  0  0  0\\n    0.3797   -2.0231    3.8232 H   0  0  0  0  0  0  0  0  0  0  0  0\\n    0.9690   -3.6771    3.9742 H   0  0  0  0  0  0  0  0  0  0  0  0\\n   -1.7249   -3.0650    2.6719 H   0  0  0  0  0  0  0  0  0  0  0  0\\n   -1.5882   -3.4750    4.4726 H   0  0  0  0  0  0  0  0  0  0  0  0\\n    0.4717   -5.6447    4.1846 H   0  0  0  0  0  0  0  0  0  0  0  0\\n   -0.2000   -6.3677    1.7211 H   0  0  0  0  0  0  0  0  0  0  0  0\\n   -0.9577   -4.8634    0.9765 H   0  0  0  0  0  0  0  0  0  0  0  0\\n    1.5053   -4.7410    0.8668 H   0  0  0  0  0  0  0  0  0  0  0  0\\n    1.6171   -4.8425    2.6394 H   0  0  0  0  0  0  0  0  0  0  0  0\\n   -2.7018   -5.1075    5.1698 H   0  0  0  0  0  0  0  0  0  0  0  0\\n   -5.0727   -5.8203    5.2772 H   0  0  0  0  0  0  0  0  0  0  0  0\\n   -5.0265   -6.6813    1.1392 H   0  0  0  0  0  0  0  0  0  0  0  0\\n   -2.6641   -5.9655    1.0229 H   0  0  0  0  0  0  0  0  0  0  0  0\\n  1  2  1  0\\n  2  3  1  0\\n  3  4  2  0\\n  4  5  1  0\\n  5  6  2  0\\n  6  7  1  0\\n  7  8  1  0\\n  7  9  1  0\\n  9 10  1  0\\n 10 11  1  0\\n 11 12  1  0\\n 12 13  2  0\\n  9 14  1  0\\n 14 15  1  0\\n 15 16  1  0\\n 16 17  1  0\\n 17 18  1  0\\n 17 19  1  0\\n 19 20  1  0\\n 17 21  1  0\\n 21 22  2  0\\n 22 23  1  0\\n 23 24  2  0\\n 24 25  1  0\\n 24 26  1  0\\n 26 27  2  0\\n 13  3  1  0\\n 12  6  1  0\\n 20 14  1  0\\n 27 21  1  0\\n  1 28  1  0\\n  1 29  1  0\\n  1 30  1  0\\n  4 31  1  0\\n  5 32  1  0\\n  7 33  1  1\\n  8 34  1  0\\n  9 35  1  1\\n 10 36  1  0\\n 10 37  1  0\\n 13 38  1  0\\n 15 39  1  0\\n 15 40  1  0\\n 16 41  1  0\\n 16 42  1  0\\n 18 43  1  0\\n 19 44  1  0\\n 19 45  1  0\\n 20 46  1  0\\n 20 47  1  0\\n 22 48  1  0\\n 23 49  1  0\\n 26 50  1  0\\n 27 51  1  0\\nM  END\\n\",\"sdf\");\n",
       "\tviewer.addModel(\"\\n     RDKit          3D\\n\\n 51 54  0  0  0  0  0  0  0  0999 V2000\\n    6.7674    1.8493   -1.5866 C   0  0  0  0  0  0  0  0  0  0  0  0\\n    5.6622    2.0418   -0.7243 O   0  0  0  0  0  0  0  0  0  0  0  0\\n    4.8131    0.9446   -0.5290 C   0  0  0  0  0  0  0  0  0  0  0  0\\n    5.0229   -0.2768   -1.1381 C   0  0  0  0  0  0  0  0  0  0  0  0\\n    4.1792   -1.3546   -0.9280 C   0  0  0  0  0  0  0  0  0  0  0  0\\n    3.1005   -1.2168   -0.0940 C   0  0  0  0  0  0  0  0  0  0  0  0\\n    2.1965   -2.3968    0.1873 C   0  0  2  0  0  0  0  0  0  0  0  0\\n    1.0978   -2.2160   -0.6346 O   0  0  0  0  0  0  0  0  0  0  0  0\\n    1.8471   -2.2582    1.6513 C   0  0  1  0  0  0  0  0  0  0  0  0\\n    1.0325   -0.9617    1.7493 C   0  0  0  0  0  0  0  0  0  0  0  0\\n    1.7955    0.1547    1.3675 O   0  0  0  0  0  0  0  0  0  0  0  0\\n    2.8704   -0.0063    0.5248 C   0  0  0  0  0  0  0  0  0  0  0  0\\n    3.7174    1.0610    0.3074 C   0  0  0  0  0  0  0  0  0  0  0  0\\n    1.2262   -3.3601    2.2584 N   0  0  0  0  0  0  0  0  0  0  0  0\\n    1.2411   -3.2663    3.6849 C   0  0  0  0  0  0  0  0  0  0  0  0\\n    2.3537   -4.1134    4.3020 C   0  0  0  0  0  0  0  0  0  0  0  0\\n    2.1115   -5.5130    3.8254 C   0  0  0  0  0  0  0  0  0  0  0  0\\n    0.7447   -5.8073    3.8860 O   0  0  0  0  0  0  0  0  0  0  0  0\\n    2.4521   -5.5042    2.3387 C   0  0  0  0  0  0  0  0  0  0  0  0\\n    1.3479   -4.6410    1.7170 C   0  0  0  0  0  0  0  0  0  0  0  0\\n    2.8462   -6.5384    4.5775 C   0  0  0  0  0  0  0  0  0  0  0  0\\n    2.2616   -7.0050    5.7516 C   0  0  0  0  0  0  0  0  0  0  0  0\\n    2.8651   -7.9592    6.5573 C   0  0  0  0  0  0  0  0  0  0  0  0\\n    4.0902   -8.4668    6.1871 C   0  0  0  0  0  0  0  0  0  0  0  0\\n    4.7334   -9.4114    6.9368 F   0  0  0  0  0  0  0  0  0  0  0  0\\n    4.6583   -7.9967    5.0227 C   0  0  0  0  0  0  0  0  0  0  0  0\\n    4.0636   -7.0495    4.2188 C   0  0  0  0  0  0  0  0  0  0  0  0\\n    6.3932    1.4470   -2.5502 H   0  0  0  0  0  0  0  0  0  0  0  0\\n    7.4828    1.1043   -1.1688 H   0  0  0  0  0  0  0  0  0  0  0  0\\n    7.3053    2.8003   -1.7889 H   0  0  0  0  0  0  0  0  0  0  0  0\\n    5.8726   -0.3651   -1.7900 H   0  0  0  0  0  0  0  0  0  0  0  0\\n    4.3705   -2.3242   -1.4140 H   0  0  0  0  0  0  0  0  0  0  0  0\\n    2.8068   -3.2873   -0.0417 H   0  0  0  0  0  0  0  0  0  0  0  0\\n    0.9337   -1.2622   -0.7893 H   0  0  0  0  0  0  0  0  0  0  0  0\\n    2.8088   -2.0379    2.1834 H   0  0  0  0  0  0  0  0  0  0  0  0\\n    0.1299   -1.0868    1.1098 H   0  0  0  0  0  0  0  0  0  0  0  0\\n    0.6704   -0.7770    2.7753 H   0  0  0  0  0  0  0  0  0  0  0  0\\n    3.5509    2.0223    0.7798 H   0  0  0  0  0  0  0  0  0  0  0  0\\n    0.2905   -3.5967    4.1276 H   0  0  0  0  0  0  0  0  0  0  0  0\\n    1.4401   -2.2246    4.0037 H   0  0  0  0  0  0  0  0  0  0  0  0\\n    2.3561   -3.9800    5.3772 H   0  0  0  0  0  0  0  0  0  0  0  0\\n    3.3010   -3.7295    3.8246 H   0  0  0  0  0  0  0  0  0  0  0  0\\n    0.3030   -5.5470    4.7058 H   0  0  0  0  0  0  0  0  0  0  0  0\\n    2.3910   -6.5177    1.8904 H   0  0  0  0  0  0  0  0  0  0  0  0\\n    3.4108   -4.9899    2.1293 H   0  0  0  0  0  0  0  0  0  0  0  0\\n    1.4769   -4.6713    0.6486 H   0  0  0  0  0  0  0  0  0  0  0  0\\n    0.4008   -5.2141    1.9383 H   0  0  0  0  0  0  0  0  0  0  0  0\\n    1.3015   -6.6398    6.0949 H   0  0  0  0  0  0  0  0  0  0  0  0\\n    2.4129   -8.3209    7.4707 H   0  0  0  0  0  0  0  0  0  0  0  0\\n    5.6218   -8.3936    4.7347 H   0  0  0  0  0  0  0  0  0  0  0  0\\n    4.4957   -6.6690    3.2990 H   0  0  0  0  0  0  0  0  0  0  0  0\\n  1  2  1  0\\n  2  3  1  0\\n  3  4  2  0\\n  4  5  1  0\\n  5  6  2  0\\n  6  7  1  0\\n  7  8  1  0\\n  7  9  1  0\\n  9 10  1  0\\n 10 11  1  0\\n 11 12  1  0\\n 12 13  2  0\\n  9 14  1  0\\n 14 15  1  0\\n 15 16  1  0\\n 16 17  1  0\\n 17 18  1  0\\n 17 19  1  0\\n 19 20  1  0\\n 17 21  1  0\\n 21 22  2  0\\n 22 23  1  0\\n 23 24  2  0\\n 24 25  1  0\\n 24 26  1  0\\n 26 27  2  0\\n 13  3  1  0\\n 12  6  1  0\\n 20 14  1  0\\n 27 21  1  0\\n  1 28  1  0\\n  1 29  1  0\\n  1 30  1  0\\n  4 31  1  0\\n  5 32  1  0\\n  7 33  1  1\\n  8 34  1  0\\n  9 35  1  1\\n 10 36  1  0\\n 10 37  1  0\\n 13 38  1  0\\n 15 39  1  0\\n 15 40  1  0\\n 16 41  1  0\\n 16 42  1  0\\n 18 43  1  0\\n 19 44  1  0\\n 19 45  1  0\\n 20 46  1  0\\n 20 47  1  0\\n 22 48  1  0\\n 23 49  1  0\\n 26 50  1  0\\n 27 51  1  0\\nM  END\\n\",\"sdf\");\n",
       "\tviewer.addModel(\"\\n     RDKit          3D\\n\\n 51 54  0  0  0  0  0  0  0  0999 V2000\\n    5.2772    3.2635   -0.3930 C   0  0  0  0  0  0  0  0  0  0  0  0\\n    5.5896    1.9918   -0.9648 O   0  0  0  0  0  0  0  0  0  0  0  0\\n    4.7489    0.9269   -0.6090 C   0  0  0  0  0  0  0  0  0  0  0  0\\n    5.0159   -0.3161   -1.1409 C   0  0  0  0  0  0  0  0  0  0  0  0\\n    4.2441   -1.4091   -0.8608 C   0  0  0  0  0  0  0  0  0  0  0  0\\n    3.1518   -1.2416   -0.0035 C   0  0  0  0  0  0  0  0  0  0  0  0\\n    2.1853   -2.3392    0.2017 C   0  0  2  0  0  0  0  0  0  0  0  0\\n    1.1881   -2.1297   -0.7875 O   0  0  0  0  0  0  0  0  0  0  0  0\\n    1.6444   -2.2963    1.5670 C   0  0  1  0  0  0  0  0  0  0  0  0\\n    1.1299   -0.9443    1.9556 C   0  0  0  0  0  0  0  0  0  0  0  0\\n    1.7930    0.1327    1.3745 O   0  0  0  0  0  0  0  0  0  0  0  0\\n    2.8893   -0.0042    0.5290 C   0  0  0  0  0  0  0  0  0  0  0  0\\n    3.6824    1.0940    0.2379 C   0  0  0  0  0  0  0  0  0  0  0  0\\n    0.6722   -3.2769    1.8864 N   0  0  0  0  0  0  0  0  0  0  0  0\\n    1.1591   -4.6358    1.8809 C   0  0  0  0  0  0  0  0  0  0  0  0\\n    0.2643   -5.3358    2.9145 C   0  0  0  0  0  0  0  0  0  0  0  0\\n   -1.1837   -5.2614    2.5838 C   0  0  0  0  0  0  0  0  0  0  0  0\\n   -1.8604   -5.3498    3.8468 O   0  0  0  0  0  0  0  0  0  0  0  0\\n   -1.6007   -3.9816    1.9824 C   0  0  0  0  0  0  0  0  0  0  0  0\\n   -0.5585   -3.2391    1.1973 C   0  0  0  0  0  0  0  0  0  0  0  0\\n   -1.6295   -6.4824    1.8618 C   0  0  0  0  0  0  0  0  0  0  0  0\\n   -1.5019   -7.6608    2.5680 C   0  0  0  0  0  0  0  0  0  0  0  0\\n   -1.8659   -8.8709    2.0216 C   0  0  0  0  0  0  0  0  0  0  0  0\\n   -2.3695   -8.8913    0.7489 C   0  0  0  0  0  0  0  0  0  0  0  0\\n   -2.7270  -10.0771    0.1798 F   0  0  0  0  0  0  0  0  0  0  0  0\\n   -2.5073   -7.7276    0.0218 C   0  0  0  0  0  0  0  0  0  0  0  0\\n   -2.1293   -6.5239    0.5970 C   0  0  0  0  0  0  0  0  0  0  0  0\\n    4.2022    3.4561   -0.6058 H   0  0  0  0  0  0  0  0  0  0  0  0\\n    5.3645    3.2535    0.7142 H   0  0  0  0  0  0  0  0  0  0  0  0\\n    5.9074    4.0658   -0.8089 H   0  0  0  0  0  0  0  0  0  0  0  0\\n    5.8865   -0.4401   -1.8043 H   0  0  0  0  0  0  0  0  0  0  0  0\\n    4.3714   -2.4033   -1.2505 H   0  0  0  0  0  0  0  0  0  0  0  0\\n    2.7156   -3.3088   -0.0195 H   0  0  0  0  0  0  0  0  0  0  0  0\\n    1.1076   -1.1709   -1.0155 H   0  0  0  0  0  0  0  0  0  0  0  0\\n    2.5242   -2.5125    2.2562 H   0  0  0  0  0  0  0  0  0  0  0  0\\n    1.3065   -0.8402    3.0782 H   0  0  0  0  0  0  0  0  0  0  0  0\\n    0.0250   -0.8759    1.8751 H   0  0  0  0  0  0  0  0  0  0  0  0\\n    3.4870    2.0546    0.6940 H   0  0  0  0  0  0  0  0  0  0  0  0\\n    2.1883   -4.7284    2.2090 H   0  0  0  0  0  0  0  0  0  0  0  0\\n    0.9568   -5.0817    0.9000 H   0  0  0  0  0  0  0  0  0  0  0  0\\n    0.6589   -6.3332    3.0860 H   0  0  0  0  0  0  0  0  0  0  0  0\\n    0.4137   -4.7251    3.8531 H   0  0  0  0  0  0  0  0  0  0  0  0\\n   -1.3450   -5.8858    4.4749 H   0  0  0  0  0  0  0  0  0  0  0  0\\n   -1.8855   -3.2714    2.8217 H   0  0  0  0  0  0  0  0  0  0  0  0\\n   -2.5651   -4.0571    1.4078 H   0  0  0  0  0  0  0  0  0  0  0  0\\n   -0.9723   -2.2864    0.9034 H   0  0  0  0  0  0  0  0  0  0  0  0\\n   -0.4132   -3.8201    0.2404 H   0  0  0  0  0  0  0  0  0  0  0  0\\n   -1.1010   -7.7120    3.5823 H   0  0  0  0  0  0  0  0  0  0  0  0\\n   -1.7667   -9.8153    2.5465 H   0  0  0  0  0  0  0  0  0  0  0  0\\n   -2.9014   -7.7419   -1.0028 H   0  0  0  0  0  0  0  0  0  0  0  0\\n   -2.2376   -5.6053    0.0439 H   0  0  0  0  0  0  0  0  0  0  0  0\\n  1  2  1  0\\n  2  3  1  0\\n  3  4  2  0\\n  4  5  1  0\\n  5  6  2  0\\n  6  7  1  0\\n  7  8  1  0\\n  7  9  1  0\\n  9 10  1  0\\n 10 11  1  0\\n 11 12  1  0\\n 12 13  2  0\\n  9 14  1  0\\n 14 15  1  0\\n 15 16  1  0\\n 16 17  1  0\\n 17 18  1  0\\n 17 19  1  0\\n 19 20  1  0\\n 17 21  1  0\\n 21 22  2  0\\n 22 23  1  0\\n 23 24  2  0\\n 24 25  1  0\\n 24 26  1  0\\n 26 27  2  0\\n 13  3  1  0\\n 12  6  1  0\\n 20 14  1  0\\n 27 21  1  0\\n  1 28  1  0\\n  1 29  1  0\\n  1 30  1  0\\n  4 31  1  0\\n  5 32  1  0\\n  7 33  1  6\\n  8 34  1  0\\n  9 35  1  1\\n 10 36  1  0\\n 10 37  1  0\\n 13 38  1  0\\n 15 39  1  0\\n 15 40  1  0\\n 16 41  1  0\\n 16 42  1  0\\n 18 43  1  0\\n 19 44  1  0\\n 19 45  1  0\\n 20 46  1  0\\n 20 47  1  0\\n 22 48  1  0\\n 23 49  1  0\\n 26 50  1  0\\n 27 51  1  0\\nM  END\\n\",\"sdf\");\n",
       "\tviewer.addModel(\"\\n     RDKit          3D\\n\\n 51 54  0  0  0  0  0  0  0  0999 V2000\\n    6.4017    1.8831   -2.0985 C   0  0  0  0  0  0  0  0  0  0  0  0\\n    5.3679    2.0647   -1.1301 O   0  0  0  0  0  0  0  0  0  0  0  0\\n    4.7115    0.9225   -0.6927 C   0  0  0  0  0  0  0  0  0  0  0  0\\n    5.0465   -0.3341   -1.1337 C   0  0  0  0  0  0  0  0  0  0  0  0\\n    4.3129   -1.4732   -0.7954 C   0  0  0  0  0  0  0  0  0  0  0  0\\n    3.2392   -1.2439    0.0257 C   0  0  0  0  0  0  0  0  0  0  0  0\\n    2.1961   -2.2992    0.1386 C   0  0  2  0  0  0  0  0  0  0  0  0\\n    1.1197   -1.8434   -0.6319 O   0  0  0  0  0  0  0  0  0  0  0  0\\n    1.7422   -2.3327    1.5719 C   0  0  1  0  0  0  0  0  0  0  0  0\\n    1.0547   -1.0368    1.8963 C   0  0  0  0  0  0  0  0  0  0  0  0\\n    1.7576    0.0558    1.3741 O   0  0  0  0  0  0  0  0  0  0  0  0\\n    2.8640   -0.0204    0.5395 C   0  0  0  0  0  0  0  0  0  0  0  0\\n    3.6286    1.0784    0.1716 C   0  0  0  0  0  0  0  0  0  0  0  0\\n    0.9392   -3.4846    1.7755 N   0  0  0  0  0  0  0  0  0  0  0  0\\n    1.5658   -4.7393    1.6875 C   0  0  0  0  0  0  0  0  0  0  0  0\\n    0.5526   -5.7783    1.2327 C   0  0  0  0  0  0  0  0  0  0  0  0\\n   -0.5959   -5.7345    2.2019 C   0  0  0  0  0  0  0  0  0  0  0  0\\n    0.0050   -5.9651    3.4893 O   0  0  0  0  0  0  0  0  0  0  0  0\\n   -1.2036   -4.3753    2.3074 C   0  0  0  0  0  0  0  0  0  0  0  0\\n   -0.0722   -3.4256    2.7611 C   0  0  0  0  0  0  0  0  0  0  0  0\\n   -1.5431   -6.8454    2.0076 C   0  0  0  0  0  0  0  0  0  0  0  0\\n   -1.0930   -7.9717    1.3267 C   0  0  0  0  0  0  0  0  0  0  0  0\\n   -1.7016   -9.2052    1.5660 C   0  0  0  0  0  0  0  0  0  0  0  0\\n   -2.7582   -9.3304    2.4521 C   0  0  0  0  0  0  0  0  0  0  0  0\\n   -3.2193  -10.5700    2.7741 F   0  0  0  0  0  0  0  0  0  0  0  0\\n   -3.2088   -8.1891    3.0750 C   0  0  0  0  0  0  0  0  0  0  0  0\\n   -2.6131   -6.9591    2.8606 C   0  0  0  0  0  0  0  0  0  0  0  0\\n    6.5067    2.7657   -2.7535 H   0  0  0  0  0  0  0  0  0  0  0  0\\n    7.2954    1.5545   -1.5716 H   0  0  0  0  0  0  0  0  0  0  0  0\\n    6.0842    1.0534   -2.7976 H   0  0  0  0  0  0  0  0  0  0  0  0\\n    6.0431   -0.4514   -1.5437 H   0  0  0  0  0  0  0  0  0  0  0  0\\n    4.6347   -2.4468   -1.1389 H   0  0  0  0  0  0  0  0  0  0  0  0\\n    2.5106   -3.2572   -0.2520 H   0  0  0  0  0  0  0  0  0  0  0  0\\n    1.3792   -1.1855   -1.3296 H   0  0  0  0  0  0  0  0  0  0  0  0\\n    2.6914   -2.3811    2.2017 H   0  0  0  0  0  0  0  0  0  0  0  0\\n    1.0029   -0.8634    3.0056 H   0  0  0  0  0  0  0  0  0  0  0  0\\n    0.0406   -1.0744    1.4102 H   0  0  0  0  0  0  0  0  0  0  0  0\\n    3.3876    2.0409    0.5961 H   0  0  0  0  0  0  0  0  0  0  0  0\\n    2.4489   -4.7647    0.9895 H   0  0  0  0  0  0  0  0  0  0  0  0\\n    2.0009   -5.0670    2.6806 H   0  0  0  0  0  0  0  0  0  0  0  0\\n    0.2557   -5.4735    0.2079 H   0  0  0  0  0  0  0  0  0  0  0  0\\n    1.0791   -6.7576    1.2770 H   0  0  0  0  0  0  0  0  0  0  0  0\\n    0.3597   -6.8973    3.4809 H   0  0  0  0  0  0  0  0  0  0  0  0\\n   -1.4754   -4.0193    1.2873 H   0  0  0  0  0  0  0  0  0  0  0  0\\n   -2.0234   -4.3510    3.0287 H   0  0  0  0  0  0  0  0  0  0  0  0\\n   -0.5035   -2.4141    2.9164 H   0  0  0  0  0  0  0  0  0  0  0  0\\n    0.2567   -3.7984    3.7496 H   0  0  0  0  0  0  0  0  0  0  0  0\\n   -0.3669   -7.8659    0.5407 H   0  0  0  0  0  0  0  0  0  0  0  0\\n   -1.3361  -10.0906    1.0741 H   0  0  0  0  0  0  0  0  0  0  0  0\\n   -4.0565   -8.2533    3.7496 H   0  0  0  0  0  0  0  0  0  0  0  0\\n   -3.0250   -6.0524    3.2960 H   0  0  0  0  0  0  0  0  0  0  0  0\\n  1  2  1  0\\n  2  3  1  0\\n  3  4  2  0\\n  4  5  1  0\\n  5  6  2  0\\n  6  7  1  0\\n  7  8  1  0\\n  7  9  1  0\\n  9 10  1  0\\n 10 11  1  0\\n 11 12  1  0\\n 12 13  2  0\\n  9 14  1  0\\n 14 15  1  0\\n 15 16  1  0\\n 16 17  1  0\\n 17 18  1  0\\n 17 19  1  0\\n 19 20  1  0\\n 17 21  1  0\\n 21 22  2  0\\n 22 23  1  0\\n 23 24  2  0\\n 24 25  1  0\\n 24 26  1  0\\n 26 27  2  0\\n 13  3  1  0\\n 12  6  1  0\\n 20 14  1  0\\n 27 21  1  0\\n  1 28  1  0\\n  1 29  1  0\\n  1 30  1  0\\n  4 31  1  0\\n  5 32  1  0\\n  7 33  1  6\\n  8 34  1  0\\n  9 35  1  1\\n 10 36  1  0\\n 10 37  1  0\\n 13 38  1  0\\n 15 39  1  0\\n 15 40  1  0\\n 16 41  1  0\\n 16 42  1  0\\n 18 43  1  0\\n 19 44  1  0\\n 19 45  1  0\\n 20 46  1  0\\n 20 47  1  0\\n 22 48  1  0\\n 23 49  1  0\\n 26 50  1  0\\n 27 51  1  0\\nM  END\\n\",\"sdf\");\n",
       "\tviewer.addModel(\"\\n     RDKit          3D\\n\\n 51 54  0  0  0  0  0  0  0  0999 V2000\\n    6.7055    1.9482   -1.8361 C   0  0  0  0  0  0  0  0  0  0  0  0\\n    5.7269    1.9738   -0.8394 O   0  0  0  0  0  0  0  0  0  0  0  0\\n    4.8335    0.9420   -0.5961 C   0  0  0  0  0  0  0  0  0  0  0  0\\n    4.8487   -0.2184   -1.3529 C   0  0  0  0  0  0  0  0  0  0  0  0\\n    3.9380   -1.2315   -1.0427 C   0  0  0  0  0  0  0  0  0  0  0  0\\n    3.0272   -1.1362   -0.0301 C   0  0  0  0  0  0  0  0  0  0  0  0\\n    2.1920   -2.3194    0.3030 C   0  0  2  0  0  0  0  0  0  0  0  0\\n    1.6523   -2.9045   -0.8291 O   0  0  0  0  0  0  0  0  0  0  0  0\\n    1.1701   -2.1292    1.3446 C   0  0  1  0  0  0  0  0  0  0  0  0\\n    0.9616   -0.6731    1.7840 C   0  0  0  0  0  0  0  0  0  0  0  0\\n    2.1185    0.0860    1.7428 O   0  0  0  0  0  0  0  0  0  0  0  0\\n    3.0207    0.0156    0.7131 C   0  0  0  0  0  0  0  0  0  0  0  0\\n    3.9105    1.0418    0.4274 C   0  0  0  0  0  0  0  0  0  0  0  0\\n   -0.0737   -2.6680    1.0002 N   0  0  0  0  0  0  0  0  0  0  0  0\\n   -0.8848   -2.1951   -0.0093 C   0  0  0  0  0  0  0  0  0  0  0  0\\n   -1.8016   -3.2813   -0.5794 C   0  0  0  0  0  0  0  0  0  0  0  0\\n   -2.5598   -3.9547    0.5071 C   0  0  0  0  0  0  0  0  0  0  0  0\\n   -3.6331   -3.0642    0.8219 O   0  0  0  0  0  0  0  0  0  0  0  0\\n   -1.7755   -4.1161    1.7833 C   0  0  0  0  0  0  0  0  0  0  0  0\\n   -0.2958   -3.9734    1.4973 C   0  0  0  0  0  0  0  0  0  0  0  0\\n   -3.2471   -5.2064    0.1098 C   0  0  0  0  0  0  0  0  0  0  0  0\\n   -4.2995   -5.6183    0.9404 C   0  0  0  0  0  0  0  0  0  0  0  0\\n   -4.9427   -6.8098    0.7034 C   0  0  0  0  0  0  0  0  0  0  0  0\\n   -4.5589   -7.6112   -0.3558 C   0  0  0  0  0  0  0  0  0  0  0  0\\n   -5.2010   -8.7858   -0.5742 F   0  0  0  0  0  0  0  0  0  0  0  0\\n   -3.5258   -7.1902   -1.1557 C   0  0  0  0  0  0  0  0  0  0  0  0\\n   -2.8713   -5.9975   -0.9275 C   0  0  0  0  0  0  0  0  0  0  0  0\\n    7.6072    1.4004   -1.4791 H   0  0  0  0  0  0  0  0  0  0  0  0\\n    6.9552    2.9999   -2.0695 H   0  0  0  0  0  0  0  0  0  0  0  0\\n    6.3406    1.4804   -2.7513 H   0  0  0  0  0  0  0  0  0  0  0  0\\n    5.5764   -0.2998   -2.1511 H   0  0  0  0  0  0  0  0  0  0  0  0\\n    3.9744   -2.1539   -1.6232 H   0  0  0  0  0  0  0  0  0  0  0  0\\n    2.9129   -3.1229    0.7085 H   0  0  0  0  0  0  0  0  0  0  0  0\\n    1.9559   -2.5338   -1.6723 H   0  0  0  0  0  0  0  0  0  0  0  0\\n    1.5670   -2.6136    2.3003 H   0  0  0  0  0  0  0  0  0  0  0  0\\n    0.6071   -0.6945    2.8429 H   0  0  0  0  0  0  0  0  0  0  0  0\\n    0.1967   -0.1953    1.1179 H   0  0  0  0  0  0  0  0  0  0  0  0\\n    3.8600    1.9491    1.0037 H   0  0  0  0  0  0  0  0  0  0  0  0\\n   -0.3387   -1.7552   -0.8579 H   0  0  0  0  0  0  0  0  0  0  0  0\\n   -1.6206   -1.3955    0.3169 H   0  0  0  0  0  0  0  0  0  0  0  0\\n   -2.5203   -2.7151   -1.2606 H   0  0  0  0  0  0  0  0  0  0  0  0\\n   -1.1947   -3.8934   -1.2346 H   0  0  0  0  0  0  0  0  0  0  0  0\\n   -3.8036   -3.0781    1.7825 H   0  0  0  0  0  0  0  0  0  0  0  0\\n   -2.0177   -5.0565    2.3166 H   0  0  0  0  0  0  0  0  0  0  0  0\\n   -2.0265   -3.2578    2.4687 H   0  0  0  0  0  0  0  0  0  0  0  0\\n    0.2384   -4.1372    2.4787 H   0  0  0  0  0  0  0  0  0  0  0  0\\n    0.0149   -4.7944    0.8589 H   0  0  0  0  0  0  0  0  0  0  0  0\\n   -4.6057   -4.9905    1.7540 H   0  0  0  0  0  0  0  0  0  0  0  0\\n   -5.7576   -7.1073    1.3431 H   0  0  0  0  0  0  0  0  0  0  0  0\\n   -3.1938   -7.8036   -1.9928 H   0  0  0  0  0  0  0  0  0  0  0  0\\n   -2.0620   -5.6618   -1.5703 H   0  0  0  0  0  0  0  0  0  0  0  0\\n  1  2  1  0\\n  2  3  1  0\\n  3  4  2  0\\n  4  5  1  0\\n  5  6  2  0\\n  6  7  1  0\\n  7  8  1  0\\n  7  9  1  0\\n  9 10  1  0\\n 10 11  1  0\\n 11 12  1  0\\n 12 13  2  0\\n  9 14  1  0\\n 14 15  1  0\\n 15 16  1  0\\n 16 17  1  0\\n 17 18  1  0\\n 17 19  1  0\\n 19 20  1  0\\n 17 21  1  0\\n 21 22  2  0\\n 22 23  1  0\\n 23 24  2  0\\n 24 25  1  0\\n 24 26  1  0\\n 26 27  2  0\\n 13  3  1  0\\n 12  6  1  0\\n 20 14  1  0\\n 27 21  1  0\\n  1 28  1  0\\n  1 29  1  0\\n  1 30  1  0\\n  4 31  1  0\\n  5 32  1  0\\n  7 33  1  1\\n  8 34  1  0\\n  9 35  1  1\\n 10 36  1  0\\n 10 37  1  0\\n 13 38  1  0\\n 15 39  1  0\\n 15 40  1  0\\n 16 41  1  0\\n 16 42  1  0\\n 18 43  1  0\\n 19 44  1  0\\n 19 45  1  0\\n 20 46  1  0\\n 20 47  1  0\\n 22 48  1  0\\n 23 49  1  0\\n 26 50  1  0\\n 27 51  1  0\\nM  END\\n\",\"sdf\");\n",
       "\tviewer.addModel(\"\\n     RDKit          3D\\n\\n 51 54  0  0  0  0  0  0  0  0999 V2000\\n    6.8341    1.9817   -1.6448 C   0  0  0  0  0  0  0  0  0  0  0  0\\n    5.7326    1.9916   -0.7699 O   0  0  0  0  0  0  0  0  0  0  0  0\\n    4.8674    0.9392   -0.5691 C   0  0  0  0  0  0  0  0  0  0  0  0\\n    4.9587   -0.2853   -1.2001 C   0  0  0  0  0  0  0  0  0  0  0  0\\n    4.0556   -1.3008   -0.9403 C   0  0  0  0  0  0  0  0  0  0  0  0\\n    3.0188   -1.1483   -0.0414 C   0  0  0  0  0  0  0  0  0  0  0  0\\n    2.1527   -2.3113    0.2301 C   0  0  2  0  0  0  0  0  0  0  0  0\\n    1.4764   -2.7391   -0.9284 O   0  0  0  0  0  0  0  0  0  0  0  0\\n    1.2078   -2.1533    1.3681 C   0  0  1  0  0  0  0  0  0  0  0  0\\n    1.3423   -0.8900    2.1561 C   0  0  0  0  0  0  0  0  0  0  0  0\\n    1.8620    0.2044    1.4706 O   0  0  0  0  0  0  0  0  0  0  0  0\\n    2.9150    0.0726    0.5876 C   0  0  0  0  0  0  0  0  0  0  0  0\\n    3.8164    1.0850    0.3308 C   0  0  0  0  0  0  0  0  0  0  0  0\\n   -0.1651   -2.4724    1.0411 N   0  0  0  0  0  0  0  0  0  0  0  0\\n   -0.8913   -2.5649    2.3191 C   0  0  0  0  0  0  0  0  0  0  0  0\\n   -2.0815   -3.4815    1.9982 C   0  0  0  0  0  0  0  0  0  0  0  0\\n   -2.9475   -2.6831    1.0480 C   0  0  0  0  0  0  0  0  0  0  0  0\\n   -3.5380   -1.6363    1.7739 O   0  0  0  0  0  0  0  0  0  0  0  0\\n   -2.1984   -2.1558   -0.1394 C   0  0  0  0  0  0  0  0  0  0  0  0\\n   -0.8680   -1.5342    0.2497 C   0  0  0  0  0  0  0  0  0  0  0  0\\n   -4.0501   -3.5705    0.6037 C   0  0  0  0  0  0  0  0  0  0  0  0\\n   -4.9799   -3.1043   -0.2920 C   0  0  0  0  0  0  0  0  0  0  0  0\\n   -6.0544   -3.8747   -0.7160 C   0  0  0  0  0  0  0  0  0  0  0  0\\n   -6.1811   -5.1461   -0.2142 C   0  0  0  0  0  0  0  0  0  0  0  0\\n   -7.2451   -5.8843   -0.6245 F   0  0  0  0  0  0  0  0  0  0  0  0\\n   -5.2558   -5.6214    0.6819 C   0  0  0  0  0  0  0  0  0  0  0  0\\n   -4.1996   -4.8608    1.0971 C   0  0  0  0  0  0  0  0  0  0  0  0\\n    6.4410    2.2055   -2.6581 H   0  0  0  0  0  0  0  0  0  0  0  0\\n    7.2924    0.9749   -1.6971 H   0  0  0  0  0  0  0  0  0  0  0  0\\n    7.6242    2.6942   -1.3406 H   0  0  0  0  0  0  0  0  0  0  0  0\\n    5.7712   -0.3893   -1.9134 H   0  0  0  0  0  0  0  0  0  0  0  0\\n    4.1927   -2.2280   -1.4738 H   0  0  0  0  0  0  0  0  0  0  0  0\\n    2.8776   -3.1667    0.4266 H   0  0  0  0  0  0  0  0  0  0  0  0\\n    1.9919   -3.3842   -1.4469 H   0  0  0  0  0  0  0  0  0  0  0  0\\n    1.4678   -2.9851    2.1095 H   0  0  0  0  0  0  0  0  0  0  0  0\\n    2.0046   -1.0573    3.0517 H   0  0  0  0  0  0  0  0  0  0  0  0\\n    0.3762   -0.5730    2.5923 H   0  0  0  0  0  0  0  0  0  0  0  0\\n    3.7149    2.0279    0.8485 H   0  0  0  0  0  0  0  0  0  0  0  0\\n   -1.3696   -1.5816    2.5146 H   0  0  0  0  0  0  0  0  0  0  0  0\\n   -0.2742   -2.9436    3.1322 H   0  0  0  0  0  0  0  0  0  0  0  0\\n   -2.6362   -3.5985    2.9360 H   0  0  0  0  0  0  0  0  0  0  0  0\\n   -1.6837   -4.4025    1.5774 H   0  0  0  0  0  0  0  0  0  0  0  0\\n   -4.3185   -1.2539    1.3103 H   0  0  0  0  0  0  0  0  0  0  0  0\\n   -2.0388   -2.9430   -0.8949 H   0  0  0  0  0  0  0  0  0  0  0  0\\n   -2.8165   -1.3651   -0.6121 H   0  0  0  0  0  0  0  0  0  0  0  0\\n   -1.0366   -0.6011    0.8320 H   0  0  0  0  0  0  0  0  0  0  0  0\\n   -0.3810   -1.2051   -0.6836 H   0  0  0  0  0  0  0  0  0  0  0  0\\n   -4.9209   -2.1019   -0.7119 H   0  0  0  0  0  0  0  0  0  0  0  0\\n   -6.7665   -3.4770   -1.4155 H   0  0  0  0  0  0  0  0  0  0  0  0\\n   -5.3817   -6.6425    1.0670 H   0  0  0  0  0  0  0  0  0  0  0  0\\n   -3.5007   -5.2652    1.8113 H   0  0  0  0  0  0  0  0  0  0  0  0\\n  1  2  1  0\\n  2  3  1  0\\n  3  4  2  0\\n  4  5  1  0\\n  5  6  2  0\\n  6  7  1  0\\n  7  8  1  0\\n  7  9  1  0\\n  9 10  1  0\\n 10 11  1  0\\n 11 12  1  0\\n 12 13  2  0\\n  9 14  1  0\\n 14 15  1  0\\n 15 16  1  0\\n 16 17  1  0\\n 17 18  1  0\\n 17 19  1  0\\n 19 20  1  0\\n 17 21  1  0\\n 21 22  2  0\\n 22 23  1  0\\n 23 24  2  0\\n 24 25  1  0\\n 24 26  1  0\\n 26 27  2  0\\n 13  3  1  0\\n 12  6  1  0\\n 20 14  1  0\\n 27 21  1  0\\n  1 28  1  0\\n  1 29  1  0\\n  1 30  1  0\\n  4 31  1  0\\n  5 32  1  0\\n  7 33  1  1\\n  8 34  1  0\\n  9 35  1  1\\n 10 36  1  0\\n 10 37  1  0\\n 13 38  1  0\\n 15 39  1  0\\n 15 40  1  0\\n 16 41  1  0\\n 16 42  1  0\\n 18 43  1  0\\n 19 44  1  0\\n 19 45  1  0\\n 20 46  1  0\\n 20 47  1  0\\n 22 48  1  0\\n 23 49  1  0\\n 26 50  1  0\\n 27 51  1  0\\nM  END\\n\",\"sdf\");\n",
       "\tviewer.addModel(\"\\n     RDKit          3D\\n\\n 51 54  0  0  0  0  0  0  0  0999 V2000\\n    5.3203    3.3544   -0.5276 C   0  0  0  0  0  0  0  0  0  0  0  0\\n    5.5135    2.0442   -0.8952 O   0  0  0  0  0  0  0  0  0  0  0  0\\n    4.7505    0.9506   -0.5862 C   0  0  0  0  0  0  0  0  0  0  0  0\\n    5.1034   -0.3271   -1.0550 C   0  0  0  0  0  0  0  0  0  0  0  0\\n    4.3209   -1.4252   -0.7884 C   0  0  0  0  0  0  0  0  0  0  0  0\\n    3.1936   -1.2684   -0.0606 C   0  0  0  0  0  0  0  0  0  0  0  0\\n    2.1254   -2.3106    0.1214 C   0  0  2  0  0  0  0  0  0  0  0  0\\n    1.0049   -1.8339   -0.5612 O   0  0  0  0  0  0  0  0  0  0  0  0\\n    1.8263   -2.3731    1.6182 C   0  0  1  0  0  0  0  0  0  0  0  0\\n    1.1892   -1.0501    1.9649 C   0  0  0  0  0  0  0  0  0  0  0  0\\n    1.6979    0.0290    1.2025 O   0  0  0  0  0  0  0  0  0  0  0  0\\n    2.8451   -0.0117    0.4370 C   0  0  0  0  0  0  0  0  0  0  0  0\\n    3.6159    1.0935    0.1714 C   0  0  0  0  0  0  0  0  0  0  0  0\\n    0.8372   -3.4469    1.8097 N   0  0  0  0  0  0  0  0  0  0  0  0\\n    1.3867   -4.6977    1.3679 C   0  0  0  0  0  0  0  0  0  0  0  0\\n    1.0213   -5.9154    2.1039 C   0  0  0  0  0  0  0  0  0  0  0  0\\n   -0.1202   -5.8557    3.0668 C   0  0  0  0  0  0  0  0  0  0  0  0\\n    0.2376   -6.4345    4.2786 O   0  0  0  0  0  0  0  0  0  0  0  0\\n   -0.6259   -4.4840    3.3419 C   0  0  0  0  0  0  0  0  0  0  0  0\\n    0.5754   -3.5271    3.2437 C   0  0  0  0  0  0  0  0  0  0  0  0\\n   -1.2887   -6.6761    2.5639 C   0  0  0  0  0  0  0  0  0  0  0  0\\n   -2.5357   -6.1230    2.4091 C   0  0  0  0  0  0  0  0  0  0  0  0\\n   -3.4830   -6.7282    1.6076 C   0  0  0  0  0  0  0  0  0  0  0  0\\n   -3.2306   -7.9117    0.9440 C   0  0  0  0  0  0  0  0  0  0  0  0\\n   -4.1627   -8.4848    0.1244 F   0  0  0  0  0  0  0  0  0  0  0  0\\n   -1.9772   -8.4602    1.1299 C   0  0  0  0  0  0  0  0  0  0  0  0\\n   -1.0114   -7.8766    1.9201 C   0  0  0  0  0  0  0  0  0  0  0  0\\n    4.9600    3.9063   -1.4335 H   0  0  0  0  0  0  0  0  0  0  0  0\\n    4.6260    3.5688    0.2668 H   0  0  0  0  0  0  0  0  0  0  0  0\\n    6.3121    3.8067   -0.3005 H   0  0  0  0  0  0  0  0  0  0  0  0\\n    6.0436   -0.3929   -1.6023 H   0  0  0  0  0  0  0  0  0  0  0  0\\n    4.6141   -2.4287   -1.1136 H   0  0  0  0  0  0  0  0  0  0  0  0\\n    2.4871   -3.2852   -0.2541 H   0  0  0  0  0  0  0  0  0  0  0  0\\n    0.8939   -2.2543   -1.4497 H   0  0  0  0  0  0  0  0  0  0  0  0\\n    2.7470   -2.5647    2.1672 H   0  0  0  0  0  0  0  0  0  0  0  0\\n    0.0867   -1.1208    1.7105 H   0  0  0  0  0  0  0  0  0  0  0  0\\n    1.3171   -0.7823    3.0313 H   0  0  0  0  0  0  0  0  0  0  0  0\\n    3.3357    2.0647    0.5384 H   0  0  0  0  0  0  0  0  0  0  0  0\\n    1.1116   -4.7673    0.2698 H   0  0  0  0  0  0  0  0  0  0  0  0\\n    2.4903   -4.5721    1.3482 H   0  0  0  0  0  0  0  0  0  0  0  0\\n    0.7600   -6.6965    1.3309 H   0  0  0  0  0  0  0  0  0  0  0  0\\n    1.9166   -6.3600    2.6259 H   0  0  0  0  0  0  0  0  0  0  0  0\\n    1.2000   -6.6644    4.3215 H   0  0  0  0  0  0  0  0  0  0  0  0\\n   -1.3101   -4.1096    2.5347 H   0  0  0  0  0  0  0  0  0  0  0  0\\n   -1.0805   -4.3703    4.3243 H   0  0  0  0  0  0  0  0  0  0  0  0\\n    1.4318   -4.0901    3.6671 H   0  0  0  0  0  0  0  0  0  0  0  0\\n    0.3735   -2.5593    3.7040 H   0  0  0  0  0  0  0  0  0  0  0  0\\n   -2.8103   -5.2650    3.0409 H   0  0  0  0  0  0  0  0  0  0  0  0\\n   -4.4458   -6.2341    1.4881 H   0  0  0  0  0  0  0  0  0  0  0  0\\n   -1.7541   -9.4170    0.6394 H   0  0  0  0  0  0  0  0  0  0  0  0\\n   -0.0561   -8.3713    2.0917 H   0  0  0  0  0  0  0  0  0  0  0  0\\n  1  2  1  0\\n  2  3  1  0\\n  3  4  2  0\\n  4  5  1  0\\n  5  6  2  0\\n  6  7  1  0\\n  7  8  1  0\\n  7  9  1  0\\n  9 10  1  0\\n 10 11  1  0\\n 11 12  1  0\\n 12 13  2  0\\n  9 14  1  0\\n 14 15  1  0\\n 15 16  1  0\\n 16 17  1  0\\n 17 18  1  0\\n 17 19  1  0\\n 19 20  1  0\\n 17 21  1  0\\n 21 22  2  0\\n 22 23  1  0\\n 23 24  2  0\\n 24 25  1  0\\n 24 26  1  0\\n 26 27  2  0\\n 13  3  1  0\\n 12  6  1  0\\n 20 14  1  0\\n 27 21  1  0\\n  1 28  1  0\\n  1 29  1  0\\n  1 30  1  0\\n  4 31  1  0\\n  5 32  1  0\\n  7 33  1  6\\n  8 34  1  0\\n  9 35  1  1\\n 10 36  1  0\\n 10 37  1  0\\n 13 38  1  0\\n 15 39  1  0\\n 15 40  1  0\\n 16 41  1  0\\n 16 42  1  0\\n 18 43  1  0\\n 19 44  1  0\\n 19 45  1  0\\n 20 46  1  0\\n 20 47  1  0\\n 22 48  1  0\\n 23 49  1  0\\n 26 50  1  0\\n 27 51  1  0\\nM  END\\n\",\"sdf\");\n",
       "\tviewer.addModel(\"\\n     RDKit          3D\\n\\n 51 54  0  0  0  0  0  0  0  0999 V2000\\n    6.2444    2.1450   -2.2651 C   0  0  0  0  0  0  0  0  0  0  0  0\\n    5.3410    2.1016   -1.2141 O   0  0  0  0  0  0  0  0  0  0  0  0\\n    4.6823    0.9759   -0.7426 C   0  0  0  0  0  0  0  0  0  0  0  0\\n    4.8673   -0.2760   -1.2835 C   0  0  0  0  0  0  0  0  0  0  0  0\\n    4.1584   -1.3819   -0.8738 C   0  0  0  0  0  0  0  0  0  0  0  0\\n    3.1956   -1.2789    0.1468 C   0  0  0  0  0  0  0  0  0  0  0  0\\n    2.2091   -2.3849    0.3063 C   0  0  2  0  0  0  0  0  0  0  0  0\\n    1.4536   -2.3172   -0.8895 O   0  0  0  0  0  0  0  0  0  0  0  0\\n    1.3546   -2.2035    1.4772 C   0  0  1  0  0  0  0  0  0  0  0  0\\n    0.9135   -0.7747    1.6424 C   0  0  0  0  0  0  0  0  0  0  0  0\\n    2.0618    0.0884    1.7082 O   0  0  0  0  0  0  0  0  0  0  0  0\\n    3.0316   -0.0474    0.6905 C   0  0  0  0  0  0  0  0  0  0  0  0\\n    3.7450    1.0733    0.2819 C   0  0  0  0  0  0  0  0  0  0  0  0\\n    0.2576   -3.0743    1.6921 N   0  0  0  0  0  0  0  0  0  0  0  0\\n    0.6255   -4.4666    1.9627 C   0  0  0  0  0  0  0  0  0  0  0  0\\n   -0.4795   -5.0449    2.8697 C   0  0  0  0  0  0  0  0  0  0  0  0\\n   -1.7379   -4.2474    2.6207 C   0  0  0  0  0  0  0  0  0  0  0  0\\n   -1.6300   -3.0007    3.2232 O   0  0  0  0  0  0  0  0  0  0  0  0\\n   -1.8557   -4.0300    1.1187 C   0  0  0  0  0  0  0  0  0  0  0  0\\n   -0.7915   -3.0447    0.6892 C   0  0  0  0  0  0  0  0  0  0  0  0\\n   -2.9737   -4.9354    3.1089 C   0  0  0  0  0  0  0  0  0  0  0  0\\n   -3.8205   -4.2723    3.9683 C   0  0  0  0  0  0  0  0  0  0  0  0\\n   -5.1645   -4.6548    4.0598 C   0  0  0  0  0  0  0  0  0  0  0  0\\n   -5.6802   -5.6975    3.3177 C   0  0  0  0  0  0  0  0  0  0  0  0\\n   -7.0127   -6.0278    3.3613 F   0  0  0  0  0  0  0  0  0  0  0  0\\n   -4.8252   -6.3826    2.4759 C   0  0  0  0  0  0  0  0  0  0  0  0\\n   -3.4787   -6.0036    2.3746 C   0  0  0  0  0  0  0  0  0  0  0  0\\n    5.9848    3.0649   -2.8683 H   0  0  0  0  0  0  0  0  0  0  0  0\\n    7.2964    2.1269   -1.9767 H   0  0  0  0  0  0  0  0  0  0  0  0\\n    6.0362    1.3098   -2.9662 H   0  0  0  0  0  0  0  0  0  0  0  0\\n    5.6564   -0.4048   -2.0423 H   0  0  0  0  0  0  0  0  0  0  0  0\\n    4.2633   -2.3523   -1.3356 H   0  0  0  0  0  0  0  0  0  0  0  0\\n    2.7897   -3.3390    0.2854 H   0  0  0  0  0  0  0  0  0  0  0  0\\n    1.1578   -1.3695   -0.9806 H   0  0  0  0  0  0  0  0  0  0  0  0\\n    2.0054   -2.3910    2.4338 H   0  0  0  0  0  0  0  0  0  0  0  0\\n    0.2591   -0.4979    0.8221 H   0  0  0  0  0  0  0  0  0  0  0  0\\n    0.4062   -0.6398    2.6463 H   0  0  0  0  0  0  0  0  0  0  0  0\\n    3.5918    2.0386    0.7459 H   0  0  0  0  0  0  0  0  0  0  0  0\\n    0.6095   -5.0414    1.0374 H   0  0  0  0  0  0  0  0  0  0  0  0\\n    1.5796   -4.4741    2.4856 H   0  0  0  0  0  0  0  0  0  0  0  0\\n   -0.2085   -4.9042    3.9408 H   0  0  0  0  0  0  0  0  0  0  0  0\\n   -0.6890   -6.0891    2.5869 H   0  0  0  0  0  0  0  0  0  0  0  0\\n   -1.3509   -3.1136    4.1823 H   0  0  0  0  0  0  0  0  0  0  0  0\\n   -1.7128   -5.0356    0.6539 H   0  0  0  0  0  0  0  0  0  0  0  0\\n   -2.8877   -3.6419    0.8707 H   0  0  0  0  0  0  0  0  0  0  0  0\\n   -1.2748   -2.0551    0.6041 H   0  0  0  0  0  0  0  0  0  0  0  0\\n   -0.4551   -3.4530   -0.3069 H   0  0  0  0  0  0  0  0  0  0  0  0\\n   -3.4496   -3.4613    4.5910 H   0  0  0  0  0  0  0  0  0  0  0  0\\n   -5.8111   -4.0960    4.7397 H   0  0  0  0  0  0  0  0  0  0  0  0\\n   -5.2225   -7.1876    1.9196 H   0  0  0  0  0  0  0  0  0  0  0  0\\n   -2.7844   -6.5306    1.7438 H   0  0  0  0  0  0  0  0  0  0  0  0\\n  1  2  1  0\\n  2  3  1  0\\n  3  4  2  0\\n  4  5  1  0\\n  5  6  2  0\\n  6  7  1  0\\n  7  8  1  0\\n  7  9  1  0\\n  9 10  1  0\\n 10 11  1  0\\n 11 12  1  0\\n 12 13  2  0\\n  9 14  1  0\\n 14 15  1  0\\n 15 16  1  0\\n 16 17  1  0\\n 17 18  1  0\\n 17 19  1  0\\n 19 20  1  0\\n 17 21  1  0\\n 21 22  2  0\\n 22 23  1  0\\n 23 24  2  0\\n 24 25  1  0\\n 24 26  1  0\\n 26 27  2  0\\n 13  3  1  0\\n 12  6  1  0\\n 20 14  1  0\\n 27 21  1  0\\n  1 28  1  0\\n  1 29  1  0\\n  1 30  1  0\\n  4 31  1  0\\n  5 32  1  0\\n  7 33  1  1\\n  8 34  1  0\\n  9 35  1  1\\n 10 36  1  0\\n 10 37  1  0\\n 13 38  1  0\\n 15 39  1  0\\n 15 40  1  0\\n 16 41  1  0\\n 16 42  1  0\\n 18 43  1  0\\n 19 44  1  0\\n 19 45  1  0\\n 20 46  1  0\\n 20 47  1  0\\n 22 48  1  0\\n 23 49  1  0\\n 26 50  1  0\\n 27 51  1  0\\nM  END\\n\",\"sdf\");\n",
       "\tviewer.addModel(\"\\n     RDKit          3D\\n\\n 51 54  0  0  0  0  0  0  0  0999 V2000\\n    6.2442    1.8354   -2.3584 C   0  0  0  0  0  0  0  0  0  0  0  0\\n    5.2979    2.0249   -1.3138 O   0  0  0  0  0  0  0  0  0  0  0  0\\n    4.6588    0.9177   -0.7660 C   0  0  0  0  0  0  0  0  0  0  0  0\\n    4.9635   -0.3468   -1.2301 C   0  0  0  0  0  0  0  0  0  0  0  0\\n    4.2572   -1.4332   -0.7879 C   0  0  0  0  0  0  0  0  0  0  0  0\\n    3.2271   -1.2369    0.1342 C   0  0  0  0  0  0  0  0  0  0  0  0\\n    2.1940   -2.3047    0.2067 C   0  0  2  0  0  0  0  0  0  0  0  0\\n    1.3565   -2.0997   -0.8912 O   0  0  0  0  0  0  0  0  0  0  0  0\\n    1.4912   -2.2780    1.5238 C   0  0  1  0  0  0  0  0  0  0  0  0\\n    0.9764   -0.9001    1.8486 C   0  0  0  0  0  0  0  0  0  0  0  0\\n    1.9438    0.0936    1.5930 O   0  0  0  0  0  0  0  0  0  0  0  0\\n    2.9368   -0.0037    0.6455 C   0  0  0  0  0  0  0  0  0  0  0  0\\n    3.6678    1.0650    0.1874 C   0  0  0  0  0  0  0  0  0  0  0  0\\n    0.5450   -3.3204    1.6395 N   0  0  0  0  0  0  0  0  0  0  0  0\\n   -0.5199   -3.1681    2.5564 C   0  0  0  0  0  0  0  0  0  0  0  0\\n   -1.8865   -3.4268    1.9189 C   0  0  0  0  0  0  0  0  0  0  0  0\\n   -1.9618   -4.7422    1.2408 C   0  0  0  0  0  0  0  0  0  0  0  0\\n   -2.6511   -4.5655    0.0071 O   0  0  0  0  0  0  0  0  0  0  0  0\\n   -0.5938   -5.2502    0.8585 C   0  0  0  0  0  0  0  0  0  0  0  0\\n    0.1845   -3.9996    0.4284 C   0  0  0  0  0  0  0  0  0  0  0  0\\n   -2.6774   -5.8063    1.9635 C   0  0  0  0  0  0  0  0  0  0  0  0\\n   -2.8891   -6.9808    1.2354 C   0  0  0  0  0  0  0  0  0  0  0  0\\n   -3.7532   -7.9426    1.6786 C   0  0  0  0  0  0  0  0  0  0  0  0\\n   -4.4259   -7.7368    2.8640 C   0  0  0  0  0  0  0  0  0  0  0  0\\n   -5.3975   -8.6214    3.2124 F   0  0  0  0  0  0  0  0  0  0  0  0\\n   -4.1912   -6.5671    3.5968 C   0  0  0  0  0  0  0  0  0  0  0  0\\n   -3.3142   -5.5943    3.1593 C   0  0  0  0  0  0  0  0  0  0  0  0\\n    6.5921    2.8153   -2.7405 H   0  0  0  0  0  0  0  0  0  0  0  0\\n    5.7565    1.3137   -3.2317 H   0  0  0  0  0  0  0  0  0  0  0  0\\n    7.1034    1.2078   -2.0933 H   0  0  0  0  0  0  0  0  0  0  0  0\\n    5.7658   -0.5005   -1.9351 H   0  0  0  0  0  0  0  0  0  0  0  0\\n    4.5165   -2.4260   -1.1807 H   0  0  0  0  0  0  0  0  0  0  0  0\\n    2.7532   -3.2771    0.0934 H   0  0  0  0  0  0  0  0  0  0  0  0\\n    0.7287   -1.3652   -0.6179 H   0  0  0  0  0  0  0  0  0  0  0  0\\n    2.2955   -2.4894    2.2947 H   0  0  0  0  0  0  0  0  0  0  0  0\\n    0.0781   -0.6396    1.2430 H   0  0  0  0  0  0  0  0  0  0  0  0\\n    0.7807   -0.8603    2.9396 H   0  0  0  0  0  0  0  0  0  0  0  0\\n    3.5165    2.0026    0.6894 H   0  0  0  0  0  0  0  0  0  0  0  0\\n   -0.4309   -3.9413    3.3706 H   0  0  0  0  0  0  0  0  0  0  0  0\\n   -0.6176   -2.2146    3.0726 H   0  0  0  0  0  0  0  0  0  0  0  0\\n   -2.6661   -3.1822    2.6293 H   0  0  0  0  0  0  0  0  0  0  0  0\\n   -1.9556   -2.6319    1.1176 H   0  0  0  0  0  0  0  0  0  0  0  0\\n   -3.5525   -4.2289    0.2814 H   0  0  0  0  0  0  0  0  0  0  0  0\\n   -0.1077   -5.6567    1.7590 H   0  0  0  0  0  0  0  0  0  0  0  0\\n   -0.6284   -5.9868    0.0238 H   0  0  0  0  0  0  0  0  0  0  0  0\\n   -0.5469   -3.4457   -0.2063 H   0  0  0  0  0  0  0  0  0  0  0  0\\n    1.0561   -4.3771   -0.1070 H   0  0  0  0  0  0  0  0  0  0  0  0\\n   -2.3764   -7.1611    0.2817 H   0  0  0  0  0  0  0  0  0  0  0  0\\n   -3.9510   -8.8120    1.0593 H   0  0  0  0  0  0  0  0  0  0  0  0\\n   -4.7031   -6.4348    4.5330 H   0  0  0  0  0  0  0  0  0  0  0  0\\n   -2.9689   -4.7920    3.7799 H   0  0  0  0  0  0  0  0  0  0  0  0\\n  1  2  1  0\\n  2  3  1  0\\n  3  4  2  0\\n  4  5  1  0\\n  5  6  2  0\\n  6  7  1  0\\n  7  8  1  0\\n  7  9  1  0\\n  9 10  1  0\\n 10 11  1  0\\n 11 12  1  0\\n 12 13  2  0\\n  9 14  1  0\\n 14 15  1  0\\n 15 16  1  0\\n 16 17  1  0\\n 17 18  1  0\\n 17 19  1  0\\n 19 20  1  0\\n 17 21  1  0\\n 21 22  2  0\\n 22 23  1  0\\n 23 24  2  0\\n 24 25  1  0\\n 24 26  1  0\\n 26 27  2  0\\n 13  3  1  0\\n 12  6  1  0\\n 20 14  1  0\\n 27 21  1  0\\n  1 28  1  0\\n  1 29  1  0\\n  1 30  1  0\\n  4 31  1  0\\n  5 32  1  0\\n  7 33  1  6\\n  8 34  1  0\\n  9 35  1  1\\n 10 36  1  0\\n 10 37  1  0\\n 13 38  1  0\\n 15 39  1  0\\n 15 40  1  0\\n 16 41  1  0\\n 16 42  1  0\\n 18 43  1  0\\n 19 44  1  0\\n 19 45  1  0\\n 20 46  1  0\\n 20 47  1  0\\n 22 48  1  0\\n 23 49  1  0\\n 26 50  1  0\\n 27 51  1  0\\nM  END\\n\",\"sdf\");\n",
       "\tviewer.setStyle({\"stick\": {}});\n",
       "\tviewer.setBackgroundColor(\"0xeeeeee\");\n",
       "\tviewer.zoomTo();\n",
       "viewer.render();\n",
       "});\n",
       "</script>"
      ],
      "text/plain": [
       "<IPython.core.display.HTML object>"
      ]
     },
     "execution_count": 8,
     "metadata": {},
     "output_type": "execute_result"
    }
   ],
   "source": [
    "p = py3Dmol.view(width=400,height=400)\n",
    "for conf in m.GetConformers():\n",
    "    mb = Chem.MolToMolBlock(m,confId=conf.GetId())\n",
    "    p.addModel(mb,'sdf')\n",
    "p.setStyle({'stick':{}})\n",
    "p.setBackgroundColor('0xeeeeee')\n",
    "p.zoomTo()\n",
    "p.show()"
   ]
  },
  {
   "cell_type": "markdown",
   "metadata": {},
   "source": [
    "And lastly, let's look at results from the 3D alignment code:"
   ]
  },
  {
   "cell_type": "code",
   "execution_count": 9,
   "metadata": {
    "collapsed": false
   },
   "outputs": [
    {
     "data": {
      "text/plain": [
       "56"
      ]
     },
     "execution_count": 9,
     "metadata": {},
     "output_type": "execute_result"
    }
   ],
   "source": [
    "suppl = Chem.SDMolSupplier('ref_e2.sdf',removeHs=False)\n",
    "ms = [x for x in suppl]\n",
    "len(ms)"
   ]
  },
  {
   "cell_type": "code",
   "execution_count": 10,
   "metadata": {
    "collapsed": false
   },
   "outputs": [
    {
     "data": {
      "image/svg+xml": [
       "<svg baseProfile=\"full\" height=\"600px\" version=\"1.1\" width=\"800px\" xml:space=\"preserve\" xmlns:rdkit=\"http://www.rdkit.org/xml\" xmlns:svg=\"http://www.w3.org/2000/svg\" xmlns:xlink=\"http://www.w3.org/1999/xlink\">\n",
       "<g transform=\"translate(0,0)\"><rect height=\"200\" style=\"opacity:1.0;fill:#FFFFFF;stroke:none\" width=\"200\" x=\"0\" y=\"0\"> </rect>\n",
       "<path d=\"M 107.046,137.61 102.184,144.424\" style=\"fill:none;fill-rule:evenodd;stroke:#0000FF;stroke-width:2px;stroke-linecap:butt;stroke-linejoin:miter;stroke-opacity:1\"/>\n",
       "<path d=\"M 102.184,144.424 97.3219,151.239\" style=\"fill:none;fill-rule:evenodd;stroke:#000000;stroke-width:2px;stroke-linecap:butt;stroke-linejoin:miter;stroke-opacity:1\"/>\n",
       "<path d=\"M 115.647,136.743 121.228,142.156\" style=\"fill:none;fill-rule:evenodd;stroke:#0000FF;stroke-width:2px;stroke-linecap:butt;stroke-linejoin:miter;stroke-opacity:1\"/>\n",
       "<path d=\"M 121.228,142.156 126.81,147.57\" style=\"fill:none;fill-rule:evenodd;stroke:#000000;stroke-width:2px;stroke-linecap:butt;stroke-linejoin:miter;stroke-opacity:1\"/>\n",
       "<path d=\"M 108.418,126.724 103.456,115.967\" style=\"fill:none;fill-rule:evenodd;stroke:#0000FF;stroke-width:2px;stroke-linecap:butt;stroke-linejoin:miter;stroke-opacity:1\"/>\n",
       "<path d=\"M 103.456,115.967 98.4932,105.211\" style=\"fill:none;fill-rule:evenodd;stroke:#000000;stroke-width:2px;stroke-linecap:butt;stroke-linejoin:miter;stroke-opacity:1\"/>\n",
       "<path d=\"M 98.4932,105.211 114.343,83.3566\" style=\"fill:none;fill-rule:evenodd;stroke:#000000;stroke-width:2px;stroke-linecap:butt;stroke-linejoin:miter;stroke-opacity:1\"/>\n",
       "<path d=\"M 95.5833,98.0983 106.678,82.8001\" style=\"fill:none;fill-rule:evenodd;stroke:#000000;stroke-width:2px;stroke-linecap:butt;stroke-linejoin:miter;stroke-opacity:1\"/>\n",
       "<path d=\"M 98.4932,105.211 70.0484,97.3536\" style=\"fill:none;fill-rule:evenodd;stroke:#000000;stroke-width:2px;stroke-linecap:butt;stroke-linejoin:miter;stroke-opacity:1\"/>\n",
       "<path d=\"M 114.343,83.3566 102.175,56.1266\" style=\"fill:none;fill-rule:evenodd;stroke:#000000;stroke-width:2px;stroke-linecap:butt;stroke-linejoin:miter;stroke-opacity:1\"/>\n",
       "<path d=\"M 59.8658,76.6574 64.9571,87.0055\" style=\"fill:none;fill-rule:evenodd;stroke:#0000FF;stroke-width:2px;stroke-linecap:butt;stroke-linejoin:miter;stroke-opacity:1\"/>\n",
       "<path d=\"M 64.9571,87.0055 70.0484,97.3536\" style=\"fill:none;fill-rule:evenodd;stroke:#000000;stroke-width:2px;stroke-linecap:butt;stroke-linejoin:miter;stroke-opacity:1\"/>\n",
       "<path d=\"M 67.2538,76.8784 70.8177,84.1221\" style=\"fill:none;fill-rule:evenodd;stroke:#0000FF;stroke-width:2px;stroke-linecap:butt;stroke-linejoin:miter;stroke-opacity:1\"/>\n",
       "<path d=\"M 70.8177,84.1221 74.3816,91.3658\" style=\"fill:none;fill-rule:evenodd;stroke:#000000;stroke-width:2px;stroke-linecap:butt;stroke-linejoin:miter;stroke-opacity:1\"/>\n",
       "<path d=\"M 61.6821,65.7715 67.681,58.5063\" style=\"fill:none;fill-rule:evenodd;stroke:#0000FF;stroke-width:2px;stroke-linecap:butt;stroke-linejoin:miter;stroke-opacity:1\"/>\n",
       "<path d=\"M 67.681,58.5063 73.68,51.241\" style=\"fill:none;fill-rule:evenodd;stroke:#000000;stroke-width:2px;stroke-linecap:butt;stroke-linejoin:miter;stroke-opacity:1\"/>\n",
       "<path d=\"M 137.027,184.323 142.278,177.72\" style=\"fill:none;fill-rule:evenodd;stroke:#0000FF;stroke-width:2px;stroke-linecap:butt;stroke-linejoin:miter;stroke-opacity:1\"/>\n",
       "<path d=\"M 142.278,177.72 147.53,171.116\" style=\"fill:none;fill-rule:evenodd;stroke:#000000;stroke-width:2px;stroke-linecap:butt;stroke-linejoin:miter;stroke-opacity:1\"/>\n",
       "<path d=\"M 126.358,184.323 122.376,179.495\" style=\"fill:none;fill-rule:evenodd;stroke:#0000FF;stroke-width:2px;stroke-linecap:butt;stroke-linejoin:miter;stroke-opacity:1\"/>\n",
       "<path d=\"M 122.376,179.495 118.395,174.667\" style=\"fill:none;fill-rule:evenodd;stroke:#000000;stroke-width:2px;stroke-linecap:butt;stroke-linejoin:miter;stroke-opacity:1\"/>\n",
       "<path d=\"M 102.175,56.1266 73.68,51.241\" style=\"fill:none;fill-rule:evenodd;stroke:#000000;stroke-width:2px;stroke-linecap:butt;stroke-linejoin:miter;stroke-opacity:1\"/>\n",
       "<path d=\"M 96.7969,61.8314 76.8504,58.4115\" style=\"fill:none;fill-rule:evenodd;stroke:#000000;stroke-width:2px;stroke-linecap:butt;stroke-linejoin:miter;stroke-opacity:1\"/>\n",
       "<path d=\"M 102.175,56.1266 108.653,49.2645\" style=\"fill:none;fill-rule:evenodd;stroke:#000000;stroke-width:2px;stroke-linecap:butt;stroke-linejoin:miter;stroke-opacity:1\"/>\n",
       "<path d=\"M 108.653,49.2645 115.131,42.4023\" style=\"fill:none;fill-rule:evenodd;stroke:#FF0000;stroke-width:2px;stroke-linecap:butt;stroke-linejoin:miter;stroke-opacity:1\"/>\n",
       "<path d=\"M 97.3219,151.239 118.395,174.667\" style=\"fill:none;fill-rule:evenodd;stroke:#000000;stroke-width:2px;stroke-linecap:butt;stroke-linejoin:miter;stroke-opacity:1\"/>\n",
       "<path d=\"M 126.81,147.57 147.53,171.116\" style=\"fill:none;fill-rule:evenodd;stroke:#000000;stroke-width:2px;stroke-linecap:butt;stroke-linejoin:miter;stroke-opacity:1\"/>\n",
       "<path d=\"M 117.896,31.5746 113.105,20.3328\" style=\"fill:none;fill-rule:evenodd;stroke:#FF0000;stroke-width:2px;stroke-linecap:butt;stroke-linejoin:miter;stroke-opacity:1\"/>\n",
       "<path d=\"M 113.105,20.3328 108.314,9.09091\" style=\"fill:none;fill-rule:evenodd;stroke:#000000;stroke-width:2px;stroke-linecap:butt;stroke-linejoin:miter;stroke-opacity:1\"/>\n",
       "<text style=\"font-size:10px;font-style:normal;font-weight:normal;fill-opacity:1;stroke:none;font-family:sans-serif;text-anchor:start;fill:#0000FF\" x=\"106.212\" y=\"137.61\"><tspan>N</tspan></text>\n",
       "<text style=\"font-size:10px;font-style:normal;font-weight:normal;fill-opacity:1;stroke:none;font-family:sans-serif;text-anchor:start;fill:#0000FF\" x=\"52.4702\" y=\"76.6574\"><tspan>N</tspan></text>\n",
       "<text style=\"font-size:10px;font-style:normal;font-weight:normal;fill-opacity:1;stroke:none;font-family:sans-serif;text-anchor:start;fill:#0000FF\" x=\"118.629\" y=\"197.495\"><tspan>NH</tspan><tspan style=\"baseline-shift:sub;font-size:7.5px;\">2</tspan><tspan/><tspan style=\"baseline-shift:super;font-size:7.5px;\">+</tspan><tspan/></text>\n",
       "<text style=\"font-size:10px;font-style:normal;font-weight:normal;fill-opacity:1;stroke:none;font-family:sans-serif;text-anchor:start;fill:#FF0000\" x=\"115.131\" y=\"42.4605\"><tspan>O</tspan></text>\n",
       "</g>\n",
       "<g transform=\"translate(200,0)\"><rect height=\"200\" style=\"opacity:1.0;fill:#FFFFFF;stroke:none\" width=\"200\" x=\"0\" y=\"0\"> </rect>\n",
       "<path d=\"M 98.2101,56.6886 97.1346,45.9765\" style=\"fill:none;fill-rule:evenodd;stroke:#0000FF;stroke-width:2px;stroke-linecap:butt;stroke-linejoin:miter;stroke-opacity:1\"/>\n",
       "<path d=\"M 97.1346,45.9765 96.059,35.2644\" style=\"fill:none;fill-rule:evenodd;stroke:#000000;stroke-width:2px;stroke-linecap:butt;stroke-linejoin:miter;stroke-opacity:1\"/>\n",
       "<path d=\"M 103.309,62.0352 112.36,62.1826\" style=\"fill:none;fill-rule:evenodd;stroke:#0000FF;stroke-width:2px;stroke-linecap:butt;stroke-linejoin:miter;stroke-opacity:1\"/>\n",
       "<path d=\"M 112.36,62.1826 121.41,62.3299\" style=\"fill:none;fill-rule:evenodd;stroke:#000000;stroke-width:2px;stroke-linecap:butt;stroke-linejoin:miter;stroke-opacity:1\"/>\n",
       "<path d=\"M 97.1683,67.2331 94.1557,77.3421\" style=\"fill:none;fill-rule:evenodd;stroke:#0000FF;stroke-width:2px;stroke-linecap:butt;stroke-linejoin:miter;stroke-opacity:1\"/>\n",
       "<path d=\"M 94.1557,77.3421 91.1432,87.451\" style=\"fill:none;fill-rule:evenodd;stroke:#000000;stroke-width:2px;stroke-linecap:butt;stroke-linejoin:miter;stroke-opacity:1\"/>\n",
       "<path d=\"M 91.1432,87.451 85.6537,111.499\" style=\"fill:none;fill-rule:evenodd;stroke:#000000;stroke-width:2px;stroke-linecap:butt;stroke-linejoin:miter;stroke-opacity:1\"/>\n",
       "<path d=\"M 86.619,90.2134 82.7764,107.047\" style=\"fill:none;fill-rule:evenodd;stroke:#000000;stroke-width:2px;stroke-linecap:butt;stroke-linejoin:miter;stroke-opacity:1\"/>\n",
       "<path d=\"M 91.1432,87.451 87.6509,91.1395\" style=\"fill:none;fill-rule:evenodd;stroke:#000000;stroke-width:2px;stroke-linecap:butt;stroke-linejoin:miter;stroke-opacity:1\"/>\n",
       "<path d=\"M 85.6537,111.499 78.0786,137.023\" style=\"fill:none;fill-rule:evenodd;stroke:#000000;stroke-width:2px;stroke-linecap:butt;stroke-linejoin:miter;stroke-opacity:1\"/>\n",
       "<path d=\"M 81.5146,110.261 84.5827,100.7\" style=\"fill:none;fill-rule:evenodd;stroke:#0000FF;stroke-width:2px;stroke-linecap:butt;stroke-linejoin:miter;stroke-opacity:1\"/>\n",
       "<path d=\"M 84.5827,100.7 87.6509,91.1395\" style=\"fill:none;fill-rule:evenodd;stroke:#000000;stroke-width:2px;stroke-linecap:butt;stroke-linejoin:miter;stroke-opacity:1\"/>\n",
       "<path d=\"M 88.4591,109.326 90.6068,102.633\" style=\"fill:none;fill-rule:evenodd;stroke:#0000FF;stroke-width:2px;stroke-linecap:butt;stroke-linejoin:miter;stroke-opacity:1\"/>\n",
       "<path d=\"M 90.6068,102.633 92.7545,95.9409\" style=\"fill:none;fill-rule:evenodd;stroke:#000000;stroke-width:2px;stroke-linecap:butt;stroke-linejoin:miter;stroke-opacity:1\"/>\n",
       "<path d=\"M 78.7169,120.805 76.9215,129.365\" style=\"fill:none;fill-rule:evenodd;stroke:#0000FF;stroke-width:2px;stroke-linecap:butt;stroke-linejoin:miter;stroke-opacity:1\"/>\n",
       "<path d=\"M 76.9215,129.365 75.1262,137.925\" style=\"fill:none;fill-rule:evenodd;stroke:#000000;stroke-width:2px;stroke-linecap:butt;stroke-linejoin:miter;stroke-opacity:1\"/>\n",
       "<path d=\"M 120.61,16.1198 120.792,25.9926\" style=\"fill:none;fill-rule:evenodd;stroke:#0000FF;stroke-width:2px;stroke-linecap:butt;stroke-linejoin:miter;stroke-opacity:1\"/>\n",
       "<path d=\"M 120.792,25.9926 120.973,35.8654\" style=\"fill:none;fill-rule:evenodd;stroke:#000000;stroke-width:2px;stroke-linecap:butt;stroke-linejoin:miter;stroke-opacity:1\"/>\n",
       "<path d=\"M 107.746,9.40477 101.786,9.24784\" style=\"fill:none;fill-rule:evenodd;stroke:#0000FF;stroke-width:2px;stroke-linecap:butt;stroke-linejoin:miter;stroke-opacity:1\"/>\n",
       "<path d=\"M 101.786,9.24784 95.827,9.09091\" style=\"fill:none;fill-rule:evenodd;stroke:#000000;stroke-width:2px;stroke-linecap:butt;stroke-linejoin:miter;stroke-opacity:1\"/>\n",
       "<path d=\"M 89.3951,169.433 83.8276,190.422\" style=\"fill:none;fill-rule:evenodd;stroke:#000000;stroke-width:2px;stroke-linecap:butt;stroke-linejoin:miter;stroke-opacity:1\"/>\n",
       "<path d=\"M 93.0642,170.406 87.4967,191.396\" style=\"fill:none;fill-rule:evenodd;stroke:#000000;stroke-width:2px;stroke-linecap:butt;stroke-linejoin:miter;stroke-opacity:1\"/>\n",
       "<path d=\"M 91.2297,169.919 83.9191,166.501\" style=\"fill:none;fill-rule:evenodd;stroke:#000000;stroke-width:2px;stroke-linecap:butt;stroke-linejoin:miter;stroke-opacity:1\"/>\n",
       "<path d=\"M 83.9191,166.501 76.6086,163.084\" style=\"fill:none;fill-rule:evenodd;stroke:#FF0000;stroke-width:2px;stroke-linecap:butt;stroke-linejoin:miter;stroke-opacity:1\"/>\n",
       "<path d=\"M 78.0786,137.023 75.1262,137.925\" style=\"fill:none;fill-rule:evenodd;stroke:#000000;stroke-width:2px;stroke-linecap:butt;stroke-linejoin:miter;stroke-opacity:1\"/>\n",
       "<path d=\"M 76.5259,133.528 74.4592,134.16\" style=\"fill:none;fill-rule:evenodd;stroke:#000000;stroke-width:2px;stroke-linecap:butt;stroke-linejoin:miter;stroke-opacity:1\"/>\n",
       "<path d=\"M 78.0786,137.023 75.591,146.266\" style=\"fill:none;fill-rule:evenodd;stroke:#000000;stroke-width:2px;stroke-linecap:butt;stroke-linejoin:miter;stroke-opacity:1\"/>\n",
       "<path d=\"M 75.591,146.266 73.1033,155.509\" style=\"fill:none;fill-rule:evenodd;stroke:#FF0000;stroke-width:2px;stroke-linecap:butt;stroke-linejoin:miter;stroke-opacity:1\"/>\n",
       "<path d=\"M 96.059,35.2644 95.827,9.09091\" style=\"fill:none;fill-rule:evenodd;stroke:#000000;stroke-width:2px;stroke-linecap:butt;stroke-linejoin:miter;stroke-opacity:1\"/>\n",
       "<path d=\"M 121.41,62.3299 120.973,35.8654\" style=\"fill:none;fill-rule:evenodd;stroke:#000000;stroke-width:2px;stroke-linecap:butt;stroke-linejoin:miter;stroke-opacity:1\"/>\n",
       "<text style=\"font-size:10px;font-style:normal;font-weight:normal;fill-opacity:1;stroke:none;font-family:sans-serif;text-anchor:start;fill:#0000FF\" x=\"94.1697\" y=\"67.2331\"><tspan>N</tspan></text>\n",
       "<text style=\"font-size:10px;font-style:normal;font-weight:normal;fill-opacity:1;stroke:none;font-family:sans-serif;text-anchor:start;fill:#0000FF\" x=\"75.253\" y=\"120.805\"><tspan>N</tspan></text>\n",
       "<text style=\"font-size:10px;font-style:normal;font-weight:normal;fill-opacity:1;stroke:none;font-family:sans-serif;text-anchor:start;fill:#0000FF\" x=\"107.746\" y=\"16.1198\"><tspan>NH</tspan><tspan style=\"baseline-shift:sub;font-size:7.5px;\">2</tspan><tspan/><tspan style=\"baseline-shift:super;font-size:7.5px;\">+</tspan><tspan/></text>\n",
       "<text style=\"font-size:10px;font-style:normal;font-weight:normal;fill-opacity:1;stroke:none;font-family:sans-serif;text-anchor:start;fill:#FF0000\" x=\"66.7603\" y=\"166.054\"><tspan>O</tspan></text>\n",
       "</g>\n",
       "<g transform=\"translate(400,0)\"><rect height=\"200\" style=\"opacity:1.0;fill:#FFFFFF;stroke:none\" width=\"200\" x=\"0\" y=\"0\"> </rect>\n",
       "<path d=\"M 62.097,100.853 85.0598,110.319\" style=\"fill:none;fill-rule:evenodd;stroke:#000000;stroke-width:2px;stroke-linecap:butt;stroke-linejoin:miter;stroke-opacity:1\"/>\n",
       "<path d=\"M 67.2504,98.1276 83.3243,104.754\" style=\"fill:none;fill-rule:evenodd;stroke:#000000;stroke-width:2px;stroke-linecap:butt;stroke-linejoin:miter;stroke-opacity:1\"/>\n",
       "<path d=\"M 62.097,100.853 55.0797,66.8625\" style=\"fill:none;fill-rule:evenodd;stroke:#000000;stroke-width:2px;stroke-linecap:butt;stroke-linejoin:miter;stroke-opacity:1\"/>\n",
       "<path d=\"M 62.097,100.853 56.3565,108.523\" style=\"fill:none;fill-rule:evenodd;stroke:#000000;stroke-width:2px;stroke-linecap:butt;stroke-linejoin:miter;stroke-opacity:1\"/>\n",
       "<path d=\"M 56.3565,108.523 50.6159,116.193\" style=\"fill:none;fill-rule:evenodd;stroke:#FF0000;stroke-width:2px;stroke-linecap:butt;stroke-linejoin:miter;stroke-opacity:1\"/>\n",
       "<path d=\"M 55.0797,66.8625 60.2675,58.0864\" style=\"fill:none;fill-rule:evenodd;stroke:#000000;stroke-width:2px;stroke-linecap:butt;stroke-linejoin:miter;stroke-opacity:1\"/>\n",
       "<path d=\"M 60.2675,58.0864 65.4554,49.3103\" style=\"fill:none;fill-rule:evenodd;stroke:#0000FF;stroke-width:2px;stroke-linecap:butt;stroke-linejoin:miter;stroke-opacity:1\"/>\n",
       "<path d=\"M 60.496,66.5114 64.1275,60.3682\" style=\"fill:none;fill-rule:evenodd;stroke:#000000;stroke-width:2px;stroke-linecap:butt;stroke-linejoin:miter;stroke-opacity:1\"/>\n",
       "<path d=\"M 64.1275,60.3682 67.759,54.2249\" style=\"fill:none;fill-rule:evenodd;stroke:#0000FF;stroke-width:2px;stroke-linecap:butt;stroke-linejoin:miter;stroke-opacity:1\"/>\n",
       "<path d=\"M 55.0797,66.8625 43.2996,61.0486\" style=\"fill:none;fill-rule:evenodd;stroke:#000000;stroke-width:2px;stroke-linecap:butt;stroke-linejoin:miter;stroke-opacity:1\"/>\n",
       "<path d=\"M 43.2996,61.0486 31.5196,55.2346\" style=\"fill:none;fill-rule:evenodd;stroke:#7F4C19;stroke-width:2px;stroke-linecap:butt;stroke-linejoin:miter;stroke-opacity:1\"/>\n",
       "<path d=\"M 74.5346,45.6817 82.8786,49.6994\" style=\"fill:none;fill-rule:evenodd;stroke:#0000FF;stroke-width:2px;stroke-linecap:butt;stroke-linejoin:miter;stroke-opacity:1\"/>\n",
       "<path d=\"M 82.8786,49.6994 91.2227,53.7171\" style=\"fill:none;fill-rule:evenodd;stroke:#000000;stroke-width:2px;stroke-linecap:butt;stroke-linejoin:miter;stroke-opacity:1\"/>\n",
       "<path d=\"M 91.2227,53.7171 100.714,86.8284\" style=\"fill:none;fill-rule:evenodd;stroke:#000000;stroke-width:2px;stroke-linecap:butt;stroke-linejoin:miter;stroke-opacity:1\"/>\n",
       "<path d=\"M 85.4624,60.743 92.1061,83.9209\" style=\"fill:none;fill-rule:evenodd;stroke:#000000;stroke-width:2px;stroke-linecap:butt;stroke-linejoin:miter;stroke-opacity:1\"/>\n",
       "<path d=\"M 100.714,86.8284 85.0598,110.319\" style=\"fill:none;fill-rule:evenodd;stroke:#000000;stroke-width:2px;stroke-linecap:butt;stroke-linejoin:miter;stroke-opacity:1\"/>\n",
       "<path d=\"M 100.714,86.8284 109.337,90.5983\" style=\"fill:none;fill-rule:evenodd;stroke:#000000;stroke-width:2px;stroke-linecap:butt;stroke-linejoin:miter;stroke-opacity:1\"/>\n",
       "<path d=\"M 109.337,90.5983 117.96,94.3681\" style=\"fill:none;fill-rule:evenodd;stroke:#0000FF;stroke-width:2px;stroke-linecap:butt;stroke-linejoin:miter;stroke-opacity:1\"/>\n",
       "<path d=\"M 47.4331,128.649 50.788,142.783\" style=\"fill:none;fill-rule:evenodd;stroke:#FF0000;stroke-width:2px;stroke-linecap:butt;stroke-linejoin:miter;stroke-opacity:1\"/>\n",
       "<path d=\"M 50.788,142.783 54.143,156.917\" style=\"fill:none;fill-rule:evenodd;stroke:#000000;stroke-width:2px;stroke-linecap:butt;stroke-linejoin:miter;stroke-opacity:1\"/>\n",
       "<path d=\"M 125.41,90.5003 128.117,82.286\" style=\"fill:none;fill-rule:evenodd;stroke:#0000FF;stroke-width:2px;stroke-linecap:butt;stroke-linejoin:miter;stroke-opacity:1\"/>\n",
       "<path d=\"M 128.117,82.286 130.823,74.0716\" style=\"fill:none;fill-rule:evenodd;stroke:#000000;stroke-width:2px;stroke-linecap:butt;stroke-linejoin:miter;stroke-opacity:1\"/>\n",
       "<path d=\"M 128.755,101.11 139.924,110.176\" style=\"fill:none;fill-rule:evenodd;stroke:#0000FF;stroke-width:2px;stroke-linecap:butt;stroke-linejoin:miter;stroke-opacity:1\"/>\n",
       "<path d=\"M 139.924,110.176 151.093,119.242\" style=\"fill:none;fill-rule:evenodd;stroke:#000000;stroke-width:2px;stroke-linecap:butt;stroke-linejoin:miter;stroke-opacity:1\"/>\n",
       "<path d=\"M 130.823,74.0716 146.53,92.6077\" style=\"fill:none;fill-rule:evenodd;stroke:#000000;stroke-width:2px;stroke-linecap:butt;stroke-linejoin:miter;stroke-opacity:1\"/>\n",
       "<path d=\"M 146.53,92.6077 155.721,98.9388\" style=\"fill:none;fill-rule:evenodd;stroke:#000000;stroke-width:2px;stroke-linecap:butt;stroke-linejoin:miter;stroke-opacity:1\"/>\n",
       "<path d=\"M 155.721,98.9388 164.912,105.27\" style=\"fill:none;fill-rule:evenodd;stroke:#0000FF;stroke-width:2px;stroke-linecap:butt;stroke-linejoin:miter;stroke-opacity:1\"/>\n",
       "<path d=\"M 173.047,120.341 169.887,128.829\" style=\"fill:none;fill-rule:evenodd;stroke:#0000FF;stroke-width:2px;stroke-linecap:butt;stroke-linejoin:miter;stroke-opacity:1\"/>\n",
       "<path d=\"M 169.887,128.829 166.727,137.318\" style=\"fill:none;fill-rule:evenodd;stroke:#000000;stroke-width:2px;stroke-linecap:butt;stroke-linejoin:miter;stroke-opacity:1\"/>\n",
       "<path d=\"M 166.727,137.318 151.093,119.242\" style=\"fill:none;fill-rule:evenodd;stroke:#000000;stroke-width:2px;stroke-linecap:butt;stroke-linejoin:miter;stroke-opacity:1\"/>\n",
       "<text style=\"font-size:12px;font-style:normal;font-weight:normal;fill-opacity:1;stroke:none;font-family:sans-serif;text-anchor:start;fill:#0000FF\" x=\"63.739\" y=\"49.3103\"><tspan>N</tspan></text>\n",
       "<text style=\"font-size:12px;font-style:normal;font-weight:normal;fill-opacity:1;stroke:none;font-family:sans-serif;text-anchor:start;fill:#FF0000\" x=\"40.1383\" y=\"128.649\"><tspan>O</tspan></text>\n",
       "<text style=\"font-size:12px;font-style:normal;font-weight:normal;fill-opacity:1;stroke:none;font-family:sans-serif;text-anchor:start;fill:#0000FF\" x=\"117.96\" y=\"102.956\"><tspan>N</tspan></text>\n",
       "<text style=\"font-size:12px;font-style:normal;font-weight:normal;fill-opacity:1;stroke:none;font-family:sans-serif;text-anchor:start;fill:#0000FF\" x=\"160.795\" y=\"120.341\"><tspan>NH</tspan><tspan style=\"baseline-shift:sub;font-size:9px;\">2</tspan><tspan/><tspan style=\"baseline-shift:super;font-size:9px;\">+</tspan><tspan/></text>\n",
       "<text style=\"font-size:12px;font-style:normal;font-weight:normal;fill-opacity:1;stroke:none;font-family:sans-serif;text-anchor:start;fill:#7F4C19\" x=\"16.5671\" y=\"57.7725\"><tspan>Br</tspan></text>\n",
       "</g>\n",
       "<g transform=\"translate(600,0)\"><rect height=\"200\" style=\"opacity:1.0;fill:#FFFFFF;stroke:none\" width=\"200\" x=\"0\" y=\"0\"> </rect>\n",
       "<path d=\"M 74.7139,128.812 99.9913,113.391\" style=\"fill:none;fill-rule:evenodd;stroke:#000000;stroke-width:2px;stroke-linecap:butt;stroke-linejoin:miter;stroke-opacity:1\"/>\n",
       "<path d=\"M 75.1766,121.042 92.8708,110.247\" style=\"fill:none;fill-rule:evenodd;stroke:#000000;stroke-width:2px;stroke-linecap:butt;stroke-linejoin:miter;stroke-opacity:1\"/>\n",
       "<path d=\"M 74.7139,128.812 53.4868,117.136\" style=\"fill:none;fill-rule:evenodd;stroke:#000000;stroke-width:2px;stroke-linecap:butt;stroke-linejoin:miter;stroke-opacity:1\"/>\n",
       "<path d=\"M 74.7139,128.812 73.2467,143.987\" style=\"fill:none;fill-rule:evenodd;stroke:#000000;stroke-width:2px;stroke-linecap:butt;stroke-linejoin:miter;stroke-opacity:1\"/>\n",
       "<path d=\"M 73.2467,143.987 71.7795,159.162\" style=\"fill:none;fill-rule:evenodd;stroke:#7F4C19;stroke-width:2px;stroke-linecap:butt;stroke-linejoin:miter;stroke-opacity:1\"/>\n",
       "<path d=\"M 53.4868,117.136 54.417,107.147\" style=\"fill:none;fill-rule:evenodd;stroke:#000000;stroke-width:2px;stroke-linecap:butt;stroke-linejoin:miter;stroke-opacity:1\"/>\n",
       "<path d=\"M 54.417,107.147 55.3472,97.1578\" style=\"fill:none;fill-rule:evenodd;stroke:#0000FF;stroke-width:2px;stroke-linecap:butt;stroke-linejoin:miter;stroke-opacity:1\"/>\n",
       "<path d=\"M 60.1301,114.732 60.7812,107.74\" style=\"fill:none;fill-rule:evenodd;stroke:#000000;stroke-width:2px;stroke-linecap:butt;stroke-linejoin:miter;stroke-opacity:1\"/>\n",
       "<path d=\"M 60.7812,107.74 61.4324,100.747\" style=\"fill:none;fill-rule:evenodd;stroke:#0000FF;stroke-width:2px;stroke-linecap:butt;stroke-linejoin:miter;stroke-opacity:1\"/>\n",
       "<path d=\"M 53.4868,117.136 40.3432,123.737\" style=\"fill:none;fill-rule:evenodd;stroke:#000000;stroke-width:2px;stroke-linecap:butt;stroke-linejoin:miter;stroke-opacity:1\"/>\n",
       "<path d=\"M 40.3432,123.737 27.1997,130.338\" style=\"fill:none;fill-rule:evenodd;stroke:#00CC00;stroke-width:2px;stroke-linecap:butt;stroke-linejoin:miter;stroke-opacity:1\"/>\n",
       "<path d=\"M 60.4599,89.2077 70.6401,83.4225\" style=\"fill:none;fill-rule:evenodd;stroke:#0000FF;stroke-width:2px;stroke-linecap:butt;stroke-linejoin:miter;stroke-opacity:1\"/>\n",
       "<path d=\"M 70.6401,83.4225 80.8202,77.6372\" style=\"fill:none;fill-rule:evenodd;stroke:#000000;stroke-width:2px;stroke-linecap:butt;stroke-linejoin:miter;stroke-opacity:1\"/>\n",
       "<path d=\"M 80.8202,77.6372 103.811,86.8904\" style=\"fill:none;fill-rule:evenodd;stroke:#000000;stroke-width:2px;stroke-linecap:butt;stroke-linejoin:miter;stroke-opacity:1\"/>\n",
       "<path d=\"M 82.837,82.583 98.9309,89.0602\" style=\"fill:none;fill-rule:evenodd;stroke:#000000;stroke-width:2px;stroke-linecap:butt;stroke-linejoin:miter;stroke-opacity:1\"/>\n",
       "<path d=\"M 103.811,86.8904 99.9913,113.391\" style=\"fill:none;fill-rule:evenodd;stroke:#000000;stroke-width:2px;stroke-linecap:butt;stroke-linejoin:miter;stroke-opacity:1\"/>\n",
       "<path d=\"M 103.811,86.8904 114.181,80.6787\" style=\"fill:none;fill-rule:evenodd;stroke:#000000;stroke-width:2px;stroke-linecap:butt;stroke-linejoin:miter;stroke-opacity:1\"/>\n",
       "<path d=\"M 114.181,80.6787 124.551,74.4669\" style=\"fill:none;fill-rule:evenodd;stroke:#0000FF;stroke-width:2px;stroke-linecap:butt;stroke-linejoin:miter;stroke-opacity:1\"/>\n",
       "<path d=\"M 130.891,66.3749 133.707,57.6725\" style=\"fill:none;fill-rule:evenodd;stroke:#0000FF;stroke-width:2px;stroke-linecap:butt;stroke-linejoin:miter;stroke-opacity:1\"/>\n",
       "<path d=\"M 133.707,57.6725 136.523,48.97\" style=\"fill:none;fill-rule:evenodd;stroke:#000000;stroke-width:2px;stroke-linecap:butt;stroke-linejoin:miter;stroke-opacity:1\"/>\n",
       "<path d=\"M 133.784,70.0207 137.188,68.7816\" style=\"fill:none;fill-rule:evenodd;stroke:#0000FF;stroke-width:2px;stroke-linecap:butt;stroke-linejoin:miter;stroke-opacity:1\"/>\n",
       "<path d=\"M 137.188,68.7816 140.592,67.5425\" style=\"fill:none;fill-rule:evenodd;stroke:#000000;stroke-width:2px;stroke-linecap:butt;stroke-linejoin:miter;stroke-opacity:1\"/>\n",
       "<path d=\"M 136.523,48.97 168.452,41.6173\" style=\"fill:none;fill-rule:evenodd;stroke:#000000;stroke-width:2px;stroke-linecap:butt;stroke-linejoin:miter;stroke-opacity:1\"/>\n",
       "<path d=\"M 168.452,41.6173 168.186,41.7867\" style=\"fill:none;fill-rule:evenodd;stroke:#000000;stroke-width:2px;stroke-linecap:butt;stroke-linejoin:miter;stroke-opacity:1\"/>\n",
       "<path d=\"M 168.186,41.7867 167.92,41.9561\" style=\"fill:none;fill-rule:evenodd;stroke:#0000FF;stroke-width:2px;stroke-linecap:butt;stroke-linejoin:miter;stroke-opacity:1\"/>\n",
       "<path d=\"M 176.562,41.9561 174.514,50.9451\" style=\"fill:none;fill-rule:evenodd;stroke:#0000FF;stroke-width:2px;stroke-linecap:butt;stroke-linejoin:miter;stroke-opacity:1\"/>\n",
       "<path d=\"M 174.514,50.9451 172.466,59.9341\" style=\"fill:none;fill-rule:evenodd;stroke:#000000;stroke-width:2px;stroke-linecap:butt;stroke-linejoin:miter;stroke-opacity:1\"/>\n",
       "<path d=\"M 140.592,67.5425 172.466,59.9341\" style=\"fill:none;fill-rule:evenodd;stroke:#000000;stroke-width:2px;stroke-linecap:butt;stroke-linejoin:miter;stroke-opacity:1\"/>\n",
       "<text style=\"font-size:10px;font-style:normal;font-weight:normal;fill-opacity:1;stroke:none;font-family:sans-serif;text-anchor:start;fill:#0000FF\" x=\"51.2265\" y=\"97.1578\"><tspan>N</tspan></text>\n",
       "<text style=\"font-size:10px;font-style:normal;font-weight:normal;fill-opacity:1;stroke:none;font-family:sans-serif;text-anchor:start;fill:#7F4C19\" x=\"64.8701\" y=\"169.815\"><tspan>Br</tspan></text>\n",
       "<text style=\"font-size:10px;font-style:normal;font-weight:normal;fill-opacity:1;stroke:none;font-family:sans-serif;text-anchor:start;fill:#00CC00\" x=\"15.1272\" y=\"138.696\"><tspan>Cl</tspan></text>\n",
       "<text style=\"font-size:10px;font-style:normal;font-weight:normal;fill-opacity:1;stroke:none;font-family:sans-serif;text-anchor:start;fill:#0000FF\" x=\"124.551\" y=\"77.0279\"><tspan>N</tspan></text>\n",
       "<text style=\"font-size:10px;font-style:normal;font-weight:normal;fill-opacity:1;stroke:none;font-family:sans-serif;text-anchor:start;fill:#0000FF\" x=\"165.153\" y=\"41.9561\"><tspan>NH</tspan><tspan style=\"baseline-shift:sub;font-size:7.5px;\">2</tspan><tspan/><tspan style=\"baseline-shift:super;font-size:7.5px;\">+</tspan><tspan/></text>\n",
       "</g>\n",
       "<g transform=\"translate(0,200)\"><rect height=\"200\" style=\"opacity:1.0;fill:#FFFFFF;stroke:none\" width=\"200\" x=\"0\" y=\"0\"> </rect>\n",
       "<path d=\"M 109.199,125.22 120.054,146.406\" style=\"fill:none;fill-rule:evenodd;stroke:#000000;stroke-width:2px;stroke-linecap:butt;stroke-linejoin:miter;stroke-opacity:1\"/>\n",
       "<path d=\"M 101.183,133.339 108.781,148.169\" style=\"fill:none;fill-rule:evenodd;stroke:#000000;stroke-width:2px;stroke-linecap:butt;stroke-linejoin:miter;stroke-opacity:1\"/>\n",
       "<path d=\"M 109.199,125.22 65.2314,56.1409\" style=\"fill:none;fill-rule:evenodd;stroke:#000000;stroke-width:2px;stroke-linecap:butt;stroke-linejoin:miter;stroke-opacity:1\"/>\n",
       "<path d=\"M 109.199,125.22 124.781,148.182\" style=\"fill:none;fill-rule:evenodd;stroke:#000000;stroke-width:2px;stroke-linecap:butt;stroke-linejoin:miter;stroke-opacity:1\"/>\n",
       "<path d=\"M 124.781,148.182 140.364,171.144\" style=\"fill:none;fill-rule:evenodd;stroke:#00CC00;stroke-width:2px;stroke-linecap:butt;stroke-linejoin:miter;stroke-opacity:1\"/>\n",
       "<path d=\"M 65.2314,56.1409 51.282,29.8555\" style=\"fill:none;fill-rule:evenodd;stroke:#000000;stroke-width:2px;stroke-linecap:butt;stroke-linejoin:miter;stroke-opacity:1\"/>\n",
       "<path d=\"M 65.2314,56.1409 54.0369,40.1415\" style=\"fill:none;fill-rule:evenodd;stroke:#000000;stroke-width:2px;stroke-linecap:butt;stroke-linejoin:miter;stroke-opacity:1\"/>\n",
       "<path d=\"M 54.0369,40.1415 42.8425,24.1421\" style=\"fill:none;fill-rule:evenodd;stroke:#0000FF;stroke-width:2px;stroke-linecap:butt;stroke-linejoin:miter;stroke-opacity:1\"/>\n",
       "<path d=\"M 52.9938,57.5537 45.1577,46.3541\" style=\"fill:none;fill-rule:evenodd;stroke:#000000;stroke-width:2px;stroke-linecap:butt;stroke-linejoin:miter;stroke-opacity:1\"/>\n",
       "<path d=\"M 45.1577,46.3541 37.3216,35.1545\" style=\"fill:none;fill-rule:evenodd;stroke:#0000FF;stroke-width:2px;stroke-linecap:butt;stroke-linejoin:miter;stroke-opacity:1\"/>\n",
       "<path d=\"M 40.1615,24.1421 42.2088,28.0674\" style=\"fill:none;fill-rule:evenodd;stroke:#0000FF;stroke-width:2px;stroke-linecap:butt;stroke-linejoin:miter;stroke-opacity:1\"/>\n",
       "<path d=\"M 42.2088,28.0674 44.2561,31.9928\" style=\"fill:none;fill-rule:evenodd;stroke:#000000;stroke-width:2px;stroke-linecap:butt;stroke-linejoin:miter;stroke-opacity:1\"/>\n",
       "<path d=\"M 44.2561,31.9928 87.8924,99.5906\" style=\"fill:none;fill-rule:evenodd;stroke:#000000;stroke-width:2px;stroke-linecap:butt;stroke-linejoin:miter;stroke-opacity:1\"/>\n",
       "<path d=\"M 65.9759,32.3369 96.5214,79.6554\" style=\"fill:none;fill-rule:evenodd;stroke:#000000;stroke-width:2px;stroke-linecap:butt;stroke-linejoin:miter;stroke-opacity:1\"/>\n",
       "<path d=\"M 87.8924,99.5906 120.054,146.406\" style=\"fill:none;fill-rule:evenodd;stroke:#000000;stroke-width:2px;stroke-linecap:butt;stroke-linejoin:miter;stroke-opacity:1\"/>\n",
       "<path d=\"M 87.8924,99.5906 89.4439,102.854\" style=\"fill:none;fill-rule:evenodd;stroke:#000000;stroke-width:2px;stroke-linecap:butt;stroke-linejoin:miter;stroke-opacity:1\"/>\n",
       "<path d=\"M 89.4439,102.854 90.9953,106.117\" style=\"fill:none;fill-rule:evenodd;stroke:#0000FF;stroke-width:2px;stroke-linecap:butt;stroke-linejoin:miter;stroke-opacity:1\"/>\n",
       "<path d=\"M 111.197,124.512 145.965,133.424\" style=\"fill:none;fill-rule:evenodd;stroke:#0000FF;stroke-width:2px;stroke-linecap:butt;stroke-linejoin:miter;stroke-opacity:1\"/>\n",
       "<path d=\"M 145.965,133.424 180.734,142.336\" style=\"fill:none;fill-rule:evenodd;stroke:#000000;stroke-width:2px;stroke-linecap:butt;stroke-linejoin:miter;stroke-opacity:1\"/>\n",
       "<path d=\"M 85.1058,112.735 64.6328,99.5013\" style=\"fill:none;fill-rule:evenodd;stroke:#0000FF;stroke-width:2px;stroke-linecap:butt;stroke-linejoin:miter;stroke-opacity:1\"/>\n",
       "<path d=\"M 64.6328,99.5013 44.1597,86.2673\" style=\"fill:none;fill-rule:evenodd;stroke:#000000;stroke-width:2px;stroke-linecap:butt;stroke-linejoin:miter;stroke-opacity:1\"/>\n",
       "<path d=\"M 180.734,142.336 179.897,190.909\" style=\"fill:none;fill-rule:evenodd;stroke:#000000;stroke-width:2px;stroke-linecap:butt;stroke-linejoin:miter;stroke-opacity:1\"/>\n",
       "<path d=\"M 179.897,190.909 165.665,179.187\" style=\"fill:none;fill-rule:evenodd;stroke:#000000;stroke-width:2px;stroke-linecap:butt;stroke-linejoin:miter;stroke-opacity:1\"/>\n",
       "<path d=\"M 165.665,179.187 151.432,167.465\" style=\"fill:none;fill-rule:evenodd;stroke:#0000FF;stroke-width:2px;stroke-linecap:butt;stroke-linejoin:miter;stroke-opacity:1\"/>\n",
       "<path d=\"M 92.9291,143.436 68.7401,139.569\" style=\"fill:none;fill-rule:evenodd;stroke:#0000FF;stroke-width:2px;stroke-linecap:butt;stroke-linejoin:miter;stroke-opacity:1\"/>\n",
       "<path d=\"M 68.7401,139.569 44.5511,135.701\" style=\"fill:none;fill-rule:evenodd;stroke:#000000;stroke-width:2px;stroke-linecap:butt;stroke-linejoin:miter;stroke-opacity:1\"/>\n",
       "<path d=\"M 44.5511,135.701 44.1597,86.2673\" style=\"fill:none;fill-rule:evenodd;stroke:#000000;stroke-width:2px;stroke-linecap:butt;stroke-linejoin:miter;stroke-opacity:1\"/>\n",
       "<text style=\"font-size:30px;font-style:normal;font-weight:normal;fill-opacity:1;stroke:none;font-family:sans-serif;text-anchor:start;fill:#0000FF\" x=\"19.2659\" y=\"24.1421\"><tspan>N</tspan></text>\n",
       "<text style=\"font-size:30px;font-style:normal;font-weight:normal;fill-opacity:1;stroke:none;font-family:sans-serif;text-anchor:start;fill:#0000FF\" x=\"85.1058\" y=\"136.219\"><tspan>N</tspan></text>\n",
       "<text style=\"font-size:30px;font-style:normal;font-weight:normal;fill-opacity:1;stroke:none;font-family:sans-serif;text-anchor:start;fill:#00CC00\" x=\"133.521\" y=\"201.246\"><tspan>Cl</tspan></text>\n",
       "<text style=\"font-size:30px;font-style:normal;font-weight:normal;fill-opacity:1;stroke:none;font-family:sans-serif;text-anchor:start;fill:#0000FF\" x=\"92.9291\" y=\"167.465\"><tspan>NH</tspan><tspan style=\"baseline-shift:sub;font-size:22.5px;\">2</tspan><tspan/><tspan style=\"baseline-shift:super;font-size:22.5px;\">+</tspan><tspan/></text>\n",
       "</g>\n",
       "<g transform=\"translate(200,200)\"><rect height=\"200\" style=\"opacity:1.0;fill:#FFFFFF;stroke:none\" width=\"200\" x=\"0\" y=\"0\"> </rect>\n",
       "<path d=\"M 112.876,85.4898 112.05,98.6346\" style=\"fill:none;fill-rule:evenodd;stroke:#000000;stroke-width:2px;stroke-linecap:butt;stroke-linejoin:miter;stroke-opacity:1\"/>\n",
       "<path d=\"M 107.107,87.1066 106.528,96.308\" style=\"fill:none;fill-rule:evenodd;stroke:#000000;stroke-width:2px;stroke-linecap:butt;stroke-linejoin:miter;stroke-opacity:1\"/>\n",
       "<path d=\"M 112.876,85.4898 126.2,43.9437\" style=\"fill:none;fill-rule:evenodd;stroke:#000000;stroke-width:2px;stroke-linecap:butt;stroke-linejoin:miter;stroke-opacity:1\"/>\n",
       "<path d=\"M 112.876,85.4898 100.313,113.696\" style=\"fill:none;fill-rule:evenodd;stroke:#000000;stroke-width:2px;stroke-linecap:butt;stroke-linejoin:miter;stroke-opacity:1\"/>\n",
       "<path d=\"M 100.313,113.696 95.0001,129.548\" style=\"fill:none;fill-rule:evenodd;stroke:#000000;stroke-width:2px;stroke-linecap:butt;stroke-linejoin:miter;stroke-opacity:1\"/>\n",
       "<path d=\"M 95.0001,129.548 89.6876,145.4\" style=\"fill:none;fill-rule:evenodd;stroke:#0000FF;stroke-width:2px;stroke-linecap:butt;stroke-linejoin:miter;stroke-opacity:1\"/>\n",
       "<path d=\"M 107.658,121.448 103.939,132.544\" style=\"fill:none;fill-rule:evenodd;stroke:#000000;stroke-width:2px;stroke-linecap:butt;stroke-linejoin:miter;stroke-opacity:1\"/>\n",
       "<path d=\"M 103.939,132.544 100.22,143.64\" style=\"fill:none;fill-rule:evenodd;stroke:#0000FF;stroke-width:2px;stroke-linecap:butt;stroke-linejoin:miter;stroke-opacity:1\"/>\n",
       "<path d=\"M 86.7896,161.113 86.7305,162.864\" style=\"fill:none;fill-rule:evenodd;stroke:#0000FF;stroke-width:2px;stroke-linecap:butt;stroke-linejoin:miter;stroke-opacity:1\"/>\n",
       "<path d=\"M 86.7305,162.864 86.6714,164.616\" style=\"fill:none;fill-rule:evenodd;stroke:#000000;stroke-width:2px;stroke-linecap:butt;stroke-linejoin:miter;stroke-opacity:1\"/>\n",
       "<path d=\"M 86.6714,164.616 98.9049,139.276\" style=\"fill:none;fill-rule:evenodd;stroke:#000000;stroke-width:2px;stroke-linecap:butt;stroke-linejoin:miter;stroke-opacity:1\"/>\n",
       "<path d=\"M 83.4125,158.356 91.976,140.618\" style=\"fill:none;fill-rule:evenodd;stroke:#000000;stroke-width:2px;stroke-linecap:butt;stroke-linejoin:miter;stroke-opacity:1\"/>\n",
       "<path d=\"M 98.9049,139.276 112.05,98.6346\" style=\"fill:none;fill-rule:evenodd;stroke:#000000;stroke-width:2px;stroke-linecap:butt;stroke-linejoin:miter;stroke-opacity:1\"/>\n",
       "<path d=\"M 98.9049,139.276 98.6727,141.831\" style=\"fill:none;fill-rule:evenodd;stroke:#000000;stroke-width:2px;stroke-linecap:butt;stroke-linejoin:miter;stroke-opacity:1\"/>\n",
       "<path d=\"M 98.6727,141.831 98.4405,144.385\" style=\"fill:none;fill-rule:evenodd;stroke:#0000FF;stroke-width:2px;stroke-linecap:butt;stroke-linejoin:miter;stroke-opacity:1\"/>\n",
       "<path d=\"M 104.536,150.786 119.97,147.487\" style=\"fill:none;fill-rule:evenodd;stroke:#0000FF;stroke-width:2px;stroke-linecap:butt;stroke-linejoin:miter;stroke-opacity:1\"/>\n",
       "<path d=\"M 119.97,147.487 135.404,144.187\" style=\"fill:none;fill-rule:evenodd;stroke:#000000;stroke-width:2px;stroke-linecap:butt;stroke-linejoin:miter;stroke-opacity:1\"/>\n",
       "<path d=\"M 92.3683,160.098 82.3142,174.839\" style=\"fill:none;fill-rule:evenodd;stroke:#0000FF;stroke-width:2px;stroke-linecap:butt;stroke-linejoin:miter;stroke-opacity:1\"/>\n",
       "<path d=\"M 82.3142,174.839 72.2601,189.58\" style=\"fill:none;fill-rule:evenodd;stroke:#000000;stroke-width:2px;stroke-linecap:butt;stroke-linejoin:miter;stroke-opacity:1\"/>\n",
       "<path d=\"M 135.404,144.187 125.229,146.12\" style=\"fill:none;fill-rule:evenodd;stroke:#000000;stroke-width:2px;stroke-linecap:butt;stroke-linejoin:miter;stroke-opacity:1\"/>\n",
       "<path d=\"M 125.229,146.12 116.516,161.334\" style=\"fill:none;fill-rule:evenodd;stroke:#000000;stroke-width:2px;stroke-linecap:butt;stroke-linejoin:miter;stroke-opacity:1\"/>\n",
       "<path d=\"M 116.516,161.334 107.803,176.548\" style=\"fill:none;fill-rule:evenodd;stroke:#0000FF;stroke-width:2px;stroke-linecap:butt;stroke-linejoin:miter;stroke-opacity:1\"/>\n",
       "<path d=\"M 83.3642,188.376 73.0027,189.642\" style=\"fill:none;fill-rule:evenodd;stroke:#0000FF;stroke-width:2px;stroke-linecap:butt;stroke-linejoin:miter;stroke-opacity:1\"/>\n",
       "<path d=\"M 73.0027,189.642 62.6412,190.909\" style=\"fill:none;fill-rule:evenodd;stroke:#000000;stroke-width:2px;stroke-linecap:butt;stroke-linejoin:miter;stroke-opacity:1\"/>\n",
       "<path d=\"M 62.6412,190.909 72.2601,189.58\" style=\"fill:none;fill-rule:evenodd;stroke:#000000;stroke-width:2px;stroke-linecap:butt;stroke-linejoin:miter;stroke-opacity:1\"/>\n",
       "<path d=\"M 126.2,43.9437 137.359,9.09091\" style=\"fill:none;fill-rule:evenodd;stroke:#000000;stroke-width:2px;stroke-linecap:butt;stroke-linejoin:miter;stroke-opacity:1\"/>\n",
       "<path d=\"M 133.261,40.4405 142.746,10.8157\" style=\"fill:none;fill-rule:evenodd;stroke:#000000;stroke-width:2px;stroke-linecap:butt;stroke-linejoin:miter;stroke-opacity:1\"/>\n",
       "<path d=\"M 122.487,36.991 131.972,7.36615\" style=\"fill:none;fill-rule:evenodd;stroke:#000000;stroke-width:2px;stroke-linecap:butt;stroke-linejoin:miter;stroke-opacity:1\"/>\n",
       "<text style=\"font-size:15px;font-style:normal;font-weight:normal;fill-opacity:1;stroke:none;font-family:sans-serif;text-anchor:start;fill:#0000FF\" x=\"80.2455\" y=\"161.113\"><tspan>N</tspan></text>\n",
       "<text style=\"font-size:15px;font-style:normal;font-weight:normal;fill-opacity:1;stroke:none;font-family:sans-serif;text-anchor:start;fill:#0000FF\" x=\"90.9172\" y=\"160.098\"><tspan>N</tspan></text>\n",
       "<text style=\"font-size:15px;font-style:normal;font-weight:normal;fill-opacity:1;stroke:none;font-family:sans-serif;text-anchor:start;fill:#0000FF\" x=\"83.3642\" y=\"195.56\"><tspan>NH</tspan><tspan style=\"baseline-shift:sub;font-size:11.25px;\">2</tspan><tspan/><tspan style=\"baseline-shift:super;font-size:11.25px;\">+</tspan><tspan/></text>\n",
       "</g>\n",
       "<g transform=\"translate(400,200)\"><rect height=\"200\" style=\"opacity:1.0;fill:#FFFFFF;stroke:none\" width=\"200\" x=\"0\" y=\"0\"> </rect>\n",
       "<path d=\"M 116.532,106.904 93.4129,111.968\" style=\"fill:none;fill-rule:evenodd;stroke:#0000FF;stroke-width:2px;stroke-linecap:butt;stroke-linejoin:miter;stroke-opacity:1\"/>\n",
       "<path d=\"M 93.4129,111.968 70.2941,117.033\" style=\"fill:none;fill-rule:evenodd;stroke:#000000;stroke-width:2px;stroke-linecap:butt;stroke-linejoin:miter;stroke-opacity:1\"/>\n",
       "<path d=\"M 136.31,99.2387 157.054,87.7053\" style=\"fill:none;fill-rule:evenodd;stroke:#0000FF;stroke-width:2px;stroke-linecap:butt;stroke-linejoin:miter;stroke-opacity:1\"/>\n",
       "<path d=\"M 157.054,87.7053 177.797,76.1718\" style=\"fill:none;fill-rule:evenodd;stroke:#000000;stroke-width:2px;stroke-linecap:butt;stroke-linejoin:miter;stroke-opacity:1\"/>\n",
       "<path d=\"M 119.797,93.3276 119.812,93.3527\" style=\"fill:none;fill-rule:evenodd;stroke:#0000FF;stroke-width:2px;stroke-linecap:butt;stroke-linejoin:miter;stroke-opacity:1\"/>\n",
       "<path d=\"M 119.812,93.3527 119.826,93.3778\" style=\"fill:none;fill-rule:evenodd;stroke:#000000;stroke-width:2px;stroke-linecap:butt;stroke-linejoin:miter;stroke-opacity:1\"/>\n",
       "<path d=\"M 119.826,93.3778 84.4103,131.674\" style=\"fill:none;fill-rule:evenodd;stroke:#000000;stroke-width:2px;stroke-linecap:butt;stroke-linejoin:miter;stroke-opacity:1\"/>\n",
       "<path d=\"M 108.483,93.5444 83.6914,120.351\" style=\"fill:none;fill-rule:evenodd;stroke:#000000;stroke-width:2px;stroke-linecap:butt;stroke-linejoin:miter;stroke-opacity:1\"/>\n",
       "<path d=\"M 119.826,93.3778 148.25,44.7219\" style=\"fill:none;fill-rule:evenodd;stroke:#000000;stroke-width:2px;stroke-linecap:butt;stroke-linejoin:miter;stroke-opacity:1\"/>\n",
       "<path d=\"M 84.4103,131.674 78.3449,120.451\" style=\"fill:none;fill-rule:evenodd;stroke:#000000;stroke-width:2px;stroke-linecap:butt;stroke-linejoin:miter;stroke-opacity:1\"/>\n",
       "<path d=\"M 147.793,43.5079 148.022,44.1149\" style=\"fill:none;fill-rule:evenodd;stroke:#0000FF;stroke-width:2px;stroke-linecap:butt;stroke-linejoin:miter;stroke-opacity:1\"/>\n",
       "<path d=\"M 148.022,44.1149 148.25,44.7219\" style=\"fill:none;fill-rule:evenodd;stroke:#000000;stroke-width:2px;stroke-linecap:butt;stroke-linejoin:miter;stroke-opacity:1\"/>\n",
       "<path d=\"M 140.174,46.5861 140.334,47.011\" style=\"fill:none;fill-rule:evenodd;stroke:#0000FF;stroke-width:2px;stroke-linecap:butt;stroke-linejoin:miter;stroke-opacity:1\"/>\n",
       "<path d=\"M 140.334,47.011 140.494,47.4359\" style=\"fill:none;fill-rule:evenodd;stroke:#000000;stroke-width:2px;stroke-linecap:butt;stroke-linejoin:miter;stroke-opacity:1\"/>\n",
       "<path d=\"M 133.605,42.9201 120.933,56.7871\" style=\"fill:none;fill-rule:evenodd;stroke:#0000FF;stroke-width:2px;stroke-linecap:butt;stroke-linejoin:miter;stroke-opacity:1\"/>\n",
       "<path d=\"M 120.933,56.7871 108.261,70.6541\" style=\"fill:none;fill-rule:evenodd;stroke:#000000;stroke-width:2px;stroke-linecap:butt;stroke-linejoin:miter;stroke-opacity:1\"/>\n",
       "<path d=\"M 113.43,129.109 98.9724,139.14\" style=\"fill:none;fill-rule:evenodd;stroke:#0000FF;stroke-width:2px;stroke-linecap:butt;stroke-linejoin:miter;stroke-opacity:1\"/>\n",
       "<path d=\"M 98.9724,139.14 84.5153,149.172\" style=\"fill:none;fill-rule:evenodd;stroke:#000000;stroke-width:2px;stroke-linecap:butt;stroke-linejoin:miter;stroke-opacity:1\"/>\n",
       "<path d=\"M 160.912,112.248 175.911,110.588\" style=\"fill:none;fill-rule:evenodd;stroke:#0000FF;stroke-width:2px;stroke-linecap:butt;stroke-linejoin:miter;stroke-opacity:1\"/>\n",
       "<path d=\"M 175.911,110.588 190.909,108.927\" style=\"fill:none;fill-rule:evenodd;stroke:#000000;stroke-width:2px;stroke-linecap:butt;stroke-linejoin:miter;stroke-opacity:1\"/>\n",
       "<path d=\"M 78.3449,120.451 108.261,70.6541\" style=\"fill:none;fill-rule:evenodd;stroke:#000000;stroke-width:2px;stroke-linecap:butt;stroke-linejoin:miter;stroke-opacity:1\"/>\n",
       "<path d=\"M 94.5689,120.032 115.51,85.1746\" style=\"fill:none;fill-rule:evenodd;stroke:#000000;stroke-width:2px;stroke-linecap:butt;stroke-linejoin:miter;stroke-opacity:1\"/>\n",
       "<path d=\"M 78.3449,120.451 61.8651,138.471\" style=\"fill:none;fill-rule:evenodd;stroke:#000000;stroke-width:2px;stroke-linecap:butt;stroke-linejoin:miter;stroke-opacity:1\"/>\n",
       "<path d=\"M 61.8651,138.471 45.3854,156.492\" style=\"fill:none;fill-rule:evenodd;stroke:#00CC00;stroke-width:2px;stroke-linecap:butt;stroke-linejoin:miter;stroke-opacity:1\"/>\n",
       "<path d=\"M 70.2941,117.033 84.5153,149.172\" style=\"fill:none;fill-rule:evenodd;stroke:#000000;stroke-width:2px;stroke-linecap:butt;stroke-linejoin:miter;stroke-opacity:1\"/>\n",
       "<path d=\"M 177.797,76.1718 190.909,108.927\" style=\"fill:none;fill-rule:evenodd;stroke:#000000;stroke-width:2px;stroke-linecap:butt;stroke-linejoin:miter;stroke-opacity:1\"/>\n",
       "<text style=\"font-size:22px;font-style:normal;font-weight:normal;fill-opacity:1;stroke:none;font-family:sans-serif;text-anchor:start;fill:#0000FF\" x=\"116.532\" y=\"116.147\"><tspan>N</tspan></text>\n",
       "<text style=\"font-size:22px;font-style:normal;font-weight:normal;fill-opacity:1;stroke:none;font-family:sans-serif;text-anchor:start;fill:#0000FF\" x=\"133.605\" y=\"43.5079\"><tspan>N</tspan></text>\n",
       "<text style=\"font-size:22px;font-style:normal;font-weight:normal;fill-opacity:1;stroke:none;font-family:sans-serif;text-anchor:start;fill:#0000FF\" x=\"105.74\" y=\"129.109\"><tspan>NH</tspan><tspan style=\"baseline-shift:sub;font-size:16.5px;\">2</tspan><tspan/><tspan style=\"baseline-shift:super;font-size:16.5px;\">+</tspan><tspan/></text>\n",
       "<text style=\"font-size:22px;font-style:normal;font-weight:normal;fill-opacity:1;stroke:none;font-family:sans-serif;text-anchor:start;fill:#00CC00\" x=\"22.0211\" y=\"179.312\"><tspan>Cl</tspan></text>\n",
       "</g>\n",
       "<g transform=\"translate(600,200)\"><rect height=\"200\" style=\"opacity:1.0;fill:#FFFFFF;stroke:none\" width=\"200\" x=\"0\" y=\"0\"> </rect>\n",
       "<path d=\"M 109.213,143.685 107.48,147.817\" style=\"fill:none;fill-rule:evenodd;stroke:#0000FF;stroke-width:2px;stroke-linecap:butt;stroke-linejoin:miter;stroke-opacity:1\"/>\n",
       "<path d=\"M 107.48,147.817 105.747,151.949\" style=\"fill:none;fill-rule:evenodd;stroke:#000000;stroke-width:2px;stroke-linecap:butt;stroke-linejoin:miter;stroke-opacity:1\"/>\n",
       "<path d=\"M 118.172,138.745 132.837,143.664\" style=\"fill:none;fill-rule:evenodd;stroke:#0000FF;stroke-width:2px;stroke-linecap:butt;stroke-linejoin:miter;stroke-opacity:1\"/>\n",
       "<path d=\"M 132.837,143.664 147.501,148.583\" style=\"fill:none;fill-rule:evenodd;stroke:#000000;stroke-width:2px;stroke-linecap:butt;stroke-linejoin:miter;stroke-opacity:1\"/>\n",
       "<path d=\"M 106.098,135.038 93.9286,131.647\" style=\"fill:none;fill-rule:evenodd;stroke:#0000FF;stroke-width:2px;stroke-linecap:butt;stroke-linejoin:miter;stroke-opacity:1\"/>\n",
       "<path d=\"M 93.9286,131.647 81.759,128.256\" style=\"fill:none;fill-rule:evenodd;stroke:#000000;stroke-width:2px;stroke-linecap:butt;stroke-linejoin:miter;stroke-opacity:1\"/>\n",
       "<path d=\"M 81.759,128.256 85.4254,104.72\" style=\"fill:none;fill-rule:evenodd;stroke:#000000;stroke-width:2px;stroke-linecap:butt;stroke-linejoin:miter;stroke-opacity:1\"/>\n",
       "<path d=\"M 77.3538,123.954 79.9203,107.478\" style=\"fill:none;fill-rule:evenodd;stroke:#000000;stroke-width:2px;stroke-linecap:butt;stroke-linejoin:miter;stroke-opacity:1\"/>\n",
       "<path d=\"M 81.759,128.256 45.5153,141.456\" style=\"fill:none;fill-rule:evenodd;stroke:#000000;stroke-width:2px;stroke-linecap:butt;stroke-linejoin:miter;stroke-opacity:1\"/>\n",
       "<path d=\"M 85.4254,104.72 55.1077,95.7541\" style=\"fill:none;fill-rule:evenodd;stroke:#000000;stroke-width:2px;stroke-linecap:butt;stroke-linejoin:miter;stroke-opacity:1\"/>\n",
       "<path d=\"M 21.1649,135.23 33.3401,138.343\" style=\"fill:none;fill-rule:evenodd;stroke:#0000FF;stroke-width:2px;stroke-linecap:butt;stroke-linejoin:miter;stroke-opacity:1\"/>\n",
       "<path d=\"M 33.3401,138.343 45.5153,141.456\" style=\"fill:none;fill-rule:evenodd;stroke:#000000;stroke-width:2px;stroke-linecap:butt;stroke-linejoin:miter;stroke-opacity:1\"/>\n",
       "<path d=\"M 26.0598,131.305 34.5825,133.485\" style=\"fill:none;fill-rule:evenodd;stroke:#0000FF;stroke-width:2px;stroke-linecap:butt;stroke-linejoin:miter;stroke-opacity:1\"/>\n",
       "<path d=\"M 34.5825,133.485 43.1051,135.664\" style=\"fill:none;fill-rule:evenodd;stroke:#000000;stroke-width:2px;stroke-linecap:butt;stroke-linejoin:miter;stroke-opacity:1\"/>\n",
       "<path d=\"M 16.8606,126.721 18.8221,118.836\" style=\"fill:none;fill-rule:evenodd;stroke:#0000FF;stroke-width:2px;stroke-linecap:butt;stroke-linejoin:miter;stroke-opacity:1\"/>\n",
       "<path d=\"M 18.8221,118.836 20.7836,110.952\" style=\"fill:none;fill-rule:evenodd;stroke:#000000;stroke-width:2px;stroke-linecap:butt;stroke-linejoin:miter;stroke-opacity:1\"/>\n",
       "<path d=\"M 157.229,155.378 148.674,151.531\" style=\"fill:none;fill-rule:evenodd;stroke:#0000FF;stroke-width:2px;stroke-linecap:butt;stroke-linejoin:miter;stroke-opacity:1\"/>\n",
       "<path d=\"M 148.674,151.531 140.118,147.683\" style=\"fill:none;fill-rule:evenodd;stroke:#000000;stroke-width:2px;stroke-linecap:butt;stroke-linejoin:miter;stroke-opacity:1\"/>\n",
       "<path d=\"M 177.432,154.523 179.445,149.479\" style=\"fill:none;fill-rule:evenodd;stroke:#0000FF;stroke-width:2px;stroke-linecap:butt;stroke-linejoin:miter;stroke-opacity:1\"/>\n",
       "<path d=\"M 179.445,149.479 181.458,144.435\" style=\"fill:none;fill-rule:evenodd;stroke:#000000;stroke-width:2px;stroke-linecap:butt;stroke-linejoin:miter;stroke-opacity:1\"/>\n",
       "<path d=\"M 55.1077,95.7541 20.7836,110.952\" style=\"fill:none;fill-rule:evenodd;stroke:#000000;stroke-width:2px;stroke-linecap:butt;stroke-linejoin:miter;stroke-opacity:1\"/>\n",
       "<path d=\"M 53.343,105.676 29.3161,116.315\" style=\"fill:none;fill-rule:evenodd;stroke:#000000;stroke-width:2px;stroke-linecap:butt;stroke-linejoin:miter;stroke-opacity:1\"/>\n",
       "<path d=\"M 55.1077,95.7541 57.8201,87.6021\" style=\"fill:none;fill-rule:evenodd;stroke:#000000;stroke-width:2px;stroke-linecap:butt;stroke-linejoin:miter;stroke-opacity:1\"/>\n",
       "<path d=\"M 57.8201,87.6021 60.5326,79.4501\" style=\"fill:none;fill-rule:evenodd;stroke:#FF0000;stroke-width:2px;stroke-linecap:butt;stroke-linejoin:miter;stroke-opacity:1\"/>\n",
       "<path d=\"M 105.747,151.949 140.118,147.683\" style=\"fill:none;fill-rule:evenodd;stroke:#000000;stroke-width:2px;stroke-linecap:butt;stroke-linejoin:miter;stroke-opacity:1\"/>\n",
       "<path d=\"M 147.501,148.583 181.458,144.435\" style=\"fill:none;fill-rule:evenodd;stroke:#000000;stroke-width:2px;stroke-linecap:butt;stroke-linejoin:miter;stroke-opacity:1\"/>\n",
       "<path d=\"M 56.3449,70.4163 44.3662,66.6071\" style=\"fill:none;fill-rule:evenodd;stroke:#FF0000;stroke-width:2px;stroke-linecap:butt;stroke-linejoin:miter;stroke-opacity:1\"/>\n",
       "<path d=\"M 44.3662,66.6071 32.3875,62.7979\" style=\"fill:none;fill-rule:evenodd;stroke:#000000;stroke-width:2px;stroke-linecap:butt;stroke-linejoin:miter;stroke-opacity:1\"/>\n",
       "<path d=\"M 32.3875,62.7979 47.0644,37.0493\" style=\"fill:none;fill-rule:evenodd;stroke:#000000;stroke-width:2px;stroke-linecap:butt;stroke-linejoin:miter;stroke-opacity:1\"/>\n",
       "<text style=\"font-size:13px;font-style:normal;font-weight:normal;fill-opacity:1;stroke:none;font-family:sans-serif;text-anchor:start;fill:#0000FF\" x=\"106.098\" y=\"143.685\"><tspan>N</tspan></text>\n",
       "<text style=\"font-size:13px;font-style:normal;font-weight:normal;fill-opacity:1;stroke:none;font-family:sans-serif;text-anchor:start;fill:#0000FF\" x=\"9.09091\" y=\"140.651\"><tspan>N</tspan></text>\n",
       "<text style=\"font-size:13px;font-style:normal;font-weight:normal;fill-opacity:1;stroke:none;font-family:sans-serif;text-anchor:start;fill:#0000FF\" x=\"157.229\" y=\"171.379\"><tspan>NH</tspan><tspan style=\"baseline-shift:sub;font-size:9.75px;\">2</tspan><tspan/><tspan style=\"baseline-shift:super;font-size:9.75px;\">+</tspan><tspan/></text>\n",
       "<text style=\"font-size:13px;font-style:normal;font-weight:normal;fill-opacity:1;stroke:none;font-family:sans-serif;text-anchor:start;fill:#FF0000\" x=\"56.3449\" y=\"79.4501\"><tspan>O</tspan></text>\n",
       "</g>\n",
       "<g transform=\"translate(0,400)\"><rect height=\"200\" style=\"opacity:1.0;fill:#FFFFFF;stroke:none\" width=\"200\" x=\"0\" y=\"0\"> </rect>\n",
       "<path d=\"M 158.411,82.5396 174.158,80.5777\" style=\"fill:none;fill-rule:evenodd;stroke:#0000FF;stroke-width:2px;stroke-linecap:butt;stroke-linejoin:miter;stroke-opacity:1\"/>\n",
       "<path d=\"M 174.158,80.5777 189.905,78.6158\" style=\"fill:none;fill-rule:evenodd;stroke:#000000;stroke-width:2px;stroke-linecap:butt;stroke-linejoin:miter;stroke-opacity:1\"/>\n",
       "<path d=\"M 148.805,76.2851 142.762,64.2798\" style=\"fill:none;fill-rule:evenodd;stroke:#0000FF;stroke-width:2px;stroke-linecap:butt;stroke-linejoin:miter;stroke-opacity:1\"/>\n",
       "<path d=\"M 142.762,64.2798 136.72,52.2744\" style=\"fill:none;fill-rule:evenodd;stroke:#000000;stroke-width:2px;stroke-linecap:butt;stroke-linejoin:miter;stroke-opacity:1\"/>\n",
       "<path d=\"M 148.737,90.3085 141.618,104.189\" style=\"fill:none;fill-rule:evenodd;stroke:#0000FF;stroke-width:2px;stroke-linecap:butt;stroke-linejoin:miter;stroke-opacity:1\"/>\n",
       "<path d=\"M 141.618,104.189 134.499,118.069\" style=\"fill:none;fill-rule:evenodd;stroke:#000000;stroke-width:2px;stroke-linecap:butt;stroke-linejoin:miter;stroke-opacity:1\"/>\n",
       "<path d=\"M 134.499,118.069 107.773,128.822\" style=\"fill:none;fill-rule:evenodd;stroke:#000000;stroke-width:2px;stroke-linecap:butt;stroke-linejoin:miter;stroke-opacity:1\"/>\n",
       "<path d=\"M 132.374,124.366 113.666,131.893\" style=\"fill:none;fill-rule:evenodd;stroke:#000000;stroke-width:2px;stroke-linecap:butt;stroke-linejoin:miter;stroke-opacity:1\"/>\n",
       "<path d=\"M 134.499,118.069 141.595,145.224\" style=\"fill:none;fill-rule:evenodd;stroke:#000000;stroke-width:2px;stroke-linecap:butt;stroke-linejoin:miter;stroke-opacity:1\"/>\n",
       "<path d=\"M 107.773,128.822 89.9411,163.695\" style=\"fill:none;fill-rule:evenodd;stroke:#000000;stroke-width:2px;stroke-linecap:butt;stroke-linejoin:miter;stroke-opacity:1\"/>\n",
       "<path d=\"M 128.653,172.724 135.124,158.974\" style=\"fill:none;fill-rule:evenodd;stroke:#0000FF;stroke-width:2px;stroke-linecap:butt;stroke-linejoin:miter;stroke-opacity:1\"/>\n",
       "<path d=\"M 135.124,158.974 141.595,145.224\" style=\"fill:none;fill-rule:evenodd;stroke:#000000;stroke-width:2px;stroke-linecap:butt;stroke-linejoin:miter;stroke-opacity:1\"/>\n",
       "<path d=\"M 122.981,165.016 127.511,155.391\" style=\"fill:none;fill-rule:evenodd;stroke:#0000FF;stroke-width:2px;stroke-linecap:butt;stroke-linejoin:miter;stroke-opacity:1\"/>\n",
       "<path d=\"M 127.511,155.391 132.04,145.766\" style=\"fill:none;fill-rule:evenodd;stroke:#000000;stroke-width:2px;stroke-linecap:butt;stroke-linejoin:miter;stroke-opacity:1\"/>\n",
       "<path d=\"M 119.275,181.758 109.603,184.978\" style=\"fill:none;fill-rule:evenodd;stroke:#0000FF;stroke-width:2px;stroke-linecap:butt;stroke-linejoin:miter;stroke-opacity:1\"/>\n",
       "<path d=\"M 109.603,184.978 99.9313,188.197\" style=\"fill:none;fill-rule:evenodd;stroke:#000000;stroke-width:2px;stroke-linecap:butt;stroke-linejoin:miter;stroke-opacity:1\"/>\n",
       "<path d=\"M 162.339,13.4954 171.264,15.8143\" style=\"fill:none;fill-rule:evenodd;stroke:#0000FF;stroke-width:2px;stroke-linecap:butt;stroke-linejoin:miter;stroke-opacity:1\"/>\n",
       "<path d=\"M 171.264,15.8143 180.19,18.1332\" style=\"fill:none;fill-rule:evenodd;stroke:#000000;stroke-width:2px;stroke-linecap:butt;stroke-linejoin:miter;stroke-opacity:1\"/>\n",
       "<path d=\"M 150.978,17.575 149.353,15.1097\" style=\"fill:none;fill-rule:evenodd;stroke:#0000FF;stroke-width:2px;stroke-linecap:butt;stroke-linejoin:miter;stroke-opacity:1\"/>\n",
       "<path d=\"M 149.353,15.1097 147.728,12.6444\" style=\"fill:none;fill-rule:evenodd;stroke:#000000;stroke-width:2px;stroke-linecap:butt;stroke-linejoin:miter;stroke-opacity:1\"/>\n",
       "<path d=\"M 34.3582,152.9 10.095,159.309\" style=\"fill:none;fill-rule:evenodd;stroke:#000000;stroke-width:2px;stroke-linecap:butt;stroke-linejoin:miter;stroke-opacity:1\"/>\n",
       "<path d=\"M 32.0079,158.743 15.0237,163.229\" style=\"fill:none;fill-rule:evenodd;stroke:#000000;stroke-width:2px;stroke-linecap:butt;stroke-linejoin:miter;stroke-opacity:1\"/>\n",
       "<path d=\"M 34.3582,152.9 46.2444,161.792\" style=\"fill:none;fill-rule:evenodd;stroke:#000000;stroke-width:2px;stroke-linecap:butt;stroke-linejoin:miter;stroke-opacity:1\"/>\n",
       "<path d=\"M 46.2444,161.792 58.1307,170.683\" style=\"fill:none;fill-rule:evenodd;stroke:#FF0000;stroke-width:2px;stroke-linecap:butt;stroke-linejoin:miter;stroke-opacity:1\"/>\n",
       "<path d=\"M 10.095,159.309 12.2462,190.909\" style=\"fill:none;fill-rule:evenodd;stroke:#000000;stroke-width:2px;stroke-linecap:butt;stroke-linejoin:miter;stroke-opacity:1\"/>\n",
       "<path d=\"M 89.9411,163.695 99.9313,188.197\" style=\"fill:none;fill-rule:evenodd;stroke:#000000;stroke-width:2px;stroke-linecap:butt;stroke-linejoin:miter;stroke-opacity:1\"/>\n",
       "<path d=\"M 96.1143,165.465 103.107,182.616\" style=\"fill:none;fill-rule:evenodd;stroke:#000000;stroke-width:2px;stroke-linecap:butt;stroke-linejoin:miter;stroke-opacity:1\"/>\n",
       "<path d=\"M 89.9411,163.695 80.5846,168.098\" style=\"fill:none;fill-rule:evenodd;stroke:#000000;stroke-width:2px;stroke-linecap:butt;stroke-linejoin:miter;stroke-opacity:1\"/>\n",
       "<path d=\"M 80.5846,168.098 71.2281,172.5\" style=\"fill:none;fill-rule:evenodd;stroke:#FF0000;stroke-width:2px;stroke-linecap:butt;stroke-linejoin:miter;stroke-opacity:1\"/>\n",
       "<path d=\"M 189.905,78.6158 187.207,60.1274\" style=\"fill:none;fill-rule:evenodd;stroke:#000000;stroke-width:2px;stroke-linecap:butt;stroke-linejoin:miter;stroke-opacity:1\"/>\n",
       "<path d=\"M 136.72,52.2744 147.728,12.6444\" style=\"fill:none;fill-rule:evenodd;stroke:#000000;stroke-width:2px;stroke-linecap:butt;stroke-linejoin:miter;stroke-opacity:1\"/>\n",
       "<path d=\"M 187.207,60.1274 180.19,18.1332\" style=\"fill:none;fill-rule:evenodd;stroke:#000000;stroke-width:2px;stroke-linecap:butt;stroke-linejoin:miter;stroke-opacity:1\"/>\n",
       "<text style=\"font-size:14px;font-style:normal;font-weight:normal;fill-opacity:1;stroke:none;font-family:sans-serif;text-anchor:start;fill:#0000FF\" x=\"146.256\" y=\"90.3085\"><tspan>N</tspan></text>\n",
       "<text style=\"font-size:14px;font-style:normal;font-weight:normal;fill-opacity:1;stroke:none;font-family:sans-serif;text-anchor:start;fill:#0000FF\" x=\"119.275\" y=\"186.747\"><tspan>N</tspan></text>\n",
       "<text style=\"font-size:14px;font-style:normal;font-weight:normal;fill-opacity:1;stroke:none;font-family:sans-serif;text-anchor:start;fill:#0000FF\" x=\"128.434\" y=\"17.575\"><tspan>NH</tspan><tspan style=\"baseline-shift:sub;font-size:10.5px;\">2</tspan><tspan/><tspan style=\"baseline-shift:super;font-size:10.5px;\">+</tspan><tspan/></text>\n",
       "<text style=\"font-size:14px;font-style:normal;font-weight:normal;fill-opacity:1;stroke:none;font-family:sans-serif;text-anchor:start;fill:#FF0000\" x=\"58.1307\" y=\"182.593\"><tspan>O</tspan></text>\n",
       "</g>\n",
       "<g transform=\"translate(200,400)\"><rect height=\"200\" style=\"opacity:1.0;fill:#FFFFFF;stroke:none\" width=\"200\" x=\"0\" y=\"0\"> </rect>\n",
       "<path d=\"M 143.971,101.824 158.357,100.504\" style=\"fill:none;fill-rule:evenodd;stroke:#0000FF;stroke-width:2px;stroke-linecap:butt;stroke-linejoin:miter;stroke-opacity:1\"/>\n",
       "<path d=\"M 158.357,100.504 172.744,99.1832\" style=\"fill:none;fill-rule:evenodd;stroke:#000000;stroke-width:2px;stroke-linecap:butt;stroke-linejoin:miter;stroke-opacity:1\"/>\n",
       "<path d=\"M 136.654,108.535 135.139,113.414\" style=\"fill:none;fill-rule:evenodd;stroke:#0000FF;stroke-width:2px;stroke-linecap:butt;stroke-linejoin:miter;stroke-opacity:1\"/>\n",
       "<path d=\"M 135.139,113.414 133.625,118.294\" style=\"fill:none;fill-rule:evenodd;stroke:#000000;stroke-width:2px;stroke-linecap:butt;stroke-linejoin:miter;stroke-opacity:1\"/>\n",
       "<path d=\"M 133.195,98.9424 122.809,92.4341\" style=\"fill:none;fill-rule:evenodd;stroke:#0000FF;stroke-width:2px;stroke-linecap:butt;stroke-linejoin:miter;stroke-opacity:1\"/>\n",
       "<path d=\"M 122.809,92.4341 112.424,85.9258\" style=\"fill:none;fill-rule:evenodd;stroke:#000000;stroke-width:2px;stroke-linecap:butt;stroke-linejoin:miter;stroke-opacity:1\"/>\n",
       "<path d=\"M 133.625,118.294 157.94,146.629\" style=\"fill:none;fill-rule:evenodd;stroke:#000000;stroke-width:2px;stroke-linecap:butt;stroke-linejoin:miter;stroke-opacity:1\"/>\n",
       "<path d=\"M 157.94,146.629 159.616,153.988\" style=\"fill:none;fill-rule:evenodd;stroke:#000000;stroke-width:2px;stroke-linecap:butt;stroke-linejoin:miter;stroke-opacity:1\"/>\n",
       "<path d=\"M 159.616,153.988 161.292,161.348\" style=\"fill:none;fill-rule:evenodd;stroke:#0000FF;stroke-width:2px;stroke-linecap:butt;stroke-linejoin:miter;stroke-opacity:1\"/>\n",
       "<path d=\"M 178.033,163.937 184.471,161.825\" style=\"fill:none;fill-rule:evenodd;stroke:#0000FF;stroke-width:2px;stroke-linecap:butt;stroke-linejoin:miter;stroke-opacity:1\"/>\n",
       "<path d=\"M 184.471,161.825 190.909,159.712\" style=\"fill:none;fill-rule:evenodd;stroke:#000000;stroke-width:2px;stroke-linecap:butt;stroke-linejoin:miter;stroke-opacity:1\"/>\n",
       "<path d=\"M 190.909,159.712 182.361,129.952\" style=\"fill:none;fill-rule:evenodd;stroke:#000000;stroke-width:2px;stroke-linecap:butt;stroke-linejoin:miter;stroke-opacity:1\"/>\n",
       "<path d=\"M 182.361,129.952 172.744,99.1832\" style=\"fill:none;fill-rule:evenodd;stroke:#000000;stroke-width:2px;stroke-linecap:butt;stroke-linejoin:miter;stroke-opacity:1\"/>\n",
       "<path d=\"M 112.424,85.9258 83.6312,76.0921\" style=\"fill:none;fill-rule:evenodd;stroke:#000000;stroke-width:2px;stroke-linecap:butt;stroke-linejoin:miter;stroke-opacity:1\"/>\n",
       "<path d=\"M 110.516,77.3919 90.3609,70.5083\" style=\"fill:none;fill-rule:evenodd;stroke:#000000;stroke-width:2px;stroke-linecap:butt;stroke-linejoin:miter;stroke-opacity:1\"/>\n",
       "<path d=\"M 112.424,85.9258 112.513,78.1085\" style=\"fill:none;fill-rule:evenodd;stroke:#000000;stroke-width:2px;stroke-linecap:butt;stroke-linejoin:miter;stroke-opacity:1\"/>\n",
       "<path d=\"M 83.6312,76.0921 57.5017,59.7068\" style=\"fill:none;fill-rule:evenodd;stroke:#000000;stroke-width:2px;stroke-linecap:butt;stroke-linejoin:miter;stroke-opacity:1\"/>\n",
       "<path d=\"M 93.2233,65.7281 102.868,71.9183\" style=\"fill:none;fill-rule:evenodd;stroke:#0000FF;stroke-width:2px;stroke-linecap:butt;stroke-linejoin:miter;stroke-opacity:1\"/>\n",
       "<path d=\"M 102.868,71.9183 112.513,78.1085\" style=\"fill:none;fill-rule:evenodd;stroke:#000000;stroke-width:2px;stroke-linecap:butt;stroke-linejoin:miter;stroke-opacity:1\"/>\n",
       "<path d=\"M 93.6994,71.3517 100.451,75.6848\" style=\"fill:none;fill-rule:evenodd;stroke:#0000FF;stroke-width:2px;stroke-linecap:butt;stroke-linejoin:miter;stroke-opacity:1\"/>\n",
       "<path d=\"M 100.451,75.6848 107.202,80.018\" style=\"fill:none;fill-rule:evenodd;stroke:#000000;stroke-width:2px;stroke-linecap:butt;stroke-linejoin:miter;stroke-opacity:1\"/>\n",
       "<path d=\"M 82.448,60.4996 71.5499,56.9181\" style=\"fill:none;fill-rule:evenodd;stroke:#0000FF;stroke-width:2px;stroke-linecap:butt;stroke-linejoin:miter;stroke-opacity:1\"/>\n",
       "<path d=\"M 71.5499,56.9181 60.6519,53.3366\" style=\"fill:none;fill-rule:evenodd;stroke:#000000;stroke-width:2px;stroke-linecap:butt;stroke-linejoin:miter;stroke-opacity:1\"/>\n",
       "<path d=\"M 57.5017,59.7068 60.6519,53.3366\" style=\"fill:none;fill-rule:evenodd;stroke:#000000;stroke-width:2px;stroke-linecap:butt;stroke-linejoin:miter;stroke-opacity:1\"/>\n",
       "<path d=\"M 61.9859,60.7352 64.1911,56.2761\" style=\"fill:none;fill-rule:evenodd;stroke:#000000;stroke-width:2px;stroke-linecap:butt;stroke-linejoin:miter;stroke-opacity:1\"/>\n",
       "<path d=\"M 57.5017,59.7068 43.8627,55.2546\" style=\"fill:none;fill-rule:evenodd;stroke:#000000;stroke-width:2px;stroke-linecap:butt;stroke-linejoin:miter;stroke-opacity:1\"/>\n",
       "<path d=\"M 43.8627,55.2546 30.2238,50.8025\" style=\"fill:none;fill-rule:evenodd;stroke:#00CC00;stroke-width:2px;stroke-linecap:butt;stroke-linejoin:miter;stroke-opacity:1\"/>\n",
       "<path d=\"M 60.6519,53.3366 47.253,44.652\" style=\"fill:none;fill-rule:evenodd;stroke:#000000;stroke-width:2px;stroke-linecap:butt;stroke-linejoin:miter;stroke-opacity:1\"/>\n",
       "<path d=\"M 47.253,44.652 33.8541,35.9673\" style=\"fill:none;fill-rule:evenodd;stroke:#7F4C19;stroke-width:2px;stroke-linecap:butt;stroke-linejoin:miter;stroke-opacity:1\"/>\n",
       "<text style=\"font-size:12px;font-style:normal;font-weight:normal;fill-opacity:1;stroke:none;font-family:sans-serif;text-anchor:start;fill:#0000FF\" x=\"133.195\" y=\"108.535\"><tspan>N</tspan></text>\n",
       "<text style=\"font-size:12px;font-style:normal;font-weight:normal;fill-opacity:1;stroke:none;font-family:sans-serif;text-anchor:start;fill:#0000FF\" x=\"147.975\" y=\"176.391\"><tspan>NH</tspan><tspan style=\"baseline-shift:sub;font-size:9px;\">2</tspan><tspan/><tspan style=\"baseline-shift:super;font-size:9px;\">+</tspan><tspan/></text>\n",
       "<text style=\"font-size:12px;font-style:normal;font-weight:normal;fill-opacity:1;stroke:none;font-family:sans-serif;text-anchor:start;fill:#0000FF\" x=\"82.448\" y=\"68.4862\"><tspan>N</tspan></text>\n",
       "<text style=\"font-size:12px;font-style:normal;font-weight:normal;fill-opacity:1;stroke:none;font-family:sans-serif;text-anchor:start;fill:#00CC00\" x=\"16.1352\" y=\"54.719\"><tspan>Cl</tspan></text>\n",
       "<text style=\"font-size:12px;font-style:normal;font-weight:normal;fill-opacity:1;stroke:none;font-family:sans-serif;text-anchor:start;fill:#7F4C19\" x=\"18.9297\" y=\"37.3466\"><tspan>Br</tspan></text>\n",
       "</g>\n",
       "<g transform=\"translate(400,400)\"><rect height=\"200\" style=\"opacity:1.0;fill:#FFFFFF;stroke:none\" width=\"200\" x=\"0\" y=\"0\"> </rect>\n",
       "<path d=\"M 93.2441,190.909 99.0976,165.885\" style=\"fill:none;fill-rule:evenodd;stroke:#000000;stroke-width:2px;stroke-linecap:butt;stroke-linejoin:miter;stroke-opacity:1\"/>\n",
       "<path d=\"M 93.2441,190.909 89.075,186.279\" style=\"fill:none;fill-rule:evenodd;stroke:#000000;stroke-width:2px;stroke-linecap:butt;stroke-linejoin:miter;stroke-opacity:1\"/>\n",
       "<path d=\"M 89.075,186.279 84.9058,181.649\" style=\"fill:none;fill-rule:evenodd;stroke:#0000FF;stroke-width:2px;stroke-linecap:butt;stroke-linejoin:miter;stroke-opacity:1\"/>\n",
       "<path d=\"M 118.591,132.944 127.824,132.687\" style=\"fill:none;fill-rule:evenodd;stroke:#0000FF;stroke-width:2px;stroke-linecap:butt;stroke-linejoin:miter;stroke-opacity:1\"/>\n",
       "<path d=\"M 127.824,132.687 137.056,132.43\" style=\"fill:none;fill-rule:evenodd;stroke:#000000;stroke-width:2px;stroke-linecap:butt;stroke-linejoin:miter;stroke-opacity:1\"/>\n",
       "<path d=\"M 110.478,139.357 104.788,152.621\" style=\"fill:none;fill-rule:evenodd;stroke:#0000FF;stroke-width:2px;stroke-linecap:butt;stroke-linejoin:miter;stroke-opacity:1\"/>\n",
       "<path d=\"M 104.788,152.621 99.0976,165.885\" style=\"fill:none;fill-rule:evenodd;stroke:#000000;stroke-width:2px;stroke-linecap:butt;stroke-linejoin:miter;stroke-opacity:1\"/>\n",
       "<path d=\"M 112.074,126.834 110.147,115.763\" style=\"fill:none;fill-rule:evenodd;stroke:#0000FF;stroke-width:2px;stroke-linecap:butt;stroke-linejoin:miter;stroke-opacity:1\"/>\n",
       "<path d=\"M 110.147,115.763 108.22,104.693\" style=\"fill:none;fill-rule:evenodd;stroke:#000000;stroke-width:2px;stroke-linecap:butt;stroke-linejoin:miter;stroke-opacity:1\"/>\n",
       "<path d=\"M 137.056,132.43 118.672,128.535\" style=\"fill:none;fill-rule:evenodd;stroke:#000000;stroke-width:2px;stroke-linecap:butt;stroke-linejoin:miter;stroke-opacity:1\"/>\n",
       "<path d=\"M 118.672,128.535 102.141,160.617\" style=\"fill:none;fill-rule:evenodd;stroke:#000000;stroke-width:2px;stroke-linecap:butt;stroke-linejoin:miter;stroke-opacity:1\"/>\n",
       "<path d=\"M 102.141,160.617 96.8855,163.557\" style=\"fill:none;fill-rule:evenodd;stroke:#000000;stroke-width:2px;stroke-linecap:butt;stroke-linejoin:miter;stroke-opacity:1\"/>\n",
       "<path d=\"M 96.8855,163.557 91.6301,166.496\" style=\"fill:none;fill-rule:evenodd;stroke:#0000FF;stroke-width:2px;stroke-linecap:butt;stroke-linejoin:miter;stroke-opacity:1\"/>\n",
       "<path d=\"M 98.5465,46.8867 93.0838,77.6594\" style=\"fill:none;fill-rule:evenodd;stroke:#000000;stroke-width:2px;stroke-linecap:butt;stroke-linejoin:miter;stroke-opacity:1\"/>\n",
       "<path d=\"M 105.126,52.816 101.302,74.3568\" style=\"fill:none;fill-rule:evenodd;stroke:#000000;stroke-width:2px;stroke-linecap:butt;stroke-linejoin:miter;stroke-opacity:1\"/>\n",
       "<path d=\"M 98.5465,46.8867 100.738,46.0502\" style=\"fill:none;fill-rule:evenodd;stroke:#000000;stroke-width:2px;stroke-linecap:butt;stroke-linejoin:miter;stroke-opacity:1\"/>\n",
       "<path d=\"M 100.738,46.0502 102.93,45.2137\" style=\"fill:none;fill-rule:evenodd;stroke:#0000FF;stroke-width:2px;stroke-linecap:butt;stroke-linejoin:miter;stroke-opacity:1\"/>\n",
       "<path d=\"M 98.5465,46.8867 96.4892,31.1197\" style=\"fill:none;fill-rule:evenodd;stroke:#000000;stroke-width:2px;stroke-linecap:butt;stroke-linejoin:miter;stroke-opacity:1\"/>\n",
       "<path d=\"M 96.4892,31.1197 94.4319,15.3526\" style=\"fill:none;fill-rule:evenodd;stroke:#00CC00;stroke-width:2px;stroke-linecap:butt;stroke-linejoin:miter;stroke-opacity:1\"/>\n",
       "<path d=\"M 109.316,49.4039 111.044,60.6813\" style=\"fill:none;fill-rule:evenodd;stroke:#0000FF;stroke-width:2px;stroke-linecap:butt;stroke-linejoin:miter;stroke-opacity:1\"/>\n",
       "<path d=\"M 111.044,60.6813 112.771,71.9587\" style=\"fill:none;fill-rule:evenodd;stroke:#000000;stroke-width:2px;stroke-linecap:butt;stroke-linejoin:miter;stroke-opacity:1\"/>\n",
       "<path d=\"M 105.378,53.4697 106.587,61.3638\" style=\"fill:none;fill-rule:evenodd;stroke:#0000FF;stroke-width:2px;stroke-linecap:butt;stroke-linejoin:miter;stroke-opacity:1\"/>\n",
       "<path d=\"M 106.587,61.3638 107.796,69.258\" style=\"fill:none;fill-rule:evenodd;stroke:#000000;stroke-width:2px;stroke-linecap:butt;stroke-linejoin:miter;stroke-opacity:1\"/>\n",
       "<path d=\"M 108.22,104.693 98.0356,106.544\" style=\"fill:none;fill-rule:evenodd;stroke:#000000;stroke-width:2px;stroke-linecap:butt;stroke-linejoin:miter;stroke-opacity:1\"/>\n",
       "<path d=\"M 105.886,100.534 98.757,101.83\" style=\"fill:none;fill-rule:evenodd;stroke:#000000;stroke-width:2px;stroke-linecap:butt;stroke-linejoin:miter;stroke-opacity:1\"/>\n",
       "<path d=\"M 108.22,104.693 112.771,71.9587\" style=\"fill:none;fill-rule:evenodd;stroke:#000000;stroke-width:2px;stroke-linecap:butt;stroke-linejoin:miter;stroke-opacity:1\"/>\n",
       "<path d=\"M 98.0356,106.544 93.0838,77.6594\" style=\"fill:none;fill-rule:evenodd;stroke:#000000;stroke-width:2px;stroke-linecap:butt;stroke-linejoin:miter;stroke-opacity:1\"/>\n",
       "<path d=\"M 93.0838,77.6594 90.0396,78.7511\" style=\"fill:none;fill-rule:evenodd;stroke:#000000;stroke-width:2px;stroke-linecap:butt;stroke-linejoin:miter;stroke-opacity:1\"/>\n",
       "<path d=\"M 90.0396,78.7511 86.9954,79.8428\" style=\"fill:none;fill-rule:evenodd;stroke:#7F4C19;stroke-width:2px;stroke-linecap:butt;stroke-linejoin:miter;stroke-opacity:1\"/>\n",
       "<text style=\"font-size:12px;font-style:normal;font-weight:normal;fill-opacity:1;stroke:none;font-family:sans-serif;text-anchor:start;fill:#0000FF\" x=\"107.737\" y=\"139.357\"><tspan>N</tspan></text>\n",
       "<text style=\"font-size:12px;font-style:normal;font-weight:normal;fill-opacity:1;stroke:none;font-family:sans-serif;text-anchor:start;fill:#0000FF\" x=\"62.9438\" y=\"181.649\"><tspan>NH</tspan><tspan style=\"baseline-shift:sub;font-size:9px;\">2</tspan><tspan/><tspan style=\"baseline-shift:super;font-size:9px;\">+</tspan><tspan/></text>\n",
       "<text style=\"font-size:12px;font-style:normal;font-weight:normal;fill-opacity:1;stroke:none;font-family:sans-serif;text-anchor:start;fill:#0000FF\" x=\"102.93\" y=\"49.4039\"><tspan>N</tspan></text>\n",
       "<text style=\"font-size:12px;font-style:normal;font-weight:normal;fill-opacity:1;stroke:none;font-family:sans-serif;text-anchor:start;fill:#7F4C19\" x=\"71.9612\" y=\"88.8003\"><tspan>Br</tspan></text>\n",
       "<text style=\"font-size:12px;font-style:normal;font-weight:normal;fill-opacity:1;stroke:none;font-family:sans-serif;text-anchor:start;fill:#00CC00\" x=\"86.5187\" y=\"15.3526\"><tspan>Cl</tspan></text>\n",
       "</g>\n",
       "<g transform=\"translate(600,400)\"><rect height=\"200\" style=\"opacity:1.0;fill:#FFFFFF;stroke:none\" width=\"200\" x=\"0\" y=\"0\"> </rect>\n",
       "<path d=\"M 70.9118,96.881 84.6995,119.573\" style=\"fill:none;fill-rule:evenodd;stroke:#000000;stroke-width:2px;stroke-linecap:butt;stroke-linejoin:miter;stroke-opacity:1\"/>\n",
       "<path d=\"M 77.4537,97.5667 87.105,113.451\" style=\"fill:none;fill-rule:evenodd;stroke:#000000;stroke-width:2px;stroke-linecap:butt;stroke-linejoin:miter;stroke-opacity:1\"/>\n",
       "<path d=\"M 70.9118,96.881 93.8922,66.3713\" style=\"fill:none;fill-rule:evenodd;stroke:#000000;stroke-width:2px;stroke-linecap:butt;stroke-linejoin:miter;stroke-opacity:1\"/>\n",
       "<path d=\"M 70.9118,96.881 59.6394,99.9801\" style=\"fill:none;fill-rule:evenodd;stroke:#000000;stroke-width:2px;stroke-linecap:butt;stroke-linejoin:miter;stroke-opacity:1\"/>\n",
       "<path d=\"M 59.6394,99.9801 48.367,103.079\" style=\"fill:none;fill-rule:evenodd;stroke:#FF0000;stroke-width:2px;stroke-linecap:butt;stroke-linejoin:miter;stroke-opacity:1\"/>\n",
       "<path d=\"M 93.8922,66.3713 108.329,62.855\" style=\"fill:none;fill-rule:evenodd;stroke:#000000;stroke-width:2px;stroke-linecap:butt;stroke-linejoin:miter;stroke-opacity:1\"/>\n",
       "<path d=\"M 108.329,62.855 122.765,59.3387\" style=\"fill:none;fill-rule:evenodd;stroke:#0000FF;stroke-width:2px;stroke-linecap:butt;stroke-linejoin:miter;stroke-opacity:1\"/>\n",
       "<path d=\"M 100.288,73.7931 110.393,71.3317\" style=\"fill:none;fill-rule:evenodd;stroke:#000000;stroke-width:2px;stroke-linecap:butt;stroke-linejoin:miter;stroke-opacity:1\"/>\n",
       "<path d=\"M 110.393,71.3317 120.499,68.8703\" style=\"fill:none;fill-rule:evenodd;stroke:#0000FF;stroke-width:2px;stroke-linecap:butt;stroke-linejoin:miter;stroke-opacity:1\"/>\n",
       "<path d=\"M 93.8922,66.3713 85.6655,50.9531\" style=\"fill:none;fill-rule:evenodd;stroke:#000000;stroke-width:2px;stroke-linecap:butt;stroke-linejoin:miter;stroke-opacity:1\"/>\n",
       "<path d=\"M 85.6655,50.9531 77.4387,35.5349\" style=\"fill:none;fill-rule:evenodd;stroke:#A01EEF;stroke-width:2px;stroke-linecap:butt;stroke-linejoin:miter;stroke-opacity:1\"/>\n",
       "<path d=\"M 132.925,65.0742 137.085,72.9147\" style=\"fill:none;fill-rule:evenodd;stroke:#0000FF;stroke-width:2px;stroke-linecap:butt;stroke-linejoin:miter;stroke-opacity:1\"/>\n",
       "<path d=\"M 137.085,72.9147 141.246,80.7551\" style=\"fill:none;fill-rule:evenodd;stroke:#000000;stroke-width:2px;stroke-linecap:butt;stroke-linejoin:miter;stroke-opacity:1\"/>\n",
       "<path d=\"M 141.246,80.7551 120.941,112.265\" style=\"fill:none;fill-rule:evenodd;stroke:#000000;stroke-width:2px;stroke-linecap:butt;stroke-linejoin:miter;stroke-opacity:1\"/>\n",
       "<path d=\"M 130.867,80.7558 116.653,102.813\" style=\"fill:none;fill-rule:evenodd;stroke:#000000;stroke-width:2px;stroke-linecap:butt;stroke-linejoin:miter;stroke-opacity:1\"/>\n",
       "<path d=\"M 120.941,112.265 84.6995,119.573\" style=\"fill:none;fill-rule:evenodd;stroke:#000000;stroke-width:2px;stroke-linecap:butt;stroke-linejoin:miter;stroke-opacity:1\"/>\n",
       "<path d=\"M 120.941,112.265 125.743,119.716\" style=\"fill:none;fill-rule:evenodd;stroke:#000000;stroke-width:2px;stroke-linecap:butt;stroke-linejoin:miter;stroke-opacity:1\"/>\n",
       "<path d=\"M 125.743,119.716 130.544,127.167\" style=\"fill:none;fill-rule:evenodd;stroke:#0000FF;stroke-width:2px;stroke-linecap:butt;stroke-linejoin:miter;stroke-opacity:1\"/>\n",
       "<path d=\"M 141.531,135.004 159.485,136.618\" style=\"fill:none;fill-rule:evenodd;stroke:#0000FF;stroke-width:2px;stroke-linecap:butt;stroke-linejoin:miter;stroke-opacity:1\"/>\n",
       "<path d=\"M 159.485,136.618 177.438,138.232\" style=\"fill:none;fill-rule:evenodd;stroke:#000000;stroke-width:2px;stroke-linecap:butt;stroke-linejoin:miter;stroke-opacity:1\"/>\n",
       "<path d=\"M 128.927,140.447 118.83,150.077\" style=\"fill:none;fill-rule:evenodd;stroke:#0000FF;stroke-width:2px;stroke-linecap:butt;stroke-linejoin:miter;stroke-opacity:1\"/>\n",
       "<path d=\"M 118.83,150.077 108.733,159.706\" style=\"fill:none;fill-rule:evenodd;stroke:#000000;stroke-width:2px;stroke-linecap:butt;stroke-linejoin:miter;stroke-opacity:1\"/>\n",
       "<path d=\"M 108.733,159.706 122.657,169.013\" style=\"fill:none;fill-rule:evenodd;stroke:#000000;stroke-width:2px;stroke-linecap:butt;stroke-linejoin:miter;stroke-opacity:1\"/>\n",
       "<path d=\"M 122.657,169.013 128.718,155.668\" style=\"fill:none;fill-rule:evenodd;stroke:#000000;stroke-width:2px;stroke-linecap:butt;stroke-linejoin:miter;stroke-opacity:1\"/>\n",
       "<path d=\"M 128.718,155.668 134.779,142.324\" style=\"fill:none;fill-rule:evenodd;stroke:#0000FF;stroke-width:2px;stroke-linecap:butt;stroke-linejoin:miter;stroke-opacity:1\"/>\n",
       "<path d=\"M 177.438,138.232 190.909,111.544\" style=\"fill:none;fill-rule:evenodd;stroke:#000000;stroke-width:2px;stroke-linecap:butt;stroke-linejoin:miter;stroke-opacity:1\"/>\n",
       "<path d=\"M 156.352,130.722 168.767,128.741\" style=\"fill:none;fill-rule:evenodd;stroke:#0000FF;stroke-width:2px;stroke-linecap:butt;stroke-linejoin:miter;stroke-opacity:1\"/>\n",
       "<path d=\"M 168.767,128.741 181.181,126.76\" style=\"fill:none;fill-rule:evenodd;stroke:#000000;stroke-width:2px;stroke-linecap:butt;stroke-linejoin:miter;stroke-opacity:1\"/>\n",
       "<path d=\"M 190.909,111.544 181.181,126.76\" style=\"fill:none;fill-rule:evenodd;stroke:#000000;stroke-width:2px;stroke-linecap:butt;stroke-linejoin:miter;stroke-opacity:1\"/>\n",
       "<text style=\"font-size:14px;font-style:normal;font-weight:normal;fill-opacity:1;stroke:none;font-family:sans-serif;text-anchor:start;fill:#0000FF\" x=\"122.765\" y=\"65.0742\"><tspan>N</tspan></text>\n",
       "<text style=\"font-size:14px;font-style:normal;font-weight:normal;fill-opacity:1;stroke:none;font-family:sans-serif;text-anchor:start;fill:#0000FF\" x=\"128.927\" y=\"141.708\"><tspan>N</tspan></text>\n",
       "<text style=\"font-size:14px;font-style:normal;font-weight:normal;fill-opacity:1;stroke:none;font-family:sans-serif;text-anchor:start;fill:#0000FF\" x=\"121.196\" y=\"142.324\"><tspan>NH</tspan><tspan style=\"baseline-shift:sub;font-size:10.5px;\">2</tspan><tspan/><tspan style=\"baseline-shift:super;font-size:10.5px;\">+</tspan><tspan/></text>\n",
       "<text style=\"font-size:14px;font-style:normal;font-weight:normal;fill-opacity:1;stroke:none;font-family:sans-serif;text-anchor:start;fill:#A01EEF\" x=\"72.586\" y=\"38.2579\"><tspan>I</tspan></text>\n",
       "<text style=\"font-size:14px;font-style:normal;font-weight:normal;fill-opacity:1;stroke:none;font-family:sans-serif;text-anchor:start;fill:#FF0000\" x=\"22.183\" y=\"113.949\"><tspan>HO</tspan></text>\n",
       "</g></svg>"
      ],
      "text/plain": [
       "<IPython.core.display.SVG object>"
      ]
     },
     "execution_count": 10,
     "metadata": {},
     "output_type": "execute_result"
    }
   ],
   "source": [
    "Draw.MolsToGridImage([Chem.RemoveHs(x) for x in ms[:12]],molsPerRow=4)"
   ]
  },
  {
   "cell_type": "markdown",
   "metadata": {},
   "source": [
    "Pick two of those molecules and generate new conformations for them, then display them to demonstrate that they really aren't aligned:"
   ]
  },
  {
   "cell_type": "code",
   "execution_count": 11,
   "metadata": {
    "collapsed": false
   },
   "outputs": [
    {
     "data": {
      "text/html": [
       "<div id=\"3dmolviewer_1471285498549474\"  style=\"position: relative; width: 400px; height: 400px\">\n",
       "<script>\n",
       "if(typeof $3Dmolpromise === 'undefined') $3Dmolpromise = $.when($.getScript('http://3dmol.csb.pitt.edu/build/3Dmol.js'))\n",
       "$3Dmolpromise.done(function() {\n",
       "var viewer = $3Dmol.createViewer($(\"#3dmolviewer_1471285498549474\"),{backgroundColor:\"white\"});\n",
       "\tviewer.addModel(\"t01\\n     RDKit          3D\\n\\n 30 31  0  0  0  0  0  0  0  0999 V2000\\n   -0.7298   -0.1832    0.4795 N   0  0  0  0  0  0  0  0  0  0  0  0\\n    0.4504   -0.8736    0.0855 C   0  0  0  0  0  0  0  0  0  0  0  0\\n    1.6395   -0.1976   -0.1356 C   0  0  0  0  0  0  0  0  0  0  0  0\\n    1.6664    0.8707    0.0533 H   0  0  0  0  0  0  0  0  0  0  0  0\\n    1.6012   -2.8594   -0.5885 N   0  0  0  0  0  0  0  0  0  0  0  0\\n   -2.9449    0.8368   -0.5636 N   0  0  0  0  0  0  0  0  0  0  0  0\\n   -2.5731    0.8955   -1.5223 H   0  0  0  0  0  0  0  0  0  0  0  0\\n   -3.9257    1.1956   -0.5827 H   0  0  0  0  0  0  0  0  0  0  0  0\\n    2.7846   -0.8306   -0.5725 C   0  0  0  0  0  0  0  0  0  0  0  0\\n    0.4688   -2.2286   -0.1568 C   0  0  0  0  0  0  0  0  0  0  0  0\\n   -0.3979   -2.8383   -0.0426 H   0  0  0  0  0  0  0  0  0  0  0  0\\n   -0.7743    1.2764    0.5277 C   0  0  0  0  0  0  0  0  0  0  0  0\\n   -0.1393    1.7542   -0.2255 H   0  0  0  0  0  0  0  0  0  0  0  0\\n   -0.4524    1.5617    1.5450 H   0  0  0  0  0  0  0  0  0  0  0  0\\n   -1.9424   -0.8451    0.9076 C   0  0  0  0  0  0  0  0  0  0  0  0\\n   -1.7776   -1.9135    1.0664 H   0  0  0  0  0  0  0  0  0  0  0  0\\n   -2.2799   -0.3900    1.8877 H   0  0  0  0  0  0  0  0  0  0  0  0\\n    2.7499   -2.1914   -0.7992 C   0  0  0  0  0  0  0  0  0  0  0  0\\n    3.6626   -2.6608   -1.1405 H   0  0  0  0  0  0  0  0  0  0  0  0\\n    3.9665   -0.1382   -0.7893 O   0  0  0  0  0  0  0  0  0  0  0  0\\n   -3.0120   -0.5393   -0.1185 C   0  0  0  0  0  0  0  0  0  0  0  0\\n   -2.8133   -1.1849   -0.9974 H   0  0  0  0  0  0  0  0  0  0  0  0\\n   -3.9965   -0.7814    0.3200 H   0  0  0  0  0  0  0  0  0  0  0  0\\n   -2.2269    1.6778    0.3715 C   0  0  0  0  0  0  0  0  0  0  0  0\\n   -2.2320    2.7024   -0.0557 H   0  0  0  0  0  0  0  0  0  0  0  0\\n   -2.7423    1.7137    1.3420 H   0  0  0  0  0  0  0  0  0  0  0  0\\n    3.9792    1.2495   -0.5515 C   0  0  0  0  0  0  0  0  0  0  0  0\\n    3.7011    1.4464    0.5079 H   0  0  0  0  0  0  0  0  0  0  0  0\\n    3.2838    1.8156   -1.1786 H   0  0  0  0  0  0  0  0  0  0  0  0\\n    5.0063    1.6597   -0.7475 H   0  0  0  0  0  0  0  0  0  0  0  0\\n  1 12  1  0\\n  1 15  1  0\\n  1  2  1  0\\n  2  3  2  0\\n  2 10  1  0\\n  3  4  1  0\\n  3  9  1  0\\n  5 10  2  0\\n  5 18  1  0\\n  6  7  1  0\\n  6  8  1  0\\n  6 21  1  0\\n  6 24  1  0\\n  9 18  2  0\\n  9 20  1  0\\n 10 11  1  0\\n 12 13  1  0\\n 12 14  1  0\\n 12 24  1  0\\n 15 16  1  0\\n 15 17  1  0\\n 15 21  1  0\\n 18 19  1  0\\n 20 27  1  0\\n 21 22  1  0\\n 21 23  1  0\\n 24 25  1  0\\n 24 26  1  0\\n 27 28  1  0\\n 27 29  1  0\\n 27 30  1  0\\nM  CHG  1   6   1\\nM  END\\n\",\"sdf\");\n",
       "\tviewer.addModel(\"t11\\n     RDKit          3D\\n\\n 29 30  0  0  1  0  0  0  0  0999 V2000\\n   -1.8978   -0.1326   -1.3353 C   0  0  0  0  0  0  0  0  0  0  0  0\\n   -2.2106    0.0079   -2.3966 H   0  0  0  0  0  0  0  0  0  0  0  0\\n   -1.7495   -1.2035   -1.1539 H   0  0  0  0  0  0  0  0  0  0  0  0\\n    0.1222    0.0009   -0.0351 N   0  0  0  0  0  0  0  0  0  0  0  0\\n   -0.4477   -0.7290    1.0785 C   0  0  0  0  0  0  0  0  0  0  0  0\\n   -0.7117   -1.7620    0.8356 H   0  0  0  0  0  0  0  0  0  0  0  0\\n    0.2907   -0.7842    1.9244 H   0  0  0  0  0  0  0  0  0  0  0  0\\n   -1.6056    0.0915    1.5977 C   0  0  0  0  0  0  0  0  0  0  0  0\\n   -1.7693   -0.2039    2.6539 H   0  0  0  0  0  0  0  0  0  0  0  0\\n   -1.2760    1.1472    1.5954 H   0  0  0  0  0  0  0  0  0  0  0  0\\n   -2.8761   -0.0795    0.8577 C   0  0  0  0  0  0  0  0  0  0  0  0\\n   -3.1612   -1.1407    0.7842 H   0  0  0  0  0  0  0  0  0  0  0  0\\n   -3.6776    0.4351    1.4170 H   0  0  0  0  0  0  0  0  0  0  0  0\\n   -2.8640    0.4758   -0.4755 N   0  0  0  0  0  0  0  0  0  0  0  0\\n   -2.6974    1.5062   -0.4782 H   0  0  0  0  0  0  0  0  0  0  0  0\\n   -3.8119    0.3024   -0.8816 H   0  0  0  0  0  0  0  0  0  0  0  0\\n   -0.5816    0.6352   -1.1296 C   0  0  0  0  0  0  0  0  0  0  0  0\\n    0.0173    0.4792   -2.0525 H   0  0  0  0  0  0  0  0  0  0  0  0\\n   -0.7816    1.7061   -0.9163 H   0  0  0  0  0  0  0  0  0  0  0  0\\n    4.2642    0.2443   -0.2454 C   0  0  0  0  0  0  0  0  0  0  0  0\\n    3.4730    1.0785   -0.9422 N   0  0  0  0  0  0  0  0  0  0  0  0\\n    1.5390    0.0298   -0.1579 C   0  0  0  0  0  0  0  0  0  0  0  0\\n    2.3265   -0.8453    0.5696 C   0  0  0  0  0  0  0  0  0  0  0  0\\n    1.9178   -1.6582    1.1523 H   0  0  0  0  0  0  0  0  0  0  0  0\\n    2.1397    1.0143   -0.9307 C   0  0  0  0  0  0  0  0  0  0  0  0\\n    1.4981    1.6988   -1.4554 H   0  0  0  0  0  0  0  0  0  0  0  0\\n    3.6996   -0.7443    0.5332 C   0  0  0  0  0  0  0  0  0  0  0  0\\n    4.8067   -1.9512    1.5427 Br  0  0  0  0  0  0  0  0  0  0  0  0\\n    6.0249    0.3811   -0.3003 Cl  0  0  0  0  0  0  0  0  0  0  0  0\\n  1  2  1  0\\n  1  3  1  0\\n  1 17  1  0\\n  1 14  1  0\\n  4  5  1  0\\n  4 17  1  0\\n  4 22  1  0\\n  5  6  1  0\\n  5  7  1  0\\n  5  8  1  0\\n  8  9  1  0\\n  8 10  1  0\\n  8 11  1  0\\n 11 12  1  0\\n 11 13  1  0\\n 11 14  1  0\\n 14 15  1  0\\n 14 16  1  0\\n 17 18  1  0\\n 17 19  1  0\\n 20 27  2  0\\n 20 21  1  0\\n 20 29  1  0\\n 21 25  2  0\\n 22 23  2  0\\n 22 25  1  0\\n 23 24  1  0\\n 23 27  1  0\\n 25 26  1  0\\n 27 28  1  0\\nM  CHG  1  14   1\\nM  END\\n\",\"sdf\");\n",
       "\tviewer.setStyle({\"stick\": {}});\n",
       "\tviewer.setBackgroundColor(\"0xeeeeee\");\n",
       "\tviewer.zoomTo();\n",
       "viewer.render();\n",
       "});\n",
       "</script>"
      ],
      "text/plain": [
       "<IPython.core.display.HTML object>"
      ]
     },
     "execution_count": 11,
     "metadata": {},
     "output_type": "execute_result"
    }
   ],
   "source": [
    "refMol = ms[0]\n",
    "prbMol = ms[10]\n",
    "AllChem.EmbedMolecule(refMol,useExpTorsionAnglePrefs=True,useBasicKnowledge=True)\n",
    "AllChem.EmbedMolecule(prbMol,useExpTorsionAnglePrefs=True,useBasicKnowledge=True)\n",
    "\n",
    "p = py3Dmol.view(width=400,height=400)\n",
    "p.addModel(Chem.MolToMolBlock(ms[0]),'sdf')\n",
    "p.addModel(Chem.MolToMolBlock(ms[10]),'sdf')\n",
    "p.setStyle({'stick':{}})\n",
    "p.setBackgroundColor('0xeeeeee')\n",
    "p.zoomTo()\n",
    "p.show()"
   ]
  },
  {
   "cell_type": "markdown",
   "metadata": {},
   "source": [
    "Now align and display them:"
   ]
  },
  {
   "cell_type": "code",
   "execution_count": 12,
   "metadata": {
    "collapsed": false
   },
   "outputs": [
    {
     "name": "stdout",
     "output_type": "stream",
     "text": [
      "Score: 95.768, RMSD: 0.237\n"
     ]
    },
    {
     "data": {
      "text/html": [
       "<div id=\"3dmolviewer_1471285498580147\"  style=\"position: relative; width: 400px; height: 400px\">\n",
       "<script>\n",
       "if(typeof $3Dmolpromise === 'undefined') $3Dmolpromise = $.when($.getScript('http://3dmol.csb.pitt.edu/build/3Dmol.js'))\n",
       "$3Dmolpromise.done(function() {\n",
       "var viewer = $3Dmol.createViewer($(\"#3dmolviewer_1471285498580147\"),{backgroundColor:\"white\"});\n",
       "\tviewer.addModel(\"t01\\n     RDKit          3D\\n\\n 30 31  0  0  0  0  0  0  0  0999 V2000\\n   -0.7298   -0.1832    0.4795 N   0  0  0  0  0  0  0  0  0  0  0  0\\n    0.4504   -0.8736    0.0855 C   0  0  0  0  0  0  0  0  0  0  0  0\\n    1.6395   -0.1976   -0.1356 C   0  0  0  0  0  0  0  0  0  0  0  0\\n    1.6664    0.8707    0.0533 H   0  0  0  0  0  0  0  0  0  0  0  0\\n    1.6012   -2.8594   -0.5885 N   0  0  0  0  0  0  0  0  0  0  0  0\\n   -2.9449    0.8368   -0.5636 N   0  0  0  0  0  0  0  0  0  0  0  0\\n   -2.5731    0.8955   -1.5223 H   0  0  0  0  0  0  0  0  0  0  0  0\\n   -3.9257    1.1956   -0.5827 H   0  0  0  0  0  0  0  0  0  0  0  0\\n    2.7846   -0.8306   -0.5725 C   0  0  0  0  0  0  0  0  0  0  0  0\\n    0.4688   -2.2286   -0.1568 C   0  0  0  0  0  0  0  0  0  0  0  0\\n   -0.3979   -2.8383   -0.0426 H   0  0  0  0  0  0  0  0  0  0  0  0\\n   -0.7743    1.2764    0.5277 C   0  0  0  0  0  0  0  0  0  0  0  0\\n   -0.1393    1.7542   -0.2255 H   0  0  0  0  0  0  0  0  0  0  0  0\\n   -0.4524    1.5617    1.5450 H   0  0  0  0  0  0  0  0  0  0  0  0\\n   -1.9424   -0.8451    0.9076 C   0  0  0  0  0  0  0  0  0  0  0  0\\n   -1.7776   -1.9135    1.0664 H   0  0  0  0  0  0  0  0  0  0  0  0\\n   -2.2799   -0.3900    1.8877 H   0  0  0  0  0  0  0  0  0  0  0  0\\n    2.7499   -2.1914   -0.7992 C   0  0  0  0  0  0  0  0  0  0  0  0\\n    3.6626   -2.6608   -1.1405 H   0  0  0  0  0  0  0  0  0  0  0  0\\n    3.9665   -0.1382   -0.7893 O   0  0  0  0  0  0  0  0  0  0  0  0\\n   -3.0120   -0.5393   -0.1185 C   0  0  0  0  0  0  0  0  0  0  0  0\\n   -2.8133   -1.1849   -0.9974 H   0  0  0  0  0  0  0  0  0  0  0  0\\n   -3.9965   -0.7814    0.3200 H   0  0  0  0  0  0  0  0  0  0  0  0\\n   -2.2269    1.6778    0.3715 C   0  0  0  0  0  0  0  0  0  0  0  0\\n   -2.2320    2.7024   -0.0557 H   0  0  0  0  0  0  0  0  0  0  0  0\\n   -2.7423    1.7137    1.3420 H   0  0  0  0  0  0  0  0  0  0  0  0\\n    3.9792    1.2495   -0.5515 C   0  0  0  0  0  0  0  0  0  0  0  0\\n    3.7011    1.4464    0.5079 H   0  0  0  0  0  0  0  0  0  0  0  0\\n    3.2838    1.8156   -1.1786 H   0  0  0  0  0  0  0  0  0  0  0  0\\n    5.0063    1.6597   -0.7475 H   0  0  0  0  0  0  0  0  0  0  0  0\\n  1 12  1  0\\n  1 15  1  0\\n  1  2  1  0\\n  2  3  2  0\\n  2 10  1  0\\n  3  4  1  0\\n  3  9  1  0\\n  5 10  2  0\\n  5 18  1  0\\n  6  7  1  0\\n  6  8  1  0\\n  6 21  1  0\\n  6 24  1  0\\n  9 18  2  0\\n  9 20  1  0\\n 10 11  1  0\\n 12 13  1  0\\n 12 14  1  0\\n 12 24  1  0\\n 15 16  1  0\\n 15 17  1  0\\n 15 21  1  0\\n 18 19  1  0\\n 20 27  1  0\\n 21 22  1  0\\n 21 23  1  0\\n 24 25  1  0\\n 24 26  1  0\\n 27 28  1  0\\n 27 29  1  0\\n 27 30  1  0\\nM  CHG  1   6   1\\nM  END\\n\",\"sdf\");\n",
       "\tviewer.addModel(\"t11\\n     RDKit          3D\\n\\n 29 30  0  0  1  0  0  0  0  0999 V2000\\n   -2.5257   -0.2395    2.1697 C   0  0  0  0  0  0  0  0  0  0  0  0\\n   -2.9677   -0.9680    2.8894 H   0  0  0  0  0  0  0  0  0  0  0  0\\n   -1.8282    0.4086    2.7132 H   0  0  0  0  0  0  0  0  0  0  0  0\\n   -0.7502   -0.1841    0.5470 N   0  0  0  0  0  0  0  0  0  0  0  0\\n   -0.7489    1.2624    0.4750 C   0  0  0  0  0  0  0  0  0  0  0  0\\n   -0.4629    1.7471    1.4126 H   0  0  0  0  0  0  0  0  0  0  0  0\\n   -0.0099    1.6115   -0.2969 H   0  0  0  0  0  0  0  0  0  0  0  0\\n   -2.1071    1.6799   -0.0390 C   0  0  0  0  0  0  0  0  0  0  0  0\\n   -1.9906    2.6837   -0.4955 H   0  0  0  0  0  0  0  0  0  0  0  0\\n   -2.3729    0.9755   -0.8492 H   0  0  0  0  0  0  0  0  0  0  0  0\\n   -3.1713    1.7491    0.9875 C   0  0  0  0  0  0  0  0  0  0  0  0\\n   -2.8722    2.3824    1.8375 H   0  0  0  0  0  0  0  0  0  0  0  0\\n   -4.0644    2.2141    0.5334 H   0  0  0  0  0  0  0  0  0  0  0  0\\n   -3.5781    0.4640    1.5061 N   0  0  0  0  0  0  0  0  0  0  0  0\\n   -3.9694   -0.1601    0.7666 H   0  0  0  0  0  0  0  0  0  0  0  0\\n   -4.3341    0.6478    2.2047 H   0  0  0  0  0  0  0  0  0  0  0  0\\n   -1.7834   -1.0416    1.0883 C   0  0  0  0  0  0  0  0  0  0  0  0\\n   -1.2833   -1.8837    1.6133 H   0  0  0  0  0  0  0  0  0  0  0  0\\n   -2.4863   -1.3777    0.2976 H   0  0  0  0  0  0  0  0  0  0  0  0\\n    2.6258   -2.1725   -0.8346 C   0  0  0  0  0  0  0  0  0  0  0  0\\n    1.4537   -2.8087   -0.6641 N   0  0  0  0  0  0  0  0  0  0  0  0\\n    0.4277   -0.8725    0.1448 C   0  0  0  0  0  0  0  0  0  0  0  0\\n    1.6208   -0.1903   -0.0178 C   0  0  0  0  0  0  0  0  0  0  0  0\\n    1.7504    0.8436    0.2679 H   0  0  0  0  0  0  0  0  0  0  0  0\\n    0.3542   -2.2176   -0.1912 C   0  0  0  0  0  0  0  0  0  0  0  0\\n   -0.5965   -2.7079   -0.0853 H   0  0  0  0  0  0  0  0  0  0  0  0\\n    2.7327   -0.8359   -0.5117 C   0  0  0  0  0  0  0  0  0  0  0  0\\n    4.3966    0.1008   -0.7468 Br  0  0  0  0  0  0  0  0  0  0  0  0\\n    4.0470   -3.0102   -1.4671 Cl  0  0  0  0  0  0  0  0  0  0  0  0\\n  1  2  1  0\\n  1  3  1  0\\n  1 17  1  0\\n  1 14  1  0\\n  4  5  1  0\\n  4 17  1  0\\n  4 22  1  0\\n  5  6  1  0\\n  5  7  1  0\\n  5  8  1  0\\n  8  9  1  0\\n  8 10  1  0\\n  8 11  1  0\\n 11 12  1  0\\n 11 13  1  0\\n 11 14  1  0\\n 14 15  1  0\\n 14 16  1  0\\n 17 18  1  0\\n 17 19  1  0\\n 20 27  2  0\\n 20 21  1  0\\n 20 29  1  0\\n 21 25  2  0\\n 22 23  2  0\\n 22 25  1  0\\n 23 24  1  0\\n 23 27  1  0\\n 25 26  1  0\\n 27 28  1  0\\nM  CHG  1  14   1\\nM  END\\n\",\"sdf\");\n",
       "\tviewer.setStyle({\"stick\": {}});\n",
       "\tviewer.setBackgroundColor(\"0xeeeeee\");\n",
       "\tviewer.zoomTo();\n",
       "viewer.render();\n",
       "});\n",
       "</script>"
      ],
      "text/plain": [
       "<IPython.core.display.HTML object>"
      ]
     },
     "execution_count": 12,
     "metadata": {},
     "output_type": "execute_result"
    }
   ],
   "source": [
    "o3a = AllChem.GetO3A(prbMol,refMol)\n",
    "score  = o3a.Score()\n",
    "rmsd = o3a.Align()\n",
    "print(\"Score: %.3f, RMSD: %.3f\"%(score,rmsd))\n",
    "p = py3Dmol.view(width=400,height=400)\n",
    "p.addModel(Chem.MolToMolBlock(refMol),'sdf')\n",
    "p.addModel(Chem.MolToMolBlock(prbMol),'sdf')\n",
    "p.setStyle({'stick':{}})\n",
    "p.setBackgroundColor('0xeeeeee')\n",
    "p.zoomTo()\n",
    "p.show()"
   ]
  },
  {
   "cell_type": "markdown",
   "metadata": {},
   "source": [
    "There's still lots to learn here; I'm looking forward to some more experimentation."
   ]
  }
 ],
 "metadata": {
  "hide_input": false,
  "kernelspec": {
   "display_name": "Python3",
   "language": "python",
   "name": "python3"
  },
  "language_info": {
   "codemirror_mode": {
    "name": "ipython",
    "version": 3
   },
   "file_extension": ".py",
   "mimetype": "text/x-python",
   "name": "python",
   "nbconvert_exporter": "python",
   "pygments_lexer": "ipython3",
   "version": "3.5.2"
  }
 },
 "nbformat": 4,
 "nbformat_minor": 0
}
