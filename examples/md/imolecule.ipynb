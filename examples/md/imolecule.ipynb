{
 "cells": [
  {
   "cell_type": "markdown",
   "id": "fbd64908",
   "metadata": {},
   "source": [
    "# imolecule\n",
    "\n",
    "An embeddable webGL molecule viewer and file format converter.\n",
    "\n",
    "Documentation: http://patrickfuller.github.io/imolecule/"
   ]
  },
  {
   "cell_type": "code",
   "execution_count": 2,
   "id": "4242f8d2",
   "metadata": {
    "ExecuteTime": {
     "end_time": "2023-02-14T18:56:09.500081Z",
     "start_time": "2023-02-14T18:56:09.396323Z"
    }
   },
   "outputs": [
    {
     "data": {
      "text/html": [
       "<div id=\"molecule_d66aacce-e1d0-4e35-b5f6-8856366d94a4\"></div>\n",
       "           <script type=\"text/javascript\">\n",
       "           require.config({baseUrl: '/',\n",
       "                           paths: {\n",
       "                           jquery: 'https://cdnjs.cloudflare.com/ajax/libs/jquery/3.6.0/jquery.min',\n",
       "                           imolecule: ['nbextensions/imolecule.min', 'https://rawgit.com/patrickfuller/imolecule/master/imolecule/js/build/imolecule.min']}});\n",
       "           require(['imolecule'], function () {\n",
       "               var $d = $('#molecule_d66aacce-e1d0-4e35-b5f6-8856366d94a4');\n",
       "               $d.width(400); $d.height(300);\n",
       "               $d.imolecule = jQuery.extend({}, imolecule);\n",
       "               $d.imolecule.create($d, {drawingType: 'ball and stick',\n",
       "                                        cameraType: 'perspective',\n",
       "                                        shader: 'lambert',\n",
       "                                        showSave: false});\n",
       "               $d.imolecule.addElements({});\n",
       "               $d.imolecule.draw({\"atoms\":[{\"charge\":-0.04838,\"element\":\"C\",\"location\":[-4.72507,-1.41793,0.1191]},{\"charge\":0.04172,\"element\":\"C\",\"location\":[-3.22297,-1.44063,0.04643]},{\"charge\":0.13794,\"element\":\"C\",\"location\":[-2.52639,-2.60848,-0.67737]},{\"charge\":-0.27081,\"element\":\"N\",\"location\":[-1.1359,-2.0451,-0.71395]},{\"charge\":0.10052,\"element\":\"C\",\"location\":[-1.01907,-0.5377,-0.65897]},{\"charge\":-0.12729,\"element\":\"S\",\"location\":[-2.69015,-0.00923,-1.03065]},{\"charge\":0.1277,\"element\":\"C\",\"location\":[0.15789,-0.68079,-1.59404]},{\"charge\":0.24021,\"element\":\"C\",\"location\":[-0.30277,-2.12068,-1.80363]},{\"charge\":-0.27341,\"element\":\"O\",\"location\":[0.03388,-2.98445,-2.55429]},{\"charge\":-0.30149,\"element\":\"N\",\"location\":[1.47656,-0.64256,-0.86874]},{\"charge\":0.218,\"element\":\"C\",\"location\":[1.83129,0.53933,-0.28512]},{\"charge\":-0.27544,\"element\":\"O\",\"location\":[1.05867,1.49286,-0.37226]},{\"charge\":0.0491,\"element\":\"C\",\"location\":[3.18797,0.56052,0.41326]},{\"charge\":-0.03863,\"element\":\"C\",\"location\":[3.61745,1.97065,0.75171]},{\"charge\":-0.05811,\"element\":\"C\",\"location\":[4.28679,2.26658,1.94115]},{\"charge\":-0.06149,\"element\":\"C\",\"location\":[4.43849,3.60033,2.33103]},{\"charge\":-0.06174,\"element\":\"C\",\"location\":[4.00606,4.63814,1.50218]},{\"charge\":-0.06149,\"element\":\"C\",\"location\":[3.41428,4.35062,0.28236]},{\"charge\":-0.05811,\"element\":\"C\",\"location\":[3.26797,3.02878,-0.10513]},{\"charge\":0.32685,\"element\":\"C\",\"location\":[-3.09532,-3.00866,-2.09442]},{\"charge\":-0.24885,\"element\":\"O\",\"location\":[-2.40692,-3.31392,-3.05685]},{\"charge\":-0.47929,\"element\":\"O\",\"location\":[-4.42579,-3.13073,-2.25689]},{\"charge\":-0.04838,\"element\":\"C\",\"location\":[-2.64076,-1.30937,1.50222]},{\"charge\":0.02436,\"element\":\"H\",\"location\":[-5.17799,-1.34422,-0.86952]},{\"charge\":0.02436,\"element\":\"H\",\"location\":[-5.06581,-0.52956,0.65696]},{\"charge\":0.02436,\"element\":\"H\",\"location\":[-5.09257,-2.3103,0.6342]},{\"charge\":0.06306,\"element\":\"H\",\"location\":[-2.53971,-3.51253,-0.04922]},{\"charge\":0.06403,\"element\":\"H\",\"location\":[-0.73292,-0.04995,0.27785]},{\"charge\":0.06222,\"element\":\"H\",\"location\":[0.13113,-0.03739,-2.47141]},{\"charge\":0.14954,\"element\":\"H\",\"location\":[1.8737,-1.50845,-0.51218]},{\"charge\":0.04069,\"element\":\"H\",\"location\":[3.93809,0.08955,-0.2311]},{\"charge\":0.04069,\"element\":\"H\",\"location\":[3.0914,-0.03921,1.32871]},{\"charge\":0.06204,\"element\":\"H\",\"location\":[4.66362,1.4758,2.58542]},{\"charge\":0.06177,\"element\":\"H\",\"location\":[4.86513,3.83727,3.30132]},{\"charge\":0.06176,\"element\":\"H\",\"location\":[4.13433,5.6733,1.80043]},{\"charge\":0.06177,\"element\":\"H\",\"location\":[3.02513,5.13514,-0.35949]},{\"charge\":0.06204,\"element\":\"H\",\"location\":[2.78364,2.83632,-1.06107]},{\"charge\":0.29511,\"element\":\"H\",\"location\":[-5.04403,-3.05453,-1.51862]},{\"charge\":0.02436,\"element\":\"H\",\"location\":[-2.95834,-2.14705,2.13009]},{\"charge\":0.02436,\"element\":\"H\",\"location\":[-2.93716,-0.36447,1.96546]},{\"charge\":0.02436,\"element\":\"H\",\"location\":[-1.54379,-1.34729,1.57503]}],\"bonds\":[{\"atoms\":[0,1],\"order\":1},{\"atoms\":[1,2],\"order\":1},{\"atoms\":[2,3],\"order\":1},{\"atoms\":[3,4],\"order\":1},{\"atoms\":[4,5],\"order\":1},{\"atoms\":[1,5],\"order\":1},{\"atoms\":[4,6],\"order\":1},{\"atoms\":[6,7],\"order\":1},{\"atoms\":[3,7],\"order\":1},{\"atoms\":[7,8],\"order\":2},{\"atoms\":[6,9],\"order\":1},{\"atoms\":[9,10],\"order\":1},{\"atoms\":[10,11],\"order\":2},{\"atoms\":[10,12],\"order\":1},{\"atoms\":[12,13],\"order\":1},{\"atoms\":[13,14],\"order\":2},{\"atoms\":[14,15],\"order\":1},{\"atoms\":[15,16],\"order\":2},{\"atoms\":[16,17],\"order\":1},{\"atoms\":[17,18],\"order\":2},{\"atoms\":[13,18],\"order\":1},{\"atoms\":[2,19],\"order\":1},{\"atoms\":[19,20],\"order\":2},{\"atoms\":[19,21],\"order\":1},{\"atoms\":[1,22],\"order\":1},{\"atoms\":[0,23],\"order\":1},{\"atoms\":[0,24],\"order\":1},{\"atoms\":[0,25],\"order\":1},{\"atoms\":[2,26],\"order\":1},{\"atoms\":[4,27],\"order\":1},{\"atoms\":[6,28],\"order\":1},{\"atoms\":[9,29],\"order\":1},{\"atoms\":[12,30],\"order\":1},{\"atoms\":[12,31],\"order\":1},{\"atoms\":[14,32],\"order\":1},{\"atoms\":[15,33],\"order\":1},{\"atoms\":[16,34],\"order\":1},{\"atoms\":[17,35],\"order\":1},{\"atoms\":[18,36],\"order\":1},{\"atoms\":[21,37],\"order\":1},{\"atoms\":[22,38],\"order\":1},{\"atoms\":[22,39],\"order\":1},{\"atoms\":[22,40],\"order\":1}],\"formula\":\"C16H18N2O4S\",\"molecular_weight\":334.39012,\"units\":{\"molecular_weight\":\"g / mol\"}});\n",
       "\n",
       "               $d.resizable({\n",
       "                   aspectRatio: 400 / 300,\n",
       "                   resize: function (evt, ui) {\n",
       "                       $d.imolecule.renderer.setSize(ui.size.width,\n",
       "                                                     ui.size.height);\n",
       "                   }\n",
       "               });\n",
       "           });\n",
       "           </script>"
      ],
      "text/plain": [
       "<IPython.core.display.HTML object>"
      ]
     },
     "metadata": {},
     "output_type": "display_data"
    }
   ],
   "source": [
    "import imolecule\n",
    "imolecule.draw(\"CC1(C(N2C(S1)C(C2=O)NC(=O)CC3=CC=CC=C3)C(=O)O)C\")"
   ]
  },
  {
   "cell_type": "code",
   "execution_count": null,
   "id": "c8b1f57b",
   "metadata": {},
   "outputs": [],
   "source": []
  }
 ],
 "metadata": {
  "kernelspec": {
   "display_name": "Python 3 (ipykernel)",
   "language": "python",
   "name": "python3"
  },
  "language_info": {
   "codemirror_mode": {
    "name": "ipython",
    "version": 3
   },
   "file_extension": ".py",
   "mimetype": "text/x-python",
   "name": "python",
   "nbconvert_exporter": "python",
   "pygments_lexer": "ipython3",
   "version": "3.8.10"
  },
  "toc": {
   "base_numbering": 1,
   "nav_menu": {},
   "number_sections": true,
   "sideBar": true,
   "skip_h1_title": false,
   "title_cell": "Table of Contents",
   "title_sidebar": "Contents",
   "toc_cell": false,
   "toc_position": {},
   "toc_section_display": true,
   "toc_window_display": false
  },
  "varInspector": {
   "cols": {
    "lenName": 16,
    "lenType": 16,
    "lenVar": 40
   },
   "kernels_config": {
    "python": {
     "delete_cmd_postfix": "",
     "delete_cmd_prefix": "del ",
     "library": "var_list.py",
     "varRefreshCmd": "print(var_dic_list())"
    },
    "r": {
     "delete_cmd_postfix": ") ",
     "delete_cmd_prefix": "rm(",
     "library": "var_list.r",
     "varRefreshCmd": "cat(var_dic_list()) "
    }
   },
   "types_to_exclude": [
    "module",
    "function",
    "builtin_function_or_method",
    "instance",
    "_Feature"
   ],
   "window_display": false
  }
 },
 "nbformat": 4,
 "nbformat_minor": 5
}
