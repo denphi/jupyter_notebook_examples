{
 "cells": [
  {
   "cell_type": "markdown",
   "metadata": {},
   "source": [
    "# Example Notebooks\n",
    "\n",
    "There are many excellent examples of Jupyter notebooks on the internet.  The ones below are included as test cases or because they demonstrate the packages and extensions installed in our notebook server."
   ]
  },
  {
   "cell_type": "markdown",
   "metadata": {},
   "source": [
    "## [Atoms and Molecules](md/Index.ipynb)\n",
    "\n",
    "## Interactive Widgets\n",
    "\n",
    "These examples use interactive widgets like sliders and buttons.\n",
    "* [ipywidgets](ipywidgets/Index.ipynb):  Examples from the ipywidgets repository. Start here to learn the basics.\n",
    "* [Gaussian 1D](math/Gaussian 1D/Gaussian 1D.ipynb): Gaussian Process Regression Demo. \n",
    "\n",
    "\n",
    "## Math\n",
    "\n",
    "* [integration](math/integration/integration.ipynb): Symbolic and Numerical integration example.\n",
    "* [sympy](math/sympy.ipynb): SymPy: Open Source Symbolic Mathematics\n",
    "* [fipy](math/mesh20x20/mesh20x20.ipynb): FiPy: A Finite Volume PDE Solver Example\n",
    "\n",
    "## Matlab and Octave\n",
    "\n",
    "Currently only Octave notebooks are working, but we will support Matlab in the future.  However, \n",
    "due to license restrictions, only Purdue community members will be able to run Matlab.\n",
    "\n",
    "* [octave_1](matlab/octave_1.ipynb): Octave Notebook\n",
    "* [octave_2](matlab/octave_2.ipynb): Octave Notebook 2\n",
    "* [octave_python_test](matlab/octave_python_test.ipynb): Mixing Octave and Python\n",
    "\n",
    "## Physics\n",
    "\n",
    "* [nanoparticle](physics/SWModelNotebook/SWModelNotebook.ipynb): The Stoner-Wohlfarth Model for a single domain magnetic nanoparticle\n",
    "* [oommf](physics/oommf): Object Oriented MicroMagnetic Framework (OOMMF) Notebooks"
   ]
  },
  {
   "cell_type": "markdown",
   "metadata": {},
   "source": [
    "## Tools\n",
    "Tools are notebooks that have the controls and source code removed.  They are meant to be run similar to Rappture tools.  They can be published just like Rappture tools.\n",
    "\n",
    "For python notebooks, simple GUIs like Rappture provides can be constructed with [hublib](http://hublib.readthedocs.io/en/latest/intro.html).\n",
    "\n",
    "* [proteindemo](https://nanohub.org/tools/proteindemo): A published tool. Just a demo.\n",
    "* [proteindemo sources](tools/proteindemo): Sources. Look in bin for the notebook.\n",
    "\n",
    "\n",
    "* [gptool2](https://nanohub.org/tools/gptool2): Another published tool.\n",
    "* [gptool2 sources](tools/gptool2): Sources. Look in bin for the notebook."
   ]
  },
  {
   "cell_type": "code",
   "execution_count": null,
   "metadata": {
    "collapsed": true
   },
   "outputs": [],
   "source": []
  },
  {
   "cell_type": "code",
   "execution_count": null,
   "metadata": {
    "collapsed": true
   },
   "outputs": [],
   "source": []
  }
 ],
 "metadata": {
  "kernelspec": {
   "display_name": "Python3",
   "language": "python",
   "name": "python3"
  },
  "language_info": {
   "codemirror_mode": {
    "name": "ipython",
    "version": 3
   },
   "file_extension": ".py",
   "mimetype": "text/x-python",
   "name": "python",
   "nbconvert_exporter": "python",
   "pygments_lexer": "ipython3",
   "version": "3.5.2"
  }
 },
 "nbformat": 4,
 "nbformat_minor": 0
}
