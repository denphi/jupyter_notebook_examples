{
 "cells": [
  {
   "cell_type": "markdown",
   "metadata": {},
   "source": [
    "# Example Notebooks\n",
    "\n",
    "There are many excellent examples of Jupyter notebooks on the internet.  The ones below are included as test cases or because they demonstrate the packages and extensions installed in our notebook server."
   ]
  },
  {
   "cell_type": "markdown",
   "metadata": {},
   "source": [
    "## [Atoms and Molecules](md/Index.ipynb)\n",
    "\n",
    "## [Extensions](extensions)\n",
    "* [TutorMagic](extensions/TutorMagic.ipynb)\n",
    "\n",
    "## GUI Building\n",
    "\n",
    "* [ipywidgets](ipywidgets/Index.ipynb):  Examples from the ipywidgets repository. Start here to learn the basics.\n",
    "* [Intro](GUI/intro.ipynb): Introduction to building GUIs in notebooks\n",
    "\n",
    "## Math\n",
    "\n",
    "* [integration](math/integration/integration.ipynb): Symbolic and Numerical integration example.\n",
    "* [sympy](math/sympy.ipynb): SymPy: Open Source Symbolic Mathematics\n",
    "* [fipy](math/mesh20x20/mesh20x20.ipynb): FiPy: A Finite Volume PDE Solver Example\n",
    "\n",
    "## Matlab and Octave\n",
    "\n",
    "Currently only Octave notebooks are working, but we will support Matlab in the future.  However, \n",
    "due to license restrictions, only Purdue community members will be able to run Matlab.\n",
    "\n",
    "* [octave_1](matlab/octave_1.ipynb): Octave Notebook\n",
    "* [octave_2](matlab/octave_2.ipynb): Octave Notebook 2\n",
    "* [octave_python_test](matlab/octave_python_test.ipynb): Mixing Octave and Python\n",
    "\n",
    "## Physics\n",
    "\n",
    "* [nanoparticle](physics/SWModelNotebook/SWModelNotebook.ipynb): The Stoner-Wohlfarth Model for a single domain magnetic nanoparticle\n",
    "* [oommf](physics/oommf): Object Oriented MicroMagnetic Framework (OOMMF) Notebooks\n"
   ]
  }
 ],
 "metadata": {
  "kernelspec": {
   "display_name": "Python3",
   "language": "python",
   "name": "python3"
  },
  "language_info": {
   "codemirror_mode": {
    "name": "ipython",
    "version": 3
   },
   "file_extension": ".py",
   "mimetype": "text/x-python",
   "name": "python",
   "nbconvert_exporter": "python",
   "pygments_lexer": "ipython3",
   "version": "3.5.3"
  }
 },
 "nbformat": 4,
 "nbformat_minor": 1
}
