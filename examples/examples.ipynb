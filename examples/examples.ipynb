{
 "cells": [
  {
   "cell_type": "markdown",
   "metadata": {},
   "source": [
    "# Example Notebooks\n",
    "\n",
    "There are many excellent examples of Jupyter notebooks on the internet.  The ones below are included as test cases or because they demonstrate the packages and extensions installed in our notebook server."
   ]
  },
  {
   "cell_type": "markdown",
   "metadata": {},
   "source": [
    "## [Atoms and Molecules](md/Index.ipynb)\n",
    "\n",
    "## Interactive Widgets\n",
    "\n",
    "These examples use interactive widgets like sliders and buttons.\n",
    "* [ipywidgets](ipywidgets/Index.ipynb):  Examples from the ipywidgets repository. Start here to learn the basics.\n",
    "* [Gaussian 1D](math/Gaussian 1D/Gaussian 1D.ipynb): Gaussian Process Regression Demo. \n",
    "* [SWModelNotebook](SWModelNotebook/SWModelNotebook.ipynb): The Stoner-Wohlfarth Model for a single domain magnetic nanoparticle\n",
    "\n",
    "## Math\n",
    "\n",
    "* [integration](math/integration/integration.ipynb): Symbolic and Numerical integration example.\n",
    "* [sympy](math/sympy.ipynb): SymPy: Open Source Symbolic Mathematics\n",
    "* [fipy](math/mesh20x20/mesh20x20.ipynb): FiPy: A Finite Volume PDE Solver Example\n",
    "\n",
    "## Physics\n",
    "\n",
    "* [nanoparticle](SWModelNotebook.ipynb): The Stoner-Wohlfarth Model for a single domain magnetic nanoparticle"
   ]
  },
  {
   "cell_type": "markdown",
   "metadata": {},
   "source": [
    "## Tools\n",
    "Tools are notebooks that have the controls and source code removed.  They are meant to be run similar to Rappture tools.  We intend to allow them to be published just like Rappture tools.  The below tools are just proof-of-concept and will likely change significantly in the future.\n",
    "* [nanoplasticity](tools/nanoplasticity/nanoplasticity.ipynb): NanoPlasticity Lab\n",
    "* [rosenbrock](math/rosenbrock/rosenbrock.ipynb): Rosenbrock Function UQ Test"
   ]
  }
 ],
 "metadata": {
  "kernelspec": {
   "display_name": "Python3",
   "language": "python",
   "name": "python3"
  },
  "language_info": {
   "codemirror_mode": {
    "name": "ipython",
    "version": 3
   },
   "file_extension": ".py",
   "mimetype": "text/x-python",
   "name": "python",
   "nbconvert_exporter": "python",
   "pygments_lexer": "ipython3",
   "version": "3.5.2"
  }
 },
 "nbformat": 4,
 "nbformat_minor": 0
}
