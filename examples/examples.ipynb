{
 "cells": [
  {
   "cell_type": "markdown",
   "metadata": {
    "extensions": {
     "jupyter_dashboards": {
      "version": 1,
      "views": {
       "grid_default": {
        "col": 0,
        "height": 4,
        "hidden": false,
        "row": 0,
        "width": 12
       },
       "report_default": {
        "hidden": false
       }
      }
     }
    }
   },
   "source": [
    "# Example Notebooks\n",
    "\n",
    "There are many excellent examples of Jupyter notebooks on the internet.  The ones below are included as test cases or because they demonstrate the packages and extensions installed in our notebook server.\n",
    "\n",
    "These examples run on nanoHUB, but different hubs may have different packages installed."
   ]
  },
  {
   "cell_type": "markdown",
   "metadata": {
    "extensions": {
     "jupyter_dashboards": {
      "version": 1,
      "views": {
       "grid_default": {
        "col": 0,
        "height": 13,
        "hidden": false,
        "row": 8,
        "width": 12
       },
       "report_default": {
        "hidden": false
       }
      }
     }
    }
   },
   "source": [
    "## Atoms and Molecules\n",
    "* [Overview](md/Index.ipynb) \n",
    "* [atomman](md/atomman/Basics.ipynb)\n",
    "* [nglview](md/nglview1.ipynb)\n",
    "* [py3dmol](md/py3dmol_1.ipynb)\n",
    "* [ipyspeck](md/ipyspeck.ipynb)\n",
    "\n",
    "\n",
    "## GUI Building\n",
    "\n",
    "* [Intro](GUI/intro.ipynb): Introduction to building GUIs in notebooks\n",
    "* [Submit](misc/Submit.ipynb) takes a user command and executes it remotely on a cluster or grid. The objective is to allow the user to issue a command in the same manner as a locally executed command. Multiple submission mechanisms are available for run dissemination. \n",
    "\n",
    "## Math\n",
    "\n",
    "* [integration](math/integration.ipynb): Symbolic and Numerical integration example.\n",
    "* [sympy](math/sympy.ipynb): SymPy: Open Source Symbolic Mathematic\n",
    "* [spiro](math/spiro.ipynb): Spirograph\n",
    "* [spiro3D](math/spiro3D_plotly.ipynb): 3D spirograph with Plotly\n",
    "\n",
    "## Matlab\n",
    "\n",
    "* [matlab_1](matlab/matlab_1.ipynb): Matlab Notebook\n",
    "* [matlab_2](matlab/matlab_2.ipynb): Matlab Notebook 2\n",
    "\n",
    "## Data\n",
    "* [Pandas](GUI/pandas.ipynb) pandas visualization. \n",
    "* [Pandas workshow](GUI/pandas/notebooks/1-getting_started_with_pandas.ipynb) created by Stefanie Molin https://github.com/stefmolin/pandas-workshop\n",
    "* [Floatview](GUI/floatview.ipynb), [Floatview Modal](GUI/floatview_modal.ipynb) visual data exploration. \n",
    "\n",
    "## Plotting\n",
    "\n",
    "* [Overview](plot/index.ipynb)\n",
    "* [Seaborn](plot/seaborn.ipynb)\n",
    "* [Bokeh](plot/bokeh.ipynb)\n",
    "* [Plotly](plot/plotly.ipynb)"
   ]
  },
  {
   "cell_type": "markdown",
   "metadata": {
    "extensions": {
     "jupyter_dashboards": {
      "version": 1,
      "views": {
       "grid_default": {
        "col": 8,
        "height": 6,
        "hidden": false,
        "row": 21,
        "width": 4
       },
       "report_default": {
        "hidden": false
       }
      }
     }
    }
   },
   "source": []
  },
  {
   "cell_type": "code",
   "execution_count": null,
   "metadata": {},
   "outputs": [],
   "source": []
  }
 ],
 "metadata": {
  "extensions": {
   "jupyter_dashboards": {
    "activeView": "report_default",
    "version": 1,
    "views": {
     "grid_default": {
      "cellMargin": 10,
      "defaultCellHeight": 20,
      "maxColumns": 12,
      "name": "grid",
      "type": "grid"
     },
     "report_default": {
      "name": "report",
      "type": "report"
     }
    }
   }
  },
  "kernelspec": {
   "display_name": "Python 3 (ipykernel)",
   "language": "python",
   "name": "python3"
  },
  "language_info": {
   "codemirror_mode": {
    "name": "ipython",
    "version": 3
   },
   "file_extension": ".py",
   "mimetype": "text/x-python",
   "name": "python",
   "nbconvert_exporter": "python",
   "pygments_lexer": "ipython3",
   "version": "3.8.10"
  },
  "toc": {
   "base_numbering": 1,
   "nav_menu": {},
   "number_sections": true,
   "sideBar": true,
   "skip_h1_title": false,
   "title_cell": "Table of Contents",
   "title_sidebar": "Contents",
   "toc_cell": false,
   "toc_position": {},
   "toc_section_display": true,
   "toc_window_display": false
  },
  "tool": false,
  "varInspector": {
   "cols": {
    "lenName": 16,
    "lenType": 16,
    "lenVar": 40
   },
   "kernels_config": {
    "python": {
     "delete_cmd_postfix": "",
     "delete_cmd_prefix": "del ",
     "library": "var_list.py",
     "varRefreshCmd": "print(var_dic_list())"
    },
    "r": {
     "delete_cmd_postfix": ") ",
     "delete_cmd_prefix": "rm(",
     "library": "var_list.r",
     "varRefreshCmd": "cat(var_dic_list()) "
    }
   },
   "types_to_exclude": [
    "module",
    "function",
    "builtin_function_or_method",
    "instance",
    "_Feature"
   ],
   "window_display": false
  }
 },
 "nbformat": 4,
 "nbformat_minor": 1
}
