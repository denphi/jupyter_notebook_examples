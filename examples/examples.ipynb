{
 "cells": [
  {
   "cell_type": "markdown",
   "metadata": {
    "extensions": {
     "jupyter_dashboards": {
      "version": 1,
      "views": {
       "grid_default": {
        "col": 0,
        "height": 4,
        "hidden": false,
        "row": 0,
        "width": 12
       },
       "report_default": {
        "hidden": false
       }
      }
     }
    }
   },
   "source": [
    "# Example Notebooks\n",
    "\n",
    "There are many excellent examples of Jupyter notebooks on the internet.  The ones below are included as test cases or because they demonstrate the packages and extensions installed in our notebook server."
   ]
  },
  {
   "cell_type": "code",
   "execution_count": 13,
   "metadata": {
    "extensions": {
     "jupyter_dashboards": {
      "version": 1,
      "views": {
       "grid_default": {
        "hidden": true
       },
       "report_default": {
        "hidden": true
       }
      }
     }
    }
   },
   "outputs": [],
   "source": [
    "from IPython.display import Markdown\n",
    "hostname, = !hostname"
   ]
  },
  {
   "cell_type": "code",
   "execution_count": 14,
   "metadata": {
    "extensions": {
     "jupyter_dashboards": {
      "version": 1,
      "views": {
       "grid_default": {
        "col": 0,
        "height": 4,
        "hidden": false,
        "row": 4,
        "width": 4
       },
       "report_default": {
        "hidden": false
       }
      }
     }
    }
   },
   "outputs": [
    {
     "data": {
      "text/markdown": [
       "## [Atoms and Molecules](md/Index.ipynb)"
      ],
      "text/plain": [
       "<IPython.core.display.Markdown object>"
      ]
     },
     "metadata": {},
     "output_type": "display_data"
    }
   ],
   "source": [
    "if hostname == 'nanoHUB': \n",
    "    display(Markdown('## [Atoms and Molecules](md/Index.ipynb)'))"
   ]
  },
  {
   "cell_type": "markdown",
   "metadata": {
    "extensions": {
     "jupyter_dashboards": {
      "version": 1,
      "views": {
       "grid_default": {
        "col": 0,
        "height": 13,
        "hidden": false,
        "row": 8,
        "width": 12
       },
       "report_default": {
        "hidden": false
       }
      }
     }
    }
   },
   "source": [
    "## GUI Building\n",
    "\n",
    "* [Intro](GUI/intro.ipynb): Introduction to building GUIs in notebooks\n",
    "\n",
    "## Math\n",
    "\n",
    "* [integration](math/integration/integration.ipynb): Symbolic and Numerical integration example.\n",
    "* [sympy](math/sympy.ipynb): SymPy: Open Source Symbolic Mathematics\n",
    "* [fipy](math/mesh20x20/mesh20x20.ipynb): FiPy: A Finite Volume PDE Solver Example\n",
    "\n",
    "## Matlab and Octave\n",
    "\n",
    "Currently only Octave notebooks are working, but we will support Matlab in the future.  However, \n",
    "due to license restrictions, only Purdue community members will be able to run Matlab.\n",
    "\n",
    "* [octave_1](matlab/octave_1.ipynb): Octave Notebook\n",
    "* [octave_2](matlab/octave_2.ipynb): Octave Notebook 2\n",
    "* [octave_python_test](matlab/octave_python_test.ipynb): Mixing Octave and Python"
   ]
  },
  {
   "cell_type": "code",
   "execution_count": 20,
   "metadata": {
    "extensions": {
     "jupyter_dashboards": {
      "version": 1,
      "views": {
       "grid_default": {
        "col": 0,
        "height": 6,
        "hidden": false,
        "row": 21,
        "width": 4
       },
       "report_default": {
        "hidden": false
       }
      }
     }
    }
   },
   "outputs": [
    {
     "data": {
      "text/markdown": [
       "## Physics\n",
       "\n",
       "* [nanoparticle](physics/SWModelNotebook/SWModelNotebook.ipynb): The Stoner-Wohlfarth Model for a single domain magnetic nanoparticle\n",
       "* [oommf](physics/oommf): Object Oriented MicroMagnetic Framework (OOMMF) Notebooks\n"
      ],
      "text/plain": [
       "<IPython.core.display.Markdown object>"
      ]
     },
     "metadata": {},
     "output_type": "display_data"
    }
   ],
   "source": [
    "phy = '''## Physics\n",
    "\n",
    "* [nanoparticle](physics/SWModelNotebook/SWModelNotebook.ipynb): The Stoner-Wohlfarth Model for a single domain magnetic nanoparticle\n",
    "* [oommf](physics/oommf): Object Oriented MicroMagnetic Framework (OOMMF) Notebooks\n",
    "'''\n",
    "if hostname == 'nanoHUB': \n",
    "    display(Markdown(phy))"
   ]
  },
  {
   "cell_type": "markdown",
   "metadata": {
    "extensions": {
     "jupyter_dashboards": {
      "version": 1,
      "views": {
       "grid_default": {
        "col": 4,
        "height": 4,
        "hidden": false,
        "row": 4,
        "width": 4
       },
       "report_default": {
        "hidden": false
       }
      }
     }
    }
   },
   "source": [
    "## Plotting\n",
    "\n",
    "* [Overview](plot/index.ipynb)"
   ]
  },
  {
   "cell_type": "code",
   "execution_count": 19,
   "metadata": {
    "extensions": {
     "jupyter_dashboards": {
      "version": 1,
      "views": {
       "grid_default": {
        "col": 4,
        "height": 7,
        "hidden": false,
        "row": 21,
        "width": 4
       },
       "report_default": {
        "hidden": false
       }
      }
     }
    }
   },
   "outputs": [
    {
     "data": {
      "text/markdown": [
       "## Rappture\n",
       "\n",
       "[Rappture](https://nanohub.org/infrastructure/rappture/) is the tool development infrastructure for nanoHUB.\n",
       "It is no longer being developed, but it is still supported.  You can run Rappture tools from a notebook, \n",
       "setting inputs and visualizing outputs.  For examples,\n",
       "* [Examples of Rappture Integration](rappture/index.ipynb)\n"
      ],
      "text/plain": [
       "<IPython.core.display.Markdown object>"
      ]
     },
     "metadata": {},
     "output_type": "display_data"
    }
   ],
   "source": [
    "rap = '''## Rappture\n",
    "\n",
    "[Rappture](https://nanohub.org/infrastructure/rappture/) is the tool development infrastructure for nanoHUB.\n",
    "It is no longer being developed, but it is still supported.  You can run Rappture tools from a notebook, \n",
    "setting inputs and visualizing outputs.  For examples,\n",
    "* [Examples of Rappture Integration](rappture/index.ipynb)\n",
    "'''\n",
    "if hostname == 'nanoHUB': \n",
    "    display(Markdown(rap))"
   ]
  },
  {
   "cell_type": "code",
   "execution_count": 18,
   "metadata": {
    "extensions": {
     "jupyter_dashboards": {
      "version": 1,
      "views": {
       "grid_default": {
        "col": 8,
        "height": 6,
        "hidden": false,
        "row": 21,
        "width": 4
       },
       "report_default": {
        "hidden": false
       }
      }
     }
    }
   },
   "outputs": [
    {
     "data": {
      "text/markdown": [
       "## Submit\n",
       "* [Submit](misc/Submit.ipynb) takes a user command and executes it remotely on a cluster or grid. The objective is to allow the user to issue a command in the same manner as a locally executed command. Multiple submission mechanisms are available for run dissemination. \n"
      ],
      "text/plain": [
       "<IPython.core.display.Markdown object>"
      ]
     },
     "metadata": {},
     "output_type": "display_data"
    }
   ],
   "source": [
    "submit = '''## Submit\n",
    "* [Submit](misc/Submit.ipynb) takes a user command and executes it remotely on a cluster or grid. The objective is to allow the user to issue a command in the same manner as a locally executed command. Multiple submission mechanisms are available for run dissemination. \n",
    "'''\n",
    "try:\n",
    "    from hubzero.submit.SubmitCommand import SubmitCommand\n",
    "    display(Markdown(submit))\n",
    "except:\n",
    "    pass"
   ]
  }
 ],
 "metadata": {
  "extensions": {
   "jupyter_dashboards": {
    "activeView": "report_default",
    "version": 1,
    "views": {
     "grid_default": {
      "cellMargin": 10,
      "defaultCellHeight": 20,
      "maxColumns": 12,
      "name": "grid",
      "type": "grid"
     },
     "report_default": {
      "name": "report",
      "type": "report"
     }
    }
   }
  },
  "kernelspec": {
   "display_name": "Python3",
   "language": "python",
   "name": "python3"
  },
  "language_info": {
   "codemirror_mode": {
    "name": "ipython",
    "version": 3
   },
   "file_extension": ".py",
   "mimetype": "text/x-python",
   "name": "python",
   "nbconvert_exporter": "python",
   "pygments_lexer": "ipython3",
   "version": "3.6.4"
  },
  "tool": false
 },
 "nbformat": 4,
 "nbformat_minor": 1
}
