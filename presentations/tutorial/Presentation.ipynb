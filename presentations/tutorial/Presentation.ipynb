{
 "cells": [
  {
   "cell_type": "markdown",
   "metadata": {
    "slideshow": {
     "slide_type": "slide"
    }
   },
   "source": [
    "# <center>Jupyter Notebooks for Scientific Programming</center>\n",
    "<p>\n",
    "<center>Martin Hunt <mmh@purdue.edu></center>\n",
    "<p>\n",
    "\n",
    "<center>https://nanohub.org/tools/jupyter</center>\n",
    "\n",
    "\n",
    "\n"
   ]
  },
  {
   "cell_type": "markdown",
   "metadata": {
    "collapsed": false,
    "scrolled": true,
    "slideshow": {
     "slide_type": "slide"
    }
   },
   "source": [
    "# What are Jupyter Notebooks?\n",
    "* A Web-based interactive computing system.\n",
    "* Code, results and narrative in one place.\n",
    "* Full power of modern web browsers."
   ]
  },
  {
   "cell_type": "markdown",
   "metadata": {
    "slideshow": {
     "slide_type": "slide"
    }
   },
   "source": [
    "<h1>What Is It?</h1>\n",
    " <p>The Ipython Notebook is a web application that allows you to create and share documents that contain live code, equations, visualizations and explanatory text. Uses include: data cleaning and transformation, numerical simulation, statistical modeling, machine learning and much more.</p>\n",
    "<img src=\"jupyterpreview.png\"/>"
   ]
  },
  {
   "cell_type": "markdown",
   "metadata": {
    "slideshow": {
     "slide_type": "slide"
    }
   },
   "source": [
    "* http://nbviewer.jupyter.org/github/barbagroup/CFDPython/blob/master/lessons/01_Step_1.ipynb\n",
    "* https://github.com/unpingco/Python-for-Signal-Processing/blob/master/BanachMatchbox.ipynb\n",
    "* https://github.com/cossatot/lanf_earthquake_likelihood/blob/master/notebooks/lanf_manuscript_notebook.ipynb\n",
    "* https://github.com/Unidata/notebook-gallery/blob/master/notebooks/Plotting_GINI_Water_Vapor_Imagery_Part1.ipynb\n"
   ]
  },
  {
   "cell_type": "markdown",
   "metadata": {
    "slideshow": {
     "slide_type": "slide"
    }
   },
   "source": [
    "# Why Use Them?"
   ]
  },
  {
   "cell_type": "markdown",
   "metadata": {
    "slideshow": {
     "slide_type": "fragment"
    }
   },
   "source": [
    "##  For Personal Use"
   ]
  },
  {
   "cell_type": "markdown",
   "metadata": {
    "slideshow": {
     "slide_type": "fragment"
    }
   },
   "source": [
    "* Experimental data analysis\n",
    "    * Automatically documents your steps\n",
    "    * Interactivity and easy visualization makes development quicker"
   ]
  },
  {
   "cell_type": "markdown",
   "metadata": {
    "slideshow": {
     "slide_type": "fragment"
    }
   },
   "source": [
    "* Reproducibility\n",
    "    * Mix code, equations, data and visualization seamlessly.\n",
    "    * Tweak and rerun at any time."
   ]
  },
  {
   "cell_type": "markdown",
   "metadata": {
    "slideshow": {
     "slide_type": "slide"
    }
   },
   "source": [
    "## Sharing\n",
    "\n",
    "* Easy to Share and Publish"
   ]
  },
  {
   "cell_type": "markdown",
   "metadata": {
    "slideshow": {
     "slide_type": "subslide"
    }
   },
   "source": [
    "## Sharing (cont)\n",
    "\n",
    "* Tutorials.\n",
    "    * Probably the most common use case.\n",
    "    * Allows others to follow your analysis step-by-step."
   ]
  },
  {
   "cell_type": "markdown",
   "metadata": {
    "slideshow": {
     "slide_type": "subslide"
    }
   },
   "source": [
    "* Books\n",
    "    * [Probabilistic Programming and Bayesian Methods for Hackers](http://camdavidsonpilon.github.io/Probabilistic-Programming-and-Bayesian-Methods-for-Hackers/)\n",
    "    * [Python for Signal Processing: Featuring IPython Notebooks](http://www.amazon.com/Python-Signal-Processing-Featuring-Notebooks/dp/3319013416)\n",
    "    * [Notebooks on GitHub](http://github.com/unpingco/Python-for-Signal-Processing)"
   ]
  },
  {
   "cell_type": "markdown",
   "metadata": {
    "slideshow": {
     "slide_type": "subslide"
    }
   },
   "source": [
    "* Reproducible Research\n",
    "    * Allows others to follow your analysis step-by-step.\n",
    "    * They are free to tweak your analysis and verify or improve upon it.\n",
    "    * [Many Examples](https://github.com/ipython/ipython/wiki/A-gallery-of-interesting-IPython-Notebooks#reproducible-academic-publications)"
   ]
  },
  {
   "cell_type": "markdown",
   "metadata": {
    "slideshow": {
     "slide_type": "subslide"
    }
   },
   "source": [
    "* Tools (Simulations)\n",
    "    * A more-flexible, less structured alternative to Rappture"
   ]
  },
  {
   "cell_type": "markdown",
   "metadata": {
    "slideshow": {
     "slide_type": "slide"
    }
   },
   "source": [
    "# Tutorial\n",
    "\n",
    "* Launching the Notebook Server\n",
    "* Creating a notebook\n",
    "    * spirograph\n",
    "    * markdown cells\n",
    "    * code cells\n",
    "    * running/moving/editing cells\n",
    "    * saving/copying/printing\n",
    "    * slideshow\n",
    "* Create a folder and Upload\n",
    "    * factorial\n",
    "* Edit Files\n",
    "* Terminal\n",
    "* Running notebooks / Terminate"
   ]
  },
  {
   "cell_type": "markdown",
   "metadata": {
    "slideshow": {
     "slide_type": "slide"
    }
   },
   "source": [
    "# Demo - nanoHUB\n",
    "* https://nanohub.org/tools/oommfnotebooks/\n",
    "* https://nanohub.org/tools/gptool2/"
   ]
  },
  {
   "cell_type": "markdown",
   "metadata": {
    "slideshow": {
     "slide_type": "slide"
    }
   },
   "source": [
    "# hublib\n",
    "\n",
    "* http://hublib.readthedocs.io/en/latest/intro.html"
   ]
  },
  {
   "cell_type": "markdown",
   "metadata": {
    "slideshow": {
     "slide_type": "slide"
    }
   },
   "source": [
    "## Jupyter vs Rappture for Tools\n",
    "\n",
    "* Rappture Pros\n",
    "    * Better documentation\n",
    "    * Standard input and output GUI\n",
    "\n",
    "* Jupyter Pros\n",
    "    * Many many more visualization options \n",
    "        * (= more confusion?)\n",
    "    * Can be used to run Rappture tools\n",
    "    * Full access to browser (WebGL, Audio, Video, Location)"
   ]
  },
  {
   "cell_type": "markdown",
   "metadata": {
    "slideshow": {
     "slide_type": "slide"
    }
   },
   "source": [
    "## Jupyter on nanoHUB Advantages\n",
    "* Comes with huge library of installed scientific libraries and many extensions\n",
    "* Easy Sharing\n",
    "    * No need to install exact version of Jupyter\n",
    "    * No need to install correct python version and all scientific libraries\n",
    "    * No need to install notebook extensions\n",
    "* Publishing\n",
    "* Tool Mode"
   ]
  },
  {
   "cell_type": "markdown",
   "metadata": {
    "slideshow": {
     "slide_type": "slide"
    }
   },
   "source": [
    "# Tools and Future\n",
    "* https://github.com/jupyter-incubator/dashboards"
   ]
  },
  {
   "cell_type": "code",
   "execution_count": null,
   "metadata": {
    "collapsed": true
   },
   "outputs": [],
   "source": []
  }
 ],
 "metadata": {
  "celltoolbar": "Slideshow",
  "kernelspec": {
   "display_name": "Python2",
   "language": "python",
   "name": "python2"
  },
  "language_info": {
   "codemirror_mode": {
    "name": "ipython",
    "version": 2
   },
   "file_extension": ".py",
   "mimetype": "text/x-python",
   "name": "python",
   "nbconvert_exporter": "python",
   "pygments_lexer": "ipython2",
   "version": "2.7.13"
  }
 },
 "nbformat": 4,
 "nbformat_minor": 0
}
